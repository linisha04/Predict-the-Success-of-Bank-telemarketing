{
 "cells": [
  {
   "cell_type": "code",
   "execution_count": 1,
   "id": "6a290faa",
   "metadata": {
    "_cell_guid": "b1076dfc-b9ad-4769-8c92-a6c4dae69d19",
    "_uuid": "8f2839f25d086af736a60e9eeb907d3b93b6e0e5",
    "execution": {
     "iopub.execute_input": "2024-11-09T17:49:51.481249Z",
     "iopub.status.busy": "2024-11-09T17:49:51.480660Z",
     "iopub.status.idle": "2024-11-09T17:49:52.576782Z",
     "shell.execute_reply": "2024-11-09T17:49:52.575598Z"
    },
    "papermill": {
     "duration": 1.127832,
     "end_time": "2024-11-09T17:49:52.579318",
     "exception": false,
     "start_time": "2024-11-09T17:49:51.451486",
     "status": "completed"
    },
    "tags": []
   },
   "outputs": [
    {
     "name": "stdout",
     "output_type": "stream",
     "text": [
      "/kaggle/input/predict-the-success-of-bank-telemarketing/sample_submission.csv\n",
      "/kaggle/input/predict-the-success-of-bank-telemarketing/train.csv\n",
      "/kaggle/input/predict-the-success-of-bank-telemarketing/test.csv\n"
     ]
    }
   ],
   "source": [
    "# This Python 3 environment comes with many helpful analytics libraries installed\n",
    "# It is defined by the kaggle/python Docker image: https://github.com/kaggle/docker-python\n",
    "# For example, here's several helpful packages to load\n",
    "\n",
    "import numpy as np # linear algebra\n",
    "import pandas as pd # data processing, CSV file I/O (e.g. pd.read_csv)\n",
    "\n",
    "# Input data files are available in the read-only \"../input/\" directory\n",
    "# For example, running this (by clicking run or pressing Shift+Enter) will list all files under the input directory\n",
    "\n",
    "import os\n",
    "for dirname, _, filenames in os.walk('/kaggle/input'):\n",
    "    for filename in filenames:\n",
    "        print(os.path.join(dirname, filename))\n",
    "\n",
    "# You can write up to 20GB to the current directory (/kaggle/working/) that gets preserved as output when you create a version using \"Save & Run All\" \n",
    "# You can also write temporary files to /kaggle/temp/, but they won't be saved outside of the current session"
   ]
  },
  {
   "cell_type": "markdown",
   "id": "f32d2687",
   "metadata": {
    "papermill": {
     "duration": 0.0255,
     "end_time": "2024-11-09T17:49:52.630844",
     "exception": false,
     "start_time": "2024-11-09T17:49:52.605344",
     "status": "completed"
    },
    "tags": []
   },
   "source": [
    "# Data Loading and Imports"
   ]
  },
  {
   "cell_type": "code",
   "execution_count": 2,
   "id": "ec818f40",
   "metadata": {
    "execution": {
     "iopub.execute_input": "2024-11-09T17:49:52.684964Z",
     "iopub.status.busy": "2024-11-09T17:49:52.684365Z",
     "iopub.status.idle": "2024-11-09T17:49:55.441406Z",
     "shell.execute_reply": "2024-11-09T17:49:55.440121Z"
    },
    "papermill": {
     "duration": 2.787439,
     "end_time": "2024-11-09T17:49:55.444523",
     "exception": false,
     "start_time": "2024-11-09T17:49:52.657084",
     "status": "completed"
    },
    "tags": []
   },
   "outputs": [],
   "source": [
    "# !pip install xgboost\n",
    "\n",
    "\n",
    "train=pd.read_csv('/kaggle/input/predict-the-success-of-bank-telemarketing/train.csv')\n",
    "test=pd.read_csv('/kaggle/input/predict-the-success-of-bank-telemarketing/test.csv')\n",
    "\n",
    "\n",
    "import matplotlib.pyplot as plt\n",
    "from sklearn.model_selection import GridSearchCV , RepeatedStratifiedKFold ,cross_val_score, StratifiedKFold ,train_test_split\n",
    "\n",
    "\n",
    "from sklearn.decomposition import PCA\n",
    "\n",
    "from imblearn.over_sampling import SMOTE\n",
    "from imblearn.combine import SMOTETomek,SMOTEENN\n",
    "\n",
    "from sklearn.pipeline import Pipeline\n",
    "\n",
    "from sklearn.metrics import classification_report , confusion_matrix , ConfusionMatrixDisplay ,f1_score\n",
    "\n",
    "from sklearn.ensemble import RandomForestClassifier\n",
    "\n",
    "from xgboost import XGBClassifier\n",
    "import xgboost \n",
    "import xgboost as xgb_import\n",
    "\n",
    "\n"
   ]
  },
  {
   "cell_type": "markdown",
   "id": "d7946698",
   "metadata": {
    "papermill": {
     "duration": 0.025539,
     "end_time": "2024-11-09T17:49:55.496247",
     "exception": false,
     "start_time": "2024-11-09T17:49:55.470708",
     "status": "completed"
    },
    "tags": []
   },
   "source": [
    "# Shape of train data and test data"
   ]
  },
  {
   "cell_type": "code",
   "execution_count": 3,
   "id": "ec6d89f9",
   "metadata": {
    "execution": {
     "iopub.execute_input": "2024-11-09T17:49:55.552944Z",
     "iopub.status.busy": "2024-11-09T17:49:55.552347Z",
     "iopub.status.idle": "2024-11-09T17:49:55.559524Z",
     "shell.execute_reply": "2024-11-09T17:49:55.558402Z"
    },
    "papermill": {
     "duration": 0.037608,
     "end_time": "2024-11-09T17:49:55.562223",
     "exception": false,
     "start_time": "2024-11-09T17:49:55.524615",
     "status": "completed"
    },
    "tags": []
   },
   "outputs": [
    {
     "name": "stdout",
     "output_type": "stream",
     "text": [
      "Shape of train data (39211, 16)\n",
      "----------------------------------------\n",
      "\n",
      "Shape of train data (10000, 15)\n",
      "----------------------------------------\n"
     ]
    }
   ],
   "source": [
    "print(\"Shape of train data\",train.shape)\n",
    "print(\"----------------------------------------\")\n",
    "print(\"\")\n",
    "print(\"Shape of train data\",test.shape)\n",
    "print(\"----------------------------------------\")\n",
    "\n"
   ]
  },
  {
   "cell_type": "code",
   "execution_count": 4,
   "id": "e87d0855",
   "metadata": {
    "execution": {
     "iopub.execute_input": "2024-11-09T17:49:55.615948Z",
     "iopub.status.busy": "2024-11-09T17:49:55.615531Z",
     "iopub.status.idle": "2024-11-09T17:49:55.644886Z",
     "shell.execute_reply": "2024-11-09T17:49:55.643586Z"
    },
    "papermill": {
     "duration": 0.059677,
     "end_time": "2024-11-09T17:49:55.648024",
     "exception": false,
     "start_time": "2024-11-09T17:49:55.588347",
     "status": "completed"
    },
    "tags": []
   },
   "outputs": [
    {
     "name": "stdout",
     "output_type": "stream",
     "text": [
      "Traget Values of train\n",
      "----------------------------------------\n",
      "target\n",
      "no     33384\n",
      "yes     5827\n",
      "Name: count, dtype: int64\n",
      "----------------------------------------\n",
      "\n"
     ]
    }
   ],
   "source": [
    "print(\"Traget Values of train\")\n",
    "print(\"----------------------------------------\")\n",
    "\n",
    "\n",
    "print(train['target'].value_counts())\n",
    "\n",
    "print(\"----------------------------------------\")\n",
    "print(\"\")\n"
   ]
  },
  {
   "cell_type": "markdown",
   "id": "25d119cc",
   "metadata": {
    "papermill": {
     "duration": 0.025627,
     "end_time": "2024-11-09T17:49:55.699780",
     "exception": false,
     "start_time": "2024-11-09T17:49:55.674153",
     "status": "completed"
    },
    "tags": []
   },
   "source": [
    "# Train data and Test data"
   ]
  },
  {
   "cell_type": "code",
   "execution_count": 5,
   "id": "75b4e939",
   "metadata": {
    "execution": {
     "iopub.execute_input": "2024-11-09T17:49:55.754913Z",
     "iopub.status.busy": "2024-11-09T17:49:55.754463Z",
     "iopub.status.idle": "2024-11-09T17:49:55.780317Z",
     "shell.execute_reply": "2024-11-09T17:49:55.779085Z"
    },
    "papermill": {
     "duration": 0.056238,
     "end_time": "2024-11-09T17:49:55.783004",
     "exception": false,
     "start_time": "2024-11-09T17:49:55.726766",
     "status": "completed"
    },
    "tags": []
   },
   "outputs": [
    {
     "data": {
      "text/html": [
       "<div>\n",
       "<style scoped>\n",
       "    .dataframe tbody tr th:only-of-type {\n",
       "        vertical-align: middle;\n",
       "    }\n",
       "\n",
       "    .dataframe tbody tr th {\n",
       "        vertical-align: top;\n",
       "    }\n",
       "\n",
       "    .dataframe thead th {\n",
       "        text-align: right;\n",
       "    }\n",
       "</style>\n",
       "<table border=\"1\" class=\"dataframe\">\n",
       "  <thead>\n",
       "    <tr style=\"text-align: right;\">\n",
       "      <th></th>\n",
       "      <th>last contact date</th>\n",
       "      <th>age</th>\n",
       "      <th>job</th>\n",
       "      <th>marital</th>\n",
       "      <th>education</th>\n",
       "      <th>default</th>\n",
       "      <th>balance</th>\n",
       "      <th>housing</th>\n",
       "      <th>loan</th>\n",
       "      <th>contact</th>\n",
       "      <th>duration</th>\n",
       "      <th>campaign</th>\n",
       "      <th>pdays</th>\n",
       "      <th>previous</th>\n",
       "      <th>poutcome</th>\n",
       "      <th>target</th>\n",
       "    </tr>\n",
       "  </thead>\n",
       "  <tbody>\n",
       "    <tr>\n",
       "      <th>0</th>\n",
       "      <td>2009-04-17</td>\n",
       "      <td>26</td>\n",
       "      <td>blue-collar</td>\n",
       "      <td>married</td>\n",
       "      <td>secondary</td>\n",
       "      <td>no</td>\n",
       "      <td>647</td>\n",
       "      <td>yes</td>\n",
       "      <td>no</td>\n",
       "      <td>cellular</td>\n",
       "      <td>357</td>\n",
       "      <td>2</td>\n",
       "      <td>331</td>\n",
       "      <td>1</td>\n",
       "      <td>other</td>\n",
       "      <td>no</td>\n",
       "    </tr>\n",
       "    <tr>\n",
       "      <th>1</th>\n",
       "      <td>2009-10-11</td>\n",
       "      <td>52</td>\n",
       "      <td>technician</td>\n",
       "      <td>married</td>\n",
       "      <td>secondary</td>\n",
       "      <td>no</td>\n",
       "      <td>553</td>\n",
       "      <td>yes</td>\n",
       "      <td>no</td>\n",
       "      <td>telephone</td>\n",
       "      <td>160</td>\n",
       "      <td>1</td>\n",
       "      <td>-1</td>\n",
       "      <td>0</td>\n",
       "      <td>NaN</td>\n",
       "      <td>no</td>\n",
       "    </tr>\n",
       "    <tr>\n",
       "      <th>2</th>\n",
       "      <td>2010-11-20</td>\n",
       "      <td>44</td>\n",
       "      <td>blue-collar</td>\n",
       "      <td>married</td>\n",
       "      <td>secondary</td>\n",
       "      <td>no</td>\n",
       "      <td>1397</td>\n",
       "      <td>no</td>\n",
       "      <td>no</td>\n",
       "      <td>cellular</td>\n",
       "      <td>326</td>\n",
       "      <td>1</td>\n",
       "      <td>-1</td>\n",
       "      <td>0</td>\n",
       "      <td>NaN</td>\n",
       "      <td>no</td>\n",
       "    </tr>\n",
       "    <tr>\n",
       "      <th>3</th>\n",
       "      <td>2009-09-01</td>\n",
       "      <td>33</td>\n",
       "      <td>admin.</td>\n",
       "      <td>married</td>\n",
       "      <td>secondary</td>\n",
       "      <td>no</td>\n",
       "      <td>394</td>\n",
       "      <td>yes</td>\n",
       "      <td>no</td>\n",
       "      <td>telephone</td>\n",
       "      <td>104</td>\n",
       "      <td>3</td>\n",
       "      <td>-1</td>\n",
       "      <td>0</td>\n",
       "      <td>NaN</td>\n",
       "      <td>no</td>\n",
       "    </tr>\n",
       "    <tr>\n",
       "      <th>4</th>\n",
       "      <td>2008-01-29</td>\n",
       "      <td>31</td>\n",
       "      <td>entrepreneur</td>\n",
       "      <td>single</td>\n",
       "      <td>tertiary</td>\n",
       "      <td>no</td>\n",
       "      <td>137</td>\n",
       "      <td>no</td>\n",
       "      <td>no</td>\n",
       "      <td>cellular</td>\n",
       "      <td>445</td>\n",
       "      <td>2</td>\n",
       "      <td>-1</td>\n",
       "      <td>0</td>\n",
       "      <td>NaN</td>\n",
       "      <td>no</td>\n",
       "    </tr>\n",
       "  </tbody>\n",
       "</table>\n",
       "</div>"
      ],
      "text/plain": [
       "  last contact date  age           job  marital  education default  balance  \\\n",
       "0        2009-04-17   26   blue-collar  married  secondary      no      647   \n",
       "1        2009-10-11   52    technician  married  secondary      no      553   \n",
       "2        2010-11-20   44   blue-collar  married  secondary      no     1397   \n",
       "3        2009-09-01   33        admin.  married  secondary      no      394   \n",
       "4        2008-01-29   31  entrepreneur   single   tertiary      no      137   \n",
       "\n",
       "  housing loan    contact  duration  campaign  pdays  previous poutcome target  \n",
       "0     yes   no   cellular       357         2    331         1    other     no  \n",
       "1     yes   no  telephone       160         1     -1         0      NaN     no  \n",
       "2      no   no   cellular       326         1     -1         0      NaN     no  \n",
       "3     yes   no  telephone       104         3     -1         0      NaN     no  \n",
       "4      no   no   cellular       445         2     -1         0      NaN     no  "
      ]
     },
     "execution_count": 5,
     "metadata": {},
     "output_type": "execute_result"
    }
   ],
   "source": [
    "train.head(5)\n"
   ]
  },
  {
   "cell_type": "code",
   "execution_count": 6,
   "id": "b582b05f",
   "metadata": {
    "execution": {
     "iopub.execute_input": "2024-11-09T17:49:55.839198Z",
     "iopub.status.busy": "2024-11-09T17:49:55.838692Z",
     "iopub.status.idle": "2024-11-09T17:49:55.858973Z",
     "shell.execute_reply": "2024-11-09T17:49:55.857797Z"
    },
    "papermill": {
     "duration": 0.052146,
     "end_time": "2024-11-09T17:49:55.861622",
     "exception": false,
     "start_time": "2024-11-09T17:49:55.809476",
     "status": "completed"
    },
    "tags": []
   },
   "outputs": [
    {
     "data": {
      "text/html": [
       "<div>\n",
       "<style scoped>\n",
       "    .dataframe tbody tr th:only-of-type {\n",
       "        vertical-align: middle;\n",
       "    }\n",
       "\n",
       "    .dataframe tbody tr th {\n",
       "        vertical-align: top;\n",
       "    }\n",
       "\n",
       "    .dataframe thead th {\n",
       "        text-align: right;\n",
       "    }\n",
       "</style>\n",
       "<table border=\"1\" class=\"dataframe\">\n",
       "  <thead>\n",
       "    <tr style=\"text-align: right;\">\n",
       "      <th></th>\n",
       "      <th>last contact date</th>\n",
       "      <th>age</th>\n",
       "      <th>job</th>\n",
       "      <th>marital</th>\n",
       "      <th>education</th>\n",
       "      <th>default</th>\n",
       "      <th>balance</th>\n",
       "      <th>housing</th>\n",
       "      <th>loan</th>\n",
       "      <th>contact</th>\n",
       "      <th>duration</th>\n",
       "      <th>campaign</th>\n",
       "      <th>pdays</th>\n",
       "      <th>previous</th>\n",
       "      <th>poutcome</th>\n",
       "    </tr>\n",
       "  </thead>\n",
       "  <tbody>\n",
       "    <tr>\n",
       "      <th>0</th>\n",
       "      <td>2009-11-21</td>\n",
       "      <td>36</td>\n",
       "      <td>management</td>\n",
       "      <td>single</td>\n",
       "      <td>tertiary</td>\n",
       "      <td>no</td>\n",
       "      <td>7</td>\n",
       "      <td>no</td>\n",
       "      <td>no</td>\n",
       "      <td>NaN</td>\n",
       "      <td>20</td>\n",
       "      <td>1</td>\n",
       "      <td>-1</td>\n",
       "      <td>0</td>\n",
       "      <td>NaN</td>\n",
       "    </tr>\n",
       "    <tr>\n",
       "      <th>1</th>\n",
       "      <td>2010-02-04</td>\n",
       "      <td>30</td>\n",
       "      <td>unemployed</td>\n",
       "      <td>married</td>\n",
       "      <td>tertiary</td>\n",
       "      <td>no</td>\n",
       "      <td>1067</td>\n",
       "      <td>no</td>\n",
       "      <td>no</td>\n",
       "      <td>cellular</td>\n",
       "      <td>78</td>\n",
       "      <td>2</td>\n",
       "      <td>-1</td>\n",
       "      <td>0</td>\n",
       "      <td>NaN</td>\n",
       "    </tr>\n",
       "    <tr>\n",
       "      <th>2</th>\n",
       "      <td>2010-07-28</td>\n",
       "      <td>32</td>\n",
       "      <td>blue-collar</td>\n",
       "      <td>single</td>\n",
       "      <td>secondary</td>\n",
       "      <td>no</td>\n",
       "      <td>82</td>\n",
       "      <td>yes</td>\n",
       "      <td>no</td>\n",
       "      <td>cellular</td>\n",
       "      <td>86</td>\n",
       "      <td>4</td>\n",
       "      <td>-1</td>\n",
       "      <td>0</td>\n",
       "      <td>NaN</td>\n",
       "    </tr>\n",
       "    <tr>\n",
       "      <th>3</th>\n",
       "      <td>2010-06-09</td>\n",
       "      <td>38</td>\n",
       "      <td>admin.</td>\n",
       "      <td>married</td>\n",
       "      <td>primary</td>\n",
       "      <td>no</td>\n",
       "      <td>1487</td>\n",
       "      <td>no</td>\n",
       "      <td>no</td>\n",
       "      <td>NaN</td>\n",
       "      <td>332</td>\n",
       "      <td>2</td>\n",
       "      <td>-1</td>\n",
       "      <td>0</td>\n",
       "      <td>NaN</td>\n",
       "    </tr>\n",
       "    <tr>\n",
       "      <th>4</th>\n",
       "      <td>2008-03-02</td>\n",
       "      <td>59</td>\n",
       "      <td>management</td>\n",
       "      <td>married</td>\n",
       "      <td>tertiary</td>\n",
       "      <td>no</td>\n",
       "      <td>315</td>\n",
       "      <td>no</td>\n",
       "      <td>no</td>\n",
       "      <td>cellular</td>\n",
       "      <td>591</td>\n",
       "      <td>1</td>\n",
       "      <td>176</td>\n",
       "      <td>2</td>\n",
       "      <td>failure</td>\n",
       "    </tr>\n",
       "  </tbody>\n",
       "</table>\n",
       "</div>"
      ],
      "text/plain": [
       "  last contact date  age          job  marital  education default  balance  \\\n",
       "0        2009-11-21   36   management   single   tertiary      no        7   \n",
       "1        2010-02-04   30   unemployed  married   tertiary      no     1067   \n",
       "2        2010-07-28   32  blue-collar   single  secondary      no       82   \n",
       "3        2010-06-09   38       admin.  married    primary      no     1487   \n",
       "4        2008-03-02   59   management  married   tertiary      no      315   \n",
       "\n",
       "  housing loan   contact  duration  campaign  pdays  previous poutcome  \n",
       "0      no   no       NaN        20         1     -1         0      NaN  \n",
       "1      no   no  cellular        78         2     -1         0      NaN  \n",
       "2     yes   no  cellular        86         4     -1         0      NaN  \n",
       "3      no   no       NaN       332         2     -1         0      NaN  \n",
       "4      no   no  cellular       591         1    176         2  failure  "
      ]
     },
     "execution_count": 6,
     "metadata": {},
     "output_type": "execute_result"
    }
   ],
   "source": [
    "test.head(5)\n"
   ]
  },
  {
   "cell_type": "markdown",
   "id": "964de824",
   "metadata": {
    "papermill": {
     "duration": 0.036763,
     "end_time": "2024-11-09T17:49:55.926427",
     "exception": false,
     "start_time": "2024-11-09T17:49:55.889664",
     "status": "completed"
    },
    "tags": []
   },
   "source": [
    "# Numerical data descriptive statistics"
   ]
  },
  {
   "cell_type": "code",
   "execution_count": 7,
   "id": "4b26828f",
   "metadata": {
    "execution": {
     "iopub.execute_input": "2024-11-09T17:49:55.987878Z",
     "iopub.status.busy": "2024-11-09T17:49:55.987409Z",
     "iopub.status.idle": "2024-11-09T17:49:56.036585Z",
     "shell.execute_reply": "2024-11-09T17:49:56.035091Z"
    },
    "papermill": {
     "duration": 0.082968,
     "end_time": "2024-11-09T17:49:56.039392",
     "exception": false,
     "start_time": "2024-11-09T17:49:55.956424",
     "status": "completed"
    },
    "tags": []
   },
   "outputs": [
    {
     "data": {
      "text/html": [
       "<div>\n",
       "<style scoped>\n",
       "    .dataframe tbody tr th:only-of-type {\n",
       "        vertical-align: middle;\n",
       "    }\n",
       "\n",
       "    .dataframe tbody tr th {\n",
       "        vertical-align: top;\n",
       "    }\n",
       "\n",
       "    .dataframe thead th {\n",
       "        text-align: right;\n",
       "    }\n",
       "</style>\n",
       "<table border=\"1\" class=\"dataframe\">\n",
       "  <thead>\n",
       "    <tr style=\"text-align: right;\">\n",
       "      <th></th>\n",
       "      <th>age</th>\n",
       "      <th>balance</th>\n",
       "      <th>duration</th>\n",
       "      <th>campaign</th>\n",
       "      <th>pdays</th>\n",
       "      <th>previous</th>\n",
       "    </tr>\n",
       "  </thead>\n",
       "  <tbody>\n",
       "    <tr>\n",
       "      <th>count</th>\n",
       "      <td>39211.000000</td>\n",
       "      <td>39211.000000</td>\n",
       "      <td>39211.000000</td>\n",
       "      <td>39211.000000</td>\n",
       "      <td>39211.000000</td>\n",
       "      <td>39211.000000</td>\n",
       "    </tr>\n",
       "    <tr>\n",
       "      <th>mean</th>\n",
       "      <td>42.120247</td>\n",
       "      <td>5441.781719</td>\n",
       "      <td>439.062789</td>\n",
       "      <td>5.108770</td>\n",
       "      <td>72.256051</td>\n",
       "      <td>11.826171</td>\n",
       "    </tr>\n",
       "    <tr>\n",
       "      <th>std</th>\n",
       "      <td>12.709352</td>\n",
       "      <td>16365.292065</td>\n",
       "      <td>769.096291</td>\n",
       "      <td>9.890153</td>\n",
       "      <td>160.942593</td>\n",
       "      <td>44.140259</td>\n",
       "    </tr>\n",
       "    <tr>\n",
       "      <th>min</th>\n",
       "      <td>18.000000</td>\n",
       "      <td>-8019.000000</td>\n",
       "      <td>0.000000</td>\n",
       "      <td>1.000000</td>\n",
       "      <td>-1.000000</td>\n",
       "      <td>0.000000</td>\n",
       "    </tr>\n",
       "    <tr>\n",
       "      <th>25%</th>\n",
       "      <td>33.000000</td>\n",
       "      <td>98.000000</td>\n",
       "      <td>109.000000</td>\n",
       "      <td>1.000000</td>\n",
       "      <td>-1.000000</td>\n",
       "      <td>0.000000</td>\n",
       "    </tr>\n",
       "    <tr>\n",
       "      <th>50%</th>\n",
       "      <td>40.000000</td>\n",
       "      <td>549.000000</td>\n",
       "      <td>197.000000</td>\n",
       "      <td>2.000000</td>\n",
       "      <td>-1.000000</td>\n",
       "      <td>0.000000</td>\n",
       "    </tr>\n",
       "    <tr>\n",
       "      <th>75%</th>\n",
       "      <td>50.000000</td>\n",
       "      <td>2030.000000</td>\n",
       "      <td>380.000000</td>\n",
       "      <td>4.000000</td>\n",
       "      <td>-1.000000</td>\n",
       "      <td>0.000000</td>\n",
       "    </tr>\n",
       "    <tr>\n",
       "      <th>max</th>\n",
       "      <td>95.000000</td>\n",
       "      <td>102127.000000</td>\n",
       "      <td>4918.000000</td>\n",
       "      <td>63.000000</td>\n",
       "      <td>871.000000</td>\n",
       "      <td>275.000000</td>\n",
       "    </tr>\n",
       "  </tbody>\n",
       "</table>\n",
       "</div>"
      ],
      "text/plain": [
       "                age        balance      duration      campaign         pdays  \\\n",
       "count  39211.000000   39211.000000  39211.000000  39211.000000  39211.000000   \n",
       "mean      42.120247    5441.781719    439.062789      5.108770     72.256051   \n",
       "std       12.709352   16365.292065    769.096291      9.890153    160.942593   \n",
       "min       18.000000   -8019.000000      0.000000      1.000000     -1.000000   \n",
       "25%       33.000000      98.000000    109.000000      1.000000     -1.000000   \n",
       "50%       40.000000     549.000000    197.000000      2.000000     -1.000000   \n",
       "75%       50.000000    2030.000000    380.000000      4.000000     -1.000000   \n",
       "max       95.000000  102127.000000   4918.000000     63.000000    871.000000   \n",
       "\n",
       "           previous  \n",
       "count  39211.000000  \n",
       "mean      11.826171  \n",
       "std       44.140259  \n",
       "min        0.000000  \n",
       "25%        0.000000  \n",
       "50%        0.000000  \n",
       "75%        0.000000  \n",
       "max      275.000000  "
      ]
     },
     "execution_count": 7,
     "metadata": {},
     "output_type": "execute_result"
    }
   ],
   "source": [
    "train.describe()"
   ]
  },
  {
   "cell_type": "code",
   "execution_count": 8,
   "id": "4669e33e",
   "metadata": {
    "execution": {
     "iopub.execute_input": "2024-11-09T17:49:56.096665Z",
     "iopub.status.busy": "2024-11-09T17:49:56.096131Z",
     "iopub.status.idle": "2024-11-09T17:49:56.227950Z",
     "shell.execute_reply": "2024-11-09T17:49:56.226810Z"
    },
    "papermill": {
     "duration": 0.163362,
     "end_time": "2024-11-09T17:49:56.230610",
     "exception": false,
     "start_time": "2024-11-09T17:49:56.067248",
     "status": "completed"
    },
    "tags": []
   },
   "outputs": [
    {
     "data": {
      "text/html": [
       "<div>\n",
       "<style scoped>\n",
       "    .dataframe tbody tr th:only-of-type {\n",
       "        vertical-align: middle;\n",
       "    }\n",
       "\n",
       "    .dataframe tbody tr th {\n",
       "        vertical-align: top;\n",
       "    }\n",
       "\n",
       "    .dataframe thead th {\n",
       "        text-align: right;\n",
       "    }\n",
       "</style>\n",
       "<table border=\"1\" class=\"dataframe\">\n",
       "  <thead>\n",
       "    <tr style=\"text-align: right;\">\n",
       "      <th></th>\n",
       "      <th>last contact date</th>\n",
       "      <th>job</th>\n",
       "      <th>marital</th>\n",
       "      <th>education</th>\n",
       "      <th>default</th>\n",
       "      <th>housing</th>\n",
       "      <th>loan</th>\n",
       "      <th>contact</th>\n",
       "      <th>poutcome</th>\n",
       "      <th>target</th>\n",
       "    </tr>\n",
       "  </thead>\n",
       "  <tbody>\n",
       "    <tr>\n",
       "      <th>count</th>\n",
       "      <td>39211</td>\n",
       "      <td>38982</td>\n",
       "      <td>39211</td>\n",
       "      <td>37744</td>\n",
       "      <td>39211</td>\n",
       "      <td>39211</td>\n",
       "      <td>39211</td>\n",
       "      <td>28875</td>\n",
       "      <td>9760</td>\n",
       "      <td>39211</td>\n",
       "    </tr>\n",
       "    <tr>\n",
       "      <th>unique</th>\n",
       "      <td>1013</td>\n",
       "      <td>11</td>\n",
       "      <td>3</td>\n",
       "      <td>3</td>\n",
       "      <td>2</td>\n",
       "      <td>2</td>\n",
       "      <td>2</td>\n",
       "      <td>2</td>\n",
       "      <td>3</td>\n",
       "      <td>2</td>\n",
       "    </tr>\n",
       "    <tr>\n",
       "      <th>top</th>\n",
       "      <td>2009-05-15</td>\n",
       "      <td>blue-collar</td>\n",
       "      <td>married</td>\n",
       "      <td>secondary</td>\n",
       "      <td>no</td>\n",
       "      <td>yes</td>\n",
       "      <td>no</td>\n",
       "      <td>cellular</td>\n",
       "      <td>failure</td>\n",
       "      <td>no</td>\n",
       "    </tr>\n",
       "    <tr>\n",
       "      <th>freq</th>\n",
       "      <td>313</td>\n",
       "      <td>7776</td>\n",
       "      <td>22691</td>\n",
       "      <td>19584</td>\n",
       "      <td>36954</td>\n",
       "      <td>21657</td>\n",
       "      <td>31820</td>\n",
       "      <td>25030</td>\n",
       "      <td>4949</td>\n",
       "      <td>33384</td>\n",
       "    </tr>\n",
       "  </tbody>\n",
       "</table>\n",
       "</div>"
      ],
      "text/plain": [
       "       last contact date          job  marital  education default housing  \\\n",
       "count              39211        38982    39211      37744   39211   39211   \n",
       "unique              1013           11        3          3       2       2   \n",
       "top           2009-05-15  blue-collar  married  secondary      no     yes   \n",
       "freq                 313         7776    22691      19584   36954   21657   \n",
       "\n",
       "         loan   contact poutcome target  \n",
       "count   39211     28875     9760  39211  \n",
       "unique      2         2        3      2  \n",
       "top        no  cellular  failure     no  \n",
       "freq    31820     25030     4949  33384  "
      ]
     },
     "execution_count": 8,
     "metadata": {},
     "output_type": "execute_result"
    }
   ],
   "source": [
    "train.describe(include=\"object\")"
   ]
  },
  {
   "cell_type": "markdown",
   "id": "13614d7c",
   "metadata": {
    "papermill": {
     "duration": 0.027206,
     "end_time": "2024-11-09T17:49:56.285344",
     "exception": false,
     "start_time": "2024-11-09T17:49:56.258138",
     "status": "completed"
    },
    "tags": []
   },
   "source": [
    "# Number of Null values each column is having"
   ]
  },
  {
   "cell_type": "code",
   "execution_count": 9,
   "id": "479682b2",
   "metadata": {
    "execution": {
     "iopub.execute_input": "2024-11-09T17:49:56.342991Z",
     "iopub.status.busy": "2024-11-09T17:49:56.342134Z",
     "iopub.status.idle": "2024-11-09T17:49:56.401765Z",
     "shell.execute_reply": "2024-11-09T17:49:56.400411Z"
    },
    "papermill": {
     "duration": 0.09107,
     "end_time": "2024-11-09T17:49:56.404483",
     "exception": false,
     "start_time": "2024-11-09T17:49:56.313413",
     "status": "completed"
    },
    "tags": []
   },
   "outputs": [
    {
     "name": "stdout",
     "output_type": "stream",
     "text": [
      "Train Data\n",
      "-------------------------------------------\n",
      "last contact date        0\n",
      "age                      0\n",
      "job                    229\n",
      "marital                  0\n",
      "education             1467\n",
      "default                  0\n",
      "balance                  0\n",
      "housing                  0\n",
      "loan                     0\n",
      "contact              10336\n",
      "duration                 0\n",
      "campaign                 0\n",
      "pdays                    0\n",
      "previous                 0\n",
      "poutcome             29451\n",
      "target                   0\n",
      "dtype: int64\n",
      "\n",
      "-------------------------------------------\n",
      "-------------------------------------------\n",
      "\n",
      "Test Data\n",
      "-------------------------------------------\n",
      "last contact date       0\n",
      "age                     0\n",
      "job                    59\n",
      "marital                 0\n",
      "education             390\n",
      "default                 0\n",
      "balance                 0\n",
      "housing                 0\n",
      "loan                    0\n",
      "contact              2684\n",
      "duration                0\n",
      "campaign                0\n",
      "pdays                   0\n",
      "previous                0\n",
      "poutcome             7508\n",
      "dtype: int64\n"
     ]
    }
   ],
   "source": [
    "print(\"Train Data\")\n",
    "print(\"-------------------------------------------\")\n",
    "print(train.isnull().sum())\n",
    "print(\"\")\n",
    "print(\"-------------------------------------------\")\n",
    "print(\"-------------------------------------------\")\n",
    "print(\"\")\n",
    "print(\"Test Data\")\n",
    "print(\"-------------------------------------------\")\n",
    "print(test.isnull().sum())\n"
   ]
  },
  {
   "cell_type": "markdown",
   "id": "aea138dc",
   "metadata": {
    "papermill": {
     "duration": 0.027471,
     "end_time": "2024-11-09T17:49:56.459849",
     "exception": false,
     "start_time": "2024-11-09T17:49:56.432378",
     "status": "completed"
    },
    "tags": []
   },
   "source": [
    "# Last Contact: last contact date\n"
   ]
  },
  {
   "cell_type": "markdown",
   "id": "aad6b426",
   "metadata": {
    "papermill": {
     "duration": 0.028643,
     "end_time": "2024-11-09T17:49:56.516004",
     "exception": false,
     "start_time": "2024-11-09T17:49:56.487361",
     "status": "completed"
    },
    "tags": []
   },
   "source": [
    "Feature Eng =>  day and month in which last contact happend "
   ]
  },
  {
   "cell_type": "code",
   "execution_count": 10,
   "id": "e677c38a",
   "metadata": {
    "execution": {
     "iopub.execute_input": "2024-11-09T17:49:56.575315Z",
     "iopub.status.busy": "2024-11-09T17:49:56.574233Z",
     "iopub.status.idle": "2024-11-09T17:49:56.621372Z",
     "shell.execute_reply": "2024-11-09T17:49:56.620125Z"
    },
    "papermill": {
     "duration": 0.079914,
     "end_time": "2024-11-09T17:49:56.624192",
     "exception": false,
     "start_time": "2024-11-09T17:49:56.544278",
     "status": "completed"
    },
    "tags": []
   },
   "outputs": [
    {
     "name": "stdout",
     "output_type": "stream",
     "text": [
      "number of null values :  0\n",
      "\n",
      "--------------------------\n",
      "month\n",
      "5     11004\n",
      "7      5521\n",
      "8      4969\n",
      "6      4232\n",
      "11     3147\n",
      "4      2359\n",
      "2      2087\n",
      "1      1725\n",
      "10     1236\n",
      "9      1091\n",
      "3       997\n",
      "12      843\n",
      "Name: count, dtype: int64\n",
      "\n",
      "--------------------------\n",
      "day\n",
      "3    7428\n",
      "2    7292\n",
      "4    6762\n",
      "1    6184\n",
      "5    4496\n",
      "0    4033\n",
      "6    3016\n",
      "Name: count, dtype: int64\n"
     ]
    }
   ],
   "source": [
    "train['last contact date']=pd.to_datetime(train['last contact date'])\n",
    "\n",
    "train['day']= train['last contact date'].dt.dayofweek\n",
    "\n",
    "train['month'] = train['last contact date'].dt.month\n",
    "\n",
    "print(\"number of null values : \",train['last contact date'].isnull().sum())\n",
    "\n",
    "print('')\n",
    "print('--------------------------')\n",
    "\n",
    "print(train['month'].value_counts())\n",
    "\n",
    "print('')\n",
    "print('--------------------------')\n",
    "\n",
    "print(train['day'].value_counts())\n",
    "\n",
    "\n",
    "\n",
    "\n",
    "test['last contact date']=pd.to_datetime(test['last contact date'])\n",
    "\n",
    "test['day']= test['last contact date'].dt.dayofweek\n",
    "\n",
    "test['month'] = test['last contact date'].dt.month\n",
    "\n"
   ]
  },
  {
   "cell_type": "markdown",
   "id": "7f47b4f3",
   "metadata": {
    "papermill": {
     "duration": 0.082984,
     "end_time": "2024-11-09T17:49:56.734958",
     "exception": false,
     "start_time": "2024-11-09T17:49:56.651974",
     "status": "completed"
    },
    "tags": []
   },
   "source": [
    "# WeekDay or Sunday -Feature Engineering:that helps us to know if the day was sunday or week Day on which last contact happend"
   ]
  },
  {
   "cell_type": "code",
   "execution_count": 11,
   "id": "dd6055d4",
   "metadata": {
    "execution": {
     "iopub.execute_input": "2024-11-09T17:49:56.792321Z",
     "iopub.status.busy": "2024-11-09T17:49:56.791318Z",
     "iopub.status.idle": "2024-11-09T17:49:56.839748Z",
     "shell.execute_reply": "2024-11-09T17:49:56.838542Z"
    },
    "papermill": {
     "duration": 0.080062,
     "end_time": "2024-11-09T17:49:56.842581",
     "exception": false,
     "start_time": "2024-11-09T17:49:56.762519",
     "status": "completed"
    },
    "tags": []
   },
   "outputs": [],
   "source": [
    "def whichday(x):\n",
    "    if x==1:\n",
    "        return 1\n",
    "    return 0\n",
    "train['isSunday']=train['day'].apply(whichday)\n",
    "\n",
    "test['isSunday']=test['day'].apply(whichday)"
   ]
  },
  {
   "cell_type": "markdown",
   "id": "0400f06a",
   "metadata": {
    "papermill": {
     "duration": 0.027526,
     "end_time": "2024-11-09T17:49:56.898657",
     "exception": false,
     "start_time": "2024-11-09T17:49:56.871131",
     "status": "completed"
    },
    "tags": []
   },
   "source": [
    "# Categorical Columns\n",
    "# job , martial , education , default , housing ,loan , contact , poutcome"
   ]
  },
  {
   "cell_type": "markdown",
   "id": "0abe132a",
   "metadata": {
    "papermill": {
     "duration": 0.027656,
     "end_time": "2024-11-09T17:49:56.954087",
     "exception": false,
     "start_time": "2024-11-09T17:49:56.926431",
     "status": "completed"
    },
    "tags": []
   },
   "source": [
    "# Job\n"
   ]
  },
  {
   "cell_type": "markdown",
   "id": "9126d7df",
   "metadata": {
    "papermill": {
     "duration": 0.027524,
     "end_time": "2024-11-09T17:49:57.009755",
     "exception": false,
     "start_time": "2024-11-09T17:49:56.982231",
     "status": "completed"
    },
    "tags": []
   },
   "source": [
    "* 229 null values are present in job feature\n",
    "* 11 unique job categories are there\n",
    "* top 3 job categories are blue-collar , management,technician\n",
    "* null values are replaced by frequent job category which is blue-collar job "
   ]
  },
  {
   "cell_type": "code",
   "execution_count": 12,
   "id": "7058e7e8",
   "metadata": {
    "execution": {
     "iopub.execute_input": "2024-11-09T17:49:57.068272Z",
     "iopub.status.busy": "2024-11-09T17:49:57.067824Z",
     "iopub.status.idle": "2024-11-09T17:49:57.485076Z",
     "shell.execute_reply": "2024-11-09T17:49:57.483928Z"
    },
    "papermill": {
     "duration": 0.449672,
     "end_time": "2024-11-09T17:49:57.487982",
     "exception": false,
     "start_time": "2024-11-09T17:49:57.038310",
     "status": "completed"
    },
    "tags": []
   },
   "outputs": [
    {
     "name": "stdout",
     "output_type": "stream",
     "text": [
      " Number of null values :  229\n",
      "\n",
      "---------------------------------------------------------------------------\n",
      "\n",
      "Unique job :  ['blue-collar' 'technician' 'admin.' 'entrepreneur' 'unemployed'\n",
      " 'management' 'services' 'student' 'self-employed' 'retired' 'housemaid'\n",
      " nan]\n",
      "\n",
      "---------------------------------------------------------------------------\n",
      "\n",
      "job value counts:  job\n",
      "blue-collar      7776\n",
      "management       7462\n",
      "technician       6078\n",
      "admin.           4116\n",
      "services         3325\n",
      "self-employed    1862\n",
      "retired          1824\n",
      "entrepreneur     1805\n",
      "unemployed       1685\n",
      "housemaid        1656\n",
      "student          1393\n",
      "Name: count, dtype: int64\n",
      "\n",
      "---------------------------------------------------------------------------\n",
      "\n"
     ]
    },
    {
     "data": {
      "image/png": "[encoded data removed]",
      "text/plain": [
       "<Figure size 640x480 with 1 Axes>"
      ]
     },
     "metadata": {},
     "output_type": "display_data"
    },
    {
     "name": "stdout",
     "output_type": "stream",
     "text": [
      "\n",
      "---------------------------------------------------------------------------\n",
      "\n"
     ]
    }
   ],
   "source": [
    "\n",
    "print(' Number of null values : ' , train['job'].isnull().sum())\n",
    "\n",
    "print('')\n",
    "print('---------------------------------------------------------------------------')\n",
    "print('')\n",
    "\n",
    "print('Unique job : ' , train['job'].unique())\n",
    "\n",
    "print('')\n",
    "print('---------------------------------------------------------------------------')\n",
    "print('')\n",
    "\n",
    "print('job value counts: ' , train['job'].value_counts())\n",
    "\n",
    "print('')\n",
    "print('---------------------------------------------------------------------------')\n",
    "print('')\n",
    "\n",
    "train['job'].value_counts().plot(kind='bar')\n",
    "plt.show()\n",
    "\n",
    "print('')\n",
    "print('---------------------------------------------------------------------------')\n",
    "print('')\n",
    "\n",
    "\n",
    "train['job'] = train['job'].replace(np.nan, 'blue-collar')\n",
    "test['job'] = test['job'].replace(np.nan , 'blue-collar')"
   ]
  },
  {
   "cell_type": "markdown",
   "id": "079d67bc",
   "metadata": {
    "papermill": {
     "duration": 0.028878,
     "end_time": "2024-11-09T17:49:57.552729",
     "exception": false,
     "start_time": "2024-11-09T17:49:57.523851",
     "status": "completed"
    },
    "tags": []
   },
   "source": [
    "# martial"
   ]
  },
  {
   "cell_type": "markdown",
   "id": "57155e09",
   "metadata": {
    "papermill": {
     "duration": 0.02864,
     "end_time": "2024-11-09T17:49:57.610926",
     "exception": false,
     "start_time": "2024-11-09T17:49:57.582286",
     "status": "completed"
    },
    "tags": []
   },
   "source": [
    "* martial feature has 0 null values\n",
    "* 3 unique values are there which : married single divorced\n",
    "* most freq category is married."
   ]
  },
  {
   "cell_type": "code",
   "execution_count": 13,
   "id": "5154d640",
   "metadata": {
    "execution": {
     "iopub.execute_input": "2024-11-09T17:49:57.679081Z",
     "iopub.status.busy": "2024-11-09T17:49:57.678278Z",
     "iopub.status.idle": "2024-11-09T17:49:57.923288Z",
     "shell.execute_reply": "2024-11-09T17:49:57.922029Z"
    },
    "papermill": {
     "duration": 0.281401,
     "end_time": "2024-11-09T17:49:57.926006",
     "exception": false,
     "start_time": "2024-11-09T17:49:57.644605",
     "status": "completed"
    },
    "tags": []
   },
   "outputs": [
    {
     "name": "stdout",
     "output_type": "stream",
     "text": [
      "marital has no null values :  0\n",
      "\n",
      "---------------------------------------------------------------------------\n",
      "\n",
      " Unique marital :  ['married' 'single' 'divorced']\n",
      "\n",
      "---------------------------------------------------------------------------\n",
      "\n",
      "marital value counts:  marital\n",
      "married     22691\n",
      "single      11250\n",
      "divorced     5270\n",
      "Name: count, dtype: int64\n",
      "\n",
      "---------------------------------------------------------------------------\n",
      "\n"
     ]
    },
    {
     "data": {
      "image/png": "[encoded data removed]",
      "text/plain": [
       "<Figure size 640x480 with 1 Axes>"
      ]
     },
     "metadata": {},
     "output_type": "display_data"
    }
   ],
   "source": [
    "print('marital has no null values : ' , train['marital'].isnull().sum())\n",
    "\n",
    "print('')\n",
    "print('---------------------------------------------------------------------------')\n",
    "print('')\n",
    "\n",
    "print(' Unique marital : ' , train['marital'].unique())\n",
    "\n",
    "print('')\n",
    "print('---------------------------------------------------------------------------')\n",
    "print('')\n",
    "\n",
    "print('marital value counts: ' , train['marital'].value_counts())\n",
    "\n",
    "print('')\n",
    "print('---------------------------------------------------------------------------')\n",
    "print('')\n",
    "\n",
    "train['marital'].value_counts().plot(kind='bar')\n",
    "plt.show()"
   ]
  },
  {
   "cell_type": "markdown",
   "id": "1ea28579",
   "metadata": {
    "papermill": {
     "duration": 0.029086,
     "end_time": "2024-11-09T17:49:57.984241",
     "exception": false,
     "start_time": "2024-11-09T17:49:57.955155",
     "status": "completed"
    },
    "tags": []
   },
   "source": [
    "# education"
   ]
  },
  {
   "cell_type": "markdown",
   "id": "89a940b0",
   "metadata": {
    "papermill": {
     "duration": 0.029235,
     "end_time": "2024-11-09T17:49:58.043092",
     "exception": false,
     "start_time": "2024-11-09T17:49:58.013857",
     "status": "completed"
    },
    "tags": []
   },
   "source": [
    "* 1767 null values are there in education feature\n",
    "* 3 unique education values\n",
    "* null values are replaced by most freq education category which is secondary"
   ]
  },
  {
   "cell_type": "code",
   "execution_count": 14,
   "id": "eb93a24c",
   "metadata": {
    "execution": {
     "iopub.execute_input": "2024-11-09T17:49:58.103921Z",
     "iopub.status.busy": "2024-11-09T17:49:58.103481Z",
     "iopub.status.idle": "2024-11-09T17:49:58.413441Z",
     "shell.execute_reply": "2024-11-09T17:49:58.412252Z"
    },
    "papermill": {
     "duration": 0.343799,
     "end_time": "2024-11-09T17:49:58.416018",
     "exception": false,
     "start_time": "2024-11-09T17:49:58.072219",
     "status": "completed"
    },
    "tags": []
   },
   "outputs": [
    {
     "name": "stdout",
     "output_type": "stream",
     "text": [
      "education has no null values :  1467\n",
      "\n",
      "---------------------------------------------------------------------------\n",
      "\n",
      " Unique education :  ['secondary' 'tertiary' 'primary' nan]\n",
      "\n",
      "---------------------------------------------------------------------------\n",
      "\n",
      "education value counts:  education\n",
      "secondary    19584\n",
      "tertiary     11615\n",
      "primary       6545\n",
      "Name: count, dtype: int64\n",
      "\n",
      "---------------------------------------------------------------------------\n",
      "\n"
     ]
    },
    {
     "data": {
      "image/png": "[encoded data removed]",
      "text/plain": [
       "<Figure size 640x480 with 1 Axes>"
      ]
     },
     "metadata": {},
     "output_type": "display_data"
    }
   ],
   "source": [
    "print('education has no null values : ' , train['education'].isnull().sum())\n",
    "\n",
    "print('')\n",
    "print('---------------------------------------------------------------------------')\n",
    "print('')\n",
    "\n",
    "print(' Unique education : ' , train['education'].unique())\n",
    "\n",
    "print('')\n",
    "print('---------------------------------------------------------------------------')\n",
    "print('')\n",
    "\n",
    "print('education value counts: ' , train['education'].value_counts())\n",
    "\n",
    "print('')\n",
    "print('---------------------------------------------------------------------------')\n",
    "print('')\n",
    "\n",
    "train['education'].value_counts().plot(kind='bar')\n",
    "\n",
    "\n",
    "train['education']=train['education'].replace(np.nan , 'secondary')\n",
    "\n",
    "test['education']=test['education'].replace(np.nan , 'secondary')"
   ]
  },
  {
   "cell_type": "markdown",
   "id": "4db8cd97",
   "metadata": {
    "papermill": {
     "duration": 0.029209,
     "end_time": "2024-11-09T17:49:58.474906",
     "exception": false,
     "start_time": "2024-11-09T17:49:58.445697",
     "status": "completed"
    },
    "tags": []
   },
   "source": [
    "# default : credit in default yes or no\n"
   ]
  },
  {
   "cell_type": "markdown",
   "id": "2a92c470",
   "metadata": {
    "papermill": {
     "duration": 0.029477,
     "end_time": "2024-11-09T17:49:58.533640",
     "exception": false,
     "start_time": "2024-11-09T17:49:58.504163",
     "status": "completed"
    },
    "tags": []
   },
   "source": [
    "* no null values\n",
    "* feature value is binary\n",
    "* people with no credit default is higher "
   ]
  },
  {
   "cell_type": "code",
   "execution_count": 15,
   "id": "2a4e5132",
   "metadata": {
    "execution": {
     "iopub.execute_input": "2024-11-09T17:49:58.594415Z",
     "iopub.status.busy": "2024-11-09T17:49:58.593946Z",
     "iopub.status.idle": "2024-11-09T17:49:58.860971Z",
     "shell.execute_reply": "2024-11-09T17:49:58.860002Z"
    },
    "papermill": {
     "duration": 0.301041,
     "end_time": "2024-11-09T17:49:58.864068",
     "exception": false,
     "start_time": "2024-11-09T17:49:58.563027",
     "status": "completed"
    },
    "tags": []
   },
   "outputs": [
    {
     "name": "stdout",
     "output_type": "stream",
     "text": [
      "default has no null values :  0\n",
      "\n",
      "---------------------------------------------------------------------------\n",
      "\n",
      " Unique default :  ['no' 'yes']\n",
      "\n",
      "---------------------------------------------------------------------------\n",
      "\n",
      "default value counts:  default\n",
      "no     36954\n",
      "yes     2257\n",
      "Name: count, dtype: int64\n",
      "\n",
      "---------------------------------------------------------------------------\n",
      "\n"
     ]
    },
    {
     "data": {
      "image/png": "[encoded data removed]",
      "text/plain": [
       "<Figure size 640x480 with 1 Axes>"
      ]
     },
     "metadata": {},
     "output_type": "display_data"
    }
   ],
   "source": [
    "print('default has no null values : ' , train['default'].isnull().sum())\n",
    "\n",
    "print('')\n",
    "print('---------------------------------------------------------------------------')\n",
    "print('')\n",
    "\n",
    "print(' Unique default : ' , train['default'].unique())\n",
    "\n",
    "print('')\n",
    "print('---------------------------------------------------------------------------')\n",
    "print('')\n",
    "\n",
    "print('default value counts: ' , train['default'].value_counts())\n",
    "\n",
    "print('')\n",
    "print('---------------------------------------------------------------------------')\n",
    "print('')\n",
    "\n",
    "train['default'].value_counts().plot(kind='bar')\n",
    "plt.show()\n",
    "\n",
    "\n",
    "train['default'] = train['default'].map({'no': 0, 'yes': 1})\n",
    "\n",
    "\n",
    "test['default'] = test['default'].map({'no': 0, 'yes': 1})\n"
   ]
  },
  {
   "cell_type": "markdown",
   "id": "30848b25",
   "metadata": {
    "papermill": {
     "duration": 0.02952,
     "end_time": "2024-11-09T17:49:58.924870",
     "exception": false,
     "start_time": "2024-11-09T17:49:58.895350",
     "status": "completed"
    },
    "tags": []
   },
   "source": [
    "# housing :has housing loan?"
   ]
  },
  {
   "cell_type": "markdown",
   "id": "f2290ff9",
   "metadata": {
    "papermill": {
     "duration": 0.029718,
     "end_time": "2024-11-09T17:49:58.984412",
     "exception": false,
     "start_time": "2024-11-09T17:49:58.954694",
     "status": "completed"
    },
    "tags": []
   },
   "source": [
    "* no null values\n",
    "* there is good number of people who dont have any housing loan "
   ]
  },
  {
   "cell_type": "code",
   "execution_count": 16,
   "id": "22adf2e0",
   "metadata": {
    "execution": {
     "iopub.execute_input": "2024-11-09T17:49:59.049362Z",
     "iopub.status.busy": "2024-11-09T17:49:59.048899Z",
     "iopub.status.idle": "2024-11-09T17:49:59.299369Z",
     "shell.execute_reply": "2024-11-09T17:49:59.298179Z"
    },
    "papermill": {
     "duration": 0.285559,
     "end_time": "2024-11-09T17:49:59.302101",
     "exception": false,
     "start_time": "2024-11-09T17:49:59.016542",
     "status": "completed"
    },
    "tags": []
   },
   "outputs": [
    {
     "name": "stdout",
     "output_type": "stream",
     "text": [
      "housing has no null values :  0\n",
      "\n",
      "---------------------------------------------------------------------------\n",
      "\n",
      " Unique housing :  ['yes' 'no']\n",
      "\n",
      "---------------------------------------------------------------------------\n",
      "\n",
      "housing value counts:  housing\n",
      "yes    21657\n",
      "no     17554\n",
      "Name: count, dtype: int64\n",
      "\n",
      "---------------------------------------------------------------------------\n",
      "\n"
     ]
    },
    {
     "data": {
      "image/png": "[encoded data removed]",
      "text/plain": [
       "<Figure size 640x480 with 1 Axes>"
      ]
     },
     "metadata": {},
     "output_type": "display_data"
    }
   ],
   "source": [
    "print('housing has no null values : ' , train['housing'].isnull().sum())\n",
    "\n",
    "print('')\n",
    "print('---------------------------------------------------------------------------')\n",
    "print('')\n",
    "\n",
    "print(' Unique housing : ' , train['housing'].unique())\n",
    "\n",
    "print('')\n",
    "print('---------------------------------------------------------------------------')\n",
    "print('')\n",
    "\n",
    "print('housing value counts: ' , train['housing'].value_counts())\n",
    "\n",
    "print('')\n",
    "print('---------------------------------------------------------------------------')\n",
    "print('')\n",
    "\n",
    "train['housing'].value_counts().plot(kind='bar')\n",
    "plt.show()\n",
    "\n",
    "train['housing'] = train['housing'].map({'no': 0, 'yes': 1})\n",
    "\n",
    "\n",
    "\n",
    "test['housing'] = test['housing'].map({'no': 0, 'yes': 1})\n"
   ]
  },
  {
   "cell_type": "markdown",
   "id": "c975c732",
   "metadata": {
    "papermill": {
     "duration": 0.029879,
     "end_time": "2024-11-09T17:49:59.363119",
     "exception": false,
     "start_time": "2024-11-09T17:49:59.333240",
     "status": "completed"
    },
    "tags": []
   },
   "source": [
    "# Loan : has personal loan? "
   ]
  },
  {
   "cell_type": "markdown",
   "id": "3523fc6a",
   "metadata": {
    "papermill": {
     "duration": 0.031087,
     "end_time": "2024-11-09T17:49:59.425866",
     "exception": false,
     "start_time": "2024-11-09T17:49:59.394779",
     "status": "completed"
    },
    "tags": []
   },
   "source": [
    "* no null values\n",
    "* there is significant number of people who dont have any loan"
   ]
  },
  {
   "cell_type": "code",
   "execution_count": 17,
   "id": "52017685",
   "metadata": {
    "execution": {
     "iopub.execute_input": "2024-11-09T17:49:59.489988Z",
     "iopub.status.busy": "2024-11-09T17:49:59.489523Z",
     "iopub.status.idle": "2024-11-09T17:49:59.747845Z",
     "shell.execute_reply": "2024-11-09T17:49:59.746716Z"
    },
    "papermill": {
     "duration": 0.293682,
     "end_time": "2024-11-09T17:49:59.750592",
     "exception": false,
     "start_time": "2024-11-09T17:49:59.456910",
     "status": "completed"
    },
    "tags": []
   },
   "outputs": [
    {
     "name": "stdout",
     "output_type": "stream",
     "text": [
      "loan has no null values :  0\n",
      "\n",
      "---------------------------------------------------------------------------\n",
      "\n",
      " Unique loan :  ['no' 'yes']\n",
      "\n",
      "---------------------------------------------------------------------------\n",
      "\n",
      "loan value counts:  loan\n",
      "no     31820\n",
      "yes     7391\n",
      "Name: count, dtype: int64\n",
      "\n",
      "---------------------------------------------------------------------------\n",
      "\n"
     ]
    },
    {
     "data": {
      "image/png": "[encoded data removed]",
      "text/plain": [
       "<Figure size 640x480 with 1 Axes>"
      ]
     },
     "metadata": {},
     "output_type": "display_data"
    }
   ],
   "source": [
    "print('loan has no null values : ' , train['loan'].isnull().sum())\n",
    "\n",
    "print('')\n",
    "print('---------------------------------------------------------------------------')\n",
    "print('')\n",
    "\n",
    "print(' Unique loan : ' , train['loan'].unique())\n",
    "\n",
    "print('')\n",
    "print('---------------------------------------------------------------------------')\n",
    "print('')\n",
    "\n",
    "print('loan value counts: ' , train['loan'].value_counts())\n",
    "\n",
    "print('')\n",
    "print('---------------------------------------------------------------------------')\n",
    "print('')\n",
    "\n",
    "train['loan'].value_counts().plot(kind='bar')\n",
    "plt.show()\n",
    "\n",
    "\n",
    "\n",
    "\n",
    "train['loan'] = train['loan'].map({'no': 0, 'yes': 1})\n",
    "\n",
    "\n",
    "test['loan'] = test['loan'].map({'no': 0, 'yes': 1})\n",
    "\n"
   ]
  },
  {
   "cell_type": "markdown",
   "id": "6957b01f",
   "metadata": {
    "papermill": {
     "duration": 0.030728,
     "end_time": "2024-11-09T17:49:59.812276",
     "exception": false,
     "start_time": "2024-11-09T17:49:59.781548",
     "status": "completed"
    },
    "tags": []
   },
   "source": [
    "# contact : communication type (categorical: \"unknown\",\"telephone\",\"cellular\")"
   ]
  },
  {
   "cell_type": "markdown",
   "id": "aa60eac2",
   "metadata": {
    "papermill": {
     "duration": 0.030908,
     "end_time": "2024-11-09T17:49:59.874755",
     "exception": false,
     "start_time": "2024-11-09T17:49:59.843847",
     "status": "completed"
    },
    "tags": []
   },
   "source": [
    "* contact column has  10336 null values\n",
    "* unique contact values are telelphone cellular\n",
    "* null values are replaced using most freq category"
   ]
  },
  {
   "cell_type": "code",
   "execution_count": 18,
   "id": "f5ce519b",
   "metadata": {
    "execution": {
     "iopub.execute_input": "2024-11-09T17:49:59.939310Z",
     "iopub.status.busy": "2024-11-09T17:49:59.938846Z",
     "iopub.status.idle": "2024-11-09T17:50:00.213115Z",
     "shell.execute_reply": "2024-11-09T17:50:00.211411Z"
    },
    "papermill": {
     "duration": 0.310076,
     "end_time": "2024-11-09T17:50:00.216064",
     "exception": false,
     "start_time": "2024-11-09T17:49:59.905988",
     "status": "completed"
    },
    "tags": []
   },
   "outputs": [
    {
     "name": "stdout",
     "output_type": "stream",
     "text": [
      "contact has null values :  10336\n",
      "\n",
      "---------------------------------------------------------------------------\n",
      "\n",
      " Unique contact :  ['cellular' 'telephone' nan]\n",
      "\n",
      "---------------------------------------------------------------------------\n",
      "\n",
      "contact value counts:  contact\n",
      "cellular     25030\n",
      "telephone     3845\n",
      "Name: count, dtype: int64\n",
      "\n",
      "---------------------------------------------------------------------------\n",
      "\n"
     ]
    },
    {
     "data": {
      "image/png": "[encoded data removed]",
      "text/plain": [
       "<Figure size 640x480 with 1 Axes>"
      ]
     },
     "metadata": {},
     "output_type": "display_data"
    }
   ],
   "source": [
    "print('contact has null values : ' , train['contact'].isnull().sum())\n",
    "\n",
    "print('')\n",
    "print('---------------------------------------------------------------------------')\n",
    "print('')\n",
    "\n",
    "print(' Unique contact : ' , train['contact'].unique())\n",
    "\n",
    "print('')\n",
    "print('---------------------------------------------------------------------------')\n",
    "print('')\n",
    "\n",
    "print('contact value counts: ' , train['contact'].value_counts())\n",
    "\n",
    "print('')\n",
    "print('---------------------------------------------------------------------------')\n",
    "print('')\n",
    "\n",
    "train['contact'].value_counts().plot(kind='bar')\n",
    "plt.show()\n",
    "\n",
    "\n",
    "train['contact']=train['contact'].replace(np.nan , 'cellular')\n",
    "\n",
    "train['contact'] = train['contact'].map({'cellular': 1, 'telephone': 0})\n",
    "\n",
    "\n",
    "\n",
    "test['contact']=test['contact'].replace(np.nan , 'cellular')\n",
    "test['contact'] = test['contact'].map({'cellular': 1, 'telephone': 0})\n",
    "\n"
   ]
  },
  {
   "cell_type": "markdown",
   "id": "849a80df",
   "metadata": {
    "papermill": {
     "duration": 0.033482,
     "end_time": "2024-11-09T17:50:00.285029",
     "exception": false,
     "start_time": "2024-11-09T17:50:00.251547",
     "status": "completed"
    },
    "tags": []
   },
   "source": [
    "# poutcome : outcome of the previous marketing campaign"
   ]
  },
  {
   "cell_type": "markdown",
   "id": "9e161b89",
   "metadata": {
    "papermill": {
     "duration": 0.033853,
     "end_time": "2024-11-09T17:50:00.351285",
     "exception": false,
     "start_time": "2024-11-09T17:50:00.317432",
     "status": "completed"
    },
    "tags": []
   },
   "source": [
    "* there are 29000 null values\n",
    "* 3 unique feature values\n",
    "* null are replaced by most freq category"
   ]
  },
  {
   "cell_type": "code",
   "execution_count": 19,
   "id": "658223e7",
   "metadata": {
    "execution": {
     "iopub.execute_input": "2024-11-09T17:50:00.419839Z",
     "iopub.status.busy": "2024-11-09T17:50:00.419359Z",
     "iopub.status.idle": "2024-11-09T17:50:00.921009Z",
     "shell.execute_reply": "2024-11-09T17:50:00.919724Z"
    },
    "papermill": {
     "duration": 0.538874,
     "end_time": "2024-11-09T17:50:00.924133",
     "exception": false,
     "start_time": "2024-11-09T17:50:00.385259",
     "status": "completed"
    },
    "tags": []
   },
   "outputs": [
    {
     "name": "stdout",
     "output_type": "stream",
     "text": [
      "poutcome has  null values :  29451\n",
      "\n",
      "---------------------------------------------------------------------------\n",
      "\n",
      " Unique poutcome :  ['other' nan 'failure' 'success']\n",
      "\n",
      "---------------------------------------------------------------------------\n",
      "\n",
      "poutcome value counts:  poutcome\n",
      "failure    4949\n",
      "other      2560\n",
      "success    2251\n",
      "Name: count, dtype: int64\n",
      "\n",
      "---------------------------------------------------------------------------\n",
      "\n"
     ]
    },
    {
     "data": {
      "image/png": "[encoded data removed]",
      "text/plain": [
       "<Figure size 640x480 with 1 Axes>"
      ]
     },
     "metadata": {},
     "output_type": "display_data"
    },
    {
     "data": {
      "image/png": "[encoded data removed]",
      "text/plain": [
       "<Figure size 640x480 with 1 Axes>"
      ]
     },
     "metadata": {},
     "output_type": "display_data"
    }
   ],
   "source": [
    "print('poutcome has  null values : ' , train['poutcome'].isnull().sum())\n",
    "\n",
    "print('')\n",
    "print('---------------------------------------------------------------------------')\n",
    "print('')\n",
    "\n",
    "print(' Unique poutcome : ' , train['poutcome'].unique())\n",
    "\n",
    "print('')\n",
    "print('---------------------------------------------------------------------------')\n",
    "print('')\n",
    "\n",
    "print('poutcome value counts: ' , train['poutcome'].value_counts())\n",
    "\n",
    "print('')\n",
    "print('---------------------------------------------------------------------------')\n",
    "print('')\n",
    "\n",
    "\n",
    "train['poutcome'].value_counts().plot(kind='bar')\n",
    "plt.show()\n",
    "\n",
    "\n",
    "\n",
    "train['poutcome'] = train['poutcome'].replace(np.nan, 'failure')\n",
    "\n",
    "\n",
    "train['poutcome'].value_counts().plot(kind='bar')\n",
    "plt.show()\n",
    "\n",
    "\n",
    "\n",
    "test['poutcome'] = test['poutcome'].replace(np.nan, 'failure')\n"
   ]
  },
  {
   "cell_type": "markdown",
   "id": "ea82636a",
   "metadata": {
    "papermill": {
     "duration": 0.032566,
     "end_time": "2024-11-09T17:50:00.990371",
     "exception": false,
     "start_time": "2024-11-09T17:50:00.957805",
     "status": "completed"
    },
    "tags": []
   },
   "source": [
    "# Numerical Columns\n",
    "# Age , Balance , campaign , pdays , previous"
   ]
  },
  {
   "cell_type": "markdown",
   "id": "0b9d6ad1",
   "metadata": {
    "papermill": {
     "duration": 0.03253,
     "end_time": "2024-11-09T17:50:01.055238",
     "exception": false,
     "start_time": "2024-11-09T17:50:01.022708",
     "status": "completed"
    },
    "tags": []
   },
   "source": [
    "# Age \n",
    "* zero null values in age features\n",
    "* 78 unique ages\n",
    "* "
   ]
  },
  {
   "cell_type": "code",
   "execution_count": 20,
   "id": "923392e7",
   "metadata": {
    "execution": {
     "iopub.execute_input": "2024-11-09T17:50:01.123819Z",
     "iopub.status.busy": "2024-11-09T17:50:01.122512Z",
     "iopub.status.idle": "2024-11-09T17:50:01.755194Z",
     "shell.execute_reply": "2024-11-09T17:50:01.753933Z"
    },
    "papermill": {
     "duration": 0.670489,
     "end_time": "2024-11-09T17:50:01.757922",
     "exception": false,
     "start_time": "2024-11-09T17:50:01.087433",
     "status": "completed"
    },
    "tags": []
   },
   "outputs": [
    {
     "name": "stdout",
     "output_type": "stream",
     "text": [
      "Age has no null values :  0\n",
      "\n",
      "---------------------------------------------------------------------------\n",
      "\n",
      "no. of age less than zero is  0\n",
      "\n",
      "---------------------------------------------------------------------------\n",
      "\n",
      " Unique Ages :  [26 52 44 33 31 25 46 37 38 32 28 34 86 42 58 39 35 47 45 48 30 50 56 54\n",
      " 40 53 41 51 27 29 57 63 36 43 19 55 49 23 83 60 22 80 76 59 24 93 71 89\n",
      " 64 68 85 79 62 69 20 90 66 87 72 88 67 70 77 91 78 61 65 73 74 84 82 92\n",
      " 81 18 21 75 94 95]\n",
      "\n",
      "---------------------------------------------------------------------------\n",
      "\n",
      "Age value counts:  age\n",
      "32    1688\n",
      "31    1629\n",
      "33    1599\n",
      "35    1571\n",
      "34    1566\n",
      "      ... \n",
      "18      44\n",
      "92      41\n",
      "87      40\n",
      "85      39\n",
      "95       2\n",
      "Name: count, Length: 78, dtype: int64\n",
      "\n",
      "---------------------------------------------------------------------------\n",
      "\n"
     ]
    },
    {
     "data": {
      "image/png": "[encoded data removed]",
      "text/plain": [
       "<Figure size 640x480 with 1 Axes>"
      ]
     },
     "metadata": {},
     "output_type": "display_data"
    },
    {
     "data": {
      "image/png": "[encoded data removed]",
      "text/plain": [
       "<Figure size 1000x1500 with 1 Axes>"
      ]
     },
     "metadata": {},
     "output_type": "display_data"
    }
   ],
   "source": [
    "print('Age has no null values : ' , train['age'].isnull().sum())\n",
    "\n",
    "print('')\n",
    "print('---------------------------------------------------------------------------')\n",
    "print('')\n",
    "\n",
    "print('no. of age less than zero is ', train[train['age']<0]['age'].count())\n",
    "\n",
    "\n",
    "print('')\n",
    "print('---------------------------------------------------------------------------')\n",
    "print('')\n",
    "\n",
    "print(' Unique Ages : ' , train['age'].unique())\n",
    "\n",
    "print('')\n",
    "print('---------------------------------------------------------------------------')\n",
    "print('')\n",
    "\n",
    "print('Age value counts: ' , train['age'].value_counts())\n",
    "\n",
    "print('')\n",
    "print('---------------------------------------------------------------------------')\n",
    "print('')\n",
    "\n",
    "train['age'].value_counts().plot(kind='hist')\n",
    "plt.show()\n",
    "\n",
    "plt.figure(figsize=(10, 15))\n",
    "plt.boxplot(train['age'])\n",
    "plt.title('Age Distribution')\n",
    "plt.ylabel('Age')\n",
    "plt.show()\n"
   ]
  },
  {
   "cell_type": "markdown",
   "id": "3cf6dba2",
   "metadata": {
    "papermill": {
     "duration": 0.033321,
     "end_time": "2024-11-09T17:50:01.825446",
     "exception": false,
     "start_time": "2024-11-09T17:50:01.792125",
     "status": "completed"
    },
    "tags": []
   },
   "source": [
    "# Feature Engineering Age Category\n",
    "categorize the age into young , middle , old"
   ]
  },
  {
   "cell_type": "code",
   "execution_count": 21,
   "id": "05551a87",
   "metadata": {
    "execution": {
     "iopub.execute_input": "2024-11-09T17:50:01.893481Z",
     "iopub.status.busy": "2024-11-09T17:50:01.892999Z",
     "iopub.status.idle": "2024-11-09T17:50:01.922099Z",
     "shell.execute_reply": "2024-11-09T17:50:01.920703Z"
    },
    "papermill": {
     "duration": 0.066434,
     "end_time": "2024-11-09T17:50:01.924913",
     "exception": false,
     "start_time": "2024-11-09T17:50:01.858479",
     "status": "completed"
    },
    "tags": []
   },
   "outputs": [],
   "source": [
    "def age_category(x):\n",
    "    if x<=39:\n",
    "        return 'young'\n",
    "    if 40<=x<=59:\n",
    "        return 'middle'\n",
    "    return 'old'\n",
    "\n",
    "\n",
    "train['Age_Category'] = train['age'].apply(age_category)\n",
    "\n",
    "test['Age_Category'] = test['age'].apply(age_category)\n",
    "\n"
   ]
  },
  {
   "cell_type": "markdown",
   "id": "77d8fec7",
   "metadata": {
    "papermill": {
     "duration": 0.032701,
     "end_time": "2024-11-09T17:50:01.990817",
     "exception": false,
     "start_time": "2024-11-09T17:50:01.958116",
     "status": "completed"
    },
    "tags": []
   },
   "source": [
    "# campaign: number of contacts performed during this campaign and for this client \n",
    "\n"
   ]
  },
  {
   "cell_type": "code",
   "execution_count": 22,
   "id": "c9685257",
   "metadata": {
    "execution": {
     "iopub.execute_input": "2024-11-09T17:50:02.060106Z",
     "iopub.status.busy": "2024-11-09T17:50:02.058641Z",
     "iopub.status.idle": "2024-11-09T17:50:02.569629Z",
     "shell.execute_reply": "2024-11-09T17:50:02.568360Z"
    },
    "papermill": {
     "duration": 0.548462,
     "end_time": "2024-11-09T17:50:02.572242",
     "exception": false,
     "start_time": "2024-11-09T17:50:02.023780",
     "status": "completed"
    },
    "tags": []
   },
   "outputs": [
    {
     "name": "stdout",
     "output_type": "stream",
     "text": [
      "campaign has no null values :  0\n",
      "\n",
      "---------------------------------------------------------------------------\n",
      "\n",
      "camaign less than zero is  0\n",
      "\n",
      "---------------------------------------------------------------------------\n",
      "\n",
      " Unique campaign  :  [ 2  1  3  4  6 45  5 44 12 61 58  7  8 20 43 17 13 15 48 34 11 54 22 26\n",
      " 29 21 10 49  9 52 53 57 16 50 46 47 23 37 18 38 32 36 39 56 14 30 41 63\n",
      " 51 28 25 62 55 42 35 31 59 19 40 33 24 27 60]\n",
      "\n",
      "---------------------------------------------------------------------------\n",
      "\n",
      "campaign value counts:  campaign\n",
      "1     14013\n",
      "2     10016\n",
      "3      4470\n",
      "4      2861\n",
      "5      1469\n",
      "      ...  \n",
      "48       44\n",
      "30       43\n",
      "40       43\n",
      "60       43\n",
      "53       38\n",
      "Name: count, Length: 63, dtype: int64\n",
      "\n",
      "---------------------------------------------------------------------------\n",
      "\n"
     ]
    },
    {
     "data": {
      "image/png": "[encoded data removed]",
      "text/plain": [
       "<Figure size 640x480 with 1 Axes>"
      ]
     },
     "metadata": {},
     "output_type": "display_data"
    },
    {
     "data": {
      "image/png": "[encoded data removed]",
      "text/plain": [
       "<Figure size 1000x1500 with 1 Axes>"
      ]
     },
     "metadata": {},
     "output_type": "display_data"
    }
   ],
   "source": [
    "print('campaign has no null values : ' , train['campaign'].isnull().sum())\n",
    "\n",
    "print('')\n",
    "print('---------------------------------------------------------------------------')\n",
    "print('')\n",
    "\n",
    "\n",
    "print('camaign less than zero is ', train[train['campaign']<0]['campaign'].count())\n",
    "\n",
    "\n",
    "print('')\n",
    "print('---------------------------------------------------------------------------')\n",
    "print('')\n",
    "print(' Unique campaign  : ' , train['campaign'].unique())\n",
    "\n",
    "print('')\n",
    "print('---------------------------------------------------------------------------')\n",
    "print('')\n",
    "\n",
    "print('campaign value counts: ' , train['campaign'].value_counts())\n",
    "\n",
    "print('')\n",
    "print('---------------------------------------------------------------------------')\n",
    "print('')\n",
    "\n",
    "train['campaign'].value_counts().plot(kind='hist')\n",
    "plt.show()\n",
    "plt.figure(figsize=(10, 15))\n",
    "plt.boxplot(train['campaign'])\n",
    "plt.title('campaign Distribution')\n",
    "plt.ylabel('campaign')\n",
    "plt.show()\n"
   ]
  },
  {
   "cell_type": "markdown",
   "id": "b86e995e",
   "metadata": {
    "papermill": {
     "duration": 0.034319,
     "end_time": "2024-11-09T17:50:02.641066",
     "exception": false,
     "start_time": "2024-11-09T17:50:02.606747",
     "status": "completed"
    },
    "tags": []
   },
   "source": [
    "# balance: average yearly balance"
   ]
  },
  {
   "cell_type": "code",
   "execution_count": 23,
   "id": "88e797ad",
   "metadata": {
    "execution": {
     "iopub.execute_input": "2024-11-09T17:50:02.714415Z",
     "iopub.status.busy": "2024-11-09T17:50:02.713957Z",
     "iopub.status.idle": "2024-11-09T17:50:03.405212Z",
     "shell.execute_reply": "2024-11-09T17:50:03.404003Z"
    },
    "papermill": {
     "duration": 0.731039,
     "end_time": "2024-11-09T17:50:03.407745",
     "exception": false,
     "start_time": "2024-11-09T17:50:02.676706",
     "status": "completed"
    },
    "tags": []
   },
   "outputs": [
    {
     "name": "stdout",
     "output_type": "stream",
     "text": [
      "balance has no null values :  0\n",
      "\n",
      "---------------------------------------------------------------------------\n",
      "\n",
      "checking if balance is negetive and how many rows have balance less than zero: 2971\n",
      "\n",
      "---------------------------------------------------------------------------\n",
      "\n",
      " Unique balance values :  [  647   553  1397 ...  4307  6187 38594]\n",
      "\n",
      "---------------------------------------------------------------------------\n",
      "\n",
      "balance value counts:  balance\n",
      "0        2799\n",
      "1         149\n",
      "2         122\n",
      "4         115\n",
      "3         104\n",
      "         ... \n",
      "95094       1\n",
      "81074       1\n",
      "31565       1\n",
      "5278        1\n",
      "38594       1\n",
      "Name: count, Length: 9535, dtype: int64\n",
      "\n",
      "---------------------------------------------------------------------------\n",
      "\n"
     ]
    },
    {
     "data": {
      "image/png": "[encoded data removed]",
      "text/plain": [
       "<Figure size 640x480 with 1 Axes>"
      ]
     },
     "metadata": {},
     "output_type": "display_data"
    },
    {
     "data": {
      "image/png": "[encoded data removed]",
      "text/plain": [
       "<Figure size 1000x1500 with 1 Axes>"
      ]
     },
     "metadata": {},
     "output_type": "display_data"
    }
   ],
   "source": [
    "print('balance has no null values : ' , train['balance'].isnull().sum())\n",
    "\n",
    "print('')\n",
    "print('---------------------------------------------------------------------------')\n",
    "print('')\n",
    "\n",
    "print('checking if balance is negetive and how many rows have balance less than zero:'  , train[train['balance']<0]['balance'].count())\n",
    "\n",
    "print('')\n",
    "print('---------------------------------------------------------------------------')\n",
    "print('')\n",
    "\n",
    "print(' Unique balance values : ' , train['balance'].unique())\n",
    "\n",
    "print('')\n",
    "print('---------------------------------------------------------------------------')\n",
    "print('')\n",
    "\n",
    "print('balance value counts: ' , train['balance'].value_counts())\n",
    "\n",
    "print('')\n",
    "print('---------------------------------------------------------------------------')\n",
    "print('')\n",
    "\n",
    "train['balance'].value_counts().plot(kind='hist')\n",
    "\n",
    "\n",
    "\n",
    "plt.figure(figsize=(10, 15))\n",
    "plt.boxplot(train['balance'])\n",
    "plt.title('balance Distribution')\n",
    "plt.ylabel('balance')\n",
    "plt.show()\n",
    "\n"
   ]
  },
  {
   "cell_type": "markdown",
   "id": "1a5e1195",
   "metadata": {
    "papermill": {
     "duration": 0.035931,
     "end_time": "2024-11-09T17:50:03.478853",
     "exception": false,
     "start_time": "2024-11-09T17:50:03.442922",
     "status": "completed"
    },
    "tags": []
   },
   "source": [
    "#  pdays: number of days that passed by after the client was last contacted from a previous campaign"
   ]
  },
  {
   "cell_type": "code",
   "execution_count": 24,
   "id": "7924edf3",
   "metadata": {
    "execution": {
     "iopub.execute_input": "2024-11-09T17:50:03.554373Z",
     "iopub.status.busy": "2024-11-09T17:50:03.553908Z",
     "iopub.status.idle": "2024-11-09T17:50:03.896223Z",
     "shell.execute_reply": "2024-11-09T17:50:03.895052Z"
    },
    "papermill": {
     "duration": 0.381948,
     "end_time": "2024-11-09T17:50:03.898867",
     "exception": false,
     "start_time": "2024-11-09T17:50:03.516919",
     "status": "completed"
    },
    "tags": []
   },
   "outputs": [
    {
     "name": "stdout",
     "output_type": "stream",
     "text": [
      "pdays has no null values :  0\n",
      "\n",
      "---------------------------------------------------------------------------\n",
      "\n",
      " Unique pdays values :  [331  -1 852 661 152 599 365 367 238 129 287 174 120 368 371 187 610 364\n",
      " 633  80 125 356 248 186 278 154  90  98 574 352 561 260 801  78 596 343\n",
      " 671 175 159  12 111  31 342 357  74 100 289  84 109 245 369  83 536 216\n",
      "  89  97 252 143 378 336 172 160 191  91 848 258 317  94 196 362 188 272\n",
      " 138 298 116 101 591 360 234 505 631  82   8 300 472 173 530 103 236 316\n",
      " 370 611 271 305  79 474 405 293 442 178 232 299 213 184 237  93  37 255\n",
      " 353 259 181 315 147 349 335 165 295 203 290   6 767 302 169 320 148  19\n",
      " 435 328 645 526 150 318 347  29  96 254  35 136 350 759 358 670 348 224\n",
      " 114 102 407 326 330 665 760 445 373 265 190 285 246 644 337 161 264 562\n",
      " 189 363 630 652  44 478 322 176 783 597 344 339 110 334 167 204 166 816\n",
      " 484 177 775 366  32 480 200 408 421 247 291 261 579 244 730 324 434 525\n",
      " 156 153 157  95 439 286 163 197 182 309 257 283 461 824  92 704 195 170\n",
      " 655 121  68 332 651 504 403 263 183 440 431 185 202 105 477 746 310 622\n",
      " 149 698 427 847 115 620 219 846 301  40 649 481 438 215  61 531  59 643\n",
      " 303 117  64 168 158 338 515 516  75 779 606 355 400 743 134  53 706 321\n",
      " 274 578 345 270 141   1 251 575 705  81 340 192 266 262 560 276 208 243\n",
      " 428 375  11 180 314  99 228 774  76 518 695 209 193 206 282 861 304 828\n",
      "  55 284  87 210 551 135 312 587 468 557  50 406 113 329 556 764 179 239\n",
      " 145 249 323  41 201  33 844 221 256 212 281 450  86 580 422 385 233 514\n",
      "  28 268  30 795 205  57 361 860   2 327 346 132 473  63 396 657  88 647\n",
      " 854  73 107 126 171 581 198  24 402 325 433 269  85 646  69 605 733 488\n",
      " 462 805 217 745 292 151 426 127 131 351 359 240 769 789 388 503 306 313\n",
      " 863 866 479 547 390   5 528 341 640 648 859 625 725 567 387 669 374 225\n",
      " 380 496 155 506 642 722 802  56 118 553 456 333 559 714 409 791 267 806\n",
      " 451 415 685 558 773 383 833 467 311 534   3 459 241 819 798  52 139 104\n",
      " 511 455 307 624 601 494 308 458 112 842 522 555 394 275 498 768 273 694\n",
      " 499 381 294 708 457 146 550 845 425 297   7 871 615 752 737 543 668  60\n",
      " 864 124 796 829 250 280  77 674 130 412 600 483 538 588 548 475  70 372\n",
      " 164 418 223 712 391 279 133 751 227 464 734 106 740 857 629 436 443 253\n",
      " 812 853 123 577 437 778 613 386  38 399 711 376 869 827 721  43 469 776\n",
      " 199 398 862 735 229 680 761 780 663 686  62 870 230  14 119  42  27  17\n",
      " 697 781 545 521 517 675 242 485 211 618 509 128 667  21 404 108 736 603\n",
      " 718 218 586 831 684 658 834 826 617 144  46 463 454 786  67  10 430 493\n",
      " 810 710 701 784 354 799 584 688  47 868 637 593 662 492 448 681 207 726\n",
      " 757 825 510 739 750 277 855 654 813 673 384 460 222 410 838 628 296 621\n",
      " 677 732   9 319 194 417 140 632 691 659 589 741 288 814 822  71 397 382\n",
      " 490 554 758 392 569  22 466 542 235 541 487 565 619 544 413 650 389 476\n",
      " 508 728 529 793 500 537 429 636 449 772 137 762 491 566 770 850  45 856\n",
      " 497 664 424 785 609 830 702  39 744 626 612 563 512 634 122 447 231 717\n",
      " 414 627 713 486 818 672 432 709 419 598  25 787 719 614  13 582 656 471\n",
      " 576 696 687 162 749 777 756 489 523 811 214 377 837  18 226 804 573 416\n",
      " 446 797  36 520   4  66 465 792 379 639 602 754 546 401 766 635  49 840\n",
      " 572 858  58 821 782 771 604 731  54 608 807  23 699 851 585 693 729 616\n",
      " 660 820 808 841  65 765 411 607 571 763 727  72 470 803 653  16 142 539\n",
      " 513 843  15 742 564 552 592 638 507 676 839 549 689 590  26 809 753 723\n",
      " 815 788 747 420 790 524 720 683 690 519 716 835 568 623 570 444 678  48\n",
      " 482 535 595 836 594 707 817 502 441  34 800 533 395  20 453 832 540 849\n",
      " 666 495 679 865 501 393 794  51 700 703 532 715 867 692 452 823 220   0\n",
      " 724]\n",
      "\n",
      "---------------------------------------------------------------------------\n",
      "\n",
      "pdays value counts:  pdays\n",
      "-1      29446\n",
      " 182      135\n",
      " 92       117\n",
      " 91       106\n",
      " 183      100\n",
      "        ...  \n",
      " 836        1\n",
      " 594        1\n",
      " 659        1\n",
      " 817        1\n",
      " 724        1\n",
      "Name: count, Length: 865, dtype: int64\n",
      "\n",
      "---------------------------------------------------------------------------\n",
      "\n"
     ]
    },
    {
     "data": {
      "image/png": "[encoded data removed]",
      "text/plain": [
       "<Figure size 640x480 with 1 Axes>"
      ]
     },
     "metadata": {},
     "output_type": "display_data"
    }
   ],
   "source": [
    "print('pdays has no null values : ' , train['pdays'].isnull().sum())\n",
    "\n",
    "print('')\n",
    "print('---------------------------------------------------------------------------')\n",
    "print('')\n",
    "\n",
    "print(' Unique pdays values : ' , train['pdays'].unique())\n",
    "\n",
    "print('')\n",
    "print('---------------------------------------------------------------------------')\n",
    "print('')\n",
    "\n",
    "print('pdays value counts: ' , train['pdays'].value_counts())\n",
    "\n",
    "print('')\n",
    "print('---------------------------------------------------------------------------')\n",
    "print('')\n",
    "\n",
    "train['pdays'].value_counts().plot(kind='hist')\n",
    "\n",
    "\n",
    "\n",
    "train['previously_contacted'] = train['pdays'].apply(lambda x: 1 if x != -1 else 0)\n",
    "\n",
    "test['previously_contacted'] = test['pdays'].apply(lambda x: 1 if x != -1 else 0)"
   ]
  },
  {
   "cell_type": "markdown",
   "id": "94d9625c",
   "metadata": {
    "papermill": {
     "duration": 0.035357,
     "end_time": "2024-11-09T17:50:03.970043",
     "exception": false,
     "start_time": "2024-11-09T17:50:03.934686",
     "status": "completed"
    },
    "tags": []
   },
   "source": [
    "# previous: number of contacts performed before this campaign and for this clien"
   ]
  },
  {
   "cell_type": "code",
   "execution_count": 25,
   "id": "04485569",
   "metadata": {
    "execution": {
     "iopub.execute_input": "2024-11-09T17:50:04.044693Z",
     "iopub.status.busy": "2024-11-09T17:50:04.044258Z",
     "iopub.status.idle": "2024-11-09T17:50:04.345411Z",
     "shell.execute_reply": "2024-11-09T17:50:04.344220Z"
    },
    "papermill": {
     "duration": 0.341608,
     "end_time": "2024-11-09T17:50:04.348105",
     "exception": false,
     "start_time": "2024-11-09T17:50:04.006497",
     "status": "completed"
    },
    "tags": []
   },
   "outputs": [
    {
     "name": "stdout",
     "output_type": "stream",
     "text": [
      "previous has no null values :  0\n",
      "\n",
      "---------------------------------------------------------------------------\n",
      "\n",
      "checking if previous is negetive and how many rows have previous less than zero: 0\n",
      "\n",
      "---------------------------------------------------------------------------\n",
      "\n",
      " Unique previous  :  [  1   0   4 143 234   3  18   2 225 219   6  12  16 248 217 116   8 119\n",
      "  37  69 113  14 265 175 103  28  86   5 196 156 207 218 148 213  87 241\n",
      "  60 235 172 255 266  17 135  99  20   9 270 229 188 105 141 153 131 182\n",
      " 223 177  70  75   7  91 236  85 100 160  30  63 178 150  72 233  40 145\n",
      " 272  24 249  97 193 140 222 128  90  10 155 122 134 252 117 173 203 226\n",
      "  23 194 208  77 274  38 273 244  15 176  96  31 133 259 191 101 197 192\n",
      " 152 216 204 206  71 180 250 268 144  81 110 136  43  19  74 187 205  66\n",
      " 269  36 166  29  53 200 261  13  61 186  62 104 138 123  78 189 147 185\n",
      " 179 129 190 111 139 211 245  22  51 171  26 254  84 174  46  48  58  68\n",
      " 228  11  80  55 107 232 202 132 264  56 260 181  32 163  94  83  54 240\n",
      " 154 198  49 221 242  35 120 125 243 256 146  67 124 108 169  82  39 258\n",
      " 112 237 114  59  42 165 199 184  92 168  21  88  33 159 183 109  65 164\n",
      " 215  93 246 102  95 201 162 195  41  64 157 257 263 267 126  47 212 149\n",
      "  52  73 239  25 118 161  27  76 121 170 230 262  89 137 220 209  57 251\n",
      " 247 115  34 238 271 167  98  50 142  45 227 275 106  79 210 214  44 253\n",
      " 224 151 231 130 158 127]\n",
      "\n",
      "---------------------------------------------------------------------------\n",
      "\n",
      "previous value counts:  previous\n",
      "0      29456\n",
      "1       2226\n",
      "2       1708\n",
      "3        907\n",
      "4        590\n",
      "       ...  \n",
      "163        5\n",
      "76         5\n",
      "180        5\n",
      "137        5\n",
      "231        4\n",
      "Name: count, Length: 276, dtype: int64\n",
      "\n",
      "---------------------------------------------------------------------------\n",
      "\n"
     ]
    },
    {
     "data": {
      "text/plain": [
       "<Axes: ylabel='Frequency'>"
      ]
     },
     "execution_count": 25,
     "metadata": {},
     "output_type": "execute_result"
    },
    {
     "data": {
      "image/png": "[encoded data removed]",
      "text/plain": [
       "<Figure size 640x480 with 1 Axes>"
      ]
     },
     "metadata": {},
     "output_type": "display_data"
    }
   ],
   "source": [
    "print('previous has no null values : ' , train['previous'].isnull().sum())\n",
    "\n",
    "print('')\n",
    "print('---------------------------------------------------------------------------')\n",
    "print('')\n",
    "\n",
    "\n",
    "print('checking if previous is negetive and how many rows have previous less than zero:'  , train[train['previous']<0]['previous'].count())\n",
    "\n",
    "\n",
    "print('')\n",
    "print('---------------------------------------------------------------------------')\n",
    "print('')\n",
    "\n",
    "\n",
    "print(' Unique previous  : ' , train['previous'].unique())\n",
    "\n",
    "print('')\n",
    "print('---------------------------------------------------------------------------')\n",
    "print('')\n",
    "\n",
    "print('previous value counts: ' , train['previous'].value_counts())\n",
    "\n",
    "print('')\n",
    "print('---------------------------------------------------------------------------')\n",
    "print('')\n",
    "\n",
    "train['previous'].value_counts().plot(kind='hist')\n"
   ]
  },
  {
   "cell_type": "code",
   "execution_count": 26,
   "id": "dc39c4d6",
   "metadata": {
    "execution": {
     "iopub.execute_input": "2024-11-09T17:50:04.422873Z",
     "iopub.status.busy": "2024-11-09T17:50:04.422416Z",
     "iopub.status.idle": "2024-11-09T17:50:04.547801Z",
     "shell.execute_reply": "2024-11-09T17:50:04.546337Z"
    },
    "papermill": {
     "duration": 0.166179,
     "end_time": "2024-11-09T17:50:04.550854",
     "exception": false,
     "start_time": "2024-11-09T17:50:04.384675",
     "status": "completed"
    },
    "tags": []
   },
   "outputs": [
    {
     "name": "stdout",
     "output_type": "stream",
     "text": [
      "Shape: (39211, 21)\n",
      "\n",
      "---------------------------------------------------------------------------\n",
      "\n",
      "<class 'pandas.core.frame.DataFrame'>\n",
      "RangeIndex: 39211 entries, 0 to 39210\n",
      "Data columns (total 21 columns):\n",
      " #   Column                Non-Null Count  Dtype         \n",
      "---  ------                --------------  -----         \n",
      " 0   last contact date     39211 non-null  datetime64[ns]\n",
      " 1   age                   39211 non-null  int64         \n",
      " 2   job                   39211 non-null  object        \n",
      " 3   marital               39211 non-null  object        \n",
      " 4   education             39211 non-null  object        \n",
      " 5   default               39211 non-null  int64         \n",
      " 6   balance               39211 non-null  int64         \n",
      " 7   housing               39211 non-null  int64         \n",
      " 8   loan                  39211 non-null  int64         \n",
      " 9   contact               39211 non-null  int64         \n",
      " 10  duration              39211 non-null  int64         \n",
      " 11  campaign              39211 non-null  int64         \n",
      " 12  pdays                 39211 non-null  int64         \n",
      " 13  previous              39211 non-null  int64         \n",
      " 14  poutcome              39211 non-null  object        \n",
      " 15  target                39211 non-null  object        \n",
      " 16  day                   39211 non-null  int32         \n",
      " 17  month                 39211 non-null  int32         \n",
      " 18  isSunday              39211 non-null  int64         \n",
      " 19  Age_Category          39211 non-null  object        \n",
      " 20  previously_contacted  39211 non-null  int64         \n",
      "dtypes: datetime64[ns](1), int32(2), int64(12), object(6)\n",
      "memory usage: 6.0+ MB\n",
      "None\n",
      "\n",
      "---------------------------------------------------------------------------\n",
      "\n"
     ]
    },
    {
     "data": {
      "text/html": [
       "<div>\n",
       "<style scoped>\n",
       "    .dataframe tbody tr th:only-of-type {\n",
       "        vertical-align: middle;\n",
       "    }\n",
       "\n",
       "    .dataframe tbody tr th {\n",
       "        vertical-align: top;\n",
       "    }\n",
       "\n",
       "    .dataframe thead th {\n",
       "        text-align: right;\n",
       "    }\n",
       "</style>\n",
       "<table border=\"1\" class=\"dataframe\">\n",
       "  <thead>\n",
       "    <tr style=\"text-align: right;\">\n",
       "      <th></th>\n",
       "      <th>last contact date</th>\n",
       "      <th>age</th>\n",
       "      <th>default</th>\n",
       "      <th>balance</th>\n",
       "      <th>housing</th>\n",
       "      <th>loan</th>\n",
       "      <th>contact</th>\n",
       "      <th>duration</th>\n",
       "      <th>campaign</th>\n",
       "      <th>pdays</th>\n",
       "      <th>previous</th>\n",
       "      <th>day</th>\n",
       "      <th>month</th>\n",
       "      <th>isSunday</th>\n",
       "      <th>previously_contacted</th>\n",
       "    </tr>\n",
       "  </thead>\n",
       "  <tbody>\n",
       "    <tr>\n",
       "      <th>count</th>\n",
       "      <td>39211</td>\n",
       "      <td>39211.000000</td>\n",
       "      <td>39211.000000</td>\n",
       "      <td>39211.000000</td>\n",
       "      <td>39211.000000</td>\n",
       "      <td>39211.000000</td>\n",
       "      <td>39211.000000</td>\n",
       "      <td>39211.000000</td>\n",
       "      <td>39211.000000</td>\n",
       "      <td>39211.000000</td>\n",
       "      <td>39211.000000</td>\n",
       "      <td>39211.000000</td>\n",
       "      <td>39211.000000</td>\n",
       "      <td>39211.000000</td>\n",
       "      <td>39211.000000</td>\n",
       "    </tr>\n",
       "    <tr>\n",
       "      <th>mean</th>\n",
       "      <td>2009-06-22 21:10:55.254902784</td>\n",
       "      <td>42.120247</td>\n",
       "      <td>0.057560</td>\n",
       "      <td>5441.781719</td>\n",
       "      <td>0.552320</td>\n",
       "      <td>0.188493</td>\n",
       "      <td>0.901941</td>\n",
       "      <td>439.062789</td>\n",
       "      <td>5.108770</td>\n",
       "      <td>72.256051</td>\n",
       "      <td>11.826171</td>\n",
       "      <td>2.822575</td>\n",
       "      <td>6.223993</td>\n",
       "      <td>0.157711</td>\n",
       "      <td>0.249037</td>\n",
       "    </tr>\n",
       "    <tr>\n",
       "      <th>min</th>\n",
       "      <td>2008-01-01 00:00:00</td>\n",
       "      <td>18.000000</td>\n",
       "      <td>0.000000</td>\n",
       "      <td>-8019.000000</td>\n",
       "      <td>0.000000</td>\n",
       "      <td>0.000000</td>\n",
       "      <td>0.000000</td>\n",
       "      <td>0.000000</td>\n",
       "      <td>1.000000</td>\n",
       "      <td>-1.000000</td>\n",
       "      <td>0.000000</td>\n",
       "      <td>0.000000</td>\n",
       "      <td>1.000000</td>\n",
       "      <td>0.000000</td>\n",
       "      <td>0.000000</td>\n",
       "    </tr>\n",
       "    <tr>\n",
       "      <th>25%</th>\n",
       "      <td>2008-08-11 00:00:00</td>\n",
       "      <td>33.000000</td>\n",
       "      <td>0.000000</td>\n",
       "      <td>98.000000</td>\n",
       "      <td>0.000000</td>\n",
       "      <td>0.000000</td>\n",
       "      <td>1.000000</td>\n",
       "      <td>109.000000</td>\n",
       "      <td>1.000000</td>\n",
       "      <td>-1.000000</td>\n",
       "      <td>0.000000</td>\n",
       "      <td>1.000000</td>\n",
       "      <td>5.000000</td>\n",
       "      <td>0.000000</td>\n",
       "      <td>0.000000</td>\n",
       "    </tr>\n",
       "    <tr>\n",
       "      <th>50%</th>\n",
       "      <td>2009-06-05 00:00:00</td>\n",
       "      <td>40.000000</td>\n",
       "      <td>0.000000</td>\n",
       "      <td>549.000000</td>\n",
       "      <td>1.000000</td>\n",
       "      <td>0.000000</td>\n",
       "      <td>1.000000</td>\n",
       "      <td>197.000000</td>\n",
       "      <td>2.000000</td>\n",
       "      <td>-1.000000</td>\n",
       "      <td>0.000000</td>\n",
       "      <td>3.000000</td>\n",
       "      <td>6.000000</td>\n",
       "      <td>0.000000</td>\n",
       "      <td>0.000000</td>\n",
       "    </tr>\n",
       "    <tr>\n",
       "      <th>75%</th>\n",
       "      <td>2010-05-08 00:00:00</td>\n",
       "      <td>50.000000</td>\n",
       "      <td>0.000000</td>\n",
       "      <td>2030.000000</td>\n",
       "      <td>1.000000</td>\n",
       "      <td>0.000000</td>\n",
       "      <td>1.000000</td>\n",
       "      <td>380.000000</td>\n",
       "      <td>4.000000</td>\n",
       "      <td>-1.000000</td>\n",
       "      <td>0.000000</td>\n",
       "      <td>4.000000</td>\n",
       "      <td>8.000000</td>\n",
       "      <td>0.000000</td>\n",
       "      <td>0.000000</td>\n",
       "    </tr>\n",
       "    <tr>\n",
       "      <th>max</th>\n",
       "      <td>2010-12-30 00:00:00</td>\n",
       "      <td>95.000000</td>\n",
       "      <td>1.000000</td>\n",
       "      <td>102127.000000</td>\n",
       "      <td>1.000000</td>\n",
       "      <td>1.000000</td>\n",
       "      <td>1.000000</td>\n",
       "      <td>4918.000000</td>\n",
       "      <td>63.000000</td>\n",
       "      <td>871.000000</td>\n",
       "      <td>275.000000</td>\n",
       "      <td>6.000000</td>\n",
       "      <td>12.000000</td>\n",
       "      <td>1.000000</td>\n",
       "      <td>1.000000</td>\n",
       "    </tr>\n",
       "    <tr>\n",
       "      <th>std</th>\n",
       "      <td>NaN</td>\n",
       "      <td>12.709352</td>\n",
       "      <td>0.232913</td>\n",
       "      <td>16365.292065</td>\n",
       "      <td>0.497261</td>\n",
       "      <td>0.391110</td>\n",
       "      <td>0.297398</td>\n",
       "      <td>769.096291</td>\n",
       "      <td>9.890153</td>\n",
       "      <td>160.942593</td>\n",
       "      <td>44.140259</td>\n",
       "      <td>1.741966</td>\n",
       "      <td>2.614273</td>\n",
       "      <td>0.364474</td>\n",
       "      <td>0.432461</td>\n",
       "    </tr>\n",
       "  </tbody>\n",
       "</table>\n",
       "</div>"
      ],
      "text/plain": [
       "                   last contact date           age       default  \\\n",
       "count                          39211  39211.000000  39211.000000   \n",
       "mean   2009-06-22 21:10:55.254902784     42.120247      0.057560   \n",
       "min              2008-01-01 00:00:00     18.000000      0.000000   \n",
       "25%              2008-08-11 00:00:00     33.000000      0.000000   \n",
       "50%              2009-06-05 00:00:00     40.000000      0.000000   \n",
       "75%              2010-05-08 00:00:00     50.000000      0.000000   \n",
       "max              2010-12-30 00:00:00     95.000000      1.000000   \n",
       "std                              NaN     12.709352      0.232913   \n",
       "\n",
       "             balance       housing          loan       contact      duration  \\\n",
       "count   39211.000000  39211.000000  39211.000000  39211.000000  39211.000000   \n",
       "mean     5441.781719      0.552320      0.188493      0.901941    439.062789   \n",
       "min     -8019.000000      0.000000      0.000000      0.000000      0.000000   \n",
       "25%        98.000000      0.000000      0.000000      1.000000    109.000000   \n",
       "50%       549.000000      1.000000      0.000000      1.000000    197.000000   \n",
       "75%      2030.000000      1.000000      0.000000      1.000000    380.000000   \n",
       "max    102127.000000      1.000000      1.000000      1.000000   4918.000000   \n",
       "std     16365.292065      0.497261      0.391110      0.297398    769.096291   \n",
       "\n",
       "           campaign         pdays      previous           day         month  \\\n",
       "count  39211.000000  39211.000000  39211.000000  39211.000000  39211.000000   \n",
       "mean       5.108770     72.256051     11.826171      2.822575      6.223993   \n",
       "min        1.000000     -1.000000      0.000000      0.000000      1.000000   \n",
       "25%        1.000000     -1.000000      0.000000      1.000000      5.000000   \n",
       "50%        2.000000     -1.000000      0.000000      3.000000      6.000000   \n",
       "75%        4.000000     -1.000000      0.000000      4.000000      8.000000   \n",
       "max       63.000000    871.000000    275.000000      6.000000     12.000000   \n",
       "std        9.890153    160.942593     44.140259      1.741966      2.614273   \n",
       "\n",
       "           isSunday  previously_contacted  \n",
       "count  39211.000000          39211.000000  \n",
       "mean       0.157711              0.249037  \n",
       "min        0.000000              0.000000  \n",
       "25%        0.000000              0.000000  \n",
       "50%        0.000000              0.000000  \n",
       "75%        0.000000              0.000000  \n",
       "max        1.000000              1.000000  \n",
       "std        0.364474              0.432461  "
      ]
     },
     "execution_count": 26,
     "metadata": {},
     "output_type": "execute_result"
    }
   ],
   "source": [
    "print('Shape:', train.shape)\n",
    "print('')\n",
    "print('---------------------------------------------------------------------------')\n",
    "print('')\n",
    "print(train.info())\n",
    "print('')\n",
    "print('---------------------------------------------------------------------------')\n",
    "print('')\n",
    "train.describe()"
   ]
  },
  {
   "cell_type": "markdown",
   "id": "a035e946",
   "metadata": {
    "papermill": {
     "duration": 0.039061,
     "end_time": "2024-11-09T17:50:04.630267",
     "exception": false,
     "start_time": "2024-11-09T17:50:04.591206",
     "status": "completed"
    },
    "tags": []
   },
   "source": [
    "# Column Transformer\n",
    "\n",
    "* for numerical features --> using robust scaler as it deals with outlier probelms\n",
    "* for categorical features using the one hot encoder \n",
    "\n",
    "* most of the features do not need the preprocesing as they as having 0 or 1 as feature values"
   ]
  },
  {
   "cell_type": "code",
   "execution_count": 27,
   "id": "ec3ff457",
   "metadata": {
    "execution": {
     "iopub.execute_input": "2024-11-09T17:50:04.709923Z",
     "iopub.status.busy": "2024-11-09T17:50:04.709462Z",
     "iopub.status.idle": "2024-11-09T17:50:04.723975Z",
     "shell.execute_reply": "2024-11-09T17:50:04.722735Z"
    },
    "papermill": {
     "duration": 0.056895,
     "end_time": "2024-11-09T17:50:04.726877",
     "exception": false,
     "start_time": "2024-11-09T17:50:04.669982",
     "status": "completed"
    },
    "tags": []
   },
   "outputs": [],
   "source": [
    "from sklearn.compose import ColumnTransformer\n",
    "from sklearn.preprocessing import StandardScaler , OneHotEncoder  , LabelEncoder, RobustScaler , OrdinalEncoder\n",
    "# month\n",
    "\n",
    "col_transformer=ColumnTransformer(transformers=[\n",
    "    \n",
    "    ('numerical_cols' , RobustScaler(),['age','balance','campaign','previous', 'duration']), \n",
    "    ('categorical_cols' , OneHotEncoder(handle_unknown='ignore',sparse_output=False),['job','marital','poutcome','Age_Category','month' ,'day','education']),\n",
    "#     ('label_cols', OrdinalEncoder(),['education' , 'Age_Category'])\n",
    "   \n",
    "    \n",
    "])"
   ]
  },
  {
   "cell_type": "markdown",
   "id": "a20483e4",
   "metadata": {
    "papermill": {
     "duration": 0.036721,
     "end_time": "2024-11-09T17:50:04.802580",
     "exception": false,
     "start_time": "2024-11-09T17:50:04.765859",
     "status": "completed"
    },
    "tags": []
   },
   "source": [
    "# Find the Relationship between features\n",
    "* previous and balance are also correlated  => 0.71"
   ]
  },
  {
   "cell_type": "code",
   "execution_count": 28,
   "id": "af5ce240",
   "metadata": {
    "execution": {
     "iopub.execute_input": "2024-11-09T17:50:04.879156Z",
     "iopub.status.busy": "2024-11-09T17:50:04.878722Z",
     "iopub.status.idle": "2024-11-09T17:50:04.989010Z",
     "shell.execute_reply": "2024-11-09T17:50:04.987561Z"
    },
    "papermill": {
     "duration": 0.151052,
     "end_time": "2024-11-09T17:50:04.991531",
     "exception": false,
     "start_time": "2024-11-09T17:50:04.840479",
     "status": "completed"
    },
    "tags": []
   },
   "outputs": [
    {
     "data": {
      "text/html": [
       "<style type=\"text/css\">\n",
       "</style>\n",
       "<table id=\"T_e4469\">\n",
       "  <thead>\n",
       "  </thead>\n",
       "  <tbody>\n",
       "  </tbody>\n",
       "</table>\n"
      ],
      "text/plain": [
       "<pandas.io.formats.style.Styler at 0x7a261e779990>"
      ]
     },
     "execution_count": 28,
     "metadata": {},
     "output_type": "execute_result"
    }
   ],
   "source": [
    "corr = train.select_dtypes(include=[ 'float64']).corr()\n",
    "corr.style.background_gradient(cmap='coolwarm')"
   ]
  },
  {
   "cell_type": "markdown",
   "id": "a1e8d94e",
   "metadata": {
    "papermill": {
     "duration": 0.037011,
     "end_time": "2024-11-09T17:50:05.065659",
     "exception": false,
     "start_time": "2024-11-09T17:50:05.028648",
     "status": "completed"
    },
    "tags": []
   },
   "source": [
    "# Converted target feature into (0,1) ===> (no,yes) \n"
   ]
  },
  {
   "cell_type": "code",
   "execution_count": 29,
   "id": "1a8731ea",
   "metadata": {
    "execution": {
     "iopub.execute_input": "2024-11-09T17:50:05.146258Z",
     "iopub.status.busy": "2024-11-09T17:50:05.145521Z",
     "iopub.status.idle": "2024-11-09T17:50:05.151327Z",
     "shell.execute_reply": "2024-11-09T17:50:05.150075Z"
    },
    "papermill": {
     "duration": 0.05084,
     "end_time": "2024-11-09T17:50:05.153791",
     "exception": false,
     "start_time": "2024-11-09T17:50:05.102951",
     "status": "completed"
    },
    "tags": []
   },
   "outputs": [],
   "source": [
    "# train_yes=train[train['target']=='no'].sample(15000 , random_state=42)\n",
    "# train_no=train[train['target']=='yes']\n",
    "\n",
    "# train= pd.concat([train_yes, train_no])"
   ]
  },
  {
   "cell_type": "code",
   "execution_count": 30,
   "id": "d29e9dc9",
   "metadata": {
    "execution": {
     "iopub.execute_input": "2024-11-09T17:50:05.237552Z",
     "iopub.status.busy": "2024-11-09T17:50:05.237074Z",
     "iopub.status.idle": "2024-11-09T17:50:05.266923Z",
     "shell.execute_reply": "2024-11-09T17:50:05.264219Z"
    },
    "papermill": {
     "duration": 0.079511,
     "end_time": "2024-11-09T17:50:05.271099",
     "exception": false,
     "start_time": "2024-11-09T17:50:05.191588",
     "status": "completed"
    },
    "tags": []
   },
   "outputs": [],
   "source": [
    "train['target'] = train['target'].map({'yes': 1, 'no': 0})\n",
    "\n",
    "y=train['target']\n",
    "\n",
    "train=train[['age','balance','campaign','previous','duration' ,'job','marital','poutcome' ,'education','previously_contacted' ,'default','housing','loan','contact' ,'Age_Category','day', 'month','isSunday']]\n",
    "\n",
    "test=test[['age','balance','campaign','previous','duration' ,'job','marital','poutcome' ,'education','previously_contacted' ,'default','housing','loan','contact' ,'Age_Category','day', 'month','isSunday']]\n"
   ]
  },
  {
   "cell_type": "markdown",
   "id": "f9eecb32",
   "metadata": {
    "papermill": {
     "duration": 0.037116,
     "end_time": "2024-11-09T17:50:05.356705",
     "exception": false,
     "start_time": "2024-11-09T17:50:05.319589",
     "status": "completed"
    },
    "tags": []
   },
   "source": [
    "# train test split\n",
    "xtrain , xtest , ytrain , ytest"
   ]
  },
  {
   "cell_type": "code",
   "execution_count": 31,
   "id": "0e309f92",
   "metadata": {
    "execution": {
     "iopub.execute_input": "2024-11-09T17:50:05.432928Z",
     "iopub.status.busy": "2024-11-09T17:50:05.432513Z",
     "iopub.status.idle": "2024-11-09T17:50:05.475704Z",
     "shell.execute_reply": "2024-11-09T17:50:05.474501Z"
    },
    "papermill": {
     "duration": 0.08435,
     "end_time": "2024-11-09T17:50:05.478353",
     "exception": false,
     "start_time": "2024-11-09T17:50:05.394003",
     "status": "completed"
    },
    "tags": []
   },
   "outputs": [
    {
     "name": "stdout",
     "output_type": "stream",
     "text": [
      "Train\n",
      "--------------------------------------------------\n",
      "xtrain, ytrain shape ((31368, 18), (31368,))\n",
      "\n",
      "Test\n",
      "--------------------------------------------------\n",
      "xtest, ytest shape ((7843, 18), (7843,))\n"
     ]
    }
   ],
   "source": [
    "xtrain , xtest , ytrain , ytest = train_test_split(train , y ,test_size=0.2, random_state=1 , shuffle=True , stratify=y)\n",
    "\n",
    "\n",
    "print(\"Train\")\n",
    "print(\"--------------------------------------------------\")\n",
    "print(\"xtrain, ytrain shape\" , (xtrain.shape , ytrain.shape))\n",
    "print(\"\")\n",
    "print(\"Test\")\n",
    "print(\"--------------------------------------------------\")\n",
    "print(\"xtest, ytest shape\" , (xtest.shape , ytest.shape))\n",
    "\n"
   ]
  },
  {
   "cell_type": "code",
   "execution_count": 32,
   "id": "e76b39d2",
   "metadata": {
    "execution": {
     "iopub.execute_input": "2024-11-09T17:50:05.555345Z",
     "iopub.status.busy": "2024-11-09T17:50:05.554856Z",
     "iopub.status.idle": "2024-11-09T17:50:05.560409Z",
     "shell.execute_reply": "2024-11-09T17:50:05.559218Z"
    },
    "papermill": {
     "duration": 0.046707,
     "end_time": "2024-11-09T17:50:05.562975",
     "exception": false,
     "start_time": "2024-11-09T17:50:05.516268",
     "status": "completed"
    },
    "tags": []
   },
   "outputs": [],
   "source": [
    "smote= SMOTETomek( random_state=42,sampling_strategy='minority') "
   ]
  },
  {
   "cell_type": "markdown",
   "id": "431b8db7",
   "metadata": {
    "papermill": {
     "duration": 0.037124,
     "end_time": "2024-11-09T17:50:05.637064",
     "exception": false,
     "start_time": "2024-11-09T17:50:05.599940",
     "status": "completed"
    },
    "tags": []
   },
   "source": [
    "# Model 1 => Random Frorest Classifier\n",
    "* model without hyperparameter tuning :\n",
    "* f1_score is 67\n",
    "  "
   ]
  },
  {
   "cell_type": "code",
   "execution_count": 33,
   "id": "c4119f22",
   "metadata": {
    "execution": {
     "iopub.execute_input": "2024-11-09T17:50:05.716741Z",
     "iopub.status.busy": "2024-11-09T17:50:05.715559Z",
     "iopub.status.idle": "2024-11-09T17:50:11.711729Z",
     "shell.execute_reply": "2024-11-09T17:50:11.710496Z"
    },
    "papermill": {
     "duration": 6.040772,
     "end_time": "2024-11-09T17:50:11.714771",
     "exception": false,
     "start_time": "2024-11-09T17:50:05.673999",
     "status": "completed"
    },
    "tags": []
   },
   "outputs": [
    {
     "name": "stdout",
     "output_type": "stream",
     "text": [
      "randomForestClassifier f1_score  0.6790187469285489\n",
      "\n",
      "------------------------------------------------------------\n",
      "Classification Report\n",
      "\n",
      "              precision    recall  f1-score   support\n",
      "\n",
      "           0       0.89      0.96      0.93      6677\n",
      "           1       0.62      0.33      0.43      1166\n",
      "\n",
      "    accuracy                           0.87      7843\n",
      "   macro avg       0.76      0.65      0.68      7843\n",
      "weighted avg       0.85      0.87      0.85      7843\n",
      "\n",
      "\n",
      "------------------------------------------------------------\n",
      "Confusion Matrix\n",
      "\n"
     ]
    },
    {
     "data": {
      "text/plain": [
       "<sklearn.metrics._plot.confusion_matrix.ConfusionMatrixDisplay at 0x7a261e874850>"
      ]
     },
     "execution_count": 33,
     "metadata": {},
     "output_type": "execute_result"
    },
    {
     "data": {
      "image/png": "[encoded data removed]",
      "text/plain": [
       "<Figure size 640x480 with 2 Axes>"
      ]
     },
     "metadata": {},
     "output_type": "display_data"
    }
   ],
   "source": [
    "\n",
    "# rf=RandomForestClassifier(random_state=1 , n_estimators=100, max_depth=10 , min_samples_split=3 , min_samples_leaf=3 , class_weight='balanced')\n",
    "\n",
    "rf=RandomForestClassifier(random_state=1 , n_estimators=100 , class_weight='balanced')\n",
    "\n",
    "randomForestClassifier=Pipeline([('col_transformer',col_transformer),('randomForest',rf)])\n",
    "\n",
    "randomForestClassifier.fit(xtrain, ytrain)\n",
    "\n",
    "ypredicted_rf=randomForestClassifier.predict(xtest)\n",
    "\n",
    "\n",
    "\n",
    "print(   'randomForestClassifier f1_score '  ,     f1_score(ytest, ypredicted_rf  , average='macro')    )\n",
    "\n",
    "print('')\n",
    "print('------------------------------------------------------------')\n",
    "\n",
    "print('Classification Report')\n",
    "print('')\n",
    "print(classification_report(ytest ,ypredicted_rf))\n",
    "\n",
    "print('')\n",
    "print('------------------------------------------------------------')\n",
    "\n",
    "print('Confusion Matrix')\n",
    "print('')\n",
    "ConfusionMatrixDisplay.from_estimator(randomForestClassifier,xtest,ytest)\n"
   ]
  },
  {
   "cell_type": "markdown",
   "id": "61382867",
   "metadata": {
    "papermill": {
     "duration": 0.038408,
     "end_time": "2024-11-09T17:50:11.791454",
     "exception": false,
     "start_time": "2024-11-09T17:50:11.753046",
     "status": "completed"
    },
    "tags": []
   },
   "source": [
    "# Hyperparameter Tuning Model 1 : random Forest\n",
    "* f1_score improved in this model , 76\n",
    "* used smote which also helped\n",
    "* best parameters were max_Depth = 15 , min_samples_leaf=3 and min_sample_split=3\n",
    "* used stratifiedKKfold cross_validation\n",
    "  "
   ]
  },
  {
   "cell_type": "code",
   "execution_count": 34,
   "id": "2da6d4b8",
   "metadata": {
    "execution": {
     "iopub.execute_input": "2024-11-09T17:50:11.870182Z",
     "iopub.status.busy": "2024-11-09T17:50:11.869756Z",
     "iopub.status.idle": "2024-11-09T17:50:11.876199Z",
     "shell.execute_reply": "2024-11-09T17:50:11.875055Z"
    },
    "papermill": {
     "duration": 0.048973,
     "end_time": "2024-11-09T17:50:11.878648",
     "exception": false,
     "start_time": "2024-11-09T17:50:11.829675",
     "status": "completed"
    },
    "tags": []
   },
   "outputs": [],
   "source": [
    "# from imblearn.pipeline import Pipeline \n",
    "\n",
    "# randomForestClassifier=RandomForestClassifier(random_state=1 ,n_estimators=100,class_weight='balanced', n_jobs=-1)\n",
    "\n",
    "# rf=Pipeline([('col_transformer',col_transformer),('smote',smote),('rf',randomForestClassifier)])\n",
    "\n",
    "# params={'rf__max_depth':[10,15],'rf__min_samples_split':[3,5],'rf__min_samples_leaf':[3,5]}\n",
    "\n",
    "# rf_grid=GridSearchCV(rf,param_grid=params,n_jobs=-1,cv=5)\n",
    "\n",
    "# rf_grid.fit(xtrain,ytrain)\n",
    "\n",
    "# print('')\n",
    "# print(\"Best Params random forest\",rf_grid.best_params_)\n",
    "\n",
    "# print('')\n",
    "# print('------------------------------------------------------------')\n",
    "\n",
    "\n",
    "# rf_grid=rf_grid.best_estimator_\n",
    "\n",
    "# ypred_rf_grid=rf_grid.predict(xtest)\n",
    "\n",
    "# print(   ' rf_grid f1_score macro '  ,     f1_score(ytest, ypred_rf_grid  , average='macro')    )\n",
    "\n",
    "# print('')\n",
    "# print('------------------------------------------------------------')\n",
    "\n",
    "# print('Classification Report of random forest best estimator ')\n",
    "# print('')\n",
    "\n",
    "# print(classification_report(ytest ,ypred_rf_grid))\n",
    "\n",
    "# print('Confusion Matrix of random forest best estimator')\n",
    "\n",
    "# print('')\n",
    "# print('------------------------------------------------------------')\n",
    "\n",
    "# ConfusionMatrixDisplay.from_estimator(rf_grid,xtest,ytest)"
   ]
  },
  {
   "cell_type": "markdown",
   "id": "603ec634",
   "metadata": {
    "papermill": {
     "duration": 0.038414,
     "end_time": "2024-11-09T17:50:11.956364",
     "exception": false,
     "start_time": "2024-11-09T17:50:11.917950",
     "status": "completed"
    },
    "tags": []
   },
   "source": [
    "# Model2 => XGBoost\n",
    "\n",
    "* f1_score is 0.76"
   ]
  },
  {
   "cell_type": "code",
   "execution_count": 35,
   "id": "013e093a",
   "metadata": {
    "execution": {
     "iopub.execute_input": "2024-11-09T17:50:12.034217Z",
     "iopub.status.busy": "2024-11-09T17:50:12.033731Z",
     "iopub.status.idle": "2024-11-09T17:50:13.129194Z",
     "shell.execute_reply": "2024-11-09T17:50:13.127948Z"
    },
    "papermill": {
     "duration": 1.137591,
     "end_time": "2024-11-09T17:50:13.131923",
     "exception": false,
     "start_time": "2024-11-09T17:50:11.994332",
     "status": "completed"
    },
    "tags": []
   },
   "outputs": [
    {
     "name": "stdout",
     "output_type": "stream",
     "text": [
      "\n",
      "f1_Score xgb 0.7604463778020902\n",
      "\n",
      "----------------------------------------------------------\n",
      "Classification Report Xgboost\n",
      "              precision    recall  f1-score   support\n",
      "\n",
      "           0       0.94      0.89      0.92      6677\n",
      "           1       0.53      0.69      0.60      1166\n",
      "\n",
      "    accuracy                           0.86      7843\n",
      "   macro avg       0.74      0.79      0.76      7843\n",
      "weighted avg       0.88      0.86      0.87      7843\n",
      "\n",
      "\n",
      "----------------------------------------------------------\n",
      "\n",
      "Confusion Matrix Xgboost\n",
      "\n"
     ]
    },
    {
     "data": {
      "text/plain": [
       "<sklearn.metrics._plot.confusion_matrix.ConfusionMatrixDisplay at 0x7a261e60d930>"
      ]
     },
     "execution_count": 35,
     "metadata": {},
     "output_type": "execute_result"
    },
    {
     "data": {
      "image/png": "[encoded data removed]",
      "text/plain": [
       "<Figure size 640x480 with 2 Axes>"
      ]
     },
     "metadata": {},
     "output_type": "display_data"
    }
   ],
   "source": [
    "from sklearn.pipeline import Pipeline\n",
    "\n",
    "\n",
    "xgb=Pipeline([('col_transformer',col_transformer),('xgbb',XGBClassifier(scale_pos_weight=3, random_state=1))])\n",
    "xgb.fit(xtrain , ytrain)\n",
    "ypred_xgb=xgb.predict(xtest)\n",
    "\n",
    "\n",
    "print('')\n",
    "print('f1_Score xgb',f1_score(ytest , ypred_xgb , average='macro'))\n",
    "\n",
    "\n",
    "print('')\n",
    "print('----------------------------------------------------------')\n",
    "\n",
    "print('Classification Report Xgboost')\n",
    "\n",
    "print(classification_report(ytest ,ypred_xgb))\n",
    "\n",
    "print('')\n",
    "print('----------------------------------------------------------')\n",
    "print('')\n",
    "\n",
    "print('Confusion Matrix Xgboost')\n",
    "print('')\n",
    "ConfusionMatrixDisplay.from_estimator(xgb,xtest,ytest)\n",
    "\n"
   ]
  },
  {
   "cell_type": "markdown",
   "id": "89fb7041",
   "metadata": {
    "papermill": {
     "duration": 0.039533,
     "end_time": "2024-11-09T17:50:13.210271",
     "exception": false,
     "start_time": "2024-11-09T17:50:13.170738",
     "status": "completed"
    },
    "tags": []
   },
   "source": [
    "# Hyperparameter Tuning Xgboost\n",
    "* f1_Score is 77 "
   ]
  },
  {
   "cell_type": "code",
   "execution_count": 36,
   "id": "4559e7f2",
   "metadata": {
    "execution": {
     "iopub.execute_input": "2024-11-09T17:50:13.292674Z",
     "iopub.status.busy": "2024-11-09T17:50:13.292201Z",
     "iopub.status.idle": "2024-11-09T17:50:13.298766Z",
     "shell.execute_reply": "2024-11-09T17:50:13.297526Z"
    },
    "papermill": {
     "duration": 0.050243,
     "end_time": "2024-11-09T17:50:13.301392",
     "exception": false,
     "start_time": "2024-11-09T17:50:13.251149",
     "status": "completed"
    },
    "tags": []
   },
   "outputs": [],
   "source": [
    "# param_grid = {\n",
    "#     'xgbb__max_depth': [3, 5, 7],'xgbb__min_child_weight': [1, 3, 5],'xgbb__gamma': [ 0.2,0.3],'xgbb__learning_rate': [0.01, 0.1, 0.2]}\n",
    "\n",
    "# cv_strat = StratifiedKFold(n_splits=10, shuffle=True, random_state=1)\n",
    "\n",
    "# xgb=Pipeline([('col_transformer',col_transformer),('xgbb',XGBClassifier(scale_pos_weight=3 , random_state=1))])\n",
    "\n",
    "# grid_xgb = GridSearchCV(xgb,param_grid=param_grid,scoring='f1_macro',cv=cv_strat,verbose=1,n_jobs=-1)\n",
    "\n",
    "# grid_xgb.fit(xtrain,ytrain)\n",
    "\n",
    "# print('')\n",
    "# print(\"Best Params\",grid_xgb.best_params_)\n",
    "# print('')\n",
    "# print('-------------------------------------------------------')\n",
    "\n",
    "# grid_xgb=grid_xgb.best_estimator_\n",
    "\n",
    "# ypred_grid_xgb=grid_xgb.predict(xtest)\n",
    "\n",
    "# print(   ' xgboost best estimator f1_score macro '  ,     f1_score(ytest, ypred_grid_xgb , average='macro')    )\n",
    "# print('')\n",
    "# print('-------------------------------------------------------')\n",
    "\n",
    "\n",
    "# print('Classification Report xgboost best estimator')\n",
    "\n",
    "# print(classification_report(ytest ,ypred_grid_xgb))\n",
    "\n",
    "# print('')\n",
    "# print('-------------------------------------------------------')\n",
    "\n",
    "\n",
    "# print('Confusion Matrix xgboost best estimator')\n",
    "\n",
    "# ConfusionMatrixDisplay.from_estimator(grid_xgb,xtest,ytest)\n",
    "\n"
   ]
  },
  {
   "cell_type": "markdown",
   "id": "0655944b",
   "metadata": {
    "papermill": {
     "duration": 0.038301,
     "end_time": "2024-11-09T17:50:13.379263",
     "exception": false,
     "start_time": "2024-11-09T17:50:13.340962",
     "status": "completed"
    },
    "tags": []
   },
   "source": [
    "# Decision Tree Classifier\n",
    "* f1_score is 71"
   ]
  },
  {
   "cell_type": "code",
   "execution_count": 37,
   "id": "a8d2e251",
   "metadata": {
    "execution": {
     "iopub.execute_input": "2024-11-09T17:50:13.458249Z",
     "iopub.status.busy": "2024-11-09T17:50:13.457794Z",
     "iopub.status.idle": "2024-11-09T17:50:14.276380Z",
     "shell.execute_reply": "2024-11-09T17:50:14.275091Z"
    },
    "papermill": {
     "duration": 0.861244,
     "end_time": "2024-11-09T17:50:14.278916",
     "exception": false,
     "start_time": "2024-11-09T17:50:13.417672",
     "status": "completed"
    },
    "tags": []
   },
   "outputs": [
    {
     "name": "stdout",
     "output_type": "stream",
     "text": [
      "\n",
      "DecisionTreeClassifier f1_score macro 0.7170722811039821\n",
      "------------------------------------------------------------------------------------\n",
      "\n",
      "Classification Report\n",
      "              precision    recall  f1-score   support\n",
      "\n",
      "           0       0.95      0.83      0.88      6677\n",
      "           1       0.43      0.75      0.55      1166\n",
      "\n",
      "    accuracy                           0.82      7843\n",
      "   macro avg       0.69      0.79      0.72      7843\n",
      "weighted avg       0.87      0.82      0.83      7843\n",
      "\n",
      "\n",
      "------------------------------------------------------------------------------------\n",
      "Confusion Matrix\n",
      "\n"
     ]
    },
    {
     "data": {
      "text/plain": [
       "<sklearn.metrics._plot.confusion_matrix.ConfusionMatrixDisplay at 0x7a261e6f89a0>"
      ]
     },
     "execution_count": 37,
     "metadata": {},
     "output_type": "execute_result"
    },
    {
     "data": {
      "image/png": "[encoded data removed]",
      "text/plain": [
       "<Figure size 640x480 with 2 Axes>"
      ]
     },
     "metadata": {},
     "output_type": "display_data"
    }
   ],
   "source": [
    "from sklearn.tree import DecisionTreeClassifier\n",
    "dt=DecisionTreeClassifier(random_state=1 ,max_depth=15 , min_samples_split=4 , min_samples_leaf=5 , class_weight='balanced' )\n",
    "dtc=Pipeline([('col_transformer',col_transformer),('dt',dt)])\n",
    "dtc.fit(xtrain , ytrain)\n",
    "ypred_dtc=dtc.predict(xtest)\n",
    "print('')\n",
    "\n",
    "print('DecisionTreeClassifier f1_score macro',f1_score(ytest, ypred_dtc , average='macro'))\n",
    "print('------------------------------------------------------------------------------------')\n",
    "print('')\n",
    "\n",
    "print('Classification Report')\n",
    "print(classification_report(ytest ,ypred_dtc))\n",
    "print('')\n",
    "print('------------------------------------------------------------------------------------')\n",
    "print('Confusion Matrix')\n",
    "print('')\n",
    "ConfusionMatrixDisplay.from_estimator(dtc,xtest,ytest)\n",
    "\n",
    "\n"
   ]
  },
  {
   "cell_type": "markdown",
   "id": "31dae594",
   "metadata": {
    "papermill": {
     "duration": 0.039202,
     "end_time": "2024-11-09T17:50:14.357687",
     "exception": false,
     "start_time": "2024-11-09T17:50:14.318485",
     "status": "completed"
    },
    "tags": []
   },
   "source": [
    "# Model 3 => RUSBoostClassifier\n",
    "* f1_score = 77"
   ]
  },
  {
   "cell_type": "code",
   "execution_count": 38,
   "id": "79ee7e62",
   "metadata": {
    "execution": {
     "iopub.execute_input": "2024-11-09T17:50:14.438712Z",
     "iopub.status.busy": "2024-11-09T17:50:14.438278Z",
     "iopub.status.idle": "2024-11-09T17:50:31.857975Z",
     "shell.execute_reply": "2024-11-09T17:50:31.856770Z"
    },
    "papermill": {
     "duration": 17.463834,
     "end_time": "2024-11-09T17:50:31.860521",
     "exception": false,
     "start_time": "2024-11-09T17:50:14.396687",
     "status": "completed"
    },
    "tags": []
   },
   "outputs": [
    {
     "name": "stdout",
     "output_type": "stream",
     "text": [
      "\n",
      "RUSBoostClassifier f1_score macro 0.7726970750847155\n",
      "------------------------------------------------------------------------------------\n",
      "\n",
      "Classification Report\n",
      "              precision    recall  f1-score   support\n",
      "\n",
      "           0       0.96      0.88      0.92      6677\n",
      "           1       0.53      0.77      0.63      1166\n",
      "\n",
      "    accuracy                           0.86      7843\n",
      "   macro avg       0.74      0.83      0.77      7843\n",
      "weighted avg       0.89      0.86      0.87      7843\n",
      "\n",
      "\n",
      "------------------------------------------------------------------------------------\n",
      "Confusion Matrix\n",
      "\n"
     ]
    },
    {
     "data": {
      "text/plain": [
       "<sklearn.metrics._plot.confusion_matrix.ConfusionMatrixDisplay at 0x7a2620afa770>"
      ]
     },
     "execution_count": 38,
     "metadata": {},
     "output_type": "execute_result"
    },
    {
     "data": {
      "image/png": "[encoded data removed]",
      "text/plain": [
       "<Figure size 640x480 with 2 Axes>"
      ]
     },
     "metadata": {},
     "output_type": "display_data"
    }
   ],
   "source": [
    "from imblearn.ensemble import RUSBoostClassifier\n",
    "\n",
    "rus=RUSBoostClassifier(estimator=dt , n_estimators=150,learning_rate=1,sampling_strategy='auto' , random_state=1)\n",
    "rus_clf=Pipeline([('col_transformer',col_transformer),('rus',rus)])\n",
    "\n",
    "rus_clf.fit(xtrain , ytrain)\n",
    "ypred_rus=rus_clf.predict(xtest)\n",
    "print('')\n",
    "\n",
    "print('RUSBoostClassifier f1_score macro',f1_score(ytest, ypred_rus , average='macro'))\n",
    "print('------------------------------------------------------------------------------------')\n",
    "print('')\n",
    "print('Classification Report')\n",
    "print(classification_report(ytest ,ypred_rus))\n",
    "print('')\n",
    "print('------------------------------------------------------------------------------------')\n",
    "print('Confusion Matrix')\n",
    "print('')\n",
    "ConfusionMatrixDisplay.from_estimator(rus_clf,xtest,ytest)\n",
    "\n",
    "\n"
   ]
  },
  {
   "cell_type": "markdown",
   "id": "ae535009",
   "metadata": {
    "papermill": {
     "duration": 0.039622,
     "end_time": "2024-11-09T17:50:31.941544",
     "exception": false,
     "start_time": "2024-11-09T17:50:31.901922",
     "status": "completed"
    },
    "tags": []
   },
   "source": [
    "# HPT Rusboost classifier"
   ]
  },
  {
   "cell_type": "code",
   "execution_count": 39,
   "id": "57ea3768",
   "metadata": {
    "execution": {
     "iopub.execute_input": "2024-11-09T17:50:32.023548Z",
     "iopub.status.busy": "2024-11-09T17:50:32.023090Z",
     "iopub.status.idle": "2024-11-09T17:50:32.030408Z",
     "shell.execute_reply": "2024-11-09T17:50:32.029156Z"
    },
    "papermill": {
     "duration": 0.051406,
     "end_time": "2024-11-09T17:50:32.032855",
     "exception": false,
     "start_time": "2024-11-09T17:50:31.981449",
     "status": "completed"
    },
    "tags": []
   },
   "outputs": [],
   "source": [
    "# param={'rus__n_estimators':[100,150,200],'rus__replacement': [True, False]}\n",
    "\n",
    "# cv_strat = StratifiedKFold(n_splits=10, shuffle=True, random_state=1)\n",
    "\n",
    "# rus_clf=Pipeline([('col_transformer',col_transformer),('rus',RUSBoostClassifier(estimator=dt,learning_rate=1,sampling_strategy='auto' , random_state=1))])\n",
    "\n",
    "# grid_rus = GridSearchCV(rus_clf,param_grid=param,scoring='f1_macro',cv=cv_strat,verbose=1,n_jobs=-1)\n",
    "\n",
    "# grid_rus.fit(xtrain,ytrain)\n",
    "\n",
    "# print(' ')\n",
    "# print(\"Best Params HPT Rusboost classifier\",grid_rus.best_params_)\n",
    "\n",
    "# grid_rus=grid_rus.best_estimator_\n",
    "\n",
    "# ypred_grid_rus=grid_rus.predict(xtest)\n",
    "\n",
    "# print(' ')\n",
    "# print('---------------------------------------------------')\n",
    "\n",
    "# print('HPT Rusboost classifier  f1_score macro ',f1_score(ytest, ypred_grid_rus , average='macro')    )\n",
    "# print(' ')\n",
    "# print('---------------------------------------------------')\n",
    "\n",
    "# print('Classification Report HPT Rusboost classifier')\n",
    "# print(classification_report(ytest ,ypred_grid_rus))\n",
    "\n",
    "\n",
    "# print(' ')\n",
    "# print('---------------------------------------------------')\n",
    "\n",
    "# print('Confusion Matrix   HPT Rusboost classifier')\n",
    "# ConfusionMatrixDisplay.from_estimator(grid_rus,xtest,ytest)\n"
   ]
  },
  {
   "cell_type": "code",
   "execution_count": 40,
   "id": "1fcd9d4c",
   "metadata": {
    "execution": {
     "iopub.execute_input": "2024-11-09T17:50:32.115936Z",
     "iopub.status.busy": "2024-11-09T17:50:32.114922Z",
     "iopub.status.idle": "2024-11-09T17:50:32.120406Z",
     "shell.execute_reply": "2024-11-09T17:50:32.119331Z"
    },
    "papermill": {
     "duration": 0.049345,
     "end_time": "2024-11-09T17:50:32.122745",
     "exception": false,
     "start_time": "2024-11-09T17:50:32.073400",
     "status": "completed"
    },
    "tags": []
   },
   "outputs": [],
   "source": [
    "# from sklearn.svm import SVC\n",
    "# svc=SVC(random_state=1 ,class_weight='balanced',C=10)\n",
    "# svc=Pipeline([('col_transformer',col_transformer),('svc',svc)])\n",
    "# svc.fit(xtrain , ytrain)\n",
    "# ypred_svc=svc.predict(xtest)\n",
    "# print(\"SVC f1_score macro\" , f1_score(ytest , ypred_svc ,average='macro'))\n",
    "# print('')\n",
    "# print('------------------------------------------------------------------')\n",
    "# print('')\n",
    "# print('Classification Report SVC')\n",
    "# print('')\n",
    "# print(classification_report(ytest , ypred_svc))\n",
    "# print('------------------------------------------------------------------')\n",
    "# print('')\n",
    "# print('Confusion Matrix SVC')\n",
    "# ConfusionMatrixDisplay.from_estimator(svc,xtest,ytest)"
   ]
  },
  {
   "cell_type": "markdown",
   "id": "f5941cd3",
   "metadata": {
    "papermill": {
     "duration": 0.039432,
     "end_time": "2024-11-09T17:50:32.202209",
     "exception": false,
     "start_time": "2024-11-09T17:50:32.162777",
     "status": "completed"
    },
    "tags": []
   },
   "source": [
    "# Light gbm\n"
   ]
  },
  {
   "cell_type": "code",
   "execution_count": 41,
   "id": "dcd824de",
   "metadata": {
    "execution": {
     "iopub.execute_input": "2024-11-09T17:50:32.283603Z",
     "iopub.status.busy": "2024-11-09T17:50:32.283155Z",
     "iopub.status.idle": "2024-11-09T17:50:35.152421Z",
     "shell.execute_reply": "2024-11-09T17:50:35.151241Z"
    },
    "papermill": {
     "duration": 2.913341,
     "end_time": "2024-11-09T17:50:35.155002",
     "exception": false,
     "start_time": "2024-11-09T17:50:32.241661",
     "status": "completed"
    },
    "tags": []
   },
   "outputs": [
    {
     "name": "stdout",
     "output_type": "stream",
     "text": [
      "[LightGBM] [Info] Number of positive: 4661, number of negative: 26707\n",
      "[LightGBM] [Info] Auto-choosing row-wise multi-threading, the overhead of testing was 0.005493 seconds.\n",
      "You can set `force_row_wise=true` to remove the overhead.\n",
      "And if memory is not enough, you can set `force_col_wise=true`.\n",
      "[LightGBM] [Info] Total Bins 953\n",
      "[LightGBM] [Info] Number of data points in the train set: 31368, number of used features: 47\n",
      "[LightGBM] [Info] [binary:BoostFromScore]: pavg=0.148591 -> initscore=-1.745696\n",
      "[LightGBM] [Info] Start training from score -1.745696\n",
      "lgm f1_score macro 0.7712869063049196\n",
      "\n",
      "------------------------------------------------------------------\n",
      "\n",
      "Classification Report lgm\n",
      "\n",
      "              precision    recall  f1-score   support\n",
      "\n",
      "           0       0.96      0.88      0.92      6677\n",
      "           1       0.52      0.78      0.63      1166\n",
      "\n",
      "    accuracy                           0.86      7843\n",
      "   macro avg       0.74      0.83      0.77      7843\n",
      "weighted avg       0.89      0.86      0.87      7843\n",
      "\n",
      "------------------------------------------------------------------\n",
      "\n",
      "Confusion Matrix SVC\n"
     ]
    },
    {
     "data": {
      "text/plain": [
       "<sklearn.metrics._plot.confusion_matrix.ConfusionMatrixDisplay at 0x7a261caed030>"
      ]
     },
     "execution_count": 41,
     "metadata": {},
     "output_type": "execute_result"
    },
    {
     "data": {
      "image/png": "[encoded data removed]",
      "text/plain": [
       "<Figure size 640x480 with 2 Axes>"
      ]
     },
     "metadata": {},
     "output_type": "display_data"
    }
   ],
   "source": [
    "from lightgbm import LGBMClassifier\n",
    "from sklearn.pipeline import Pipeline\n",
    "\n",
    "lgm=LGBMClassifier(random_state=1,n_jobs=-1,objective='binary',scale_pos_weight=3,colsample_bytree=1,n_estimators=100)\n",
    "lgm=Pipeline([('col_transformer',col_transformer),('lgm',lgm)])\n",
    "lgm.fit(xtrain , ytrain)\n",
    "ypred_lgm=lgm.predict(xtest)\n",
    "print(\"lgm f1_score macro\" , f1_score(ytest , ypred_lgm ,average='macro'))\n",
    "print('')\n",
    "print('------------------------------------------------------------------')\n",
    "print('')\n",
    "print('Classification Report lgm')\n",
    "print('')\n",
    "print(classification_report(ytest , ypred_lgm))\n",
    "print('------------------------------------------------------------------')\n",
    "print('')\n",
    "print('Confusion Matrix SVC')\n",
    "ConfusionMatrixDisplay.from_estimator(lgm,xtest,ytest)"
   ]
  },
  {
   "cell_type": "markdown",
   "id": "fe0a1004",
   "metadata": {
    "papermill": {
     "duration": 0.047756,
     "end_time": "2024-11-09T17:50:35.243420",
     "exception": false,
     "start_time": "2024-11-09T17:50:35.195664",
     "status": "completed"
    },
    "tags": []
   },
   "source": [
    "# HPT LGBM classifier"
   ]
  },
  {
   "cell_type": "code",
   "execution_count": 42,
   "id": "1ae3dbad",
   "metadata": {
    "execution": {
     "iopub.execute_input": "2024-11-09T17:50:35.349067Z",
     "iopub.status.busy": "2024-11-09T17:50:35.348436Z",
     "iopub.status.idle": "2024-11-09T17:50:35.354841Z",
     "shell.execute_reply": "2024-11-09T17:50:35.353641Z"
    },
    "papermill": {
     "duration": 0.057747,
     "end_time": "2024-11-09T17:50:35.357652",
     "exception": false,
     "start_time": "2024-11-09T17:50:35.299905",
     "status": "completed"
    },
    "tags": []
   },
   "outputs": [],
   "source": [
    "# params = {'lgm__num_leaves': [31, 50, 70, 100],'lgm__learning_rate': [0.01, 0.05, 0.1],'lgm__subsample': [0.7, 0.8, 0.9]}\n",
    "\n",
    "# lgm=LGBMClassifier(random_state=1,n_jobs=-1,objective='binary',scale_pos_weight=3,verbose=0)\n",
    "\n",
    "# lgm=Pipeline([('col_transformer',col_transformer),('lgm',lgm)])\n",
    "\n",
    "# cv_strat = StratifiedKFold(n_splits=5, shuffle=True, random_state=1)\n",
    "# grid_lgm = GridSearchCV(lgm,param_grid=params,scoring='f1_macro',cv=cv_strat,verbose=0,n_jobs=-1)\n",
    "# grid_lgm.fit(xtrain,ytrain)\n",
    "# print('')\n",
    "# print(\"Best Params\",grid_lgm.best_params_)\n",
    "\n",
    "# print('')\n",
    "# print('---------------------------------------------')\n",
    "\n",
    "# grid_lgm=grid_lgm.best_estimator_\n",
    "\n",
    "# ypred_grid_lgm=grid_lgm.predict(xtest)\n",
    "\n",
    "# print(' grid_lgm f1_score macro ',f1_score(ytest, ypred_grid_lgm , average='macro')    )\n",
    "# print('')\n",
    "# print('---------------------------------------------')\n",
    "\n",
    "# print('Classification Report')\n",
    "# print(classification_report(ytest ,ypred_grid_lgm))\n",
    "# print('')\n",
    "# print('---------------------------------------------')\n",
    "\n",
    "\n",
    "# print('Confusion Matrix')\n",
    "# ConfusionMatrixDisplay.from_estimator(grid_lgm,xtest,ytest)\n",
    "\n"
   ]
  },
  {
   "cell_type": "markdown",
   "id": "d6664428",
   "metadata": {
    "papermill": {
     "duration": 0.040439,
     "end_time": "2024-11-09T17:50:35.438831",
     "exception": false,
     "start_time": "2024-11-09T17:50:35.398392",
     "status": "completed"
    },
    "tags": []
   },
   "source": [
    "# Stacking\n"
   ]
  },
  {
   "cell_type": "code",
   "execution_count": 43,
   "id": "f80a586d",
   "metadata": {
    "execution": {
     "iopub.execute_input": "2024-11-09T17:50:35.521668Z",
     "iopub.status.busy": "2024-11-09T17:50:35.521241Z",
     "iopub.status.idle": "2024-11-09T17:51:05.920696Z",
     "shell.execute_reply": "2024-11-09T17:51:05.919226Z"
    },
    "papermill": {
     "duration": 30.444765,
     "end_time": "2024-11-09T17:51:05.924030",
     "exception": false,
     "start_time": "2024-11-09T17:50:35.479265",
     "status": "completed"
    },
    "tags": []
   },
   "outputs": [
    {
     "name": "stdout",
     "output_type": "stream",
     "text": [
      "stack f1_score  0.8646747033255935\n",
      "Classification Report stack\n",
      "              precision    recall  f1-score   support\n",
      "\n",
      "           0       0.96      0.97      0.96      6677\n",
      "           1       0.80      0.74      0.77      1166\n",
      "\n",
      "    accuracy                           0.93      7843\n",
      "   macro avg       0.88      0.85      0.86      7843\n",
      "weighted avg       0.93      0.93      0.93      7843\n",
      "\n",
      "Confusion Matrix stack\n"
     ]
    },
    {
     "data": {
      "text/plain": [
       "<sklearn.metrics._plot.confusion_matrix.ConfusionMatrixDisplay at 0x7a261cb8c8b0>"
      ]
     },
     "execution_count": 43,
     "metadata": {},
     "output_type": "execute_result"
    },
    {
     "data": {
      "image/png": "[encoded data removed]",
      "text/plain": [
       "<Figure size 640x480 with 2 Axes>"
      ]
     },
     "metadata": {},
     "output_type": "display_data"
    }
   ],
   "source": [
    "from sklearn.ensemble import StackingClassifier\n",
    "from lightgbm import LGBMClassifier\n",
    "\n",
    "rf=RandomForestClassifier(random_state=1 , n_estimators=100, max_depth=10 , min_samples_split=3 , min_samples_leaf=3 , class_weight='balanced')\n",
    "randomForestClassifier=Pipeline([('col_transformer',col_transformer),('randomForest',rf)])\n",
    "\n",
    "lgm=LGBMClassifier(random_state=42,n_jobs=-1,objective='binary',scale_pos_weight=3,colsample_bytree=1,n_estimators=100,verbose=0)\n",
    "lgm=Pipeline([('col_transformer',col_transformer),('lgm',lgm)])\n",
    "\n",
    "\n",
    "rus=RUSBoostClassifier(estimator=dt , n_estimators=150,learning_rate=1,sampling_strategy='auto' , random_state=1)\n",
    "rus_clf=Pipeline([('col_transformer',col_transformer),('rus',rus)])\n",
    "\n",
    "\n",
    "\n",
    "est = [('rf', randomForestClassifier),('lgm',lgm),('rus_clf',rus_clf)]\n",
    "\n",
    "stack=StackingClassifier(est , cv=5 , n_jobs=-1 )\n",
    "stack.fit(xtest,ytest)\n",
    "ypred_stack=stack.predict(xtest)\n",
    "\n",
    "print(   'stack f1_score '  ,     f1_score(ytest, ypred_stack  , average='macro')    )\n",
    "\n",
    "print('Classification Report stack')\n",
    "\n",
    "print(classification_report(ytest ,ypred_stack))\n",
    "\n",
    "print('Confusion Matrix stack')\n",
    "\n",
    "ConfusionMatrixDisplay.from_estimator(stack,xtest,ytest)\n"
   ]
  },
  {
   "cell_type": "code",
   "execution_count": 44,
   "id": "82e83ee3",
   "metadata": {
    "execution": {
     "iopub.execute_input": "2024-11-09T17:51:06.016223Z",
     "iopub.status.busy": "2024-11-09T17:51:06.015757Z",
     "iopub.status.idle": "2024-11-09T17:51:06.023479Z",
     "shell.execute_reply": "2024-11-09T17:51:06.021452Z"
    },
    "papermill": {
     "duration": 0.057841,
     "end_time": "2024-11-09T17:51:06.027453",
     "exception": false,
     "start_time": "2024-11-09T17:51:05.969612",
     "status": "completed"
    },
    "tags": []
   },
   "outputs": [],
   "source": [
    "# param={\"final_estimator__n_estimators\":[100,200]}\n",
    "# stack=StackingClassifier(est , cv=5 , n_jobs=-1, final_estimator=RandomForestClassifier() )\n",
    "# stack_grid = GridSearchCV(stack, param_grid=param, cv=2, scoring='f1_macro',n_jobs=-1)\n",
    "\n",
    "# stack_grid.fit(xtrain,ytrain)\n",
    "\n",
    "# print(\"Best Params\",stack_grid.best_params_)\n",
    "\n",
    "# stack_grid=stack_grid.best_estimator_\n",
    "\n",
    "# ypred_stack_grid=stack_grid.predict(xtest)\n",
    "\n",
    "# print(' grid_lgm f1_score macro ',f1_score(ytest, ypred_stack_grid , average='macro')    )\n",
    "# print('Classification Report')\n",
    "# print(classification_report(ytest ,ypred_stack_grid))\n",
    "# print('Confusion Matrix')\n",
    "# ConfusionMatrixDisplay.from_estimator(stack_grid,xtest,ytest)\n"
   ]
  },
  {
   "cell_type": "code",
   "execution_count": 45,
   "id": "fdbfb582",
   "metadata": {
    "execution": {
     "iopub.execute_input": "2024-11-09T17:51:06.119083Z",
     "iopub.status.busy": "2024-11-09T17:51:06.118446Z",
     "iopub.status.idle": "2024-11-09T17:51:06.127008Z",
     "shell.execute_reply": "2024-11-09T17:51:06.125044Z"
    },
    "papermill": {
     "duration": 0.058527,
     "end_time": "2024-11-09T17:51:06.129950",
     "exception": false,
     "start_time": "2024-11-09T17:51:06.071423",
     "status": "completed"
    },
    "tags": []
   },
   "outputs": [],
   "source": [
    "# selection=random\n",
    "# from sklearn.linear_model import LogisticRegression\n",
    "# rsKF=RepeatedStratifiedKFold(random_state=1)\n",
    "# log = LogisticRegression(penalty='l1', solver='saga', class_weight='balanced', random_state=1, max_iter=3000,n_jobs=-1 , C=0.01 )\n",
    "\n",
    "# logistic=Pipeline([('col_transformer',col_transformer),('logistic',log)])\n",
    "\n",
    "# logistic.fit(xtrain, ytrain)\n",
    "\n",
    "# ypred_logistic=logistic.predict(xtest)\n",
    "\n",
    "# print(   'logistic f1_score '  ,     f1_score(ytest, ypred_logistic  , average='macro')    )\n",
    "\n",
    "# print('Classification Report')\n",
    "\n",
    "# print(classification_report(ytest ,ypred_logistic))\n",
    "\n",
    "# print('Confusion Matrix')\n",
    "\n",
    "# ConfusionMatrixDisplay.from_estimator(logistic,xtest,ytest)\n",
    "\n"
   ]
  },
  {
   "cell_type": "code",
   "execution_count": 46,
   "id": "55ed2398",
   "metadata": {
    "execution": {
     "iopub.execute_input": "2024-11-09T17:51:06.218489Z",
     "iopub.status.busy": "2024-11-09T17:51:06.218025Z",
     "iopub.status.idle": "2024-11-09T17:51:06.224352Z",
     "shell.execute_reply": "2024-11-09T17:51:06.223087Z"
    },
    "papermill": {
     "duration": 0.053838,
     "end_time": "2024-11-09T17:51:06.227033",
     "exception": false,
     "start_time": "2024-11-09T17:51:06.173195",
     "status": "completed"
    },
    "tags": []
   },
   "outputs": [],
   "source": [
    "# from sklearn.neighbors import KNeighborsClassifier\n",
    "# kneighborsClassifier=KNeighborsClassifier(n_jobs=-1 , n_neighbors=5)\n",
    "# knn=Pipeline([('col_transformer',col_transformer),('kneighborsClassifier',kneighborsClassifier)])\n",
    "\n",
    "\n",
    "# knn.fit(xtrain , ytrain)\n",
    "\n",
    "# ypred_knn=knn.predict(xtest)\n",
    "\n",
    "\n",
    "# print(   'knn f1_score '  ,     f1_score(ytest, ypred_knn  , average='macro')    )\n",
    "\n",
    "# print('Classification Report')\n",
    "\n",
    "# print(classification_report(ytest ,ypred_knn))\n",
    "\n",
    "# print('Confusion Matrix')\n",
    "\n",
    "# ConfusionMatrixDisplay.from_estimator(knn,xtest,ytest)\n",
    "\n",
    "\n"
   ]
  },
  {
   "cell_type": "markdown",
   "id": "ba1ede39",
   "metadata": {
    "papermill": {
     "duration": 0.043416,
     "end_time": "2024-11-09T17:51:06.313822",
     "exception": false,
     "start_time": "2024-11-09T17:51:06.270406",
     "status": "completed"
    },
    "tags": []
   },
   "source": [
    "# Submission"
   ]
  },
  {
   "cell_type": "code",
   "execution_count": 47,
   "id": "13062124",
   "metadata": {
    "execution": {
     "iopub.execute_input": "2024-11-09T17:51:06.400152Z",
     "iopub.status.busy": "2024-11-09T17:51:06.399742Z",
     "iopub.status.idle": "2024-11-09T17:51:07.132551Z",
     "shell.execute_reply": "2024-11-09T17:51:07.130428Z"
    },
    "papermill": {
     "duration": 0.779875,
     "end_time": "2024-11-09T17:51:07.136070",
     "exception": false,
     "start_time": "2024-11-09T17:51:06.356195",
     "status": "completed"
    },
    "tags": []
   },
   "outputs": [],
   "source": [
    "y_pred_submission=stack.predict(test)\n",
    "ypred_submission_final = pd.Series(y_pred_submission).replace({0: 'no', 1: 'yes'})\n",
    "\n",
    "submission=pd.DataFrame({'id': np.arange(0,len(test)), 'target': ypred_submission_final})\n",
    "\n",
    "submission.to_csv('submission.csv',index=False)"
   ]
  },
  {
   "cell_type": "code",
   "execution_count": null,
   "id": "eefe73c5",
   "metadata": {
    "papermill": {
     "duration": 0.042178,
     "end_time": "2024-11-09T17:51:07.261999",
     "exception": false,
     "start_time": "2024-11-09T17:51:07.219821",
     "status": "completed"
    },
    "tags": []
   },
   "outputs": [],
   "source": []
  },
  {
   "cell_type": "code",
   "execution_count": null,
   "id": "b2d57457",
   "metadata": {
    "papermill": {
     "duration": 0.042808,
     "end_time": "2024-11-09T17:51:07.346939",
     "exception": false,
     "start_time": "2024-11-09T17:51:07.304131",
     "status": "completed"
    },
    "tags": []
   },
   "outputs": [],
   "source": []
  },
  {
   "cell_type": "code",
   "execution_count": null,
   "id": "ff1d6fdd",
   "metadata": {
    "papermill": {
     "duration": 0.041549,
     "end_time": "2024-11-09T17:51:07.431514",
     "exception": false,
     "start_time": "2024-11-09T17:51:07.389965",
     "status": "completed"
    },
    "tags": []
   },
   "outputs": [],
   "source": []
  },
  {
   "cell_type": "code",
   "execution_count": null,
   "id": "bf485c8b",
   "metadata": {
    "papermill": {
     "duration": 0.041444,
     "end_time": "2024-11-09T17:51:07.516419",
     "exception": false,
     "start_time": "2024-11-09T17:51:07.474975",
     "status": "completed"
    },
    "tags": []
   },
   "outputs": [],
   "source": []
  },
  {
   "cell_type": "code",
   "execution_count": null,
   "id": "c682e21b",
   "metadata": {
    "papermill": {
     "duration": 0.041096,
     "end_time": "2024-11-09T17:51:07.599525",
     "exception": false,
     "start_time": "2024-11-09T17:51:07.558429",
     "status": "completed"
    },
    "tags": []
   },
   "outputs": [],
   "source": []
  },
  {
   "cell_type": "code",
   "execution_count": null,
   "id": "8dd4adfb",
   "metadata": {
    "papermill": {
     "duration": 0.041143,
     "end_time": "2024-11-09T17:51:07.683551",
     "exception": false,
     "start_time": "2024-11-09T17:51:07.642408",
     "status": "completed"
    },
    "tags": []
   },
   "outputs": [],
   "source": []
  },
  {
   "cell_type": "code",
   "execution_count": null,
   "id": "7ae8c88b",
   "metadata": {
    "papermill": {
     "duration": 0.041793,
     "end_time": "2024-11-09T17:51:07.767361",
     "exception": false,
     "start_time": "2024-11-09T17:51:07.725568",
     "status": "completed"
    },
    "tags": []
   },
   "outputs": [],
   "source": []
  }
 ],
 "metadata": {
  "kaggle": {
   "accelerator": "none",
   "dataSources": [
    {
     "databundleVersionId": 9578279,
     "sourceId": 85062,
     "sourceType": "competition"
    }
   ],
   "dockerImageVersionId": 30761,
   "isGpuEnabled": false,
   "isInternetEnabled": true,
   "language": "python",
   "sourceType": "notebook"
  },
  "kernelspec": {
   "display_name": "Python 3",
   "language": "python",
   "name": "python3"
  },
  "language_info": {
   "codemirror_mode": {
    "name": "ipython",
    "version": 3
   },
   "file_extension": ".py",
   "mimetype": "text/x-python",
   "name": "python",
   "nbconvert_exporter": "python",
   "pygments_lexer": "ipython3",
   "version": "3.10.14"
  },
  "papermill": {
   "default_parameters": {},
   "duration": 80.547606,
   "end_time": "2024-11-09T17:51:08.633730",
   "environment_variables": {},
   "exception": null,
   "input_path": "__notebook__.ipynb",
   "output_path": "__notebook__.ipynb",
   "parameters": {},
   "start_time": "2024-11-09T17:49:48.086124",
   "version": "2.6.0"
  }
 },
 "nbformat": 4,
 "nbformat_minor": 5
}

{
 "cells": [
  {
   "cell_type": "code",
   "execution_count": 1,
   "id": "3106cc99",
   "metadata": {
    "_cell_guid": "b1076dfc-b9ad-4769-8c92-a6c4dae69d19",
    "_uuid": "8f2839f25d086af736a60e9eeb907d3b93b6e0e5",
    "execution": {
     "iopub.execute_input": "2024-10-03T11:55:22.872588Z",
     "iopub.status.busy": "2024-10-03T11:55:22.872120Z",
     "iopub.status.idle": "2024-10-03T11:55:23.835841Z",
     "shell.execute_reply": "2024-10-03T11:55:23.834592Z"
    },
    "papermill": {
     "duration": 0.987762,
     "end_time": "2024-10-03T11:55:23.838449",
     "exception": false,
     "start_time": "2024-10-03T11:55:22.850687",
     "status": "completed"
    },
    "tags": []
   },
   "outputs": [
    {
     "name": "stdout",
     "output_type": "stream",
     "text": [
      "/kaggle/input/predict-the-success-of-bank-telemarketing/sample_submission.csv\n",
      "/kaggle/input/predict-the-success-of-bank-telemarketing/train.csv\n",
      "/kaggle/input/predict-the-success-of-bank-telemarketing/test.csv\n"
     ]
    }
   ],
   "source": [
    "# This Python 3 environment comes with many helpful analytics libraries installed\n",
    "# It is defined by the kaggle/python Docker image: https://github.com/kaggle/docker-python\n",
    "# For example, here's several helpful packages to load\n",
    "\n",
    "import numpy as np # linear algebra\n",
    "import pandas as pd # data processing, CSV file I/O (e.g. pd.read_csv)\n",
    "\n",
    "# Input data files are available in the read-only \"../input/\" directory\n",
    "# For example, running this (by clicking run or pressing Shift+Enter) will list all files under the input directory\n",
    "\n",
    "import os\n",
    "for dirname, _, filenames in os.walk('/kaggle/input'):\n",
    "    for filename in filenames:\n",
    "        print(os.path.join(dirname, filename))\n",
    "\n",
    "# You can write up to 20GB to the current directory (/kaggle/working/) that gets preserved as output when you create a version using \"Save & Run All\" \n",
    "# You can also write temporary files to /kaggle/temp/, but they won't be saved outside of the current session"
   ]
  },
  {
   "cell_type": "code",
   "execution_count": 2,
   "id": "0aabde7e",
   "metadata": {
    "execution": {
     "iopub.execute_input": "2024-10-03T11:55:23.879395Z",
     "iopub.status.busy": "2024-10-03T11:55:23.878829Z",
     "iopub.status.idle": "2024-10-03T11:55:25.580581Z",
     "shell.execute_reply": "2024-10-03T11:55:25.579362Z"
    },
    "papermill": {
     "duration": 1.725751,
     "end_time": "2024-10-03T11:55:25.583398",
     "exception": false,
     "start_time": "2024-10-03T11:55:23.857647",
     "status": "completed"
    },
    "tags": []
   },
   "outputs": [],
   "source": [
    "# !pip install xgboost\n",
    "\n",
    "import matplotlib.pyplot as plt\n",
    "from sklearn.model_selection import GridSearchCV\n",
    "from sklearn.decomposition import PCA\n",
    "\n"
   ]
  },
  {
   "cell_type": "code",
   "execution_count": 3,
   "id": "b592191a",
   "metadata": {
    "execution": {
     "iopub.execute_input": "2024-10-03T11:55:25.623585Z",
     "iopub.status.busy": "2024-10-03T11:55:25.622931Z",
     "iopub.status.idle": "2024-10-03T11:55:25.923443Z",
     "shell.execute_reply": "2024-10-03T11:55:25.922357Z"
    },
    "papermill": {
     "duration": 0.323561,
     "end_time": "2024-10-03T11:55:25.926207",
     "exception": false,
     "start_time": "2024-10-03T11:55:25.602646",
     "status": "completed"
    },
    "tags": []
   },
   "outputs": [],
   "source": [
    "train=pd.read_csv('/kaggle/input/predict-the-success-of-bank-telemarketing/train.csv')\n",
    "test=pd.read_csv('/kaggle/input/predict-the-success-of-bank-telemarketing/test.csv')\n"
   ]
  },
  {
   "cell_type": "code",
   "execution_count": 4,
   "id": "13c5c7e0",
   "metadata": {
    "execution": {
     "iopub.execute_input": "2024-10-03T11:55:25.967167Z",
     "iopub.status.busy": "2024-10-03T11:55:25.965672Z",
     "iopub.status.idle": "2024-10-03T11:55:26.003734Z",
     "shell.execute_reply": "2024-10-03T11:55:26.002654Z"
    },
    "papermill": {
     "duration": 0.061182,
     "end_time": "2024-10-03T11:55:26.006586",
     "exception": false,
     "start_time": "2024-10-03T11:55:25.945404",
     "status": "completed"
    },
    "tags": []
   },
   "outputs": [
    {
     "data": {
      "text/html": [
       "<div>\n",
       "<style scoped>\n",
       "    .dataframe tbody tr th:only-of-type {\n",
       "        vertical-align: middle;\n",
       "    }\n",
       "\n",
       "    .dataframe tbody tr th {\n",
       "        vertical-align: top;\n",
       "    }\n",
       "\n",
       "    .dataframe thead th {\n",
       "        text-align: right;\n",
       "    }\n",
       "</style>\n",
       "<table border=\"1\" class=\"dataframe\">\n",
       "  <thead>\n",
       "    <tr style=\"text-align: right;\">\n",
       "      <th></th>\n",
       "      <th>last contact date</th>\n",
       "      <th>age</th>\n",
       "      <th>job</th>\n",
       "      <th>marital</th>\n",
       "      <th>education</th>\n",
       "      <th>default</th>\n",
       "      <th>balance</th>\n",
       "      <th>housing</th>\n",
       "      <th>loan</th>\n",
       "      <th>contact</th>\n",
       "      <th>duration</th>\n",
       "      <th>campaign</th>\n",
       "      <th>pdays</th>\n",
       "      <th>previous</th>\n",
       "      <th>poutcome</th>\n",
       "      <th>target</th>\n",
       "    </tr>\n",
       "  </thead>\n",
       "  <tbody>\n",
       "    <tr>\n",
       "      <th>0</th>\n",
       "      <td>2009-04-17</td>\n",
       "      <td>26</td>\n",
       "      <td>blue-collar</td>\n",
       "      <td>married</td>\n",
       "      <td>secondary</td>\n",
       "      <td>no</td>\n",
       "      <td>647</td>\n",
       "      <td>yes</td>\n",
       "      <td>no</td>\n",
       "      <td>cellular</td>\n",
       "      <td>357</td>\n",
       "      <td>2</td>\n",
       "      <td>331</td>\n",
       "      <td>1</td>\n",
       "      <td>other</td>\n",
       "      <td>no</td>\n",
       "    </tr>\n",
       "    <tr>\n",
       "      <th>1</th>\n",
       "      <td>2009-10-11</td>\n",
       "      <td>52</td>\n",
       "      <td>technician</td>\n",
       "      <td>married</td>\n",
       "      <td>secondary</td>\n",
       "      <td>no</td>\n",
       "      <td>553</td>\n",
       "      <td>yes</td>\n",
       "      <td>no</td>\n",
       "      <td>telephone</td>\n",
       "      <td>160</td>\n",
       "      <td>1</td>\n",
       "      <td>-1</td>\n",
       "      <td>0</td>\n",
       "      <td>NaN</td>\n",
       "      <td>no</td>\n",
       "    </tr>\n",
       "    <tr>\n",
       "      <th>2</th>\n",
       "      <td>2010-11-20</td>\n",
       "      <td>44</td>\n",
       "      <td>blue-collar</td>\n",
       "      <td>married</td>\n",
       "      <td>secondary</td>\n",
       "      <td>no</td>\n",
       "      <td>1397</td>\n",
       "      <td>no</td>\n",
       "      <td>no</td>\n",
       "      <td>cellular</td>\n",
       "      <td>326</td>\n",
       "      <td>1</td>\n",
       "      <td>-1</td>\n",
       "      <td>0</td>\n",
       "      <td>NaN</td>\n",
       "      <td>no</td>\n",
       "    </tr>\n",
       "    <tr>\n",
       "      <th>3</th>\n",
       "      <td>2009-09-01</td>\n",
       "      <td>33</td>\n",
       "      <td>admin.</td>\n",
       "      <td>married</td>\n",
       "      <td>secondary</td>\n",
       "      <td>no</td>\n",
       "      <td>394</td>\n",
       "      <td>yes</td>\n",
       "      <td>no</td>\n",
       "      <td>telephone</td>\n",
       "      <td>104</td>\n",
       "      <td>3</td>\n",
       "      <td>-1</td>\n",
       "      <td>0</td>\n",
       "      <td>NaN</td>\n",
       "      <td>no</td>\n",
       "    </tr>\n",
       "    <tr>\n",
       "      <th>4</th>\n",
       "      <td>2008-01-29</td>\n",
       "      <td>31</td>\n",
       "      <td>entrepreneur</td>\n",
       "      <td>single</td>\n",
       "      <td>tertiary</td>\n",
       "      <td>no</td>\n",
       "      <td>137</td>\n",
       "      <td>no</td>\n",
       "      <td>no</td>\n",
       "      <td>cellular</td>\n",
       "      <td>445</td>\n",
       "      <td>2</td>\n",
       "      <td>-1</td>\n",
       "      <td>0</td>\n",
       "      <td>NaN</td>\n",
       "      <td>no</td>\n",
       "    </tr>\n",
       "    <tr>\n",
       "      <th>...</th>\n",
       "      <td>...</td>\n",
       "      <td>...</td>\n",
       "      <td>...</td>\n",
       "      <td>...</td>\n",
       "      <td>...</td>\n",
       "      <td>...</td>\n",
       "      <td>...</td>\n",
       "      <td>...</td>\n",
       "      <td>...</td>\n",
       "      <td>...</td>\n",
       "      <td>...</td>\n",
       "      <td>...</td>\n",
       "      <td>...</td>\n",
       "      <td>...</td>\n",
       "      <td>...</td>\n",
       "      <td>...</td>\n",
       "    </tr>\n",
       "    <tr>\n",
       "      <th>39206</th>\n",
       "      <td>2008-07-31</td>\n",
       "      <td>31</td>\n",
       "      <td>technician</td>\n",
       "      <td>single</td>\n",
       "      <td>secondary</td>\n",
       "      <td>no</td>\n",
       "      <td>0</td>\n",
       "      <td>yes</td>\n",
       "      <td>no</td>\n",
       "      <td>cellular</td>\n",
       "      <td>16</td>\n",
       "      <td>34</td>\n",
       "      <td>-1</td>\n",
       "      <td>0</td>\n",
       "      <td>NaN</td>\n",
       "      <td>no</td>\n",
       "    </tr>\n",
       "    <tr>\n",
       "      <th>39207</th>\n",
       "      <td>2009-07-31</td>\n",
       "      <td>59</td>\n",
       "      <td>admin.</td>\n",
       "      <td>married</td>\n",
       "      <td>primary</td>\n",
       "      <td>no</td>\n",
       "      <td>6187</td>\n",
       "      <td>no</td>\n",
       "      <td>no</td>\n",
       "      <td>cellular</td>\n",
       "      <td>114</td>\n",
       "      <td>4</td>\n",
       "      <td>-1</td>\n",
       "      <td>0</td>\n",
       "      <td>NaN</td>\n",
       "      <td>no</td>\n",
       "    </tr>\n",
       "    <tr>\n",
       "      <th>39208</th>\n",
       "      <td>2008-06-02</td>\n",
       "      <td>36</td>\n",
       "      <td>blue-collar</td>\n",
       "      <td>married</td>\n",
       "      <td>secondary</td>\n",
       "      <td>no</td>\n",
       "      <td>63</td>\n",
       "      <td>yes</td>\n",
       "      <td>no</td>\n",
       "      <td>NaN</td>\n",
       "      <td>56</td>\n",
       "      <td>8</td>\n",
       "      <td>-1</td>\n",
       "      <td>0</td>\n",
       "      <td>NaN</td>\n",
       "      <td>no</td>\n",
       "    </tr>\n",
       "    <tr>\n",
       "      <th>39209</th>\n",
       "      <td>2010-03-20</td>\n",
       "      <td>28</td>\n",
       "      <td>student</td>\n",
       "      <td>single</td>\n",
       "      <td>secondary</td>\n",
       "      <td>no</td>\n",
       "      <td>5916</td>\n",
       "      <td>no</td>\n",
       "      <td>no</td>\n",
       "      <td>cellular</td>\n",
       "      <td>93</td>\n",
       "      <td>5</td>\n",
       "      <td>-1</td>\n",
       "      <td>0</td>\n",
       "      <td>NaN</td>\n",
       "      <td>no</td>\n",
       "    </tr>\n",
       "    <tr>\n",
       "      <th>39210</th>\n",
       "      <td>2010-03-16</td>\n",
       "      <td>51</td>\n",
       "      <td>student</td>\n",
       "      <td>divorced</td>\n",
       "      <td>tertiary</td>\n",
       "      <td>yes</td>\n",
       "      <td>38594</td>\n",
       "      <td>yes</td>\n",
       "      <td>no</td>\n",
       "      <td>cellular</td>\n",
       "      <td>1877</td>\n",
       "      <td>19</td>\n",
       "      <td>780</td>\n",
       "      <td>148</td>\n",
       "      <td>success</td>\n",
       "      <td>yes</td>\n",
       "    </tr>\n",
       "  </tbody>\n",
       "</table>\n",
       "<p>39211 rows × 16 columns</p>\n",
       "</div>"
      ],
      "text/plain": [
       "      last contact date  age           job   marital  education default  \\\n",
       "0            2009-04-17   26   blue-collar   married  secondary      no   \n",
       "1            2009-10-11   52    technician   married  secondary      no   \n",
       "2            2010-11-20   44   blue-collar   married  secondary      no   \n",
       "3            2009-09-01   33        admin.   married  secondary      no   \n",
       "4            2008-01-29   31  entrepreneur    single   tertiary      no   \n",
       "...                 ...  ...           ...       ...        ...     ...   \n",
       "39206        2008-07-31   31    technician    single  secondary      no   \n",
       "39207        2009-07-31   59        admin.   married    primary      no   \n",
       "39208        2008-06-02   36   blue-collar   married  secondary      no   \n",
       "39209        2010-03-20   28       student    single  secondary      no   \n",
       "39210        2010-03-16   51       student  divorced   tertiary     yes   \n",
       "\n",
       "       balance housing loan    contact  duration  campaign  pdays  previous  \\\n",
       "0          647     yes   no   cellular       357         2    331         1   \n",
       "1          553     yes   no  telephone       160         1     -1         0   \n",
       "2         1397      no   no   cellular       326         1     -1         0   \n",
       "3          394     yes   no  telephone       104         3     -1         0   \n",
       "4          137      no   no   cellular       445         2     -1         0   \n",
       "...        ...     ...  ...        ...       ...       ...    ...       ...   \n",
       "39206        0     yes   no   cellular        16        34     -1         0   \n",
       "39207     6187      no   no   cellular       114         4     -1         0   \n",
       "39208       63     yes   no        NaN        56         8     -1         0   \n",
       "39209     5916      no   no   cellular        93         5     -1         0   \n",
       "39210    38594     yes   no   cellular      1877        19    780       148   \n",
       "\n",
       "      poutcome target  \n",
       "0        other     no  \n",
       "1          NaN     no  \n",
       "2          NaN     no  \n",
       "3          NaN     no  \n",
       "4          NaN     no  \n",
       "...        ...    ...  \n",
       "39206      NaN     no  \n",
       "39207      NaN     no  \n",
       "39208      NaN     no  \n",
       "39209      NaN     no  \n",
       "39210  success    yes  \n",
       "\n",
       "[39211 rows x 16 columns]"
      ]
     },
     "execution_count": 4,
     "metadata": {},
     "output_type": "execute_result"
    }
   ],
   "source": [
    "train"
   ]
  },
  {
   "cell_type": "code",
   "execution_count": 5,
   "id": "847aaa56",
   "metadata": {
    "execution": {
     "iopub.execute_input": "2024-10-03T11:55:26.047865Z",
     "iopub.status.busy": "2024-10-03T11:55:26.047399Z",
     "iopub.status.idle": "2024-10-03T11:55:26.098753Z",
     "shell.execute_reply": "2024-10-03T11:55:26.097583Z"
    },
    "papermill": {
     "duration": 0.07503,
     "end_time": "2024-10-03T11:55:26.101369",
     "exception": false,
     "start_time": "2024-10-03T11:55:26.026339",
     "status": "completed"
    },
    "tags": []
   },
   "outputs": [
    {
     "data": {
      "text/plain": [
       "last contact date        0\n",
       "age                      0\n",
       "job                    229\n",
       "marital                  0\n",
       "education             1467\n",
       "default                  0\n",
       "balance                  0\n",
       "housing                  0\n",
       "loan                     0\n",
       "contact              10336\n",
       "duration                 0\n",
       "campaign                 0\n",
       "pdays                    0\n",
       "previous                 0\n",
       "poutcome             29451\n",
       "target                   0\n",
       "dtype: int64"
      ]
     },
     "execution_count": 5,
     "metadata": {},
     "output_type": "execute_result"
    }
   ],
   "source": [
    "train.isnull().sum()"
   ]
  },
  {
   "cell_type": "markdown",
   "id": "36fc7eaa",
   "metadata": {
    "papermill": {
     "duration": 0.019085,
     "end_time": "2024-10-03T11:55:26.140175",
     "exception": false,
     "start_time": "2024-10-03T11:55:26.121090",
     "status": "completed"
    },
    "tags": []
   },
   "source": [
    "# Categorical Columns\n",
    "# job , martial , education , default , housing ,loan , contact , poutcome"
   ]
  },
  {
   "cell_type": "markdown",
   "id": "27ea09ed",
   "metadata": {
    "papermill": {
     "duration": 0.019634,
     "end_time": "2024-10-03T11:55:26.179118",
     "exception": false,
     "start_time": "2024-10-03T11:55:26.159484",
     "status": "completed"
    },
    "tags": []
   },
   "source": [
    "# Job"
   ]
  },
  {
   "cell_type": "code",
   "execution_count": 6,
   "id": "c9d5d5fd",
   "metadata": {
    "execution": {
     "iopub.execute_input": "2024-10-03T11:55:26.220549Z",
     "iopub.status.busy": "2024-10-03T11:55:26.220059Z",
     "iopub.status.idle": "2024-10-03T11:55:26.611747Z",
     "shell.execute_reply": "2024-10-03T11:55:26.610431Z"
    },
    "papermill": {
     "duration": 0.415801,
     "end_time": "2024-10-03T11:55:26.614908",
     "exception": false,
     "start_time": "2024-10-03T11:55:26.199107",
     "status": "completed"
    },
    "tags": []
   },
   "outputs": [
    {
     "name": "stdout",
     "output_type": "stream",
     "text": [
      " Number of null values :  229\n",
      "\n",
      "---------------------------------------------------------------------------\n",
      "\n",
      "Unique job :  ['blue-collar' 'technician' 'admin.' 'entrepreneur' 'unemployed'\n",
      " 'management' 'services' 'student' 'self-employed' 'retired' 'housemaid'\n",
      " nan]\n",
      "\n",
      "---------------------------------------------------------------------------\n",
      "\n",
      "job value counts:  job\n",
      "blue-collar      7776\n",
      "management       7462\n",
      "technician       6078\n",
      "admin.           4116\n",
      "services         3325\n",
      "self-employed    1862\n",
      "retired          1824\n",
      "entrepreneur     1805\n",
      "unemployed       1685\n",
      "housemaid        1656\n",
      "student          1393\n",
      "Name: count, dtype: int64\n",
      "\n",
      "---------------------------------------------------------------------------\n",
      "\n"
     ]
    },
    {
     "data": {
      "image/png": "[encoded data removed]",
      "text/plain": [
       "<Figure size 640x480 with 1 Axes>"
      ]
     },
     "metadata": {},
     "output_type": "display_data"
    },
    {
     "name": "stdout",
     "output_type": "stream",
     "text": [
      "\n",
      "---------------------------------------------------------------------------\n",
      "\n"
     ]
    }
   ],
   "source": [
    "\n",
    "print(' Number of null values : ' , train['job'].isnull().sum())\n",
    "\n",
    "print('')\n",
    "print('---------------------------------------------------------------------------')\n",
    "print('')\n",
    "\n",
    "print('Unique job : ' , train['job'].unique())\n",
    "\n",
    "print('')\n",
    "print('---------------------------------------------------------------------------')\n",
    "print('')\n",
    "\n",
    "print('job value counts: ' , train['job'].value_counts())\n",
    "\n",
    "print('')\n",
    "print('---------------------------------------------------------------------------')\n",
    "print('')\n",
    "\n",
    "train['job'].value_counts().plot(kind='bar')\n",
    "plt.show()\n",
    "\n",
    "print('')\n",
    "print('---------------------------------------------------------------------------')\n",
    "print('')\n",
    "\n",
    "\n",
    "train['job'] = train['job'].replace(np.nan, 'blue-collar')\n",
    "\n",
    "\n",
    "\n",
    "\n",
    "\n",
    "\n",
    "\n",
    "\n",
    "\n",
    "test['job'] = test['job'].replace(np.nan , 'blue-collar')"
   ]
  },
  {
   "cell_type": "markdown",
   "id": "e27ce342",
   "metadata": {
    "papermill": {
     "duration": 0.020077,
     "end_time": "2024-10-03T11:55:26.655684",
     "exception": false,
     "start_time": "2024-10-03T11:55:26.635607",
     "status": "completed"
    },
    "tags": []
   },
   "source": [
    "# martial"
   ]
  },
  {
   "cell_type": "code",
   "execution_count": 7,
   "id": "b4d5930b",
   "metadata": {
    "execution": {
     "iopub.execute_input": "2024-10-03T11:55:26.698484Z",
     "iopub.status.busy": "2024-10-03T11:55:26.697613Z",
     "iopub.status.idle": "2024-10-03T11:55:26.947594Z",
     "shell.execute_reply": "2024-10-03T11:55:26.946076Z"
    },
    "papermill": {
     "duration": 0.274681,
     "end_time": "2024-10-03T11:55:26.950735",
     "exception": false,
     "start_time": "2024-10-03T11:55:26.676054",
     "status": "completed"
    },
    "tags": []
   },
   "outputs": [
    {
     "name": "stdout",
     "output_type": "stream",
     "text": [
      "marital has no null values :  0\n",
      "\n",
      "---------------------------------------------------------------------------\n",
      "\n",
      " Unique marital :  ['married' 'single' 'divorced']\n",
      "\n",
      "---------------------------------------------------------------------------\n",
      "\n",
      "marital value counts:  marital\n",
      "married     22691\n",
      "single      11250\n",
      "divorced     5270\n",
      "Name: count, dtype: int64\n",
      "\n",
      "---------------------------------------------------------------------------\n",
      "\n"
     ]
    },
    {
     "data": {
      "image/png": "[encoded data removed]",
      "text/plain": [
       "<Figure size 640x480 with 1 Axes>"
      ]
     },
     "metadata": {},
     "output_type": "display_data"
    }
   ],
   "source": [
    "print('marital has no null values : ' , train['marital'].isnull().sum())\n",
    "\n",
    "print('')\n",
    "print('---------------------------------------------------------------------------')\n",
    "print('')\n",
    "\n",
    "print(' Unique marital : ' , train['marital'].unique())\n",
    "\n",
    "print('')\n",
    "print('---------------------------------------------------------------------------')\n",
    "print('')\n",
    "\n",
    "print('marital value counts: ' , train['marital'].value_counts())\n",
    "\n",
    "print('')\n",
    "print('---------------------------------------------------------------------------')\n",
    "print('')\n",
    "\n",
    "train['marital'].value_counts().plot(kind='bar')\n",
    "plt.show()"
   ]
  },
  {
   "cell_type": "markdown",
   "id": "e9079483",
   "metadata": {
    "papermill": {
     "duration": 0.030565,
     "end_time": "2024-10-03T11:55:27.012273",
     "exception": false,
     "start_time": "2024-10-03T11:55:26.981708",
     "status": "completed"
    },
    "tags": []
   },
   "source": [
    "# education"
   ]
  },
  {
   "cell_type": "code",
   "execution_count": 8,
   "id": "08048fe7",
   "metadata": {
    "execution": {
     "iopub.execute_input": "2024-10-03T11:55:27.076145Z",
     "iopub.status.busy": "2024-10-03T11:55:27.075678Z",
     "iopub.status.idle": "2024-10-03T11:55:27.382757Z",
     "shell.execute_reply": "2024-10-03T11:55:27.381620Z"
    },
    "papermill": {
     "duration": 0.3443,
     "end_time": "2024-10-03T11:55:27.385313",
     "exception": false,
     "start_time": "2024-10-03T11:55:27.041013",
     "status": "completed"
    },
    "tags": []
   },
   "outputs": [
    {
     "name": "stdout",
     "output_type": "stream",
     "text": [
      "education has no null values :  1467\n",
      "\n",
      "---------------------------------------------------------------------------\n",
      "\n",
      " Unique education :  ['secondary' 'tertiary' 'primary' nan]\n",
      "\n",
      "---------------------------------------------------------------------------\n",
      "\n",
      "education value counts:  education\n",
      "secondary    19584\n",
      "tertiary     11615\n",
      "primary       6545\n",
      "Name: count, dtype: int64\n",
      "\n",
      "---------------------------------------------------------------------------\n",
      "\n"
     ]
    },
    {
     "data": {
      "image/png": "[encoded data removed]",
      "text/plain": [
       "<Figure size 640x480 with 1 Axes>"
      ]
     },
     "metadata": {},
     "output_type": "display_data"
    }
   ],
   "source": [
    "print('education has no null values : ' , train['education'].isnull().sum())\n",
    "\n",
    "print('')\n",
    "print('---------------------------------------------------------------------------')\n",
    "print('')\n",
    "\n",
    "print(' Unique education : ' , train['education'].unique())\n",
    "\n",
    "print('')\n",
    "print('---------------------------------------------------------------------------')\n",
    "print('')\n",
    "\n",
    "print('education value counts: ' , train['education'].value_counts())\n",
    "\n",
    "print('')\n",
    "print('---------------------------------------------------------------------------')\n",
    "print('')\n",
    "\n",
    "train['education'].value_counts().plot(kind='bar')\n",
    "\n",
    "\n",
    "train['education']=train['education'].replace(np.nan , 'primary')\n",
    "\n",
    "test['education']=test['education'].replace(np.nan , 'primary')"
   ]
  },
  {
   "cell_type": "markdown",
   "id": "37bbe46b",
   "metadata": {
    "papermill": {
     "duration": 0.021096,
     "end_time": "2024-10-03T11:55:27.427836",
     "exception": false,
     "start_time": "2024-10-03T11:55:27.406740",
     "status": "completed"
    },
    "tags": []
   },
   "source": [
    "# default\n"
   ]
  },
  {
   "cell_type": "code",
   "execution_count": 9,
   "id": "73fd7fab",
   "metadata": {
    "execution": {
     "iopub.execute_input": "2024-10-03T11:55:27.472903Z",
     "iopub.status.busy": "2024-10-03T11:55:27.472407Z",
     "iopub.status.idle": "2024-10-03T11:55:27.733157Z",
     "shell.execute_reply": "2024-10-03T11:55:27.731928Z"
    },
    "papermill": {
     "duration": 0.286304,
     "end_time": "2024-10-03T11:55:27.735967",
     "exception": false,
     "start_time": "2024-10-03T11:55:27.449663",
     "status": "completed"
    },
    "tags": []
   },
   "outputs": [
    {
     "name": "stdout",
     "output_type": "stream",
     "text": [
      "default has no null values :  0\n",
      "\n",
      "---------------------------------------------------------------------------\n",
      "\n",
      " Unique default :  ['no' 'yes']\n",
      "\n",
      "---------------------------------------------------------------------------\n",
      "\n",
      "default value counts:  default\n",
      "no     36954\n",
      "yes     2257\n",
      "Name: count, dtype: int64\n",
      "\n",
      "---------------------------------------------------------------------------\n",
      "\n"
     ]
    },
    {
     "data": {
      "image/png": "[encoded data removed]",
      "text/plain": [
       "<Figure size 640x480 with 1 Axes>"
      ]
     },
     "metadata": {},
     "output_type": "display_data"
    }
   ],
   "source": [
    "print('default has no null values : ' , train['default'].isnull().sum())\n",
    "\n",
    "print('')\n",
    "print('---------------------------------------------------------------------------')\n",
    "print('')\n",
    "\n",
    "print(' Unique default : ' , train['default'].unique())\n",
    "\n",
    "print('')\n",
    "print('---------------------------------------------------------------------------')\n",
    "print('')\n",
    "\n",
    "print('default value counts: ' , train['default'].value_counts())\n",
    "\n",
    "print('')\n",
    "print('---------------------------------------------------------------------------')\n",
    "print('')\n",
    "\n",
    "train['default'].value_counts().plot(kind='bar')\n",
    "plt.show()\n",
    "\n",
    "\n",
    "train['default'] = train['default'].map({'no': 0, 'yes': 1})\n",
    "\n",
    "\n",
    "test['default'] = test['default'].map({'no': 0, 'yes': 1})\n"
   ]
  },
  {
   "cell_type": "markdown",
   "id": "d442e442",
   "metadata": {
    "papermill": {
     "duration": 0.021757,
     "end_time": "2024-10-03T11:55:27.779663",
     "exception": false,
     "start_time": "2024-10-03T11:55:27.757906",
     "status": "completed"
    },
    "tags": []
   },
   "source": [
    "# housing"
   ]
  },
  {
   "cell_type": "code",
   "execution_count": 10,
   "id": "824890d2",
   "metadata": {
    "execution": {
     "iopub.execute_input": "2024-10-03T11:55:27.826492Z",
     "iopub.status.busy": "2024-10-03T11:55:27.826026Z",
     "iopub.status.idle": "2024-10-03T11:55:28.070096Z",
     "shell.execute_reply": "2024-10-03T11:55:28.068715Z"
    },
    "papermill": {
     "duration": 0.270551,
     "end_time": "2024-10-03T11:55:28.072676",
     "exception": false,
     "start_time": "2024-10-03T11:55:27.802125",
     "status": "completed"
    },
    "tags": []
   },
   "outputs": [
    {
     "name": "stdout",
     "output_type": "stream",
     "text": [
      "housing has no null values :  0\n",
      "\n",
      "---------------------------------------------------------------------------\n",
      "\n",
      " Unique housing :  ['yes' 'no']\n",
      "\n",
      "---------------------------------------------------------------------------\n",
      "\n",
      "housing value counts:  housing\n",
      "yes    21657\n",
      "no     17554\n",
      "Name: count, dtype: int64\n",
      "\n",
      "---------------------------------------------------------------------------\n",
      "\n"
     ]
    },
    {
     "data": {
      "image/png": "[encoded data removed]",
      "text/plain": [
       "<Figure size 640x480 with 1 Axes>"
      ]
     },
     "metadata": {},
     "output_type": "display_data"
    }
   ],
   "source": [
    "print('housing has no null values : ' , train['housing'].isnull().sum())\n",
    "\n",
    "print('')\n",
    "print('---------------------------------------------------------------------------')\n",
    "print('')\n",
    "\n",
    "print(' Unique housing : ' , train['housing'].unique())\n",
    "\n",
    "print('')\n",
    "print('---------------------------------------------------------------------------')\n",
    "print('')\n",
    "\n",
    "print('housing value counts: ' , train['housing'].value_counts())\n",
    "\n",
    "print('')\n",
    "print('---------------------------------------------------------------------------')\n",
    "print('')\n",
    "\n",
    "train['housing'].value_counts().plot(kind='bar')\n",
    "plt.show()\n",
    "\n",
    "train['housing'] = train['housing'].map({'no': 0, 'yes': 1})\n",
    "\n",
    "\n",
    "\n",
    "test['housing'] = test['housing'].map({'no': 0, 'yes': 1})\n"
   ]
  },
  {
   "cell_type": "code",
   "execution_count": 11,
   "id": "06585fe1",
   "metadata": {
    "execution": {
     "iopub.execute_input": "2024-10-03T11:55:28.120156Z",
     "iopub.status.busy": "2024-10-03T11:55:28.119747Z",
     "iopub.status.idle": "2024-10-03T11:55:28.376775Z",
     "shell.execute_reply": "2024-10-03T11:55:28.375673Z"
    },
    "papermill": {
     "duration": 0.283694,
     "end_time": "2024-10-03T11:55:28.379532",
     "exception": false,
     "start_time": "2024-10-03T11:55:28.095838",
     "status": "completed"
    },
    "tags": []
   },
   "outputs": [
    {
     "name": "stdout",
     "output_type": "stream",
     "text": [
      "loan has no null values :  0\n",
      "\n",
      "---------------------------------------------------------------------------\n",
      "\n",
      " Unique loan :  ['no' 'yes']\n",
      "\n",
      "---------------------------------------------------------------------------\n",
      "\n",
      "loan value counts:  loan\n",
      "no     31820\n",
      "yes     7391\n",
      "Name: count, dtype: int64\n",
      "\n",
      "---------------------------------------------------------------------------\n",
      "\n"
     ]
    },
    {
     "data": {
      "image/png": "[encoded data removed]",
      "text/plain": [
       "<Figure size 640x480 with 1 Axes>"
      ]
     },
     "metadata": {},
     "output_type": "display_data"
    }
   ],
   "source": [
    "print('loan has no null values : ' , train['loan'].isnull().sum())\n",
    "\n",
    "print('')\n",
    "print('---------------------------------------------------------------------------')\n",
    "print('')\n",
    "\n",
    "print(' Unique loan : ' , train['loan'].unique())\n",
    "\n",
    "print('')\n",
    "print('---------------------------------------------------------------------------')\n",
    "print('')\n",
    "\n",
    "print('loan value counts: ' , train['loan'].value_counts())\n",
    "\n",
    "print('')\n",
    "print('---------------------------------------------------------------------------')\n",
    "print('')\n",
    "\n",
    "train['loan'].value_counts().plot(kind='bar')\n",
    "plt.show()\n",
    "\n",
    "\n",
    "\n",
    "\n",
    "train['loan'] = train['loan'].map({'no': 0, 'yes': 1})\n",
    "\n",
    "\n",
    "test['loan'] = test['loan'].map({'no': 0, 'yes': 1})\n",
    "\n"
   ]
  },
  {
   "cell_type": "code",
   "execution_count": 12,
   "id": "abdbdfa0",
   "metadata": {
    "execution": {
     "iopub.execute_input": "2024-10-03T11:55:28.426808Z",
     "iopub.status.busy": "2024-10-03T11:55:28.426351Z",
     "iopub.status.idle": "2024-10-03T11:55:28.690091Z",
     "shell.execute_reply": "2024-10-03T11:55:28.689086Z"
    },
    "papermill": {
     "duration": 0.290685,
     "end_time": "2024-10-03T11:55:28.692963",
     "exception": false,
     "start_time": "2024-10-03T11:55:28.402278",
     "status": "completed"
    },
    "tags": []
   },
   "outputs": [
    {
     "name": "stdout",
     "output_type": "stream",
     "text": [
      "contact has null values :  10336\n",
      "\n",
      "---------------------------------------------------------------------------\n",
      "\n",
      " Unique contact :  ['cellular' 'telephone' nan]\n",
      "\n",
      "---------------------------------------------------------------------------\n",
      "\n",
      "contact value counts:  contact\n",
      "cellular     25030\n",
      "telephone     3845\n",
      "Name: count, dtype: int64\n",
      "\n",
      "---------------------------------------------------------------------------\n",
      "\n"
     ]
    },
    {
     "data": {
      "image/png": "[encoded data removed]",
      "text/plain": [
       "<Figure size 640x480 with 1 Axes>"
      ]
     },
     "metadata": {},
     "output_type": "display_data"
    }
   ],
   "source": [
    "print('contact has null values : ' , train['contact'].isnull().sum())\n",
    "\n",
    "print('')\n",
    "print('---------------------------------------------------------------------------')\n",
    "print('')\n",
    "\n",
    "print(' Unique contact : ' , train['contact'].unique())\n",
    "\n",
    "print('')\n",
    "print('---------------------------------------------------------------------------')\n",
    "print('')\n",
    "\n",
    "print('contact value counts: ' , train['contact'].value_counts())\n",
    "\n",
    "print('')\n",
    "print('---------------------------------------------------------------------------')\n",
    "print('')\n",
    "\n",
    "train['contact'].value_counts().plot(kind='bar')\n",
    "plt.show()\n",
    "\n",
    "\n",
    "train['contact']=train['contact'].replace(np.nan , 'telephone')\n",
    "\n",
    "train['contact'] = train['contact'].map({'cellular': 1, 'telephone': 0})\n",
    "\n",
    "\n",
    "\n",
    "test['contact']=test['contact'].replace(np.nan , 'telephone')\n",
    "test['contact'] = test['contact'].map({'cellular': 1, 'telephone': 0})\n",
    "\n"
   ]
  },
  {
   "cell_type": "code",
   "execution_count": 13,
   "id": "ee64e202",
   "metadata": {
    "execution": {
     "iopub.execute_input": "2024-10-03T11:55:28.741188Z",
     "iopub.status.busy": "2024-10-03T11:55:28.740774Z",
     "iopub.status.idle": "2024-10-03T11:55:29.173716Z",
     "shell.execute_reply": "2024-10-03T11:55:29.172458Z"
    },
    "papermill": {
     "duration": 0.460166,
     "end_time": "2024-10-03T11:55:29.176378",
     "exception": false,
     "start_time": "2024-10-03T11:55:28.716212",
     "status": "completed"
    },
    "tags": []
   },
   "outputs": [
    {
     "name": "stdout",
     "output_type": "stream",
     "text": [
      "poutcome has  null values :  29451\n",
      "\n",
      "---------------------------------------------------------------------------\n",
      "\n",
      " Unique poutcome :  ['other' nan 'failure' 'success']\n",
      "\n",
      "---------------------------------------------------------------------------\n",
      "\n",
      "poutcome value counts:  poutcome\n",
      "failure    4949\n",
      "other      2560\n",
      "success    2251\n",
      "Name: count, dtype: int64\n",
      "\n",
      "---------------------------------------------------------------------------\n",
      "\n"
     ]
    },
    {
     "data": {
      "image/png": "[encoded data removed]",
      "text/plain": [
       "<Figure size 640x480 with 1 Axes>"
      ]
     },
     "metadata": {},
     "output_type": "display_data"
    },
    {
     "data": {
      "image/png": "[encoded data removed]",
      "text/plain": [
       "<Figure size 640x480 with 1 Axes>"
      ]
     },
     "metadata": {},
     "output_type": "display_data"
    }
   ],
   "source": [
    "print('poutcome has  null values : ' , train['poutcome'].isnull().sum())\n",
    "\n",
    "print('')\n",
    "print('---------------------------------------------------------------------------')\n",
    "print('')\n",
    "\n",
    "print(' Unique poutcome : ' , train['poutcome'].unique())\n",
    "\n",
    "print('')\n",
    "print('---------------------------------------------------------------------------')\n",
    "print('')\n",
    "\n",
    "print('poutcome value counts: ' , train['poutcome'].value_counts())\n",
    "\n",
    "print('')\n",
    "print('---------------------------------------------------------------------------')\n",
    "print('')\n",
    "\n",
    "train['poutcome'].value_counts().plot(kind='bar')\n",
    "plt.show()\n",
    "\n",
    "\n",
    "\n",
    "train['poutcome'] = train['poutcome'].replace(np.nan, 'unknown')\n",
    "\n",
    "\n",
    "train['poutcome'].value_counts().plot(kind='bar')\n",
    "plt.show()\n",
    "\n",
    "\n",
    "\n",
    "test['poutcome'] = test['poutcome'].replace(np.nan, 'unknown')\n"
   ]
  },
  {
   "cell_type": "code",
   "execution_count": 14,
   "id": "f5271a99",
   "metadata": {
    "execution": {
     "iopub.execute_input": "2024-10-03T11:55:29.227846Z",
     "iopub.status.busy": "2024-10-03T11:55:29.227340Z",
     "iopub.status.idle": "2024-10-03T11:55:29.273402Z",
     "shell.execute_reply": "2024-10-03T11:55:29.272087Z"
    },
    "papermill": {
     "duration": 0.074303,
     "end_time": "2024-10-03T11:55:29.276130",
     "exception": false,
     "start_time": "2024-10-03T11:55:29.201827",
     "status": "completed"
    },
    "tags": []
   },
   "outputs": [
    {
     "name": "stdout",
     "output_type": "stream",
     "text": [
      "<class 'pandas.core.frame.DataFrame'>\n",
      "RangeIndex: 39211 entries, 0 to 39210\n",
      "Data columns (total 16 columns):\n",
      " #   Column             Non-Null Count  Dtype \n",
      "---  ------             --------------  ----- \n",
      " 0   last contact date  39211 non-null  object\n",
      " 1   age                39211 non-null  int64 \n",
      " 2   job                39211 non-null  object\n",
      " 3   marital            39211 non-null  object\n",
      " 4   education          39211 non-null  object\n",
      " 5   default            39211 non-null  int64 \n",
      " 6   balance            39211 non-null  int64 \n",
      " 7   housing            39211 non-null  int64 \n",
      " 8   loan               39211 non-null  int64 \n",
      " 9   contact            39211 non-null  int64 \n",
      " 10  duration           39211 non-null  int64 \n",
      " 11  campaign           39211 non-null  int64 \n",
      " 12  pdays              39211 non-null  int64 \n",
      " 13  previous           39211 non-null  int64 \n",
      " 14  poutcome           39211 non-null  object\n",
      " 15  target             39211 non-null  object\n",
      "dtypes: int64(10), object(6)\n",
      "memory usage: 4.8+ MB\n"
     ]
    }
   ],
   "source": [
    "train.info()"
   ]
  },
  {
   "cell_type": "markdown",
   "id": "eb0e3ea0",
   "metadata": {
    "papermill": {
     "duration": 0.023798,
     "end_time": "2024-10-03T11:55:29.323898",
     "exception": false,
     "start_time": "2024-10-03T11:55:29.300100",
     "status": "completed"
    },
    "tags": []
   },
   "source": [
    "# Numerical Columns\n",
    "# Age , Balance , campaign , pdays , previous"
   ]
  },
  {
   "cell_type": "code",
   "execution_count": 15,
   "id": "1fa8c7c7",
   "metadata": {
    "execution": {
     "iopub.execute_input": "2024-10-03T11:55:29.374868Z",
     "iopub.status.busy": "2024-10-03T11:55:29.374444Z",
     "iopub.status.idle": "2024-10-03T11:55:29.668185Z",
     "shell.execute_reply": "2024-10-03T11:55:29.666872Z"
    },
    "papermill": {
     "duration": 0.32237,
     "end_time": "2024-10-03T11:55:29.670834",
     "exception": false,
     "start_time": "2024-10-03T11:55:29.348464",
     "status": "completed"
    },
    "tags": []
   },
   "outputs": [
    {
     "name": "stdout",
     "output_type": "stream",
     "text": [
      "Age has no null values :  0\n",
      "\n",
      "---------------------------------------------------------------------------\n",
      "\n",
      "no. of age less than zero is  0\n",
      "\n",
      "---------------------------------------------------------------------------\n",
      "\n",
      " Unique Ages :  [26 52 44 33 31 25 46 37 38 32 28 34 86 42 58 39 35 47 45 48 30 50 56 54\n",
      " 40 53 41 51 27 29 57 63 36 43 19 55 49 23 83 60 22 80 76 59 24 93 71 89\n",
      " 64 68 85 79 62 69 20 90 66 87 72 88 67 70 77 91 78 61 65 73 74 84 82 92\n",
      " 81 18 21 75 94 95]\n",
      "\n",
      "---------------------------------------------------------------------------\n",
      "\n",
      "Age value counts:  age\n",
      "32    1688\n",
      "31    1629\n",
      "33    1599\n",
      "35    1571\n",
      "34    1566\n",
      "      ... \n",
      "18      44\n",
      "92      41\n",
      "87      40\n",
      "85      39\n",
      "95       2\n",
      "Name: count, Length: 78, dtype: int64\n",
      "\n",
      "---------------------------------------------------------------------------\n",
      "\n"
     ]
    },
    {
     "data": {
      "image/png": "[encoded data removed]",
      "text/plain": [
       "<Figure size 640x480 with 1 Axes>"
      ]
     },
     "metadata": {},
     "output_type": "display_data"
    }
   ],
   "source": [
    "print('Age has no null values : ' , train['age'].isnull().sum())\n",
    "\n",
    "print('')\n",
    "print('---------------------------------------------------------------------------')\n",
    "print('')\n",
    "\n",
    "print('no. of age less than zero is ', train[train['age']<0]['age'].count())\n",
    "\n",
    "\n",
    "print('')\n",
    "print('---------------------------------------------------------------------------')\n",
    "print('')\n",
    "\n",
    "print(' Unique Ages : ' , train['age'].unique())\n",
    "\n",
    "print('')\n",
    "print('---------------------------------------------------------------------------')\n",
    "print('')\n",
    "\n",
    "print('Age value counts: ' , train['age'].value_counts())\n",
    "\n",
    "print('')\n",
    "print('---------------------------------------------------------------------------')\n",
    "print('')\n",
    "\n",
    "train['age'].value_counts().plot(kind='hist')\n",
    "plt.show()\n",
    "\n",
    "\n"
   ]
  },
  {
   "cell_type": "markdown",
   "id": "bee5eaec",
   "metadata": {
    "papermill": {
     "duration": 0.024675,
     "end_time": "2024-10-03T11:55:29.720236",
     "exception": false,
     "start_time": "2024-10-03T11:55:29.695561",
     "status": "completed"
    },
    "tags": []
   },
   "source": [
    "# Feature Engineering Age Category"
   ]
  },
  {
   "cell_type": "code",
   "execution_count": 16,
   "id": "22d1ddf0",
   "metadata": {
    "execution": {
     "iopub.execute_input": "2024-10-03T11:55:29.772895Z",
     "iopub.status.busy": "2024-10-03T11:55:29.772458Z",
     "iopub.status.idle": "2024-10-03T11:55:29.801806Z",
     "shell.execute_reply": "2024-10-03T11:55:29.800550Z"
    },
    "papermill": {
     "duration": 0.058793,
     "end_time": "2024-10-03T11:55:29.804575",
     "exception": false,
     "start_time": "2024-10-03T11:55:29.745782",
     "status": "completed"
    },
    "tags": []
   },
   "outputs": [],
   "source": [
    "def age_category(x):\n",
    "    if x<=39:\n",
    "        return 'young'\n",
    "    if 40<=x<=59:\n",
    "        return 'middle'\n",
    "    return 'old'\n",
    "\n",
    "\n",
    "train['Age_Category'] = train['age'].apply(age_category)\n",
    "\n",
    "test['Age_Category'] = test['age'].apply(age_category)\n",
    "\n"
   ]
  },
  {
   "cell_type": "code",
   "execution_count": 17,
   "id": "6304f5c1",
   "metadata": {
    "execution": {
     "iopub.execute_input": "2024-10-03T11:55:29.858333Z",
     "iopub.status.busy": "2024-10-03T11:55:29.857288Z",
     "iopub.status.idle": "2024-10-03T11:55:30.178030Z",
     "shell.execute_reply": "2024-10-03T11:55:30.176954Z"
    },
    "papermill": {
     "duration": 0.351332,
     "end_time": "2024-10-03T11:55:30.180631",
     "exception": false,
     "start_time": "2024-10-03T11:55:29.829299",
     "status": "completed"
    },
    "tags": []
   },
   "outputs": [
    {
     "name": "stdout",
     "output_type": "stream",
     "text": [
      "campaign has no null values :  0\n",
      "\n",
      "---------------------------------------------------------------------------\n",
      "\n",
      "camaign less than zero is  0\n",
      "\n",
      "---------------------------------------------------------------------------\n",
      "\n",
      " Unique campaign  :  [ 2  1  3  4  6 45  5 44 12 61 58  7  8 20 43 17 13 15 48 34 11 54 22 26\n",
      " 29 21 10 49  9 52 53 57 16 50 46 47 23 37 18 38 32 36 39 56 14 30 41 63\n",
      " 51 28 25 62 55 42 35 31 59 19 40 33 24 27 60]\n",
      "\n",
      "---------------------------------------------------------------------------\n",
      "\n",
      "campaign value counts:  campaign\n",
      "1     14013\n",
      "2     10016\n",
      "3      4470\n",
      "4      2861\n",
      "5      1469\n",
      "      ...  \n",
      "48       44\n",
      "30       43\n",
      "40       43\n",
      "60       43\n",
      "53       38\n",
      "Name: count, Length: 63, dtype: int64\n",
      "\n",
      "---------------------------------------------------------------------------\n",
      "\n"
     ]
    },
    {
     "data": {
      "text/plain": [
       "<Axes: ylabel='Frequency'>"
      ]
     },
     "execution_count": 17,
     "metadata": {},
     "output_type": "execute_result"
    },
    {
     "data": {
      "image/png": "[encoded data removed]",
      "text/plain": [
       "<Figure size 640x480 with 1 Axes>"
      ]
     },
     "metadata": {},
     "output_type": "display_data"
    }
   ],
   "source": [
    "print('campaign has no null values : ' , train['campaign'].isnull().sum())\n",
    "\n",
    "print('')\n",
    "print('---------------------------------------------------------------------------')\n",
    "print('')\n",
    "\n",
    "\n",
    "print('camaign less than zero is ', train[train['campaign']<0]['campaign'].count())\n",
    "\n",
    "\n",
    "print('')\n",
    "print('---------------------------------------------------------------------------')\n",
    "print('')\n",
    "print(' Unique campaign  : ' , train['campaign'].unique())\n",
    "\n",
    "print('')\n",
    "print('---------------------------------------------------------------------------')\n",
    "print('')\n",
    "\n",
    "print('campaign value counts: ' , train['campaign'].value_counts())\n",
    "\n",
    "print('')\n",
    "print('---------------------------------------------------------------------------')\n",
    "print('')\n",
    "\n",
    "train['campaign'].value_counts().plot(kind='hist')\n",
    "\n"
   ]
  },
  {
   "cell_type": "code",
   "execution_count": 18,
   "id": "42e2336b",
   "metadata": {
    "execution": {
     "iopub.execute_input": "2024-10-03T11:55:30.233358Z",
     "iopub.status.busy": "2024-10-03T11:55:30.232947Z",
     "iopub.status.idle": "2024-10-03T11:55:30.476259Z",
     "shell.execute_reply": "2024-10-03T11:55:30.474847Z"
    },
    "papermill": {
     "duration": 0.272942,
     "end_time": "2024-10-03T11:55:30.478794",
     "exception": false,
     "start_time": "2024-10-03T11:55:30.205852",
     "status": "completed"
    },
    "tags": []
   },
   "outputs": [
    {
     "name": "stdout",
     "output_type": "stream",
     "text": [
      "balance has no null values :  0\n",
      "\n",
      "---------------------------------------------------------------------------\n",
      "\n",
      "checking if balance is negetive and how many rows have balance less than zero: 2971\n",
      "\n",
      "---------------------------------------------------------------------------\n",
      "\n",
      " Unique balance values :  [  647   553  1397 ...  4307  6187 38594]\n",
      "\n",
      "---------------------------------------------------------------------------\n",
      "\n",
      "balance value counts:  balance\n",
      "0        2799\n",
      "1         149\n",
      "2         122\n",
      "4         115\n",
      "3         104\n",
      "         ... \n",
      "95094       1\n",
      "81074       1\n",
      "31565       1\n",
      "5278        1\n",
      "38594       1\n",
      "Name: count, Length: 9535, dtype: int64\n",
      "\n",
      "---------------------------------------------------------------------------\n",
      "\n"
     ]
    },
    {
     "data": {
      "text/plain": [
       "<Axes: ylabel='Frequency'>"
      ]
     },
     "execution_count": 18,
     "metadata": {},
     "output_type": "execute_result"
    },
    {
     "data": {
      "image/png": "[encoded data removed]",
      "text/plain": [
       "<Figure size 640x480 with 1 Axes>"
      ]
     },
     "metadata": {},
     "output_type": "display_data"
    }
   ],
   "source": [
    "print('balance has no null values : ' , train['balance'].isnull().sum())\n",
    "\n",
    "print('')\n",
    "print('---------------------------------------------------------------------------')\n",
    "print('')\n",
    "\n",
    "print('checking if balance is negetive and how many rows have balance less than zero:'  , train[train['balance']<0]['balance'].count())\n",
    "\n",
    "print('')\n",
    "print('---------------------------------------------------------------------------')\n",
    "print('')\n",
    "\n",
    "print(' Unique balance values : ' , train['balance'].unique())\n",
    "\n",
    "print('')\n",
    "print('---------------------------------------------------------------------------')\n",
    "print('')\n",
    "\n",
    "print('balance value counts: ' , train['balance'].value_counts())\n",
    "\n",
    "print('')\n",
    "print('---------------------------------------------------------------------------')\n",
    "print('')\n",
    "\n",
    "train['balance'].value_counts().plot(kind='hist')\n",
    "\n",
    "\n",
    "\n",
    "\n",
    "\n"
   ]
  },
  {
   "cell_type": "code",
   "execution_count": 19,
   "id": "82d46eb7",
   "metadata": {
    "execution": {
     "iopub.execute_input": "2024-10-03T11:55:30.532397Z",
     "iopub.status.busy": "2024-10-03T11:55:30.531948Z",
     "iopub.status.idle": "2024-10-03T11:55:30.863628Z",
     "shell.execute_reply": "2024-10-03T11:55:30.862454Z"
    },
    "papermill": {
     "duration": 0.361316,
     "end_time": "2024-10-03T11:55:30.866119",
     "exception": false,
     "start_time": "2024-10-03T11:55:30.504803",
     "status": "completed"
    },
    "tags": []
   },
   "outputs": [
    {
     "name": "stdout",
     "output_type": "stream",
     "text": [
      "pdays has no null values :  0\n",
      "\n",
      "---------------------------------------------------------------------------\n",
      "\n",
      " Unique pdays values :  [331  -1 852 661 152 599 365 367 238 129 287 174 120 368 371 187 610 364\n",
      " 633  80 125 356 248 186 278 154  90  98 574 352 561 260 801  78 596 343\n",
      " 671 175 159  12 111  31 342 357  74 100 289  84 109 245 369  83 536 216\n",
      "  89  97 252 143 378 336 172 160 191  91 848 258 317  94 196 362 188 272\n",
      " 138 298 116 101 591 360 234 505 631  82   8 300 472 173 530 103 236 316\n",
      " 370 611 271 305  79 474 405 293 442 178 232 299 213 184 237  93  37 255\n",
      " 353 259 181 315 147 349 335 165 295 203 290   6 767 302 169 320 148  19\n",
      " 435 328 645 526 150 318 347  29  96 254  35 136 350 759 358 670 348 224\n",
      " 114 102 407 326 330 665 760 445 373 265 190 285 246 644 337 161 264 562\n",
      " 189 363 630 652  44 478 322 176 783 597 344 339 110 334 167 204 166 816\n",
      " 484 177 775 366  32 480 200 408 421 247 291 261 579 244 730 324 434 525\n",
      " 156 153 157  95 439 286 163 197 182 309 257 283 461 824  92 704 195 170\n",
      " 655 121  68 332 651 504 403 263 183 440 431 185 202 105 477 746 310 622\n",
      " 149 698 427 847 115 620 219 846 301  40 649 481 438 215  61 531  59 643\n",
      " 303 117  64 168 158 338 515 516  75 779 606 355 400 743 134  53 706 321\n",
      " 274 578 345 270 141   1 251 575 705  81 340 192 266 262 560 276 208 243\n",
      " 428 375  11 180 314  99 228 774  76 518 695 209 193 206 282 861 304 828\n",
      "  55 284  87 210 551 135 312 587 468 557  50 406 113 329 556 764 179 239\n",
      " 145 249 323  41 201  33 844 221 256 212 281 450  86 580 422 385 233 514\n",
      "  28 268  30 795 205  57 361 860   2 327 346 132 473  63 396 657  88 647\n",
      " 854  73 107 126 171 581 198  24 402 325 433 269  85 646  69 605 733 488\n",
      " 462 805 217 745 292 151 426 127 131 351 359 240 769 789 388 503 306 313\n",
      " 863 866 479 547 390   5 528 341 640 648 859 625 725 567 387 669 374 225\n",
      " 380 496 155 506 642 722 802  56 118 553 456 333 559 714 409 791 267 806\n",
      " 451 415 685 558 773 383 833 467 311 534   3 459 241 819 798  52 139 104\n",
      " 511 455 307 624 601 494 308 458 112 842 522 555 394 275 498 768 273 694\n",
      " 499 381 294 708 457 146 550 845 425 297   7 871 615 752 737 543 668  60\n",
      " 864 124 796 829 250 280  77 674 130 412 600 483 538 588 548 475  70 372\n",
      " 164 418 223 712 391 279 133 751 227 464 734 106 740 857 629 436 443 253\n",
      " 812 853 123 577 437 778 613 386  38 399 711 376 869 827 721  43 469 776\n",
      " 199 398 862 735 229 680 761 780 663 686  62 870 230  14 119  42  27  17\n",
      " 697 781 545 521 517 675 242 485 211 618 509 128 667  21 404 108 736 603\n",
      " 718 218 586 831 684 658 834 826 617 144  46 463 454 786  67  10 430 493\n",
      " 810 710 701 784 354 799 584 688  47 868 637 593 662 492 448 681 207 726\n",
      " 757 825 510 739 750 277 855 654 813 673 384 460 222 410 838 628 296 621\n",
      " 677 732   9 319 194 417 140 632 691 659 589 741 288 814 822  71 397 382\n",
      " 490 554 758 392 569  22 466 542 235 541 487 565 619 544 413 650 389 476\n",
      " 508 728 529 793 500 537 429 636 449 772 137 762 491 566 770 850  45 856\n",
      " 497 664 424 785 609 830 702  39 744 626 612 563 512 634 122 447 231 717\n",
      " 414 627 713 486 818 672 432 709 419 598  25 787 719 614  13 582 656 471\n",
      " 576 696 687 162 749 777 756 489 523 811 214 377 837  18 226 804 573 416\n",
      " 446 797  36 520   4  66 465 792 379 639 602 754 546 401 766 635  49 840\n",
      " 572 858  58 821 782 771 604 731  54 608 807  23 699 851 585 693 729 616\n",
      " 660 820 808 841  65 765 411 607 571 763 727  72 470 803 653  16 142 539\n",
      " 513 843  15 742 564 552 592 638 507 676 839 549 689 590  26 809 753 723\n",
      " 815 788 747 420 790 524 720 683 690 519 716 835 568 623 570 444 678  48\n",
      " 482 535 595 836 594 707 817 502 441  34 800 533 395  20 453 832 540 849\n",
      " 666 495 679 865 501 393 794  51 700 703 532 715 867 692 452 823 220   0\n",
      " 724]\n",
      "\n",
      "---------------------------------------------------------------------------\n",
      "\n",
      "pdays value counts:  pdays\n",
      "-1      29446\n",
      " 182      135\n",
      " 92       117\n",
      " 91       106\n",
      " 183      100\n",
      "        ...  \n",
      " 836        1\n",
      " 594        1\n",
      " 659        1\n",
      " 817        1\n",
      " 724        1\n",
      "Name: count, Length: 865, dtype: int64\n",
      "\n",
      "---------------------------------------------------------------------------\n",
      "\n"
     ]
    },
    {
     "data": {
      "image/png": "[encoded data removed]",
      "text/plain": [
       "<Figure size 640x480 with 1 Axes>"
      ]
     },
     "metadata": {},
     "output_type": "display_data"
    }
   ],
   "source": [
    "print('pdays has no null values : ' , train['pdays'].isnull().sum())\n",
    "\n",
    "print('')\n",
    "print('---------------------------------------------------------------------------')\n",
    "print('')\n",
    "\n",
    "print(' Unique pdays values : ' , train['pdays'].unique())\n",
    "\n",
    "print('')\n",
    "print('---------------------------------------------------------------------------')\n",
    "print('')\n",
    "\n",
    "print('pdays value counts: ' , train['pdays'].value_counts())\n",
    "\n",
    "print('')\n",
    "print('---------------------------------------------------------------------------')\n",
    "print('')\n",
    "\n",
    "train['pdays'].value_counts().plot(kind='hist')\n",
    "\n",
    "\n",
    "\n",
    "train['previously_contacted'] = train['pdays'].apply(lambda x: 1 if x != -1 else 0)\n",
    "\n",
    "test['previously_contacted'] = test['pdays'].apply(lambda x: 1 if x != -1 else 0)\n"
   ]
  },
  {
   "cell_type": "code",
   "execution_count": 20,
   "id": "054697c5",
   "metadata": {
    "execution": {
     "iopub.execute_input": "2024-10-03T11:55:30.922230Z",
     "iopub.status.busy": "2024-10-03T11:55:30.921271Z",
     "iopub.status.idle": "2024-10-03T11:55:31.223175Z",
     "shell.execute_reply": "2024-10-03T11:55:31.222092Z"
    },
    "papermill": {
     "duration": 0.332797,
     "end_time": "2024-10-03T11:55:31.225667",
     "exception": false,
     "start_time": "2024-10-03T11:55:30.892870",
     "status": "completed"
    },
    "tags": []
   },
   "outputs": [
    {
     "name": "stdout",
     "output_type": "stream",
     "text": [
      "previous has no null values :  0\n",
      "\n",
      "---------------------------------------------------------------------------\n",
      "\n",
      "checking if previous is negetive and how many rows have previous less than zero: 0\n",
      "\n",
      "---------------------------------------------------------------------------\n",
      "\n",
      " Unique previous  :  [  1   0   4 143 234   3  18   2 225 219   6  12  16 248 217 116   8 119\n",
      "  37  69 113  14 265 175 103  28  86   5 196 156 207 218 148 213  87 241\n",
      "  60 235 172 255 266  17 135  99  20   9 270 229 188 105 141 153 131 182\n",
      " 223 177  70  75   7  91 236  85 100 160  30  63 178 150  72 233  40 145\n",
      " 272  24 249  97 193 140 222 128  90  10 155 122 134 252 117 173 203 226\n",
      "  23 194 208  77 274  38 273 244  15 176  96  31 133 259 191 101 197 192\n",
      " 152 216 204 206  71 180 250 268 144  81 110 136  43  19  74 187 205  66\n",
      " 269  36 166  29  53 200 261  13  61 186  62 104 138 123  78 189 147 185\n",
      " 179 129 190 111 139 211 245  22  51 171  26 254  84 174  46  48  58  68\n",
      " 228  11  80  55 107 232 202 132 264  56 260 181  32 163  94  83  54 240\n",
      " 154 198  49 221 242  35 120 125 243 256 146  67 124 108 169  82  39 258\n",
      " 112 237 114  59  42 165 199 184  92 168  21  88  33 159 183 109  65 164\n",
      " 215  93 246 102  95 201 162 195  41  64 157 257 263 267 126  47 212 149\n",
      "  52  73 239  25 118 161  27  76 121 170 230 262  89 137 220 209  57 251\n",
      " 247 115  34 238 271 167  98  50 142  45 227 275 106  79 210 214  44 253\n",
      " 224 151 231 130 158 127]\n",
      "\n",
      "---------------------------------------------------------------------------\n",
      "\n",
      "previous value counts:  previous\n",
      "0      29456\n",
      "1       2226\n",
      "2       1708\n",
      "3        907\n",
      "4        590\n",
      "       ...  \n",
      "163        5\n",
      "76         5\n",
      "180        5\n",
      "137        5\n",
      "231        4\n",
      "Name: count, Length: 276, dtype: int64\n",
      "\n",
      "---------------------------------------------------------------------------\n",
      "\n"
     ]
    },
    {
     "data": {
      "text/plain": [
       "<Axes: ylabel='Frequency'>"
      ]
     },
     "execution_count": 20,
     "metadata": {},
     "output_type": "execute_result"
    },
    {
     "data": {
      "image/png": "[encoded data removed]",
      "text/plain": [
       "<Figure size 640x480 with 1 Axes>"
      ]
     },
     "metadata": {},
     "output_type": "display_data"
    }
   ],
   "source": [
    "print('previous has no null values : ' , train['previous'].isnull().sum())\n",
    "\n",
    "print('')\n",
    "print('---------------------------------------------------------------------------')\n",
    "print('')\n",
    "\n",
    "\n",
    "print('checking if previous is negetive and how many rows have previous less than zero:'  , train[train['previous']<0]['previous'].count())\n",
    "\n",
    "\n",
    "print('')\n",
    "print('---------------------------------------------------------------------------')\n",
    "print('')\n",
    "\n",
    "\n",
    "print(' Unique previous  : ' , train['previous'].unique())\n",
    "\n",
    "print('')\n",
    "print('---------------------------------------------------------------------------')\n",
    "print('')\n",
    "\n",
    "print('previous value counts: ' , train['previous'].value_counts())\n",
    "\n",
    "print('')\n",
    "print('---------------------------------------------------------------------------')\n",
    "print('')\n",
    "\n",
    "train['previous'].value_counts().plot(kind='hist')\n"
   ]
  },
  {
   "cell_type": "code",
   "execution_count": 21,
   "id": "21a3432c",
   "metadata": {
    "execution": {
     "iopub.execute_input": "2024-10-03T11:55:31.283297Z",
     "iopub.status.busy": "2024-10-03T11:55:31.282869Z",
     "iopub.status.idle": "2024-10-03T11:55:31.388370Z",
     "shell.execute_reply": "2024-10-03T11:55:31.387045Z"
    },
    "papermill": {
     "duration": 0.137555,
     "end_time": "2024-10-03T11:55:31.391188",
     "exception": false,
     "start_time": "2024-10-03T11:55:31.253633",
     "status": "completed"
    },
    "tags": []
   },
   "outputs": [
    {
     "name": "stdout",
     "output_type": "stream",
     "text": [
      "Shape: (39211, 18)\n",
      "\n",
      "---------------------------------------------------------------------------\n",
      "\n",
      "<class 'pandas.core.frame.DataFrame'>\n",
      "RangeIndex: 39211 entries, 0 to 39210\n",
      "Data columns (total 18 columns):\n",
      " #   Column                Non-Null Count  Dtype \n",
      "---  ------                --------------  ----- \n",
      " 0   last contact date     39211 non-null  object\n",
      " 1   age                   39211 non-null  int64 \n",
      " 2   job                   39211 non-null  object\n",
      " 3   marital               39211 non-null  object\n",
      " 4   education             39211 non-null  object\n",
      " 5   default               39211 non-null  int64 \n",
      " 6   balance               39211 non-null  int64 \n",
      " 7   housing               39211 non-null  int64 \n",
      " 8   loan                  39211 non-null  int64 \n",
      " 9   contact               39211 non-null  int64 \n",
      " 10  duration              39211 non-null  int64 \n",
      " 11  campaign              39211 non-null  int64 \n",
      " 12  pdays                 39211 non-null  int64 \n",
      " 13  previous              39211 non-null  int64 \n",
      " 14  poutcome              39211 non-null  object\n",
      " 15  target                39211 non-null  object\n",
      " 16  Age_Category          39211 non-null  object\n",
      " 17  previously_contacted  39211 non-null  int64 \n",
      "dtypes: int64(11), object(7)\n",
      "memory usage: 5.4+ MB\n",
      "None\n",
      "\n",
      "---------------------------------------------------------------------------\n",
      "\n"
     ]
    },
    {
     "data": {
      "text/html": [
       "<div>\n",
       "<style scoped>\n",
       "    .dataframe tbody tr th:only-of-type {\n",
       "        vertical-align: middle;\n",
       "    }\n",
       "\n",
       "    .dataframe tbody tr th {\n",
       "        vertical-align: top;\n",
       "    }\n",
       "\n",
       "    .dataframe thead th {\n",
       "        text-align: right;\n",
       "    }\n",
       "</style>\n",
       "<table border=\"1\" class=\"dataframe\">\n",
       "  <thead>\n",
       "    <tr style=\"text-align: right;\">\n",
       "      <th></th>\n",
       "      <th>age</th>\n",
       "      <th>default</th>\n",
       "      <th>balance</th>\n",
       "      <th>housing</th>\n",
       "      <th>loan</th>\n",
       "      <th>contact</th>\n",
       "      <th>duration</th>\n",
       "      <th>campaign</th>\n",
       "      <th>pdays</th>\n",
       "      <th>previous</th>\n",
       "      <th>previously_contacted</th>\n",
       "    </tr>\n",
       "  </thead>\n",
       "  <tbody>\n",
       "    <tr>\n",
       "      <th>count</th>\n",
       "      <td>39211.000000</td>\n",
       "      <td>39211.000000</td>\n",
       "      <td>39211.000000</td>\n",
       "      <td>39211.000000</td>\n",
       "      <td>39211.000000</td>\n",
       "      <td>39211.000000</td>\n",
       "      <td>39211.000000</td>\n",
       "      <td>39211.000000</td>\n",
       "      <td>39211.000000</td>\n",
       "      <td>39211.000000</td>\n",
       "      <td>39211.000000</td>\n",
       "    </tr>\n",
       "    <tr>\n",
       "      <th>mean</th>\n",
       "      <td>42.120247</td>\n",
       "      <td>0.057560</td>\n",
       "      <td>5441.781719</td>\n",
       "      <td>0.552320</td>\n",
       "      <td>0.188493</td>\n",
       "      <td>0.638341</td>\n",
       "      <td>439.062789</td>\n",
       "      <td>5.108770</td>\n",
       "      <td>72.256051</td>\n",
       "      <td>11.826171</td>\n",
       "      <td>0.249037</td>\n",
       "    </tr>\n",
       "    <tr>\n",
       "      <th>std</th>\n",
       "      <td>12.709352</td>\n",
       "      <td>0.232913</td>\n",
       "      <td>16365.292065</td>\n",
       "      <td>0.497261</td>\n",
       "      <td>0.391110</td>\n",
       "      <td>0.480487</td>\n",
       "      <td>769.096291</td>\n",
       "      <td>9.890153</td>\n",
       "      <td>160.942593</td>\n",
       "      <td>44.140259</td>\n",
       "      <td>0.432461</td>\n",
       "    </tr>\n",
       "    <tr>\n",
       "      <th>min</th>\n",
       "      <td>18.000000</td>\n",
       "      <td>0.000000</td>\n",
       "      <td>-8019.000000</td>\n",
       "      <td>0.000000</td>\n",
       "      <td>0.000000</td>\n",
       "      <td>0.000000</td>\n",
       "      <td>0.000000</td>\n",
       "      <td>1.000000</td>\n",
       "      <td>-1.000000</td>\n",
       "      <td>0.000000</td>\n",
       "      <td>0.000000</td>\n",
       "    </tr>\n",
       "    <tr>\n",
       "      <th>25%</th>\n",
       "      <td>33.000000</td>\n",
       "      <td>0.000000</td>\n",
       "      <td>98.000000</td>\n",
       "      <td>0.000000</td>\n",
       "      <td>0.000000</td>\n",
       "      <td>0.000000</td>\n",
       "      <td>109.000000</td>\n",
       "      <td>1.000000</td>\n",
       "      <td>-1.000000</td>\n",
       "      <td>0.000000</td>\n",
       "      <td>0.000000</td>\n",
       "    </tr>\n",
       "    <tr>\n",
       "      <th>50%</th>\n",
       "      <td>40.000000</td>\n",
       "      <td>0.000000</td>\n",
       "      <td>549.000000</td>\n",
       "      <td>1.000000</td>\n",
       "      <td>0.000000</td>\n",
       "      <td>1.000000</td>\n",
       "      <td>197.000000</td>\n",
       "      <td>2.000000</td>\n",
       "      <td>-1.000000</td>\n",
       "      <td>0.000000</td>\n",
       "      <td>0.000000</td>\n",
       "    </tr>\n",
       "    <tr>\n",
       "      <th>75%</th>\n",
       "      <td>50.000000</td>\n",
       "      <td>0.000000</td>\n",
       "      <td>2030.000000</td>\n",
       "      <td>1.000000</td>\n",
       "      <td>0.000000</td>\n",
       "      <td>1.000000</td>\n",
       "      <td>380.000000</td>\n",
       "      <td>4.000000</td>\n",
       "      <td>-1.000000</td>\n",
       "      <td>0.000000</td>\n",
       "      <td>0.000000</td>\n",
       "    </tr>\n",
       "    <tr>\n",
       "      <th>max</th>\n",
       "      <td>95.000000</td>\n",
       "      <td>1.000000</td>\n",
       "      <td>102127.000000</td>\n",
       "      <td>1.000000</td>\n",
       "      <td>1.000000</td>\n",
       "      <td>1.000000</td>\n",
       "      <td>4918.000000</td>\n",
       "      <td>63.000000</td>\n",
       "      <td>871.000000</td>\n",
       "      <td>275.000000</td>\n",
       "      <td>1.000000</td>\n",
       "    </tr>\n",
       "  </tbody>\n",
       "</table>\n",
       "</div>"
      ],
      "text/plain": [
       "                age       default        balance       housing          loan  \\\n",
       "count  39211.000000  39211.000000   39211.000000  39211.000000  39211.000000   \n",
       "mean      42.120247      0.057560    5441.781719      0.552320      0.188493   \n",
       "std       12.709352      0.232913   16365.292065      0.497261      0.391110   \n",
       "min       18.000000      0.000000   -8019.000000      0.000000      0.000000   \n",
       "25%       33.000000      0.000000      98.000000      0.000000      0.000000   \n",
       "50%       40.000000      0.000000     549.000000      1.000000      0.000000   \n",
       "75%       50.000000      0.000000    2030.000000      1.000000      0.000000   \n",
       "max       95.000000      1.000000  102127.000000      1.000000      1.000000   \n",
       "\n",
       "            contact      duration      campaign         pdays      previous  \\\n",
       "count  39211.000000  39211.000000  39211.000000  39211.000000  39211.000000   \n",
       "mean       0.638341    439.062789      5.108770     72.256051     11.826171   \n",
       "std        0.480487    769.096291      9.890153    160.942593     44.140259   \n",
       "min        0.000000      0.000000      1.000000     -1.000000      0.000000   \n",
       "25%        0.000000    109.000000      1.000000     -1.000000      0.000000   \n",
       "50%        1.000000    197.000000      2.000000     -1.000000      0.000000   \n",
       "75%        1.000000    380.000000      4.000000     -1.000000      0.000000   \n",
       "max        1.000000   4918.000000     63.000000    871.000000    275.000000   \n",
       "\n",
       "       previously_contacted  \n",
       "count          39211.000000  \n",
       "mean               0.249037  \n",
       "std                0.432461  \n",
       "min                0.000000  \n",
       "25%                0.000000  \n",
       "50%                0.000000  \n",
       "75%                0.000000  \n",
       "max                1.000000  "
      ]
     },
     "execution_count": 21,
     "metadata": {},
     "output_type": "execute_result"
    }
   ],
   "source": [
    "print('Shape:', train.shape)\n",
    "print('')\n",
    "print('---------------------------------------------------------------------------')\n",
    "print('')\n",
    "print(train.info())\n",
    "print('')\n",
    "print('---------------------------------------------------------------------------')\n",
    "print('')\n",
    "train.describe()"
   ]
  },
  {
   "cell_type": "markdown",
   "id": "4b2f4d95",
   "metadata": {
    "papermill": {
     "duration": 0.02716,
     "end_time": "2024-10-03T11:55:31.446198",
     "exception": false,
     "start_time": "2024-10-03T11:55:31.419038",
     "status": "completed"
    },
    "tags": []
   },
   "source": [
    "# Column Transformer"
   ]
  },
  {
   "cell_type": "code",
   "execution_count": 22,
   "id": "90b9ce64",
   "metadata": {
    "execution": {
     "iopub.execute_input": "2024-10-03T11:55:31.503138Z",
     "iopub.status.busy": "2024-10-03T11:55:31.502692Z",
     "iopub.status.idle": "2024-10-03T11:55:31.517342Z",
     "shell.execute_reply": "2024-10-03T11:55:31.516161Z"
    },
    "papermill": {
     "duration": 0.046418,
     "end_time": "2024-10-03T11:55:31.520053",
     "exception": false,
     "start_time": "2024-10-03T11:55:31.473635",
     "status": "completed"
    },
    "tags": []
   },
   "outputs": [],
   "source": [
    "from sklearn.compose import ColumnTransformer\n",
    "from sklearn.preprocessing import StandardScaler , OneHotEncoder  , LabelEncoder, RobustScaler , OrdinalEncoder\n",
    "\n",
    "col_transformer=ColumnTransformer(transformers=[\n",
    "    \n",
    "    ('numerical_cols' , RobustScaler(),['age','balance','campaign','previous', 'duration']), \n",
    "    ('categorical_cols' , OneHotEncoder(handle_unknown='ignore',sparse_output=False),['job','marital','poutcome']),\n",
    "    ('label_cols', OrdinalEncoder(),['education' , 'Age_Category'])\n",
    "   \n",
    "    \n",
    "])"
   ]
  },
  {
   "cell_type": "code",
   "execution_count": 23,
   "id": "563c09c6",
   "metadata": {
    "execution": {
     "iopub.execute_input": "2024-10-03T11:55:31.577427Z",
     "iopub.status.busy": "2024-10-03T11:55:31.576952Z",
     "iopub.status.idle": "2024-10-03T11:55:31.601063Z",
     "shell.execute_reply": "2024-10-03T11:55:31.599931Z"
    },
    "papermill": {
     "duration": 0.05598,
     "end_time": "2024-10-03T11:55:31.603808",
     "exception": false,
     "start_time": "2024-10-03T11:55:31.547828",
     "status": "completed"
    },
    "tags": []
   },
   "outputs": [
    {
     "data": {
      "text/html": [
       "<div>\n",
       "<style scoped>\n",
       "    .dataframe tbody tr th:only-of-type {\n",
       "        vertical-align: middle;\n",
       "    }\n",
       "\n",
       "    .dataframe tbody tr th {\n",
       "        vertical-align: top;\n",
       "    }\n",
       "\n",
       "    .dataframe thead th {\n",
       "        text-align: right;\n",
       "    }\n",
       "</style>\n",
       "<table border=\"1\" class=\"dataframe\">\n",
       "  <thead>\n",
       "    <tr style=\"text-align: right;\">\n",
       "      <th></th>\n",
       "      <th>last contact date</th>\n",
       "      <th>age</th>\n",
       "      <th>job</th>\n",
       "      <th>marital</th>\n",
       "      <th>education</th>\n",
       "      <th>default</th>\n",
       "      <th>balance</th>\n",
       "      <th>housing</th>\n",
       "      <th>loan</th>\n",
       "      <th>contact</th>\n",
       "      <th>duration</th>\n",
       "      <th>campaign</th>\n",
       "      <th>pdays</th>\n",
       "      <th>previous</th>\n",
       "      <th>poutcome</th>\n",
       "      <th>target</th>\n",
       "      <th>Age_Category</th>\n",
       "      <th>previously_contacted</th>\n",
       "    </tr>\n",
       "  </thead>\n",
       "  <tbody>\n",
       "    <tr>\n",
       "      <th>0</th>\n",
       "      <td>2009-04-17</td>\n",
       "      <td>26</td>\n",
       "      <td>blue-collar</td>\n",
       "      <td>married</td>\n",
       "      <td>secondary</td>\n",
       "      <td>0</td>\n",
       "      <td>647</td>\n",
       "      <td>1</td>\n",
       "      <td>0</td>\n",
       "      <td>1</td>\n",
       "      <td>357</td>\n",
       "      <td>2</td>\n",
       "      <td>331</td>\n",
       "      <td>1</td>\n",
       "      <td>other</td>\n",
       "      <td>no</td>\n",
       "      <td>young</td>\n",
       "      <td>1</td>\n",
       "    </tr>\n",
       "    <tr>\n",
       "      <th>1</th>\n",
       "      <td>2009-10-11</td>\n",
       "      <td>52</td>\n",
       "      <td>technician</td>\n",
       "      <td>married</td>\n",
       "      <td>secondary</td>\n",
       "      <td>0</td>\n",
       "      <td>553</td>\n",
       "      <td>1</td>\n",
       "      <td>0</td>\n",
       "      <td>0</td>\n",
       "      <td>160</td>\n",
       "      <td>1</td>\n",
       "      <td>-1</td>\n",
       "      <td>0</td>\n",
       "      <td>unknown</td>\n",
       "      <td>no</td>\n",
       "      <td>middle</td>\n",
       "      <td>0</td>\n",
       "    </tr>\n",
       "    <tr>\n",
       "      <th>2</th>\n",
       "      <td>2010-11-20</td>\n",
       "      <td>44</td>\n",
       "      <td>blue-collar</td>\n",
       "      <td>married</td>\n",
       "      <td>secondary</td>\n",
       "      <td>0</td>\n",
       "      <td>1397</td>\n",
       "      <td>0</td>\n",
       "      <td>0</td>\n",
       "      <td>1</td>\n",
       "      <td>326</td>\n",
       "      <td>1</td>\n",
       "      <td>-1</td>\n",
       "      <td>0</td>\n",
       "      <td>unknown</td>\n",
       "      <td>no</td>\n",
       "      <td>middle</td>\n",
       "      <td>0</td>\n",
       "    </tr>\n",
       "    <tr>\n",
       "      <th>3</th>\n",
       "      <td>2009-09-01</td>\n",
       "      <td>33</td>\n",
       "      <td>admin.</td>\n",
       "      <td>married</td>\n",
       "      <td>secondary</td>\n",
       "      <td>0</td>\n",
       "      <td>394</td>\n",
       "      <td>1</td>\n",
       "      <td>0</td>\n",
       "      <td>0</td>\n",
       "      <td>104</td>\n",
       "      <td>3</td>\n",
       "      <td>-1</td>\n",
       "      <td>0</td>\n",
       "      <td>unknown</td>\n",
       "      <td>no</td>\n",
       "      <td>young</td>\n",
       "      <td>0</td>\n",
       "    </tr>\n",
       "    <tr>\n",
       "      <th>4</th>\n",
       "      <td>2008-01-29</td>\n",
       "      <td>31</td>\n",
       "      <td>entrepreneur</td>\n",
       "      <td>single</td>\n",
       "      <td>tertiary</td>\n",
       "      <td>0</td>\n",
       "      <td>137</td>\n",
       "      <td>0</td>\n",
       "      <td>0</td>\n",
       "      <td>1</td>\n",
       "      <td>445</td>\n",
       "      <td>2</td>\n",
       "      <td>-1</td>\n",
       "      <td>0</td>\n",
       "      <td>unknown</td>\n",
       "      <td>no</td>\n",
       "      <td>young</td>\n",
       "      <td>0</td>\n",
       "    </tr>\n",
       "    <tr>\n",
       "      <th>...</th>\n",
       "      <td>...</td>\n",
       "      <td>...</td>\n",
       "      <td>...</td>\n",
       "      <td>...</td>\n",
       "      <td>...</td>\n",
       "      <td>...</td>\n",
       "      <td>...</td>\n",
       "      <td>...</td>\n",
       "      <td>...</td>\n",
       "      <td>...</td>\n",
       "      <td>...</td>\n",
       "      <td>...</td>\n",
       "      <td>...</td>\n",
       "      <td>...</td>\n",
       "      <td>...</td>\n",
       "      <td>...</td>\n",
       "      <td>...</td>\n",
       "      <td>...</td>\n",
       "    </tr>\n",
       "    <tr>\n",
       "      <th>39206</th>\n",
       "      <td>2008-07-31</td>\n",
       "      <td>31</td>\n",
       "      <td>technician</td>\n",
       "      <td>single</td>\n",
       "      <td>secondary</td>\n",
       "      <td>0</td>\n",
       "      <td>0</td>\n",
       "      <td>1</td>\n",
       "      <td>0</td>\n",
       "      <td>1</td>\n",
       "      <td>16</td>\n",
       "      <td>34</td>\n",
       "      <td>-1</td>\n",
       "      <td>0</td>\n",
       "      <td>unknown</td>\n",
       "      <td>no</td>\n",
       "      <td>young</td>\n",
       "      <td>0</td>\n",
       "    </tr>\n",
       "    <tr>\n",
       "      <th>39207</th>\n",
       "      <td>2009-07-31</td>\n",
       "      <td>59</td>\n",
       "      <td>admin.</td>\n",
       "      <td>married</td>\n",
       "      <td>primary</td>\n",
       "      <td>0</td>\n",
       "      <td>6187</td>\n",
       "      <td>0</td>\n",
       "      <td>0</td>\n",
       "      <td>1</td>\n",
       "      <td>114</td>\n",
       "      <td>4</td>\n",
       "      <td>-1</td>\n",
       "      <td>0</td>\n",
       "      <td>unknown</td>\n",
       "      <td>no</td>\n",
       "      <td>middle</td>\n",
       "      <td>0</td>\n",
       "    </tr>\n",
       "    <tr>\n",
       "      <th>39208</th>\n",
       "      <td>2008-06-02</td>\n",
       "      <td>36</td>\n",
       "      <td>blue-collar</td>\n",
       "      <td>married</td>\n",
       "      <td>secondary</td>\n",
       "      <td>0</td>\n",
       "      <td>63</td>\n",
       "      <td>1</td>\n",
       "      <td>0</td>\n",
       "      <td>0</td>\n",
       "      <td>56</td>\n",
       "      <td>8</td>\n",
       "      <td>-1</td>\n",
       "      <td>0</td>\n",
       "      <td>unknown</td>\n",
       "      <td>no</td>\n",
       "      <td>young</td>\n",
       "      <td>0</td>\n",
       "    </tr>\n",
       "    <tr>\n",
       "      <th>39209</th>\n",
       "      <td>2010-03-20</td>\n",
       "      <td>28</td>\n",
       "      <td>student</td>\n",
       "      <td>single</td>\n",
       "      <td>secondary</td>\n",
       "      <td>0</td>\n",
       "      <td>5916</td>\n",
       "      <td>0</td>\n",
       "      <td>0</td>\n",
       "      <td>1</td>\n",
       "      <td>93</td>\n",
       "      <td>5</td>\n",
       "      <td>-1</td>\n",
       "      <td>0</td>\n",
       "      <td>unknown</td>\n",
       "      <td>no</td>\n",
       "      <td>young</td>\n",
       "      <td>0</td>\n",
       "    </tr>\n",
       "    <tr>\n",
       "      <th>39210</th>\n",
       "      <td>2010-03-16</td>\n",
       "      <td>51</td>\n",
       "      <td>student</td>\n",
       "      <td>divorced</td>\n",
       "      <td>tertiary</td>\n",
       "      <td>1</td>\n",
       "      <td>38594</td>\n",
       "      <td>1</td>\n",
       "      <td>0</td>\n",
       "      <td>1</td>\n",
       "      <td>1877</td>\n",
       "      <td>19</td>\n",
       "      <td>780</td>\n",
       "      <td>148</td>\n",
       "      <td>success</td>\n",
       "      <td>yes</td>\n",
       "      <td>middle</td>\n",
       "      <td>1</td>\n",
       "    </tr>\n",
       "  </tbody>\n",
       "</table>\n",
       "<p>39211 rows × 18 columns</p>\n",
       "</div>"
      ],
      "text/plain": [
       "      last contact date  age           job   marital  education  default  \\\n",
       "0            2009-04-17   26   blue-collar   married  secondary        0   \n",
       "1            2009-10-11   52    technician   married  secondary        0   \n",
       "2            2010-11-20   44   blue-collar   married  secondary        0   \n",
       "3            2009-09-01   33        admin.   married  secondary        0   \n",
       "4            2008-01-29   31  entrepreneur    single   tertiary        0   \n",
       "...                 ...  ...           ...       ...        ...      ...   \n",
       "39206        2008-07-31   31    technician    single  secondary        0   \n",
       "39207        2009-07-31   59        admin.   married    primary        0   \n",
       "39208        2008-06-02   36   blue-collar   married  secondary        0   \n",
       "39209        2010-03-20   28       student    single  secondary        0   \n",
       "39210        2010-03-16   51       student  divorced   tertiary        1   \n",
       "\n",
       "       balance  housing  loan  contact  duration  campaign  pdays  previous  \\\n",
       "0          647        1     0        1       357         2    331         1   \n",
       "1          553        1     0        0       160         1     -1         0   \n",
       "2         1397        0     0        1       326         1     -1         0   \n",
       "3          394        1     0        0       104         3     -1         0   \n",
       "4          137        0     0        1       445         2     -1         0   \n",
       "...        ...      ...   ...      ...       ...       ...    ...       ...   \n",
       "39206        0        1     0        1        16        34     -1         0   \n",
       "39207     6187        0     0        1       114         4     -1         0   \n",
       "39208       63        1     0        0        56         8     -1         0   \n",
       "39209     5916        0     0        1        93         5     -1         0   \n",
       "39210    38594        1     0        1      1877        19    780       148   \n",
       "\n",
       "      poutcome target Age_Category  previously_contacted  \n",
       "0        other     no        young                     1  \n",
       "1      unknown     no       middle                     0  \n",
       "2      unknown     no       middle                     0  \n",
       "3      unknown     no        young                     0  \n",
       "4      unknown     no        young                     0  \n",
       "...        ...    ...          ...                   ...  \n",
       "39206  unknown     no        young                     0  \n",
       "39207  unknown     no       middle                     0  \n",
       "39208  unknown     no        young                     0  \n",
       "39209  unknown     no        young                     0  \n",
       "39210  success    yes       middle                     1  \n",
       "\n",
       "[39211 rows x 18 columns]"
      ]
     },
     "execution_count": 23,
     "metadata": {},
     "output_type": "execute_result"
    }
   ],
   "source": [
    "train"
   ]
  },
  {
   "cell_type": "code",
   "execution_count": 24,
   "id": "5e0228e6",
   "metadata": {
    "execution": {
     "iopub.execute_input": "2024-10-03T11:55:31.662393Z",
     "iopub.status.busy": "2024-10-03T11:55:31.661943Z",
     "iopub.status.idle": "2024-10-03T11:55:31.703960Z",
     "shell.execute_reply": "2024-10-03T11:55:31.702637Z"
    },
    "papermill": {
     "duration": 0.074754,
     "end_time": "2024-10-03T11:55:31.706764",
     "exception": false,
     "start_time": "2024-10-03T11:55:31.632010",
     "status": "completed"
    },
    "tags": []
   },
   "outputs": [],
   "source": [
    "\n",
    "train_yes=train[train['target']=='no'].sample(5827 , random_state=42)\n",
    "train_no=train[train['target']=='yes']\n",
    "\n",
    "train= pd.concat([train_yes, train_no])\n"
   ]
  },
  {
   "cell_type": "code",
   "execution_count": 25,
   "id": "d14a477c",
   "metadata": {
    "execution": {
     "iopub.execute_input": "2024-10-03T11:55:31.764918Z",
     "iopub.status.busy": "2024-10-03T11:55:31.764432Z",
     "iopub.status.idle": "2024-10-03T11:55:31.771756Z",
     "shell.execute_reply": "2024-10-03T11:55:31.770701Z"
    },
    "papermill": {
     "duration": 0.039188,
     "end_time": "2024-10-03T11:55:31.774072",
     "exception": false,
     "start_time": "2024-10-03T11:55:31.734884",
     "status": "completed"
    },
    "tags": []
   },
   "outputs": [
    {
     "data": {
      "text/plain": [
       "(11654, 18)"
      ]
     },
     "execution_count": 25,
     "metadata": {},
     "output_type": "execute_result"
    }
   ],
   "source": [
    "train.shape"
   ]
  },
  {
   "cell_type": "code",
   "execution_count": 26,
   "id": "88e8824b",
   "metadata": {
    "execution": {
     "iopub.execute_input": "2024-10-03T11:55:31.832488Z",
     "iopub.status.busy": "2024-10-03T11:55:31.831992Z",
     "iopub.status.idle": "2024-10-03T11:55:31.845111Z",
     "shell.execute_reply": "2024-10-03T11:55:31.843914Z"
    },
    "papermill": {
     "duration": 0.045868,
     "end_time": "2024-10-03T11:55:31.848193",
     "exception": false,
     "start_time": "2024-10-03T11:55:31.802325",
     "status": "completed"
    },
    "tags": []
   },
   "outputs": [],
   "source": [
    "y=train['target']\n",
    "\n",
    "# duration\n",
    "train=train[['age','balance','campaign','previous','duration' ,'job','marital','poutcome' ,'education','previously_contacted' ,'default','housing','loan','contact' ,'Age_Category']]\n",
    "\n",
    "\n",
    "\n",
    "# duration\n",
    "test=test[['age','balance','campaign','previous','duration' ,'job','marital','poutcome' ,'education','previously_contacted' ,'default','housing','loan','contact' ,'Age_Category']]\n"
   ]
  },
  {
   "cell_type": "code",
   "execution_count": 27,
   "id": "2af60bfa",
   "metadata": {
    "execution": {
     "iopub.execute_input": "2024-10-03T11:55:31.965186Z",
     "iopub.status.busy": "2024-10-03T11:55:31.964752Z",
     "iopub.status.idle": "2024-10-03T11:55:31.973645Z",
     "shell.execute_reply": "2024-10-03T11:55:31.972345Z"
    },
    "papermill": {
     "duration": 0.097933,
     "end_time": "2024-10-03T11:55:31.976186",
     "exception": false,
     "start_time": "2024-10-03T11:55:31.878253",
     "status": "completed"
    },
    "tags": []
   },
   "outputs": [
    {
     "name": "stdout",
     "output_type": "stream",
     "text": [
      "target\n",
      "no     5827\n",
      "yes    5827\n",
      "Name: count, dtype: int64\n"
     ]
    }
   ],
   "source": [
    "print(y.value_counts())"
   ]
  },
  {
   "cell_type": "code",
   "execution_count": 28,
   "id": "8fb9e1bf",
   "metadata": {
    "execution": {
     "iopub.execute_input": "2024-10-03T11:55:32.035572Z",
     "iopub.status.busy": "2024-10-03T11:55:32.034515Z",
     "iopub.status.idle": "2024-10-03T11:55:32.056841Z",
     "shell.execute_reply": "2024-10-03T11:55:32.055634Z"
    },
    "papermill": {
     "duration": 0.054924,
     "end_time": "2024-10-03T11:55:32.059468",
     "exception": false,
     "start_time": "2024-10-03T11:55:32.004544",
     "status": "completed"
    },
    "tags": []
   },
   "outputs": [
    {
     "data": {
      "text/html": [
       "<div>\n",
       "<style scoped>\n",
       "    .dataframe tbody tr th:only-of-type {\n",
       "        vertical-align: middle;\n",
       "    }\n",
       "\n",
       "    .dataframe tbody tr th {\n",
       "        vertical-align: top;\n",
       "    }\n",
       "\n",
       "    .dataframe thead th {\n",
       "        text-align: right;\n",
       "    }\n",
       "</style>\n",
       "<table border=\"1\" class=\"dataframe\">\n",
       "  <thead>\n",
       "    <tr style=\"text-align: right;\">\n",
       "      <th></th>\n",
       "      <th>age</th>\n",
       "      <th>balance</th>\n",
       "      <th>campaign</th>\n",
       "      <th>previous</th>\n",
       "      <th>duration</th>\n",
       "      <th>job</th>\n",
       "      <th>marital</th>\n",
       "      <th>poutcome</th>\n",
       "      <th>education</th>\n",
       "      <th>previously_contacted</th>\n",
       "      <th>default</th>\n",
       "      <th>housing</th>\n",
       "      <th>loan</th>\n",
       "      <th>contact</th>\n",
       "      <th>Age_Category</th>\n",
       "    </tr>\n",
       "  </thead>\n",
       "  <tbody>\n",
       "    <tr>\n",
       "      <th>228</th>\n",
       "      <td>27</td>\n",
       "      <td>3096</td>\n",
       "      <td>4</td>\n",
       "      <td>1</td>\n",
       "      <td>62</td>\n",
       "      <td>student</td>\n",
       "      <td>single</td>\n",
       "      <td>failure</td>\n",
       "      <td>secondary</td>\n",
       "      <td>1</td>\n",
       "      <td>0</td>\n",
       "      <td>1</td>\n",
       "      <td>0</td>\n",
       "      <td>0</td>\n",
       "      <td>young</td>\n",
       "    </tr>\n",
       "    <tr>\n",
       "      <th>13212</th>\n",
       "      <td>38</td>\n",
       "      <td>207</td>\n",
       "      <td>2</td>\n",
       "      <td>0</td>\n",
       "      <td>76</td>\n",
       "      <td>technician</td>\n",
       "      <td>single</td>\n",
       "      <td>unknown</td>\n",
       "      <td>secondary</td>\n",
       "      <td>0</td>\n",
       "      <td>0</td>\n",
       "      <td>0</td>\n",
       "      <td>0</td>\n",
       "      <td>0</td>\n",
       "      <td>young</td>\n",
       "    </tr>\n",
       "    <tr>\n",
       "      <th>9207</th>\n",
       "      <td>33</td>\n",
       "      <td>2548</td>\n",
       "      <td>2</td>\n",
       "      <td>0</td>\n",
       "      <td>179</td>\n",
       "      <td>admin.</td>\n",
       "      <td>single</td>\n",
       "      <td>unknown</td>\n",
       "      <td>secondary</td>\n",
       "      <td>0</td>\n",
       "      <td>0</td>\n",
       "      <td>1</td>\n",
       "      <td>0</td>\n",
       "      <td>1</td>\n",
       "      <td>young</td>\n",
       "    </tr>\n",
       "    <tr>\n",
       "      <th>20235</th>\n",
       "      <td>49</td>\n",
       "      <td>687</td>\n",
       "      <td>6</td>\n",
       "      <td>0</td>\n",
       "      <td>65</td>\n",
       "      <td>entrepreneur</td>\n",
       "      <td>married</td>\n",
       "      <td>unknown</td>\n",
       "      <td>secondary</td>\n",
       "      <td>0</td>\n",
       "      <td>0</td>\n",
       "      <td>0</td>\n",
       "      <td>0</td>\n",
       "      <td>1</td>\n",
       "      <td>middle</td>\n",
       "    </tr>\n",
       "    <tr>\n",
       "      <th>24063</th>\n",
       "      <td>43</td>\n",
       "      <td>0</td>\n",
       "      <td>3</td>\n",
       "      <td>0</td>\n",
       "      <td>75</td>\n",
       "      <td>management</td>\n",
       "      <td>divorced</td>\n",
       "      <td>unknown</td>\n",
       "      <td>secondary</td>\n",
       "      <td>0</td>\n",
       "      <td>0</td>\n",
       "      <td>0</td>\n",
       "      <td>0</td>\n",
       "      <td>1</td>\n",
       "      <td>middle</td>\n",
       "    </tr>\n",
       "    <tr>\n",
       "      <th>...</th>\n",
       "      <td>...</td>\n",
       "      <td>...</td>\n",
       "      <td>...</td>\n",
       "      <td>...</td>\n",
       "      <td>...</td>\n",
       "      <td>...</td>\n",
       "      <td>...</td>\n",
       "      <td>...</td>\n",
       "      <td>...</td>\n",
       "      <td>...</td>\n",
       "      <td>...</td>\n",
       "      <td>...</td>\n",
       "      <td>...</td>\n",
       "      <td>...</td>\n",
       "      <td>...</td>\n",
       "    </tr>\n",
       "    <tr>\n",
       "      <th>39169</th>\n",
       "      <td>45</td>\n",
       "      <td>4831</td>\n",
       "      <td>11</td>\n",
       "      <td>0</td>\n",
       "      <td>479</td>\n",
       "      <td>management</td>\n",
       "      <td>single</td>\n",
       "      <td>unknown</td>\n",
       "      <td>tertiary</td>\n",
       "      <td>0</td>\n",
       "      <td>0</td>\n",
       "      <td>0</td>\n",
       "      <td>0</td>\n",
       "      <td>1</td>\n",
       "      <td>middle</td>\n",
       "    </tr>\n",
       "    <tr>\n",
       "      <th>39181</th>\n",
       "      <td>34</td>\n",
       "      <td>4499</td>\n",
       "      <td>1</td>\n",
       "      <td>0</td>\n",
       "      <td>1681</td>\n",
       "      <td>retired</td>\n",
       "      <td>married</td>\n",
       "      <td>unknown</td>\n",
       "      <td>primary</td>\n",
       "      <td>0</td>\n",
       "      <td>0</td>\n",
       "      <td>0</td>\n",
       "      <td>0</td>\n",
       "      <td>0</td>\n",
       "      <td>young</td>\n",
       "    </tr>\n",
       "    <tr>\n",
       "      <th>39201</th>\n",
       "      <td>26</td>\n",
       "      <td>81</td>\n",
       "      <td>2</td>\n",
       "      <td>0</td>\n",
       "      <td>803</td>\n",
       "      <td>blue-collar</td>\n",
       "      <td>single</td>\n",
       "      <td>unknown</td>\n",
       "      <td>secondary</td>\n",
       "      <td>0</td>\n",
       "      <td>1</td>\n",
       "      <td>0</td>\n",
       "      <td>1</td>\n",
       "      <td>1</td>\n",
       "      <td>young</td>\n",
       "    </tr>\n",
       "    <tr>\n",
       "      <th>39205</th>\n",
       "      <td>34</td>\n",
       "      <td>899</td>\n",
       "      <td>1</td>\n",
       "      <td>3</td>\n",
       "      <td>114</td>\n",
       "      <td>admin.</td>\n",
       "      <td>married</td>\n",
       "      <td>failure</td>\n",
       "      <td>tertiary</td>\n",
       "      <td>1</td>\n",
       "      <td>0</td>\n",
       "      <td>1</td>\n",
       "      <td>0</td>\n",
       "      <td>0</td>\n",
       "      <td>young</td>\n",
       "    </tr>\n",
       "    <tr>\n",
       "      <th>39210</th>\n",
       "      <td>51</td>\n",
       "      <td>38594</td>\n",
       "      <td>19</td>\n",
       "      <td>148</td>\n",
       "      <td>1877</td>\n",
       "      <td>student</td>\n",
       "      <td>divorced</td>\n",
       "      <td>success</td>\n",
       "      <td>tertiary</td>\n",
       "      <td>1</td>\n",
       "      <td>1</td>\n",
       "      <td>1</td>\n",
       "      <td>0</td>\n",
       "      <td>1</td>\n",
       "      <td>middle</td>\n",
       "    </tr>\n",
       "  </tbody>\n",
       "</table>\n",
       "<p>11654 rows × 15 columns</p>\n",
       "</div>"
      ],
      "text/plain": [
       "       age  balance  campaign  previous  duration           job   marital  \\\n",
       "228     27     3096         4         1        62       student    single   \n",
       "13212   38      207         2         0        76    technician    single   \n",
       "9207    33     2548         2         0       179        admin.    single   \n",
       "20235   49      687         6         0        65  entrepreneur   married   \n",
       "24063   43        0         3         0        75    management  divorced   \n",
       "...    ...      ...       ...       ...       ...           ...       ...   \n",
       "39169   45     4831        11         0       479    management    single   \n",
       "39181   34     4499         1         0      1681       retired   married   \n",
       "39201   26       81         2         0       803   blue-collar    single   \n",
       "39205   34      899         1         3       114        admin.   married   \n",
       "39210   51    38594        19       148      1877       student  divorced   \n",
       "\n",
       "      poutcome  education  previously_contacted  default  housing  loan  \\\n",
       "228    failure  secondary                     1        0        1     0   \n",
       "13212  unknown  secondary                     0        0        0     0   \n",
       "9207   unknown  secondary                     0        0        1     0   \n",
       "20235  unknown  secondary                     0        0        0     0   \n",
       "24063  unknown  secondary                     0        0        0     0   \n",
       "...        ...        ...                   ...      ...      ...   ...   \n",
       "39169  unknown   tertiary                     0        0        0     0   \n",
       "39181  unknown    primary                     0        0        0     0   \n",
       "39201  unknown  secondary                     0        1        0     1   \n",
       "39205  failure   tertiary                     1        0        1     0   \n",
       "39210  success   tertiary                     1        1        1     0   \n",
       "\n",
       "       contact Age_Category  \n",
       "228          0        young  \n",
       "13212        0        young  \n",
       "9207         1        young  \n",
       "20235        1       middle  \n",
       "24063        1       middle  \n",
       "...        ...          ...  \n",
       "39169        1       middle  \n",
       "39181        0        young  \n",
       "39201        1        young  \n",
       "39205        0        young  \n",
       "39210        1       middle  \n",
       "\n",
       "[11654 rows x 15 columns]"
      ]
     },
     "execution_count": 28,
     "metadata": {},
     "output_type": "execute_result"
    }
   ],
   "source": [
    "train"
   ]
  },
  {
   "cell_type": "code",
   "execution_count": null,
   "id": "6957a963",
   "metadata": {
    "papermill": {
     "duration": 0.028742,
     "end_time": "2024-10-03T11:55:32.117787",
     "exception": false,
     "start_time": "2024-10-03T11:55:32.089045",
     "status": "completed"
    },
    "tags": []
   },
   "outputs": [],
   "source": []
  },
  {
   "cell_type": "code",
   "execution_count": 29,
   "id": "084cc1b6",
   "metadata": {
    "execution": {
     "iopub.execute_input": "2024-10-03T11:55:32.177769Z",
     "iopub.status.busy": "2024-10-03T11:55:32.177300Z",
     "iopub.status.idle": "2024-10-03T11:55:32.183839Z",
     "shell.execute_reply": "2024-10-03T11:55:32.182500Z"
    },
    "papermill": {
     "duration": 0.040259,
     "end_time": "2024-10-03T11:55:32.186963",
     "exception": false,
     "start_time": "2024-10-03T11:55:32.146704",
     "status": "completed"
    },
    "tags": []
   },
   "outputs": [
    {
     "name": "stdout",
     "output_type": "stream",
     "text": [
      "train shape :  (11654, 15)\n",
      "test shape :  (10000, 15)\n"
     ]
    }
   ],
   "source": [
    "print('train shape : ',train.shape)\n",
    "\n",
    "print('test shape : ',test.shape) "
   ]
  },
  {
   "cell_type": "code",
   "execution_count": 30,
   "id": "659202f4",
   "metadata": {
    "execution": {
     "iopub.execute_input": "2024-10-03T11:55:32.247249Z",
     "iopub.status.busy": "2024-10-03T11:55:32.246833Z",
     "iopub.status.idle": "2024-10-03T11:55:32.324790Z",
     "shell.execute_reply": "2024-10-03T11:55:32.323124Z"
    },
    "papermill": {
     "duration": 0.11095,
     "end_time": "2024-10-03T11:55:32.327343",
     "exception": false,
     "start_time": "2024-10-03T11:55:32.216393",
     "status": "completed"
    },
    "tags": []
   },
   "outputs": [
    {
     "name": "stdout",
     "output_type": "stream",
     "text": [
      "train shape :  (11654, 25)\n",
      "test shape :  (10000, 25)\n"
     ]
    }
   ],
   "source": [
    "train=col_transformer.fit_transform(train)\n",
    "test=col_transformer.transform(test)\n",
    "\n",
    "\n",
    "print('train shape : ', train.shape)\n",
    "\n",
    "print('test shape : ' ,test.shape)"
   ]
  },
  {
   "cell_type": "markdown",
   "id": "c11578a5",
   "metadata": {
    "papermill": {
     "duration": 0.02957,
     "end_time": "2024-10-03T11:55:32.387665",
     "exception": false,
     "start_time": "2024-10-03T11:55:32.358095",
     "status": "completed"
    },
    "tags": []
   },
   "source": [
    "# train test split"
   ]
  },
  {
   "cell_type": "code",
   "execution_count": null,
   "id": "8ea1f537",
   "metadata": {
    "papermill": {
     "duration": 0.028981,
     "end_time": "2024-10-03T11:55:32.445734",
     "exception": false,
     "start_time": "2024-10-03T11:55:32.416753",
     "status": "completed"
    },
    "tags": []
   },
   "outputs": [],
   "source": []
  },
  {
   "cell_type": "code",
   "execution_count": 31,
   "id": "ec120ff3",
   "metadata": {
    "execution": {
     "iopub.execute_input": "2024-10-03T11:55:32.507933Z",
     "iopub.status.busy": "2024-10-03T11:55:32.507455Z",
     "iopub.status.idle": "2024-10-03T11:55:32.534292Z",
     "shell.execute_reply": "2024-10-03T11:55:32.533092Z"
    },
    "papermill": {
     "duration": 0.061369,
     "end_time": "2024-10-03T11:55:32.537139",
     "exception": false,
     "start_time": "2024-10-03T11:55:32.475770",
     "status": "completed"
    },
    "tags": []
   },
   "outputs": [],
   "source": [
    "from sklearn.model_selection import train_test_split\n",
    "\n",
    "from sklearn.pipeline import Pipeline\n",
    "from sklearn.metrics import f1_score\n",
    "\n",
    "\n",
    "xtrain , xtest , ytrain , ytest = train_test_split(train , y ,test_size=0.3, random_state=1 , shuffle=True , stratify=y)"
   ]
  },
  {
   "cell_type": "code",
   "execution_count": 32,
   "id": "1ec3a0eb",
   "metadata": {
    "execution": {
     "iopub.execute_input": "2024-10-03T11:55:32.597635Z",
     "iopub.status.busy": "2024-10-03T11:55:32.597141Z",
     "iopub.status.idle": "2024-10-03T11:55:32.602473Z",
     "shell.execute_reply": "2024-10-03T11:55:32.601393Z"
    },
    "papermill": {
     "duration": 0.038753,
     "end_time": "2024-10-03T11:55:32.605125",
     "exception": false,
     "start_time": "2024-10-03T11:55:32.566372",
     "status": "completed"
    },
    "tags": []
   },
   "outputs": [],
   "source": [
    "# from imblearn.over_sampling import SMOTE\n",
    "\n",
    "# smote= SMOTE(sampling_strategy='minority', random_state=42)\n",
    "\n",
    "# xtrain , ytrain = smote.fit_resample(xtrain , ytrain)\n"
   ]
  },
  {
   "cell_type": "code",
   "execution_count": null,
   "id": "b57e94c9",
   "metadata": {
    "papermill": {
     "duration": 0.028907,
     "end_time": "2024-10-03T11:55:32.663352",
     "exception": false,
     "start_time": "2024-10-03T11:55:32.634445",
     "status": "completed"
    },
    "tags": []
   },
   "outputs": [],
   "source": []
  },
  {
   "cell_type": "code",
   "execution_count": 33,
   "id": "86f54a52",
   "metadata": {
    "execution": {
     "iopub.execute_input": "2024-10-03T11:55:32.724054Z",
     "iopub.status.busy": "2024-10-03T11:55:32.723597Z",
     "iopub.status.idle": "2024-10-03T11:55:32.731582Z",
     "shell.execute_reply": "2024-10-03T11:55:32.730359Z"
    },
    "papermill": {
     "duration": 0.04108,
     "end_time": "2024-10-03T11:55:32.734039",
     "exception": false,
     "start_time": "2024-10-03T11:55:32.692959",
     "status": "completed"
    },
    "tags": []
   },
   "outputs": [
    {
     "data": {
      "text/plain": [
       "(8157, 25)"
      ]
     },
     "execution_count": 33,
     "metadata": {},
     "output_type": "execute_result"
    }
   ],
   "source": [
    "xtrain.shape"
   ]
  },
  {
   "cell_type": "code",
   "execution_count": 34,
   "id": "a53c8861",
   "metadata": {
    "execution": {
     "iopub.execute_input": "2024-10-03T11:55:32.794712Z",
     "iopub.status.busy": "2024-10-03T11:55:32.793981Z",
     "iopub.status.idle": "2024-10-03T11:55:32.801539Z",
     "shell.execute_reply": "2024-10-03T11:55:32.800243Z"
    },
    "papermill": {
     "duration": 0.040434,
     "end_time": "2024-10-03T11:55:32.803834",
     "exception": false,
     "start_time": "2024-10-03T11:55:32.763400",
     "status": "completed"
    },
    "tags": []
   },
   "outputs": [
    {
     "data": {
      "text/plain": [
       "(8157,)"
      ]
     },
     "execution_count": 34,
     "metadata": {},
     "output_type": "execute_result"
    }
   ],
   "source": [
    "ytrain.shape"
   ]
  },
  {
   "cell_type": "code",
   "execution_count": 35,
   "id": "3bb1db87",
   "metadata": {
    "execution": {
     "iopub.execute_input": "2024-10-03T11:55:32.866040Z",
     "iopub.status.busy": "2024-10-03T11:55:32.865190Z",
     "iopub.status.idle": "2024-10-03T11:55:33.427673Z",
     "shell.execute_reply": "2024-10-03T11:55:33.426479Z"
    },
    "papermill": {
     "duration": 0.598216,
     "end_time": "2024-10-03T11:55:33.431363",
     "exception": false,
     "start_time": "2024-10-03T11:55:32.833147",
     "status": "completed"
    },
    "tags": []
   },
   "outputs": [
    {
     "data": {
      "image/png": "[encoded data removed]",
      "text/plain": [
       "<Figure size 800x600 with 1 Axes>"
      ]
     },
     "metadata": {},
     "output_type": "display_data"
    }
   ],
   "source": [
    "plt.figure(figsize=(8,6))\n",
    "\n",
    "\n",
    "\n",
    "colors={   'yes':'red' ,  'no' : 'black'}\n",
    "\n",
    "plt.scatter(xtrain[:,0],xtrain[:,1],c=ytrain.map(colors))\n",
    "\n",
    "plt.title('Scatter Plot of Classes: Yes vs No')\n",
    "\n",
    "\n",
    "plt.xlabel('yes')\n",
    "plt.ylabel(' no')\n",
    "plt.show()\n"
   ]
  },
  {
   "cell_type": "code",
   "execution_count": 36,
   "id": "e934beaf",
   "metadata": {
    "execution": {
     "iopub.execute_input": "2024-10-03T11:55:33.503724Z",
     "iopub.status.busy": "2024-10-03T11:55:33.503233Z",
     "iopub.status.idle": "2024-10-03T11:55:35.695703Z",
     "shell.execute_reply": "2024-10-03T11:55:35.694498Z"
    },
    "papermill": {
     "duration": 2.233434,
     "end_time": "2024-10-03T11:55:35.698488",
     "exception": false,
     "start_time": "2024-10-03T11:55:33.465054",
     "status": "completed"
    },
    "tags": []
   },
   "outputs": [
    {
     "name": "stdout",
     "output_type": "stream",
     "text": [
      "logisticRegressionCV Score 0.7555047183299971\n",
      "logisticRegressionCV f1_score  0.7526375155312948\n",
      "Classification Report               precision    recall  f1-score   support\n",
      "\n",
      "          no       0.71      0.86      0.78      1748\n",
      "         yes       0.83      0.65      0.73      1749\n",
      "\n",
      "    accuracy                           0.76      3497\n",
      "   macro avg       0.77      0.76      0.75      3497\n",
      "weighted avg       0.77      0.76      0.75      3497\n",
      "\n"
     ]
    }
   ],
   "source": [
    "from sklearn.linear_model import LogisticRegressionCV\n",
    "\n",
    "from imblearn.pipeline import Pipeline \n",
    "\n",
    "from sklearn.metrics import classification_report , confusion_matrix , ConfusionMatrixDisplay\n",
    "\n",
    "logistic = LogisticRegressionCV(cv=5, random_state=1 ,solver='liblinear' , class_weight='balanced' , max_iter=1000 , penalty='l1' ,Cs=[0.0001, 0.001, 0.01, 0.1, 1, 10, 100] )\n",
    "\n",
    "# logistic=Pipeline(steps=[('col_transformer',col_transformer),('logisticRegressionCV',logisticRegressionCV)])\n",
    "\n",
    "\n",
    "logistic.fit(xtrain, ytrain)\n",
    "ypredicted_logistic=logistic.predict(xtest)\n",
    "\n",
    "print(   'logisticRegressionCV Score'   ,  logistic.score(xtest,ytest)  )\n",
    "\n",
    "\n",
    "print(   'logisticRegressionCV f1_score '  ,     f1_score(ytest, ypredicted_logistic  , average='weighted')    )\n",
    "\n",
    "print('Classification Report' ,classification_report(ytest ,ypredicted_logistic ) )"
   ]
  },
  {
   "cell_type": "code",
   "execution_count": 37,
   "id": "6c7d8b68",
   "metadata": {
    "execution": {
     "iopub.execute_input": "2024-10-03T11:55:35.765454Z",
     "iopub.status.busy": "2024-10-03T11:55:35.764792Z",
     "iopub.status.idle": "2024-10-03T11:55:35.775645Z",
     "shell.execute_reply": "2024-10-03T11:55:35.774501Z"
    },
    "papermill": {
     "duration": 0.047272,
     "end_time": "2024-10-03T11:55:35.778023",
     "exception": false,
     "start_time": "2024-10-03T11:55:35.730751",
     "status": "completed"
    },
    "tags": []
   },
   "outputs": [
    {
     "data": {
      "text/plain": [
       "target\n",
       "no     4079\n",
       "yes    4078\n",
       "Name: count, dtype: int64"
      ]
     },
     "execution_count": 37,
     "metadata": {},
     "output_type": "execute_result"
    }
   ],
   "source": [
    "ytrain.value_counts()"
   ]
  },
  {
   "cell_type": "code",
   "execution_count": 38,
   "id": "2395cb45",
   "metadata": {
    "execution": {
     "iopub.execute_input": "2024-10-03T11:55:35.846273Z",
     "iopub.status.busy": "2024-10-03T11:55:35.845876Z",
     "iopub.status.idle": "2024-10-03T11:55:35.851844Z",
     "shell.execute_reply": "2024-10-03T11:55:35.850621Z"
    },
    "papermill": {
     "duration": 0.043441,
     "end_time": "2024-10-03T11:55:35.854277",
     "exception": false,
     "start_time": "2024-10-03T11:55:35.810836",
     "status": "completed"
    },
    "tags": []
   },
   "outputs": [],
   "source": [
    "# from sklearn.svm import SVC\n",
    "# from sklearn.pipeline import Pipeline\n",
    "# from sklearn.metrics import f1_score\n",
    "# from sklearn.model_selection import GridSearchCV\n",
    "\n",
    "# # # # param_grid = {'svc__C': [0.01, 0.1, 1, 10] }\n",
    "# param_grid = {'svc__C': [0.1] }\n",
    "# # # # svc_grid.best_params_\n",
    "# # # # {'svc__C': 0.1}\n",
    "# # # # svc_grid Score 0.8596381641857229\n",
    "# # # # svc_grid f1_score  0.8596381641857229\n",
    "\n",
    "\n",
    "# svc=Pipeline(steps=[('col_transformer',col_transformer),('svc',SVC(random_state=1 , class_weight='balanced' ))])\n",
    "\n",
    "# svc_grid = GridSearchCV(svc, param_grid, scoring='f1_weighted', cv=5)\n",
    "\n",
    "# svc_grid.fit(xtrain, ytrain)\n",
    "\n",
    "# ypredicted_svc=svc_grid.predict(xtest)\n",
    "\n",
    "\n",
    "# # svc_grid.fit(xtrain, ytrain)\n",
    "\n",
    "\n",
    "# print(   'svc_grid Score'   ,  svc_grid.score(xtest,ytest)  )\n",
    "\n",
    "\n",
    "# print(   'svc_grid f1_score '  ,     f1_score(ytest, ypredicted_svc  , average='weighted')    )"
   ]
  },
  {
   "cell_type": "code",
   "execution_count": 39,
   "id": "b93ecabe",
   "metadata": {
    "execution": {
     "iopub.execute_input": "2024-10-03T11:55:35.923109Z",
     "iopub.status.busy": "2024-10-03T11:55:35.922246Z",
     "iopub.status.idle": "2024-10-03T11:55:35.927755Z",
     "shell.execute_reply": "2024-10-03T11:55:35.926596Z"
    },
    "papermill": {
     "duration": 0.041625,
     "end_time": "2024-10-03T11:55:35.930069",
     "exception": false,
     "start_time": "2024-10-03T11:55:35.888444",
     "status": "completed"
    },
    "tags": []
   },
   "outputs": [],
   "source": [
    "# from xgboost import XGBClassifier\n",
    "\n",
    "# bst = XGBClassifier(n_estimators=2, max_depth=2, learning_rate=1, objective='binary:logistic')\n",
    "\n",
    "# ytrain_numeric = ytrain.map({'yes': 1, 'no': 0})\n",
    "# ytest_numeric = ytest.map({'yes': 1, 'no': 0})\n",
    "\n",
    "# xbst=Pipeline(steps=[('col_transformer',col_transformer),('bst',bst)])\n",
    "\n",
    "# xbst.fit(xtrain, ytrain_numeric)\n",
    "\n",
    "# ypredicted_xbst=xbst.predict(xtest)\n",
    "\n",
    "# print(   'svc Score'   ,  xbst.score(xtest,ytest_numeric)  )\n",
    "\n",
    "# print(   'svc f1_score '  ,     f1_score(ytest_numeric, ypredicted_xbst  , average='weighted')    )"
   ]
  },
  {
   "cell_type": "code",
   "execution_count": 40,
   "id": "cba8868c",
   "metadata": {
    "execution": {
     "iopub.execute_input": "2024-10-03T11:55:35.996810Z",
     "iopub.status.busy": "2024-10-03T11:55:35.996326Z",
     "iopub.status.idle": "2024-10-03T11:55:42.777346Z",
     "shell.execute_reply": "2024-10-03T11:55:42.776108Z"
    },
    "papermill": {
     "duration": 6.817635,
     "end_time": "2024-10-03T11:55:42.780206",
     "exception": false,
     "start_time": "2024-10-03T11:55:35.962571",
     "status": "completed"
    },
    "tags": []
   },
   "outputs": [
    {
     "name": "stdout",
     "output_type": "stream",
     "text": [
      "svc Score 0.8084072061767229\n",
      "svc f1_score  0.8079234488159318\n",
      "Classification Report               precision    recall  f1-score   support\n",
      "\n",
      "          no       0.78      0.86      0.82      1748\n",
      "         yes       0.84      0.76      0.80      1749\n",
      "\n",
      "    accuracy                           0.81      3497\n",
      "   macro avg       0.81      0.81      0.81      3497\n",
      "weighted avg       0.81      0.81      0.81      3497\n",
      "\n",
      "Confusion Matrix\n"
     ]
    },
    {
     "data": {
      "text/plain": [
       "<sklearn.metrics._plot.confusion_matrix.ConfusionMatrixDisplay at 0x7949a6995120>"
      ]
     },
     "execution_count": 40,
     "metadata": {},
     "output_type": "execute_result"
    },
    {
     "data": {
      "image/png": "[encoded data removed]",
      "text/plain": [
       "<Figure size 640x480 with 2 Axes>"
      ]
     },
     "metadata": {},
     "output_type": "display_data"
    }
   ],
   "source": [
    "from sklearn.svm import SVC , LinearSVC\n",
    "# svc=Pipeline(steps=[('col_transformer',col_transformer),('svc',SVC(random_state=1 , class_weight='balanced' ))])\n",
    "\n",
    "svc=SVC(random_state=1 , class_weight='balanced' , C=10 )\n",
    "svc.fit(xtrain, ytrain)\n",
    "\n",
    "ypredicted_svc=svc.predict(xtest)\n",
    "\n",
    "print(   'svc Score'   ,  svc.score(xtest,ytest)  )\n",
    "\n",
    "print(   'svc f1_score '  ,     f1_score(ytest, ypredicted_svc  , average='weighted')    )\n",
    "\n",
    "\n",
    "print('Classification Report' ,classification_report(ytest ,ypredicted_svc ) )\n",
    "\n",
    "print('Confusion Matrix')\n",
    "ConfusionMatrixDisplay.from_estimator(svc,xtest,ytest)"
   ]
  },
  {
   "cell_type": "code",
   "execution_count": 41,
   "id": "44f674ba",
   "metadata": {
    "execution": {
     "iopub.execute_input": "2024-10-03T11:55:42.851137Z",
     "iopub.status.busy": "2024-10-03T11:55:42.850390Z",
     "iopub.status.idle": "2024-10-03T11:55:42.855490Z",
     "shell.execute_reply": "2024-10-03T11:55:42.854371Z"
    },
    "papermill": {
     "duration": 0.043303,
     "end_time": "2024-10-03T11:55:42.858284",
     "exception": false,
     "start_time": "2024-10-03T11:55:42.814981",
     "status": "completed"
    },
    "tags": []
   },
   "outputs": [],
   "source": [
    "# Calculate the number of components that explain 95% of the variance\n",
    "# pca = PCA(n_components=0.95)\n",
    "# X_train_pca = pca.fit_transform(xtrain)\n",
    "\n",
    "# # Number of components chosen\n",
    "# print(f\"Number of components explaining 95% variance: {pca.n_components_}\")\n"
   ]
  },
  {
   "cell_type": "code",
   "execution_count": 42,
   "id": "c51e4c72",
   "metadata": {
    "execution": {
     "iopub.execute_input": "2024-10-03T11:55:42.929233Z",
     "iopub.status.busy": "2024-10-03T11:55:42.928817Z",
     "iopub.status.idle": "2024-10-03T11:55:42.934431Z",
     "shell.execute_reply": "2024-10-03T11:55:42.933259Z"
    },
    "papermill": {
     "duration": 0.044106,
     "end_time": "2024-10-03T11:55:42.936915",
     "exception": false,
     "start_time": "2024-10-03T11:55:42.892809",
     "status": "completed"
    },
    "tags": []
   },
   "outputs": [],
   "source": [
    "# from sklearn.decomposition import PCA\n",
    "# import matplotlib.pyplot as plt\n",
    "\n",
    "# # Assuming X_train is your data\n",
    "# pca = PCA().fit(xtrain)\n",
    "\n",
    "# # Plot the explained variance ratio for each component\n",
    "# plt.plot(range(1, len(pca.explained_variance_ratio_) + 1), pca.explained_variance_ratio_.cumsum(), marker='o')\n",
    "# plt.xlabel('Number of Components')\n",
    "# plt.ylabel('Cumulative Explained Variance')\n",
    "# plt.grid(True)\n",
    "# plt.show()\n"
   ]
  },
  {
   "cell_type": "code",
   "execution_count": 43,
   "id": "ebb15374",
   "metadata": {
    "execution": {
     "iopub.execute_input": "2024-10-03T11:55:43.007290Z",
     "iopub.status.busy": "2024-10-03T11:55:43.006830Z",
     "iopub.status.idle": "2024-10-03T11:55:43.012652Z",
     "shell.execute_reply": "2024-10-03T11:55:43.011291Z"
    },
    "papermill": {
     "duration": 0.044223,
     "end_time": "2024-10-03T11:55:43.015180",
     "exception": false,
     "start_time": "2024-10-03T11:55:42.970957",
     "status": "completed"
    },
    "tags": []
   },
   "outputs": [],
   "source": [
    "# from sklearn.svm import SVC , LinearSVC\n",
    "\n",
    "\n",
    "# svc=SVC(random_state=1 , class_weight='balanced' , C=10 )\n",
    "\n",
    "# svc=Pipeline(steps=[('pca', PCA(n_components=4)),('svc', svc)])\n",
    "\n",
    "# svc.fit(xtrain, ytrain)\n",
    "\n",
    "# ypredicted_svc=svc.predict(xtest)\n",
    "\n",
    "# print(   'svc Score'   ,  svc.score(xtest,ytest)  )\n",
    "\n",
    "# print(   'svc f1_score '  ,     f1_score(ytest, ypredicted_svc  , average='weighted')    )\n",
    "\n",
    "\n",
    "# print('Classification Report' ,classification_report(ytest ,ypredicted_svc ) )\n",
    "\n",
    "# print('Confusion Matrix')\n",
    "# ConfusionMatrixDisplay.from_estimator(svc,xtest,ytest)"
   ]
  },
  {
   "cell_type": "code",
   "execution_count": 44,
   "id": "b3f4219e",
   "metadata": {
    "execution": {
     "iopub.execute_input": "2024-10-03T11:55:43.085098Z",
     "iopub.status.busy": "2024-10-03T11:55:43.084661Z",
     "iopub.status.idle": "2024-10-03T11:55:43.090657Z",
     "shell.execute_reply": "2024-10-03T11:55:43.089281Z"
    },
    "papermill": {
     "duration": 0.044418,
     "end_time": "2024-10-03T11:55:43.093166",
     "exception": false,
     "start_time": "2024-10-03T11:55:43.048748",
     "status": "completed"
    },
    "tags": []
   },
   "outputs": [],
   "source": [
    "# params_svc = { 'gamma': ['scale', 'auto', 0.1, 0.01, 0.001],\n",
    "#     'kernel': ['rbf', 'poly', 'linear'] }\n",
    "\n",
    "\n",
    "# svc=LinearSVC(random_state=1 , class_weight='balanced' , C=10 , max_iter=1000 , shrinking=False)\n",
    "\n",
    "# grid_svc = GridSearchCV(svc , params_svc, refit=True, verbose=3)\n",
    "# grid_svc.fit(xtrain, ytrain)\n",
    "\n",
    "\n",
    "\n",
    "\n",
    "# ypredicted_grid_svc=grid_svc.predict(xtest)\n",
    "\n",
    "# print(   'grid_svc Score'   ,grid_svc.score(xtest,ytest)  )\n",
    "\n",
    "# print(   'grid_svc f1_score '  ,f1_score(ytest, ypredicted_grid_svc  , average='weighted')    )\n",
    "\n",
    "\n",
    "# print('Classification Report grid_svc')\n",
    "\n",
    "# print(classification_report(ytest ,ypredicted_grid_svc))\n",
    "\n",
    "# print('Confusion Matrix grid_svc')\n",
    "# ConfusionMatrixDisplay.from_estimator(grid,xtest,ytest)"
   ]
  },
  {
   "cell_type": "code",
   "execution_count": 45,
   "id": "8cc72ebf",
   "metadata": {
    "execution": {
     "iopub.execute_input": "2024-10-03T11:55:43.164023Z",
     "iopub.status.busy": "2024-10-03T11:55:43.163554Z",
     "iopub.status.idle": "2024-10-03T11:55:43.169644Z",
     "shell.execute_reply": "2024-10-03T11:55:43.168477Z"
    },
    "papermill": {
     "duration": 0.044801,
     "end_time": "2024-10-03T11:55:43.172259",
     "exception": false,
     "start_time": "2024-10-03T11:55:43.127458",
     "status": "completed"
    },
    "tags": []
   },
   "outputs": [],
   "source": [
    "# from sklearn.ensemble import GradientBoostingClassifier\n",
    "\n",
    "# gradientBoostingClassifier=Pipeline([('col_transformer',col_transformer),('GradientBoostingClassifier',GradientBoostingClassifier(random_state=1))])\n",
    "# gradientBoostingClassifier.fit(xtrain, ytrain)\n",
    "\n",
    "# ypredicted_gb=gradientBoostingClassifier.predict(xtest)\n",
    "\n",
    "# print(   'gradientBoostingClassifier Score'   ,  gradientBoostingClassifier.score(xtest,ytest)  )\n",
    "\n",
    "\n",
    "# print(   'gradientBoostingClassifier f1_score '  ,     f1_score(ytest, ypredicted_gb  , average='weighted')    )\n"
   ]
  },
  {
   "cell_type": "code",
   "execution_count": 46,
   "id": "0cc44d13",
   "metadata": {
    "execution": {
     "iopub.execute_input": "2024-10-03T11:55:43.242043Z",
     "iopub.status.busy": "2024-10-03T11:55:43.241552Z",
     "iopub.status.idle": "2024-10-03T11:55:43.247153Z",
     "shell.execute_reply": "2024-10-03T11:55:43.245951Z"
    },
    "papermill": {
     "duration": 0.044057,
     "end_time": "2024-10-03T11:55:43.249848",
     "exception": false,
     "start_time": "2024-10-03T11:55:43.205791",
     "status": "completed"
    },
    "tags": []
   },
   "outputs": [],
   "source": [
    "# from sklearn.ensemble import HistGradientBoostingClassifier\n",
    "# histGradientBoostingClassifier=Pipeline([('col_transformer',col_transformer),('HistGradientBoostingClassifier',HistGradientBoostingClassifier(random_state=1))])\n",
    "# histGradientBoostingClassifier.fit(xtrain, ytrain)\n",
    "\n",
    "# ypredicted_hgb=histGradientBoostingClassifier.predict(xtest)\n",
    "\n",
    "# print(   'histGradientBoostingClassifier Score'   ,  histGradientBoostingClassifier.score(xtest,ytest)  )\n",
    "\n",
    "\n",
    "# print(   'histGradientBoostingClassifier f1_score '  ,     f1_score(ytest, ypredicted_hgb  , average='weighted')    )\n"
   ]
  },
  {
   "cell_type": "code",
   "execution_count": 47,
   "id": "7ce84a35",
   "metadata": {
    "execution": {
     "iopub.execute_input": "2024-10-03T11:55:43.320214Z",
     "iopub.status.busy": "2024-10-03T11:55:43.319798Z",
     "iopub.status.idle": "2024-10-03T11:55:43.324889Z",
     "shell.execute_reply": "2024-10-03T11:55:43.323684Z"
    },
    "papermill": {
     "duration": 0.043752,
     "end_time": "2024-10-03T11:55:43.327356",
     "exception": false,
     "start_time": "2024-10-03T11:55:43.283604",
     "status": "completed"
    },
    "tags": []
   },
   "outputs": [],
   "source": [
    "# from sklearn.model_selection import cross_val_score\n",
    "\n",
    "# # Perform 5-fold cross-validation\n",
    "# cv_scores = cross_val_score(svc, xtrain, ytrain, cv=5, scoring='f1_weighted')\n",
    "\n",
    "# # Print the cross-validation F1 score\n",
    "# print(\"Cross-validation F1 scores: \", cv_scores)\n",
    "# print(\"Mean cross-validation F1 score: \", cv_scores.mean())\n"
   ]
  },
  {
   "cell_type": "code",
   "execution_count": 48,
   "id": "d77300cc",
   "metadata": {
    "execution": {
     "iopub.execute_input": "2024-10-03T11:55:43.396953Z",
     "iopub.status.busy": "2024-10-03T11:55:43.396481Z",
     "iopub.status.idle": "2024-10-03T11:55:45.230207Z",
     "shell.execute_reply": "2024-10-03T11:55:45.228972Z"
    },
    "papermill": {
     "duration": 1.871962,
     "end_time": "2024-10-03T11:55:45.232827",
     "exception": false,
     "start_time": "2024-10-03T11:55:43.360865",
     "status": "completed"
    },
    "tags": []
   },
   "outputs": [
    {
     "name": "stdout",
     "output_type": "stream",
     "text": [
      "randomForestClassifier Score 0.8158421504146411\n",
      "randomForestClassifier f1_score  0.8158415179299751\n",
      "Classification Report\n",
      "              precision    recall  f1-score   support\n",
      "\n",
      "          no       0.82      0.81      0.82      1748\n",
      "         yes       0.81      0.82      0.82      1749\n",
      "\n",
      "    accuracy                           0.82      3497\n",
      "   macro avg       0.82      0.82      0.82      3497\n",
      "weighted avg       0.82      0.82      0.82      3497\n",
      "\n",
      "Confusion Matrix\n"
     ]
    },
    {
     "data": {
      "text/plain": [
       "<sklearn.metrics._plot.confusion_matrix.ConfusionMatrixDisplay at 0x7949a68e1c60>"
      ]
     },
     "execution_count": 48,
     "metadata": {},
     "output_type": "execute_result"
    },
    {
     "data": {
      "image/png": "[encoded data removed]",
      "text/plain": [
       "<Figure size 640x480 with 2 Axes>"
      ]
     },
     "metadata": {},
     "output_type": "display_data"
    }
   ],
   "source": [
    "from sklearn.ensemble import RandomForestClassifier\n",
    "\n",
    "# randomForestClassifier=Pipeline([('col_transformer',col_transformer),('randomForest',RandomForestClassifier(random_state=1))])\n",
    "randomForestClassifier=RandomForestClassifier(random_state=1 , n_estimators=150, max_depth=5 , min_samples_split=3 , min_samples_leaf=3)\n",
    "randomForestClassifier.fit(xtrain, ytrain)\n",
    "\n",
    "ypredicted_rf=randomForestClassifier.predict(xtest)\n",
    "\n",
    "print(   'randomForestClassifier Score'   ,  randomForestClassifier.score(xtest,ytest)  )\n",
    "\n",
    "\n",
    "print(   'randomForestClassifier f1_score '  ,     f1_score(ytest, ypredicted_rf  , average='weighted')    )\n",
    "\n",
    "print('Classification Report')\n",
    "\n",
    "print(classification_report(ytest ,ypredicted_rf))\n",
    "\n",
    "print('Confusion Matrix')\n",
    "\n",
    "ConfusionMatrixDisplay.from_estimator(randomForestClassifier,xtest,ytest)\n"
   ]
  },
  {
   "cell_type": "code",
   "execution_count": 49,
   "id": "d6e9aa7a",
   "metadata": {
    "execution": {
     "iopub.execute_input": "2024-10-03T11:55:45.303172Z",
     "iopub.status.busy": "2024-10-03T11:55:45.302742Z",
     "iopub.status.idle": "2024-10-03T11:55:45.311145Z",
     "shell.execute_reply": "2024-10-03T11:55:45.309947Z"
    },
    "papermill": {
     "duration": 0.045938,
     "end_time": "2024-10-03T11:55:45.313456",
     "exception": false,
     "start_time": "2024-10-03T11:55:45.267518",
     "status": "completed"
    },
    "tags": []
   },
   "outputs": [
    {
     "data": {
      "text/plain": [
       "array([[-0.2       , -0.23244377, -0.25      , ...,  1.        ,\n",
       "         2.        ,  2.        ],\n",
       "       [-0.5       ,  0.07420265,  0.        , ...,  1.        ,\n",
       "         2.        ,  2.        ],\n",
       "       [-0.4       , -0.21074709,  0.5       , ...,  1.        ,\n",
       "         1.        ,  2.        ],\n",
       "       ...,\n",
       "       [-0.7       , -0.18210747,  0.        , ...,  1.        ,\n",
       "         1.        ,  2.        ],\n",
       "       [-0.4       , -0.1442106 ,  0.        , ...,  1.        ,\n",
       "         2.        ,  2.        ],\n",
       "       [-0.1       ,  0.00361611,  0.75      , ...,  1.        ,\n",
       "         1.        ,  2.        ]])"
      ]
     },
     "execution_count": 49,
     "metadata": {},
     "output_type": "execute_result"
    }
   ],
   "source": [
    "test"
   ]
  },
  {
   "cell_type": "code",
   "execution_count": 50,
   "id": "d8b516f3",
   "metadata": {
    "execution": {
     "iopub.execute_input": "2024-10-03T11:55:45.385233Z",
     "iopub.status.busy": "2024-10-03T11:55:45.384779Z",
     "iopub.status.idle": "2024-10-03T11:55:45.538489Z",
     "shell.execute_reply": "2024-10-03T11:55:45.537417Z"
    },
    "papermill": {
     "duration": 0.193282,
     "end_time": "2024-10-03T11:55:45.541442",
     "exception": false,
     "start_time": "2024-10-03T11:55:45.348160",
     "status": "completed"
    },
    "tags": []
   },
   "outputs": [],
   "source": [
    "y_pred_submission=randomForestClassifier.predict(test)\n",
    "# ypred_submission_xbst = pd.Series(y_pred_submission).replace({0: 'no', 1: 'yes'})\n",
    "\n",
    "submission=pd.DataFrame({'id': np.arange(0,len(test)), 'target': y_pred_submission})\n",
    "\n",
    "submission.to_csv('submission.csv',index=False)"
   ]
  },
  {
   "cell_type": "code",
   "execution_count": null,
   "id": "7b99b320",
   "metadata": {
    "papermill": {
     "duration": 0.034713,
     "end_time": "2024-10-03T11:55:45.610637",
     "exception": false,
     "start_time": "2024-10-03T11:55:45.575924",
     "status": "completed"
    },
    "tags": []
   },
   "outputs": [],
   "source": []
  }
 ],
 "metadata": {
  "kaggle": {
   "accelerator": "none",
   "dataSources": [
    {
     "databundleVersionId": 9578279,
     "sourceId": 85062,
     "sourceType": "competition"
    }
   ],
   "dockerImageVersionId": 30761,
   "isGpuEnabled": false,
   "isInternetEnabled": true,
   "language": "python",
   "sourceType": "notebook"
  },
  "kernelspec": {
   "display_name": "Python 3",
   "language": "python",
   "name": "python3"
  },
  "language_info": {
   "codemirror_mode": {
    "name": "ipython",
    "version": 3
   },
   "file_extension": ".py",
   "mimetype": "text/x-python",
   "name": "python",
   "nbconvert_exporter": "python",
   "pygments_lexer": "ipython3",
   "version": "3.10.14"
  },
  "papermill": {
   "default_parameters": {},
   "duration": 26.603615,
   "end_time": "2024-10-03T11:55:46.367609",
   "environment_variables": {},
   "exception": null,
   "input_path": "__notebook__.ipynb",
   "output_path": "__notebook__.ipynb",
   "parameters": {},
   "start_time": "2024-10-03T11:55:19.763994",
   "version": "2.6.0"
  }
 },
 "nbformat": 4,
 "nbformat_minor": 5
}

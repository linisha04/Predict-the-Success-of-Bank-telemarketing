{
 "cells": [
  {
   "cell_type": "code",
   "execution_count": 1,
   "id": "5c290498",
   "metadata": {
    "_cell_guid": "b1076dfc-b9ad-4769-8c92-a6c4dae69d19",
    "_uuid": "8f2839f25d086af736a60e9eeb907d3b93b6e0e5",
    "execution": {
     "iopub.execute_input": "2024-10-07T16:25:18.274564Z",
     "iopub.status.busy": "2024-10-07T16:25:18.274106Z",
     "iopub.status.idle": "2024-10-07T16:25:19.089213Z",
     "shell.execute_reply": "2024-10-07T16:25:19.087862Z"
    },
    "papermill": {
     "duration": 0.838082,
     "end_time": "2024-10-07T16:25:19.091671",
     "exception": false,
     "start_time": "2024-10-07T16:25:18.253589",
     "status": "completed"
    },
    "tags": []
   },
   "outputs": [
    {
     "name": "stdout",
     "output_type": "stream",
     "text": [
      "/kaggle/input/predict-the-success-of-bank-telemarketing/sample_submission.csv\n",
      "/kaggle/input/predict-the-success-of-bank-telemarketing/train.csv\n",
      "/kaggle/input/predict-the-success-of-bank-telemarketing/test.csv\n"
     ]
    }
   ],
   "source": [
    "# This Python 3 environment comes with many helpful analytics libraries installed\n",
    "# It is defined by the kaggle/python Docker image: https://github.com/kaggle/docker-python\n",
    "# For example, here's several helpful packages to load\n",
    "\n",
    "import numpy as np # linear algebra\n",
    "import pandas as pd # data processing, CSV file I/O (e.g. pd.read_csv)\n",
    "\n",
    "# Input data files are available in the read-only \"../input/\" directory\n",
    "# For example, running this (by clicking run or pressing Shift+Enter) will list all files under the input directory\n",
    "\n",
    "import os\n",
    "for dirname, _, filenames in os.walk('/kaggle/input'):\n",
    "    for filename in filenames:\n",
    "        print(os.path.join(dirname, filename))\n",
    "\n",
    "# You can write up to 20GB to the current directory (/kaggle/working/) that gets preserved as output when you create a version using \"Save & Run All\" \n",
    "# You can also write temporary files to /kaggle/temp/, but they won't be saved outside of the current session"
   ]
  },
  {
   "cell_type": "code",
   "execution_count": 2,
   "id": "2bdebb98",
   "metadata": {
    "execution": {
     "iopub.execute_input": "2024-10-07T16:25:19.130108Z",
     "iopub.status.busy": "2024-10-07T16:25:19.129527Z",
     "iopub.status.idle": "2024-10-07T16:25:20.645770Z",
     "shell.execute_reply": "2024-10-07T16:25:20.644291Z"
    },
    "papermill": {
     "duration": 1.538544,
     "end_time": "2024-10-07T16:25:20.648678",
     "exception": false,
     "start_time": "2024-10-07T16:25:19.110134",
     "status": "completed"
    },
    "tags": []
   },
   "outputs": [],
   "source": [
    "# !pip install xgboost\n",
    "\n",
    "import matplotlib.pyplot as plt\n",
    "from sklearn.model_selection import GridSearchCV\n",
    "from sklearn.decomposition import PCA\n",
    "\n"
   ]
  },
  {
   "cell_type": "code",
   "execution_count": 3,
   "id": "bd603a44",
   "metadata": {
    "execution": {
     "iopub.execute_input": "2024-10-07T16:25:20.687211Z",
     "iopub.status.busy": "2024-10-07T16:25:20.686582Z",
     "iopub.status.idle": "2024-10-07T16:25:20.870427Z",
     "shell.execute_reply": "2024-10-07T16:25:20.869109Z"
    },
    "papermill": {
     "duration": 0.206006,
     "end_time": "2024-10-07T16:25:20.873167",
     "exception": false,
     "start_time": "2024-10-07T16:25:20.667161",
     "status": "completed"
    },
    "tags": []
   },
   "outputs": [],
   "source": [
    "train=pd.read_csv('/kaggle/input/predict-the-success-of-bank-telemarketing/train.csv')\n",
    "test=pd.read_csv('/kaggle/input/predict-the-success-of-bank-telemarketing/test.csv')\n"
   ]
  },
  {
   "cell_type": "code",
   "execution_count": 4,
   "id": "1e1796b3",
   "metadata": {
    "execution": {
     "iopub.execute_input": "2024-10-07T16:25:20.911288Z",
     "iopub.status.busy": "2024-10-07T16:25:20.910824Z",
     "iopub.status.idle": "2024-10-07T16:25:20.934088Z",
     "shell.execute_reply": "2024-10-07T16:25:20.932795Z"
    },
    "papermill": {
     "duration": 0.045288,
     "end_time": "2024-10-07T16:25:20.936621",
     "exception": false,
     "start_time": "2024-10-07T16:25:20.891333",
     "status": "completed"
    },
    "tags": []
   },
   "outputs": [
    {
     "data": {
      "text/plain": [
       "target\n",
       "no     33384\n",
       "yes     5827\n",
       "Name: count, dtype: int64"
      ]
     },
     "execution_count": 4,
     "metadata": {},
     "output_type": "execute_result"
    }
   ],
   "source": [
    "train['target'].value_counts()"
   ]
  },
  {
   "cell_type": "code",
   "execution_count": 5,
   "id": "d3643078",
   "metadata": {
    "execution": {
     "iopub.execute_input": "2024-10-07T16:25:20.975935Z",
     "iopub.status.busy": "2024-10-07T16:25:20.974895Z",
     "iopub.status.idle": "2024-10-07T16:25:21.002954Z",
     "shell.execute_reply": "2024-10-07T16:25:21.001748Z"
    },
    "papermill": {
     "duration": 0.050151,
     "end_time": "2024-10-07T16:25:21.005442",
     "exception": false,
     "start_time": "2024-10-07T16:25:20.955291",
     "status": "completed"
    },
    "tags": []
   },
   "outputs": [
    {
     "data": {
      "text/plain": [
       "last contact date        0\n",
       "age                      0\n",
       "job                    229\n",
       "marital                  0\n",
       "education             1467\n",
       "default                  0\n",
       "balance                  0\n",
       "housing                  0\n",
       "loan                     0\n",
       "contact              10336\n",
       "duration                 0\n",
       "campaign                 0\n",
       "pdays                    0\n",
       "previous                 0\n",
       "poutcome             29451\n",
       "target                   0\n",
       "dtype: int64"
      ]
     },
     "execution_count": 5,
     "metadata": {},
     "output_type": "execute_result"
    }
   ],
   "source": [
    "train.isnull().sum()"
   ]
  },
  {
   "cell_type": "code",
   "execution_count": 6,
   "id": "dc76c66a",
   "metadata": {
    "execution": {
     "iopub.execute_input": "2024-10-07T16:25:21.044833Z",
     "iopub.status.busy": "2024-10-07T16:25:21.044393Z",
     "iopub.status.idle": "2024-10-07T16:25:21.058545Z",
     "shell.execute_reply": "2024-10-07T16:25:21.057105Z"
    },
    "papermill": {
     "duration": 0.037052,
     "end_time": "2024-10-07T16:25:21.061044",
     "exception": false,
     "start_time": "2024-10-07T16:25:21.023992",
     "status": "completed"
    },
    "tags": []
   },
   "outputs": [
    {
     "data": {
      "text/plain": [
       "last contact date       0\n",
       "age                     0\n",
       "job                    59\n",
       "marital                 0\n",
       "education             390\n",
       "default                 0\n",
       "balance                 0\n",
       "housing                 0\n",
       "loan                    0\n",
       "contact              2684\n",
       "duration                0\n",
       "campaign                0\n",
       "pdays                   0\n",
       "previous                0\n",
       "poutcome             7508\n",
       "dtype: int64"
      ]
     },
     "execution_count": 6,
     "metadata": {},
     "output_type": "execute_result"
    }
   ],
   "source": [
    "test.isnull().sum()"
   ]
  },
  {
   "cell_type": "markdown",
   "id": "6d445db3",
   "metadata": {
    "papermill": {
     "duration": 0.01818,
     "end_time": "2024-10-07T16:25:21.097914",
     "exception": false,
     "start_time": "2024-10-07T16:25:21.079734",
     "status": "completed"
    },
    "tags": []
   },
   "source": [
    "# Last Contact and Feature engineering\n"
   ]
  },
  {
   "cell_type": "code",
   "execution_count": 7,
   "id": "39559bcd",
   "metadata": {
    "execution": {
     "iopub.execute_input": "2024-10-07T16:25:21.136664Z",
     "iopub.status.busy": "2024-10-07T16:25:21.136224Z",
     "iopub.status.idle": "2024-10-07T16:25:21.181108Z",
     "shell.execute_reply": "2024-10-07T16:25:21.179763Z"
    },
    "papermill": {
     "duration": 0.067322,
     "end_time": "2024-10-07T16:25:21.183672",
     "exception": false,
     "start_time": "2024-10-07T16:25:21.116350",
     "status": "completed"
    },
    "tags": []
   },
   "outputs": [
    {
     "name": "stdout",
     "output_type": "stream",
     "text": [
      "month\n",
      "5     11004\n",
      "7      5521\n",
      "8      4969\n",
      "6      4232\n",
      "11     3147\n",
      "4      2359\n",
      "2      2087\n",
      "1      1725\n",
      "10     1236\n",
      "9      1091\n",
      "3       997\n",
      "12      843\n",
      "Name: count, dtype: int64\n",
      "\n",
      "--------------------------\n",
      "day\n",
      "3    7428\n",
      "2    7292\n",
      "4    6762\n",
      "1    6184\n",
      "5    4496\n",
      "0    4033\n",
      "6    3016\n",
      "Name: count, dtype: int64\n"
     ]
    }
   ],
   "source": [
    "train['last contact date']=pd.to_datetime(train['last contact date'])\n",
    "\n",
    "train['day']= train['last contact date'].dt.dayofweek\n",
    "\n",
    "train['month'] = train['last contact date'].dt.month\n",
    "\n",
    "print(train['month'].value_counts())\n",
    "\n",
    "print('')\n",
    "print('--------------------------')\n",
    "\n",
    "print(train['day'].value_counts())\n",
    "\n",
    "\n",
    "\n",
    "\n",
    "test['last contact date']=pd.to_datetime(test['last contact date'])\n",
    "\n",
    "test['day']= test['last contact date'].dt.dayofweek\n",
    "\n",
    "test['month'] = test['last contact date'].dt.month\n",
    "\n"
   ]
  },
  {
   "cell_type": "markdown",
   "id": "0b44698d",
   "metadata": {
    "papermill": {
     "duration": 0.018128,
     "end_time": "2024-10-07T16:25:21.220486",
     "exception": false,
     "start_time": "2024-10-07T16:25:21.202358",
     "status": "completed"
    },
    "tags": []
   },
   "source": [
    "# #WeekDay or Sunday "
   ]
  },
  {
   "cell_type": "code",
   "execution_count": 8,
   "id": "c65e4f76",
   "metadata": {
    "execution": {
     "iopub.execute_input": "2024-10-07T16:25:21.259206Z",
     "iopub.status.busy": "2024-10-07T16:25:21.258757Z",
     "iopub.status.idle": "2024-10-07T16:25:21.289317Z",
     "shell.execute_reply": "2024-10-07T16:25:21.288061Z"
    },
    "papermill": {
     "duration": 0.05262,
     "end_time": "2024-10-07T16:25:21.291632",
     "exception": false,
     "start_time": "2024-10-07T16:25:21.239012",
     "status": "completed"
    },
    "tags": []
   },
   "outputs": [],
   "source": [
    "def whichday(x):\n",
    "    if x==1:\n",
    "        return 1\n",
    "    return 0\n",
    "train['isSunday']=train['day'].apply(whichday)\n",
    "\n",
    "test['isSunday']=test['day'].apply(whichday)"
   ]
  },
  {
   "cell_type": "markdown",
   "id": "3fbfa180",
   "metadata": {
    "papermill": {
     "duration": 0.018072,
     "end_time": "2024-10-07T16:25:21.328255",
     "exception": false,
     "start_time": "2024-10-07T16:25:21.310183",
     "status": "completed"
    },
    "tags": []
   },
   "source": []
  },
  {
   "cell_type": "markdown",
   "id": "290f4bec",
   "metadata": {
    "papermill": {
     "duration": 0.017956,
     "end_time": "2024-10-07T16:25:21.364625",
     "exception": false,
     "start_time": "2024-10-07T16:25:21.346669",
     "status": "completed"
    },
    "tags": []
   },
   "source": [
    "# Categorical Columns\n",
    "# job , martial , education , default , housing ,loan , contact , poutcome"
   ]
  },
  {
   "cell_type": "markdown",
   "id": "91adef07",
   "metadata": {
    "papermill": {
     "duration": 0.018047,
     "end_time": "2024-10-07T16:25:21.401122",
     "exception": false,
     "start_time": "2024-10-07T16:25:21.383075",
     "status": "completed"
    },
    "tags": []
   },
   "source": [
    "# Job"
   ]
  },
  {
   "cell_type": "code",
   "execution_count": 9,
   "id": "c4304cb6",
   "metadata": {
    "execution": {
     "iopub.execute_input": "2024-10-07T16:25:21.439789Z",
     "iopub.status.busy": "2024-10-07T16:25:21.439333Z",
     "iopub.status.idle": "2024-10-07T16:25:21.754681Z",
     "shell.execute_reply": "2024-10-07T16:25:21.753340Z"
    },
    "papermill": {
     "duration": 0.338306,
     "end_time": "2024-10-07T16:25:21.757761",
     "exception": false,
     "start_time": "2024-10-07T16:25:21.419455",
     "status": "completed"
    },
    "tags": []
   },
   "outputs": [
    {
     "name": "stdout",
     "output_type": "stream",
     "text": [
      " Number of null values :  229\n",
      "\n",
      "---------------------------------------------------------------------------\n",
      "\n",
      "Unique job :  ['blue-collar' 'technician' 'admin.' 'entrepreneur' 'unemployed'\n",
      " 'management' 'services' 'student' 'self-employed' 'retired' 'housemaid'\n",
      " nan]\n",
      "\n",
      "---------------------------------------------------------------------------\n",
      "\n",
      "job value counts:  job\n",
      "blue-collar      7776\n",
      "management       7462\n",
      "technician       6078\n",
      "admin.           4116\n",
      "services         3325\n",
      "self-employed    1862\n",
      "retired          1824\n",
      "entrepreneur     1805\n",
      "unemployed       1685\n",
      "housemaid        1656\n",
      "student          1393\n",
      "Name: count, dtype: int64\n",
      "\n",
      "---------------------------------------------------------------------------\n",
      "\n"
     ]
    },
    {
     "data": {
      "image/png": "[encoded data removed]",
      "text/plain": [
       "<Figure size 640x480 with 1 Axes>"
      ]
     },
     "metadata": {},
     "output_type": "display_data"
    },
    {
     "name": "stdout",
     "output_type": "stream",
     "text": [
      "\n",
      "---------------------------------------------------------------------------\n",
      "\n"
     ]
    }
   ],
   "source": [
    "\n",
    "print(' Number of null values : ' , train['job'].isnull().sum())\n",
    "\n",
    "print('')\n",
    "print('---------------------------------------------------------------------------')\n",
    "print('')\n",
    "\n",
    "print('Unique job : ' , train['job'].unique())\n",
    "\n",
    "print('')\n",
    "print('---------------------------------------------------------------------------')\n",
    "print('')\n",
    "\n",
    "print('job value counts: ' , train['job'].value_counts())\n",
    "\n",
    "print('')\n",
    "print('---------------------------------------------------------------------------')\n",
    "print('')\n",
    "\n",
    "train['job'].value_counts().plot(kind='bar')\n",
    "plt.show()\n",
    "\n",
    "print('')\n",
    "print('---------------------------------------------------------------------------')\n",
    "print('')\n",
    "\n",
    "\n",
    "train['job'] = train['job'].replace(np.nan, 'blue-collar')\n",
    "\n",
    "\n",
    "\n",
    "\n",
    "\n",
    "\n",
    "\n",
    "\n",
    "\n",
    "test['job'] = test['job'].replace(np.nan , 'blue-collar')"
   ]
  },
  {
   "cell_type": "markdown",
   "id": "e10ffb7a",
   "metadata": {
    "papermill": {
     "duration": 0.018938,
     "end_time": "2024-10-07T16:25:21.795992",
     "exception": false,
     "start_time": "2024-10-07T16:25:21.777054",
     "status": "completed"
    },
    "tags": []
   },
   "source": [
    "# martial"
   ]
  },
  {
   "cell_type": "code",
   "execution_count": 10,
   "id": "dcf922ad",
   "metadata": {
    "execution": {
     "iopub.execute_input": "2024-10-07T16:25:21.836974Z",
     "iopub.status.busy": "2024-10-07T16:25:21.835933Z",
     "iopub.status.idle": "2024-10-07T16:25:22.008669Z",
     "shell.execute_reply": "2024-10-07T16:25:22.007242Z"
    },
    "papermill": {
     "duration": 0.196183,
     "end_time": "2024-10-07T16:25:22.011480",
     "exception": false,
     "start_time": "2024-10-07T16:25:21.815297",
     "status": "completed"
    },
    "tags": []
   },
   "outputs": [
    {
     "name": "stdout",
     "output_type": "stream",
     "text": [
      "marital has no null values :  0\n",
      "\n",
      "---------------------------------------------------------------------------\n",
      "\n",
      " Unique marital :  ['married' 'single' 'divorced']\n",
      "\n",
      "---------------------------------------------------------------------------\n",
      "\n",
      "marital value counts:  marital\n",
      "married     22691\n",
      "single      11250\n",
      "divorced     5270\n",
      "Name: count, dtype: int64\n",
      "\n",
      "---------------------------------------------------------------------------\n",
      "\n"
     ]
    },
    {
     "data": {
      "image/png": "[encoded data removed]",
      "text/plain": [
       "<Figure size 640x480 with 1 Axes>"
      ]
     },
     "metadata": {},
     "output_type": "display_data"
    }
   ],
   "source": [
    "print('marital has no null values : ' , train['marital'].isnull().sum())\n",
    "\n",
    "print('')\n",
    "print('---------------------------------------------------------------------------')\n",
    "print('')\n",
    "\n",
    "print(' Unique marital : ' , train['marital'].unique())\n",
    "\n",
    "print('')\n",
    "print('---------------------------------------------------------------------------')\n",
    "print('')\n",
    "\n",
    "print('marital value counts: ' , train['marital'].value_counts())\n",
    "\n",
    "print('')\n",
    "print('---------------------------------------------------------------------------')\n",
    "print('')\n",
    "\n",
    "train['marital'].value_counts().plot(kind='bar')\n",
    "plt.show()"
   ]
  },
  {
   "cell_type": "markdown",
   "id": "a1bcf62c",
   "metadata": {
    "papermill": {
     "duration": 0.019625,
     "end_time": "2024-10-07T16:25:22.051096",
     "exception": false,
     "start_time": "2024-10-07T16:25:22.031471",
     "status": "completed"
    },
    "tags": []
   },
   "source": [
    "# education"
   ]
  },
  {
   "cell_type": "code",
   "execution_count": 11,
   "id": "c0ac9df6",
   "metadata": {
    "execution": {
     "iopub.execute_input": "2024-10-07T16:25:22.092620Z",
     "iopub.status.busy": "2024-10-07T16:25:22.092207Z",
     "iopub.status.idle": "2024-10-07T16:25:22.319111Z",
     "shell.execute_reply": "2024-10-07T16:25:22.317804Z"
    },
    "papermill": {
     "duration": 0.250644,
     "end_time": "2024-10-07T16:25:22.321728",
     "exception": false,
     "start_time": "2024-10-07T16:25:22.071084",
     "status": "completed"
    },
    "tags": []
   },
   "outputs": [
    {
     "name": "stdout",
     "output_type": "stream",
     "text": [
      "education has no null values :  1467\n",
      "\n",
      "---------------------------------------------------------------------------\n",
      "\n",
      " Unique education :  ['secondary' 'tertiary' 'primary' nan]\n",
      "\n",
      "---------------------------------------------------------------------------\n",
      "\n",
      "education value counts:  education\n",
      "secondary    19584\n",
      "tertiary     11615\n",
      "primary       6545\n",
      "Name: count, dtype: int64\n",
      "\n",
      "---------------------------------------------------------------------------\n",
      "\n"
     ]
    },
    {
     "data": {
      "image/png": "[encoded data removed]",
      "text/plain": [
       "<Figure size 640x480 with 1 Axes>"
      ]
     },
     "metadata": {},
     "output_type": "display_data"
    }
   ],
   "source": [
    "print('education has no null values : ' , train['education'].isnull().sum())\n",
    "\n",
    "print('')\n",
    "print('---------------------------------------------------------------------------')\n",
    "print('')\n",
    "\n",
    "print(' Unique education : ' , train['education'].unique())\n",
    "\n",
    "print('')\n",
    "print('---------------------------------------------------------------------------')\n",
    "print('')\n",
    "\n",
    "print('education value counts: ' , train['education'].value_counts())\n",
    "\n",
    "print('')\n",
    "print('---------------------------------------------------------------------------')\n",
    "print('')\n",
    "\n",
    "train['education'].value_counts().plot(kind='bar')\n",
    "\n",
    "\n",
    "train['education']=train['education'].replace(np.nan , 'secondary')\n",
    "\n",
    "test['education']=test['education'].replace(np.nan , 'secondary')"
   ]
  },
  {
   "cell_type": "markdown",
   "id": "91c3717d",
   "metadata": {
    "papermill": {
     "duration": 0.019691,
     "end_time": "2024-10-07T16:25:22.361681",
     "exception": false,
     "start_time": "2024-10-07T16:25:22.341990",
     "status": "completed"
    },
    "tags": []
   },
   "source": [
    "# default\n"
   ]
  },
  {
   "cell_type": "code",
   "execution_count": 12,
   "id": "ea1a6494",
   "metadata": {
    "execution": {
     "iopub.execute_input": "2024-10-07T16:25:22.403806Z",
     "iopub.status.busy": "2024-10-07T16:25:22.403337Z",
     "iopub.status.idle": "2024-10-07T16:25:22.613203Z",
     "shell.execute_reply": "2024-10-07T16:25:22.611881Z"
    },
    "papermill": {
     "duration": 0.234143,
     "end_time": "2024-10-07T16:25:22.615860",
     "exception": false,
     "start_time": "2024-10-07T16:25:22.381717",
     "status": "completed"
    },
    "tags": []
   },
   "outputs": [
    {
     "name": "stdout",
     "output_type": "stream",
     "text": [
      "default has no null values :  0\n",
      "\n",
      "---------------------------------------------------------------------------\n",
      "\n",
      " Unique default :  ['no' 'yes']\n",
      "\n",
      "---------------------------------------------------------------------------\n",
      "\n",
      "default value counts:  default\n",
      "no     36954\n",
      "yes     2257\n",
      "Name: count, dtype: int64\n",
      "\n",
      "---------------------------------------------------------------------------\n",
      "\n"
     ]
    },
    {
     "data": {
      "image/png": "[encoded data removed]",
      "text/plain": [
       "<Figure size 640x480 with 1 Axes>"
      ]
     },
     "metadata": {},
     "output_type": "display_data"
    }
   ],
   "source": [
    "print('default has no null values : ' , train['default'].isnull().sum())\n",
    "\n",
    "print('')\n",
    "print('---------------------------------------------------------------------------')\n",
    "print('')\n",
    "\n",
    "print(' Unique default : ' , train['default'].unique())\n",
    "\n",
    "print('')\n",
    "print('---------------------------------------------------------------------------')\n",
    "print('')\n",
    "\n",
    "print('default value counts: ' , train['default'].value_counts())\n",
    "\n",
    "print('')\n",
    "print('---------------------------------------------------------------------------')\n",
    "print('')\n",
    "\n",
    "train['default'].value_counts().plot(kind='bar')\n",
    "plt.show()\n",
    "\n",
    "\n",
    "train['default'] = train['default'].map({'no': 0, 'yes': 1})\n",
    "\n",
    "\n",
    "test['default'] = test['default'].map({'no': 0, 'yes': 1})\n"
   ]
  },
  {
   "cell_type": "markdown",
   "id": "f9f48809",
   "metadata": {
    "papermill": {
     "duration": 0.020475,
     "end_time": "2024-10-07T16:25:22.657468",
     "exception": false,
     "start_time": "2024-10-07T16:25:22.636993",
     "status": "completed"
    },
    "tags": []
   },
   "source": [
    "# housing"
   ]
  },
  {
   "cell_type": "code",
   "execution_count": 13,
   "id": "9704bb2a",
   "metadata": {
    "execution": {
     "iopub.execute_input": "2024-10-07T16:25:22.700726Z",
     "iopub.status.busy": "2024-10-07T16:25:22.700294Z",
     "iopub.status.idle": "2024-10-07T16:25:22.890646Z",
     "shell.execute_reply": "2024-10-07T16:25:22.889691Z"
    },
    "papermill": {
     "duration": 0.215017,
     "end_time": "2024-10-07T16:25:22.893211",
     "exception": false,
     "start_time": "2024-10-07T16:25:22.678194",
     "status": "completed"
    },
    "tags": []
   },
   "outputs": [
    {
     "name": "stdout",
     "output_type": "stream",
     "text": [
      "housing has no null values :  0\n",
      "\n",
      "---------------------------------------------------------------------------\n",
      "\n",
      " Unique housing :  ['yes' 'no']\n",
      "\n",
      "---------------------------------------------------------------------------\n",
      "\n",
      "housing value counts:  housing\n",
      "yes    21657\n",
      "no     17554\n",
      "Name: count, dtype: int64\n",
      "\n",
      "---------------------------------------------------------------------------\n",
      "\n"
     ]
    },
    {
     "data": {
      "image/png": "[encoded data removed]",
      "text/plain": [
       "<Figure size 640x480 with 1 Axes>"
      ]
     },
     "metadata": {},
     "output_type": "display_data"
    }
   ],
   "source": [
    "print('housing has no null values : ' , train['housing'].isnull().sum())\n",
    "\n",
    "print('')\n",
    "print('---------------------------------------------------------------------------')\n",
    "print('')\n",
    "\n",
    "print(' Unique housing : ' , train['housing'].unique())\n",
    "\n",
    "print('')\n",
    "print('---------------------------------------------------------------------------')\n",
    "print('')\n",
    "\n",
    "print('housing value counts: ' , train['housing'].value_counts())\n",
    "\n",
    "print('')\n",
    "print('---------------------------------------------------------------------------')\n",
    "print('')\n",
    "\n",
    "train['housing'].value_counts().plot(kind='bar')\n",
    "plt.show()\n",
    "\n",
    "train['housing'] = train['housing'].map({'no': 0, 'yes': 1})\n",
    "\n",
    "\n",
    "\n",
    "test['housing'] = test['housing'].map({'no': 0, 'yes': 1})\n"
   ]
  },
  {
   "cell_type": "code",
   "execution_count": 14,
   "id": "110bdd25",
   "metadata": {
    "execution": {
     "iopub.execute_input": "2024-10-07T16:25:22.938176Z",
     "iopub.status.busy": "2024-10-07T16:25:22.936974Z",
     "iopub.status.idle": "2024-10-07T16:25:23.139024Z",
     "shell.execute_reply": "2024-10-07T16:25:23.137909Z"
    },
    "papermill": {
     "duration": 0.227093,
     "end_time": "2024-10-07T16:25:23.141706",
     "exception": false,
     "start_time": "2024-10-07T16:25:22.914613",
     "status": "completed"
    },
    "tags": []
   },
   "outputs": [
    {
     "name": "stdout",
     "output_type": "stream",
     "text": [
      "loan has no null values :  0\n",
      "\n",
      "---------------------------------------------------------------------------\n",
      "\n",
      " Unique loan :  ['no' 'yes']\n",
      "\n",
      "---------------------------------------------------------------------------\n",
      "\n",
      "loan value counts:  loan\n",
      "no     31820\n",
      "yes     7391\n",
      "Name: count, dtype: int64\n",
      "\n",
      "---------------------------------------------------------------------------\n",
      "\n"
     ]
    },
    {
     "data": {
      "image/png": "[encoded data removed]",
      "text/plain": [
       "<Figure size 640x480 with 1 Axes>"
      ]
     },
     "metadata": {},
     "output_type": "display_data"
    }
   ],
   "source": [
    "print('loan has no null values : ' , train['loan'].isnull().sum())\n",
    "\n",
    "print('')\n",
    "print('---------------------------------------------------------------------------')\n",
    "print('')\n",
    "\n",
    "print(' Unique loan : ' , train['loan'].unique())\n",
    "\n",
    "print('')\n",
    "print('---------------------------------------------------------------------------')\n",
    "print('')\n",
    "\n",
    "print('loan value counts: ' , train['loan'].value_counts())\n",
    "\n",
    "print('')\n",
    "print('---------------------------------------------------------------------------')\n",
    "print('')\n",
    "\n",
    "train['loan'].value_counts().plot(kind='bar')\n",
    "plt.show()\n",
    "\n",
    "\n",
    "\n",
    "\n",
    "train['loan'] = train['loan'].map({'no': 0, 'yes': 1})\n",
    "\n",
    "\n",
    "test['loan'] = test['loan'].map({'no': 0, 'yes': 1})\n",
    "\n"
   ]
  },
  {
   "cell_type": "code",
   "execution_count": 15,
   "id": "e04713bf",
   "metadata": {
    "execution": {
     "iopub.execute_input": "2024-10-07T16:25:23.187239Z",
     "iopub.status.busy": "2024-10-07T16:25:23.186790Z",
     "iopub.status.idle": "2024-10-07T16:25:23.403126Z",
     "shell.execute_reply": "2024-10-07T16:25:23.401586Z"
    },
    "papermill": {
     "duration": 0.242263,
     "end_time": "2024-10-07T16:25:23.405949",
     "exception": false,
     "start_time": "2024-10-07T16:25:23.163686",
     "status": "completed"
    },
    "tags": []
   },
   "outputs": [
    {
     "name": "stdout",
     "output_type": "stream",
     "text": [
      "contact has null values :  10336\n",
      "\n",
      "---------------------------------------------------------------------------\n",
      "\n",
      " Unique contact :  ['cellular' 'telephone' nan]\n",
      "\n",
      "---------------------------------------------------------------------------\n",
      "\n",
      "contact value counts:  contact\n",
      "cellular     25030\n",
      "telephone     3845\n",
      "Name: count, dtype: int64\n",
      "\n",
      "---------------------------------------------------------------------------\n",
      "\n"
     ]
    },
    {
     "data": {
      "image/png": "[encoded data removed]",
      "text/plain": [
       "<Figure size 640x480 with 1 Axes>"
      ]
     },
     "metadata": {},
     "output_type": "display_data"
    }
   ],
   "source": [
    "print('contact has null values : ' , train['contact'].isnull().sum())\n",
    "\n",
    "print('')\n",
    "print('---------------------------------------------------------------------------')\n",
    "print('')\n",
    "\n",
    "print(' Unique contact : ' , train['contact'].unique())\n",
    "\n",
    "print('')\n",
    "print('---------------------------------------------------------------------------')\n",
    "print('')\n",
    "\n",
    "print('contact value counts: ' , train['contact'].value_counts())\n",
    "\n",
    "print('')\n",
    "print('---------------------------------------------------------------------------')\n",
    "print('')\n",
    "\n",
    "train['contact'].value_counts().plot(kind='bar')\n",
    "plt.show()\n",
    "\n",
    "\n",
    "train['contact']=train['contact'].replace(np.nan , 'cellular')\n",
    "\n",
    "train['contact'] = train['contact'].map({'cellular': 1, 'telephone': 0})\n",
    "\n",
    "\n",
    "\n",
    "test['contact']=test['contact'].replace(np.nan , 'cellular')\n",
    "test['contact'] = test['contact'].map({'cellular': 1, 'telephone': 0})\n",
    "\n"
   ]
  },
  {
   "cell_type": "code",
   "execution_count": 16,
   "id": "a216eec1",
   "metadata": {
    "execution": {
     "iopub.execute_input": "2024-10-07T16:25:23.452580Z",
     "iopub.status.busy": "2024-10-07T16:25:23.452133Z",
     "iopub.status.idle": "2024-10-07T16:25:23.874454Z",
     "shell.execute_reply": "2024-10-07T16:25:23.872951Z"
    },
    "papermill": {
     "duration": 0.449027,
     "end_time": "2024-10-07T16:25:23.877106",
     "exception": false,
     "start_time": "2024-10-07T16:25:23.428079",
     "status": "completed"
    },
    "tags": []
   },
   "outputs": [
    {
     "name": "stdout",
     "output_type": "stream",
     "text": [
      "poutcome has  null values :  29451\n",
      "\n",
      "---------------------------------------------------------------------------\n",
      "\n",
      " Unique poutcome :  ['other' nan 'failure' 'success']\n",
      "\n",
      "---------------------------------------------------------------------------\n",
      "\n",
      "poutcome value counts:  poutcome\n",
      "failure    4949\n",
      "other      2560\n",
      "success    2251\n",
      "Name: count, dtype: int64\n",
      "\n",
      "---------------------------------------------------------------------------\n",
      "\n"
     ]
    },
    {
     "data": {
      "image/png": "[encoded data removed]",
      "text/plain": [
       "<Figure size 640x480 with 1 Axes>"
      ]
     },
     "metadata": {},
     "output_type": "display_data"
    },
    {
     "data": {
      "image/png": "[encoded data removed]",
      "text/plain": [
       "<Figure size 640x480 with 1 Axes>"
      ]
     },
     "metadata": {},
     "output_type": "display_data"
    }
   ],
   "source": [
    "print('poutcome has  null values : ' , train['poutcome'].isnull().sum())\n",
    "\n",
    "print('')\n",
    "print('---------------------------------------------------------------------------')\n",
    "print('')\n",
    "\n",
    "print(' Unique poutcome : ' , train['poutcome'].unique())\n",
    "\n",
    "print('')\n",
    "print('---------------------------------------------------------------------------')\n",
    "print('')\n",
    "\n",
    "print('poutcome value counts: ' , train['poutcome'].value_counts())\n",
    "\n",
    "print('')\n",
    "print('---------------------------------------------------------------------------')\n",
    "print('')\n",
    "\n",
    "\n",
    "train['poutcome'].value_counts().plot(kind='bar')\n",
    "plt.show()\n",
    "\n",
    "\n",
    "\n",
    "train['poutcome'] = train['poutcome'].replace(np.nan, 'failure')\n",
    "\n",
    "\n",
    "train['poutcome'].value_counts().plot(kind='bar')\n",
    "plt.show()\n",
    "\n",
    "\n",
    "\n",
    "test['poutcome'] = test['poutcome'].replace(np.nan, 'failure')\n"
   ]
  },
  {
   "cell_type": "code",
   "execution_count": 17,
   "id": "1f0b7b26",
   "metadata": {
    "execution": {
     "iopub.execute_input": "2024-10-07T16:25:23.934890Z",
     "iopub.status.busy": "2024-10-07T16:25:23.933972Z",
     "iopub.status.idle": "2024-10-07T16:25:23.961349Z",
     "shell.execute_reply": "2024-10-07T16:25:23.960016Z"
    },
    "papermill": {
     "duration": 0.061039,
     "end_time": "2024-10-07T16:25:23.963989",
     "exception": false,
     "start_time": "2024-10-07T16:25:23.902950",
     "status": "completed"
    },
    "tags": []
   },
   "outputs": [
    {
     "name": "stdout",
     "output_type": "stream",
     "text": [
      "<class 'pandas.core.frame.DataFrame'>\n",
      "RangeIndex: 39211 entries, 0 to 39210\n",
      "Data columns (total 19 columns):\n",
      " #   Column             Non-Null Count  Dtype         \n",
      "---  ------             --------------  -----         \n",
      " 0   last contact date  39211 non-null  datetime64[ns]\n",
      " 1   age                39211 non-null  int64         \n",
      " 2   job                39211 non-null  object        \n",
      " 3   marital            39211 non-null  object        \n",
      " 4   education          39211 non-null  object        \n",
      " 5   default            39211 non-null  int64         \n",
      " 6   balance            39211 non-null  int64         \n",
      " 7   housing            39211 non-null  int64         \n",
      " 8   loan               39211 non-null  int64         \n",
      " 9   contact            39211 non-null  int64         \n",
      " 10  duration           39211 non-null  int64         \n",
      " 11  campaign           39211 non-null  int64         \n",
      " 12  pdays              39211 non-null  int64         \n",
      " 13  previous           39211 non-null  int64         \n",
      " 14  poutcome           39211 non-null  object        \n",
      " 15  target             39211 non-null  object        \n",
      " 16  day                39211 non-null  int32         \n",
      " 17  month              39211 non-null  int32         \n",
      " 18  isSunday           39211 non-null  int64         \n",
      "dtypes: datetime64[ns](1), int32(2), int64(11), object(5)\n",
      "memory usage: 5.4+ MB\n"
     ]
    }
   ],
   "source": [
    "train.info()"
   ]
  },
  {
   "cell_type": "markdown",
   "id": "3bdfa339",
   "metadata": {
    "papermill": {
     "duration": 0.02448,
     "end_time": "2024-10-07T16:25:24.012393",
     "exception": false,
     "start_time": "2024-10-07T16:25:23.987913",
     "status": "completed"
    },
    "tags": []
   },
   "source": [
    "# Numerical Columns\n",
    "# Age , Balance , campaign , pdays , previous"
   ]
  },
  {
   "cell_type": "code",
   "execution_count": 18,
   "id": "74a79c3e",
   "metadata": {
    "execution": {
     "iopub.execute_input": "2024-10-07T16:25:24.059955Z",
     "iopub.status.busy": "2024-10-07T16:25:24.059180Z",
     "iopub.status.idle": "2024-10-07T16:25:24.324968Z",
     "shell.execute_reply": "2024-10-07T16:25:24.323694Z"
    },
    "papermill": {
     "duration": 0.292555,
     "end_time": "2024-10-07T16:25:24.327735",
     "exception": false,
     "start_time": "2024-10-07T16:25:24.035180",
     "status": "completed"
    },
    "tags": []
   },
   "outputs": [
    {
     "name": "stdout",
     "output_type": "stream",
     "text": [
      "Age has no null values :  0\n",
      "\n",
      "---------------------------------------------------------------------------\n",
      "\n",
      "no. of age less than zero is  0\n",
      "\n",
      "---------------------------------------------------------------------------\n",
      "\n",
      " Unique Ages :  [26 52 44 33 31 25 46 37 38 32 28 34 86 42 58 39 35 47 45 48 30 50 56 54\n",
      " 40 53 41 51 27 29 57 63 36 43 19 55 49 23 83 60 22 80 76 59 24 93 71 89\n",
      " 64 68 85 79 62 69 20 90 66 87 72 88 67 70 77 91 78 61 65 73 74 84 82 92\n",
      " 81 18 21 75 94 95]\n",
      "\n",
      "---------------------------------------------------------------------------\n",
      "\n",
      "Age value counts:  age\n",
      "32    1688\n",
      "31    1629\n",
      "33    1599\n",
      "35    1571\n",
      "34    1566\n",
      "      ... \n",
      "18      44\n",
      "92      41\n",
      "87      40\n",
      "85      39\n",
      "95       2\n",
      "Name: count, Length: 78, dtype: int64\n",
      "\n",
      "---------------------------------------------------------------------------\n",
      "\n"
     ]
    },
    {
     "data": {
      "image/png": "[encoded data removed]",
      "text/plain": [
       "<Figure size 640x480 with 1 Axes>"
      ]
     },
     "metadata": {},
     "output_type": "display_data"
    }
   ],
   "source": [
    "print('Age has no null values : ' , train['age'].isnull().sum())\n",
    "\n",
    "print('')\n",
    "print('---------------------------------------------------------------------------')\n",
    "print('')\n",
    "\n",
    "print('no. of age less than zero is ', train[train['age']<0]['age'].count())\n",
    "\n",
    "\n",
    "print('')\n",
    "print('---------------------------------------------------------------------------')\n",
    "print('')\n",
    "\n",
    "print(' Unique Ages : ' , train['age'].unique())\n",
    "\n",
    "print('')\n",
    "print('---------------------------------------------------------------------------')\n",
    "print('')\n",
    "\n",
    "print('Age value counts: ' , train['age'].value_counts())\n",
    "\n",
    "print('')\n",
    "print('---------------------------------------------------------------------------')\n",
    "print('')\n",
    "\n",
    "train['age'].value_counts().plot(kind='hist')\n",
    "plt.show()\n",
    "\n",
    "\n"
   ]
  },
  {
   "cell_type": "markdown",
   "id": "e94064d5",
   "metadata": {
    "papermill": {
     "duration": 0.022724,
     "end_time": "2024-10-07T16:25:24.375438",
     "exception": false,
     "start_time": "2024-10-07T16:25:24.352714",
     "status": "completed"
    },
    "tags": []
   },
   "source": [
    "# Feature Engineering Age Category"
   ]
  },
  {
   "cell_type": "code",
   "execution_count": 19,
   "id": "2a4b19cf",
   "metadata": {
    "execution": {
     "iopub.execute_input": "2024-10-07T16:25:24.423675Z",
     "iopub.status.busy": "2024-10-07T16:25:24.422968Z",
     "iopub.status.idle": "2024-10-07T16:25:24.446979Z",
     "shell.execute_reply": "2024-10-07T16:25:24.445901Z"
    },
    "papermill": {
     "duration": 0.050868,
     "end_time": "2024-10-07T16:25:24.449331",
     "exception": false,
     "start_time": "2024-10-07T16:25:24.398463",
     "status": "completed"
    },
    "tags": []
   },
   "outputs": [],
   "source": [
    "def age_category(x):\n",
    "    if x<=39:\n",
    "        return 'young'\n",
    "    if 40<=x<=59:\n",
    "        return 'middle'\n",
    "    return 'old'\n",
    "\n",
    "\n",
    "train['Age_Category'] = train['age'].apply(age_category)\n",
    "\n",
    "test['Age_Category'] = test['age'].apply(age_category)\n",
    "\n"
   ]
  },
  {
   "cell_type": "code",
   "execution_count": 20,
   "id": "b06e0ae7",
   "metadata": {
    "execution": {
     "iopub.execute_input": "2024-10-07T16:25:24.497961Z",
     "iopub.status.busy": "2024-10-07T16:25:24.497022Z",
     "iopub.status.idle": "2024-10-07T16:25:24.770623Z",
     "shell.execute_reply": "2024-10-07T16:25:24.769422Z"
    },
    "papermill": {
     "duration": 0.300733,
     "end_time": "2024-10-07T16:25:24.773208",
     "exception": false,
     "start_time": "2024-10-07T16:25:24.472475",
     "status": "completed"
    },
    "tags": []
   },
   "outputs": [
    {
     "name": "stdout",
     "output_type": "stream",
     "text": [
      "campaign has no null values :  0\n",
      "\n",
      "---------------------------------------------------------------------------\n",
      "\n",
      "camaign less than zero is  0\n",
      "\n",
      "---------------------------------------------------------------------------\n",
      "\n",
      " Unique campaign  :  [ 2  1  3  4  6 45  5 44 12 61 58  7  8 20 43 17 13 15 48 34 11 54 22 26\n",
      " 29 21 10 49  9 52 53 57 16 50 46 47 23 37 18 38 32 36 39 56 14 30 41 63\n",
      " 51 28 25 62 55 42 35 31 59 19 40 33 24 27 60]\n",
      "\n",
      "---------------------------------------------------------------------------\n",
      "\n",
      "campaign value counts:  campaign\n",
      "1     14013\n",
      "2     10016\n",
      "3      4470\n",
      "4      2861\n",
      "5      1469\n",
      "      ...  \n",
      "48       44\n",
      "30       43\n",
      "40       43\n",
      "60       43\n",
      "53       38\n",
      "Name: count, Length: 63, dtype: int64\n",
      "\n",
      "---------------------------------------------------------------------------\n",
      "\n"
     ]
    },
    {
     "data": {
      "text/plain": [
       "<Axes: ylabel='Frequency'>"
      ]
     },
     "execution_count": 20,
     "metadata": {},
     "output_type": "execute_result"
    },
    {
     "data": {
      "image/png": "[encoded data removed]",
      "text/plain": [
       "<Figure size 640x480 with 1 Axes>"
      ]
     },
     "metadata": {},
     "output_type": "display_data"
    }
   ],
   "source": [
    "print('campaign has no null values : ' , train['campaign'].isnull().sum())\n",
    "\n",
    "print('')\n",
    "print('---------------------------------------------------------------------------')\n",
    "print('')\n",
    "\n",
    "\n",
    "print('camaign less than zero is ', train[train['campaign']<0]['campaign'].count())\n",
    "\n",
    "\n",
    "print('')\n",
    "print('---------------------------------------------------------------------------')\n",
    "print('')\n",
    "print(' Unique campaign  : ' , train['campaign'].unique())\n",
    "\n",
    "print('')\n",
    "print('---------------------------------------------------------------------------')\n",
    "print('')\n",
    "\n",
    "print('campaign value counts: ' , train['campaign'].value_counts())\n",
    "\n",
    "print('')\n",
    "print('---------------------------------------------------------------------------')\n",
    "print('')\n",
    "\n",
    "train['campaign'].value_counts().plot(kind='hist')\n",
    "\n"
   ]
  },
  {
   "cell_type": "code",
   "execution_count": 21,
   "id": "a043f34d",
   "metadata": {
    "execution": {
     "iopub.execute_input": "2024-10-07T16:25:24.823236Z",
     "iopub.status.busy": "2024-10-07T16:25:24.822768Z",
     "iopub.status.idle": "2024-10-07T16:25:25.081504Z",
     "shell.execute_reply": "2024-10-07T16:25:25.080052Z"
    },
    "papermill": {
     "duration": 0.286956,
     "end_time": "2024-10-07T16:25:25.084169",
     "exception": false,
     "start_time": "2024-10-07T16:25:24.797213",
     "status": "completed"
    },
    "tags": []
   },
   "outputs": [
    {
     "name": "stdout",
     "output_type": "stream",
     "text": [
      "balance has no null values :  0\n",
      "\n",
      "---------------------------------------------------------------------------\n",
      "\n",
      "checking if balance is negetive and how many rows have balance less than zero: 2971\n",
      "\n",
      "---------------------------------------------------------------------------\n",
      "\n",
      " Unique balance values :  [  647   553  1397 ...  4307  6187 38594]\n",
      "\n",
      "---------------------------------------------------------------------------\n",
      "\n",
      "balance value counts:  balance\n",
      "0        2799\n",
      "1         149\n",
      "2         122\n",
      "4         115\n",
      "3         104\n",
      "         ... \n",
      "95094       1\n",
      "81074       1\n",
      "31565       1\n",
      "5278        1\n",
      "38594       1\n",
      "Name: count, Length: 9535, dtype: int64\n",
      "\n",
      "---------------------------------------------------------------------------\n",
      "\n"
     ]
    },
    {
     "data": {
      "text/plain": [
       "<Axes: ylabel='Frequency'>"
      ]
     },
     "execution_count": 21,
     "metadata": {},
     "output_type": "execute_result"
    },
    {
     "data": {
      "image/png": "[encoded data removed]",
      "text/plain": [
       "<Figure size 640x480 with 1 Axes>"
      ]
     },
     "metadata": {},
     "output_type": "display_data"
    }
   ],
   "source": [
    "print('balance has no null values : ' , train['balance'].isnull().sum())\n",
    "\n",
    "print('')\n",
    "print('---------------------------------------------------------------------------')\n",
    "print('')\n",
    "\n",
    "print('checking if balance is negetive and how many rows have balance less than zero:'  , train[train['balance']<0]['balance'].count())\n",
    "\n",
    "print('')\n",
    "print('---------------------------------------------------------------------------')\n",
    "print('')\n",
    "\n",
    "print(' Unique balance values : ' , train['balance'].unique())\n",
    "\n",
    "print('')\n",
    "print('---------------------------------------------------------------------------')\n",
    "print('')\n",
    "\n",
    "print('balance value counts: ' , train['balance'].value_counts())\n",
    "\n",
    "print('')\n",
    "print('---------------------------------------------------------------------------')\n",
    "print('')\n",
    "\n",
    "train['balance'].value_counts().plot(kind='hist')\n",
    "\n",
    "\n",
    "\n",
    "\n",
    "\n"
   ]
  },
  {
   "cell_type": "code",
   "execution_count": 22,
   "id": "32f14147",
   "metadata": {
    "execution": {
     "iopub.execute_input": "2024-10-07T16:25:25.134859Z",
     "iopub.status.busy": "2024-10-07T16:25:25.134384Z",
     "iopub.status.idle": "2024-10-07T16:25:25.387418Z",
     "shell.execute_reply": "2024-10-07T16:25:25.386281Z"
    },
    "papermill": {
     "duration": 0.281106,
     "end_time": "2024-10-07T16:25:25.389802",
     "exception": false,
     "start_time": "2024-10-07T16:25:25.108696",
     "status": "completed"
    },
    "tags": []
   },
   "outputs": [
    {
     "name": "stdout",
     "output_type": "stream",
     "text": [
      "pdays has no null values :  0\n",
      "\n",
      "---------------------------------------------------------------------------\n",
      "\n",
      " Unique pdays values :  [331  -1 852 661 152 599 365 367 238 129 287 174 120 368 371 187 610 364\n",
      " 633  80 125 356 248 186 278 154  90  98 574 352 561 260 801  78 596 343\n",
      " 671 175 159  12 111  31 342 357  74 100 289  84 109 245 369  83 536 216\n",
      "  89  97 252 143 378 336 172 160 191  91 848 258 317  94 196 362 188 272\n",
      " 138 298 116 101 591 360 234 505 631  82   8 300 472 173 530 103 236 316\n",
      " 370 611 271 305  79 474 405 293 442 178 232 299 213 184 237  93  37 255\n",
      " 353 259 181 315 147 349 335 165 295 203 290   6 767 302 169 320 148  19\n",
      " 435 328 645 526 150 318 347  29  96 254  35 136 350 759 358 670 348 224\n",
      " 114 102 407 326 330 665 760 445 373 265 190 285 246 644 337 161 264 562\n",
      " 189 363 630 652  44 478 322 176 783 597 344 339 110 334 167 204 166 816\n",
      " 484 177 775 366  32 480 200 408 421 247 291 261 579 244 730 324 434 525\n",
      " 156 153 157  95 439 286 163 197 182 309 257 283 461 824  92 704 195 170\n",
      " 655 121  68 332 651 504 403 263 183 440 431 185 202 105 477 746 310 622\n",
      " 149 698 427 847 115 620 219 846 301  40 649 481 438 215  61 531  59 643\n",
      " 303 117  64 168 158 338 515 516  75 779 606 355 400 743 134  53 706 321\n",
      " 274 578 345 270 141   1 251 575 705  81 340 192 266 262 560 276 208 243\n",
      " 428 375  11 180 314  99 228 774  76 518 695 209 193 206 282 861 304 828\n",
      "  55 284  87 210 551 135 312 587 468 557  50 406 113 329 556 764 179 239\n",
      " 145 249 323  41 201  33 844 221 256 212 281 450  86 580 422 385 233 514\n",
      "  28 268  30 795 205  57 361 860   2 327 346 132 473  63 396 657  88 647\n",
      " 854  73 107 126 171 581 198  24 402 325 433 269  85 646  69 605 733 488\n",
      " 462 805 217 745 292 151 426 127 131 351 359 240 769 789 388 503 306 313\n",
      " 863 866 479 547 390   5 528 341 640 648 859 625 725 567 387 669 374 225\n",
      " 380 496 155 506 642 722 802  56 118 553 456 333 559 714 409 791 267 806\n",
      " 451 415 685 558 773 383 833 467 311 534   3 459 241 819 798  52 139 104\n",
      " 511 455 307 624 601 494 308 458 112 842 522 555 394 275 498 768 273 694\n",
      " 499 381 294 708 457 146 550 845 425 297   7 871 615 752 737 543 668  60\n",
      " 864 124 796 829 250 280  77 674 130 412 600 483 538 588 548 475  70 372\n",
      " 164 418 223 712 391 279 133 751 227 464 734 106 740 857 629 436 443 253\n",
      " 812 853 123 577 437 778 613 386  38 399 711 376 869 827 721  43 469 776\n",
      " 199 398 862 735 229 680 761 780 663 686  62 870 230  14 119  42  27  17\n",
      " 697 781 545 521 517 675 242 485 211 618 509 128 667  21 404 108 736 603\n",
      " 718 218 586 831 684 658 834 826 617 144  46 463 454 786  67  10 430 493\n",
      " 810 710 701 784 354 799 584 688  47 868 637 593 662 492 448 681 207 726\n",
      " 757 825 510 739 750 277 855 654 813 673 384 460 222 410 838 628 296 621\n",
      " 677 732   9 319 194 417 140 632 691 659 589 741 288 814 822  71 397 382\n",
      " 490 554 758 392 569  22 466 542 235 541 487 565 619 544 413 650 389 476\n",
      " 508 728 529 793 500 537 429 636 449 772 137 762 491 566 770 850  45 856\n",
      " 497 664 424 785 609 830 702  39 744 626 612 563 512 634 122 447 231 717\n",
      " 414 627 713 486 818 672 432 709 419 598  25 787 719 614  13 582 656 471\n",
      " 576 696 687 162 749 777 756 489 523 811 214 377 837  18 226 804 573 416\n",
      " 446 797  36 520   4  66 465 792 379 639 602 754 546 401 766 635  49 840\n",
      " 572 858  58 821 782 771 604 731  54 608 807  23 699 851 585 693 729 616\n",
      " 660 820 808 841  65 765 411 607 571 763 727  72 470 803 653  16 142 539\n",
      " 513 843  15 742 564 552 592 638 507 676 839 549 689 590  26 809 753 723\n",
      " 815 788 747 420 790 524 720 683 690 519 716 835 568 623 570 444 678  48\n",
      " 482 535 595 836 594 707 817 502 441  34 800 533 395  20 453 832 540 849\n",
      " 666 495 679 865 501 393 794  51 700 703 532 715 867 692 452 823 220   0\n",
      " 724]\n",
      "\n",
      "---------------------------------------------------------------------------\n",
      "\n",
      "pdays value counts:  pdays\n",
      "-1      29446\n",
      " 182      135\n",
      " 92       117\n",
      " 91       106\n",
      " 183      100\n",
      "        ...  \n",
      " 836        1\n",
      " 594        1\n",
      " 659        1\n",
      " 817        1\n",
      " 724        1\n",
      "Name: count, Length: 865, dtype: int64\n",
      "\n",
      "---------------------------------------------------------------------------\n",
      "\n"
     ]
    },
    {
     "data": {
      "image/png": "[encoded data removed]",
      "text/plain": [
       "<Figure size 640x480 with 1 Axes>"
      ]
     },
     "metadata": {},
     "output_type": "display_data"
    }
   ],
   "source": [
    "print('pdays has no null values : ' , train['pdays'].isnull().sum())\n",
    "\n",
    "print('')\n",
    "print('---------------------------------------------------------------------------')\n",
    "print('')\n",
    "\n",
    "print(' Unique pdays values : ' , train['pdays'].unique())\n",
    "\n",
    "print('')\n",
    "print('---------------------------------------------------------------------------')\n",
    "print('')\n",
    "\n",
    "print('pdays value counts: ' , train['pdays'].value_counts())\n",
    "\n",
    "print('')\n",
    "print('---------------------------------------------------------------------------')\n",
    "print('')\n",
    "\n",
    "train['pdays'].value_counts().plot(kind='hist')\n",
    "\n",
    "\n",
    "\n",
    "train['previously_contacted'] = train['pdays'].apply(lambda x: 1 if x != -1 else 0)\n",
    "\n",
    "test['previously_contacted'] = test['pdays'].apply(lambda x: 1 if x != -1 else 0)\n"
   ]
  },
  {
   "cell_type": "code",
   "execution_count": 23,
   "id": "994cc2de",
   "metadata": {
    "execution": {
     "iopub.execute_input": "2024-10-07T16:25:25.441181Z",
     "iopub.status.busy": "2024-10-07T16:25:25.440710Z",
     "iopub.status.idle": "2024-10-07T16:25:25.707854Z",
     "shell.execute_reply": "2024-10-07T16:25:25.706598Z"
    },
    "papermill": {
     "duration": 0.29579,
     "end_time": "2024-10-07T16:25:25.710331",
     "exception": false,
     "start_time": "2024-10-07T16:25:25.414541",
     "status": "completed"
    },
    "tags": []
   },
   "outputs": [
    {
     "name": "stdout",
     "output_type": "stream",
     "text": [
      "previous has no null values :  0\n",
      "\n",
      "---------------------------------------------------------------------------\n",
      "\n",
      "checking if previous is negetive and how many rows have previous less than zero: 0\n",
      "\n",
      "---------------------------------------------------------------------------\n",
      "\n",
      " Unique previous  :  [  1   0   4 143 234   3  18   2 225 219   6  12  16 248 217 116   8 119\n",
      "  37  69 113  14 265 175 103  28  86   5 196 156 207 218 148 213  87 241\n",
      "  60 235 172 255 266  17 135  99  20   9 270 229 188 105 141 153 131 182\n",
      " 223 177  70  75   7  91 236  85 100 160  30  63 178 150  72 233  40 145\n",
      " 272  24 249  97 193 140 222 128  90  10 155 122 134 252 117 173 203 226\n",
      "  23 194 208  77 274  38 273 244  15 176  96  31 133 259 191 101 197 192\n",
      " 152 216 204 206  71 180 250 268 144  81 110 136  43  19  74 187 205  66\n",
      " 269  36 166  29  53 200 261  13  61 186  62 104 138 123  78 189 147 185\n",
      " 179 129 190 111 139 211 245  22  51 171  26 254  84 174  46  48  58  68\n",
      " 228  11  80  55 107 232 202 132 264  56 260 181  32 163  94  83  54 240\n",
      " 154 198  49 221 242  35 120 125 243 256 146  67 124 108 169  82  39 258\n",
      " 112 237 114  59  42 165 199 184  92 168  21  88  33 159 183 109  65 164\n",
      " 215  93 246 102  95 201 162 195  41  64 157 257 263 267 126  47 212 149\n",
      "  52  73 239  25 118 161  27  76 121 170 230 262  89 137 220 209  57 251\n",
      " 247 115  34 238 271 167  98  50 142  45 227 275 106  79 210 214  44 253\n",
      " 224 151 231 130 158 127]\n",
      "\n",
      "---------------------------------------------------------------------------\n",
      "\n",
      "previous value counts:  previous\n",
      "0      29456\n",
      "1       2226\n",
      "2       1708\n",
      "3        907\n",
      "4        590\n",
      "       ...  \n",
      "163        5\n",
      "76         5\n",
      "180        5\n",
      "137        5\n",
      "231        4\n",
      "Name: count, Length: 276, dtype: int64\n",
      "\n",
      "---------------------------------------------------------------------------\n",
      "\n"
     ]
    },
    {
     "data": {
      "text/plain": [
       "<Axes: ylabel='Frequency'>"
      ]
     },
     "execution_count": 23,
     "metadata": {},
     "output_type": "execute_result"
    },
    {
     "data": {
      "image/png": "[encoded data removed]",
      "text/plain": [
       "<Figure size 640x480 with 1 Axes>"
      ]
     },
     "metadata": {},
     "output_type": "display_data"
    }
   ],
   "source": [
    "print('previous has no null values : ' , train['previous'].isnull().sum())\n",
    "\n",
    "print('')\n",
    "print('---------------------------------------------------------------------------')\n",
    "print('')\n",
    "\n",
    "\n",
    "print('checking if previous is negetive and how many rows have previous less than zero:'  , train[train['previous']<0]['previous'].count())\n",
    "\n",
    "\n",
    "print('')\n",
    "print('---------------------------------------------------------------------------')\n",
    "print('')\n",
    "\n",
    "\n",
    "print(' Unique previous  : ' , train['previous'].unique())\n",
    "\n",
    "print('')\n",
    "print('---------------------------------------------------------------------------')\n",
    "print('')\n",
    "\n",
    "print('previous value counts: ' , train['previous'].value_counts())\n",
    "\n",
    "print('')\n",
    "print('---------------------------------------------------------------------------')\n",
    "print('')\n",
    "\n",
    "train['previous'].value_counts().plot(kind='hist')\n"
   ]
  },
  {
   "cell_type": "code",
   "execution_count": 24,
   "id": "b89ac467",
   "metadata": {
    "execution": {
     "iopub.execute_input": "2024-10-07T16:25:25.810312Z",
     "iopub.status.busy": "2024-10-07T16:25:25.809859Z",
     "iopub.status.idle": "2024-10-07T16:25:25.919659Z",
     "shell.execute_reply": "2024-10-07T16:25:25.918386Z"
    },
    "papermill": {
     "duration": 0.138858,
     "end_time": "2024-10-07T16:25:25.922012",
     "exception": false,
     "start_time": "2024-10-07T16:25:25.783154",
     "status": "completed"
    },
    "tags": []
   },
   "outputs": [
    {
     "name": "stdout",
     "output_type": "stream",
     "text": [
      "Shape: (39211, 21)\n",
      "\n",
      "---------------------------------------------------------------------------\n",
      "\n",
      "<class 'pandas.core.frame.DataFrame'>\n",
      "RangeIndex: 39211 entries, 0 to 39210\n",
      "Data columns (total 21 columns):\n",
      " #   Column                Non-Null Count  Dtype         \n",
      "---  ------                --------------  -----         \n",
      " 0   last contact date     39211 non-null  datetime64[ns]\n",
      " 1   age                   39211 non-null  int64         \n",
      " 2   job                   39211 non-null  object        \n",
      " 3   marital               39211 non-null  object        \n",
      " 4   education             39211 non-null  object        \n",
      " 5   default               39211 non-null  int64         \n",
      " 6   balance               39211 non-null  int64         \n",
      " 7   housing               39211 non-null  int64         \n",
      " 8   loan                  39211 non-null  int64         \n",
      " 9   contact               39211 non-null  int64         \n",
      " 10  duration              39211 non-null  int64         \n",
      " 11  campaign              39211 non-null  int64         \n",
      " 12  pdays                 39211 non-null  int64         \n",
      " 13  previous              39211 non-null  int64         \n",
      " 14  poutcome              39211 non-null  object        \n",
      " 15  target                39211 non-null  object        \n",
      " 16  day                   39211 non-null  int32         \n",
      " 17  month                 39211 non-null  int32         \n",
      " 18  isSunday              39211 non-null  int64         \n",
      " 19  Age_Category          39211 non-null  object        \n",
      " 20  previously_contacted  39211 non-null  int64         \n",
      "dtypes: datetime64[ns](1), int32(2), int64(12), object(6)\n",
      "memory usage: 6.0+ MB\n",
      "None\n",
      "\n",
      "---------------------------------------------------------------------------\n",
      "\n"
     ]
    },
    {
     "data": {
      "text/html": [
       "<div>\n",
       "<style scoped>\n",
       "    .dataframe tbody tr th:only-of-type {\n",
       "        vertical-align: middle;\n",
       "    }\n",
       "\n",
       "    .dataframe tbody tr th {\n",
       "        vertical-align: top;\n",
       "    }\n",
       "\n",
       "    .dataframe thead th {\n",
       "        text-align: right;\n",
       "    }\n",
       "</style>\n",
       "<table border=\"1\" class=\"dataframe\">\n",
       "  <thead>\n",
       "    <tr style=\"text-align: right;\">\n",
       "      <th></th>\n",
       "      <th>last contact date</th>\n",
       "      <th>age</th>\n",
       "      <th>default</th>\n",
       "      <th>balance</th>\n",
       "      <th>housing</th>\n",
       "      <th>loan</th>\n",
       "      <th>contact</th>\n",
       "      <th>duration</th>\n",
       "      <th>campaign</th>\n",
       "      <th>pdays</th>\n",
       "      <th>previous</th>\n",
       "      <th>day</th>\n",
       "      <th>month</th>\n",
       "      <th>isSunday</th>\n",
       "      <th>previously_contacted</th>\n",
       "    </tr>\n",
       "  </thead>\n",
       "  <tbody>\n",
       "    <tr>\n",
       "      <th>count</th>\n",
       "      <td>39211</td>\n",
       "      <td>39211.000000</td>\n",
       "      <td>39211.000000</td>\n",
       "      <td>39211.000000</td>\n",
       "      <td>39211.000000</td>\n",
       "      <td>39211.000000</td>\n",
       "      <td>39211.000000</td>\n",
       "      <td>39211.000000</td>\n",
       "      <td>39211.000000</td>\n",
       "      <td>39211.000000</td>\n",
       "      <td>39211.000000</td>\n",
       "      <td>39211.000000</td>\n",
       "      <td>39211.000000</td>\n",
       "      <td>39211.000000</td>\n",
       "      <td>39211.000000</td>\n",
       "    </tr>\n",
       "    <tr>\n",
       "      <th>mean</th>\n",
       "      <td>2009-06-22 21:10:55.254902784</td>\n",
       "      <td>42.120247</td>\n",
       "      <td>0.057560</td>\n",
       "      <td>5441.781719</td>\n",
       "      <td>0.552320</td>\n",
       "      <td>0.188493</td>\n",
       "      <td>0.901941</td>\n",
       "      <td>439.062789</td>\n",
       "      <td>5.108770</td>\n",
       "      <td>72.256051</td>\n",
       "      <td>11.826171</td>\n",
       "      <td>2.822575</td>\n",
       "      <td>6.223993</td>\n",
       "      <td>0.157711</td>\n",
       "      <td>0.249037</td>\n",
       "    </tr>\n",
       "    <tr>\n",
       "      <th>min</th>\n",
       "      <td>2008-01-01 00:00:00</td>\n",
       "      <td>18.000000</td>\n",
       "      <td>0.000000</td>\n",
       "      <td>-8019.000000</td>\n",
       "      <td>0.000000</td>\n",
       "      <td>0.000000</td>\n",
       "      <td>0.000000</td>\n",
       "      <td>0.000000</td>\n",
       "      <td>1.000000</td>\n",
       "      <td>-1.000000</td>\n",
       "      <td>0.000000</td>\n",
       "      <td>0.000000</td>\n",
       "      <td>1.000000</td>\n",
       "      <td>0.000000</td>\n",
       "      <td>0.000000</td>\n",
       "    </tr>\n",
       "    <tr>\n",
       "      <th>25%</th>\n",
       "      <td>2008-08-11 00:00:00</td>\n",
       "      <td>33.000000</td>\n",
       "      <td>0.000000</td>\n",
       "      <td>98.000000</td>\n",
       "      <td>0.000000</td>\n",
       "      <td>0.000000</td>\n",
       "      <td>1.000000</td>\n",
       "      <td>109.000000</td>\n",
       "      <td>1.000000</td>\n",
       "      <td>-1.000000</td>\n",
       "      <td>0.000000</td>\n",
       "      <td>1.000000</td>\n",
       "      <td>5.000000</td>\n",
       "      <td>0.000000</td>\n",
       "      <td>0.000000</td>\n",
       "    </tr>\n",
       "    <tr>\n",
       "      <th>50%</th>\n",
       "      <td>2009-06-05 00:00:00</td>\n",
       "      <td>40.000000</td>\n",
       "      <td>0.000000</td>\n",
       "      <td>549.000000</td>\n",
       "      <td>1.000000</td>\n",
       "      <td>0.000000</td>\n",
       "      <td>1.000000</td>\n",
       "      <td>197.000000</td>\n",
       "      <td>2.000000</td>\n",
       "      <td>-1.000000</td>\n",
       "      <td>0.000000</td>\n",
       "      <td>3.000000</td>\n",
       "      <td>6.000000</td>\n",
       "      <td>0.000000</td>\n",
       "      <td>0.000000</td>\n",
       "    </tr>\n",
       "    <tr>\n",
       "      <th>75%</th>\n",
       "      <td>2010-05-08 00:00:00</td>\n",
       "      <td>50.000000</td>\n",
       "      <td>0.000000</td>\n",
       "      <td>2030.000000</td>\n",
       "      <td>1.000000</td>\n",
       "      <td>0.000000</td>\n",
       "      <td>1.000000</td>\n",
       "      <td>380.000000</td>\n",
       "      <td>4.000000</td>\n",
       "      <td>-1.000000</td>\n",
       "      <td>0.000000</td>\n",
       "      <td>4.000000</td>\n",
       "      <td>8.000000</td>\n",
       "      <td>0.000000</td>\n",
       "      <td>0.000000</td>\n",
       "    </tr>\n",
       "    <tr>\n",
       "      <th>max</th>\n",
       "      <td>2010-12-30 00:00:00</td>\n",
       "      <td>95.000000</td>\n",
       "      <td>1.000000</td>\n",
       "      <td>102127.000000</td>\n",
       "      <td>1.000000</td>\n",
       "      <td>1.000000</td>\n",
       "      <td>1.000000</td>\n",
       "      <td>4918.000000</td>\n",
       "      <td>63.000000</td>\n",
       "      <td>871.000000</td>\n",
       "      <td>275.000000</td>\n",
       "      <td>6.000000</td>\n",
       "      <td>12.000000</td>\n",
       "      <td>1.000000</td>\n",
       "      <td>1.000000</td>\n",
       "    </tr>\n",
       "    <tr>\n",
       "      <th>std</th>\n",
       "      <td>NaN</td>\n",
       "      <td>12.709352</td>\n",
       "      <td>0.232913</td>\n",
       "      <td>16365.292065</td>\n",
       "      <td>0.497261</td>\n",
       "      <td>0.391110</td>\n",
       "      <td>0.297398</td>\n",
       "      <td>769.096291</td>\n",
       "      <td>9.890153</td>\n",
       "      <td>160.942593</td>\n",
       "      <td>44.140259</td>\n",
       "      <td>1.741966</td>\n",
       "      <td>2.614273</td>\n",
       "      <td>0.364474</td>\n",
       "      <td>0.432461</td>\n",
       "    </tr>\n",
       "  </tbody>\n",
       "</table>\n",
       "</div>"
      ],
      "text/plain": [
       "                   last contact date           age       default  \\\n",
       "count                          39211  39211.000000  39211.000000   \n",
       "mean   2009-06-22 21:10:55.254902784     42.120247      0.057560   \n",
       "min              2008-01-01 00:00:00     18.000000      0.000000   \n",
       "25%              2008-08-11 00:00:00     33.000000      0.000000   \n",
       "50%              2009-06-05 00:00:00     40.000000      0.000000   \n",
       "75%              2010-05-08 00:00:00     50.000000      0.000000   \n",
       "max              2010-12-30 00:00:00     95.000000      1.000000   \n",
       "std                              NaN     12.709352      0.232913   \n",
       "\n",
       "             balance       housing          loan       contact      duration  \\\n",
       "count   39211.000000  39211.000000  39211.000000  39211.000000  39211.000000   \n",
       "mean     5441.781719      0.552320      0.188493      0.901941    439.062789   \n",
       "min     -8019.000000      0.000000      0.000000      0.000000      0.000000   \n",
       "25%        98.000000      0.000000      0.000000      1.000000    109.000000   \n",
       "50%       549.000000      1.000000      0.000000      1.000000    197.000000   \n",
       "75%      2030.000000      1.000000      0.000000      1.000000    380.000000   \n",
       "max    102127.000000      1.000000      1.000000      1.000000   4918.000000   \n",
       "std     16365.292065      0.497261      0.391110      0.297398    769.096291   \n",
       "\n",
       "           campaign         pdays      previous           day         month  \\\n",
       "count  39211.000000  39211.000000  39211.000000  39211.000000  39211.000000   \n",
       "mean       5.108770     72.256051     11.826171      2.822575      6.223993   \n",
       "min        1.000000     -1.000000      0.000000      0.000000      1.000000   \n",
       "25%        1.000000     -1.000000      0.000000      1.000000      5.000000   \n",
       "50%        2.000000     -1.000000      0.000000      3.000000      6.000000   \n",
       "75%        4.000000     -1.000000      0.000000      4.000000      8.000000   \n",
       "max       63.000000    871.000000    275.000000      6.000000     12.000000   \n",
       "std        9.890153    160.942593     44.140259      1.741966      2.614273   \n",
       "\n",
       "           isSunday  previously_contacted  \n",
       "count  39211.000000          39211.000000  \n",
       "mean       0.157711              0.249037  \n",
       "min        0.000000              0.000000  \n",
       "25%        0.000000              0.000000  \n",
       "50%        0.000000              0.000000  \n",
       "75%        0.000000              0.000000  \n",
       "max        1.000000              1.000000  \n",
       "std        0.364474              0.432461  "
      ]
     },
     "execution_count": 24,
     "metadata": {},
     "output_type": "execute_result"
    }
   ],
   "source": [
    "print('Shape:', train.shape)\n",
    "print('')\n",
    "print('---------------------------------------------------------------------------')\n",
    "print('')\n",
    "print(train.info())\n",
    "print('')\n",
    "print('---------------------------------------------------------------------------')\n",
    "print('')\n",
    "train.describe()"
   ]
  },
  {
   "cell_type": "markdown",
   "id": "3e6e0abf",
   "metadata": {
    "papermill": {
     "duration": 0.026548,
     "end_time": "2024-10-07T16:25:25.974807",
     "exception": false,
     "start_time": "2024-10-07T16:25:25.948259",
     "status": "completed"
    },
    "tags": []
   },
   "source": [
    "# Column Transformer"
   ]
  },
  {
   "cell_type": "code",
   "execution_count": 25,
   "id": "4958e2a4",
   "metadata": {
    "execution": {
     "iopub.execute_input": "2024-10-07T16:25:26.028572Z",
     "iopub.status.busy": "2024-10-07T16:25:26.028125Z",
     "iopub.status.idle": "2024-10-07T16:25:26.052496Z",
     "shell.execute_reply": "2024-10-07T16:25:26.051164Z"
    },
    "papermill": {
     "duration": 0.054402,
     "end_time": "2024-10-07T16:25:26.055090",
     "exception": false,
     "start_time": "2024-10-07T16:25:26.000688",
     "status": "completed"
    },
    "tags": []
   },
   "outputs": [
    {
     "name": "stdout",
     "output_type": "stream",
     "text": [
      "<class 'pandas.core.frame.DataFrame'>\n",
      "RangeIndex: 39211 entries, 0 to 39210\n",
      "Data columns (total 21 columns):\n",
      " #   Column                Non-Null Count  Dtype         \n",
      "---  ------                --------------  -----         \n",
      " 0   last contact date     39211 non-null  datetime64[ns]\n",
      " 1   age                   39211 non-null  int64         \n",
      " 2   job                   39211 non-null  object        \n",
      " 3   marital               39211 non-null  object        \n",
      " 4   education             39211 non-null  object        \n",
      " 5   default               39211 non-null  int64         \n",
      " 6   balance               39211 non-null  int64         \n",
      " 7   housing               39211 non-null  int64         \n",
      " 8   loan                  39211 non-null  int64         \n",
      " 9   contact               39211 non-null  int64         \n",
      " 10  duration              39211 non-null  int64         \n",
      " 11  campaign              39211 non-null  int64         \n",
      " 12  pdays                 39211 non-null  int64         \n",
      " 13  previous              39211 non-null  int64         \n",
      " 14  poutcome              39211 non-null  object        \n",
      " 15  target                39211 non-null  object        \n",
      " 16  day                   39211 non-null  int32         \n",
      " 17  month                 39211 non-null  int32         \n",
      " 18  isSunday              39211 non-null  int64         \n",
      " 19  Age_Category          39211 non-null  object        \n",
      " 20  previously_contacted  39211 non-null  int64         \n",
      "dtypes: datetime64[ns](1), int32(2), int64(12), object(6)\n",
      "memory usage: 6.0+ MB\n"
     ]
    }
   ],
   "source": [
    "train.info()"
   ]
  },
  {
   "cell_type": "code",
   "execution_count": 26,
   "id": "977f218c",
   "metadata": {
    "execution": {
     "iopub.execute_input": "2024-10-07T16:25:26.109810Z",
     "iopub.status.busy": "2024-10-07T16:25:26.108647Z",
     "iopub.status.idle": "2024-10-07T16:25:26.123509Z",
     "shell.execute_reply": "2024-10-07T16:25:26.122208Z"
    },
    "papermill": {
     "duration": 0.04475,
     "end_time": "2024-10-07T16:25:26.126260",
     "exception": false,
     "start_time": "2024-10-07T16:25:26.081510",
     "status": "completed"
    },
    "tags": []
   },
   "outputs": [],
   "source": [
    "from sklearn.compose import ColumnTransformer\n",
    "from sklearn.preprocessing import StandardScaler , OneHotEncoder  , LabelEncoder, RobustScaler , OrdinalEncoder\n",
    "\n",
    "col_transformer=ColumnTransformer(transformers=[\n",
    "    \n",
    "    ('numerical_cols' , RobustScaler(),['age','balance','campaign','previous', 'duration']), \n",
    "    ('categorical_cols' , OneHotEncoder(handle_unknown='ignore',sparse_output=False),['job','marital','poutcome','education','Age_Category' ,'day','month']),\n",
    "    ('label_cols', OrdinalEncoder(),['education' , 'Age_Category'])\n",
    "   \n",
    "    \n",
    "])"
   ]
  },
  {
   "cell_type": "code",
   "execution_count": 27,
   "id": "17d5b3af",
   "metadata": {
    "execution": {
     "iopub.execute_input": "2024-10-07T16:25:26.181278Z",
     "iopub.status.busy": "2024-10-07T16:25:26.180346Z",
     "iopub.status.idle": "2024-10-07T16:25:26.259862Z",
     "shell.execute_reply": "2024-10-07T16:25:26.258762Z"
    },
    "papermill": {
     "duration": 0.109534,
     "end_time": "2024-10-07T16:25:26.262467",
     "exception": false,
     "start_time": "2024-10-07T16:25:26.152933",
     "status": "completed"
    },
    "tags": []
   },
   "outputs": [
    {
     "data": {
      "text/html": [
       "<div>\n",
       "<style scoped>\n",
       "    .dataframe tbody tr th:only-of-type {\n",
       "        vertical-align: middle;\n",
       "    }\n",
       "\n",
       "    .dataframe tbody tr th {\n",
       "        vertical-align: top;\n",
       "    }\n",
       "\n",
       "    .dataframe thead th {\n",
       "        text-align: right;\n",
       "    }\n",
       "</style>\n",
       "<table border=\"1\" class=\"dataframe\">\n",
       "  <thead>\n",
       "    <tr style=\"text-align: right;\">\n",
       "      <th></th>\n",
       "      <th>last contact date</th>\n",
       "      <th>age</th>\n",
       "      <th>job</th>\n",
       "      <th>marital</th>\n",
       "      <th>education</th>\n",
       "      <th>default</th>\n",
       "      <th>balance</th>\n",
       "      <th>housing</th>\n",
       "      <th>loan</th>\n",
       "      <th>contact</th>\n",
       "      <th>...</th>\n",
       "      <th>campaign</th>\n",
       "      <th>pdays</th>\n",
       "      <th>previous</th>\n",
       "      <th>poutcome</th>\n",
       "      <th>target</th>\n",
       "      <th>day</th>\n",
       "      <th>month</th>\n",
       "      <th>isSunday</th>\n",
       "      <th>Age_Category</th>\n",
       "      <th>previously_contacted</th>\n",
       "    </tr>\n",
       "  </thead>\n",
       "  <tbody>\n",
       "    <tr>\n",
       "      <th>0</th>\n",
       "      <td>2009-04-17</td>\n",
       "      <td>26</td>\n",
       "      <td>blue-collar</td>\n",
       "      <td>married</td>\n",
       "      <td>secondary</td>\n",
       "      <td>0</td>\n",
       "      <td>647</td>\n",
       "      <td>1</td>\n",
       "      <td>0</td>\n",
       "      <td>1</td>\n",
       "      <td>...</td>\n",
       "      <td>2</td>\n",
       "      <td>331</td>\n",
       "      <td>1</td>\n",
       "      <td>other</td>\n",
       "      <td>no</td>\n",
       "      <td>4</td>\n",
       "      <td>4</td>\n",
       "      <td>0</td>\n",
       "      <td>young</td>\n",
       "      <td>1</td>\n",
       "    </tr>\n",
       "    <tr>\n",
       "      <th>1</th>\n",
       "      <td>2009-10-11</td>\n",
       "      <td>52</td>\n",
       "      <td>technician</td>\n",
       "      <td>married</td>\n",
       "      <td>secondary</td>\n",
       "      <td>0</td>\n",
       "      <td>553</td>\n",
       "      <td>1</td>\n",
       "      <td>0</td>\n",
       "      <td>0</td>\n",
       "      <td>...</td>\n",
       "      <td>1</td>\n",
       "      <td>-1</td>\n",
       "      <td>0</td>\n",
       "      <td>failure</td>\n",
       "      <td>no</td>\n",
       "      <td>6</td>\n",
       "      <td>10</td>\n",
       "      <td>0</td>\n",
       "      <td>middle</td>\n",
       "      <td>0</td>\n",
       "    </tr>\n",
       "    <tr>\n",
       "      <th>2</th>\n",
       "      <td>2010-11-20</td>\n",
       "      <td>44</td>\n",
       "      <td>blue-collar</td>\n",
       "      <td>married</td>\n",
       "      <td>secondary</td>\n",
       "      <td>0</td>\n",
       "      <td>1397</td>\n",
       "      <td>0</td>\n",
       "      <td>0</td>\n",
       "      <td>1</td>\n",
       "      <td>...</td>\n",
       "      <td>1</td>\n",
       "      <td>-1</td>\n",
       "      <td>0</td>\n",
       "      <td>failure</td>\n",
       "      <td>no</td>\n",
       "      <td>5</td>\n",
       "      <td>11</td>\n",
       "      <td>0</td>\n",
       "      <td>middle</td>\n",
       "      <td>0</td>\n",
       "    </tr>\n",
       "    <tr>\n",
       "      <th>3</th>\n",
       "      <td>2009-09-01</td>\n",
       "      <td>33</td>\n",
       "      <td>admin.</td>\n",
       "      <td>married</td>\n",
       "      <td>secondary</td>\n",
       "      <td>0</td>\n",
       "      <td>394</td>\n",
       "      <td>1</td>\n",
       "      <td>0</td>\n",
       "      <td>0</td>\n",
       "      <td>...</td>\n",
       "      <td>3</td>\n",
       "      <td>-1</td>\n",
       "      <td>0</td>\n",
       "      <td>failure</td>\n",
       "      <td>no</td>\n",
       "      <td>1</td>\n",
       "      <td>9</td>\n",
       "      <td>1</td>\n",
       "      <td>young</td>\n",
       "      <td>0</td>\n",
       "    </tr>\n",
       "    <tr>\n",
       "      <th>4</th>\n",
       "      <td>2008-01-29</td>\n",
       "      <td>31</td>\n",
       "      <td>entrepreneur</td>\n",
       "      <td>single</td>\n",
       "      <td>tertiary</td>\n",
       "      <td>0</td>\n",
       "      <td>137</td>\n",
       "      <td>0</td>\n",
       "      <td>0</td>\n",
       "      <td>1</td>\n",
       "      <td>...</td>\n",
       "      <td>2</td>\n",
       "      <td>-1</td>\n",
       "      <td>0</td>\n",
       "      <td>failure</td>\n",
       "      <td>no</td>\n",
       "      <td>1</td>\n",
       "      <td>1</td>\n",
       "      <td>1</td>\n",
       "      <td>young</td>\n",
       "      <td>0</td>\n",
       "    </tr>\n",
       "    <tr>\n",
       "      <th>...</th>\n",
       "      <td>...</td>\n",
       "      <td>...</td>\n",
       "      <td>...</td>\n",
       "      <td>...</td>\n",
       "      <td>...</td>\n",
       "      <td>...</td>\n",
       "      <td>...</td>\n",
       "      <td>...</td>\n",
       "      <td>...</td>\n",
       "      <td>...</td>\n",
       "      <td>...</td>\n",
       "      <td>...</td>\n",
       "      <td>...</td>\n",
       "      <td>...</td>\n",
       "      <td>...</td>\n",
       "      <td>...</td>\n",
       "      <td>...</td>\n",
       "      <td>...</td>\n",
       "      <td>...</td>\n",
       "      <td>...</td>\n",
       "      <td>...</td>\n",
       "    </tr>\n",
       "    <tr>\n",
       "      <th>39206</th>\n",
       "      <td>2008-07-31</td>\n",
       "      <td>31</td>\n",
       "      <td>technician</td>\n",
       "      <td>single</td>\n",
       "      <td>secondary</td>\n",
       "      <td>0</td>\n",
       "      <td>0</td>\n",
       "      <td>1</td>\n",
       "      <td>0</td>\n",
       "      <td>1</td>\n",
       "      <td>...</td>\n",
       "      <td>34</td>\n",
       "      <td>-1</td>\n",
       "      <td>0</td>\n",
       "      <td>failure</td>\n",
       "      <td>no</td>\n",
       "      <td>3</td>\n",
       "      <td>7</td>\n",
       "      <td>0</td>\n",
       "      <td>young</td>\n",
       "      <td>0</td>\n",
       "    </tr>\n",
       "    <tr>\n",
       "      <th>39207</th>\n",
       "      <td>2009-07-31</td>\n",
       "      <td>59</td>\n",
       "      <td>admin.</td>\n",
       "      <td>married</td>\n",
       "      <td>primary</td>\n",
       "      <td>0</td>\n",
       "      <td>6187</td>\n",
       "      <td>0</td>\n",
       "      <td>0</td>\n",
       "      <td>1</td>\n",
       "      <td>...</td>\n",
       "      <td>4</td>\n",
       "      <td>-1</td>\n",
       "      <td>0</td>\n",
       "      <td>failure</td>\n",
       "      <td>no</td>\n",
       "      <td>4</td>\n",
       "      <td>7</td>\n",
       "      <td>0</td>\n",
       "      <td>middle</td>\n",
       "      <td>0</td>\n",
       "    </tr>\n",
       "    <tr>\n",
       "      <th>39208</th>\n",
       "      <td>2008-06-02</td>\n",
       "      <td>36</td>\n",
       "      <td>blue-collar</td>\n",
       "      <td>married</td>\n",
       "      <td>secondary</td>\n",
       "      <td>0</td>\n",
       "      <td>63</td>\n",
       "      <td>1</td>\n",
       "      <td>0</td>\n",
       "      <td>1</td>\n",
       "      <td>...</td>\n",
       "      <td>8</td>\n",
       "      <td>-1</td>\n",
       "      <td>0</td>\n",
       "      <td>failure</td>\n",
       "      <td>no</td>\n",
       "      <td>0</td>\n",
       "      <td>6</td>\n",
       "      <td>0</td>\n",
       "      <td>young</td>\n",
       "      <td>0</td>\n",
       "    </tr>\n",
       "    <tr>\n",
       "      <th>39209</th>\n",
       "      <td>2010-03-20</td>\n",
       "      <td>28</td>\n",
       "      <td>student</td>\n",
       "      <td>single</td>\n",
       "      <td>secondary</td>\n",
       "      <td>0</td>\n",
       "      <td>5916</td>\n",
       "      <td>0</td>\n",
       "      <td>0</td>\n",
       "      <td>1</td>\n",
       "      <td>...</td>\n",
       "      <td>5</td>\n",
       "      <td>-1</td>\n",
       "      <td>0</td>\n",
       "      <td>failure</td>\n",
       "      <td>no</td>\n",
       "      <td>5</td>\n",
       "      <td>3</td>\n",
       "      <td>0</td>\n",
       "      <td>young</td>\n",
       "      <td>0</td>\n",
       "    </tr>\n",
       "    <tr>\n",
       "      <th>39210</th>\n",
       "      <td>2010-03-16</td>\n",
       "      <td>51</td>\n",
       "      <td>student</td>\n",
       "      <td>divorced</td>\n",
       "      <td>tertiary</td>\n",
       "      <td>1</td>\n",
       "      <td>38594</td>\n",
       "      <td>1</td>\n",
       "      <td>0</td>\n",
       "      <td>1</td>\n",
       "      <td>...</td>\n",
       "      <td>19</td>\n",
       "      <td>780</td>\n",
       "      <td>148</td>\n",
       "      <td>success</td>\n",
       "      <td>yes</td>\n",
       "      <td>1</td>\n",
       "      <td>3</td>\n",
       "      <td>1</td>\n",
       "      <td>middle</td>\n",
       "      <td>1</td>\n",
       "    </tr>\n",
       "  </tbody>\n",
       "</table>\n",
       "<p>39211 rows × 21 columns</p>\n",
       "</div>"
      ],
      "text/plain": [
       "      last contact date  age           job   marital  education  default  \\\n",
       "0            2009-04-17   26   blue-collar   married  secondary        0   \n",
       "1            2009-10-11   52    technician   married  secondary        0   \n",
       "2            2010-11-20   44   blue-collar   married  secondary        0   \n",
       "3            2009-09-01   33        admin.   married  secondary        0   \n",
       "4            2008-01-29   31  entrepreneur    single   tertiary        0   \n",
       "...                 ...  ...           ...       ...        ...      ...   \n",
       "39206        2008-07-31   31    technician    single  secondary        0   \n",
       "39207        2009-07-31   59        admin.   married    primary        0   \n",
       "39208        2008-06-02   36   blue-collar   married  secondary        0   \n",
       "39209        2010-03-20   28       student    single  secondary        0   \n",
       "39210        2010-03-16   51       student  divorced   tertiary        1   \n",
       "\n",
       "       balance  housing  loan  contact  ...  campaign  pdays  previous  \\\n",
       "0          647        1     0        1  ...         2    331         1   \n",
       "1          553        1     0        0  ...         1     -1         0   \n",
       "2         1397        0     0        1  ...         1     -1         0   \n",
       "3          394        1     0        0  ...         3     -1         0   \n",
       "4          137        0     0        1  ...         2     -1         0   \n",
       "...        ...      ...   ...      ...  ...       ...    ...       ...   \n",
       "39206        0        1     0        1  ...        34     -1         0   \n",
       "39207     6187        0     0        1  ...         4     -1         0   \n",
       "39208       63        1     0        1  ...         8     -1         0   \n",
       "39209     5916        0     0        1  ...         5     -1         0   \n",
       "39210    38594        1     0        1  ...        19    780       148   \n",
       "\n",
       "       poutcome target day  month  isSunday  Age_Category previously_contacted  \n",
       "0         other     no   4      4         0         young                    1  \n",
       "1       failure     no   6     10         0        middle                    0  \n",
       "2       failure     no   5     11         0        middle                    0  \n",
       "3       failure     no   1      9         1         young                    0  \n",
       "4       failure     no   1      1         1         young                    0  \n",
       "...         ...    ...  ..    ...       ...           ...                  ...  \n",
       "39206   failure     no   3      7         0         young                    0  \n",
       "39207   failure     no   4      7         0        middle                    0  \n",
       "39208   failure     no   0      6         0         young                    0  \n",
       "39209   failure     no   5      3         0         young                    0  \n",
       "39210   success    yes   1      3         1        middle                    1  \n",
       "\n",
       "[39211 rows x 21 columns]"
      ]
     },
     "execution_count": 27,
     "metadata": {},
     "output_type": "execute_result"
    }
   ],
   "source": [
    "train"
   ]
  },
  {
   "cell_type": "code",
   "execution_count": 28,
   "id": "3e90a8b5",
   "metadata": {
    "execution": {
     "iopub.execute_input": "2024-10-07T16:25:26.318014Z",
     "iopub.status.busy": "2024-10-07T16:25:26.317142Z",
     "iopub.status.idle": "2024-10-07T16:25:26.324489Z",
     "shell.execute_reply": "2024-10-07T16:25:26.323346Z"
    },
    "papermill": {
     "duration": 0.03785,
     "end_time": "2024-10-07T16:25:26.327101",
     "exception": false,
     "start_time": "2024-10-07T16:25:26.289251",
     "status": "completed"
    },
    "tags": []
   },
   "outputs": [
    {
     "data": {
      "text/plain": [
       "(39211, 21)"
      ]
     },
     "execution_count": 28,
     "metadata": {},
     "output_type": "execute_result"
    }
   ],
   "source": [
    "train.shape"
   ]
  },
  {
   "cell_type": "code",
   "execution_count": 29,
   "id": "fb519ebc",
   "metadata": {
    "execution": {
     "iopub.execute_input": "2024-10-07T16:25:26.382915Z",
     "iopub.status.busy": "2024-10-07T16:25:26.382440Z",
     "iopub.status.idle": "2024-10-07T16:25:26.416634Z",
     "shell.execute_reply": "2024-10-07T16:25:26.415275Z"
    },
    "papermill": {
     "duration": 0.065345,
     "end_time": "2024-10-07T16:25:26.419487",
     "exception": false,
     "start_time": "2024-10-07T16:25:26.354142",
     "status": "completed"
    },
    "tags": []
   },
   "outputs": [],
   "source": [
    "\n",
    "train_yes=train[train['target']=='no'].sample(5827 , random_state=42)\n",
    "train_no=train[train['target']=='yes']\n",
    "\n",
    "train= pd.concat([train_yes, train_no])\n"
   ]
  },
  {
   "cell_type": "code",
   "execution_count": 30,
   "id": "25e97b4a",
   "metadata": {
    "execution": {
     "iopub.execute_input": "2024-10-07T16:25:26.475955Z",
     "iopub.status.busy": "2024-10-07T16:25:26.475475Z",
     "iopub.status.idle": "2024-10-07T16:25:26.482794Z",
     "shell.execute_reply": "2024-10-07T16:25:26.481628Z"
    },
    "papermill": {
     "duration": 0.038315,
     "end_time": "2024-10-07T16:25:26.485231",
     "exception": false,
     "start_time": "2024-10-07T16:25:26.446916",
     "status": "completed"
    },
    "tags": []
   },
   "outputs": [
    {
     "data": {
      "text/plain": [
       "(11654, 21)"
      ]
     },
     "execution_count": 30,
     "metadata": {},
     "output_type": "execute_result"
    }
   ],
   "source": [
    "train.shape"
   ]
  },
  {
   "cell_type": "code",
   "execution_count": 31,
   "id": "5ed21691",
   "metadata": {
    "execution": {
     "iopub.execute_input": "2024-10-07T16:25:26.542002Z",
     "iopub.status.busy": "2024-10-07T16:25:26.540911Z",
     "iopub.status.idle": "2024-10-07T16:25:26.555228Z",
     "shell.execute_reply": "2024-10-07T16:25:26.553936Z"
    },
    "papermill": {
     "duration": 0.045639,
     "end_time": "2024-10-07T16:25:26.557941",
     "exception": false,
     "start_time": "2024-10-07T16:25:26.512302",
     "status": "completed"
    },
    "tags": []
   },
   "outputs": [],
   "source": [
    "y=train['target']\n",
    "\n",
    "# duration\n",
    "train=train[['age','balance','campaign','previous','duration' ,'job','marital','poutcome' ,'education','previously_contacted' ,'default','housing','loan','contact' ,'Age_Category','day','month','isSunday']]\n",
    "\n",
    "\n",
    "\n",
    "# duration\n",
    "test=test[['age','balance','campaign','previous','duration' ,'job','marital','poutcome' ,'education','previously_contacted' ,'default','housing','loan','contact' ,'Age_Category','day','month','isSunday']]\n"
   ]
  },
  {
   "cell_type": "code",
   "execution_count": 32,
   "id": "90deb877",
   "metadata": {
    "execution": {
     "iopub.execute_input": "2024-10-07T16:25:26.616453Z",
     "iopub.status.busy": "2024-10-07T16:25:26.616027Z",
     "iopub.status.idle": "2024-10-07T16:25:26.624397Z",
     "shell.execute_reply": "2024-10-07T16:25:26.623037Z"
    },
    "papermill": {
     "duration": 0.039549,
     "end_time": "2024-10-07T16:25:26.626822",
     "exception": false,
     "start_time": "2024-10-07T16:25:26.587273",
     "status": "completed"
    },
    "tags": []
   },
   "outputs": [
    {
     "name": "stdout",
     "output_type": "stream",
     "text": [
      "target\n",
      "no     5827\n",
      "yes    5827\n",
      "Name: count, dtype: int64\n"
     ]
    }
   ],
   "source": [
    "print(y.value_counts())"
   ]
  },
  {
   "cell_type": "code",
   "execution_count": 33,
   "id": "c36e4f45",
   "metadata": {
    "execution": {
     "iopub.execute_input": "2024-10-07T16:25:26.683033Z",
     "iopub.status.busy": "2024-10-07T16:25:26.682570Z",
     "iopub.status.idle": "2024-10-07T16:25:26.706092Z",
     "shell.execute_reply": "2024-10-07T16:25:26.704984Z"
    },
    "papermill": {
     "duration": 0.05451,
     "end_time": "2024-10-07T16:25:26.708477",
     "exception": false,
     "start_time": "2024-10-07T16:25:26.653967",
     "status": "completed"
    },
    "tags": []
   },
   "outputs": [
    {
     "data": {
      "text/html": [
       "<div>\n",
       "<style scoped>\n",
       "    .dataframe tbody tr th:only-of-type {\n",
       "        vertical-align: middle;\n",
       "    }\n",
       "\n",
       "    .dataframe tbody tr th {\n",
       "        vertical-align: top;\n",
       "    }\n",
       "\n",
       "    .dataframe thead th {\n",
       "        text-align: right;\n",
       "    }\n",
       "</style>\n",
       "<table border=\"1\" class=\"dataframe\">\n",
       "  <thead>\n",
       "    <tr style=\"text-align: right;\">\n",
       "      <th></th>\n",
       "      <th>age</th>\n",
       "      <th>balance</th>\n",
       "      <th>campaign</th>\n",
       "      <th>previous</th>\n",
       "      <th>duration</th>\n",
       "      <th>job</th>\n",
       "      <th>marital</th>\n",
       "      <th>poutcome</th>\n",
       "      <th>education</th>\n",
       "      <th>previously_contacted</th>\n",
       "      <th>default</th>\n",
       "      <th>housing</th>\n",
       "      <th>loan</th>\n",
       "      <th>contact</th>\n",
       "      <th>Age_Category</th>\n",
       "      <th>day</th>\n",
       "      <th>month</th>\n",
       "      <th>isSunday</th>\n",
       "    </tr>\n",
       "  </thead>\n",
       "  <tbody>\n",
       "    <tr>\n",
       "      <th>228</th>\n",
       "      <td>27</td>\n",
       "      <td>3096</td>\n",
       "      <td>4</td>\n",
       "      <td>1</td>\n",
       "      <td>62</td>\n",
       "      <td>student</td>\n",
       "      <td>single</td>\n",
       "      <td>failure</td>\n",
       "      <td>secondary</td>\n",
       "      <td>1</td>\n",
       "      <td>0</td>\n",
       "      <td>1</td>\n",
       "      <td>0</td>\n",
       "      <td>0</td>\n",
       "      <td>young</td>\n",
       "      <td>3</td>\n",
       "      <td>5</td>\n",
       "      <td>0</td>\n",
       "    </tr>\n",
       "    <tr>\n",
       "      <th>13212</th>\n",
       "      <td>38</td>\n",
       "      <td>207</td>\n",
       "      <td>2</td>\n",
       "      <td>0</td>\n",
       "      <td>76</td>\n",
       "      <td>technician</td>\n",
       "      <td>single</td>\n",
       "      <td>failure</td>\n",
       "      <td>secondary</td>\n",
       "      <td>0</td>\n",
       "      <td>0</td>\n",
       "      <td>0</td>\n",
       "      <td>0</td>\n",
       "      <td>1</td>\n",
       "      <td>young</td>\n",
       "      <td>4</td>\n",
       "      <td>6</td>\n",
       "      <td>0</td>\n",
       "    </tr>\n",
       "    <tr>\n",
       "      <th>9207</th>\n",
       "      <td>33</td>\n",
       "      <td>2548</td>\n",
       "      <td>2</td>\n",
       "      <td>0</td>\n",
       "      <td>179</td>\n",
       "      <td>admin.</td>\n",
       "      <td>single</td>\n",
       "      <td>failure</td>\n",
       "      <td>secondary</td>\n",
       "      <td>0</td>\n",
       "      <td>0</td>\n",
       "      <td>1</td>\n",
       "      <td>0</td>\n",
       "      <td>1</td>\n",
       "      <td>young</td>\n",
       "      <td>3</td>\n",
       "      <td>11</td>\n",
       "      <td>0</td>\n",
       "    </tr>\n",
       "    <tr>\n",
       "      <th>20235</th>\n",
       "      <td>49</td>\n",
       "      <td>687</td>\n",
       "      <td>6</td>\n",
       "      <td>0</td>\n",
       "      <td>65</td>\n",
       "      <td>entrepreneur</td>\n",
       "      <td>married</td>\n",
       "      <td>failure</td>\n",
       "      <td>secondary</td>\n",
       "      <td>0</td>\n",
       "      <td>0</td>\n",
       "      <td>0</td>\n",
       "      <td>0</td>\n",
       "      <td>1</td>\n",
       "      <td>middle</td>\n",
       "      <td>0</td>\n",
       "      <td>8</td>\n",
       "      <td>0</td>\n",
       "    </tr>\n",
       "    <tr>\n",
       "      <th>24063</th>\n",
       "      <td>43</td>\n",
       "      <td>0</td>\n",
       "      <td>3</td>\n",
       "      <td>0</td>\n",
       "      <td>75</td>\n",
       "      <td>management</td>\n",
       "      <td>divorced</td>\n",
       "      <td>failure</td>\n",
       "      <td>secondary</td>\n",
       "      <td>0</td>\n",
       "      <td>0</td>\n",
       "      <td>0</td>\n",
       "      <td>0</td>\n",
       "      <td>1</td>\n",
       "      <td>middle</td>\n",
       "      <td>2</td>\n",
       "      <td>7</td>\n",
       "      <td>0</td>\n",
       "    </tr>\n",
       "    <tr>\n",
       "      <th>...</th>\n",
       "      <td>...</td>\n",
       "      <td>...</td>\n",
       "      <td>...</td>\n",
       "      <td>...</td>\n",
       "      <td>...</td>\n",
       "      <td>...</td>\n",
       "      <td>...</td>\n",
       "      <td>...</td>\n",
       "      <td>...</td>\n",
       "      <td>...</td>\n",
       "      <td>...</td>\n",
       "      <td>...</td>\n",
       "      <td>...</td>\n",
       "      <td>...</td>\n",
       "      <td>...</td>\n",
       "      <td>...</td>\n",
       "      <td>...</td>\n",
       "      <td>...</td>\n",
       "    </tr>\n",
       "    <tr>\n",
       "      <th>39169</th>\n",
       "      <td>45</td>\n",
       "      <td>4831</td>\n",
       "      <td>11</td>\n",
       "      <td>0</td>\n",
       "      <td>479</td>\n",
       "      <td>management</td>\n",
       "      <td>single</td>\n",
       "      <td>failure</td>\n",
       "      <td>tertiary</td>\n",
       "      <td>0</td>\n",
       "      <td>0</td>\n",
       "      <td>0</td>\n",
       "      <td>0</td>\n",
       "      <td>1</td>\n",
       "      <td>middle</td>\n",
       "      <td>4</td>\n",
       "      <td>1</td>\n",
       "      <td>0</td>\n",
       "    </tr>\n",
       "    <tr>\n",
       "      <th>39181</th>\n",
       "      <td>34</td>\n",
       "      <td>4499</td>\n",
       "      <td>1</td>\n",
       "      <td>0</td>\n",
       "      <td>1681</td>\n",
       "      <td>retired</td>\n",
       "      <td>married</td>\n",
       "      <td>failure</td>\n",
       "      <td>primary</td>\n",
       "      <td>0</td>\n",
       "      <td>0</td>\n",
       "      <td>0</td>\n",
       "      <td>0</td>\n",
       "      <td>1</td>\n",
       "      <td>young</td>\n",
       "      <td>2</td>\n",
       "      <td>5</td>\n",
       "      <td>0</td>\n",
       "    </tr>\n",
       "    <tr>\n",
       "      <th>39201</th>\n",
       "      <td>26</td>\n",
       "      <td>81</td>\n",
       "      <td>2</td>\n",
       "      <td>0</td>\n",
       "      <td>803</td>\n",
       "      <td>blue-collar</td>\n",
       "      <td>single</td>\n",
       "      <td>failure</td>\n",
       "      <td>secondary</td>\n",
       "      <td>0</td>\n",
       "      <td>1</td>\n",
       "      <td>0</td>\n",
       "      <td>1</td>\n",
       "      <td>1</td>\n",
       "      <td>young</td>\n",
       "      <td>1</td>\n",
       "      <td>7</td>\n",
       "      <td>1</td>\n",
       "    </tr>\n",
       "    <tr>\n",
       "      <th>39205</th>\n",
       "      <td>34</td>\n",
       "      <td>899</td>\n",
       "      <td>1</td>\n",
       "      <td>3</td>\n",
       "      <td>114</td>\n",
       "      <td>admin.</td>\n",
       "      <td>married</td>\n",
       "      <td>failure</td>\n",
       "      <td>tertiary</td>\n",
       "      <td>1</td>\n",
       "      <td>0</td>\n",
       "      <td>1</td>\n",
       "      <td>0</td>\n",
       "      <td>1</td>\n",
       "      <td>young</td>\n",
       "      <td>3</td>\n",
       "      <td>11</td>\n",
       "      <td>0</td>\n",
       "    </tr>\n",
       "    <tr>\n",
       "      <th>39210</th>\n",
       "      <td>51</td>\n",
       "      <td>38594</td>\n",
       "      <td>19</td>\n",
       "      <td>148</td>\n",
       "      <td>1877</td>\n",
       "      <td>student</td>\n",
       "      <td>divorced</td>\n",
       "      <td>success</td>\n",
       "      <td>tertiary</td>\n",
       "      <td>1</td>\n",
       "      <td>1</td>\n",
       "      <td>1</td>\n",
       "      <td>0</td>\n",
       "      <td>1</td>\n",
       "      <td>middle</td>\n",
       "      <td>1</td>\n",
       "      <td>3</td>\n",
       "      <td>1</td>\n",
       "    </tr>\n",
       "  </tbody>\n",
       "</table>\n",
       "<p>11654 rows × 18 columns</p>\n",
       "</div>"
      ],
      "text/plain": [
       "       age  balance  campaign  previous  duration           job   marital  \\\n",
       "228     27     3096         4         1        62       student    single   \n",
       "13212   38      207         2         0        76    technician    single   \n",
       "9207    33     2548         2         0       179        admin.    single   \n",
       "20235   49      687         6         0        65  entrepreneur   married   \n",
       "24063   43        0         3         0        75    management  divorced   \n",
       "...    ...      ...       ...       ...       ...           ...       ...   \n",
       "39169   45     4831        11         0       479    management    single   \n",
       "39181   34     4499         1         0      1681       retired   married   \n",
       "39201   26       81         2         0       803   blue-collar    single   \n",
       "39205   34      899         1         3       114        admin.   married   \n",
       "39210   51    38594        19       148      1877       student  divorced   \n",
       "\n",
       "      poutcome  education  previously_contacted  default  housing  loan  \\\n",
       "228    failure  secondary                     1        0        1     0   \n",
       "13212  failure  secondary                     0        0        0     0   \n",
       "9207   failure  secondary                     0        0        1     0   \n",
       "20235  failure  secondary                     0        0        0     0   \n",
       "24063  failure  secondary                     0        0        0     0   \n",
       "...        ...        ...                   ...      ...      ...   ...   \n",
       "39169  failure   tertiary                     0        0        0     0   \n",
       "39181  failure    primary                     0        0        0     0   \n",
       "39201  failure  secondary                     0        1        0     1   \n",
       "39205  failure   tertiary                     1        0        1     0   \n",
       "39210  success   tertiary                     1        1        1     0   \n",
       "\n",
       "       contact Age_Category  day  month  isSunday  \n",
       "228          0        young    3      5         0  \n",
       "13212        1        young    4      6         0  \n",
       "9207         1        young    3     11         0  \n",
       "20235        1       middle    0      8         0  \n",
       "24063        1       middle    2      7         0  \n",
       "...        ...          ...  ...    ...       ...  \n",
       "39169        1       middle    4      1         0  \n",
       "39181        1        young    2      5         0  \n",
       "39201        1        young    1      7         1  \n",
       "39205        1        young    3     11         0  \n",
       "39210        1       middle    1      3         1  \n",
       "\n",
       "[11654 rows x 18 columns]"
      ]
     },
     "execution_count": 33,
     "metadata": {},
     "output_type": "execute_result"
    }
   ],
   "source": [
    "train"
   ]
  },
  {
   "cell_type": "code",
   "execution_count": null,
   "id": "6723c05b",
   "metadata": {
    "papermill": {
     "duration": 0.028195,
     "end_time": "2024-10-07T16:25:26.764310",
     "exception": false,
     "start_time": "2024-10-07T16:25:26.736115",
     "status": "completed"
    },
    "tags": []
   },
   "outputs": [],
   "source": []
  },
  {
   "cell_type": "code",
   "execution_count": 34,
   "id": "e1bdf2bd",
   "metadata": {
    "execution": {
     "iopub.execute_input": "2024-10-07T16:25:26.822238Z",
     "iopub.status.busy": "2024-10-07T16:25:26.821748Z",
     "iopub.status.idle": "2024-10-07T16:25:26.828295Z",
     "shell.execute_reply": "2024-10-07T16:25:26.826825Z"
    },
    "papermill": {
     "duration": 0.038859,
     "end_time": "2024-10-07T16:25:26.831476",
     "exception": false,
     "start_time": "2024-10-07T16:25:26.792617",
     "status": "completed"
    },
    "tags": []
   },
   "outputs": [
    {
     "name": "stdout",
     "output_type": "stream",
     "text": [
      "train shape :  (11654, 18)\n",
      "test shape :  (10000, 18)\n"
     ]
    }
   ],
   "source": [
    "print('train shape : ',train.shape)\n",
    "\n",
    "print('test shape : ',test.shape) "
   ]
  },
  {
   "cell_type": "code",
   "execution_count": 35,
   "id": "2a954f86",
   "metadata": {
    "execution": {
     "iopub.execute_input": "2024-10-07T16:25:26.890237Z",
     "iopub.status.busy": "2024-10-07T16:25:26.889775Z",
     "iopub.status.idle": "2024-10-07T16:25:26.894812Z",
     "shell.execute_reply": "2024-10-07T16:25:26.893690Z"
    },
    "papermill": {
     "duration": 0.037106,
     "end_time": "2024-10-07T16:25:26.897344",
     "exception": false,
     "start_time": "2024-10-07T16:25:26.860238",
     "status": "completed"
    },
    "tags": []
   },
   "outputs": [],
   "source": [
    "# train=col_transformer.fit_transform(train)\n",
    "# test=col_transformer.transform(test)\n",
    "\n",
    "\n",
    "# print('train shape : ', train.shape)\n",
    "\n",
    "# print('test shape : ' ,test.shape)"
   ]
  },
  {
   "cell_type": "markdown",
   "id": "94052635",
   "metadata": {
    "papermill": {
     "duration": 0.028319,
     "end_time": "2024-10-07T16:25:26.953359",
     "exception": false,
     "start_time": "2024-10-07T16:25:26.925040",
     "status": "completed"
    },
    "tags": []
   },
   "source": [
    "# train test split"
   ]
  },
  {
   "cell_type": "code",
   "execution_count": null,
   "id": "1e600af3",
   "metadata": {
    "papermill": {
     "duration": 0.027332,
     "end_time": "2024-10-07T16:25:27.008316",
     "exception": false,
     "start_time": "2024-10-07T16:25:26.980984",
     "status": "completed"
    },
    "tags": []
   },
   "outputs": [],
   "source": []
  },
  {
   "cell_type": "code",
   "execution_count": 36,
   "id": "9602c4f1",
   "metadata": {
    "execution": {
     "iopub.execute_input": "2024-10-07T16:25:27.065281Z",
     "iopub.status.busy": "2024-10-07T16:25:27.064814Z",
     "iopub.status.idle": "2024-10-07T16:25:27.087454Z",
     "shell.execute_reply": "2024-10-07T16:25:27.086417Z"
    },
    "papermill": {
     "duration": 0.054427,
     "end_time": "2024-10-07T16:25:27.090369",
     "exception": false,
     "start_time": "2024-10-07T16:25:27.035942",
     "status": "completed"
    },
    "tags": []
   },
   "outputs": [],
   "source": [
    "from sklearn.model_selection import train_test_split\n",
    "\n",
    "from sklearn.pipeline import Pipeline\n",
    "from sklearn.metrics import f1_score\n",
    "\n",
    "\n",
    "xtrain , xtest , ytrain , ytest = train_test_split(train , y ,test_size=0.2, random_state=1 , shuffle=True , stratify=y)"
   ]
  },
  {
   "cell_type": "code",
   "execution_count": null,
   "id": "3f5d4dfb",
   "metadata": {
    "papermill": {
     "duration": 0.027165,
     "end_time": "2024-10-07T16:25:27.145228",
     "exception": false,
     "start_time": "2024-10-07T16:25:27.118063",
     "status": "completed"
    },
    "tags": []
   },
   "outputs": [],
   "source": [
    "\n"
   ]
  },
  {
   "cell_type": "code",
   "execution_count": 37,
   "id": "56f2e3f6",
   "metadata": {
    "execution": {
     "iopub.execute_input": "2024-10-07T16:25:27.203141Z",
     "iopub.status.busy": "2024-10-07T16:25:27.202413Z",
     "iopub.status.idle": "2024-10-07T16:25:27.207469Z",
     "shell.execute_reply": "2024-10-07T16:25:27.206310Z"
    },
    "papermill": {
     "duration": 0.036924,
     "end_time": "2024-10-07T16:25:27.209960",
     "exception": false,
     "start_time": "2024-10-07T16:25:27.173036",
     "status": "completed"
    },
    "tags": []
   },
   "outputs": [],
   "source": [
    "# from imblearn.over_sampling import SMOTE\n",
    "\n",
    "# smote= SMOTE(sampling_strategy='minority', random_state=42)\n",
    "\n",
    "# xtrain , ytrain = smote.fit_resample(xtrain , ytrain)\n"
   ]
  },
  {
   "cell_type": "code",
   "execution_count": null,
   "id": "b43f59b9",
   "metadata": {
    "papermill": {
     "duration": 0.027479,
     "end_time": "2024-10-07T16:25:27.265008",
     "exception": false,
     "start_time": "2024-10-07T16:25:27.237529",
     "status": "completed"
    },
    "tags": []
   },
   "outputs": [],
   "source": []
  },
  {
   "cell_type": "code",
   "execution_count": 38,
   "id": "98344a5b",
   "metadata": {
    "execution": {
     "iopub.execute_input": "2024-10-07T16:25:27.322730Z",
     "iopub.status.busy": "2024-10-07T16:25:27.321748Z",
     "iopub.status.idle": "2024-10-07T16:25:27.329118Z",
     "shell.execute_reply": "2024-10-07T16:25:27.328063Z"
    },
    "papermill": {
     "duration": 0.038816,
     "end_time": "2024-10-07T16:25:27.331459",
     "exception": false,
     "start_time": "2024-10-07T16:25:27.292643",
     "status": "completed"
    },
    "tags": []
   },
   "outputs": [
    {
     "data": {
      "text/plain": [
       "(9323, 18)"
      ]
     },
     "execution_count": 38,
     "metadata": {},
     "output_type": "execute_result"
    }
   ],
   "source": [
    "xtrain.shape"
   ]
  },
  {
   "cell_type": "code",
   "execution_count": 39,
   "id": "cf9cc91c",
   "metadata": {
    "execution": {
     "iopub.execute_input": "2024-10-07T16:25:27.389935Z",
     "iopub.status.busy": "2024-10-07T16:25:27.389488Z",
     "iopub.status.idle": "2024-10-07T16:25:27.397100Z",
     "shell.execute_reply": "2024-10-07T16:25:27.395880Z"
    },
    "papermill": {
     "duration": 0.039389,
     "end_time": "2024-10-07T16:25:27.399684",
     "exception": false,
     "start_time": "2024-10-07T16:25:27.360295",
     "status": "completed"
    },
    "tags": []
   },
   "outputs": [
    {
     "data": {
      "text/plain": [
       "(9323,)"
      ]
     },
     "execution_count": 39,
     "metadata": {},
     "output_type": "execute_result"
    }
   ],
   "source": [
    "ytrain.shape"
   ]
  },
  {
   "cell_type": "code",
   "execution_count": 40,
   "id": "7f7e38eb",
   "metadata": {
    "execution": {
     "iopub.execute_input": "2024-10-07T16:25:27.457817Z",
     "iopub.status.busy": "2024-10-07T16:25:27.457387Z",
     "iopub.status.idle": "2024-10-07T16:25:27.463013Z",
     "shell.execute_reply": "2024-10-07T16:25:27.461724Z"
    },
    "papermill": {
     "duration": 0.037331,
     "end_time": "2024-10-07T16:25:27.465445",
     "exception": false,
     "start_time": "2024-10-07T16:25:27.428114",
     "status": "completed"
    },
    "tags": []
   },
   "outputs": [],
   "source": [
    "# plt.figure(figsize=(8,6))\n",
    "\n",
    "\n",
    "\n",
    "# colors={   'yes':'red' ,  'no' : 'black'}\n",
    "\n",
    "# plt.scatter(xtrain[:,0],xtrain[:,1],c=ytrain.map(colors))\n",
    "\n",
    "# plt.title('Scatter Plot of Classes: Yes vs No')\n",
    "\n",
    "\n",
    "# plt.xlabel('yes')\n",
    "# plt.ylabel(' no')\n",
    "# plt.show()\n"
   ]
  },
  {
   "cell_type": "code",
   "execution_count": 41,
   "id": "24451f94",
   "metadata": {
    "execution": {
     "iopub.execute_input": "2024-10-07T16:25:27.524629Z",
     "iopub.status.busy": "2024-10-07T16:25:27.523254Z",
     "iopub.status.idle": "2024-10-07T16:25:30.396163Z",
     "shell.execute_reply": "2024-10-07T16:25:30.394810Z"
    },
    "papermill": {
     "duration": 2.905203,
     "end_time": "2024-10-07T16:25:30.398891",
     "exception": false,
     "start_time": "2024-10-07T16:25:27.493688",
     "status": "completed"
    },
    "tags": []
   },
   "outputs": [
    {
     "name": "stdout",
     "output_type": "stream",
     "text": [
      "logisticRegressionCV Score 0.7859287859287859\n",
      "logisticRegressionCV f1_score  0.7846944237742347\n",
      "Classification Report               precision    recall  f1-score   support\n",
      "\n",
      "          no       0.75      0.86      0.80      1165\n",
      "         yes       0.84      0.71      0.77      1166\n",
      "\n",
      "    accuracy                           0.79      2331\n",
      "   macro avg       0.79      0.79      0.78      2331\n",
      "weighted avg       0.79      0.79      0.78      2331\n",
      "\n"
     ]
    }
   ],
   "source": [
    "from sklearn.linear_model import LogisticRegressionCV\n",
    "\n",
    "from imblearn.pipeline import Pipeline \n",
    "\n",
    "from sklearn.metrics import classification_report , confusion_matrix , ConfusionMatrixDisplay\n",
    "\n",
    "logCV = LogisticRegressionCV(cv=5, random_state=1 ,solver='liblinear' , class_weight='balanced' , max_iter=1000 , penalty='l2' ,Cs=[0.0001, 0.001, 0.01, 0.1, 1, 10, 100] )\n",
    "\n",
    "logistic=Pipeline(steps=[('col_transformer',col_transformer),('logCV',logCV)])\n",
    "\n",
    "\n",
    "logistic.fit(xtrain, ytrain)\n",
    "ypredicted_logistic=logistic.predict(xtest)\n",
    "\n",
    "print(   'logisticRegressionCV Score'   ,  logistic.score(xtest,ytest)  )\n",
    "\n",
    "\n",
    "print(   'logisticRegressionCV f1_score '  ,     f1_score(ytest, ypredicted_logistic  , average='weighted')    )\n",
    "\n",
    "print('Classification Report' ,classification_report(ytest ,ypredicted_logistic ) )"
   ]
  },
  {
   "cell_type": "code",
   "execution_count": 42,
   "id": "50c0bb12",
   "metadata": {
    "execution": {
     "iopub.execute_input": "2024-10-07T16:25:30.457495Z",
     "iopub.status.busy": "2024-10-07T16:25:30.456311Z",
     "iopub.status.idle": "2024-10-07T16:25:30.466203Z",
     "shell.execute_reply": "2024-10-07T16:25:30.464909Z"
    },
    "papermill": {
     "duration": 0.041244,
     "end_time": "2024-10-07T16:25:30.468419",
     "exception": false,
     "start_time": "2024-10-07T16:25:30.427175",
     "status": "completed"
    },
    "tags": []
   },
   "outputs": [
    {
     "data": {
      "text/plain": [
       "target\n",
       "no     4662\n",
       "yes    4661\n",
       "Name: count, dtype: int64"
      ]
     },
     "execution_count": 42,
     "metadata": {},
     "output_type": "execute_result"
    }
   ],
   "source": [
    "ytrain.value_counts()"
   ]
  },
  {
   "cell_type": "code",
   "execution_count": 43,
   "id": "bb96321e",
   "metadata": {
    "execution": {
     "iopub.execute_input": "2024-10-07T16:25:30.527038Z",
     "iopub.status.busy": "2024-10-07T16:25:30.525901Z",
     "iopub.status.idle": "2024-10-07T16:26:04.377575Z",
     "shell.execute_reply": "2024-10-07T16:26:04.376486Z"
    },
    "papermill": {
     "duration": 33.883375,
     "end_time": "2024-10-07T16:26:04.379973",
     "exception": false,
     "start_time": "2024-10-07T16:25:30.496598",
     "status": "completed"
    },
    "tags": []
   },
   "outputs": [
    {
     "name": "stdout",
     "output_type": "stream",
     "text": [
      " Score 0.8395538395538396\n",
      "xbst f1_score  0.8395492329285438\n",
      "Classification Report\n",
      "              precision    recall  f1-score   support\n",
      "\n",
      "           0       0.84      0.83      0.84      1165\n",
      "           1       0.84      0.84      0.84      1166\n",
      "\n",
      "    accuracy                           0.84      2331\n",
      "   macro avg       0.84      0.84      0.84      2331\n",
      "weighted avg       0.84      0.84      0.84      2331\n",
      "\n",
      "Confusion Matrix\n"
     ]
    },
    {
     "data": {
      "text/plain": [
       "<sklearn.metrics._plot.confusion_matrix.ConfusionMatrixDisplay at 0x7b9fa93e0f70>"
      ]
     },
     "execution_count": 43,
     "metadata": {},
     "output_type": "execute_result"
    },
    {
     "data": {
      "image/png": "[encoded data removed]",
      "text/plain": [
       "<Figure size 640x480 with 2 Axes>"
      ]
     },
     "metadata": {},
     "output_type": "display_data"
    }
   ],
   "source": [
    "from sklearn.ensemble import BaggingClassifier\n",
    "ytrain_numeric = ytrain.map({'yes': 1, 'no': 0})\n",
    "ytest_numeric = ytest.map({'yes': 1, 'no': 0})\n",
    "from sklearn.svm import SVC \n",
    "\n",
    "\n",
    "models = BaggingClassifier(estimator=SVC(random_state=1 , class_weight='balanced' ,C=10), n_estimators=10, random_state=42)\n",
    "model=Pipeline(steps=[('col_transformer',col_transformer),('models',models)])\n",
    "\n",
    "model.fit(xtrain, ytrain_numeric)\n",
    "ypred = model.predict(xtest)\n",
    "\n",
    "\n",
    "\n",
    "print(   ' Score'   ,  model.score(xtest,ytest_numeric)  )\n",
    "\n",
    "print(   'xbst f1_score '  ,     f1_score(ytest_numeric, ypred  , average='weighted')    )\n",
    "\n",
    "print('Classification Report' )\n",
    "\n",
    "print(classification_report(ytest_numeric ,ypred ))\n",
    "\n",
    "print('Confusion Matrix')\n",
    "ConfusionMatrixDisplay.from_estimator(model,xtest,ytest_numeric)"
   ]
  },
  {
   "cell_type": "code",
   "execution_count": 44,
   "id": "7c2b674d",
   "metadata": {
    "execution": {
     "iopub.execute_input": "2024-10-07T16:26:04.440014Z",
     "iopub.status.busy": "2024-10-07T16:26:04.438941Z",
     "iopub.status.idle": "2024-10-07T16:26:06.569217Z",
     "shell.execute_reply": "2024-10-07T16:26:06.567941Z"
    },
    "papermill": {
     "duration": 2.16327,
     "end_time": "2024-10-07T16:26:06.571930",
     "exception": false,
     "start_time": "2024-10-07T16:26:04.408660",
     "status": "completed"
    },
    "tags": []
   },
   "outputs": [
    {
     "name": "stdout",
     "output_type": "stream",
     "text": [
      "[LightGBM] [Info] Number of positive: 4661, number of negative: 4662\n",
      "[LightGBM] [Info] Auto-choosing row-wise multi-threading, the overhead of testing was 0.003437 seconds.\n",
      "You can set `force_row_wise=true` to remove the overhead.\n",
      "And if memory is not enough, you can set `force_col_wise=true`.\n",
      "[LightGBM] [Info] Total Bins 948\n",
      "[LightGBM] [Info] Number of data points in the train set: 9323, number of used features: 49\n",
      "[LightGBM] [Info] [binary:BoostFromScore]: pavg=0.499946 -> initscore=-0.000215\n",
      "[LightGBM] [Info] Start training from score -0.000215\n",
      " Score 0.8421278421278421\n",
      "xbst f1_score  0.8418454410489457\n",
      "Classification Report\n",
      "              precision    recall  f1-score   support\n",
      "\n",
      "           0       0.87      0.80      0.84      1165\n",
      "           1       0.82      0.88      0.85      1166\n",
      "\n",
      "    accuracy                           0.84      2331\n",
      "   macro avg       0.84      0.84      0.84      2331\n",
      "weighted avg       0.84      0.84      0.84      2331\n",
      "\n",
      "Confusion Matrix\n"
     ]
    },
    {
     "data": {
      "text/plain": [
       "<sklearn.metrics._plot.confusion_matrix.ConfusionMatrixDisplay at 0x7b9fa66074c0>"
      ]
     },
     "execution_count": 44,
     "metadata": {},
     "output_type": "execute_result"
    },
    {
     "data": {
      "image/png": "[encoded data removed]",
      "text/plain": [
       "<Figure size 640x480 with 2 Axes>"
      ]
     },
     "metadata": {},
     "output_type": "display_data"
    }
   ],
   "source": [
    "from lightgbm import LGBMClassifier \n",
    "ytrain_numeric = ytrain.map({'yes': 1, 'no': 0})\n",
    "ytest_numeric = ytest.map({'yes': 1, 'no': 0})\n",
    "\n",
    "lightt = LGBMClassifier(metric='f1_score')\n",
    "\n",
    "light=Pipeline(steps=[('col_transformer',col_transformer),('light',lightt)])\n",
    "\n",
    "light.fit(xtrain, ytrain_numeric)\n",
    "ypred_light = light.predict(xtest)\n",
    "\n",
    "\n",
    "\n",
    "print(   ' Score'   ,  light.score(xtest,ytest_numeric)  )\n",
    "\n",
    "print(   'xbst f1_score '  ,     f1_score(ytest_numeric, ypred_light  , average='weighted')    )\n",
    "\n",
    "print('Classification Report' )\n",
    "\n",
    "print(classification_report(ytest_numeric ,ypred_light ))\n",
    "\n",
    "print('Confusion Matrix')\n",
    "ConfusionMatrixDisplay.from_estimator(light,xtest,ytest_numeric)\n"
   ]
  },
  {
   "cell_type": "code",
   "execution_count": 45,
   "id": "ded71e00",
   "metadata": {
    "execution": {
     "iopub.execute_input": "2024-10-07T16:26:06.633690Z",
     "iopub.status.busy": "2024-10-07T16:26:06.633071Z",
     "iopub.status.idle": "2024-10-07T16:26:07.999636Z",
     "shell.execute_reply": "2024-10-07T16:26:07.998569Z"
    },
    "papermill": {
     "duration": 1.400025,
     "end_time": "2024-10-07T16:26:08.002107",
     "exception": false,
     "start_time": "2024-10-07T16:26:06.602082",
     "status": "completed"
    },
    "tags": []
   },
   "outputs": [
    {
     "name": "stdout",
     "output_type": "stream",
     "text": [
      "xbst Score 0.842985842985843\n",
      "xbst f1_score  0.8426192598055307\n",
      "Classification Report\n",
      "              precision    recall  f1-score   support\n",
      "\n",
      "           0       0.88      0.79      0.83      1165\n",
      "           1       0.81      0.89      0.85      1166\n",
      "\n",
      "    accuracy                           0.84      2331\n",
      "   macro avg       0.85      0.84      0.84      2331\n",
      "weighted avg       0.85      0.84      0.84      2331\n",
      "\n",
      "Confusion Matrix\n"
     ]
    },
    {
     "data": {
      "text/plain": [
       "<sklearn.metrics._plot.confusion_matrix.ConfusionMatrixDisplay at 0x7b9fa4e46560>"
      ]
     },
     "execution_count": 45,
     "metadata": {},
     "output_type": "execute_result"
    },
    {
     "data": {
      "image/png": "[encoded data removed]",
      "text/plain": [
       "<Figure size 640x480 with 2 Axes>"
      ]
     },
     "metadata": {},
     "output_type": "display_data"
    }
   ],
   "source": [
    "from xgboost import XGBClassifier\n",
    "\n",
    "from sklearn.svm import SVC \n",
    "\n",
    "\n",
    "bst = XGBClassifier(use_label_encoder=False, eval_metric='logloss' , subsample=1 ,learning_rate=0.1)\n",
    "\n",
    "ytrain_numeric = ytrain.map({'yes': 1, 'no': 0})\n",
    "ytest_numeric = ytest.map({'yes': 1, 'no': 0})\n",
    "\n",
    "xbst=Pipeline(steps=[('col_transformer',col_transformer),('bst',bst)])\n",
    "\n",
    "xbst.fit(xtrain, ytrain_numeric)\n",
    "\n",
    "ypredicted_xbst=xbst.predict(xtest)\n",
    "\n",
    "print(   'xbst Score'   ,  xbst.score(xtest,ytest_numeric)  )\n",
    "\n",
    "print(   'xbst f1_score '  ,     f1_score(ytest_numeric, ypredicted_xbst  , average='weighted')    )\n",
    "\n",
    "print('Classification Report' )\n",
    "\n",
    "print(classification_report(ytest_numeric ,ypredicted_xbst ))\n",
    "\n",
    "print('Confusion Matrix')\n",
    "ConfusionMatrixDisplay.from_estimator(xbst,xtest,ytest_numeric)"
   ]
  },
  {
   "cell_type": "code",
   "execution_count": 46,
   "id": "0d2f8bfa",
   "metadata": {
    "execution": {
     "iopub.execute_input": "2024-10-07T16:26:08.065878Z",
     "iopub.status.busy": "2024-10-07T16:26:08.065399Z",
     "iopub.status.idle": "2024-10-07T16:26:15.169126Z",
     "shell.execute_reply": "2024-10-07T16:26:15.167971Z"
    },
    "papermill": {
     "duration": 7.137938,
     "end_time": "2024-10-07T16:26:15.171559",
     "exception": false,
     "start_time": "2024-10-07T16:26:08.033621",
     "status": "completed"
    },
    "tags": []
   },
   "outputs": [
    {
     "name": "stdout",
     "output_type": "stream",
     "text": [
      "svc Score 0.8361218361218361\n",
      "svc f1_score  0.8361218361218361\n",
      "Classification Report               precision    recall  f1-score   support\n",
      "\n",
      "          no       0.84      0.84      0.84      1165\n",
      "         yes       0.84      0.84      0.84      1166\n",
      "\n",
      "    accuracy                           0.84      2331\n",
      "   macro avg       0.84      0.84      0.84      2331\n",
      "weighted avg       0.84      0.84      0.84      2331\n",
      "\n",
      "Confusion Matrix\n"
     ]
    },
    {
     "data": {
      "text/plain": [
       "<sklearn.metrics._plot.confusion_matrix.ConfusionMatrixDisplay at 0x7b9fa60a7f40>"
      ]
     },
     "execution_count": 46,
     "metadata": {},
     "output_type": "execute_result"
    },
    {
     "data": {
      "image/png": "[encoded data removed]",
      "text/plain": [
       "<Figure size 640x480 with 2 Axes>"
      ]
     },
     "metadata": {},
     "output_type": "display_data"
    }
   ],
   "source": [
    "from sklearn.svm import SVC \n",
    "\n",
    "# svc=SVC(random_state=1 , class_weight='balanced' , C=10 )\n",
    "\n",
    "svc=Pipeline(steps=[('col_transformer',col_transformer),('svc',SVC(random_state=1 , class_weight='balanced' ,C=10))])\n",
    "\n",
    "svc.fit(xtrain, ytrain)\n",
    "\n",
    "ypredicted_svc=svc.predict(xtest)\n",
    "\n",
    "print(   'svc Score'   ,  svc.score(xtest,ytest)  )\n",
    "\n",
    "print(   'svc f1_score '  ,     f1_score(ytest, ypredicted_svc  , average='weighted')    )\n",
    "\n",
    "\n",
    "print('Classification Report' ,classification_report(ytest ,ypredicted_svc ) )\n",
    "\n",
    "print('Confusion Matrix')\n",
    "ConfusionMatrixDisplay.from_estimator(svc,xtest,ytest)"
   ]
  },
  {
   "cell_type": "code",
   "execution_count": 47,
   "id": "23be5006",
   "metadata": {
    "execution": {
     "iopub.execute_input": "2024-10-07T16:26:15.235485Z",
     "iopub.status.busy": "2024-10-07T16:26:15.235036Z",
     "iopub.status.idle": "2024-10-07T16:26:15.240627Z",
     "shell.execute_reply": "2024-10-07T16:26:15.239495Z"
    },
    "papermill": {
     "duration": 0.040133,
     "end_time": "2024-10-07T16:26:15.242922",
     "exception": false,
     "start_time": "2024-10-07T16:26:15.202789",
     "status": "completed"
    },
    "tags": []
   },
   "outputs": [],
   "source": [
    "# from sklearn.model_selection import GridSearchCV\n",
    "\n",
    "# svc=Pipeline(steps=[('col_transformer',col_transformer),('svc',SVC(random_state=1 , class_weight='balanced'))])\n",
    "# param_grid = {'svc__C': [0.1, 1, 10] }\n",
    "\n",
    "# cv = StratifiedKFold(n_splits=5, shuffle=True, random_state=42)\n",
    "\n",
    "# svc_grid = GridSearchCV(svc, param_grid, scoring='f1_weighted', cv=cv)\n",
    "\n",
    "# svc_grid.fit(xtrain, ytrain)\n",
    "\n",
    "# ypred_svc_grid=svc_grid.predict(xtest)\n",
    "\n",
    "\n",
    "\n",
    "# print(   'svc_grid Score'   ,  svc_grid.score(xtest,ytest)  )\n",
    "\n",
    "\n",
    "# print(   'svc_grid f1_score '  ,     f1_score(ytest, ypred_svc_grid  , average='weighted')    )\n",
    "\n",
    "\n",
    "\n",
    "# print('Classification Report' )\n",
    "# print(classification_report(ytest ,ypred_svc_grid ) )\n",
    "\n",
    "# print('Confusion Matrix')\n",
    "# ConfusionMatrixDisplay.from_estimator(svc_grid,xtest,ytest)"
   ]
  },
  {
   "cell_type": "code",
   "execution_count": 48,
   "id": "db9097f2",
   "metadata": {
    "execution": {
     "iopub.execute_input": "2024-10-07T16:26:15.306394Z",
     "iopub.status.busy": "2024-10-07T16:26:15.305595Z",
     "iopub.status.idle": "2024-10-07T16:26:15.310616Z",
     "shell.execute_reply": "2024-10-07T16:26:15.309509Z"
    },
    "papermill": {
     "duration": 0.039192,
     "end_time": "2024-10-07T16:26:15.312939",
     "exception": false,
     "start_time": "2024-10-07T16:26:15.273747",
     "status": "completed"
    },
    "tags": []
   },
   "outputs": [],
   "source": [
    "from xgboost import XGBClassifier\n",
    "\n"
   ]
  },
  {
   "cell_type": "code",
   "execution_count": 49,
   "id": "d02fbd28",
   "metadata": {
    "execution": {
     "iopub.execute_input": "2024-10-07T16:26:15.376860Z",
     "iopub.status.busy": "2024-10-07T16:26:15.375934Z",
     "iopub.status.idle": "2024-10-07T16:26:15.381396Z",
     "shell.execute_reply": "2024-10-07T16:26:15.380309Z"
    },
    "papermill": {
     "duration": 0.040078,
     "end_time": "2024-10-07T16:26:15.383866",
     "exception": false,
     "start_time": "2024-10-07T16:26:15.343788",
     "status": "completed"
    },
    "tags": []
   },
   "outputs": [],
   "source": [
    "# from sklearn.ensemble import GradientBoostingClassifier\n",
    "\n",
    "# gradientBoostingClassifier=Pipeline([('col_transformer',col_transformer),('GradientBoostingClassifier',GradientBoostingClassifier(random_state=1))])\n",
    "# gradientBoostingClassifier.fit(xtrain, ytrain)\n",
    "\n",
    "# ypredicted_gb=gradientBoostingClassifier.predict(xtest)\n",
    "\n",
    "# print(   'gradientBoostingClassifier Score'   ,  gradientBoostingClassifier.score(xtest,ytest)  )\n",
    "\n",
    "\n",
    "# print(   'gradientBoostingClassifier f1_score '  ,     f1_score(ytest, ypredicted_gb  , average='weighted')    )\n",
    "\n",
    "\n",
    "# print('Classification Report')\n",
    "\n",
    "# print(classification_report(ytest ,ypredicted_gb))\n",
    "\n",
    "# print('Confusion Matrix')\n",
    "\n",
    "# ConfusionMatrixDisplay.from_estimator(gradientBoostingClassifier,xtest,ytest)\n",
    "\n"
   ]
  },
  {
   "cell_type": "code",
   "execution_count": 50,
   "id": "60d231fd",
   "metadata": {
    "execution": {
     "iopub.execute_input": "2024-10-07T16:26:15.447943Z",
     "iopub.status.busy": "2024-10-07T16:26:15.446908Z",
     "iopub.status.idle": "2024-10-07T16:26:15.453021Z",
     "shell.execute_reply": "2024-10-07T16:26:15.451917Z"
    },
    "papermill": {
     "duration": 0.040878,
     "end_time": "2024-10-07T16:26:15.455592",
     "exception": false,
     "start_time": "2024-10-07T16:26:15.414714",
     "status": "completed"
    },
    "tags": []
   },
   "outputs": [],
   "source": [
    "# from sklearn.ensemble import RandomForestClassifier\n",
    "\n",
    "# # randomForestClassifier=Pipeline([('col_transformer',col_transformer),('randomForest',RandomForestClassifier(random_state=1))])\n",
    "# rf=RandomForestClassifier(random_state=1 , n_estimators=100, max_depth=10 , min_samples_split=3 , min_samples_leaf=3)\n",
    "# randomForestClassifier=Pipeline([('col_transformer',col_transformer),('randomForest',rf)])\n",
    "\n",
    "# randomForestClassifier.fit(xtrain, ytrain)\n",
    "\n",
    "# ypredicted_rf=randomForestClassifier.predict(xtest)\n",
    "\n",
    "# print(   'randomForestClassifier Score'   ,  randomForestClassifier.score(xtest,ytest)  )\n",
    "\n",
    "\n",
    "# print(   'randomForestClassifier f1_score '  ,     f1_score(ytest, ypredicted_rf  , average='weighted')    )\n",
    "\n",
    "# print('Classification Report')\n",
    "\n",
    "# print(classification_report(ytest ,ypredicted_rf))\n",
    "\n",
    "# print('Confusion Matrix')\n",
    "\n",
    "# ConfusionMatrixDisplay.from_estimator(randomForestClassifier,xtest,ytest)\n"
   ]
  },
  {
   "cell_type": "code",
   "execution_count": 51,
   "id": "a8fdbf1e",
   "metadata": {
    "execution": {
     "iopub.execute_input": "2024-10-07T16:26:15.519130Z",
     "iopub.status.busy": "2024-10-07T16:26:15.518541Z",
     "iopub.status.idle": "2024-10-07T16:26:15.523707Z",
     "shell.execute_reply": "2024-10-07T16:26:15.522640Z"
    },
    "papermill": {
     "duration": 0.039453,
     "end_time": "2024-10-07T16:26:15.525980",
     "exception": false,
     "start_time": "2024-10-07T16:26:15.486527",
     "status": "completed"
    },
    "tags": []
   },
   "outputs": [],
   "source": [
    "# from sklearn.model_selection import cross_val_score\n",
    "# from sklearn.model_selection import StratifiedKFold\n",
    "# from sklearn.metrics import make_scorer, f1_score\n",
    "\n",
    "# f1_scorer = make_scorer(f1_score, pos_label='yes')\n",
    "\n",
    "\n",
    "# cv = StratifiedKFold(n_splits=5)\n",
    "# scores = cross_val_score(randomForestClassifier, xtrain, ytrain, cv=cv, scoring=f1_scorer)\n",
    "# scores\n"
   ]
  },
  {
   "cell_type": "code",
   "execution_count": 52,
   "id": "379aca65",
   "metadata": {
    "execution": {
     "iopub.execute_input": "2024-10-07T16:26:15.590257Z",
     "iopub.status.busy": "2024-10-07T16:26:15.589405Z",
     "iopub.status.idle": "2024-10-07T16:26:15.595375Z",
     "shell.execute_reply": "2024-10-07T16:26:15.594313Z"
    },
    "papermill": {
     "duration": 0.040573,
     "end_time": "2024-10-07T16:26:15.597571",
     "exception": false,
     "start_time": "2024-10-07T16:26:15.556998",
     "status": "completed"
    },
    "tags": []
   },
   "outputs": [],
   "source": [
    "# from sklearn.ensemble import VotingClassifier\n",
    "# from sklearn.svm import SVC\n",
    "# from sklearn.ensemble import RandomForestClassifier\n",
    "# from sklearn.linear_model import LogisticRegression\n",
    "# from sklearn.preprocessing import FunctionTransformer\n",
    "\n",
    "# msvc_model = SVC(probability=True, random_state=1, class_weight='balanced',C=10)\n",
    "# rf_model = RandomForestClassifier(n_estimators=100, random_state=42)\n",
    "# # lr_model = LogisticRegression(max_iter=1000)\n",
    "# xbstt=xbst\n",
    "\n",
    "\n",
    "# def to_dataframe(X):\n",
    "#     return pd.DataFrame(X)\n",
    "\n",
    "# voting = VotingClassifier(estimators=[\n",
    "#     ('svc', msvc_model), \n",
    "#     ('rf', rf_model), \n",
    "#     ('xbstt', xbstt)\n",
    "# ], voting='soft') \n",
    "\n",
    "\n",
    "\n",
    "\n",
    "# voting_clf=Pipeline([('col_transformer',col_transformer), ('to_dataframe', FunctionTransformer(to_dataframe, validate=False)),('voting',voting)])\n",
    "\n",
    "\n",
    "\n",
    "# voting_clf.fit(xtrain, ytrain)\n",
    "\n",
    "# ypredicted_voting=voting_clf.predict(xtest)\n",
    "\n",
    "# print(   'VotingClassifier Score'   ,  voting_clf.score(xtest,ytest)  )\n",
    "\n",
    "\n",
    "# print(   'VotingClassifier f1_score '  ,     f1_score(ytest, ypredicted_voting  , average='weighted')    )\n",
    "\n",
    "# print('Classification Report')\n",
    "\n",
    "# print(classification_report(ytest ,ypredicted_rf))\n",
    "\n",
    "# print('Confusion Matrix')\n",
    "\n",
    "# ConfusionMatrixDisplay.from_estimator(voting_clf,xtest,ytest)\n",
    "\n"
   ]
  },
  {
   "cell_type": "code",
   "execution_count": 53,
   "id": "cc6c5d96",
   "metadata": {
    "execution": {
     "iopub.execute_input": "2024-10-07T16:26:15.661416Z",
     "iopub.status.busy": "2024-10-07T16:26:15.660574Z",
     "iopub.status.idle": "2024-10-07T16:26:15.683369Z",
     "shell.execute_reply": "2024-10-07T16:26:15.682278Z"
    },
    "papermill": {
     "duration": 0.057301,
     "end_time": "2024-10-07T16:26:15.685783",
     "exception": false,
     "start_time": "2024-10-07T16:26:15.628482",
     "status": "completed"
    },
    "tags": []
   },
   "outputs": [
    {
     "data": {
      "text/html": [
       "<div>\n",
       "<style scoped>\n",
       "    .dataframe tbody tr th:only-of-type {\n",
       "        vertical-align: middle;\n",
       "    }\n",
       "\n",
       "    .dataframe tbody tr th {\n",
       "        vertical-align: top;\n",
       "    }\n",
       "\n",
       "    .dataframe thead th {\n",
       "        text-align: right;\n",
       "    }\n",
       "</style>\n",
       "<table border=\"1\" class=\"dataframe\">\n",
       "  <thead>\n",
       "    <tr style=\"text-align: right;\">\n",
       "      <th></th>\n",
       "      <th>age</th>\n",
       "      <th>balance</th>\n",
       "      <th>campaign</th>\n",
       "      <th>previous</th>\n",
       "      <th>duration</th>\n",
       "      <th>job</th>\n",
       "      <th>marital</th>\n",
       "      <th>poutcome</th>\n",
       "      <th>education</th>\n",
       "      <th>previously_contacted</th>\n",
       "      <th>default</th>\n",
       "      <th>housing</th>\n",
       "      <th>loan</th>\n",
       "      <th>contact</th>\n",
       "      <th>Age_Category</th>\n",
       "      <th>day</th>\n",
       "      <th>month</th>\n",
       "      <th>isSunday</th>\n",
       "    </tr>\n",
       "  </thead>\n",
       "  <tbody>\n",
       "    <tr>\n",
       "      <th>0</th>\n",
       "      <td>36</td>\n",
       "      <td>7</td>\n",
       "      <td>1</td>\n",
       "      <td>0</td>\n",
       "      <td>20</td>\n",
       "      <td>management</td>\n",
       "      <td>single</td>\n",
       "      <td>failure</td>\n",
       "      <td>tertiary</td>\n",
       "      <td>0</td>\n",
       "      <td>0</td>\n",
       "      <td>0</td>\n",
       "      <td>0</td>\n",
       "      <td>1</td>\n",
       "      <td>young</td>\n",
       "      <td>5</td>\n",
       "      <td>11</td>\n",
       "      <td>0</td>\n",
       "    </tr>\n",
       "    <tr>\n",
       "      <th>1</th>\n",
       "      <td>30</td>\n",
       "      <td>1067</td>\n",
       "      <td>2</td>\n",
       "      <td>0</td>\n",
       "      <td>78</td>\n",
       "      <td>unemployed</td>\n",
       "      <td>married</td>\n",
       "      <td>failure</td>\n",
       "      <td>tertiary</td>\n",
       "      <td>0</td>\n",
       "      <td>0</td>\n",
       "      <td>0</td>\n",
       "      <td>0</td>\n",
       "      <td>1</td>\n",
       "      <td>young</td>\n",
       "      <td>3</td>\n",
       "      <td>2</td>\n",
       "      <td>0</td>\n",
       "    </tr>\n",
       "    <tr>\n",
       "      <th>2</th>\n",
       "      <td>32</td>\n",
       "      <td>82</td>\n",
       "      <td>4</td>\n",
       "      <td>0</td>\n",
       "      <td>86</td>\n",
       "      <td>blue-collar</td>\n",
       "      <td>single</td>\n",
       "      <td>failure</td>\n",
       "      <td>secondary</td>\n",
       "      <td>0</td>\n",
       "      <td>0</td>\n",
       "      <td>1</td>\n",
       "      <td>0</td>\n",
       "      <td>1</td>\n",
       "      <td>young</td>\n",
       "      <td>2</td>\n",
       "      <td>7</td>\n",
       "      <td>0</td>\n",
       "    </tr>\n",
       "    <tr>\n",
       "      <th>3</th>\n",
       "      <td>38</td>\n",
       "      <td>1487</td>\n",
       "      <td>2</td>\n",
       "      <td>0</td>\n",
       "      <td>332</td>\n",
       "      <td>admin.</td>\n",
       "      <td>married</td>\n",
       "      <td>failure</td>\n",
       "      <td>primary</td>\n",
       "      <td>0</td>\n",
       "      <td>0</td>\n",
       "      <td>0</td>\n",
       "      <td>0</td>\n",
       "      <td>1</td>\n",
       "      <td>young</td>\n",
       "      <td>2</td>\n",
       "      <td>6</td>\n",
       "      <td>0</td>\n",
       "    </tr>\n",
       "    <tr>\n",
       "      <th>4</th>\n",
       "      <td>59</td>\n",
       "      <td>315</td>\n",
       "      <td>1</td>\n",
       "      <td>2</td>\n",
       "      <td>591</td>\n",
       "      <td>management</td>\n",
       "      <td>married</td>\n",
       "      <td>failure</td>\n",
       "      <td>tertiary</td>\n",
       "      <td>1</td>\n",
       "      <td>0</td>\n",
       "      <td>0</td>\n",
       "      <td>0</td>\n",
       "      <td>1</td>\n",
       "      <td>middle</td>\n",
       "      <td>6</td>\n",
       "      <td>3</td>\n",
       "      <td>0</td>\n",
       "    </tr>\n",
       "    <tr>\n",
       "      <th>...</th>\n",
       "      <td>...</td>\n",
       "      <td>...</td>\n",
       "      <td>...</td>\n",
       "      <td>...</td>\n",
       "      <td>...</td>\n",
       "      <td>...</td>\n",
       "      <td>...</td>\n",
       "      <td>...</td>\n",
       "      <td>...</td>\n",
       "      <td>...</td>\n",
       "      <td>...</td>\n",
       "      <td>...</td>\n",
       "      <td>...</td>\n",
       "      <td>...</td>\n",
       "      <td>...</td>\n",
       "      <td>...</td>\n",
       "      <td>...</td>\n",
       "      <td>...</td>\n",
       "    </tr>\n",
       "    <tr>\n",
       "      <th>9995</th>\n",
       "      <td>38</td>\n",
       "      <td>8953</td>\n",
       "      <td>1</td>\n",
       "      <td>0</td>\n",
       "      <td>301</td>\n",
       "      <td>management</td>\n",
       "      <td>single</td>\n",
       "      <td>failure</td>\n",
       "      <td>tertiary</td>\n",
       "      <td>0</td>\n",
       "      <td>0</td>\n",
       "      <td>0</td>\n",
       "      <td>1</td>\n",
       "      <td>1</td>\n",
       "      <td>young</td>\n",
       "      <td>5</td>\n",
       "      <td>11</td>\n",
       "      <td>0</td>\n",
       "    </tr>\n",
       "    <tr>\n",
       "      <th>9996</th>\n",
       "      <td>26</td>\n",
       "      <td>317</td>\n",
       "      <td>1</td>\n",
       "      <td>0</td>\n",
       "      <td>953</td>\n",
       "      <td>admin.</td>\n",
       "      <td>single</td>\n",
       "      <td>failure</td>\n",
       "      <td>secondary</td>\n",
       "      <td>0</td>\n",
       "      <td>0</td>\n",
       "      <td>1</td>\n",
       "      <td>0</td>\n",
       "      <td>1</td>\n",
       "      <td>young</td>\n",
       "      <td>2</td>\n",
       "      <td>6</td>\n",
       "      <td>0</td>\n",
       "    </tr>\n",
       "    <tr>\n",
       "      <th>9997</th>\n",
       "      <td>26</td>\n",
       "      <td>181</td>\n",
       "      <td>2</td>\n",
       "      <td>0</td>\n",
       "      <td>158</td>\n",
       "      <td>technician</td>\n",
       "      <td>single</td>\n",
       "      <td>failure</td>\n",
       "      <td>secondary</td>\n",
       "      <td>0</td>\n",
       "      <td>0</td>\n",
       "      <td>0</td>\n",
       "      <td>0</td>\n",
       "      <td>1</td>\n",
       "      <td>young</td>\n",
       "      <td>1</td>\n",
       "      <td>4</td>\n",
       "      <td>1</td>\n",
       "    </tr>\n",
       "    <tr>\n",
       "      <th>9998</th>\n",
       "      <td>32</td>\n",
       "      <td>312</td>\n",
       "      <td>2</td>\n",
       "      <td>0</td>\n",
       "      <td>232</td>\n",
       "      <td>management</td>\n",
       "      <td>single</td>\n",
       "      <td>failure</td>\n",
       "      <td>tertiary</td>\n",
       "      <td>0</td>\n",
       "      <td>0</td>\n",
       "      <td>0</td>\n",
       "      <td>0</td>\n",
       "      <td>1</td>\n",
       "      <td>young</td>\n",
       "      <td>2</td>\n",
       "      <td>2</td>\n",
       "      <td>0</td>\n",
       "    </tr>\n",
       "    <tr>\n",
       "      <th>9999</th>\n",
       "      <td>38</td>\n",
       "      <td>823</td>\n",
       "      <td>5</td>\n",
       "      <td>0</td>\n",
       "      <td>132</td>\n",
       "      <td>services</td>\n",
       "      <td>married</td>\n",
       "      <td>failure</td>\n",
       "      <td>secondary</td>\n",
       "      <td>0</td>\n",
       "      <td>0</td>\n",
       "      <td>1</td>\n",
       "      <td>0</td>\n",
       "      <td>1</td>\n",
       "      <td>young</td>\n",
       "      <td>2</td>\n",
       "      <td>6</td>\n",
       "      <td>0</td>\n",
       "    </tr>\n",
       "  </tbody>\n",
       "</table>\n",
       "<p>10000 rows × 18 columns</p>\n",
       "</div>"
      ],
      "text/plain": [
       "      age  balance  campaign  previous  duration          job  marital  \\\n",
       "0      36        7         1         0        20   management   single   \n",
       "1      30     1067         2         0        78   unemployed  married   \n",
       "2      32       82         4         0        86  blue-collar   single   \n",
       "3      38     1487         2         0       332       admin.  married   \n",
       "4      59      315         1         2       591   management  married   \n",
       "...   ...      ...       ...       ...       ...          ...      ...   \n",
       "9995   38     8953         1         0       301   management   single   \n",
       "9996   26      317         1         0       953       admin.   single   \n",
       "9997   26      181         2         0       158   technician   single   \n",
       "9998   32      312         2         0       232   management   single   \n",
       "9999   38      823         5         0       132     services  married   \n",
       "\n",
       "     poutcome  education  previously_contacted  default  housing  loan  \\\n",
       "0     failure   tertiary                     0        0        0     0   \n",
       "1     failure   tertiary                     0        0        0     0   \n",
       "2     failure  secondary                     0        0        1     0   \n",
       "3     failure    primary                     0        0        0     0   \n",
       "4     failure   tertiary                     1        0        0     0   \n",
       "...       ...        ...                   ...      ...      ...   ...   \n",
       "9995  failure   tertiary                     0        0        0     1   \n",
       "9996  failure  secondary                     0        0        1     0   \n",
       "9997  failure  secondary                     0        0        0     0   \n",
       "9998  failure   tertiary                     0        0        0     0   \n",
       "9999  failure  secondary                     0        0        1     0   \n",
       "\n",
       "      contact Age_Category  day  month  isSunday  \n",
       "0           1        young    5     11         0  \n",
       "1           1        young    3      2         0  \n",
       "2           1        young    2      7         0  \n",
       "3           1        young    2      6         0  \n",
       "4           1       middle    6      3         0  \n",
       "...       ...          ...  ...    ...       ...  \n",
       "9995        1        young    5     11         0  \n",
       "9996        1        young    2      6         0  \n",
       "9997        1        young    1      4         1  \n",
       "9998        1        young    2      2         0  \n",
       "9999        1        young    2      6         0  \n",
       "\n",
       "[10000 rows x 18 columns]"
      ]
     },
     "execution_count": 53,
     "metadata": {},
     "output_type": "execute_result"
    }
   ],
   "source": [
    "test"
   ]
  },
  {
   "cell_type": "code",
   "execution_count": 54,
   "id": "b113cc6c",
   "metadata": {
    "execution": {
     "iopub.execute_input": "2024-10-07T16:26:15.750321Z",
     "iopub.status.busy": "2024-10-07T16:26:15.749515Z",
     "iopub.status.idle": "2024-10-07T16:26:15.880406Z",
     "shell.execute_reply": "2024-10-07T16:26:15.879234Z"
    },
    "papermill": {
     "duration": 0.166221,
     "end_time": "2024-10-07T16:26:15.883303",
     "exception": false,
     "start_time": "2024-10-07T16:26:15.717082",
     "status": "completed"
    },
    "tags": []
   },
   "outputs": [],
   "source": [
    "y_pred_submission=light.predict(test)\n",
    "ypred_submission_final = pd.Series(y_pred_submission).replace({0: 'no', 1: 'yes'})\n",
    "\n",
    "submission=pd.DataFrame({'id': np.arange(0,len(test)), 'target': ypred_submission_final})\n",
    "\n",
    "submission.to_csv('submission.csv',index=False)"
   ]
  },
  {
   "cell_type": "code",
   "execution_count": null,
   "id": "1e25d7d5",
   "metadata": {
    "papermill": {
     "duration": 0.030885,
     "end_time": "2024-10-07T16:26:15.946446",
     "exception": false,
     "start_time": "2024-10-07T16:26:15.915561",
     "status": "completed"
    },
    "tags": []
   },
   "outputs": [],
   "source": []
  },
  {
   "cell_type": "code",
   "execution_count": null,
   "id": "ae69608b",
   "metadata": {
    "papermill": {
     "duration": 0.030971,
     "end_time": "2024-10-07T16:26:16.008643",
     "exception": false,
     "start_time": "2024-10-07T16:26:15.977672",
     "status": "completed"
    },
    "tags": []
   },
   "outputs": [],
   "source": []
  },
  {
   "cell_type": "code",
   "execution_count": null,
   "id": "8c18895a",
   "metadata": {
    "papermill": {
     "duration": 0.030741,
     "end_time": "2024-10-07T16:26:16.070678",
     "exception": false,
     "start_time": "2024-10-07T16:26:16.039937",
     "status": "completed"
    },
    "tags": []
   },
   "outputs": [],
   "source": []
  },
  {
   "cell_type": "code",
   "execution_count": null,
   "id": "7941d417",
   "metadata": {
    "papermill": {
     "duration": 0.031213,
     "end_time": "2024-10-07T16:26:16.133983",
     "exception": false,
     "start_time": "2024-10-07T16:26:16.102770",
     "status": "completed"
    },
    "tags": []
   },
   "outputs": [],
   "source": []
  },
  {
   "cell_type": "code",
   "execution_count": null,
   "id": "b84570c7",
   "metadata": {
    "papermill": {
     "duration": 0.031366,
     "end_time": "2024-10-07T16:26:16.197046",
     "exception": false,
     "start_time": "2024-10-07T16:26:16.165680",
     "status": "completed"
    },
    "tags": []
   },
   "outputs": [],
   "source": []
  },
  {
   "cell_type": "code",
   "execution_count": null,
   "id": "89225c94",
   "metadata": {
    "papermill": {
     "duration": 0.031241,
     "end_time": "2024-10-07T16:26:16.259790",
     "exception": false,
     "start_time": "2024-10-07T16:26:16.228549",
     "status": "completed"
    },
    "tags": []
   },
   "outputs": [],
   "source": []
  },
  {
   "cell_type": "code",
   "execution_count": null,
   "id": "1bc3b2e2",
   "metadata": {
    "papermill": {
     "duration": 0.031118,
     "end_time": "2024-10-07T16:26:16.322736",
     "exception": false,
     "start_time": "2024-10-07T16:26:16.291618",
     "status": "completed"
    },
    "tags": []
   },
   "outputs": [],
   "source": []
  }
 ],
 "metadata": {
  "kaggle": {
   "accelerator": "none",
   "dataSources": [
    {
     "databundleVersionId": 9578279,
     "sourceId": 85062,
     "sourceType": "competition"
    }
   ],
   "dockerImageVersionId": 30761,
   "isGpuEnabled": false,
   "isInternetEnabled": true,
   "language": "python",
   "sourceType": "notebook"
  },
  "kernelspec": {
   "display_name": "Python 3",
   "language": "python",
   "name": "python3"
  },
  "language_info": {
   "codemirror_mode": {
    "name": "ipython",
    "version": 3
   },
   "file_extension": ".py",
   "mimetype": "text/x-python",
   "name": "python",
   "nbconvert_exporter": "python",
   "pygments_lexer": "ipython3",
   "version": "3.10.14"
  },
  "papermill": {
   "default_parameters": {},
   "duration": 61.88333,
   "end_time": "2024-10-07T16:26:17.075680",
   "environment_variables": {},
   "exception": null,
   "input_path": "__notebook__.ipynb",
   "output_path": "__notebook__.ipynb",
   "parameters": {},
   "start_time": "2024-10-07T16:25:15.192350",
   "version": "2.6.0"
  }
 },
 "nbformat": 4,
 "nbformat_minor": 5
}

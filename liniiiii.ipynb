{
 "cells": [
  {
   "cell_type": "code",
   "execution_count": 1,
   "id": "8f9dfe1f",
   "metadata": {
    "_cell_guid": "b1076dfc-b9ad-4769-8c92-a6c4dae69d19",
    "_uuid": "8f2839f25d086af736a60e9eeb907d3b93b6e0e5",
    "execution": {
     "iopub.execute_input": "2024-09-25T11:21:48.176845Z",
     "iopub.status.busy": "2024-09-25T11:21:48.176279Z",
     "iopub.status.idle": "2024-09-25T11:21:49.138255Z",
     "shell.execute_reply": "2024-09-25T11:21:49.136830Z"
    },
    "papermill": {
     "duration": 0.981606,
     "end_time": "2024-09-25T11:21:49.140987",
     "exception": false,
     "start_time": "2024-09-25T11:21:48.159381",
     "status": "completed"
    },
    "tags": []
   },
   "outputs": [
    {
     "name": "stdout",
     "output_type": "stream",
     "text": [
      "/kaggle/input/predict-the-success-of-bank-telemarketing/sample_submission.csv\n",
      "/kaggle/input/predict-the-success-of-bank-telemarketing/train.csv\n",
      "/kaggle/input/predict-the-success-of-bank-telemarketing/test.csv\n"
     ]
    }
   ],
   "source": [
    "# This Python 3 environment comes with many helpful analytics libraries installed\n",
    "# It is defined by the kaggle/python Docker image: https://github.com/kaggle/docker-python\n",
    "# For example, here's several helpful packages to load\n",
    "\n",
    "import numpy as np # linear algebra\n",
    "import pandas as pd # data processing, CSV file I/O (e.g. pd.read_csv)\n",
    "\n",
    "# Input data files are available in the read-only \"../input/\" directory\n",
    "# For example, running this (by clicking run or pressing Shift+Enter) will list all files under the input directory\n",
    "\n",
    "import os\n",
    "for dirname, _, filenames in os.walk('/kaggle/input'):\n",
    "    for filename in filenames:\n",
    "        print(os.path.join(dirname, filename))\n",
    "\n",
    "# You can write up to 20GB to the current directory (/kaggle/working/) that gets preserved as output when you create a version using \"Save & Run All\" \n",
    "# You can also write temporary files to /kaggle/temp/, but they won't be saved outside of the current session"
   ]
  },
  {
   "cell_type": "code",
   "execution_count": 2,
   "id": "6d626997",
   "metadata": {
    "execution": {
     "iopub.execute_input": "2024-09-25T11:21:49.170821Z",
     "iopub.status.busy": "2024-09-25T11:21:49.170272Z",
     "iopub.status.idle": "2024-09-25T11:21:49.175771Z",
     "shell.execute_reply": "2024-09-25T11:21:49.174689Z"
    },
    "papermill": {
     "duration": 0.023246,
     "end_time": "2024-09-25T11:21:49.178440",
     "exception": false,
     "start_time": "2024-09-25T11:21:49.155194",
     "status": "completed"
    },
    "tags": []
   },
   "outputs": [],
   "source": [
    "import matplotlib.pyplot as plt"
   ]
  },
  {
   "cell_type": "code",
   "execution_count": 3,
   "id": "08662a88",
   "metadata": {
    "execution": {
     "iopub.execute_input": "2024-09-25T11:21:49.207531Z",
     "iopub.status.busy": "2024-09-25T11:21:49.207046Z",
     "iopub.status.idle": "2024-09-25T11:21:49.444755Z",
     "shell.execute_reply": "2024-09-25T11:21:49.443518Z"
    },
    "papermill": {
     "duration": 0.255583,
     "end_time": "2024-09-25T11:21:49.447681",
     "exception": false,
     "start_time": "2024-09-25T11:21:49.192098",
     "status": "completed"
    },
    "tags": []
   },
   "outputs": [],
   "source": [
    "train=pd.read_csv('/kaggle/input/predict-the-success-of-bank-telemarketing/train.csv')\n",
    "test=pd.read_csv('/kaggle/input/predict-the-success-of-bank-telemarketing/test.csv')\n"
   ]
  },
  {
   "cell_type": "code",
   "execution_count": 4,
   "id": "33b3703b",
   "metadata": {
    "execution": {
     "iopub.execute_input": "2024-09-25T11:21:49.477869Z",
     "iopub.status.busy": "2024-09-25T11:21:49.477442Z",
     "iopub.status.idle": "2024-09-25T11:21:49.516899Z",
     "shell.execute_reply": "2024-09-25T11:21:49.515649Z"
    },
    "papermill": {
     "duration": 0.057876,
     "end_time": "2024-09-25T11:21:49.519727",
     "exception": false,
     "start_time": "2024-09-25T11:21:49.461851",
     "status": "completed"
    },
    "tags": []
   },
   "outputs": [
    {
     "data": {
      "text/html": [
       "<div>\n",
       "<style scoped>\n",
       "    .dataframe tbody tr th:only-of-type {\n",
       "        vertical-align: middle;\n",
       "    }\n",
       "\n",
       "    .dataframe tbody tr th {\n",
       "        vertical-align: top;\n",
       "    }\n",
       "\n",
       "    .dataframe thead th {\n",
       "        text-align: right;\n",
       "    }\n",
       "</style>\n",
       "<table border=\"1\" class=\"dataframe\">\n",
       "  <thead>\n",
       "    <tr style=\"text-align: right;\">\n",
       "      <th></th>\n",
       "      <th>last contact date</th>\n",
       "      <th>age</th>\n",
       "      <th>job</th>\n",
       "      <th>marital</th>\n",
       "      <th>education</th>\n",
       "      <th>default</th>\n",
       "      <th>balance</th>\n",
       "      <th>housing</th>\n",
       "      <th>loan</th>\n",
       "      <th>contact</th>\n",
       "      <th>duration</th>\n",
       "      <th>campaign</th>\n",
       "      <th>pdays</th>\n",
       "      <th>previous</th>\n",
       "      <th>poutcome</th>\n",
       "      <th>target</th>\n",
       "    </tr>\n",
       "  </thead>\n",
       "  <tbody>\n",
       "    <tr>\n",
       "      <th>0</th>\n",
       "      <td>2009-04-17</td>\n",
       "      <td>26</td>\n",
       "      <td>blue-collar</td>\n",
       "      <td>married</td>\n",
       "      <td>secondary</td>\n",
       "      <td>no</td>\n",
       "      <td>647</td>\n",
       "      <td>yes</td>\n",
       "      <td>no</td>\n",
       "      <td>cellular</td>\n",
       "      <td>357</td>\n",
       "      <td>2</td>\n",
       "      <td>331</td>\n",
       "      <td>1</td>\n",
       "      <td>other</td>\n",
       "      <td>no</td>\n",
       "    </tr>\n",
       "    <tr>\n",
       "      <th>1</th>\n",
       "      <td>2009-10-11</td>\n",
       "      <td>52</td>\n",
       "      <td>technician</td>\n",
       "      <td>married</td>\n",
       "      <td>secondary</td>\n",
       "      <td>no</td>\n",
       "      <td>553</td>\n",
       "      <td>yes</td>\n",
       "      <td>no</td>\n",
       "      <td>telephone</td>\n",
       "      <td>160</td>\n",
       "      <td>1</td>\n",
       "      <td>-1</td>\n",
       "      <td>0</td>\n",
       "      <td>NaN</td>\n",
       "      <td>no</td>\n",
       "    </tr>\n",
       "    <tr>\n",
       "      <th>2</th>\n",
       "      <td>2010-11-20</td>\n",
       "      <td>44</td>\n",
       "      <td>blue-collar</td>\n",
       "      <td>married</td>\n",
       "      <td>secondary</td>\n",
       "      <td>no</td>\n",
       "      <td>1397</td>\n",
       "      <td>no</td>\n",
       "      <td>no</td>\n",
       "      <td>cellular</td>\n",
       "      <td>326</td>\n",
       "      <td>1</td>\n",
       "      <td>-1</td>\n",
       "      <td>0</td>\n",
       "      <td>NaN</td>\n",
       "      <td>no</td>\n",
       "    </tr>\n",
       "    <tr>\n",
       "      <th>3</th>\n",
       "      <td>2009-09-01</td>\n",
       "      <td>33</td>\n",
       "      <td>admin.</td>\n",
       "      <td>married</td>\n",
       "      <td>secondary</td>\n",
       "      <td>no</td>\n",
       "      <td>394</td>\n",
       "      <td>yes</td>\n",
       "      <td>no</td>\n",
       "      <td>telephone</td>\n",
       "      <td>104</td>\n",
       "      <td>3</td>\n",
       "      <td>-1</td>\n",
       "      <td>0</td>\n",
       "      <td>NaN</td>\n",
       "      <td>no</td>\n",
       "    </tr>\n",
       "    <tr>\n",
       "      <th>4</th>\n",
       "      <td>2008-01-29</td>\n",
       "      <td>31</td>\n",
       "      <td>entrepreneur</td>\n",
       "      <td>single</td>\n",
       "      <td>tertiary</td>\n",
       "      <td>no</td>\n",
       "      <td>137</td>\n",
       "      <td>no</td>\n",
       "      <td>no</td>\n",
       "      <td>cellular</td>\n",
       "      <td>445</td>\n",
       "      <td>2</td>\n",
       "      <td>-1</td>\n",
       "      <td>0</td>\n",
       "      <td>NaN</td>\n",
       "      <td>no</td>\n",
       "    </tr>\n",
       "    <tr>\n",
       "      <th>...</th>\n",
       "      <td>...</td>\n",
       "      <td>...</td>\n",
       "      <td>...</td>\n",
       "      <td>...</td>\n",
       "      <td>...</td>\n",
       "      <td>...</td>\n",
       "      <td>...</td>\n",
       "      <td>...</td>\n",
       "      <td>...</td>\n",
       "      <td>...</td>\n",
       "      <td>...</td>\n",
       "      <td>...</td>\n",
       "      <td>...</td>\n",
       "      <td>...</td>\n",
       "      <td>...</td>\n",
       "      <td>...</td>\n",
       "    </tr>\n",
       "    <tr>\n",
       "      <th>39206</th>\n",
       "      <td>2008-07-31</td>\n",
       "      <td>31</td>\n",
       "      <td>technician</td>\n",
       "      <td>single</td>\n",
       "      <td>secondary</td>\n",
       "      <td>no</td>\n",
       "      <td>0</td>\n",
       "      <td>yes</td>\n",
       "      <td>no</td>\n",
       "      <td>cellular</td>\n",
       "      <td>16</td>\n",
       "      <td>34</td>\n",
       "      <td>-1</td>\n",
       "      <td>0</td>\n",
       "      <td>NaN</td>\n",
       "      <td>no</td>\n",
       "    </tr>\n",
       "    <tr>\n",
       "      <th>39207</th>\n",
       "      <td>2009-07-31</td>\n",
       "      <td>59</td>\n",
       "      <td>admin.</td>\n",
       "      <td>married</td>\n",
       "      <td>primary</td>\n",
       "      <td>no</td>\n",
       "      <td>6187</td>\n",
       "      <td>no</td>\n",
       "      <td>no</td>\n",
       "      <td>cellular</td>\n",
       "      <td>114</td>\n",
       "      <td>4</td>\n",
       "      <td>-1</td>\n",
       "      <td>0</td>\n",
       "      <td>NaN</td>\n",
       "      <td>no</td>\n",
       "    </tr>\n",
       "    <tr>\n",
       "      <th>39208</th>\n",
       "      <td>2008-06-02</td>\n",
       "      <td>36</td>\n",
       "      <td>blue-collar</td>\n",
       "      <td>married</td>\n",
       "      <td>secondary</td>\n",
       "      <td>no</td>\n",
       "      <td>63</td>\n",
       "      <td>yes</td>\n",
       "      <td>no</td>\n",
       "      <td>NaN</td>\n",
       "      <td>56</td>\n",
       "      <td>8</td>\n",
       "      <td>-1</td>\n",
       "      <td>0</td>\n",
       "      <td>NaN</td>\n",
       "      <td>no</td>\n",
       "    </tr>\n",
       "    <tr>\n",
       "      <th>39209</th>\n",
       "      <td>2010-03-20</td>\n",
       "      <td>28</td>\n",
       "      <td>student</td>\n",
       "      <td>single</td>\n",
       "      <td>secondary</td>\n",
       "      <td>no</td>\n",
       "      <td>5916</td>\n",
       "      <td>no</td>\n",
       "      <td>no</td>\n",
       "      <td>cellular</td>\n",
       "      <td>93</td>\n",
       "      <td>5</td>\n",
       "      <td>-1</td>\n",
       "      <td>0</td>\n",
       "      <td>NaN</td>\n",
       "      <td>no</td>\n",
       "    </tr>\n",
       "    <tr>\n",
       "      <th>39210</th>\n",
       "      <td>2010-03-16</td>\n",
       "      <td>51</td>\n",
       "      <td>student</td>\n",
       "      <td>divorced</td>\n",
       "      <td>tertiary</td>\n",
       "      <td>yes</td>\n",
       "      <td>38594</td>\n",
       "      <td>yes</td>\n",
       "      <td>no</td>\n",
       "      <td>cellular</td>\n",
       "      <td>1877</td>\n",
       "      <td>19</td>\n",
       "      <td>780</td>\n",
       "      <td>148</td>\n",
       "      <td>success</td>\n",
       "      <td>yes</td>\n",
       "    </tr>\n",
       "  </tbody>\n",
       "</table>\n",
       "<p>39211 rows × 16 columns</p>\n",
       "</div>"
      ],
      "text/plain": [
       "      last contact date  age           job   marital  education default  \\\n",
       "0            2009-04-17   26   blue-collar   married  secondary      no   \n",
       "1            2009-10-11   52    technician   married  secondary      no   \n",
       "2            2010-11-20   44   blue-collar   married  secondary      no   \n",
       "3            2009-09-01   33        admin.   married  secondary      no   \n",
       "4            2008-01-29   31  entrepreneur    single   tertiary      no   \n",
       "...                 ...  ...           ...       ...        ...     ...   \n",
       "39206        2008-07-31   31    technician    single  secondary      no   \n",
       "39207        2009-07-31   59        admin.   married    primary      no   \n",
       "39208        2008-06-02   36   blue-collar   married  secondary      no   \n",
       "39209        2010-03-20   28       student    single  secondary      no   \n",
       "39210        2010-03-16   51       student  divorced   tertiary     yes   \n",
       "\n",
       "       balance housing loan    contact  duration  campaign  pdays  previous  \\\n",
       "0          647     yes   no   cellular       357         2    331         1   \n",
       "1          553     yes   no  telephone       160         1     -1         0   \n",
       "2         1397      no   no   cellular       326         1     -1         0   \n",
       "3          394     yes   no  telephone       104         3     -1         0   \n",
       "4          137      no   no   cellular       445         2     -1         0   \n",
       "...        ...     ...  ...        ...       ...       ...    ...       ...   \n",
       "39206        0     yes   no   cellular        16        34     -1         0   \n",
       "39207     6187      no   no   cellular       114         4     -1         0   \n",
       "39208       63     yes   no        NaN        56         8     -1         0   \n",
       "39209     5916      no   no   cellular        93         5     -1         0   \n",
       "39210    38594     yes   no   cellular      1877        19    780       148   \n",
       "\n",
       "      poutcome target  \n",
       "0        other     no  \n",
       "1          NaN     no  \n",
       "2          NaN     no  \n",
       "3          NaN     no  \n",
       "4          NaN     no  \n",
       "...        ...    ...  \n",
       "39206      NaN     no  \n",
       "39207      NaN     no  \n",
       "39208      NaN     no  \n",
       "39209      NaN     no  \n",
       "39210  success    yes  \n",
       "\n",
       "[39211 rows x 16 columns]"
      ]
     },
     "execution_count": 4,
     "metadata": {},
     "output_type": "execute_result"
    }
   ],
   "source": [
    "train"
   ]
  },
  {
   "cell_type": "code",
   "execution_count": 5,
   "id": "12d34d63",
   "metadata": {
    "execution": {
     "iopub.execute_input": "2024-09-25T11:21:49.550162Z",
     "iopub.status.busy": "2024-09-25T11:21:49.549714Z",
     "iopub.status.idle": "2024-09-25T11:21:49.601136Z",
     "shell.execute_reply": "2024-09-25T11:21:49.600004Z"
    },
    "papermill": {
     "duration": 0.069709,
     "end_time": "2024-09-25T11:21:49.603813",
     "exception": false,
     "start_time": "2024-09-25T11:21:49.534104",
     "status": "completed"
    },
    "tags": []
   },
   "outputs": [
    {
     "data": {
      "text/plain": [
       "last contact date        0\n",
       "age                      0\n",
       "job                    229\n",
       "marital                  0\n",
       "education             1467\n",
       "default                  0\n",
       "balance                  0\n",
       "housing                  0\n",
       "loan                     0\n",
       "contact              10336\n",
       "duration                 0\n",
       "campaign                 0\n",
       "pdays                    0\n",
       "previous                 0\n",
       "poutcome             29451\n",
       "target                   0\n",
       "dtype: int64"
      ]
     },
     "execution_count": 5,
     "metadata": {},
     "output_type": "execute_result"
    }
   ],
   "source": [
    "train.isnull().sum()"
   ]
  },
  {
   "cell_type": "markdown",
   "id": "63e39b35",
   "metadata": {
    "papermill": {
     "duration": 0.014362,
     "end_time": "2024-09-25T11:21:49.632631",
     "exception": false,
     "start_time": "2024-09-25T11:21:49.618269",
     "status": "completed"
    },
    "tags": []
   },
   "source": [
    "# Categorical Columns\n",
    "# job , martial , education , default , housing ,loan , contact , poutcome"
   ]
  },
  {
   "cell_type": "markdown",
   "id": "42502114",
   "metadata": {
    "papermill": {
     "duration": 0.013999,
     "end_time": "2024-09-25T11:21:49.660858",
     "exception": false,
     "start_time": "2024-09-25T11:21:49.646859",
     "status": "completed"
    },
    "tags": []
   },
   "source": [
    "# Job"
   ]
  },
  {
   "cell_type": "code",
   "execution_count": 6,
   "id": "a34ce828",
   "metadata": {
    "execution": {
     "iopub.execute_input": "2024-09-25T11:21:49.692754Z",
     "iopub.status.busy": "2024-09-25T11:21:49.692281Z",
     "iopub.status.idle": "2024-09-25T11:21:50.095368Z",
     "shell.execute_reply": "2024-09-25T11:21:50.094028Z"
    },
    "papermill": {
     "duration": 0.423215,
     "end_time": "2024-09-25T11:21:50.098550",
     "exception": false,
     "start_time": "2024-09-25T11:21:49.675335",
     "status": "completed"
    },
    "tags": []
   },
   "outputs": [
    {
     "name": "stdout",
     "output_type": "stream",
     "text": [
      " Number of null values :  229\n",
      "\n",
      "---------------------------------------------------------------------------\n",
      "\n",
      "Unique job :  ['blue-collar' 'technician' 'admin.' 'entrepreneur' 'unemployed'\n",
      " 'management' 'services' 'student' 'self-employed' 'retired' 'housemaid'\n",
      " nan]\n",
      "\n",
      "---------------------------------------------------------------------------\n",
      "\n",
      "job value counts:  job\n",
      "blue-collar      7776\n",
      "management       7462\n",
      "technician       6078\n",
      "admin.           4116\n",
      "services         3325\n",
      "self-employed    1862\n",
      "retired          1824\n",
      "entrepreneur     1805\n",
      "unemployed       1685\n",
      "housemaid        1656\n",
      "student          1393\n",
      "Name: count, dtype: int64\n",
      "\n",
      "---------------------------------------------------------------------------\n",
      "\n"
     ]
    },
    {
     "data": {
      "image/png": "[encoded data removed]",
      "text/plain": [
       "<Figure size 640x480 with 1 Axes>"
      ]
     },
     "metadata": {},
     "output_type": "display_data"
    },
    {
     "name": "stdout",
     "output_type": "stream",
     "text": [
      "\n",
      "---------------------------------------------------------------------------\n",
      "\n"
     ]
    }
   ],
   "source": [
    "\n",
    "print(' Number of null values : ' , train['job'].isnull().sum())\n",
    "\n",
    "print('')\n",
    "print('---------------------------------------------------------------------------')\n",
    "print('')\n",
    "\n",
    "print('Unique job : ' , train['job'].unique())\n",
    "\n",
    "print('')\n",
    "print('---------------------------------------------------------------------------')\n",
    "print('')\n",
    "\n",
    "print('job value counts: ' , train['job'].value_counts())\n",
    "\n",
    "print('')\n",
    "print('---------------------------------------------------------------------------')\n",
    "print('')\n",
    "\n",
    "train['job'].value_counts().plot(kind='bar')\n",
    "plt.show()\n",
    "\n",
    "print('')\n",
    "print('---------------------------------------------------------------------------')\n",
    "print('')\n",
    "\n",
    "\n",
    "train['job'] = train['job'].replace(np.nan, 'blue-collar')\n",
    "\n",
    "\n",
    "\n",
    "\n",
    "\n",
    "\n",
    "\n",
    "\n",
    "\n",
    "test['job'] = test['job'].replace(np.nan , 'blue-collar')"
   ]
  },
  {
   "cell_type": "markdown",
   "id": "060c896e",
   "metadata": {
    "papermill": {
     "duration": 0.015086,
     "end_time": "2024-09-25T11:21:50.129722",
     "exception": false,
     "start_time": "2024-09-25T11:21:50.114636",
     "status": "completed"
    },
    "tags": []
   },
   "source": [
    "# martial"
   ]
  },
  {
   "cell_type": "code",
   "execution_count": 7,
   "id": "7c9c6676",
   "metadata": {
    "execution": {
     "iopub.execute_input": "2024-09-25T11:21:50.162805Z",
     "iopub.status.busy": "2024-09-25T11:21:50.162338Z",
     "iopub.status.idle": "2024-09-25T11:21:50.408495Z",
     "shell.execute_reply": "2024-09-25T11:21:50.407173Z"
    },
    "papermill": {
     "duration": 0.266286,
     "end_time": "2024-09-25T11:21:50.411312",
     "exception": false,
     "start_time": "2024-09-25T11:21:50.145026",
     "status": "completed"
    },
    "tags": []
   },
   "outputs": [
    {
     "name": "stdout",
     "output_type": "stream",
     "text": [
      "marital has no null values :  0\n",
      "\n",
      "---------------------------------------------------------------------------\n",
      "\n",
      " Unique marital :  ['married' 'single' 'divorced']\n",
      "\n",
      "---------------------------------------------------------------------------\n",
      "\n",
      "marital value counts:  marital\n",
      "married     22691\n",
      "single      11250\n",
      "divorced     5270\n",
      "Name: count, dtype: int64\n",
      "\n",
      "---------------------------------------------------------------------------\n",
      "\n"
     ]
    },
    {
     "data": {
      "image/png": "[encoded data removed]",
      "text/plain": [
       "<Figure size 640x480 with 1 Axes>"
      ]
     },
     "metadata": {},
     "output_type": "display_data"
    }
   ],
   "source": [
    "print('marital has no null values : ' , train['marital'].isnull().sum())\n",
    "\n",
    "print('')\n",
    "print('---------------------------------------------------------------------------')\n",
    "print('')\n",
    "\n",
    "print(' Unique marital : ' , train['marital'].unique())\n",
    "\n",
    "print('')\n",
    "print('---------------------------------------------------------------------------')\n",
    "print('')\n",
    "\n",
    "print('marital value counts: ' , train['marital'].value_counts())\n",
    "\n",
    "print('')\n",
    "print('---------------------------------------------------------------------------')\n",
    "print('')\n",
    "\n",
    "train['marital'].value_counts().plot(kind='bar')\n",
    "plt.show()"
   ]
  },
  {
   "cell_type": "markdown",
   "id": "b0caccc7",
   "metadata": {
    "papermill": {
     "duration": 0.01536,
     "end_time": "2024-09-25T11:21:50.442247",
     "exception": false,
     "start_time": "2024-09-25T11:21:50.426887",
     "status": "completed"
    },
    "tags": []
   },
   "source": [
    "# education"
   ]
  },
  {
   "cell_type": "code",
   "execution_count": 8,
   "id": "7572934f",
   "metadata": {
    "execution": {
     "iopub.execute_input": "2024-09-25T11:21:50.476256Z",
     "iopub.status.busy": "2024-09-25T11:21:50.475792Z",
     "iopub.status.idle": "2024-09-25T11:21:50.788626Z",
     "shell.execute_reply": "2024-09-25T11:21:50.787321Z"
    },
    "papermill": {
     "duration": 0.332832,
     "end_time": "2024-09-25T11:21:50.791370",
     "exception": false,
     "start_time": "2024-09-25T11:21:50.458538",
     "status": "completed"
    },
    "tags": []
   },
   "outputs": [
    {
     "name": "stdout",
     "output_type": "stream",
     "text": [
      "education has no null values :  1467\n",
      "\n",
      "---------------------------------------------------------------------------\n",
      "\n",
      " Unique education :  ['secondary' 'tertiary' 'primary' nan]\n",
      "\n",
      "---------------------------------------------------------------------------\n",
      "\n",
      "education value counts:  education\n",
      "secondary    19584\n",
      "tertiary     11615\n",
      "primary       6545\n",
      "Name: count, dtype: int64\n",
      "\n",
      "---------------------------------------------------------------------------\n",
      "\n"
     ]
    },
    {
     "data": {
      "image/png": "[encoded data removed]",
      "text/plain": [
       "<Figure size 640x480 with 1 Axes>"
      ]
     },
     "metadata": {},
     "output_type": "display_data"
    }
   ],
   "source": [
    "print('education has no null values : ' , train['education'].isnull().sum())\n",
    "\n",
    "print('')\n",
    "print('---------------------------------------------------------------------------')\n",
    "print('')\n",
    "\n",
    "print(' Unique education : ' , train['education'].unique())\n",
    "\n",
    "print('')\n",
    "print('---------------------------------------------------------------------------')\n",
    "print('')\n",
    "\n",
    "print('education value counts: ' , train['education'].value_counts())\n",
    "\n",
    "print('')\n",
    "print('---------------------------------------------------------------------------')\n",
    "print('')\n",
    "\n",
    "train['education'].value_counts().plot(kind='bar')\n",
    "\n",
    "\n",
    "train['education']=train['education'].replace(np.nan , 'primary')\n",
    "\n",
    "test['education']=test['education'].replace(np.nan , 'primary')"
   ]
  },
  {
   "cell_type": "markdown",
   "id": "c1da9dcc",
   "metadata": {
    "papermill": {
     "duration": 0.016256,
     "end_time": "2024-09-25T11:21:50.825440",
     "exception": false,
     "start_time": "2024-09-25T11:21:50.809184",
     "status": "completed"
    },
    "tags": []
   },
   "source": [
    "# default\n"
   ]
  },
  {
   "cell_type": "code",
   "execution_count": 9,
   "id": "f7dadac6",
   "metadata": {
    "execution": {
     "iopub.execute_input": "2024-09-25T11:21:50.860640Z",
     "iopub.status.busy": "2024-09-25T11:21:50.860168Z",
     "iopub.status.idle": "2024-09-25T11:21:51.071132Z",
     "shell.execute_reply": "2024-09-25T11:21:51.069748Z"
    },
    "papermill": {
     "duration": 0.231797,
     "end_time": "2024-09-25T11:21:51.074042",
     "exception": false,
     "start_time": "2024-09-25T11:21:50.842245",
     "status": "completed"
    },
    "tags": []
   },
   "outputs": [
    {
     "name": "stdout",
     "output_type": "stream",
     "text": [
      "default has no null values :  0\n",
      "\n",
      "---------------------------------------------------------------------------\n",
      "\n",
      " Unique default :  ['no' 'yes']\n",
      "\n",
      "---------------------------------------------------------------------------\n",
      "\n",
      "default value counts:  default\n",
      "no     36954\n",
      "yes     2257\n",
      "Name: count, dtype: int64\n",
      "\n",
      "---------------------------------------------------------------------------\n",
      "\n"
     ]
    },
    {
     "data": {
      "image/png": "[encoded data removed]",
      "text/plain": [
       "<Figure size 640x480 with 1 Axes>"
      ]
     },
     "metadata": {},
     "output_type": "display_data"
    }
   ],
   "source": [
    "print('default has no null values : ' , train['default'].isnull().sum())\n",
    "\n",
    "print('')\n",
    "print('---------------------------------------------------------------------------')\n",
    "print('')\n",
    "\n",
    "print(' Unique default : ' , train['default'].unique())\n",
    "\n",
    "print('')\n",
    "print('---------------------------------------------------------------------------')\n",
    "print('')\n",
    "\n",
    "print('default value counts: ' , train['default'].value_counts())\n",
    "\n",
    "print('')\n",
    "print('---------------------------------------------------------------------------')\n",
    "print('')\n",
    "\n",
    "train['default'].value_counts().plot(kind='bar')\n",
    "plt.show()\n",
    "\n",
    "\n",
    "train['default'] = train['default'].map({'no': 0, 'yes': 1})\n",
    "\n",
    "\n",
    "test['default'] = test['default'].map({'no': 0, 'yes': 1})\n"
   ]
  },
  {
   "cell_type": "markdown",
   "id": "c68952a5",
   "metadata": {
    "papermill": {
     "duration": 0.016657,
     "end_time": "2024-09-25T11:21:51.107858",
     "exception": false,
     "start_time": "2024-09-25T11:21:51.091201",
     "status": "completed"
    },
    "tags": []
   },
   "source": [
    "# housing"
   ]
  },
  {
   "cell_type": "code",
   "execution_count": 10,
   "id": "214ed09c",
   "metadata": {
    "execution": {
     "iopub.execute_input": "2024-09-25T11:21:51.144586Z",
     "iopub.status.busy": "2024-09-25T11:21:51.143566Z",
     "iopub.status.idle": "2024-09-25T11:21:51.386517Z",
     "shell.execute_reply": "2024-09-25T11:21:51.385153Z"
    },
    "papermill": {
     "duration": 0.264218,
     "end_time": "2024-09-25T11:21:51.389472",
     "exception": false,
     "start_time": "2024-09-25T11:21:51.125254",
     "status": "completed"
    },
    "tags": []
   },
   "outputs": [
    {
     "name": "stdout",
     "output_type": "stream",
     "text": [
      "housing has no null values :  0\n",
      "\n",
      "---------------------------------------------------------------------------\n",
      "\n",
      " Unique housing :  ['yes' 'no']\n",
      "\n",
      "---------------------------------------------------------------------------\n",
      "\n",
      "housing value counts:  housing\n",
      "yes    21657\n",
      "no     17554\n",
      "Name: count, dtype: int64\n",
      "\n",
      "---------------------------------------------------------------------------\n",
      "\n"
     ]
    },
    {
     "data": {
      "image/png": "[encoded data removed]",
      "text/plain": [
       "<Figure size 640x480 with 1 Axes>"
      ]
     },
     "metadata": {},
     "output_type": "display_data"
    }
   ],
   "source": [
    "print('housing has no null values : ' , train['housing'].isnull().sum())\n",
    "\n",
    "print('')\n",
    "print('---------------------------------------------------------------------------')\n",
    "print('')\n",
    "\n",
    "print(' Unique housing : ' , train['housing'].unique())\n",
    "\n",
    "print('')\n",
    "print('---------------------------------------------------------------------------')\n",
    "print('')\n",
    "\n",
    "print('housing value counts: ' , train['housing'].value_counts())\n",
    "\n",
    "print('')\n",
    "print('---------------------------------------------------------------------------')\n",
    "print('')\n",
    "\n",
    "train['housing'].value_counts().plot(kind='bar')\n",
    "plt.show()\n",
    "\n",
    "train['housing'] = train['housing'].map({'no': 0, 'yes': 1})\n",
    "\n",
    "\n",
    "\n",
    "test['housing'] = test['housing'].map({'no': 0, 'yes': 1})\n"
   ]
  },
  {
   "cell_type": "code",
   "execution_count": 11,
   "id": "ebc04129",
   "metadata": {
    "execution": {
     "iopub.execute_input": "2024-09-25T11:21:51.425907Z",
     "iopub.status.busy": "2024-09-25T11:21:51.425438Z",
     "iopub.status.idle": "2024-09-25T11:21:51.684097Z",
     "shell.execute_reply": "2024-09-25T11:21:51.682642Z"
    },
    "papermill": {
     "duration": 0.280162,
     "end_time": "2024-09-25T11:21:51.687019",
     "exception": false,
     "start_time": "2024-09-25T11:21:51.406857",
     "status": "completed"
    },
    "tags": []
   },
   "outputs": [
    {
     "name": "stdout",
     "output_type": "stream",
     "text": [
      "loan has no null values :  0\n",
      "\n",
      "---------------------------------------------------------------------------\n",
      "\n",
      " Unique loan :  ['no' 'yes']\n",
      "\n",
      "---------------------------------------------------------------------------\n",
      "\n",
      "loan value counts:  loan\n",
      "no     31820\n",
      "yes     7391\n",
      "Name: count, dtype: int64\n",
      "\n",
      "---------------------------------------------------------------------------\n",
      "\n"
     ]
    },
    {
     "data": {
      "image/png": "[encoded data removed]",
      "text/plain": [
       "<Figure size 640x480 with 1 Axes>"
      ]
     },
     "metadata": {},
     "output_type": "display_data"
    }
   ],
   "source": [
    "print('loan has no null values : ' , train['loan'].isnull().sum())\n",
    "\n",
    "print('')\n",
    "print('---------------------------------------------------------------------------')\n",
    "print('')\n",
    "\n",
    "print(' Unique loan : ' , train['loan'].unique())\n",
    "\n",
    "print('')\n",
    "print('---------------------------------------------------------------------------')\n",
    "print('')\n",
    "\n",
    "print('loan value counts: ' , train['loan'].value_counts())\n",
    "\n",
    "print('')\n",
    "print('---------------------------------------------------------------------------')\n",
    "print('')\n",
    "\n",
    "train['loan'].value_counts().plot(kind='bar')\n",
    "plt.show()\n",
    "\n",
    "\n",
    "\n",
    "\n",
    "train['loan'] = train['loan'].map({'no': 0, 'yes': 1})\n",
    "\n",
    "\n",
    "test['loan'] = test['loan'].map({'no': 0, 'yes': 1})\n",
    "\n"
   ]
  },
  {
   "cell_type": "code",
   "execution_count": 12,
   "id": "5140cb16",
   "metadata": {
    "execution": {
     "iopub.execute_input": "2024-09-25T11:21:51.725192Z",
     "iopub.status.busy": "2024-09-25T11:21:51.723920Z",
     "iopub.status.idle": "2024-09-25T11:21:52.004527Z",
     "shell.execute_reply": "2024-09-25T11:21:52.002747Z"
    },
    "papermill": {
     "duration": 0.303798,
     "end_time": "2024-09-25T11:21:52.008671",
     "exception": false,
     "start_time": "2024-09-25T11:21:51.704873",
     "status": "completed"
    },
    "tags": []
   },
   "outputs": [
    {
     "name": "stdout",
     "output_type": "stream",
     "text": [
      "contact has null values :  10336\n",
      "\n",
      "---------------------------------------------------------------------------\n",
      "\n",
      " Unique contact :  ['cellular' 'telephone' nan]\n",
      "\n",
      "---------------------------------------------------------------------------\n",
      "\n",
      "contact value counts:  contact\n",
      "cellular     25030\n",
      "telephone     3845\n",
      "Name: count, dtype: int64\n",
      "\n",
      "---------------------------------------------------------------------------\n",
      "\n"
     ]
    },
    {
     "data": {
      "image/png": "[encoded data removed]",
      "text/plain": [
       "<Figure size 640x480 with 1 Axes>"
      ]
     },
     "metadata": {},
     "output_type": "display_data"
    }
   ],
   "source": [
    "print('contact has null values : ' , train['contact'].isnull().sum())\n",
    "\n",
    "print('')\n",
    "print('---------------------------------------------------------------------------')\n",
    "print('')\n",
    "\n",
    "print(' Unique contact : ' , train['contact'].unique())\n",
    "\n",
    "print('')\n",
    "print('---------------------------------------------------------------------------')\n",
    "print('')\n",
    "\n",
    "print('contact value counts: ' , train['contact'].value_counts())\n",
    "\n",
    "print('')\n",
    "print('---------------------------------------------------------------------------')\n",
    "print('')\n",
    "\n",
    "train['contact'].value_counts().plot(kind='bar')\n",
    "plt.show()\n",
    "\n",
    "\n",
    "train['contact']=train['contact'].replace(np.nan , 'telephone')\n",
    "\n",
    "train['contact'] = train['contact'].map({'cellular': 1, 'telephone': 0})\n",
    "\n",
    "\n",
    "\n",
    "test['contact']=test['contact'].replace(np.nan , 'telephone')\n",
    "test['contact'] = test['contact'].map({'cellular': 1, 'telephone': 0})\n",
    "\n"
   ]
  },
  {
   "cell_type": "code",
   "execution_count": 13,
   "id": "1bbc0a0b",
   "metadata": {
    "execution": {
     "iopub.execute_input": "2024-09-25T11:21:52.056567Z",
     "iopub.status.busy": "2024-09-25T11:21:52.056035Z",
     "iopub.status.idle": "2024-09-25T11:21:52.554036Z",
     "shell.execute_reply": "2024-09-25T11:21:52.552734Z"
    },
    "papermill": {
     "duration": 0.520417,
     "end_time": "2024-09-25T11:21:52.556934",
     "exception": false,
     "start_time": "2024-09-25T11:21:52.036517",
     "status": "completed"
    },
    "tags": []
   },
   "outputs": [
    {
     "name": "stdout",
     "output_type": "stream",
     "text": [
      "poutcome has  null values :  29451\n",
      "\n",
      "---------------------------------------------------------------------------\n",
      "\n",
      " Unique poutcome :  ['other' nan 'failure' 'success']\n",
      "\n",
      "---------------------------------------------------------------------------\n",
      "\n",
      "poutcome value counts:  poutcome\n",
      "failure    4949\n",
      "other      2560\n",
      "success    2251\n",
      "Name: count, dtype: int64\n",
      "\n",
      "---------------------------------------------------------------------------\n",
      "\n"
     ]
    },
    {
     "data": {
      "image/png": "[encoded data removed]",
      "text/plain": [
       "<Figure size 640x480 with 1 Axes>"
      ]
     },
     "metadata": {},
     "output_type": "display_data"
    },
    {
     "data": {
      "image/png": "[encoded data removed]",
      "text/plain": [
       "<Figure size 640x480 with 1 Axes>"
      ]
     },
     "metadata": {},
     "output_type": "display_data"
    }
   ],
   "source": [
    "print('poutcome has  null values : ' , train['poutcome'].isnull().sum())\n",
    "\n",
    "print('')\n",
    "print('---------------------------------------------------------------------------')\n",
    "print('')\n",
    "\n",
    "print(' Unique poutcome : ' , train['poutcome'].unique())\n",
    "\n",
    "print('')\n",
    "print('---------------------------------------------------------------------------')\n",
    "print('')\n",
    "\n",
    "print('poutcome value counts: ' , train['poutcome'].value_counts())\n",
    "\n",
    "print('')\n",
    "print('---------------------------------------------------------------------------')\n",
    "print('')\n",
    "\n",
    "train['poutcome'].value_counts().plot(kind='bar')\n",
    "plt.show()\n",
    "\n",
    "\n",
    "\n",
    "train['poutcome'] = train['poutcome'].replace(np.nan, 'unknown')\n",
    "\n",
    "\n",
    "train['poutcome'].value_counts().plot(kind='bar')\n",
    "plt.show()\n",
    "\n",
    "\n",
    "\n",
    "test['poutcome'] = test['poutcome'].replace(np.nan, 'unknown')\n"
   ]
  },
  {
   "cell_type": "code",
   "execution_count": 14,
   "id": "c3054055",
   "metadata": {
    "execution": {
     "iopub.execute_input": "2024-09-25T11:21:52.597112Z",
     "iopub.status.busy": "2024-09-25T11:21:52.596353Z",
     "iopub.status.idle": "2024-09-25T11:21:52.640412Z",
     "shell.execute_reply": "2024-09-25T11:21:52.639037Z"
    },
    "papermill": {
     "duration": 0.066991,
     "end_time": "2024-09-25T11:21:52.643136",
     "exception": false,
     "start_time": "2024-09-25T11:21:52.576145",
     "status": "completed"
    },
    "tags": []
   },
   "outputs": [
    {
     "name": "stdout",
     "output_type": "stream",
     "text": [
      "<class 'pandas.core.frame.DataFrame'>\n",
      "RangeIndex: 39211 entries, 0 to 39210\n",
      "Data columns (total 16 columns):\n",
      " #   Column             Non-Null Count  Dtype \n",
      "---  ------             --------------  ----- \n",
      " 0   last contact date  39211 non-null  object\n",
      " 1   age                39211 non-null  int64 \n",
      " 2   job                39211 non-null  object\n",
      " 3   marital            39211 non-null  object\n",
      " 4   education          39211 non-null  object\n",
      " 5   default            39211 non-null  int64 \n",
      " 6   balance            39211 non-null  int64 \n",
      " 7   housing            39211 non-null  int64 \n",
      " 8   loan               39211 non-null  int64 \n",
      " 9   contact            39211 non-null  int64 \n",
      " 10  duration           39211 non-null  int64 \n",
      " 11  campaign           39211 non-null  int64 \n",
      " 12  pdays              39211 non-null  int64 \n",
      " 13  previous           39211 non-null  int64 \n",
      " 14  poutcome           39211 non-null  object\n",
      " 15  target             39211 non-null  object\n",
      "dtypes: int64(10), object(6)\n",
      "memory usage: 4.8+ MB\n"
     ]
    }
   ],
   "source": [
    "train.info()"
   ]
  },
  {
   "cell_type": "markdown",
   "id": "04a04515",
   "metadata": {
    "papermill": {
     "duration": 0.018842,
     "end_time": "2024-09-25T11:21:52.681625",
     "exception": false,
     "start_time": "2024-09-25T11:21:52.662783",
     "status": "completed"
    },
    "tags": []
   },
   "source": [
    "# Numerical Columns\n",
    "# Age , Balance , campaign , pdays , previous"
   ]
  },
  {
   "cell_type": "code",
   "execution_count": 15,
   "id": "36653908",
   "metadata": {
    "execution": {
     "iopub.execute_input": "2024-09-25T11:21:52.721703Z",
     "iopub.status.busy": "2024-09-25T11:21:52.721281Z",
     "iopub.status.idle": "2024-09-25T11:21:53.024890Z",
     "shell.execute_reply": "2024-09-25T11:21:53.023524Z"
    },
    "papermill": {
     "duration": 0.326982,
     "end_time": "2024-09-25T11:21:53.027843",
     "exception": false,
     "start_time": "2024-09-25T11:21:52.700861",
     "status": "completed"
    },
    "tags": []
   },
   "outputs": [
    {
     "name": "stdout",
     "output_type": "stream",
     "text": [
      "Age has no null values :  0\n",
      "\n",
      "---------------------------------------------------------------------------\n",
      "\n",
      "no. of age less than zero is  0\n",
      "\n",
      "---------------------------------------------------------------------------\n",
      "\n",
      " Unique Ages :  [26 52 44 33 31 25 46 37 38 32 28 34 86 42 58 39 35 47 45 48 30 50 56 54\n",
      " 40 53 41 51 27 29 57 63 36 43 19 55 49 23 83 60 22 80 76 59 24 93 71 89\n",
      " 64 68 85 79 62 69 20 90 66 87 72 88 67 70 77 91 78 61 65 73 74 84 82 92\n",
      " 81 18 21 75 94 95]\n",
      "\n",
      "---------------------------------------------------------------------------\n",
      "\n",
      "Age value counts:  age\n",
      "32    1688\n",
      "31    1629\n",
      "33    1599\n",
      "35    1571\n",
      "34    1566\n",
      "      ... \n",
      "18      44\n",
      "92      41\n",
      "87      40\n",
      "85      39\n",
      "95       2\n",
      "Name: count, Length: 78, dtype: int64\n",
      "\n",
      "---------------------------------------------------------------------------\n",
      "\n"
     ]
    },
    {
     "data": {
      "image/png": "[encoded data removed]",
      "text/plain": [
       "<Figure size 640x480 with 1 Axes>"
      ]
     },
     "metadata": {},
     "output_type": "display_data"
    }
   ],
   "source": [
    "print('Age has no null values : ' , train['age'].isnull().sum())\n",
    "\n",
    "print('')\n",
    "print('---------------------------------------------------------------------------')\n",
    "print('')\n",
    "\n",
    "print('no. of age less than zero is ', train[train['age']<0]['age'].count())\n",
    "\n",
    "\n",
    "print('')\n",
    "print('---------------------------------------------------------------------------')\n",
    "print('')\n",
    "\n",
    "print(' Unique Ages : ' , train['age'].unique())\n",
    "\n",
    "print('')\n",
    "print('---------------------------------------------------------------------------')\n",
    "print('')\n",
    "\n",
    "print('Age value counts: ' , train['age'].value_counts())\n",
    "\n",
    "print('')\n",
    "print('---------------------------------------------------------------------------')\n",
    "print('')\n",
    "\n",
    "train['age'].value_counts().plot(kind='hist')\n",
    "plt.show()\n",
    "\n",
    "\n"
   ]
  },
  {
   "cell_type": "code",
   "execution_count": 16,
   "id": "4607f786",
   "metadata": {
    "execution": {
     "iopub.execute_input": "2024-09-25T11:21:53.069004Z",
     "iopub.status.busy": "2024-09-25T11:21:53.068573Z",
     "iopub.status.idle": "2024-09-25T11:21:53.398671Z",
     "shell.execute_reply": "2024-09-25T11:21:53.397322Z"
    },
    "papermill": {
     "duration": 0.354179,
     "end_time": "2024-09-25T11:21:53.401586",
     "exception": false,
     "start_time": "2024-09-25T11:21:53.047407",
     "status": "completed"
    },
    "tags": []
   },
   "outputs": [
    {
     "name": "stdout",
     "output_type": "stream",
     "text": [
      "campaign has no null values :  0\n",
      "\n",
      "---------------------------------------------------------------------------\n",
      "\n",
      "camaign less than zero is  0\n",
      "\n",
      "---------------------------------------------------------------------------\n",
      "\n",
      " Unique campaign  :  [ 2  1  3  4  6 45  5 44 12 61 58  7  8 20 43 17 13 15 48 34 11 54 22 26\n",
      " 29 21 10 49  9 52 53 57 16 50 46 47 23 37 18 38 32 36 39 56 14 30 41 63\n",
      " 51 28 25 62 55 42 35 31 59 19 40 33 24 27 60]\n",
      "\n",
      "---------------------------------------------------------------------------\n",
      "\n",
      "campaign value counts:  campaign\n",
      "1     14013\n",
      "2     10016\n",
      "3      4470\n",
      "4      2861\n",
      "5      1469\n",
      "      ...  \n",
      "48       44\n",
      "30       43\n",
      "40       43\n",
      "60       43\n",
      "53       38\n",
      "Name: count, Length: 63, dtype: int64\n",
      "\n",
      "---------------------------------------------------------------------------\n",
      "\n"
     ]
    },
    {
     "data": {
      "text/plain": [
       "<Axes: ylabel='Frequency'>"
      ]
     },
     "execution_count": 16,
     "metadata": {},
     "output_type": "execute_result"
    },
    {
     "data": {
      "image/png": "[encoded data removed]",
      "text/plain": [
       "<Figure size 640x480 with 1 Axes>"
      ]
     },
     "metadata": {},
     "output_type": "display_data"
    }
   ],
   "source": [
    "print('campaign has no null values : ' , train['campaign'].isnull().sum())\n",
    "\n",
    "print('')\n",
    "print('---------------------------------------------------------------------------')\n",
    "print('')\n",
    "\n",
    "\n",
    "print('camaign less than zero is ', train[train['campaign']<0]['campaign'].count())\n",
    "\n",
    "\n",
    "print('')\n",
    "print('---------------------------------------------------------------------------')\n",
    "print('')\n",
    "print(' Unique campaign  : ' , train['campaign'].unique())\n",
    "\n",
    "print('')\n",
    "print('---------------------------------------------------------------------------')\n",
    "print('')\n",
    "\n",
    "print('campaign value counts: ' , train['campaign'].value_counts())\n",
    "\n",
    "print('')\n",
    "print('---------------------------------------------------------------------------')\n",
    "print('')\n",
    "\n",
    "train['campaign'].value_counts().plot(kind='hist')\n",
    "\n"
   ]
  },
  {
   "cell_type": "code",
   "execution_count": 17,
   "id": "2d0493ff",
   "metadata": {
    "execution": {
     "iopub.execute_input": "2024-09-25T11:21:53.444995Z",
     "iopub.status.busy": "2024-09-25T11:21:53.444559Z",
     "iopub.status.idle": "2024-09-25T11:21:53.742918Z",
     "shell.execute_reply": "2024-09-25T11:21:53.741631Z"
    },
    "papermill": {
     "duration": 0.323328,
     "end_time": "2024-09-25T11:21:53.745652",
     "exception": false,
     "start_time": "2024-09-25T11:21:53.422324",
     "status": "completed"
    },
    "tags": []
   },
   "outputs": [
    {
     "name": "stdout",
     "output_type": "stream",
     "text": [
      "balance has no null values :  0\n",
      "\n",
      "---------------------------------------------------------------------------\n",
      "\n",
      "checking if balance is negetive and how many rows have balance less than zero: 2971\n",
      "\n",
      "---------------------------------------------------------------------------\n",
      "\n",
      " Unique balance values :  [  647   553  1397 ...  4307  6187 38594]\n",
      "\n",
      "---------------------------------------------------------------------------\n",
      "\n",
      "balance value counts:  balance\n",
      "0        2799\n",
      "1         149\n",
      "2         122\n",
      "4         115\n",
      "3         104\n",
      "         ... \n",
      "95094       1\n",
      "81074       1\n",
      "31565       1\n",
      "5278        1\n",
      "38594       1\n",
      "Name: count, Length: 9535, dtype: int64\n",
      "\n",
      "---------------------------------------------------------------------------\n",
      "\n"
     ]
    },
    {
     "data": {
      "text/plain": [
       "<Axes: ylabel='Frequency'>"
      ]
     },
     "execution_count": 17,
     "metadata": {},
     "output_type": "execute_result"
    },
    {
     "data": {
      "image/png": "[encoded data removed]",
      "text/plain": [
       "<Figure size 640x480 with 1 Axes>"
      ]
     },
     "metadata": {},
     "output_type": "display_data"
    }
   ],
   "source": [
    "print('balance has no null values : ' , train['balance'].isnull().sum())\n",
    "\n",
    "print('')\n",
    "print('---------------------------------------------------------------------------')\n",
    "print('')\n",
    "\n",
    "print('checking if balance is negetive and how many rows have balance less than zero:'  , train[train['balance']<0]['balance'].count())\n",
    "\n",
    "print('')\n",
    "print('---------------------------------------------------------------------------')\n",
    "print('')\n",
    "\n",
    "print(' Unique balance values : ' , train['balance'].unique())\n",
    "\n",
    "print('')\n",
    "print('---------------------------------------------------------------------------')\n",
    "print('')\n",
    "\n",
    "print('balance value counts: ' , train['balance'].value_counts())\n",
    "\n",
    "print('')\n",
    "print('---------------------------------------------------------------------------')\n",
    "print('')\n",
    "\n",
    "train['balance'].value_counts().plot(kind='hist')\n",
    "\n",
    "\n",
    "\n",
    "\n",
    "\n"
   ]
  },
  {
   "cell_type": "code",
   "execution_count": 18,
   "id": "a2c306f0",
   "metadata": {
    "execution": {
     "iopub.execute_input": "2024-09-25T11:21:53.790873Z",
     "iopub.status.busy": "2024-09-25T11:21:53.789746Z",
     "iopub.status.idle": "2024-09-25T11:21:54.124833Z",
     "shell.execute_reply": "2024-09-25T11:21:54.123549Z"
    },
    "papermill": {
     "duration": 0.361134,
     "end_time": "2024-09-25T11:21:54.128152",
     "exception": false,
     "start_time": "2024-09-25T11:21:53.767018",
     "status": "completed"
    },
    "tags": []
   },
   "outputs": [
    {
     "name": "stdout",
     "output_type": "stream",
     "text": [
      "pdays has no null values :  0\n",
      "\n",
      "---------------------------------------------------------------------------\n",
      "\n",
      " Unique pdays values :  [331  -1 852 661 152 599 365 367 238 129 287 174 120 368 371 187 610 364\n",
      " 633  80 125 356 248 186 278 154  90  98 574 352 561 260 801  78 596 343\n",
      " 671 175 159  12 111  31 342 357  74 100 289  84 109 245 369  83 536 216\n",
      "  89  97 252 143 378 336 172 160 191  91 848 258 317  94 196 362 188 272\n",
      " 138 298 116 101 591 360 234 505 631  82   8 300 472 173 530 103 236 316\n",
      " 370 611 271 305  79 474 405 293 442 178 232 299 213 184 237  93  37 255\n",
      " 353 259 181 315 147 349 335 165 295 203 290   6 767 302 169 320 148  19\n",
      " 435 328 645 526 150 318 347  29  96 254  35 136 350 759 358 670 348 224\n",
      " 114 102 407 326 330 665 760 445 373 265 190 285 246 644 337 161 264 562\n",
      " 189 363 630 652  44 478 322 176 783 597 344 339 110 334 167 204 166 816\n",
      " 484 177 775 366  32 480 200 408 421 247 291 261 579 244 730 324 434 525\n",
      " 156 153 157  95 439 286 163 197 182 309 257 283 461 824  92 704 195 170\n",
      " 655 121  68 332 651 504 403 263 183 440 431 185 202 105 477 746 310 622\n",
      " 149 698 427 847 115 620 219 846 301  40 649 481 438 215  61 531  59 643\n",
      " 303 117  64 168 158 338 515 516  75 779 606 355 400 743 134  53 706 321\n",
      " 274 578 345 270 141   1 251 575 705  81 340 192 266 262 560 276 208 243\n",
      " 428 375  11 180 314  99 228 774  76 518 695 209 193 206 282 861 304 828\n",
      "  55 284  87 210 551 135 312 587 468 557  50 406 113 329 556 764 179 239\n",
      " 145 249 323  41 201  33 844 221 256 212 281 450  86 580 422 385 233 514\n",
      "  28 268  30 795 205  57 361 860   2 327 346 132 473  63 396 657  88 647\n",
      " 854  73 107 126 171 581 198  24 402 325 433 269  85 646  69 605 733 488\n",
      " 462 805 217 745 292 151 426 127 131 351 359 240 769 789 388 503 306 313\n",
      " 863 866 479 547 390   5 528 341 640 648 859 625 725 567 387 669 374 225\n",
      " 380 496 155 506 642 722 802  56 118 553 456 333 559 714 409 791 267 806\n",
      " 451 415 685 558 773 383 833 467 311 534   3 459 241 819 798  52 139 104\n",
      " 511 455 307 624 601 494 308 458 112 842 522 555 394 275 498 768 273 694\n",
      " 499 381 294 708 457 146 550 845 425 297   7 871 615 752 737 543 668  60\n",
      " 864 124 796 829 250 280  77 674 130 412 600 483 538 588 548 475  70 372\n",
      " 164 418 223 712 391 279 133 751 227 464 734 106 740 857 629 436 443 253\n",
      " 812 853 123 577 437 778 613 386  38 399 711 376 869 827 721  43 469 776\n",
      " 199 398 862 735 229 680 761 780 663 686  62 870 230  14 119  42  27  17\n",
      " 697 781 545 521 517 675 242 485 211 618 509 128 667  21 404 108 736 603\n",
      " 718 218 586 831 684 658 834 826 617 144  46 463 454 786  67  10 430 493\n",
      " 810 710 701 784 354 799 584 688  47 868 637 593 662 492 448 681 207 726\n",
      " 757 825 510 739 750 277 855 654 813 673 384 460 222 410 838 628 296 621\n",
      " 677 732   9 319 194 417 140 632 691 659 589 741 288 814 822  71 397 382\n",
      " 490 554 758 392 569  22 466 542 235 541 487 565 619 544 413 650 389 476\n",
      " 508 728 529 793 500 537 429 636 449 772 137 762 491 566 770 850  45 856\n",
      " 497 664 424 785 609 830 702  39 744 626 612 563 512 634 122 447 231 717\n",
      " 414 627 713 486 818 672 432 709 419 598  25 787 719 614  13 582 656 471\n",
      " 576 696 687 162 749 777 756 489 523 811 214 377 837  18 226 804 573 416\n",
      " 446 797  36 520   4  66 465 792 379 639 602 754 546 401 766 635  49 840\n",
      " 572 858  58 821 782 771 604 731  54 608 807  23 699 851 585 693 729 616\n",
      " 660 820 808 841  65 765 411 607 571 763 727  72 470 803 653  16 142 539\n",
      " 513 843  15 742 564 552 592 638 507 676 839 549 689 590  26 809 753 723\n",
      " 815 788 747 420 790 524 720 683 690 519 716 835 568 623 570 444 678  48\n",
      " 482 535 595 836 594 707 817 502 441  34 800 533 395  20 453 832 540 849\n",
      " 666 495 679 865 501 393 794  51 700 703 532 715 867 692 452 823 220   0\n",
      " 724]\n",
      "\n",
      "---------------------------------------------------------------------------\n",
      "\n",
      "pdays value counts:  pdays\n",
      "-1      29446\n",
      " 182      135\n",
      " 92       117\n",
      " 91       106\n",
      " 183      100\n",
      "        ...  \n",
      " 836        1\n",
      " 594        1\n",
      " 659        1\n",
      " 817        1\n",
      " 724        1\n",
      "Name: count, Length: 865, dtype: int64\n",
      "\n",
      "---------------------------------------------------------------------------\n",
      "\n"
     ]
    },
    {
     "data": {
      "image/png": "[encoded data removed]",
      "text/plain": [
       "<Figure size 640x480 with 1 Axes>"
      ]
     },
     "metadata": {},
     "output_type": "display_data"
    }
   ],
   "source": [
    "print('pdays has no null values : ' , train['pdays'].isnull().sum())\n",
    "\n",
    "print('')\n",
    "print('---------------------------------------------------------------------------')\n",
    "print('')\n",
    "\n",
    "print(' Unique pdays values : ' , train['pdays'].unique())\n",
    "\n",
    "print('')\n",
    "print('---------------------------------------------------------------------------')\n",
    "print('')\n",
    "\n",
    "print('pdays value counts: ' , train['pdays'].value_counts())\n",
    "\n",
    "print('')\n",
    "print('---------------------------------------------------------------------------')\n",
    "print('')\n",
    "\n",
    "train['pdays'].value_counts().plot(kind='hist')\n",
    "\n",
    "\n",
    "\n",
    "train['previously_contacted'] = train['pdays'].apply(lambda x: 1 if x != -1 else 0)\n",
    "\n",
    "test['previously_contacted'] = test['pdays'].apply(lambda x: 1 if x != -1 else 0)\n"
   ]
  },
  {
   "cell_type": "code",
   "execution_count": 19,
   "id": "e8571b5a",
   "metadata": {
    "execution": {
     "iopub.execute_input": "2024-09-25T11:21:54.182033Z",
     "iopub.status.busy": "2024-09-25T11:21:54.181592Z",
     "iopub.status.idle": "2024-09-25T11:21:54.590895Z",
     "shell.execute_reply": "2024-09-25T11:21:54.589659Z"
    },
    "papermill": {
     "duration": 0.435431,
     "end_time": "2024-09-25T11:21:54.593583",
     "exception": false,
     "start_time": "2024-09-25T11:21:54.158152",
     "status": "completed"
    },
    "tags": []
   },
   "outputs": [
    {
     "name": "stdout",
     "output_type": "stream",
     "text": [
      "previous has no null values :  0\n",
      "\n",
      "---------------------------------------------------------------------------\n",
      "\n",
      "checking if previous is negetive and how many rows have previous less than zero: 0\n",
      "\n",
      "---------------------------------------------------------------------------\n",
      "\n",
      " Unique previous  :  [  1   0   4 143 234   3  18   2 225 219   6  12  16 248 217 116   8 119\n",
      "  37  69 113  14 265 175 103  28  86   5 196 156 207 218 148 213  87 241\n",
      "  60 235 172 255 266  17 135  99  20   9 270 229 188 105 141 153 131 182\n",
      " 223 177  70  75   7  91 236  85 100 160  30  63 178 150  72 233  40 145\n",
      " 272  24 249  97 193 140 222 128  90  10 155 122 134 252 117 173 203 226\n",
      "  23 194 208  77 274  38 273 244  15 176  96  31 133 259 191 101 197 192\n",
      " 152 216 204 206  71 180 250 268 144  81 110 136  43  19  74 187 205  66\n",
      " 269  36 166  29  53 200 261  13  61 186  62 104 138 123  78 189 147 185\n",
      " 179 129 190 111 139 211 245  22  51 171  26 254  84 174  46  48  58  68\n",
      " 228  11  80  55 107 232 202 132 264  56 260 181  32 163  94  83  54 240\n",
      " 154 198  49 221 242  35 120 125 243 256 146  67 124 108 169  82  39 258\n",
      " 112 237 114  59  42 165 199 184  92 168  21  88  33 159 183 109  65 164\n",
      " 215  93 246 102  95 201 162 195  41  64 157 257 263 267 126  47 212 149\n",
      "  52  73 239  25 118 161  27  76 121 170 230 262  89 137 220 209  57 251\n",
      " 247 115  34 238 271 167  98  50 142  45 227 275 106  79 210 214  44 253\n",
      " 224 151 231 130 158 127]\n",
      "\n",
      "---------------------------------------------------------------------------\n",
      "\n",
      "previous value counts:  previous\n",
      "0      29456\n",
      "1       2226\n",
      "2       1708\n",
      "3        907\n",
      "4        590\n",
      "       ...  \n",
      "163        5\n",
      "76         5\n",
      "180        5\n",
      "137        5\n",
      "231        4\n",
      "Name: count, Length: 276, dtype: int64\n",
      "\n",
      "---------------------------------------------------------------------------\n",
      "\n"
     ]
    },
    {
     "data": {
      "text/plain": [
       "<Axes: ylabel='Frequency'>"
      ]
     },
     "execution_count": 19,
     "metadata": {},
     "output_type": "execute_result"
    },
    {
     "data": {
      "image/png": "[encoded data removed]",
      "text/plain": [
       "<Figure size 640x480 with 1 Axes>"
      ]
     },
     "metadata": {},
     "output_type": "display_data"
    }
   ],
   "source": [
    "print('previous has no null values : ' , train['previous'].isnull().sum())\n",
    "\n",
    "print('')\n",
    "print('---------------------------------------------------------------------------')\n",
    "print('')\n",
    "\n",
    "\n",
    "print('checking if previous is negetive and how many rows have previous less than zero:'  , train[train['previous']<0]['previous'].count())\n",
    "\n",
    "\n",
    "print('')\n",
    "print('---------------------------------------------------------------------------')\n",
    "print('')\n",
    "\n",
    "\n",
    "print(' Unique previous  : ' , train['previous'].unique())\n",
    "\n",
    "print('')\n",
    "print('---------------------------------------------------------------------------')\n",
    "print('')\n",
    "\n",
    "print('previous value counts: ' , train['previous'].value_counts())\n",
    "\n",
    "print('')\n",
    "print('---------------------------------------------------------------------------')\n",
    "print('')\n",
    "\n",
    "train['previous'].value_counts().plot(kind='hist')\n"
   ]
  },
  {
   "cell_type": "code",
   "execution_count": 20,
   "id": "871a896f",
   "metadata": {
    "execution": {
     "iopub.execute_input": "2024-09-25T11:21:54.640787Z",
     "iopub.status.busy": "2024-09-25T11:21:54.639614Z",
     "iopub.status.idle": "2024-09-25T11:21:54.746889Z",
     "shell.execute_reply": "2024-09-25T11:21:54.744774Z"
    },
    "papermill": {
     "duration": 0.134878,
     "end_time": "2024-09-25T11:21:54.750399",
     "exception": false,
     "start_time": "2024-09-25T11:21:54.615521",
     "status": "completed"
    },
    "tags": []
   },
   "outputs": [
    {
     "name": "stdout",
     "output_type": "stream",
     "text": [
      "Shape: (39211, 17)\n",
      "\n",
      "---------------------------------------------------------------------------\n",
      "\n",
      "<class 'pandas.core.frame.DataFrame'>\n",
      "RangeIndex: 39211 entries, 0 to 39210\n",
      "Data columns (total 17 columns):\n",
      " #   Column                Non-Null Count  Dtype \n",
      "---  ------                --------------  ----- \n",
      " 0   last contact date     39211 non-null  object\n",
      " 1   age                   39211 non-null  int64 \n",
      " 2   job                   39211 non-null  object\n",
      " 3   marital               39211 non-null  object\n",
      " 4   education             39211 non-null  object\n",
      " 5   default               39211 non-null  int64 \n",
      " 6   balance               39211 non-null  int64 \n",
      " 7   housing               39211 non-null  int64 \n",
      " 8   loan                  39211 non-null  int64 \n",
      " 9   contact               39211 non-null  int64 \n",
      " 10  duration              39211 non-null  int64 \n",
      " 11  campaign              39211 non-null  int64 \n",
      " 12  pdays                 39211 non-null  int64 \n",
      " 13  previous              39211 non-null  int64 \n",
      " 14  poutcome              39211 non-null  object\n",
      " 15  target                39211 non-null  object\n",
      " 16  previously_contacted  39211 non-null  int64 \n",
      "dtypes: int64(11), object(6)\n",
      "memory usage: 5.1+ MB\n",
      "None\n",
      "\n",
      "---------------------------------------------------------------------------\n",
      "\n"
     ]
    },
    {
     "data": {
      "text/html": [
       "<div>\n",
       "<style scoped>\n",
       "    .dataframe tbody tr th:only-of-type {\n",
       "        vertical-align: middle;\n",
       "    }\n",
       "\n",
       "    .dataframe tbody tr th {\n",
       "        vertical-align: top;\n",
       "    }\n",
       "\n",
       "    .dataframe thead th {\n",
       "        text-align: right;\n",
       "    }\n",
       "</style>\n",
       "<table border=\"1\" class=\"dataframe\">\n",
       "  <thead>\n",
       "    <tr style=\"text-align: right;\">\n",
       "      <th></th>\n",
       "      <th>age</th>\n",
       "      <th>default</th>\n",
       "      <th>balance</th>\n",
       "      <th>housing</th>\n",
       "      <th>loan</th>\n",
       "      <th>contact</th>\n",
       "      <th>duration</th>\n",
       "      <th>campaign</th>\n",
       "      <th>pdays</th>\n",
       "      <th>previous</th>\n",
       "      <th>previously_contacted</th>\n",
       "    </tr>\n",
       "  </thead>\n",
       "  <tbody>\n",
       "    <tr>\n",
       "      <th>count</th>\n",
       "      <td>39211.000000</td>\n",
       "      <td>39211.000000</td>\n",
       "      <td>39211.000000</td>\n",
       "      <td>39211.000000</td>\n",
       "      <td>39211.000000</td>\n",
       "      <td>39211.000000</td>\n",
       "      <td>39211.000000</td>\n",
       "      <td>39211.000000</td>\n",
       "      <td>39211.000000</td>\n",
       "      <td>39211.000000</td>\n",
       "      <td>39211.000000</td>\n",
       "    </tr>\n",
       "    <tr>\n",
       "      <th>mean</th>\n",
       "      <td>42.120247</td>\n",
       "      <td>0.057560</td>\n",
       "      <td>5441.781719</td>\n",
       "      <td>0.552320</td>\n",
       "      <td>0.188493</td>\n",
       "      <td>0.638341</td>\n",
       "      <td>439.062789</td>\n",
       "      <td>5.108770</td>\n",
       "      <td>72.256051</td>\n",
       "      <td>11.826171</td>\n",
       "      <td>0.249037</td>\n",
       "    </tr>\n",
       "    <tr>\n",
       "      <th>std</th>\n",
       "      <td>12.709352</td>\n",
       "      <td>0.232913</td>\n",
       "      <td>16365.292065</td>\n",
       "      <td>0.497261</td>\n",
       "      <td>0.391110</td>\n",
       "      <td>0.480487</td>\n",
       "      <td>769.096291</td>\n",
       "      <td>9.890153</td>\n",
       "      <td>160.942593</td>\n",
       "      <td>44.140259</td>\n",
       "      <td>0.432461</td>\n",
       "    </tr>\n",
       "    <tr>\n",
       "      <th>min</th>\n",
       "      <td>18.000000</td>\n",
       "      <td>0.000000</td>\n",
       "      <td>-8019.000000</td>\n",
       "      <td>0.000000</td>\n",
       "      <td>0.000000</td>\n",
       "      <td>0.000000</td>\n",
       "      <td>0.000000</td>\n",
       "      <td>1.000000</td>\n",
       "      <td>-1.000000</td>\n",
       "      <td>0.000000</td>\n",
       "      <td>0.000000</td>\n",
       "    </tr>\n",
       "    <tr>\n",
       "      <th>25%</th>\n",
       "      <td>33.000000</td>\n",
       "      <td>0.000000</td>\n",
       "      <td>98.000000</td>\n",
       "      <td>0.000000</td>\n",
       "      <td>0.000000</td>\n",
       "      <td>0.000000</td>\n",
       "      <td>109.000000</td>\n",
       "      <td>1.000000</td>\n",
       "      <td>-1.000000</td>\n",
       "      <td>0.000000</td>\n",
       "      <td>0.000000</td>\n",
       "    </tr>\n",
       "    <tr>\n",
       "      <th>50%</th>\n",
       "      <td>40.000000</td>\n",
       "      <td>0.000000</td>\n",
       "      <td>549.000000</td>\n",
       "      <td>1.000000</td>\n",
       "      <td>0.000000</td>\n",
       "      <td>1.000000</td>\n",
       "      <td>197.000000</td>\n",
       "      <td>2.000000</td>\n",
       "      <td>-1.000000</td>\n",
       "      <td>0.000000</td>\n",
       "      <td>0.000000</td>\n",
       "    </tr>\n",
       "    <tr>\n",
       "      <th>75%</th>\n",
       "      <td>50.000000</td>\n",
       "      <td>0.000000</td>\n",
       "      <td>2030.000000</td>\n",
       "      <td>1.000000</td>\n",
       "      <td>0.000000</td>\n",
       "      <td>1.000000</td>\n",
       "      <td>380.000000</td>\n",
       "      <td>4.000000</td>\n",
       "      <td>-1.000000</td>\n",
       "      <td>0.000000</td>\n",
       "      <td>0.000000</td>\n",
       "    </tr>\n",
       "    <tr>\n",
       "      <th>max</th>\n",
       "      <td>95.000000</td>\n",
       "      <td>1.000000</td>\n",
       "      <td>102127.000000</td>\n",
       "      <td>1.000000</td>\n",
       "      <td>1.000000</td>\n",
       "      <td>1.000000</td>\n",
       "      <td>4918.000000</td>\n",
       "      <td>63.000000</td>\n",
       "      <td>871.000000</td>\n",
       "      <td>275.000000</td>\n",
       "      <td>1.000000</td>\n",
       "    </tr>\n",
       "  </tbody>\n",
       "</table>\n",
       "</div>"
      ],
      "text/plain": [
       "                age       default        balance       housing          loan  \\\n",
       "count  39211.000000  39211.000000   39211.000000  39211.000000  39211.000000   \n",
       "mean      42.120247      0.057560    5441.781719      0.552320      0.188493   \n",
       "std       12.709352      0.232913   16365.292065      0.497261      0.391110   \n",
       "min       18.000000      0.000000   -8019.000000      0.000000      0.000000   \n",
       "25%       33.000000      0.000000      98.000000      0.000000      0.000000   \n",
       "50%       40.000000      0.000000     549.000000      1.000000      0.000000   \n",
       "75%       50.000000      0.000000    2030.000000      1.000000      0.000000   \n",
       "max       95.000000      1.000000  102127.000000      1.000000      1.000000   \n",
       "\n",
       "            contact      duration      campaign         pdays      previous  \\\n",
       "count  39211.000000  39211.000000  39211.000000  39211.000000  39211.000000   \n",
       "mean       0.638341    439.062789      5.108770     72.256051     11.826171   \n",
       "std        0.480487    769.096291      9.890153    160.942593     44.140259   \n",
       "min        0.000000      0.000000      1.000000     -1.000000      0.000000   \n",
       "25%        0.000000    109.000000      1.000000     -1.000000      0.000000   \n",
       "50%        1.000000    197.000000      2.000000     -1.000000      0.000000   \n",
       "75%        1.000000    380.000000      4.000000     -1.000000      0.000000   \n",
       "max        1.000000   4918.000000     63.000000    871.000000    275.000000   \n",
       "\n",
       "       previously_contacted  \n",
       "count          39211.000000  \n",
       "mean               0.249037  \n",
       "std                0.432461  \n",
       "min                0.000000  \n",
       "25%                0.000000  \n",
       "50%                0.000000  \n",
       "75%                0.000000  \n",
       "max                1.000000  "
      ]
     },
     "execution_count": 20,
     "metadata": {},
     "output_type": "execute_result"
    }
   ],
   "source": [
    "print('Shape:', train.shape)\n",
    "print('')\n",
    "print('---------------------------------------------------------------------------')\n",
    "print('')\n",
    "print(train.info())\n",
    "print('')\n",
    "print('---------------------------------------------------------------------------')\n",
    "print('')\n",
    "train.describe()"
   ]
  },
  {
   "cell_type": "markdown",
   "id": "46cf6f28",
   "metadata": {
    "papermill": {
     "duration": 0.024039,
     "end_time": "2024-09-25T11:21:54.801713",
     "exception": false,
     "start_time": "2024-09-25T11:21:54.777674",
     "status": "completed"
    },
    "tags": []
   },
   "source": [
    "# Column Transformer"
   ]
  },
  {
   "cell_type": "code",
   "execution_count": 21,
   "id": "7c1ea745",
   "metadata": {
    "execution": {
     "iopub.execute_input": "2024-09-25T11:21:54.849141Z",
     "iopub.status.busy": "2024-09-25T11:21:54.848019Z",
     "iopub.status.idle": "2024-09-25T11:21:56.270524Z",
     "shell.execute_reply": "2024-09-25T11:21:56.269418Z"
    },
    "papermill": {
     "duration": 1.449203,
     "end_time": "2024-09-25T11:21:56.273368",
     "exception": false,
     "start_time": "2024-09-25T11:21:54.824165",
     "status": "completed"
    },
    "tags": []
   },
   "outputs": [],
   "source": [
    "from sklearn.compose import ColumnTransformer\n",
    "from sklearn.preprocessing import StandardScaler , OneHotEncoder  , LabelEncoder, RobustScaler , OrdinalEncoder\n",
    "\n",
    "col_transformer=ColumnTransformer(transformers=[\n",
    "    \n",
    "    ('numerical_cols' , RobustScaler(),['age','balance','duration','campaign','previous']),\n",
    "    ('categorical_cols' , OneHotEncoder(handle_unknown='ignore',sparse_output=False),['job','marital','poutcome']),\n",
    "    ('label_cols', OrdinalEncoder(),['education'])\n",
    "   \n",
    "    \n",
    "])"
   ]
  },
  {
   "cell_type": "code",
   "execution_count": 22,
   "id": "6bdc5967",
   "metadata": {
    "execution": {
     "iopub.execute_input": "2024-09-25T11:21:56.321897Z",
     "iopub.status.busy": "2024-09-25T11:21:56.321224Z",
     "iopub.status.idle": "2024-09-25T11:21:56.338759Z",
     "shell.execute_reply": "2024-09-25T11:21:56.337561Z"
    },
    "papermill": {
     "duration": 0.044512,
     "end_time": "2024-09-25T11:21:56.341472",
     "exception": false,
     "start_time": "2024-09-25T11:21:56.296960",
     "status": "completed"
    },
    "tags": []
   },
   "outputs": [],
   "source": [
    "y=train['target']\n",
    "\n",
    "train=train[['age','balance','duration','campaign','previous' ,'job','marital','poutcome' ,'education','previously_contacted' ,'default','housing','loan','contact']]\n",
    "\n",
    "\n",
    "\n",
    "\n",
    "test=test[['age','balance','duration','campaign','previous' ,'job','marital','poutcome' ,'education','previously_contacted' ,'default','housing','loan','contact']]\n"
   ]
  },
  {
   "cell_type": "code",
   "execution_count": 23,
   "id": "2b9eaf61",
   "metadata": {
    "execution": {
     "iopub.execute_input": "2024-09-25T11:21:56.388855Z",
     "iopub.status.busy": "2024-09-25T11:21:56.388391Z",
     "iopub.status.idle": "2024-09-25T11:21:56.402342Z",
     "shell.execute_reply": "2024-09-25T11:21:56.401109Z"
    },
    "papermill": {
     "duration": 0.041298,
     "end_time": "2024-09-25T11:21:56.405125",
     "exception": false,
     "start_time": "2024-09-25T11:21:56.363827",
     "status": "completed"
    },
    "tags": []
   },
   "outputs": [
    {
     "name": "stdout",
     "output_type": "stream",
     "text": [
      "target\n",
      "no     33384\n",
      "yes     5827\n",
      "Name: count, dtype: int64\n"
     ]
    }
   ],
   "source": [
    "print(y.value_counts())"
   ]
  },
  {
   "cell_type": "code",
   "execution_count": 24,
   "id": "74a58046",
   "metadata": {
    "execution": {
     "iopub.execute_input": "2024-09-25T11:21:56.452843Z",
     "iopub.status.busy": "2024-09-25T11:21:56.451692Z",
     "iopub.status.idle": "2024-09-25T11:21:56.474711Z",
     "shell.execute_reply": "2024-09-25T11:21:56.473452Z"
    },
    "papermill": {
     "duration": 0.049635,
     "end_time": "2024-09-25T11:21:56.477408",
     "exception": false,
     "start_time": "2024-09-25T11:21:56.427773",
     "status": "completed"
    },
    "tags": []
   },
   "outputs": [
    {
     "data": {
      "text/html": [
       "<div>\n",
       "<style scoped>\n",
       "    .dataframe tbody tr th:only-of-type {\n",
       "        vertical-align: middle;\n",
       "    }\n",
       "\n",
       "    .dataframe tbody tr th {\n",
       "        vertical-align: top;\n",
       "    }\n",
       "\n",
       "    .dataframe thead th {\n",
       "        text-align: right;\n",
       "    }\n",
       "</style>\n",
       "<table border=\"1\" class=\"dataframe\">\n",
       "  <thead>\n",
       "    <tr style=\"text-align: right;\">\n",
       "      <th></th>\n",
       "      <th>age</th>\n",
       "      <th>balance</th>\n",
       "      <th>duration</th>\n",
       "      <th>campaign</th>\n",
       "      <th>previous</th>\n",
       "      <th>job</th>\n",
       "      <th>marital</th>\n",
       "      <th>poutcome</th>\n",
       "      <th>education</th>\n",
       "      <th>previously_contacted</th>\n",
       "      <th>default</th>\n",
       "      <th>housing</th>\n",
       "      <th>loan</th>\n",
       "      <th>contact</th>\n",
       "    </tr>\n",
       "  </thead>\n",
       "  <tbody>\n",
       "    <tr>\n",
       "      <th>0</th>\n",
       "      <td>26</td>\n",
       "      <td>647</td>\n",
       "      <td>357</td>\n",
       "      <td>2</td>\n",
       "      <td>1</td>\n",
       "      <td>blue-collar</td>\n",
       "      <td>married</td>\n",
       "      <td>other</td>\n",
       "      <td>secondary</td>\n",
       "      <td>1</td>\n",
       "      <td>0</td>\n",
       "      <td>1</td>\n",
       "      <td>0</td>\n",
       "      <td>1</td>\n",
       "    </tr>\n",
       "    <tr>\n",
       "      <th>1</th>\n",
       "      <td>52</td>\n",
       "      <td>553</td>\n",
       "      <td>160</td>\n",
       "      <td>1</td>\n",
       "      <td>0</td>\n",
       "      <td>technician</td>\n",
       "      <td>married</td>\n",
       "      <td>unknown</td>\n",
       "      <td>secondary</td>\n",
       "      <td>0</td>\n",
       "      <td>0</td>\n",
       "      <td>1</td>\n",
       "      <td>0</td>\n",
       "      <td>0</td>\n",
       "    </tr>\n",
       "    <tr>\n",
       "      <th>2</th>\n",
       "      <td>44</td>\n",
       "      <td>1397</td>\n",
       "      <td>326</td>\n",
       "      <td>1</td>\n",
       "      <td>0</td>\n",
       "      <td>blue-collar</td>\n",
       "      <td>married</td>\n",
       "      <td>unknown</td>\n",
       "      <td>secondary</td>\n",
       "      <td>0</td>\n",
       "      <td>0</td>\n",
       "      <td>0</td>\n",
       "      <td>0</td>\n",
       "      <td>1</td>\n",
       "    </tr>\n",
       "    <tr>\n",
       "      <th>3</th>\n",
       "      <td>33</td>\n",
       "      <td>394</td>\n",
       "      <td>104</td>\n",
       "      <td>3</td>\n",
       "      <td>0</td>\n",
       "      <td>admin.</td>\n",
       "      <td>married</td>\n",
       "      <td>unknown</td>\n",
       "      <td>secondary</td>\n",
       "      <td>0</td>\n",
       "      <td>0</td>\n",
       "      <td>1</td>\n",
       "      <td>0</td>\n",
       "      <td>0</td>\n",
       "    </tr>\n",
       "    <tr>\n",
       "      <th>4</th>\n",
       "      <td>31</td>\n",
       "      <td>137</td>\n",
       "      <td>445</td>\n",
       "      <td>2</td>\n",
       "      <td>0</td>\n",
       "      <td>entrepreneur</td>\n",
       "      <td>single</td>\n",
       "      <td>unknown</td>\n",
       "      <td>tertiary</td>\n",
       "      <td>0</td>\n",
       "      <td>0</td>\n",
       "      <td>0</td>\n",
       "      <td>0</td>\n",
       "      <td>1</td>\n",
       "    </tr>\n",
       "    <tr>\n",
       "      <th>...</th>\n",
       "      <td>...</td>\n",
       "      <td>...</td>\n",
       "      <td>...</td>\n",
       "      <td>...</td>\n",
       "      <td>...</td>\n",
       "      <td>...</td>\n",
       "      <td>...</td>\n",
       "      <td>...</td>\n",
       "      <td>...</td>\n",
       "      <td>...</td>\n",
       "      <td>...</td>\n",
       "      <td>...</td>\n",
       "      <td>...</td>\n",
       "      <td>...</td>\n",
       "    </tr>\n",
       "    <tr>\n",
       "      <th>39206</th>\n",
       "      <td>31</td>\n",
       "      <td>0</td>\n",
       "      <td>16</td>\n",
       "      <td>34</td>\n",
       "      <td>0</td>\n",
       "      <td>technician</td>\n",
       "      <td>single</td>\n",
       "      <td>unknown</td>\n",
       "      <td>secondary</td>\n",
       "      <td>0</td>\n",
       "      <td>0</td>\n",
       "      <td>1</td>\n",
       "      <td>0</td>\n",
       "      <td>1</td>\n",
       "    </tr>\n",
       "    <tr>\n",
       "      <th>39207</th>\n",
       "      <td>59</td>\n",
       "      <td>6187</td>\n",
       "      <td>114</td>\n",
       "      <td>4</td>\n",
       "      <td>0</td>\n",
       "      <td>admin.</td>\n",
       "      <td>married</td>\n",
       "      <td>unknown</td>\n",
       "      <td>primary</td>\n",
       "      <td>0</td>\n",
       "      <td>0</td>\n",
       "      <td>0</td>\n",
       "      <td>0</td>\n",
       "      <td>1</td>\n",
       "    </tr>\n",
       "    <tr>\n",
       "      <th>39208</th>\n",
       "      <td>36</td>\n",
       "      <td>63</td>\n",
       "      <td>56</td>\n",
       "      <td>8</td>\n",
       "      <td>0</td>\n",
       "      <td>blue-collar</td>\n",
       "      <td>married</td>\n",
       "      <td>unknown</td>\n",
       "      <td>secondary</td>\n",
       "      <td>0</td>\n",
       "      <td>0</td>\n",
       "      <td>1</td>\n",
       "      <td>0</td>\n",
       "      <td>0</td>\n",
       "    </tr>\n",
       "    <tr>\n",
       "      <th>39209</th>\n",
       "      <td>28</td>\n",
       "      <td>5916</td>\n",
       "      <td>93</td>\n",
       "      <td>5</td>\n",
       "      <td>0</td>\n",
       "      <td>student</td>\n",
       "      <td>single</td>\n",
       "      <td>unknown</td>\n",
       "      <td>secondary</td>\n",
       "      <td>0</td>\n",
       "      <td>0</td>\n",
       "      <td>0</td>\n",
       "      <td>0</td>\n",
       "      <td>1</td>\n",
       "    </tr>\n",
       "    <tr>\n",
       "      <th>39210</th>\n",
       "      <td>51</td>\n",
       "      <td>38594</td>\n",
       "      <td>1877</td>\n",
       "      <td>19</td>\n",
       "      <td>148</td>\n",
       "      <td>student</td>\n",
       "      <td>divorced</td>\n",
       "      <td>success</td>\n",
       "      <td>tertiary</td>\n",
       "      <td>1</td>\n",
       "      <td>1</td>\n",
       "      <td>1</td>\n",
       "      <td>0</td>\n",
       "      <td>1</td>\n",
       "    </tr>\n",
       "  </tbody>\n",
       "</table>\n",
       "<p>39211 rows × 14 columns</p>\n",
       "</div>"
      ],
      "text/plain": [
       "       age  balance  duration  campaign  previous           job   marital  \\\n",
       "0       26      647       357         2         1   blue-collar   married   \n",
       "1       52      553       160         1         0    technician   married   \n",
       "2       44     1397       326         1         0   blue-collar   married   \n",
       "3       33      394       104         3         0        admin.   married   \n",
       "4       31      137       445         2         0  entrepreneur    single   \n",
       "...    ...      ...       ...       ...       ...           ...       ...   \n",
       "39206   31        0        16        34         0    technician    single   \n",
       "39207   59     6187       114         4         0        admin.   married   \n",
       "39208   36       63        56         8         0   blue-collar   married   \n",
       "39209   28     5916        93         5         0       student    single   \n",
       "39210   51    38594      1877        19       148       student  divorced   \n",
       "\n",
       "      poutcome  education  previously_contacted  default  housing  loan  \\\n",
       "0        other  secondary                     1        0        1     0   \n",
       "1      unknown  secondary                     0        0        1     0   \n",
       "2      unknown  secondary                     0        0        0     0   \n",
       "3      unknown  secondary                     0        0        1     0   \n",
       "4      unknown   tertiary                     0        0        0     0   \n",
       "...        ...        ...                   ...      ...      ...   ...   \n",
       "39206  unknown  secondary                     0        0        1     0   \n",
       "39207  unknown    primary                     0        0        0     0   \n",
       "39208  unknown  secondary                     0        0        1     0   \n",
       "39209  unknown  secondary                     0        0        0     0   \n",
       "39210  success   tertiary                     1        1        1     0   \n",
       "\n",
       "       contact  \n",
       "0            1  \n",
       "1            0  \n",
       "2            1  \n",
       "3            0  \n",
       "4            1  \n",
       "...        ...  \n",
       "39206        1  \n",
       "39207        1  \n",
       "39208        0  \n",
       "39209        1  \n",
       "39210        1  \n",
       "\n",
       "[39211 rows x 14 columns]"
      ]
     },
     "execution_count": 24,
     "metadata": {},
     "output_type": "execute_result"
    }
   ],
   "source": [
    "train"
   ]
  },
  {
   "cell_type": "markdown",
   "id": "5ab9f43c",
   "metadata": {
    "papermill": {
     "duration": 0.022646,
     "end_time": "2024-09-25T11:21:56.523618",
     "exception": false,
     "start_time": "2024-09-25T11:21:56.500972",
     "status": "completed"
    },
    "tags": []
   },
   "source": [
    "# train test split"
   ]
  },
  {
   "cell_type": "code",
   "execution_count": 25,
   "id": "56724887",
   "metadata": {
    "execution": {
     "iopub.execute_input": "2024-09-25T11:21:56.571712Z",
     "iopub.status.busy": "2024-09-25T11:21:56.571264Z",
     "iopub.status.idle": "2024-09-25T11:21:56.767527Z",
     "shell.execute_reply": "2024-09-25T11:21:56.766465Z"
    },
    "papermill": {
     "duration": 0.22358,
     "end_time": "2024-09-25T11:21:56.770237",
     "exception": false,
     "start_time": "2024-09-25T11:21:56.546657",
     "status": "completed"
    },
    "tags": []
   },
   "outputs": [],
   "source": [
    "from sklearn.model_selection import train_test_split\n",
    "\n",
    "from sklearn.pipeline import Pipeline\n",
    "from sklearn.metrics import f1_score\n",
    "\n",
    "\n",
    "xtrain , xtest , ytrain , ytest = train_test_split(train , y ,test_size=0.3, random_state=1 , shuffle=True , stratify=y)"
   ]
  },
  {
   "cell_type": "code",
   "execution_count": 26,
   "id": "6505ad72",
   "metadata": {
    "execution": {
     "iopub.execute_input": "2024-09-25T11:21:56.821046Z",
     "iopub.status.busy": "2024-09-25T11:21:56.820647Z",
     "iopub.status.idle": "2024-09-25T11:22:07.570270Z",
     "shell.execute_reply": "2024-09-25T11:22:07.568937Z"
    },
    "papermill": {
     "duration": 10.778416,
     "end_time": "2024-09-25T11:22:07.572835",
     "exception": false,
     "start_time": "2024-09-25T11:21:56.794419",
     "status": "completed"
    },
    "tags": []
   },
   "outputs": [
    {
     "name": "stdout",
     "output_type": "stream",
     "text": [
      "logisticRegressionCV Score 0.8643318599115947\n",
      "logisticRegressionCV f1_score  0.8620436244421394\n"
     ]
    }
   ],
   "source": [
    "from sklearn.linear_model import LogisticRegressionCV\n",
    "logisticRegressionCV = LogisticRegressionCV(cv=5, random_state=1  , class_weight='balanced' , max_iter=500)\n",
    "\n",
    "logistic=Pipeline(steps=[('col_transformer',col_transformer),('logisticRegressionCV',logisticRegressionCV)])\n",
    "\n",
    "\n",
    "logistic.fit(xtrain, ytrain)\n",
    "ypredicted_logistic=logistic.predict(xtest)\n",
    "\n",
    "print(   'logisticRegressionCV Score'   ,  logistic.score(xtest,ytest)  )\n",
    "\n",
    "\n",
    "print(   'logisticRegressionCV f1_score '  ,     f1_score(ytest, ypredicted_logistic  , average='weighted')    )"
   ]
  },
  {
   "cell_type": "code",
   "execution_count": 27,
   "id": "a76a31be",
   "metadata": {
    "execution": {
     "iopub.execute_input": "2024-09-25T11:22:07.622422Z",
     "iopub.status.busy": "2024-09-25T11:22:07.621914Z",
     "iopub.status.idle": "2024-09-25T11:22:07.628465Z",
     "shell.execute_reply": "2024-09-25T11:22:07.627012Z"
    },
    "papermill": {
     "duration": 0.033956,
     "end_time": "2024-09-25T11:22:07.631239",
     "exception": false,
     "start_time": "2024-09-25T11:22:07.597283",
     "status": "completed"
    },
    "tags": []
   },
   "outputs": [],
   "source": [
    "# from sklearn.svm import SVC\n",
    "# from sklearn.pipeline import Pipeline\n",
    "# from sklearn.metrics import f1_score\n",
    "# from sklearn.model_selection import GridSearchCV\n",
    "\n",
    "# # # param_grid = {'svc__C': [0.01, 0.1, 1, 10] }\n",
    "# param_grid = {'svc__C': [0.1] }\n",
    "# # # svc_grid.best_params_\n",
    "# # # {'svc__C': 0.1}\n",
    "# # # svc_grid Score 0.8596381641857229\n",
    "# # # svc_grid f1_score  0.8596381641857229\n",
    "\n",
    "\n",
    "# svc=Pipeline(steps=[('col_transformer',col_transformer),('svc',SVC(random_state=1 , class_weight='balanced' , C=0.1))])\n",
    "\n",
    "# svc_grid = GridSearchCV(svc, param_grid, scoring='f1_weighted', cv=5)\n",
    "\n",
    "# svc_grid.fit(xtrain, ytrain)\n",
    "\n",
    "# ypredicted_svc=svc_grid.predict(xtest)\n",
    "\n",
    "\n",
    "# svc_grid.fit(xtrain, ytrain)\n",
    "\n",
    "\n",
    "# print(   'svc_grid Score'   ,  svc_grid.score(xtest,ytest)  )\n",
    "\n",
    "\n",
    "# print(   'svc_grid f1_score '  ,     f1_score(ytest, ypredicted_svc  , average='weighted')    )"
   ]
  },
  {
   "cell_type": "code",
   "execution_count": 28,
   "id": "243cd5cb",
   "metadata": {
    "execution": {
     "iopub.execute_input": "2024-09-25T11:22:07.679856Z",
     "iopub.status.busy": "2024-09-25T11:22:07.679413Z",
     "iopub.status.idle": "2024-09-25T11:22:16.301718Z",
     "shell.execute_reply": "2024-09-25T11:22:16.300053Z"
    },
    "papermill": {
     "duration": 8.650078,
     "end_time": "2024-09-25T11:22:16.304792",
     "exception": false,
     "start_time": "2024-09-25T11:22:07.654714",
     "status": "completed"
    },
    "tags": []
   },
   "outputs": [
    {
     "name": "stdout",
     "output_type": "stream",
     "text": [
      "ridge_CV Score 0.8310098605916355\n",
      "ridge_CV f1_score  0.8410646774570122\n"
     ]
    }
   ],
   "source": [
    "from sklearn.linear_model import RidgeClassifierCV\n",
    "\n",
    "# ridge_CV=RidgeClassifierCV(cv=4 , class_weight='balanced')\n",
    "\n",
    "\n",
    "ridge_CV=Pipeline([('col_transformer',col_transformer),('RidgeClassifierCV',RidgeClassifierCV(alphas= [0.0001, 0.001, 0.01, 0.1, 1, 10, 100],cv=5 , class_weight='balanced'))])\n",
    "\n",
    "\n",
    "ridge_CV.fit(xtrain, ytrain)\n",
    "\n",
    "ypredicted_ridge_CV=ridge_CV.predict(xtest)\n",
    "\n",
    "print(   'ridge_CV Score'   ,  ridge_CV.score(xtest,ytest)  )\n",
    "\n",
    "\n",
    "print(   'ridge_CV f1_score '  ,     f1_score(ytest, ypredicted_ridge_CV  , average='weighted')    )\n"
   ]
  },
  {
   "cell_type": "code",
   "execution_count": 29,
   "id": "4ccbb53c",
   "metadata": {
    "execution": {
     "iopub.execute_input": "2024-09-25T11:22:16.353242Z",
     "iopub.status.busy": "2024-09-25T11:22:16.352780Z",
     "iopub.status.idle": "2024-09-25T11:22:21.093865Z",
     "shell.execute_reply": "2024-09-25T11:22:21.092335Z"
    },
    "papermill": {
     "duration": 4.768646,
     "end_time": "2024-09-25T11:22:21.096742",
     "exception": false,
     "start_time": "2024-09-25T11:22:16.328096",
     "status": "completed"
    },
    "tags": []
   },
   "outputs": [
    {
     "name": "stdout",
     "output_type": "stream",
     "text": [
      "gradientBoostingClassifier Score 0.8745324719483168\n",
      "gradientBoostingClassifier f1_score  0.8623207658874076\n"
     ]
    }
   ],
   "source": [
    "from sklearn.ensemble import GradientBoostingClassifier\n",
    "\n",
    "gradientBoostingClassifier=Pipeline([('col_transformer',col_transformer),('GradientBoostingClassifier',GradientBoostingClassifier(random_state=1))])\n",
    "gradientBoostingClassifier.fit(xtrain, ytrain)\n",
    "\n",
    "ypredicted_gb=gradientBoostingClassifier.predict(xtest)\n",
    "\n",
    "print(   'gradientBoostingClassifier Score'   ,  gradientBoostingClassifier.score(xtest,ytest)  )\n",
    "\n",
    "\n",
    "print(   'gradientBoostingClassifier f1_score '  ,     f1_score(ytest, ypredicted_gb  , average='weighted')    )\n"
   ]
  },
  {
   "cell_type": "code",
   "execution_count": 30,
   "id": "85378cc1",
   "metadata": {
    "execution": {
     "iopub.execute_input": "2024-09-25T11:22:21.146056Z",
     "iopub.status.busy": "2024-09-25T11:22:21.145617Z",
     "iopub.status.idle": "2024-09-25T11:22:22.180759Z",
     "shell.execute_reply": "2024-09-25T11:22:22.179124Z"
    },
    "papermill": {
     "duration": 1.063765,
     "end_time": "2024-09-25T11:22:22.184105",
     "exception": false,
     "start_time": "2024-09-25T11:22:21.120340",
     "status": "completed"
    },
    "tags": []
   },
   "outputs": [
    {
     "name": "stdout",
     "output_type": "stream",
     "text": [
      "histGradientBoostingClassifier Score 0.8724073444406665\n",
      "histGradientBoostingClassifier f1_score  0.8619053908017806\n"
     ]
    }
   ],
   "source": [
    "from sklearn.ensemble import HistGradientBoostingClassifier\n",
    "histGradientBoostingClassifier=Pipeline([('col_transformer',col_transformer),('HistGradientBoostingClassifier',HistGradientBoostingClassifier(random_state=1))])\n",
    "histGradientBoostingClassifier.fit(xtrain, ytrain)\n",
    "\n",
    "ypredicted_hgb=histGradientBoostingClassifier.predict(xtest)\n",
    "\n",
    "print(   'histGradientBoostingClassifier Score'   ,  histGradientBoostingClassifier.score(xtest,ytest)  )\n",
    "\n",
    "\n",
    "print(   'histGradientBoostingClassifier f1_score '  ,     f1_score(ytest, ypredicted_hgb  , average='weighted')    )\n"
   ]
  },
  {
   "cell_type": "code",
   "execution_count": 31,
   "id": "5956fb95",
   "metadata": {
    "execution": {
     "iopub.execute_input": "2024-09-25T11:22:22.234316Z",
     "iopub.status.busy": "2024-09-25T11:22:22.233873Z",
     "iopub.status.idle": "2024-09-25T11:22:22.239356Z",
     "shell.execute_reply": "2024-09-25T11:22:22.238173Z"
    },
    "papermill": {
     "duration": 0.033977,
     "end_time": "2024-09-25T11:22:22.241941",
     "exception": false,
     "start_time": "2024-09-25T11:22:22.207964",
     "status": "completed"
    },
    "tags": []
   },
   "outputs": [],
   "source": [
    "# from sklearn.model_selection import cross_val_score\n",
    "\n",
    "# # Perform 5-fold cross-validation\n",
    "# cv_scores = cross_val_score(svc, xtrain, ytrain, cv=5, scoring='f1_weighted')\n",
    "\n",
    "# # Print the cross-validation F1 score\n",
    "# print(\"Cross-validation F1 scores: \", cv_scores)\n",
    "# print(\"Mean cross-validation F1 score: \", cv_scores.mean())\n"
   ]
  },
  {
   "cell_type": "code",
   "execution_count": 32,
   "id": "27df2872",
   "metadata": {
    "execution": {
     "iopub.execute_input": "2024-09-25T11:22:22.292762Z",
     "iopub.status.busy": "2024-09-25T11:22:22.292337Z",
     "iopub.status.idle": "2024-09-25T11:22:22.297897Z",
     "shell.execute_reply": "2024-09-25T11:22:22.296536Z"
    },
    "papermill": {
     "duration": 0.034339,
     "end_time": "2024-09-25T11:22:22.300745",
     "exception": false,
     "start_time": "2024-09-25T11:22:22.266406",
     "status": "completed"
    },
    "tags": []
   },
   "outputs": [],
   "source": [
    "# from sklearn.ensemble import RandomForestClassifier\n",
    "\n",
    "# randomForestClassifier=Pipeline([('col_transformer',col_transformer),('randomForest',RandomForestClassifier(random_state=1))])\n",
    "# randomForestClassifier.fit(xtrain, ytrain)\n",
    "\n",
    "# ypredicted_rf=randomForestClassifier.predict(xtest)\n",
    "\n",
    "# print(   'randomForestClassifier Score'   ,  randomForestClassifier.score(xtest,ytest)  )\n",
    "\n",
    "\n",
    "# print(   'randomForestClassifier f1_score '  ,     f1_score(ytest, ypredicted_rf  , average='weighted')    )\n"
   ]
  },
  {
   "cell_type": "code",
   "execution_count": 33,
   "id": "8d9f0d71",
   "metadata": {
    "execution": {
     "iopub.execute_input": "2024-09-25T11:22:22.409517Z",
     "iopub.status.busy": "2024-09-25T11:22:22.409089Z",
     "iopub.status.idle": "2024-09-25T11:22:22.431872Z",
     "shell.execute_reply": "2024-09-25T11:22:22.430744Z"
    },
    "papermill": {
     "duration": 0.050555,
     "end_time": "2024-09-25T11:22:22.434411",
     "exception": false,
     "start_time": "2024-09-25T11:22:22.383856",
     "status": "completed"
    },
    "tags": []
   },
   "outputs": [
    {
     "data": {
      "text/html": [
       "<div>\n",
       "<style scoped>\n",
       "    .dataframe tbody tr th:only-of-type {\n",
       "        vertical-align: middle;\n",
       "    }\n",
       "\n",
       "    .dataframe tbody tr th {\n",
       "        vertical-align: top;\n",
       "    }\n",
       "\n",
       "    .dataframe thead th {\n",
       "        text-align: right;\n",
       "    }\n",
       "</style>\n",
       "<table border=\"1\" class=\"dataframe\">\n",
       "  <thead>\n",
       "    <tr style=\"text-align: right;\">\n",
       "      <th></th>\n",
       "      <th>age</th>\n",
       "      <th>balance</th>\n",
       "      <th>duration</th>\n",
       "      <th>campaign</th>\n",
       "      <th>previous</th>\n",
       "      <th>job</th>\n",
       "      <th>marital</th>\n",
       "      <th>poutcome</th>\n",
       "      <th>education</th>\n",
       "      <th>previously_contacted</th>\n",
       "      <th>default</th>\n",
       "      <th>housing</th>\n",
       "      <th>loan</th>\n",
       "      <th>contact</th>\n",
       "    </tr>\n",
       "  </thead>\n",
       "  <tbody>\n",
       "    <tr>\n",
       "      <th>0</th>\n",
       "      <td>36</td>\n",
       "      <td>7</td>\n",
       "      <td>20</td>\n",
       "      <td>1</td>\n",
       "      <td>0</td>\n",
       "      <td>management</td>\n",
       "      <td>single</td>\n",
       "      <td>unknown</td>\n",
       "      <td>tertiary</td>\n",
       "      <td>0</td>\n",
       "      <td>0</td>\n",
       "      <td>0</td>\n",
       "      <td>0</td>\n",
       "      <td>0</td>\n",
       "    </tr>\n",
       "    <tr>\n",
       "      <th>1</th>\n",
       "      <td>30</td>\n",
       "      <td>1067</td>\n",
       "      <td>78</td>\n",
       "      <td>2</td>\n",
       "      <td>0</td>\n",
       "      <td>unemployed</td>\n",
       "      <td>married</td>\n",
       "      <td>unknown</td>\n",
       "      <td>tertiary</td>\n",
       "      <td>0</td>\n",
       "      <td>0</td>\n",
       "      <td>0</td>\n",
       "      <td>0</td>\n",
       "      <td>1</td>\n",
       "    </tr>\n",
       "    <tr>\n",
       "      <th>2</th>\n",
       "      <td>32</td>\n",
       "      <td>82</td>\n",
       "      <td>86</td>\n",
       "      <td>4</td>\n",
       "      <td>0</td>\n",
       "      <td>blue-collar</td>\n",
       "      <td>single</td>\n",
       "      <td>unknown</td>\n",
       "      <td>secondary</td>\n",
       "      <td>0</td>\n",
       "      <td>0</td>\n",
       "      <td>1</td>\n",
       "      <td>0</td>\n",
       "      <td>1</td>\n",
       "    </tr>\n",
       "    <tr>\n",
       "      <th>3</th>\n",
       "      <td>38</td>\n",
       "      <td>1487</td>\n",
       "      <td>332</td>\n",
       "      <td>2</td>\n",
       "      <td>0</td>\n",
       "      <td>admin.</td>\n",
       "      <td>married</td>\n",
       "      <td>unknown</td>\n",
       "      <td>primary</td>\n",
       "      <td>0</td>\n",
       "      <td>0</td>\n",
       "      <td>0</td>\n",
       "      <td>0</td>\n",
       "      <td>0</td>\n",
       "    </tr>\n",
       "    <tr>\n",
       "      <th>4</th>\n",
       "      <td>59</td>\n",
       "      <td>315</td>\n",
       "      <td>591</td>\n",
       "      <td>1</td>\n",
       "      <td>2</td>\n",
       "      <td>management</td>\n",
       "      <td>married</td>\n",
       "      <td>failure</td>\n",
       "      <td>tertiary</td>\n",
       "      <td>1</td>\n",
       "      <td>0</td>\n",
       "      <td>0</td>\n",
       "      <td>0</td>\n",
       "      <td>1</td>\n",
       "    </tr>\n",
       "    <tr>\n",
       "      <th>...</th>\n",
       "      <td>...</td>\n",
       "      <td>...</td>\n",
       "      <td>...</td>\n",
       "      <td>...</td>\n",
       "      <td>...</td>\n",
       "      <td>...</td>\n",
       "      <td>...</td>\n",
       "      <td>...</td>\n",
       "      <td>...</td>\n",
       "      <td>...</td>\n",
       "      <td>...</td>\n",
       "      <td>...</td>\n",
       "      <td>...</td>\n",
       "      <td>...</td>\n",
       "    </tr>\n",
       "    <tr>\n",
       "      <th>9995</th>\n",
       "      <td>38</td>\n",
       "      <td>8953</td>\n",
       "      <td>301</td>\n",
       "      <td>1</td>\n",
       "      <td>0</td>\n",
       "      <td>management</td>\n",
       "      <td>single</td>\n",
       "      <td>unknown</td>\n",
       "      <td>tertiary</td>\n",
       "      <td>0</td>\n",
       "      <td>0</td>\n",
       "      <td>0</td>\n",
       "      <td>1</td>\n",
       "      <td>1</td>\n",
       "    </tr>\n",
       "    <tr>\n",
       "      <th>9996</th>\n",
       "      <td>26</td>\n",
       "      <td>317</td>\n",
       "      <td>953</td>\n",
       "      <td>1</td>\n",
       "      <td>0</td>\n",
       "      <td>admin.</td>\n",
       "      <td>single</td>\n",
       "      <td>unknown</td>\n",
       "      <td>secondary</td>\n",
       "      <td>0</td>\n",
       "      <td>0</td>\n",
       "      <td>1</td>\n",
       "      <td>0</td>\n",
       "      <td>0</td>\n",
       "    </tr>\n",
       "    <tr>\n",
       "      <th>9997</th>\n",
       "      <td>26</td>\n",
       "      <td>181</td>\n",
       "      <td>158</td>\n",
       "      <td>2</td>\n",
       "      <td>0</td>\n",
       "      <td>technician</td>\n",
       "      <td>single</td>\n",
       "      <td>unknown</td>\n",
       "      <td>secondary</td>\n",
       "      <td>0</td>\n",
       "      <td>0</td>\n",
       "      <td>0</td>\n",
       "      <td>0</td>\n",
       "      <td>1</td>\n",
       "    </tr>\n",
       "    <tr>\n",
       "      <th>9998</th>\n",
       "      <td>32</td>\n",
       "      <td>312</td>\n",
       "      <td>232</td>\n",
       "      <td>2</td>\n",
       "      <td>0</td>\n",
       "      <td>management</td>\n",
       "      <td>single</td>\n",
       "      <td>unknown</td>\n",
       "      <td>tertiary</td>\n",
       "      <td>0</td>\n",
       "      <td>0</td>\n",
       "      <td>0</td>\n",
       "      <td>0</td>\n",
       "      <td>1</td>\n",
       "    </tr>\n",
       "    <tr>\n",
       "      <th>9999</th>\n",
       "      <td>38</td>\n",
       "      <td>823</td>\n",
       "      <td>132</td>\n",
       "      <td>5</td>\n",
       "      <td>0</td>\n",
       "      <td>services</td>\n",
       "      <td>married</td>\n",
       "      <td>unknown</td>\n",
       "      <td>secondary</td>\n",
       "      <td>0</td>\n",
       "      <td>0</td>\n",
       "      <td>1</td>\n",
       "      <td>0</td>\n",
       "      <td>0</td>\n",
       "    </tr>\n",
       "  </tbody>\n",
       "</table>\n",
       "<p>10000 rows × 14 columns</p>\n",
       "</div>"
      ],
      "text/plain": [
       "      age  balance  duration  campaign  previous          job  marital  \\\n",
       "0      36        7        20         1         0   management   single   \n",
       "1      30     1067        78         2         0   unemployed  married   \n",
       "2      32       82        86         4         0  blue-collar   single   \n",
       "3      38     1487       332         2         0       admin.  married   \n",
       "4      59      315       591         1         2   management  married   \n",
       "...   ...      ...       ...       ...       ...          ...      ...   \n",
       "9995   38     8953       301         1         0   management   single   \n",
       "9996   26      317       953         1         0       admin.   single   \n",
       "9997   26      181       158         2         0   technician   single   \n",
       "9998   32      312       232         2         0   management   single   \n",
       "9999   38      823       132         5         0     services  married   \n",
       "\n",
       "     poutcome  education  previously_contacted  default  housing  loan  \\\n",
       "0     unknown   tertiary                     0        0        0     0   \n",
       "1     unknown   tertiary                     0        0        0     0   \n",
       "2     unknown  secondary                     0        0        1     0   \n",
       "3     unknown    primary                     0        0        0     0   \n",
       "4     failure   tertiary                     1        0        0     0   \n",
       "...       ...        ...                   ...      ...      ...   ...   \n",
       "9995  unknown   tertiary                     0        0        0     1   \n",
       "9996  unknown  secondary                     0        0        1     0   \n",
       "9997  unknown  secondary                     0        0        0     0   \n",
       "9998  unknown   tertiary                     0        0        0     0   \n",
       "9999  unknown  secondary                     0        0        1     0   \n",
       "\n",
       "      contact  \n",
       "0           0  \n",
       "1           1  \n",
       "2           1  \n",
       "3           0  \n",
       "4           1  \n",
       "...       ...  \n",
       "9995        1  \n",
       "9996        0  \n",
       "9997        1  \n",
       "9998        1  \n",
       "9999        0  \n",
       "\n",
       "[10000 rows x 14 columns]"
      ]
     },
     "execution_count": 33,
     "metadata": {},
     "output_type": "execute_result"
    }
   ],
   "source": [
    "test"
   ]
  },
  {
   "cell_type": "code",
   "execution_count": 34,
   "id": "1d79de52",
   "metadata": {
    "execution": {
     "iopub.execute_input": "2024-09-25T11:22:22.484676Z",
     "iopub.status.busy": "2024-09-25T11:22:22.484246Z",
     "iopub.status.idle": "2024-09-25T11:22:22.548052Z",
     "shell.execute_reply": "2024-09-25T11:22:22.545885Z"
    },
    "papermill": {
     "duration": 0.094302,
     "end_time": "2024-09-25T11:22:22.553115",
     "exception": false,
     "start_time": "2024-09-25T11:22:22.458813",
     "status": "completed"
    },
    "tags": []
   },
   "outputs": [],
   "source": [
    "y_pred_submission=ridge_CV.predict(test)\n",
    "submission=pd.DataFrame({'id': np.arange(0,len(test)), 'target': y_pred_submission})\n",
    "\n",
    "submission.to_csv('submission.csv',index=False)"
   ]
  },
  {
   "cell_type": "code",
   "execution_count": null,
   "id": "37034507",
   "metadata": {
    "papermill": {
     "duration": 0.038323,
     "end_time": "2024-09-25T11:22:22.643309",
     "exception": false,
     "start_time": "2024-09-25T11:22:22.604986",
     "status": "completed"
    },
    "tags": []
   },
   "outputs": [],
   "source": []
  }
 ],
 "metadata": {
  "kaggle": {
   "accelerator": "none",
   "dataSources": [
    {
     "databundleVersionId": 9578279,
     "sourceId": 85062,
     "sourceType": "competition"
    }
   ],
   "dockerImageVersionId": 30761,
   "isGpuEnabled": false,
   "isInternetEnabled": true,
   "language": "python",
   "sourceType": "notebook"
  },
  "kernelspec": {
   "display_name": "Python 3",
   "language": "python",
   "name": "python3"
  },
  "language_info": {
   "codemirror_mode": {
    "name": "ipython",
    "version": 3
   },
   "file_extension": ".py",
   "mimetype": "text/x-python",
   "name": "python",
   "nbconvert_exporter": "python",
   "pygments_lexer": "ipython3",
   "version": "3.10.14"
  },
  "papermill": {
   "default_parameters": {},
   "duration": 38.409088,
   "end_time": "2024-09-25T11:22:23.390749",
   "environment_variables": {},
   "exception": null,
   "input_path": "__notebook__.ipynb",
   "output_path": "__notebook__.ipynb",
   "parameters": {},
   "start_time": "2024-09-25T11:21:44.981661",
   "version": "2.6.0"
  }
 },
 "nbformat": 4,
 "nbformat_minor": 5
}

{
 "cells": [
  {
   "cell_type": "code",
   "execution_count": 1,
   "id": "b4eb83df",
   "metadata": {
    "_cell_guid": "b1076dfc-b9ad-4769-8c92-a6c4dae69d19",
    "_uuid": "8f2839f25d086af736a60e9eeb907d3b93b6e0e5",
    "execution": {
     "iopub.execute_input": "2024-10-23T04:42:31.579671Z",
     "iopub.status.busy": "2024-10-23T04:42:31.579103Z",
     "iopub.status.idle": "2024-10-23T04:42:32.711190Z",
     "shell.execute_reply": "2024-10-23T04:42:32.709812Z"
    },
    "papermill": {
     "duration": 1.153221,
     "end_time": "2024-10-23T04:42:32.714466",
     "exception": false,
     "start_time": "2024-10-23T04:42:31.561245",
     "status": "completed"
    },
    "tags": []
   },
   "outputs": [
    {
     "name": "stdout",
     "output_type": "stream",
     "text": [
      "/kaggle/input/predict-the-success-of-bank-telemarketing/sample_submission.csv\n",
      "/kaggle/input/predict-the-success-of-bank-telemarketing/train.csv\n",
      "/kaggle/input/predict-the-success-of-bank-telemarketing/test.csv\n"
     ]
    }
   ],
   "source": [
    "# This Python 3 environment comes with many helpful analytics libraries installed\n",
    "# It is defined by the kaggle/python Docker image: https://github.com/kaggle/docker-python\n",
    "# For example, here's several helpful packages to load\n",
    "\n",
    "import numpy as np # linear algebra\n",
    "import pandas as pd # data processing, CSV file I/O (e.g. pd.read_csv)\n",
    "\n",
    "# Input data files are available in the read-only \"../input/\" directory\n",
    "# For example, running this (by clicking run or pressing Shift+Enter) will list all files under the input directory\n",
    "\n",
    "import os\n",
    "for dirname, _, filenames in os.walk('/kaggle/input'):\n",
    "    for filename in filenames:\n",
    "        print(os.path.join(dirname, filename))\n",
    "\n",
    "# You can write up to 20GB to the current directory (/kaggle/working/) that gets preserved as output when you create a version using \"Save & Run All\" \n",
    "# You can also write temporary files to /kaggle/temp/, but they won't be saved outside of the current session"
   ]
  },
  {
   "cell_type": "code",
   "execution_count": 2,
   "id": "5ca39277",
   "metadata": {
    "execution": {
     "iopub.execute_input": "2024-10-23T04:42:32.752591Z",
     "iopub.status.busy": "2024-10-23T04:42:32.751456Z",
     "iopub.status.idle": "2024-10-23T04:42:34.733201Z",
     "shell.execute_reply": "2024-10-23T04:42:34.731875Z"
    },
    "papermill": {
     "duration": 2.001538,
     "end_time": "2024-10-23T04:42:34.736043",
     "exception": false,
     "start_time": "2024-10-23T04:42:32.734505",
     "status": "completed"
    },
    "tags": []
   },
   "outputs": [],
   "source": [
    "# !pip install xgboost\n",
    "\n",
    "import matplotlib.pyplot as plt\n",
    "from sklearn.model_selection import GridSearchCV , RepeatedStratifiedKFold\n",
    "from sklearn.decomposition import PCA\n",
    "\n"
   ]
  },
  {
   "cell_type": "code",
   "execution_count": 3,
   "id": "73d5c2fe",
   "metadata": {
    "execution": {
     "iopub.execute_input": "2024-10-23T04:42:34.770476Z",
     "iopub.status.busy": "2024-10-23T04:42:34.769246Z",
     "iopub.status.idle": "2024-10-23T04:42:34.949800Z",
     "shell.execute_reply": "2024-10-23T04:42:34.948475Z"
    },
    "papermill": {
     "duration": 0.200475,
     "end_time": "2024-10-23T04:42:34.952407",
     "exception": false,
     "start_time": "2024-10-23T04:42:34.751932",
     "status": "completed"
    },
    "tags": []
   },
   "outputs": [],
   "source": [
    "train=pd.read_csv('/kaggle/input/predict-the-success-of-bank-telemarketing/train.csv')\n",
    "test=pd.read_csv('/kaggle/input/predict-the-success-of-bank-telemarketing/test.csv')\n"
   ]
  },
  {
   "cell_type": "code",
   "execution_count": 4,
   "id": "a23a9397",
   "metadata": {
    "execution": {
     "iopub.execute_input": "2024-10-23T04:42:34.985624Z",
     "iopub.status.busy": "2024-10-23T04:42:34.985183Z",
     "iopub.status.idle": "2024-10-23T04:42:34.993716Z",
     "shell.execute_reply": "2024-10-23T04:42:34.992548Z"
    },
    "papermill": {
     "duration": 0.027978,
     "end_time": "2024-10-23T04:42:34.996392",
     "exception": false,
     "start_time": "2024-10-23T04:42:34.968414",
     "status": "completed"
    },
    "tags": []
   },
   "outputs": [
    {
     "data": {
      "text/plain": [
       "(39211, 16)"
      ]
     },
     "execution_count": 4,
     "metadata": {},
     "output_type": "execute_result"
    }
   ],
   "source": [
    "train.shape"
   ]
  },
  {
   "cell_type": "code",
   "execution_count": 5,
   "id": "1b171474",
   "metadata": {
    "execution": {
     "iopub.execute_input": "2024-10-23T04:42:35.031347Z",
     "iopub.status.busy": "2024-10-23T04:42:35.030953Z",
     "iopub.status.idle": "2024-10-23T04:42:35.056746Z",
     "shell.execute_reply": "2024-10-23T04:42:35.055525Z"
    },
    "papermill": {
     "duration": 0.045531,
     "end_time": "2024-10-23T04:42:35.059142",
     "exception": false,
     "start_time": "2024-10-23T04:42:35.013611",
     "status": "completed"
    },
    "tags": []
   },
   "outputs": [
    {
     "data": {
      "text/plain": [
       "target\n",
       "no     33384\n",
       "yes     5827\n",
       "Name: count, dtype: int64"
      ]
     },
     "execution_count": 5,
     "metadata": {},
     "output_type": "execute_result"
    }
   ],
   "source": [
    "train['target'].value_counts()"
   ]
  },
  {
   "cell_type": "code",
   "execution_count": 6,
   "id": "a64796df",
   "metadata": {
    "execution": {
     "iopub.execute_input": "2024-10-23T04:42:35.092298Z",
     "iopub.status.busy": "2024-10-23T04:42:35.091933Z",
     "iopub.status.idle": "2024-10-23T04:42:35.121623Z",
     "shell.execute_reply": "2024-10-23T04:42:35.120258Z"
    },
    "papermill": {
     "duration": 0.04918,
     "end_time": "2024-10-23T04:42:35.124111",
     "exception": false,
     "start_time": "2024-10-23T04:42:35.074931",
     "status": "completed"
    },
    "tags": []
   },
   "outputs": [
    {
     "data": {
      "text/plain": [
       "last contact date        0\n",
       "age                      0\n",
       "job                    229\n",
       "marital                  0\n",
       "education             1467\n",
       "default                  0\n",
       "balance                  0\n",
       "housing                  0\n",
       "loan                     0\n",
       "contact              10336\n",
       "duration                 0\n",
       "campaign                 0\n",
       "pdays                    0\n",
       "previous                 0\n",
       "poutcome             29451\n",
       "target                   0\n",
       "dtype: int64"
      ]
     },
     "execution_count": 6,
     "metadata": {},
     "output_type": "execute_result"
    }
   ],
   "source": [
    "train.isnull().sum()"
   ]
  },
  {
   "cell_type": "code",
   "execution_count": 7,
   "id": "ed0659fe",
   "metadata": {
    "execution": {
     "iopub.execute_input": "2024-10-23T04:42:35.157825Z",
     "iopub.status.busy": "2024-10-23T04:42:35.156848Z",
     "iopub.status.idle": "2024-10-23T04:42:35.169869Z",
     "shell.execute_reply": "2024-10-23T04:42:35.168778Z"
    },
    "papermill": {
     "duration": 0.032444,
     "end_time": "2024-10-23T04:42:35.172259",
     "exception": false,
     "start_time": "2024-10-23T04:42:35.139815",
     "status": "completed"
    },
    "tags": []
   },
   "outputs": [
    {
     "data": {
      "text/plain": [
       "last contact date       0\n",
       "age                     0\n",
       "job                    59\n",
       "marital                 0\n",
       "education             390\n",
       "default                 0\n",
       "balance                 0\n",
       "housing                 0\n",
       "loan                    0\n",
       "contact              2684\n",
       "duration                0\n",
       "campaign                0\n",
       "pdays                   0\n",
       "previous                0\n",
       "poutcome             7508\n",
       "dtype: int64"
      ]
     },
     "execution_count": 7,
     "metadata": {},
     "output_type": "execute_result"
    }
   ],
   "source": [
    "test.isnull().sum()"
   ]
  },
  {
   "cell_type": "markdown",
   "id": "add7f116",
   "metadata": {
    "papermill": {
     "duration": 0.01646,
     "end_time": "2024-10-23T04:42:35.204618",
     "exception": false,
     "start_time": "2024-10-23T04:42:35.188158",
     "status": "completed"
    },
    "tags": []
   },
   "source": [
    "# Last Contact and Feature engineering\n"
   ]
  },
  {
   "cell_type": "code",
   "execution_count": 8,
   "id": "374990f2",
   "metadata": {
    "execution": {
     "iopub.execute_input": "2024-10-23T04:42:35.237814Z",
     "iopub.status.busy": "2024-10-23T04:42:35.237384Z",
     "iopub.status.idle": "2024-10-23T04:42:35.277786Z",
     "shell.execute_reply": "2024-10-23T04:42:35.276639Z"
    },
    "papermill": {
     "duration": 0.059933,
     "end_time": "2024-10-23T04:42:35.280301",
     "exception": false,
     "start_time": "2024-10-23T04:42:35.220368",
     "status": "completed"
    },
    "tags": []
   },
   "outputs": [
    {
     "name": "stdout",
     "output_type": "stream",
     "text": [
      "month\n",
      "5     11004\n",
      "7      5521\n",
      "8      4969\n",
      "6      4232\n",
      "11     3147\n",
      "4      2359\n",
      "2      2087\n",
      "1      1725\n",
      "10     1236\n",
      "9      1091\n",
      "3       997\n",
      "12      843\n",
      "Name: count, dtype: int64\n",
      "\n",
      "--------------------------\n",
      "day\n",
      "3    7428\n",
      "2    7292\n",
      "4    6762\n",
      "1    6184\n",
      "5    4496\n",
      "0    4033\n",
      "6    3016\n",
      "Name: count, dtype: int64\n"
     ]
    }
   ],
   "source": [
    "train['last contact date']=pd.to_datetime(train['last contact date'])\n",
    "\n",
    "train['day']= train['last contact date'].dt.dayofweek\n",
    "\n",
    "train['month'] = train['last contact date'].dt.month\n",
    "\n",
    "print(train['month'].value_counts())\n",
    "\n",
    "print('')\n",
    "print('--------------------------')\n",
    "\n",
    "print(train['day'].value_counts())\n",
    "\n",
    "\n",
    "\n",
    "\n",
    "test['last contact date']=pd.to_datetime(test['last contact date'])\n",
    "\n",
    "test['day']= test['last contact date'].dt.dayofweek\n",
    "\n",
    "test['month'] = test['last contact date'].dt.month\n",
    "\n"
   ]
  },
  {
   "cell_type": "markdown",
   "id": "84b5abe8",
   "metadata": {
    "papermill": {
     "duration": 0.01539,
     "end_time": "2024-10-23T04:42:35.311534",
     "exception": false,
     "start_time": "2024-10-23T04:42:35.296144",
     "status": "completed"
    },
    "tags": []
   },
   "source": [
    "# #WeekDay or Sunday "
   ]
  },
  {
   "cell_type": "code",
   "execution_count": 9,
   "id": "951d16bb",
   "metadata": {
    "execution": {
     "iopub.execute_input": "2024-10-23T04:42:35.345037Z",
     "iopub.status.busy": "2024-10-23T04:42:35.344604Z",
     "iopub.status.idle": "2024-10-23T04:42:35.374499Z",
     "shell.execute_reply": "2024-10-23T04:42:35.372967Z"
    },
    "papermill": {
     "duration": 0.049646,
     "end_time": "2024-10-23T04:42:35.377100",
     "exception": false,
     "start_time": "2024-10-23T04:42:35.327454",
     "status": "completed"
    },
    "tags": []
   },
   "outputs": [],
   "source": [
    "def whichday(x):\n",
    "    if x==1:\n",
    "        return 1\n",
    "    return 0\n",
    "train['isSunday']=train['day'].apply(whichday)\n",
    "\n",
    "test['isSunday']=test['day'].apply(whichday)"
   ]
  },
  {
   "cell_type": "markdown",
   "id": "c4482309",
   "metadata": {
    "papermill": {
     "duration": 0.015669,
     "end_time": "2024-10-23T04:42:35.408806",
     "exception": false,
     "start_time": "2024-10-23T04:42:35.393137",
     "status": "completed"
    },
    "tags": []
   },
   "source": []
  },
  {
   "cell_type": "markdown",
   "id": "2c4838a0",
   "metadata": {
    "papermill": {
     "duration": 0.015413,
     "end_time": "2024-10-23T04:42:35.440029",
     "exception": false,
     "start_time": "2024-10-23T04:42:35.424616",
     "status": "completed"
    },
    "tags": []
   },
   "source": [
    "# Categorical Columns\n",
    "# job , martial , education , default , housing ,loan , contact , poutcome"
   ]
  },
  {
   "cell_type": "markdown",
   "id": "d2181139",
   "metadata": {
    "papermill": {
     "duration": 0.015392,
     "end_time": "2024-10-23T04:42:35.471038",
     "exception": false,
     "start_time": "2024-10-23T04:42:35.455646",
     "status": "completed"
    },
    "tags": []
   },
   "source": [
    "# Job"
   ]
  },
  {
   "cell_type": "code",
   "execution_count": 10,
   "id": "dcb53e2b",
   "metadata": {
    "execution": {
     "iopub.execute_input": "2024-10-23T04:42:35.504371Z",
     "iopub.status.busy": "2024-10-23T04:42:35.503969Z",
     "iopub.status.idle": "2024-10-23T04:42:35.816734Z",
     "shell.execute_reply": "2024-10-23T04:42:35.815220Z"
    },
    "papermill": {
     "duration": 0.332421,
     "end_time": "2024-10-23T04:42:35.819287",
     "exception": false,
     "start_time": "2024-10-23T04:42:35.486866",
     "status": "completed"
    },
    "tags": []
   },
   "outputs": [
    {
     "name": "stdout",
     "output_type": "stream",
     "text": [
      " Number of null values :  229\n",
      "\n",
      "---------------------------------------------------------------------------\n",
      "\n",
      "Unique job :  ['blue-collar' 'technician' 'admin.' 'entrepreneur' 'unemployed'\n",
      " 'management' 'services' 'student' 'self-employed' 'retired' 'housemaid'\n",
      " nan]\n",
      "\n",
      "---------------------------------------------------------------------------\n",
      "\n",
      "job value counts:  job\n",
      "blue-collar      7776\n",
      "management       7462\n",
      "technician       6078\n",
      "admin.           4116\n",
      "services         3325\n",
      "self-employed    1862\n",
      "retired          1824\n",
      "entrepreneur     1805\n",
      "unemployed       1685\n",
      "housemaid        1656\n",
      "student          1393\n",
      "Name: count, dtype: int64\n",
      "\n",
      "---------------------------------------------------------------------------\n",
      "\n"
     ]
    },
    {
     "data": {
      "image/png": "[encoded data removed]",
      "text/plain": [
       "<Figure size 640x480 with 1 Axes>"
      ]
     },
     "metadata": {},
     "output_type": "display_data"
    },
    {
     "name": "stdout",
     "output_type": "stream",
     "text": [
      "\n",
      "---------------------------------------------------------------------------\n",
      "\n"
     ]
    }
   ],
   "source": [
    "\n",
    "print(' Number of null values : ' , train['job'].isnull().sum())\n",
    "\n",
    "print('')\n",
    "print('---------------------------------------------------------------------------')\n",
    "print('')\n",
    "\n",
    "print('Unique job : ' , train['job'].unique())\n",
    "\n",
    "print('')\n",
    "print('---------------------------------------------------------------------------')\n",
    "print('')\n",
    "\n",
    "print('job value counts: ' , train['job'].value_counts())\n",
    "\n",
    "print('')\n",
    "print('---------------------------------------------------------------------------')\n",
    "print('')\n",
    "\n",
    "train['job'].value_counts().plot(kind='bar')\n",
    "plt.show()\n",
    "\n",
    "print('')\n",
    "print('---------------------------------------------------------------------------')\n",
    "print('')\n",
    "\n",
    "\n",
    "train['job'] = train['job'].replace(np.nan, 'blue-collar')\n",
    "\n",
    "\n",
    "\n",
    "\n",
    "\n",
    "\n",
    "\n",
    "\n",
    "\n",
    "test['job'] = test['job'].replace(np.nan , 'blue-collar')"
   ]
  },
  {
   "cell_type": "markdown",
   "id": "11ed038c",
   "metadata": {
    "papermill": {
     "duration": 0.016225,
     "end_time": "2024-10-23T04:42:35.852130",
     "exception": false,
     "start_time": "2024-10-23T04:42:35.835905",
     "status": "completed"
    },
    "tags": []
   },
   "source": [
    "# martial"
   ]
  },
  {
   "cell_type": "code",
   "execution_count": 11,
   "id": "6bad32eb",
   "metadata": {
    "execution": {
     "iopub.execute_input": "2024-10-23T04:42:35.888103Z",
     "iopub.status.busy": "2024-10-23T04:42:35.887679Z",
     "iopub.status.idle": "2024-10-23T04:42:36.049728Z",
     "shell.execute_reply": "2024-10-23T04:42:36.048297Z"
    },
    "papermill": {
     "duration": 0.183635,
     "end_time": "2024-10-23T04:42:36.052361",
     "exception": false,
     "start_time": "2024-10-23T04:42:35.868726",
     "status": "completed"
    },
    "tags": []
   },
   "outputs": [
    {
     "name": "stdout",
     "output_type": "stream",
     "text": [
      "marital has no null values :  0\n",
      "\n",
      "---------------------------------------------------------------------------\n",
      "\n",
      " Unique marital :  ['married' 'single' 'divorced']\n",
      "\n",
      "---------------------------------------------------------------------------\n",
      "\n",
      "marital value counts:  marital\n",
      "married     22691\n",
      "single      11250\n",
      "divorced     5270\n",
      "Name: count, dtype: int64\n",
      "\n",
      "---------------------------------------------------------------------------\n",
      "\n"
     ]
    },
    {
     "data": {
      "image/png": "[encoded data removed]",
      "text/plain": [
       "<Figure size 640x480 with 1 Axes>"
      ]
     },
     "metadata": {},
     "output_type": "display_data"
    }
   ],
   "source": [
    "print('marital has no null values : ' , train['marital'].isnull().sum())\n",
    "\n",
    "print('')\n",
    "print('---------------------------------------------------------------------------')\n",
    "print('')\n",
    "\n",
    "print(' Unique marital : ' , train['marital'].unique())\n",
    "\n",
    "print('')\n",
    "print('---------------------------------------------------------------------------')\n",
    "print('')\n",
    "\n",
    "print('marital value counts: ' , train['marital'].value_counts())\n",
    "\n",
    "print('')\n",
    "print('---------------------------------------------------------------------------')\n",
    "print('')\n",
    "\n",
    "train['marital'].value_counts().plot(kind='bar')\n",
    "plt.show()"
   ]
  },
  {
   "cell_type": "markdown",
   "id": "47ba5931",
   "metadata": {
    "papermill": {
     "duration": 0.017443,
     "end_time": "2024-10-23T04:42:36.087059",
     "exception": false,
     "start_time": "2024-10-23T04:42:36.069616",
     "status": "completed"
    },
    "tags": []
   },
   "source": [
    "# education"
   ]
  },
  {
   "cell_type": "code",
   "execution_count": 12,
   "id": "ae08e680",
   "metadata": {
    "execution": {
     "iopub.execute_input": "2024-10-23T04:42:36.123857Z",
     "iopub.status.busy": "2024-10-23T04:42:36.123455Z",
     "iopub.status.idle": "2024-10-23T04:42:36.379618Z",
     "shell.execute_reply": "2024-10-23T04:42:36.378488Z"
    },
    "papermill": {
     "duration": 0.276857,
     "end_time": "2024-10-23T04:42:36.382171",
     "exception": false,
     "start_time": "2024-10-23T04:42:36.105314",
     "status": "completed"
    },
    "tags": []
   },
   "outputs": [
    {
     "name": "stdout",
     "output_type": "stream",
     "text": [
      "education has no null values :  1467\n",
      "\n",
      "---------------------------------------------------------------------------\n",
      "\n",
      " Unique education :  ['secondary' 'tertiary' 'primary' nan]\n",
      "\n",
      "---------------------------------------------------------------------------\n",
      "\n",
      "education value counts:  education\n",
      "secondary    19584\n",
      "tertiary     11615\n",
      "primary       6545\n",
      "Name: count, dtype: int64\n",
      "\n",
      "---------------------------------------------------------------------------\n",
      "\n"
     ]
    },
    {
     "data": {
      "image/png": "[encoded data removed]",
      "text/plain": [
       "<Figure size 640x480 with 1 Axes>"
      ]
     },
     "metadata": {},
     "output_type": "display_data"
    }
   ],
   "source": [
    "print('education has no null values : ' , train['education'].isnull().sum())\n",
    "\n",
    "print('')\n",
    "print('---------------------------------------------------------------------------')\n",
    "print('')\n",
    "\n",
    "print(' Unique education : ' , train['education'].unique())\n",
    "\n",
    "print('')\n",
    "print('---------------------------------------------------------------------------')\n",
    "print('')\n",
    "\n",
    "print('education value counts: ' , train['education'].value_counts())\n",
    "\n",
    "print('')\n",
    "print('---------------------------------------------------------------------------')\n",
    "print('')\n",
    "\n",
    "train['education'].value_counts().plot(kind='bar')\n",
    "\n",
    "\n",
    "train['education']=train['education'].replace(np.nan , 'secondary')\n",
    "\n",
    "test['education']=test['education'].replace(np.nan , 'secondary')"
   ]
  },
  {
   "cell_type": "markdown",
   "id": "08bb01d0",
   "metadata": {
    "papermill": {
     "duration": 0.017212,
     "end_time": "2024-10-23T04:42:36.421308",
     "exception": false,
     "start_time": "2024-10-23T04:42:36.404096",
     "status": "completed"
    },
    "tags": []
   },
   "source": [
    "# default\n"
   ]
  },
  {
   "cell_type": "code",
   "execution_count": 13,
   "id": "80af3551",
   "metadata": {
    "execution": {
     "iopub.execute_input": "2024-10-23T04:42:36.466809Z",
     "iopub.status.busy": "2024-10-23T04:42:36.466114Z",
     "iopub.status.idle": "2024-10-23T04:42:36.695937Z",
     "shell.execute_reply": "2024-10-23T04:42:36.694692Z"
    },
    "papermill": {
     "duration": 0.257527,
     "end_time": "2024-10-23T04:42:36.698546",
     "exception": false,
     "start_time": "2024-10-23T04:42:36.441019",
     "status": "completed"
    },
    "tags": []
   },
   "outputs": [
    {
     "name": "stdout",
     "output_type": "stream",
     "text": [
      "default has no null values :  0\n",
      "\n",
      "---------------------------------------------------------------------------\n",
      "\n",
      " Unique default :  ['no' 'yes']\n",
      "\n",
      "---------------------------------------------------------------------------\n",
      "\n",
      "default value counts:  default\n",
      "no     36954\n",
      "yes     2257\n",
      "Name: count, dtype: int64\n",
      "\n",
      "---------------------------------------------------------------------------\n",
      "\n"
     ]
    },
    {
     "data": {
      "image/png": "[encoded data removed]",
      "text/plain": [
       "<Figure size 640x480 with 1 Axes>"
      ]
     },
     "metadata": {},
     "output_type": "display_data"
    }
   ],
   "source": [
    "print('default has no null values : ' , train['default'].isnull().sum())\n",
    "\n",
    "print('')\n",
    "print('---------------------------------------------------------------------------')\n",
    "print('')\n",
    "\n",
    "print(' Unique default : ' , train['default'].unique())\n",
    "\n",
    "print('')\n",
    "print('---------------------------------------------------------------------------')\n",
    "print('')\n",
    "\n",
    "print('default value counts: ' , train['default'].value_counts())\n",
    "\n",
    "print('')\n",
    "print('---------------------------------------------------------------------------')\n",
    "print('')\n",
    "\n",
    "train['default'].value_counts().plot(kind='bar')\n",
    "plt.show()\n",
    "\n",
    "\n",
    "train['default'] = train['default'].map({'no': 0, 'yes': 1})\n",
    "\n",
    "\n",
    "test['default'] = test['default'].map({'no': 0, 'yes': 1})\n"
   ]
  },
  {
   "cell_type": "markdown",
   "id": "213354f4",
   "metadata": {
    "papermill": {
     "duration": 0.021137,
     "end_time": "2024-10-23T04:42:36.744360",
     "exception": false,
     "start_time": "2024-10-23T04:42:36.723223",
     "status": "completed"
    },
    "tags": []
   },
   "source": [
    "# housing"
   ]
  },
  {
   "cell_type": "code",
   "execution_count": 14,
   "id": "74eae7b4",
   "metadata": {
    "execution": {
     "iopub.execute_input": "2024-10-23T04:42:36.784178Z",
     "iopub.status.busy": "2024-10-23T04:42:36.783402Z",
     "iopub.status.idle": "2024-10-23T04:42:37.001010Z",
     "shell.execute_reply": "2024-10-23T04:42:36.999949Z"
    },
    "papermill": {
     "duration": 0.240184,
     "end_time": "2024-10-23T04:42:37.003660",
     "exception": false,
     "start_time": "2024-10-23T04:42:36.763476",
     "status": "completed"
    },
    "tags": []
   },
   "outputs": [
    {
     "name": "stdout",
     "output_type": "stream",
     "text": [
      "housing has no null values :  0\n",
      "\n",
      "---------------------------------------------------------------------------\n",
      "\n",
      " Unique housing :  ['yes' 'no']\n",
      "\n",
      "---------------------------------------------------------------------------\n",
      "\n",
      "housing value counts:  housing\n",
      "yes    21657\n",
      "no     17554\n",
      "Name: count, dtype: int64\n",
      "\n",
      "---------------------------------------------------------------------------\n",
      "\n"
     ]
    },
    {
     "data": {
      "image/png": "[encoded data removed]",
      "text/plain": [
       "<Figure size 640x480 with 1 Axes>"
      ]
     },
     "metadata": {},
     "output_type": "display_data"
    }
   ],
   "source": [
    "print('housing has no null values : ' , train['housing'].isnull().sum())\n",
    "\n",
    "print('')\n",
    "print('---------------------------------------------------------------------------')\n",
    "print('')\n",
    "\n",
    "print(' Unique housing : ' , train['housing'].unique())\n",
    "\n",
    "print('')\n",
    "print('---------------------------------------------------------------------------')\n",
    "print('')\n",
    "\n",
    "print('housing value counts: ' , train['housing'].value_counts())\n",
    "\n",
    "print('')\n",
    "print('---------------------------------------------------------------------------')\n",
    "print('')\n",
    "\n",
    "train['housing'].value_counts().plot(kind='bar')\n",
    "plt.show()\n",
    "\n",
    "train['housing'] = train['housing'].map({'no': 0, 'yes': 1})\n",
    "\n",
    "\n",
    "\n",
    "test['housing'] = test['housing'].map({'no': 0, 'yes': 1})\n"
   ]
  },
  {
   "cell_type": "code",
   "execution_count": 15,
   "id": "304a6458",
   "metadata": {
    "execution": {
     "iopub.execute_input": "2024-10-23T04:42:37.042365Z",
     "iopub.status.busy": "2024-10-23T04:42:37.041956Z",
     "iopub.status.idle": "2024-10-23T04:42:37.266113Z",
     "shell.execute_reply": "2024-10-23T04:42:37.264480Z"
    },
    "papermill": {
     "duration": 0.247519,
     "end_time": "2024-10-23T04:42:37.269243",
     "exception": false,
     "start_time": "2024-10-23T04:42:37.021724",
     "status": "completed"
    },
    "tags": []
   },
   "outputs": [
    {
     "name": "stdout",
     "output_type": "stream",
     "text": [
      "loan has no null values :  0\n",
      "\n",
      "---------------------------------------------------------------------------\n",
      "\n",
      " Unique loan :  ['no' 'yes']\n",
      "\n",
      "---------------------------------------------------------------------------\n",
      "\n",
      "loan value counts:  loan\n",
      "no     31820\n",
      "yes     7391\n",
      "Name: count, dtype: int64\n",
      "\n",
      "---------------------------------------------------------------------------\n",
      "\n"
     ]
    },
    {
     "data": {
      "image/png": "[encoded data removed]",
      "text/plain": [
       "<Figure size 640x480 with 1 Axes>"
      ]
     },
     "metadata": {},
     "output_type": "display_data"
    }
   ],
   "source": [
    "print('loan has no null values : ' , train['loan'].isnull().sum())\n",
    "\n",
    "print('')\n",
    "print('---------------------------------------------------------------------------')\n",
    "print('')\n",
    "\n",
    "print(' Unique loan : ' , train['loan'].unique())\n",
    "\n",
    "print('')\n",
    "print('---------------------------------------------------------------------------')\n",
    "print('')\n",
    "\n",
    "print('loan value counts: ' , train['loan'].value_counts())\n",
    "\n",
    "print('')\n",
    "print('---------------------------------------------------------------------------')\n",
    "print('')\n",
    "\n",
    "train['loan'].value_counts().plot(kind='bar')\n",
    "plt.show()\n",
    "\n",
    "\n",
    "\n",
    "\n",
    "train['loan'] = train['loan'].map({'no': 0, 'yes': 1})\n",
    "\n",
    "\n",
    "test['loan'] = test['loan'].map({'no': 0, 'yes': 1})\n",
    "\n"
   ]
  },
  {
   "cell_type": "code",
   "execution_count": 16,
   "id": "90192dea",
   "metadata": {
    "execution": {
     "iopub.execute_input": "2024-10-23T04:42:37.312081Z",
     "iopub.status.busy": "2024-10-23T04:42:37.311664Z",
     "iopub.status.idle": "2024-10-23T04:42:37.533299Z",
     "shell.execute_reply": "2024-10-23T04:42:37.532171Z"
    },
    "papermill": {
     "duration": 0.244541,
     "end_time": "2024-10-23T04:42:37.536082",
     "exception": false,
     "start_time": "2024-10-23T04:42:37.291541",
     "status": "completed"
    },
    "tags": []
   },
   "outputs": [
    {
     "name": "stdout",
     "output_type": "stream",
     "text": [
      "contact has null values :  10336\n",
      "\n",
      "---------------------------------------------------------------------------\n",
      "\n",
      " Unique contact :  ['cellular' 'telephone' nan]\n",
      "\n",
      "---------------------------------------------------------------------------\n",
      "\n",
      "contact value counts:  contact\n",
      "cellular     25030\n",
      "telephone     3845\n",
      "Name: count, dtype: int64\n",
      "\n",
      "---------------------------------------------------------------------------\n",
      "\n"
     ]
    },
    {
     "data": {
      "image/png": "[encoded data removed]",
      "text/plain": [
       "<Figure size 640x480 with 1 Axes>"
      ]
     },
     "metadata": {},
     "output_type": "display_data"
    }
   ],
   "source": [
    "print('contact has null values : ' , train['contact'].isnull().sum())\n",
    "\n",
    "print('')\n",
    "print('---------------------------------------------------------------------------')\n",
    "print('')\n",
    "\n",
    "print(' Unique contact : ' , train['contact'].unique())\n",
    "\n",
    "print('')\n",
    "print('---------------------------------------------------------------------------')\n",
    "print('')\n",
    "\n",
    "print('contact value counts: ' , train['contact'].value_counts())\n",
    "\n",
    "print('')\n",
    "print('---------------------------------------------------------------------------')\n",
    "print('')\n",
    "\n",
    "train['contact'].value_counts().plot(kind='bar')\n",
    "plt.show()\n",
    "\n",
    "\n",
    "train['contact']=train['contact'].replace(np.nan , 'cellular')\n",
    "\n",
    "train['contact'] = train['contact'].map({'cellular': 1, 'telephone': 0})\n",
    "\n",
    "\n",
    "\n",
    "test['contact']=test['contact'].replace(np.nan , 'cellular')\n",
    "test['contact'] = test['contact'].map({'cellular': 1, 'telephone': 0})\n",
    "\n"
   ]
  },
  {
   "cell_type": "code",
   "execution_count": 17,
   "id": "18d87c2c",
   "metadata": {
    "execution": {
     "iopub.execute_input": "2024-10-23T04:42:37.575673Z",
     "iopub.status.busy": "2024-10-23T04:42:37.575223Z",
     "iopub.status.idle": "2024-10-23T04:42:37.942095Z",
     "shell.execute_reply": "2024-10-23T04:42:37.940730Z"
    },
    "papermill": {
     "duration": 0.389723,
     "end_time": "2024-10-23T04:42:37.944785",
     "exception": false,
     "start_time": "2024-10-23T04:42:37.555062",
     "status": "completed"
    },
    "tags": []
   },
   "outputs": [
    {
     "name": "stdout",
     "output_type": "stream",
     "text": [
      "poutcome has  null values :  29451\n",
      "\n",
      "---------------------------------------------------------------------------\n",
      "\n",
      " Unique poutcome :  ['other' nan 'failure' 'success']\n",
      "\n",
      "---------------------------------------------------------------------------\n",
      "\n",
      "poutcome value counts:  poutcome\n",
      "failure    4949\n",
      "other      2560\n",
      "success    2251\n",
      "Name: count, dtype: int64\n",
      "\n",
      "---------------------------------------------------------------------------\n",
      "\n"
     ]
    },
    {
     "data": {
      "image/png": "[encoded data removed]",
      "text/plain": [
       "<Figure size 640x480 with 1 Axes>"
      ]
     },
     "metadata": {},
     "output_type": "display_data"
    },
    {
     "data": {
      "image/png": "[encoded data removed]",
      "text/plain": [
       "<Figure size 640x480 with 1 Axes>"
      ]
     },
     "metadata": {},
     "output_type": "display_data"
    }
   ],
   "source": [
    "print('poutcome has  null values : ' , train['poutcome'].isnull().sum())\n",
    "\n",
    "print('')\n",
    "print('---------------------------------------------------------------------------')\n",
    "print('')\n",
    "\n",
    "print(' Unique poutcome : ' , train['poutcome'].unique())\n",
    "\n",
    "print('')\n",
    "print('---------------------------------------------------------------------------')\n",
    "print('')\n",
    "\n",
    "print('poutcome value counts: ' , train['poutcome'].value_counts())\n",
    "\n",
    "print('')\n",
    "print('---------------------------------------------------------------------------')\n",
    "print('')\n",
    "\n",
    "\n",
    "train['poutcome'].value_counts().plot(kind='bar')\n",
    "plt.show()\n",
    "\n",
    "\n",
    "\n",
    "train['poutcome'] = train['poutcome'].replace(np.nan, 'failure')\n",
    "\n",
    "\n",
    "train['poutcome'].value_counts().plot(kind='bar')\n",
    "plt.show()\n",
    "\n",
    "\n",
    "\n",
    "test['poutcome'] = test['poutcome'].replace(np.nan, 'failure')\n"
   ]
  },
  {
   "cell_type": "code",
   "execution_count": 18,
   "id": "4fae43b7",
   "metadata": {
    "execution": {
     "iopub.execute_input": "2024-10-23T04:42:37.986526Z",
     "iopub.status.busy": "2024-10-23T04:42:37.986097Z",
     "iopub.status.idle": "2024-10-23T04:42:38.015011Z",
     "shell.execute_reply": "2024-10-23T04:42:38.013684Z"
    },
    "papermill": {
     "duration": 0.053092,
     "end_time": "2024-10-23T04:42:38.017672",
     "exception": false,
     "start_time": "2024-10-23T04:42:37.964580",
     "status": "completed"
    },
    "tags": []
   },
   "outputs": [
    {
     "name": "stdout",
     "output_type": "stream",
     "text": [
      "<class 'pandas.core.frame.DataFrame'>\n",
      "RangeIndex: 39211 entries, 0 to 39210\n",
      "Data columns (total 19 columns):\n",
      " #   Column             Non-Null Count  Dtype         \n",
      "---  ------             --------------  -----         \n",
      " 0   last contact date  39211 non-null  datetime64[ns]\n",
      " 1   age                39211 non-null  int64         \n",
      " 2   job                39211 non-null  object        \n",
      " 3   marital            39211 non-null  object        \n",
      " 4   education          39211 non-null  object        \n",
      " 5   default            39211 non-null  int64         \n",
      " 6   balance            39211 non-null  int64         \n",
      " 7   housing            39211 non-null  int64         \n",
      " 8   loan               39211 non-null  int64         \n",
      " 9   contact            39211 non-null  int64         \n",
      " 10  duration           39211 non-null  int64         \n",
      " 11  campaign           39211 non-null  int64         \n",
      " 12  pdays              39211 non-null  int64         \n",
      " 13  previous           39211 non-null  int64         \n",
      " 14  poutcome           39211 non-null  object        \n",
      " 15  target             39211 non-null  object        \n",
      " 16  day                39211 non-null  int32         \n",
      " 17  month              39211 non-null  int32         \n",
      " 18  isSunday           39211 non-null  int64         \n",
      "dtypes: datetime64[ns](1), int32(2), int64(11), object(5)\n",
      "memory usage: 5.4+ MB\n"
     ]
    }
   ],
   "source": [
    "train.info()"
   ]
  },
  {
   "cell_type": "markdown",
   "id": "cc98c7fb",
   "metadata": {
    "papermill": {
     "duration": 0.020502,
     "end_time": "2024-10-23T04:42:38.057663",
     "exception": false,
     "start_time": "2024-10-23T04:42:38.037161",
     "status": "completed"
    },
    "tags": []
   },
   "source": [
    "# Numerical Columns\n",
    "# Age , Balance , campaign , pdays , previous"
   ]
  },
  {
   "cell_type": "code",
   "execution_count": 19,
   "id": "56f461f7",
   "metadata": {
    "execution": {
     "iopub.execute_input": "2024-10-23T04:42:38.099247Z",
     "iopub.status.busy": "2024-10-23T04:42:38.098839Z",
     "iopub.status.idle": "2024-10-23T04:42:38.318973Z",
     "shell.execute_reply": "2024-10-23T04:42:38.317900Z"
    },
    "papermill": {
     "duration": 0.243639,
     "end_time": "2024-10-23T04:42:38.321192",
     "exception": false,
     "start_time": "2024-10-23T04:42:38.077553",
     "status": "completed"
    },
    "tags": []
   },
   "outputs": [
    {
     "name": "stdout",
     "output_type": "stream",
     "text": [
      "Age has no null values :  0\n",
      "\n",
      "---------------------------------------------------------------------------\n",
      "\n",
      "no. of age less than zero is  0\n",
      "\n",
      "---------------------------------------------------------------------------\n",
      "\n",
      " Unique Ages :  [26 52 44 33 31 25 46 37 38 32 28 34 86 42 58 39 35 47 45 48 30 50 56 54\n",
      " 40 53 41 51 27 29 57 63 36 43 19 55 49 23 83 60 22 80 76 59 24 93 71 89\n",
      " 64 68 85 79 62 69 20 90 66 87 72 88 67 70 77 91 78 61 65 73 74 84 82 92\n",
      " 81 18 21 75 94 95]\n",
      "\n",
      "---------------------------------------------------------------------------\n",
      "\n",
      "Age value counts:  age\n",
      "32    1688\n",
      "31    1629\n",
      "33    1599\n",
      "35    1571\n",
      "34    1566\n",
      "      ... \n",
      "18      44\n",
      "92      41\n",
      "87      40\n",
      "85      39\n",
      "95       2\n",
      "Name: count, Length: 78, dtype: int64\n",
      "\n",
      "---------------------------------------------------------------------------\n",
      "\n"
     ]
    },
    {
     "data": {
      "image/png": "[encoded data removed]",
      "text/plain": [
       "<Figure size 640x480 with 1 Axes>"
      ]
     },
     "metadata": {},
     "output_type": "display_data"
    }
   ],
   "source": [
    "print('Age has no null values : ' , train['age'].isnull().sum())\n",
    "\n",
    "print('')\n",
    "print('---------------------------------------------------------------------------')\n",
    "print('')\n",
    "\n",
    "print('no. of age less than zero is ', train[train['age']<0]['age'].count())\n",
    "\n",
    "\n",
    "print('')\n",
    "print('---------------------------------------------------------------------------')\n",
    "print('')\n",
    "\n",
    "print(' Unique Ages : ' , train['age'].unique())\n",
    "\n",
    "print('')\n",
    "print('---------------------------------------------------------------------------')\n",
    "print('')\n",
    "\n",
    "print('Age value counts: ' , train['age'].value_counts())\n",
    "\n",
    "print('')\n",
    "print('---------------------------------------------------------------------------')\n",
    "print('')\n",
    "\n",
    "train['age'].value_counts().plot(kind='hist')\n",
    "plt.show()\n",
    "\n",
    "\n"
   ]
  },
  {
   "cell_type": "markdown",
   "id": "2d3699e1",
   "metadata": {
    "papermill": {
     "duration": 0.020784,
     "end_time": "2024-10-23T04:42:38.362091",
     "exception": false,
     "start_time": "2024-10-23T04:42:38.341307",
     "status": "completed"
    },
    "tags": []
   },
   "source": [
    "# Feature Engineering Age Category"
   ]
  },
  {
   "cell_type": "code",
   "execution_count": 20,
   "id": "086456f8",
   "metadata": {
    "execution": {
     "iopub.execute_input": "2024-10-23T04:42:38.405989Z",
     "iopub.status.busy": "2024-10-23T04:42:38.405575Z",
     "iopub.status.idle": "2024-10-23T04:42:38.425177Z",
     "shell.execute_reply": "2024-10-23T04:42:38.424032Z"
    },
    "papermill": {
     "duration": 0.045572,
     "end_time": "2024-10-23T04:42:38.427508",
     "exception": false,
     "start_time": "2024-10-23T04:42:38.381936",
     "status": "completed"
    },
    "tags": []
   },
   "outputs": [],
   "source": [
    "def age_category(x):\n",
    "    if x<=39:\n",
    "        return 'young'\n",
    "    if 40<=x<=59:\n",
    "        return 'middle'\n",
    "    return 'old'\n",
    "\n",
    "\n",
    "train['Age_Category'] = train['age'].apply(age_category)\n",
    "\n",
    "test['Age_Category'] = test['age'].apply(age_category)\n",
    "\n"
   ]
  },
  {
   "cell_type": "code",
   "execution_count": 21,
   "id": "d418bac3",
   "metadata": {
    "execution": {
     "iopub.execute_input": "2024-10-23T04:42:38.469555Z",
     "iopub.status.busy": "2024-10-23T04:42:38.468649Z",
     "iopub.status.idle": "2024-10-23T04:42:38.736201Z",
     "shell.execute_reply": "2024-10-23T04:42:38.734851Z"
    },
    "papermill": {
     "duration": 0.291403,
     "end_time": "2024-10-23T04:42:38.738885",
     "exception": false,
     "start_time": "2024-10-23T04:42:38.447482",
     "status": "completed"
    },
    "tags": []
   },
   "outputs": [
    {
     "name": "stdout",
     "output_type": "stream",
     "text": [
      "campaign has no null values :  0\n",
      "\n",
      "---------------------------------------------------------------------------\n",
      "\n",
      "camaign less than zero is  0\n",
      "\n",
      "---------------------------------------------------------------------------\n",
      "\n",
      " Unique campaign  :  [ 2  1  3  4  6 45  5 44 12 61 58  7  8 20 43 17 13 15 48 34 11 54 22 26\n",
      " 29 21 10 49  9 52 53 57 16 50 46 47 23 37 18 38 32 36 39 56 14 30 41 63\n",
      " 51 28 25 62 55 42 35 31 59 19 40 33 24 27 60]\n",
      "\n",
      "---------------------------------------------------------------------------\n",
      "\n",
      "campaign value counts:  campaign\n",
      "1     14013\n",
      "2     10016\n",
      "3      4470\n",
      "4      2861\n",
      "5      1469\n",
      "      ...  \n",
      "48       44\n",
      "30       43\n",
      "40       43\n",
      "60       43\n",
      "53       38\n",
      "Name: count, Length: 63, dtype: int64\n",
      "\n",
      "---------------------------------------------------------------------------\n",
      "\n"
     ]
    },
    {
     "data": {
      "text/plain": [
       "<Axes: ylabel='Frequency'>"
      ]
     },
     "execution_count": 21,
     "metadata": {},
     "output_type": "execute_result"
    },
    {
     "data": {
      "image/png": "[encoded data removed]",
      "text/plain": [
       "<Figure size 640x480 with 1 Axes>"
      ]
     },
     "metadata": {},
     "output_type": "display_data"
    }
   ],
   "source": [
    "print('campaign has no null values : ' , train['campaign'].isnull().sum())\n",
    "\n",
    "print('')\n",
    "print('---------------------------------------------------------------------------')\n",
    "print('')\n",
    "\n",
    "\n",
    "print('camaign less than zero is ', train[train['campaign']<0]['campaign'].count())\n",
    "\n",
    "\n",
    "print('')\n",
    "print('---------------------------------------------------------------------------')\n",
    "print('')\n",
    "print(' Unique campaign  : ' , train['campaign'].unique())\n",
    "\n",
    "print('')\n",
    "print('---------------------------------------------------------------------------')\n",
    "print('')\n",
    "\n",
    "print('campaign value counts: ' , train['campaign'].value_counts())\n",
    "\n",
    "print('')\n",
    "print('---------------------------------------------------------------------------')\n",
    "print('')\n",
    "\n",
    "train['campaign'].value_counts().plot(kind='hist')\n",
    "\n"
   ]
  },
  {
   "cell_type": "code",
   "execution_count": 22,
   "id": "2494d1ee",
   "metadata": {
    "execution": {
     "iopub.execute_input": "2024-10-23T04:42:38.835421Z",
     "iopub.status.busy": "2024-10-23T04:42:38.834689Z",
     "iopub.status.idle": "2024-10-23T04:42:39.101776Z",
     "shell.execute_reply": "2024-10-23T04:42:39.100639Z"
    },
    "papermill": {
     "duration": 0.344116,
     "end_time": "2024-10-23T04:42:39.104251",
     "exception": false,
     "start_time": "2024-10-23T04:42:38.760135",
     "status": "completed"
    },
    "tags": []
   },
   "outputs": [
    {
     "name": "stdout",
     "output_type": "stream",
     "text": [
      "balance has no null values :  0\n",
      "\n",
      "---------------------------------------------------------------------------\n",
      "\n",
      "checking if balance is negetive and how many rows have balance less than zero: 2971\n",
      "\n",
      "---------------------------------------------------------------------------\n",
      "\n",
      " Unique balance values :  [  647   553  1397 ...  4307  6187 38594]\n",
      "\n",
      "---------------------------------------------------------------------------\n",
      "\n",
      "balance value counts:  balance\n",
      "0        2799\n",
      "1         149\n",
      "2         122\n",
      "4         115\n",
      "3         104\n",
      "         ... \n",
      "95094       1\n",
      "81074       1\n",
      "31565       1\n",
      "5278        1\n",
      "38594       1\n",
      "Name: count, Length: 9535, dtype: int64\n",
      "\n",
      "---------------------------------------------------------------------------\n",
      "\n"
     ]
    },
    {
     "data": {
      "text/plain": [
       "<Axes: ylabel='Frequency'>"
      ]
     },
     "execution_count": 22,
     "metadata": {},
     "output_type": "execute_result"
    },
    {
     "data": {
      "image/png": "[encoded data removed]",
      "text/plain": [
       "<Figure size 640x480 with 1 Axes>"
      ]
     },
     "metadata": {},
     "output_type": "display_data"
    }
   ],
   "source": [
    "print('balance has no null values : ' , train['balance'].isnull().sum())\n",
    "\n",
    "print('')\n",
    "print('---------------------------------------------------------------------------')\n",
    "print('')\n",
    "\n",
    "print('checking if balance is negetive and how many rows have balance less than zero:'  , train[train['balance']<0]['balance'].count())\n",
    "\n",
    "print('')\n",
    "print('---------------------------------------------------------------------------')\n",
    "print('')\n",
    "\n",
    "print(' Unique balance values : ' , train['balance'].unique())\n",
    "\n",
    "print('')\n",
    "print('---------------------------------------------------------------------------')\n",
    "print('')\n",
    "\n",
    "print('balance value counts: ' , train['balance'].value_counts())\n",
    "\n",
    "print('')\n",
    "print('---------------------------------------------------------------------------')\n",
    "print('')\n",
    "\n",
    "train['balance'].value_counts().plot(kind='hist')\n",
    "\n",
    "\n",
    "\n",
    "\n",
    "\n"
   ]
  },
  {
   "cell_type": "code",
   "execution_count": 23,
   "id": "f5b4e6f7",
   "metadata": {
    "execution": {
     "iopub.execute_input": "2024-10-23T04:42:39.148084Z",
     "iopub.status.busy": "2024-10-23T04:42:39.147667Z",
     "iopub.status.idle": "2024-10-23T04:42:39.430813Z",
     "shell.execute_reply": "2024-10-23T04:42:39.429514Z"
    },
    "papermill": {
     "duration": 0.307727,
     "end_time": "2024-10-23T04:42:39.433137",
     "exception": false,
     "start_time": "2024-10-23T04:42:39.125410",
     "status": "completed"
    },
    "tags": []
   },
   "outputs": [
    {
     "name": "stdout",
     "output_type": "stream",
     "text": [
      "pdays has no null values :  0\n",
      "\n",
      "---------------------------------------------------------------------------\n",
      "\n",
      " Unique pdays values :  [331  -1 852 661 152 599 365 367 238 129 287 174 120 368 371 187 610 364\n",
      " 633  80 125 356 248 186 278 154  90  98 574 352 561 260 801  78 596 343\n",
      " 671 175 159  12 111  31 342 357  74 100 289  84 109 245 369  83 536 216\n",
      "  89  97 252 143 378 336 172 160 191  91 848 258 317  94 196 362 188 272\n",
      " 138 298 116 101 591 360 234 505 631  82   8 300 472 173 530 103 236 316\n",
      " 370 611 271 305  79 474 405 293 442 178 232 299 213 184 237  93  37 255\n",
      " 353 259 181 315 147 349 335 165 295 203 290   6 767 302 169 320 148  19\n",
      " 435 328 645 526 150 318 347  29  96 254  35 136 350 759 358 670 348 224\n",
      " 114 102 407 326 330 665 760 445 373 265 190 285 246 644 337 161 264 562\n",
      " 189 363 630 652  44 478 322 176 783 597 344 339 110 334 167 204 166 816\n",
      " 484 177 775 366  32 480 200 408 421 247 291 261 579 244 730 324 434 525\n",
      " 156 153 157  95 439 286 163 197 182 309 257 283 461 824  92 704 195 170\n",
      " 655 121  68 332 651 504 403 263 183 440 431 185 202 105 477 746 310 622\n",
      " 149 698 427 847 115 620 219 846 301  40 649 481 438 215  61 531  59 643\n",
      " 303 117  64 168 158 338 515 516  75 779 606 355 400 743 134  53 706 321\n",
      " 274 578 345 270 141   1 251 575 705  81 340 192 266 262 560 276 208 243\n",
      " 428 375  11 180 314  99 228 774  76 518 695 209 193 206 282 861 304 828\n",
      "  55 284  87 210 551 135 312 587 468 557  50 406 113 329 556 764 179 239\n",
      " 145 249 323  41 201  33 844 221 256 212 281 450  86 580 422 385 233 514\n",
      "  28 268  30 795 205  57 361 860   2 327 346 132 473  63 396 657  88 647\n",
      " 854  73 107 126 171 581 198  24 402 325 433 269  85 646  69 605 733 488\n",
      " 462 805 217 745 292 151 426 127 131 351 359 240 769 789 388 503 306 313\n",
      " 863 866 479 547 390   5 528 341 640 648 859 625 725 567 387 669 374 225\n",
      " 380 496 155 506 642 722 802  56 118 553 456 333 559 714 409 791 267 806\n",
      " 451 415 685 558 773 383 833 467 311 534   3 459 241 819 798  52 139 104\n",
      " 511 455 307 624 601 494 308 458 112 842 522 555 394 275 498 768 273 694\n",
      " 499 381 294 708 457 146 550 845 425 297   7 871 615 752 737 543 668  60\n",
      " 864 124 796 829 250 280  77 674 130 412 600 483 538 588 548 475  70 372\n",
      " 164 418 223 712 391 279 133 751 227 464 734 106 740 857 629 436 443 253\n",
      " 812 853 123 577 437 778 613 386  38 399 711 376 869 827 721  43 469 776\n",
      " 199 398 862 735 229 680 761 780 663 686  62 870 230  14 119  42  27  17\n",
      " 697 781 545 521 517 675 242 485 211 618 509 128 667  21 404 108 736 603\n",
      " 718 218 586 831 684 658 834 826 617 144  46 463 454 786  67  10 430 493\n",
      " 810 710 701 784 354 799 584 688  47 868 637 593 662 492 448 681 207 726\n",
      " 757 825 510 739 750 277 855 654 813 673 384 460 222 410 838 628 296 621\n",
      " 677 732   9 319 194 417 140 632 691 659 589 741 288 814 822  71 397 382\n",
      " 490 554 758 392 569  22 466 542 235 541 487 565 619 544 413 650 389 476\n",
      " 508 728 529 793 500 537 429 636 449 772 137 762 491 566 770 850  45 856\n",
      " 497 664 424 785 609 830 702  39 744 626 612 563 512 634 122 447 231 717\n",
      " 414 627 713 486 818 672 432 709 419 598  25 787 719 614  13 582 656 471\n",
      " 576 696 687 162 749 777 756 489 523 811 214 377 837  18 226 804 573 416\n",
      " 446 797  36 520   4  66 465 792 379 639 602 754 546 401 766 635  49 840\n",
      " 572 858  58 821 782 771 604 731  54 608 807  23 699 851 585 693 729 616\n",
      " 660 820 808 841  65 765 411 607 571 763 727  72 470 803 653  16 142 539\n",
      " 513 843  15 742 564 552 592 638 507 676 839 549 689 590  26 809 753 723\n",
      " 815 788 747 420 790 524 720 683 690 519 716 835 568 623 570 444 678  48\n",
      " 482 535 595 836 594 707 817 502 441  34 800 533 395  20 453 832 540 849\n",
      " 666 495 679 865 501 393 794  51 700 703 532 715 867 692 452 823 220   0\n",
      " 724]\n",
      "\n",
      "---------------------------------------------------------------------------\n",
      "\n",
      "pdays value counts:  pdays\n",
      "-1      29446\n",
      " 182      135\n",
      " 92       117\n",
      " 91       106\n",
      " 183      100\n",
      "        ...  \n",
      " 836        1\n",
      " 594        1\n",
      " 659        1\n",
      " 817        1\n",
      " 724        1\n",
      "Name: count, Length: 865, dtype: int64\n",
      "\n",
      "---------------------------------------------------------------------------\n",
      "\n"
     ]
    },
    {
     "data": {
      "image/png": "[encoded data removed]",
      "text/plain": [
       "<Figure size 640x480 with 1 Axes>"
      ]
     },
     "metadata": {},
     "output_type": "display_data"
    }
   ],
   "source": [
    "print('pdays has no null values : ' , train['pdays'].isnull().sum())\n",
    "\n",
    "print('')\n",
    "print('---------------------------------------------------------------------------')\n",
    "print('')\n",
    "\n",
    "print(' Unique pdays values : ' , train['pdays'].unique())\n",
    "\n",
    "print('')\n",
    "print('---------------------------------------------------------------------------')\n",
    "print('')\n",
    "\n",
    "print('pdays value counts: ' , train['pdays'].value_counts())\n",
    "\n",
    "print('')\n",
    "print('---------------------------------------------------------------------------')\n",
    "print('')\n",
    "\n",
    "train['pdays'].value_counts().plot(kind='hist')\n",
    "\n",
    "\n",
    "\n",
    "train['previously_contacted'] = train['pdays'].apply(lambda x: 1 if x != -1 else 0)\n",
    "\n",
    "test['previously_contacted'] = test['pdays'].apply(lambda x: 1 if x != -1 else 0)\n"
   ]
  },
  {
   "cell_type": "code",
   "execution_count": 24,
   "id": "4f43ecc7",
   "metadata": {
    "execution": {
     "iopub.execute_input": "2024-10-23T04:42:39.477489Z",
     "iopub.status.busy": "2024-10-23T04:42:39.477094Z",
     "iopub.status.idle": "2024-10-23T04:42:39.741358Z",
     "shell.execute_reply": "2024-10-23T04:42:39.740104Z"
    },
    "papermill": {
     "duration": 0.289353,
     "end_time": "2024-10-23T04:42:39.743914",
     "exception": false,
     "start_time": "2024-10-23T04:42:39.454561",
     "status": "completed"
    },
    "tags": []
   },
   "outputs": [
    {
     "name": "stdout",
     "output_type": "stream",
     "text": [
      "previous has no null values :  0\n",
      "\n",
      "---------------------------------------------------------------------------\n",
      "\n",
      "checking if previous is negetive and how many rows have previous less than zero: 0\n",
      "\n",
      "---------------------------------------------------------------------------\n",
      "\n",
      " Unique previous  :  [  1   0   4 143 234   3  18   2 225 219   6  12  16 248 217 116   8 119\n",
      "  37  69 113  14 265 175 103  28  86   5 196 156 207 218 148 213  87 241\n",
      "  60 235 172 255 266  17 135  99  20   9 270 229 188 105 141 153 131 182\n",
      " 223 177  70  75   7  91 236  85 100 160  30  63 178 150  72 233  40 145\n",
      " 272  24 249  97 193 140 222 128  90  10 155 122 134 252 117 173 203 226\n",
      "  23 194 208  77 274  38 273 244  15 176  96  31 133 259 191 101 197 192\n",
      " 152 216 204 206  71 180 250 268 144  81 110 136  43  19  74 187 205  66\n",
      " 269  36 166  29  53 200 261  13  61 186  62 104 138 123  78 189 147 185\n",
      " 179 129 190 111 139 211 245  22  51 171  26 254  84 174  46  48  58  68\n",
      " 228  11  80  55 107 232 202 132 264  56 260 181  32 163  94  83  54 240\n",
      " 154 198  49 221 242  35 120 125 243 256 146  67 124 108 169  82  39 258\n",
      " 112 237 114  59  42 165 199 184  92 168  21  88  33 159 183 109  65 164\n",
      " 215  93 246 102  95 201 162 195  41  64 157 257 263 267 126  47 212 149\n",
      "  52  73 239  25 118 161  27  76 121 170 230 262  89 137 220 209  57 251\n",
      " 247 115  34 238 271 167  98  50 142  45 227 275 106  79 210 214  44 253\n",
      " 224 151 231 130 158 127]\n",
      "\n",
      "---------------------------------------------------------------------------\n",
      "\n",
      "previous value counts:  previous\n",
      "0      29456\n",
      "1       2226\n",
      "2       1708\n",
      "3        907\n",
      "4        590\n",
      "       ...  \n",
      "163        5\n",
      "76         5\n",
      "180        5\n",
      "137        5\n",
      "231        4\n",
      "Name: count, Length: 276, dtype: int64\n",
      "\n",
      "---------------------------------------------------------------------------\n",
      "\n"
     ]
    },
    {
     "data": {
      "text/plain": [
       "<Axes: ylabel='Frequency'>"
      ]
     },
     "execution_count": 24,
     "metadata": {},
     "output_type": "execute_result"
    },
    {
     "data": {
      "image/png": "[encoded data removed]",
      "text/plain": [
       "<Figure size 640x480 with 1 Axes>"
      ]
     },
     "metadata": {},
     "output_type": "display_data"
    }
   ],
   "source": [
    "print('previous has no null values : ' , train['previous'].isnull().sum())\n",
    "\n",
    "print('')\n",
    "print('---------------------------------------------------------------------------')\n",
    "print('')\n",
    "\n",
    "\n",
    "print('checking if previous is negetive and how many rows have previous less than zero:'  , train[train['previous']<0]['previous'].count())\n",
    "\n",
    "\n",
    "print('')\n",
    "print('---------------------------------------------------------------------------')\n",
    "print('')\n",
    "\n",
    "\n",
    "print(' Unique previous  : ' , train['previous'].unique())\n",
    "\n",
    "print('')\n",
    "print('---------------------------------------------------------------------------')\n",
    "print('')\n",
    "\n",
    "print('previous value counts: ' , train['previous'].value_counts())\n",
    "\n",
    "print('')\n",
    "print('---------------------------------------------------------------------------')\n",
    "print('')\n",
    "\n",
    "train['previous'].value_counts().plot(kind='hist')\n"
   ]
  },
  {
   "cell_type": "code",
   "execution_count": 25,
   "id": "0404811e",
   "metadata": {
    "execution": {
     "iopub.execute_input": "2024-10-23T04:42:39.790468Z",
     "iopub.status.busy": "2024-10-23T04:42:39.790054Z",
     "iopub.status.idle": "2024-10-23T04:42:39.894047Z",
     "shell.execute_reply": "2024-10-23T04:42:39.892891Z"
    },
    "papermill": {
     "duration": 0.130057,
     "end_time": "2024-10-23T04:42:39.896386",
     "exception": false,
     "start_time": "2024-10-23T04:42:39.766329",
     "status": "completed"
    },
    "tags": []
   },
   "outputs": [
    {
     "name": "stdout",
     "output_type": "stream",
     "text": [
      "Shape: (39211, 21)\n",
      "\n",
      "---------------------------------------------------------------------------\n",
      "\n",
      "<class 'pandas.core.frame.DataFrame'>\n",
      "RangeIndex: 39211 entries, 0 to 39210\n",
      "Data columns (total 21 columns):\n",
      " #   Column                Non-Null Count  Dtype         \n",
      "---  ------                --------------  -----         \n",
      " 0   last contact date     39211 non-null  datetime64[ns]\n",
      " 1   age                   39211 non-null  int64         \n",
      " 2   job                   39211 non-null  object        \n",
      " 3   marital               39211 non-null  object        \n",
      " 4   education             39211 non-null  object        \n",
      " 5   default               39211 non-null  int64         \n",
      " 6   balance               39211 non-null  int64         \n",
      " 7   housing               39211 non-null  int64         \n",
      " 8   loan                  39211 non-null  int64         \n",
      " 9   contact               39211 non-null  int64         \n",
      " 10  duration              39211 non-null  int64         \n",
      " 11  campaign              39211 non-null  int64         \n",
      " 12  pdays                 39211 non-null  int64         \n",
      " 13  previous              39211 non-null  int64         \n",
      " 14  poutcome              39211 non-null  object        \n",
      " 15  target                39211 non-null  object        \n",
      " 16  day                   39211 non-null  int32         \n",
      " 17  month                 39211 non-null  int32         \n",
      " 18  isSunday              39211 non-null  int64         \n",
      " 19  Age_Category          39211 non-null  object        \n",
      " 20  previously_contacted  39211 non-null  int64         \n",
      "dtypes: datetime64[ns](1), int32(2), int64(12), object(6)\n",
      "memory usage: 6.0+ MB\n",
      "None\n",
      "\n",
      "---------------------------------------------------------------------------\n",
      "\n"
     ]
    },
    {
     "data": {
      "text/html": [
       "<div>\n",
       "<style scoped>\n",
       "    .dataframe tbody tr th:only-of-type {\n",
       "        vertical-align: middle;\n",
       "    }\n",
       "\n",
       "    .dataframe tbody tr th {\n",
       "        vertical-align: top;\n",
       "    }\n",
       "\n",
       "    .dataframe thead th {\n",
       "        text-align: right;\n",
       "    }\n",
       "</style>\n",
       "<table border=\"1\" class=\"dataframe\">\n",
       "  <thead>\n",
       "    <tr style=\"text-align: right;\">\n",
       "      <th></th>\n",
       "      <th>last contact date</th>\n",
       "      <th>age</th>\n",
       "      <th>default</th>\n",
       "      <th>balance</th>\n",
       "      <th>housing</th>\n",
       "      <th>loan</th>\n",
       "      <th>contact</th>\n",
       "      <th>duration</th>\n",
       "      <th>campaign</th>\n",
       "      <th>pdays</th>\n",
       "      <th>previous</th>\n",
       "      <th>day</th>\n",
       "      <th>month</th>\n",
       "      <th>isSunday</th>\n",
       "      <th>previously_contacted</th>\n",
       "    </tr>\n",
       "  </thead>\n",
       "  <tbody>\n",
       "    <tr>\n",
       "      <th>count</th>\n",
       "      <td>39211</td>\n",
       "      <td>39211.000000</td>\n",
       "      <td>39211.000000</td>\n",
       "      <td>39211.000000</td>\n",
       "      <td>39211.000000</td>\n",
       "      <td>39211.000000</td>\n",
       "      <td>39211.000000</td>\n",
       "      <td>39211.000000</td>\n",
       "      <td>39211.000000</td>\n",
       "      <td>39211.000000</td>\n",
       "      <td>39211.000000</td>\n",
       "      <td>39211.000000</td>\n",
       "      <td>39211.000000</td>\n",
       "      <td>39211.000000</td>\n",
       "      <td>39211.000000</td>\n",
       "    </tr>\n",
       "    <tr>\n",
       "      <th>mean</th>\n",
       "      <td>2009-06-22 21:10:55.254902784</td>\n",
       "      <td>42.120247</td>\n",
       "      <td>0.057560</td>\n",
       "      <td>5441.781719</td>\n",
       "      <td>0.552320</td>\n",
       "      <td>0.188493</td>\n",
       "      <td>0.901941</td>\n",
       "      <td>439.062789</td>\n",
       "      <td>5.108770</td>\n",
       "      <td>72.256051</td>\n",
       "      <td>11.826171</td>\n",
       "      <td>2.822575</td>\n",
       "      <td>6.223993</td>\n",
       "      <td>0.157711</td>\n",
       "      <td>0.249037</td>\n",
       "    </tr>\n",
       "    <tr>\n",
       "      <th>min</th>\n",
       "      <td>2008-01-01 00:00:00</td>\n",
       "      <td>18.000000</td>\n",
       "      <td>0.000000</td>\n",
       "      <td>-8019.000000</td>\n",
       "      <td>0.000000</td>\n",
       "      <td>0.000000</td>\n",
       "      <td>0.000000</td>\n",
       "      <td>0.000000</td>\n",
       "      <td>1.000000</td>\n",
       "      <td>-1.000000</td>\n",
       "      <td>0.000000</td>\n",
       "      <td>0.000000</td>\n",
       "      <td>1.000000</td>\n",
       "      <td>0.000000</td>\n",
       "      <td>0.000000</td>\n",
       "    </tr>\n",
       "    <tr>\n",
       "      <th>25%</th>\n",
       "      <td>2008-08-11 00:00:00</td>\n",
       "      <td>33.000000</td>\n",
       "      <td>0.000000</td>\n",
       "      <td>98.000000</td>\n",
       "      <td>0.000000</td>\n",
       "      <td>0.000000</td>\n",
       "      <td>1.000000</td>\n",
       "      <td>109.000000</td>\n",
       "      <td>1.000000</td>\n",
       "      <td>-1.000000</td>\n",
       "      <td>0.000000</td>\n",
       "      <td>1.000000</td>\n",
       "      <td>5.000000</td>\n",
       "      <td>0.000000</td>\n",
       "      <td>0.000000</td>\n",
       "    </tr>\n",
       "    <tr>\n",
       "      <th>50%</th>\n",
       "      <td>2009-06-05 00:00:00</td>\n",
       "      <td>40.000000</td>\n",
       "      <td>0.000000</td>\n",
       "      <td>549.000000</td>\n",
       "      <td>1.000000</td>\n",
       "      <td>0.000000</td>\n",
       "      <td>1.000000</td>\n",
       "      <td>197.000000</td>\n",
       "      <td>2.000000</td>\n",
       "      <td>-1.000000</td>\n",
       "      <td>0.000000</td>\n",
       "      <td>3.000000</td>\n",
       "      <td>6.000000</td>\n",
       "      <td>0.000000</td>\n",
       "      <td>0.000000</td>\n",
       "    </tr>\n",
       "    <tr>\n",
       "      <th>75%</th>\n",
       "      <td>2010-05-08 00:00:00</td>\n",
       "      <td>50.000000</td>\n",
       "      <td>0.000000</td>\n",
       "      <td>2030.000000</td>\n",
       "      <td>1.000000</td>\n",
       "      <td>0.000000</td>\n",
       "      <td>1.000000</td>\n",
       "      <td>380.000000</td>\n",
       "      <td>4.000000</td>\n",
       "      <td>-1.000000</td>\n",
       "      <td>0.000000</td>\n",
       "      <td>4.000000</td>\n",
       "      <td>8.000000</td>\n",
       "      <td>0.000000</td>\n",
       "      <td>0.000000</td>\n",
       "    </tr>\n",
       "    <tr>\n",
       "      <th>max</th>\n",
       "      <td>2010-12-30 00:00:00</td>\n",
       "      <td>95.000000</td>\n",
       "      <td>1.000000</td>\n",
       "      <td>102127.000000</td>\n",
       "      <td>1.000000</td>\n",
       "      <td>1.000000</td>\n",
       "      <td>1.000000</td>\n",
       "      <td>4918.000000</td>\n",
       "      <td>63.000000</td>\n",
       "      <td>871.000000</td>\n",
       "      <td>275.000000</td>\n",
       "      <td>6.000000</td>\n",
       "      <td>12.000000</td>\n",
       "      <td>1.000000</td>\n",
       "      <td>1.000000</td>\n",
       "    </tr>\n",
       "    <tr>\n",
       "      <th>std</th>\n",
       "      <td>NaN</td>\n",
       "      <td>12.709352</td>\n",
       "      <td>0.232913</td>\n",
       "      <td>16365.292065</td>\n",
       "      <td>0.497261</td>\n",
       "      <td>0.391110</td>\n",
       "      <td>0.297398</td>\n",
       "      <td>769.096291</td>\n",
       "      <td>9.890153</td>\n",
       "      <td>160.942593</td>\n",
       "      <td>44.140259</td>\n",
       "      <td>1.741966</td>\n",
       "      <td>2.614273</td>\n",
       "      <td>0.364474</td>\n",
       "      <td>0.432461</td>\n",
       "    </tr>\n",
       "  </tbody>\n",
       "</table>\n",
       "</div>"
      ],
      "text/plain": [
       "                   last contact date           age       default  \\\n",
       "count                          39211  39211.000000  39211.000000   \n",
       "mean   2009-06-22 21:10:55.254902784     42.120247      0.057560   \n",
       "min              2008-01-01 00:00:00     18.000000      0.000000   \n",
       "25%              2008-08-11 00:00:00     33.000000      0.000000   \n",
       "50%              2009-06-05 00:00:00     40.000000      0.000000   \n",
       "75%              2010-05-08 00:00:00     50.000000      0.000000   \n",
       "max              2010-12-30 00:00:00     95.000000      1.000000   \n",
       "std                              NaN     12.709352      0.232913   \n",
       "\n",
       "             balance       housing          loan       contact      duration  \\\n",
       "count   39211.000000  39211.000000  39211.000000  39211.000000  39211.000000   \n",
       "mean     5441.781719      0.552320      0.188493      0.901941    439.062789   \n",
       "min     -8019.000000      0.000000      0.000000      0.000000      0.000000   \n",
       "25%        98.000000      0.000000      0.000000      1.000000    109.000000   \n",
       "50%       549.000000      1.000000      0.000000      1.000000    197.000000   \n",
       "75%      2030.000000      1.000000      0.000000      1.000000    380.000000   \n",
       "max    102127.000000      1.000000      1.000000      1.000000   4918.000000   \n",
       "std     16365.292065      0.497261      0.391110      0.297398    769.096291   \n",
       "\n",
       "           campaign         pdays      previous           day         month  \\\n",
       "count  39211.000000  39211.000000  39211.000000  39211.000000  39211.000000   \n",
       "mean       5.108770     72.256051     11.826171      2.822575      6.223993   \n",
       "min        1.000000     -1.000000      0.000000      0.000000      1.000000   \n",
       "25%        1.000000     -1.000000      0.000000      1.000000      5.000000   \n",
       "50%        2.000000     -1.000000      0.000000      3.000000      6.000000   \n",
       "75%        4.000000     -1.000000      0.000000      4.000000      8.000000   \n",
       "max       63.000000    871.000000    275.000000      6.000000     12.000000   \n",
       "std        9.890153    160.942593     44.140259      1.741966      2.614273   \n",
       "\n",
       "           isSunday  previously_contacted  \n",
       "count  39211.000000          39211.000000  \n",
       "mean       0.157711              0.249037  \n",
       "min        0.000000              0.000000  \n",
       "25%        0.000000              0.000000  \n",
       "50%        0.000000              0.000000  \n",
       "75%        0.000000              0.000000  \n",
       "max        1.000000              1.000000  \n",
       "std        0.364474              0.432461  "
      ]
     },
     "execution_count": 25,
     "metadata": {},
     "output_type": "execute_result"
    }
   ],
   "source": [
    "print('Shape:', train.shape)\n",
    "print('')\n",
    "print('---------------------------------------------------------------------------')\n",
    "print('')\n",
    "print(train.info())\n",
    "print('')\n",
    "print('---------------------------------------------------------------------------')\n",
    "print('')\n",
    "train.describe()"
   ]
  },
  {
   "cell_type": "markdown",
   "id": "c398184f",
   "metadata": {
    "papermill": {
     "duration": 0.022627,
     "end_time": "2024-10-23T04:42:39.941693",
     "exception": false,
     "start_time": "2024-10-23T04:42:39.919066",
     "status": "completed"
    },
    "tags": []
   },
   "source": [
    "# Column Transformer"
   ]
  },
  {
   "cell_type": "code",
   "execution_count": 26,
   "id": "1027001c",
   "metadata": {
    "execution": {
     "iopub.execute_input": "2024-10-23T04:42:39.988229Z",
     "iopub.status.busy": "2024-10-23T04:42:39.987842Z",
     "iopub.status.idle": "2024-10-23T04:42:40.013607Z",
     "shell.execute_reply": "2024-10-23T04:42:40.012194Z"
    },
    "papermill": {
     "duration": 0.052964,
     "end_time": "2024-10-23T04:42:40.017032",
     "exception": false,
     "start_time": "2024-10-23T04:42:39.964068",
     "status": "completed"
    },
    "tags": []
   },
   "outputs": [
    {
     "name": "stdout",
     "output_type": "stream",
     "text": [
      "<class 'pandas.core.frame.DataFrame'>\n",
      "RangeIndex: 39211 entries, 0 to 39210\n",
      "Data columns (total 21 columns):\n",
      " #   Column                Non-Null Count  Dtype         \n",
      "---  ------                --------------  -----         \n",
      " 0   last contact date     39211 non-null  datetime64[ns]\n",
      " 1   age                   39211 non-null  int64         \n",
      " 2   job                   39211 non-null  object        \n",
      " 3   marital               39211 non-null  object        \n",
      " 4   education             39211 non-null  object        \n",
      " 5   default               39211 non-null  int64         \n",
      " 6   balance               39211 non-null  int64         \n",
      " 7   housing               39211 non-null  int64         \n",
      " 8   loan                  39211 non-null  int64         \n",
      " 9   contact               39211 non-null  int64         \n",
      " 10  duration              39211 non-null  int64         \n",
      " 11  campaign              39211 non-null  int64         \n",
      " 12  pdays                 39211 non-null  int64         \n",
      " 13  previous              39211 non-null  int64         \n",
      " 14  poutcome              39211 non-null  object        \n",
      " 15  target                39211 non-null  object        \n",
      " 16  day                   39211 non-null  int32         \n",
      " 17  month                 39211 non-null  int32         \n",
      " 18  isSunday              39211 non-null  int64         \n",
      " 19  Age_Category          39211 non-null  object        \n",
      " 20  previously_contacted  39211 non-null  int64         \n",
      "dtypes: datetime64[ns](1), int32(2), int64(12), object(6)\n",
      "memory usage: 6.0+ MB\n"
     ]
    }
   ],
   "source": [
    "train.info()"
   ]
  },
  {
   "cell_type": "code",
   "execution_count": 27,
   "id": "3960de97",
   "metadata": {
    "execution": {
     "iopub.execute_input": "2024-10-23T04:42:40.065978Z",
     "iopub.status.busy": "2024-10-23T04:42:40.065560Z",
     "iopub.status.idle": "2024-10-23T04:42:40.081151Z",
     "shell.execute_reply": "2024-10-23T04:42:40.079718Z"
    },
    "papermill": {
     "duration": 0.043489,
     "end_time": "2024-10-23T04:42:40.083843",
     "exception": false,
     "start_time": "2024-10-23T04:42:40.040354",
     "status": "completed"
    },
    "tags": []
   },
   "outputs": [],
   "source": [
    "from sklearn.compose import ColumnTransformer\n",
    "from sklearn.preprocessing import StandardScaler , OneHotEncoder  , LabelEncoder, RobustScaler , OrdinalEncoder\n",
    "# 'age','pdays','balance','duration'\n",
    "\n",
    "col_transformer=ColumnTransformer(transformers=[\n",
    "    \n",
    "    ('numerical_cols' , RobustScaler(),['previous','campaign','age','pdays','balance']), \n",
    "    ('categorical_cols' , OneHotEncoder(handle_unknown='ignore',sparse_output=False),['job','marital','poutcome','day','month','education' , 'Age_Category']),\n",
    "    # ('label_cols', OrdinalEncoder(),['education' , 'Age_Category'])\n",
    "])\n",
    "\n"
   ]
  },
  {
   "cell_type": "code",
   "execution_count": 28,
   "id": "4d733df8",
   "metadata": {
    "execution": {
     "iopub.execute_input": "2024-10-23T04:42:40.130546Z",
     "iopub.status.busy": "2024-10-23T04:42:40.130128Z",
     "iopub.status.idle": "2024-10-23T04:42:40.199018Z",
     "shell.execute_reply": "2024-10-23T04:42:40.197923Z"
    },
    "papermill": {
     "duration": 0.095212,
     "end_time": "2024-10-23T04:42:40.201716",
     "exception": false,
     "start_time": "2024-10-23T04:42:40.106504",
     "status": "completed"
    },
    "tags": []
   },
   "outputs": [
    {
     "data": {
      "text/html": [
       "<div>\n",
       "<style scoped>\n",
       "    .dataframe tbody tr th:only-of-type {\n",
       "        vertical-align: middle;\n",
       "    }\n",
       "\n",
       "    .dataframe tbody tr th {\n",
       "        vertical-align: top;\n",
       "    }\n",
       "\n",
       "    .dataframe thead th {\n",
       "        text-align: right;\n",
       "    }\n",
       "</style>\n",
       "<table border=\"1\" class=\"dataframe\">\n",
       "  <thead>\n",
       "    <tr style=\"text-align: right;\">\n",
       "      <th></th>\n",
       "      <th>last contact date</th>\n",
       "      <th>age</th>\n",
       "      <th>job</th>\n",
       "      <th>marital</th>\n",
       "      <th>education</th>\n",
       "      <th>default</th>\n",
       "      <th>balance</th>\n",
       "      <th>housing</th>\n",
       "      <th>loan</th>\n",
       "      <th>contact</th>\n",
       "      <th>...</th>\n",
       "      <th>campaign</th>\n",
       "      <th>pdays</th>\n",
       "      <th>previous</th>\n",
       "      <th>poutcome</th>\n",
       "      <th>target</th>\n",
       "      <th>day</th>\n",
       "      <th>month</th>\n",
       "      <th>isSunday</th>\n",
       "      <th>Age_Category</th>\n",
       "      <th>previously_contacted</th>\n",
       "    </tr>\n",
       "  </thead>\n",
       "  <tbody>\n",
       "    <tr>\n",
       "      <th>0</th>\n",
       "      <td>2009-04-17</td>\n",
       "      <td>26</td>\n",
       "      <td>blue-collar</td>\n",
       "      <td>married</td>\n",
       "      <td>secondary</td>\n",
       "      <td>0</td>\n",
       "      <td>647</td>\n",
       "      <td>1</td>\n",
       "      <td>0</td>\n",
       "      <td>1</td>\n",
       "      <td>...</td>\n",
       "      <td>2</td>\n",
       "      <td>331</td>\n",
       "      <td>1</td>\n",
       "      <td>other</td>\n",
       "      <td>no</td>\n",
       "      <td>4</td>\n",
       "      <td>4</td>\n",
       "      <td>0</td>\n",
       "      <td>young</td>\n",
       "      <td>1</td>\n",
       "    </tr>\n",
       "    <tr>\n",
       "      <th>1</th>\n",
       "      <td>2009-10-11</td>\n",
       "      <td>52</td>\n",
       "      <td>technician</td>\n",
       "      <td>married</td>\n",
       "      <td>secondary</td>\n",
       "      <td>0</td>\n",
       "      <td>553</td>\n",
       "      <td>1</td>\n",
       "      <td>0</td>\n",
       "      <td>0</td>\n",
       "      <td>...</td>\n",
       "      <td>1</td>\n",
       "      <td>-1</td>\n",
       "      <td>0</td>\n",
       "      <td>failure</td>\n",
       "      <td>no</td>\n",
       "      <td>6</td>\n",
       "      <td>10</td>\n",
       "      <td>0</td>\n",
       "      <td>middle</td>\n",
       "      <td>0</td>\n",
       "    </tr>\n",
       "    <tr>\n",
       "      <th>2</th>\n",
       "      <td>2010-11-20</td>\n",
       "      <td>44</td>\n",
       "      <td>blue-collar</td>\n",
       "      <td>married</td>\n",
       "      <td>secondary</td>\n",
       "      <td>0</td>\n",
       "      <td>1397</td>\n",
       "      <td>0</td>\n",
       "      <td>0</td>\n",
       "      <td>1</td>\n",
       "      <td>...</td>\n",
       "      <td>1</td>\n",
       "      <td>-1</td>\n",
       "      <td>0</td>\n",
       "      <td>failure</td>\n",
       "      <td>no</td>\n",
       "      <td>5</td>\n",
       "      <td>11</td>\n",
       "      <td>0</td>\n",
       "      <td>middle</td>\n",
       "      <td>0</td>\n",
       "    </tr>\n",
       "    <tr>\n",
       "      <th>3</th>\n",
       "      <td>2009-09-01</td>\n",
       "      <td>33</td>\n",
       "      <td>admin.</td>\n",
       "      <td>married</td>\n",
       "      <td>secondary</td>\n",
       "      <td>0</td>\n",
       "      <td>394</td>\n",
       "      <td>1</td>\n",
       "      <td>0</td>\n",
       "      <td>0</td>\n",
       "      <td>...</td>\n",
       "      <td>3</td>\n",
       "      <td>-1</td>\n",
       "      <td>0</td>\n",
       "      <td>failure</td>\n",
       "      <td>no</td>\n",
       "      <td>1</td>\n",
       "      <td>9</td>\n",
       "      <td>1</td>\n",
       "      <td>young</td>\n",
       "      <td>0</td>\n",
       "    </tr>\n",
       "    <tr>\n",
       "      <th>4</th>\n",
       "      <td>2008-01-29</td>\n",
       "      <td>31</td>\n",
       "      <td>entrepreneur</td>\n",
       "      <td>single</td>\n",
       "      <td>tertiary</td>\n",
       "      <td>0</td>\n",
       "      <td>137</td>\n",
       "      <td>0</td>\n",
       "      <td>0</td>\n",
       "      <td>1</td>\n",
       "      <td>...</td>\n",
       "      <td>2</td>\n",
       "      <td>-1</td>\n",
       "      <td>0</td>\n",
       "      <td>failure</td>\n",
       "      <td>no</td>\n",
       "      <td>1</td>\n",
       "      <td>1</td>\n",
       "      <td>1</td>\n",
       "      <td>young</td>\n",
       "      <td>0</td>\n",
       "    </tr>\n",
       "    <tr>\n",
       "      <th>...</th>\n",
       "      <td>...</td>\n",
       "      <td>...</td>\n",
       "      <td>...</td>\n",
       "      <td>...</td>\n",
       "      <td>...</td>\n",
       "      <td>...</td>\n",
       "      <td>...</td>\n",
       "      <td>...</td>\n",
       "      <td>...</td>\n",
       "      <td>...</td>\n",
       "      <td>...</td>\n",
       "      <td>...</td>\n",
       "      <td>...</td>\n",
       "      <td>...</td>\n",
       "      <td>...</td>\n",
       "      <td>...</td>\n",
       "      <td>...</td>\n",
       "      <td>...</td>\n",
       "      <td>...</td>\n",
       "      <td>...</td>\n",
       "      <td>...</td>\n",
       "    </tr>\n",
       "    <tr>\n",
       "      <th>39206</th>\n",
       "      <td>2008-07-31</td>\n",
       "      <td>31</td>\n",
       "      <td>technician</td>\n",
       "      <td>single</td>\n",
       "      <td>secondary</td>\n",
       "      <td>0</td>\n",
       "      <td>0</td>\n",
       "      <td>1</td>\n",
       "      <td>0</td>\n",
       "      <td>1</td>\n",
       "      <td>...</td>\n",
       "      <td>34</td>\n",
       "      <td>-1</td>\n",
       "      <td>0</td>\n",
       "      <td>failure</td>\n",
       "      <td>no</td>\n",
       "      <td>3</td>\n",
       "      <td>7</td>\n",
       "      <td>0</td>\n",
       "      <td>young</td>\n",
       "      <td>0</td>\n",
       "    </tr>\n",
       "    <tr>\n",
       "      <th>39207</th>\n",
       "      <td>2009-07-31</td>\n",
       "      <td>59</td>\n",
       "      <td>admin.</td>\n",
       "      <td>married</td>\n",
       "      <td>primary</td>\n",
       "      <td>0</td>\n",
       "      <td>6187</td>\n",
       "      <td>0</td>\n",
       "      <td>0</td>\n",
       "      <td>1</td>\n",
       "      <td>...</td>\n",
       "      <td>4</td>\n",
       "      <td>-1</td>\n",
       "      <td>0</td>\n",
       "      <td>failure</td>\n",
       "      <td>no</td>\n",
       "      <td>4</td>\n",
       "      <td>7</td>\n",
       "      <td>0</td>\n",
       "      <td>middle</td>\n",
       "      <td>0</td>\n",
       "    </tr>\n",
       "    <tr>\n",
       "      <th>39208</th>\n",
       "      <td>2008-06-02</td>\n",
       "      <td>36</td>\n",
       "      <td>blue-collar</td>\n",
       "      <td>married</td>\n",
       "      <td>secondary</td>\n",
       "      <td>0</td>\n",
       "      <td>63</td>\n",
       "      <td>1</td>\n",
       "      <td>0</td>\n",
       "      <td>1</td>\n",
       "      <td>...</td>\n",
       "      <td>8</td>\n",
       "      <td>-1</td>\n",
       "      <td>0</td>\n",
       "      <td>failure</td>\n",
       "      <td>no</td>\n",
       "      <td>0</td>\n",
       "      <td>6</td>\n",
       "      <td>0</td>\n",
       "      <td>young</td>\n",
       "      <td>0</td>\n",
       "    </tr>\n",
       "    <tr>\n",
       "      <th>39209</th>\n",
       "      <td>2010-03-20</td>\n",
       "      <td>28</td>\n",
       "      <td>student</td>\n",
       "      <td>single</td>\n",
       "      <td>secondary</td>\n",
       "      <td>0</td>\n",
       "      <td>5916</td>\n",
       "      <td>0</td>\n",
       "      <td>0</td>\n",
       "      <td>1</td>\n",
       "      <td>...</td>\n",
       "      <td>5</td>\n",
       "      <td>-1</td>\n",
       "      <td>0</td>\n",
       "      <td>failure</td>\n",
       "      <td>no</td>\n",
       "      <td>5</td>\n",
       "      <td>3</td>\n",
       "      <td>0</td>\n",
       "      <td>young</td>\n",
       "      <td>0</td>\n",
       "    </tr>\n",
       "    <tr>\n",
       "      <th>39210</th>\n",
       "      <td>2010-03-16</td>\n",
       "      <td>51</td>\n",
       "      <td>student</td>\n",
       "      <td>divorced</td>\n",
       "      <td>tertiary</td>\n",
       "      <td>1</td>\n",
       "      <td>38594</td>\n",
       "      <td>1</td>\n",
       "      <td>0</td>\n",
       "      <td>1</td>\n",
       "      <td>...</td>\n",
       "      <td>19</td>\n",
       "      <td>780</td>\n",
       "      <td>148</td>\n",
       "      <td>success</td>\n",
       "      <td>yes</td>\n",
       "      <td>1</td>\n",
       "      <td>3</td>\n",
       "      <td>1</td>\n",
       "      <td>middle</td>\n",
       "      <td>1</td>\n",
       "    </tr>\n",
       "  </tbody>\n",
       "</table>\n",
       "<p>39211 rows × 21 columns</p>\n",
       "</div>"
      ],
      "text/plain": [
       "      last contact date  age           job   marital  education  default  \\\n",
       "0            2009-04-17   26   blue-collar   married  secondary        0   \n",
       "1            2009-10-11   52    technician   married  secondary        0   \n",
       "2            2010-11-20   44   blue-collar   married  secondary        0   \n",
       "3            2009-09-01   33        admin.   married  secondary        0   \n",
       "4            2008-01-29   31  entrepreneur    single   tertiary        0   \n",
       "...                 ...  ...           ...       ...        ...      ...   \n",
       "39206        2008-07-31   31    technician    single  secondary        0   \n",
       "39207        2009-07-31   59        admin.   married    primary        0   \n",
       "39208        2008-06-02   36   blue-collar   married  secondary        0   \n",
       "39209        2010-03-20   28       student    single  secondary        0   \n",
       "39210        2010-03-16   51       student  divorced   tertiary        1   \n",
       "\n",
       "       balance  housing  loan  contact  ...  campaign  pdays  previous  \\\n",
       "0          647        1     0        1  ...         2    331         1   \n",
       "1          553        1     0        0  ...         1     -1         0   \n",
       "2         1397        0     0        1  ...         1     -1         0   \n",
       "3          394        1     0        0  ...         3     -1         0   \n",
       "4          137        0     0        1  ...         2     -1         0   \n",
       "...        ...      ...   ...      ...  ...       ...    ...       ...   \n",
       "39206        0        1     0        1  ...        34     -1         0   \n",
       "39207     6187        0     0        1  ...         4     -1         0   \n",
       "39208       63        1     0        1  ...         8     -1         0   \n",
       "39209     5916        0     0        1  ...         5     -1         0   \n",
       "39210    38594        1     0        1  ...        19    780       148   \n",
       "\n",
       "       poutcome target day  month  isSunday  Age_Category previously_contacted  \n",
       "0         other     no   4      4         0         young                    1  \n",
       "1       failure     no   6     10         0        middle                    0  \n",
       "2       failure     no   5     11         0        middle                    0  \n",
       "3       failure     no   1      9         1         young                    0  \n",
       "4       failure     no   1      1         1         young                    0  \n",
       "...         ...    ...  ..    ...       ...           ...                  ...  \n",
       "39206   failure     no   3      7         0         young                    0  \n",
       "39207   failure     no   4      7         0        middle                    0  \n",
       "39208   failure     no   0      6         0         young                    0  \n",
       "39209   failure     no   5      3         0         young                    0  \n",
       "39210   success    yes   1      3         1        middle                    1  \n",
       "\n",
       "[39211 rows x 21 columns]"
      ]
     },
     "execution_count": 28,
     "metadata": {},
     "output_type": "execute_result"
    }
   ],
   "source": [
    "train"
   ]
  },
  {
   "cell_type": "code",
   "execution_count": 29,
   "id": "1228efb1",
   "metadata": {
    "execution": {
     "iopub.execute_input": "2024-10-23T04:42:40.250634Z",
     "iopub.status.busy": "2024-10-23T04:42:40.250206Z",
     "iopub.status.idle": "2024-10-23T04:42:40.257207Z",
     "shell.execute_reply": "2024-10-23T04:42:40.256062Z"
    },
    "papermill": {
     "duration": 0.033805,
     "end_time": "2024-10-23T04:42:40.259444",
     "exception": false,
     "start_time": "2024-10-23T04:42:40.225639",
     "status": "completed"
    },
    "tags": []
   },
   "outputs": [
    {
     "data": {
      "text/plain": [
       "(39211, 21)"
      ]
     },
     "execution_count": 29,
     "metadata": {},
     "output_type": "execute_result"
    }
   ],
   "source": [
    "train.shape"
   ]
  },
  {
   "cell_type": "code",
   "execution_count": null,
   "id": "0c8e74dd",
   "metadata": {
    "papermill": {
     "duration": 0.022843,
     "end_time": "2024-10-23T04:42:40.305740",
     "exception": false,
     "start_time": "2024-10-23T04:42:40.282897",
     "status": "completed"
    },
    "tags": []
   },
   "outputs": [],
   "source": [
    "\n"
   ]
  },
  {
   "cell_type": "code",
   "execution_count": 30,
   "id": "fe368316",
   "metadata": {
    "execution": {
     "iopub.execute_input": "2024-10-23T04:42:40.353876Z",
     "iopub.status.busy": "2024-10-23T04:42:40.353409Z",
     "iopub.status.idle": "2024-10-23T04:42:40.488902Z",
     "shell.execute_reply": "2024-10-23T04:42:40.487784Z"
    },
    "papermill": {
     "duration": 0.162331,
     "end_time": "2024-10-23T04:42:40.491302",
     "exception": false,
     "start_time": "2024-10-23T04:42:40.328971",
     "status": "completed"
    },
    "tags": []
   },
   "outputs": [
    {
     "data": {
      "text/html": [
       "<style type=\"text/css\">\n",
       "#T_27fd9_row0_col0, #T_27fd9_row1_col1, #T_27fd9_row2_col2, #T_27fd9_row3_col3, #T_27fd9_row4_col4, #T_27fd9_row5_col5, #T_27fd9_row6_col6, #T_27fd9_row7_col7, #T_27fd9_row8_col8, #T_27fd9_row9_col9, #T_27fd9_row10_col10, #T_27fd9_row11_col11 {\n",
       "  background-color: #b40426;\n",
       "  color: #f1f1f1;\n",
       "}\n",
       "#T_27fd9_row0_col1, #T_27fd9_row4_col1, #T_27fd9_row11_col0 {\n",
       "  background-color: #a6c4fe;\n",
       "  color: #000000;\n",
       "}\n",
       "#T_27fd9_row0_col2 {\n",
       "  background-color: #d4dbe6;\n",
       "  color: #000000;\n",
       "}\n",
       "#T_27fd9_row0_col3, #T_27fd9_row2_col5, #T_27fd9_row5_col0, #T_27fd9_row5_col1, #T_27fd9_row5_col2, #T_27fd9_row5_col4, #T_27fd9_row5_col6, #T_27fd9_row5_col7, #T_27fd9_row5_col8, #T_27fd9_row5_col9, #T_27fd9_row5_col11, #T_27fd9_row7_col10, #T_27fd9_row9_col5 {\n",
       "  background-color: #3b4cc0;\n",
       "  color: #f1f1f1;\n",
       "}\n",
       "#T_27fd9_row0_col4 {\n",
       "  background-color: #6485ec;\n",
       "  color: #f1f1f1;\n",
       "}\n",
       "#T_27fd9_row0_col5 {\n",
       "  background-color: #516ddb;\n",
       "  color: #f1f1f1;\n",
       "}\n",
       "#T_27fd9_row0_col6 {\n",
       "  background-color: #c7d7f0;\n",
       "  color: #000000;\n",
       "}\n",
       "#T_27fd9_row0_col7 {\n",
       "  background-color: #cedaeb;\n",
       "  color: #000000;\n",
       "}\n",
       "#T_27fd9_row0_col8 {\n",
       "  background-color: #b5cdfa;\n",
       "  color: #000000;\n",
       "}\n",
       "#T_27fd9_row0_col9 {\n",
       "  background-color: #d1dae9;\n",
       "  color: #000000;\n",
       "}\n",
       "#T_27fd9_row0_col10, #T_27fd9_row5_col10 {\n",
       "  background-color: #3e51c5;\n",
       "  color: #f1f1f1;\n",
       "}\n",
       "#T_27fd9_row0_col11 {\n",
       "  background-color: #a2c1ff;\n",
       "  color: #000000;\n",
       "}\n",
       "#T_27fd9_row1_col0, #T_27fd9_row4_col8 {\n",
       "  background-color: #aac7fd;\n",
       "  color: #000000;\n",
       "}\n",
       "#T_27fd9_row1_col2, #T_27fd9_row1_col7 {\n",
       "  background-color: #f2cab5;\n",
       "  color: #000000;\n",
       "}\n",
       "#T_27fd9_row1_col3 {\n",
       "  background-color: #5e7de7;\n",
       "  color: #f1f1f1;\n",
       "}\n",
       "#T_27fd9_row1_col4, #T_27fd9_row3_col8, #T_27fd9_row10_col5 {\n",
       "  background-color: #8badfd;\n",
       "  color: #000000;\n",
       "}\n",
       "#T_27fd9_row1_col5, #T_27fd9_row11_col5 {\n",
       "  background-color: #5572df;\n",
       "  color: #f1f1f1;\n",
       "}\n",
       "#T_27fd9_row1_col6, #T_27fd9_row9_col1 {\n",
       "  background-color: #efcfbf;\n",
       "  color: #000000;\n",
       "}\n",
       "#T_27fd9_row1_col8 {\n",
       "  background-color: #dedcdb;\n",
       "  color: #000000;\n",
       "}\n",
       "#T_27fd9_row1_col9, #T_27fd9_row7_col8 {\n",
       "  background-color: #f4c6af;\n",
       "  color: #000000;\n",
       "}\n",
       "#T_27fd9_row1_col10, #T_27fd9_row2_col10, #T_27fd9_row7_col5 {\n",
       "  background-color: #3c4ec2;\n",
       "  color: #f1f1f1;\n",
       "}\n",
       "#T_27fd9_row1_col11, #T_27fd9_row7_col0, #T_27fd9_row11_col1 {\n",
       "  background-color: #c1d4f4;\n",
       "  color: #000000;\n",
       "}\n",
       "#T_27fd9_row2_col0 {\n",
       "  background-color: #c6d6f1;\n",
       "  color: #000000;\n",
       "}\n",
       "#T_27fd9_row2_col1, #T_27fd9_row7_col1 {\n",
       "  background-color: #ecd3c5;\n",
       "  color: #000000;\n",
       "}\n",
       "#T_27fd9_row2_col3 {\n",
       "  background-color: #5875e1;\n",
       "  color: #f1f1f1;\n",
       "}\n",
       "#T_27fd9_row2_col4, #T_27fd9_row4_col11, #T_27fd9_row7_col4 {\n",
       "  background-color: #8fb1fe;\n",
       "  color: #000000;\n",
       "}\n",
       "#T_27fd9_row2_col6 {\n",
       "  background-color: #f59c7d;\n",
       "  color: #000000;\n",
       "}\n",
       "#T_27fd9_row2_col7, #T_27fd9_row6_col2 {\n",
       "  background-color: #f4987a;\n",
       "  color: #000000;\n",
       "}\n",
       "#T_27fd9_row2_col8 {\n",
       "  background-color: #f7bca1;\n",
       "  color: #000000;\n",
       "}\n",
       "#T_27fd9_row2_col9, #T_27fd9_row9_col2 {\n",
       "  background-color: #f08a6c;\n",
       "  color: #f1f1f1;\n",
       "}\n",
       "#T_27fd9_row2_col11 {\n",
       "  background-color: #e6d7cf;\n",
       "  color: #000000;\n",
       "}\n",
       "#T_27fd9_row3_col0 {\n",
       "  background-color: #4c66d6;\n",
       "  color: #f1f1f1;\n",
       "}\n",
       "#T_27fd9_row3_col1, #T_27fd9_row4_col3 {\n",
       "  background-color: #6c8ff1;\n",
       "  color: #f1f1f1;\n",
       "}\n",
       "#T_27fd9_row3_col2, #T_27fd9_row3_col7 {\n",
       "  background-color: #80a3fa;\n",
       "  color: #f1f1f1;\n",
       "}\n",
       "#T_27fd9_row3_col4, #T_27fd9_row7_col3 {\n",
       "  background-color: #5977e3;\n",
       "  color: #f1f1f1;\n",
       "}\n",
       "#T_27fd9_row3_col5 {\n",
       "  background-color: #9fbfff;\n",
       "  color: #000000;\n",
       "}\n",
       "#T_27fd9_row3_col6, #T_27fd9_row3_col11 {\n",
       "  background-color: #7da0f9;\n",
       "  color: #f1f1f1;\n",
       "}\n",
       "#T_27fd9_row3_col9 {\n",
       "  background-color: #84a7fc;\n",
       "  color: #f1f1f1;\n",
       "}\n",
       "#T_27fd9_row3_col10, #T_27fd9_row6_col5 {\n",
       "  background-color: #4257c9;\n",
       "  color: #f1f1f1;\n",
       "}\n",
       "#T_27fd9_row4_col0, #T_27fd9_row10_col9 {\n",
       "  background-color: #89acfd;\n",
       "  color: #000000;\n",
       "}\n",
       "#T_27fd9_row4_col2, #T_27fd9_row6_col0 {\n",
       "  background-color: #bed2f6;\n",
       "  color: #000000;\n",
       "}\n",
       "#T_27fd9_row4_col5 {\n",
       "  background-color: #7699f6;\n",
       "  color: #f1f1f1;\n",
       "}\n",
       "#T_27fd9_row4_col6 {\n",
       "  background-color: #b6cefa;\n",
       "  color: #000000;\n",
       "}\n",
       "#T_27fd9_row4_col7 {\n",
       "  background-color: #bcd2f7;\n",
       "  color: #000000;\n",
       "}\n",
       "#T_27fd9_row4_col9 {\n",
       "  background-color: #c0d4f5;\n",
       "  color: #000000;\n",
       "}\n",
       "#T_27fd9_row4_col10 {\n",
       "  background-color: #4055c8;\n",
       "  color: #f1f1f1;\n",
       "}\n",
       "#T_27fd9_row5_col3, #T_27fd9_row10_col11 {\n",
       "  background-color: #7a9df8;\n",
       "  color: #f1f1f1;\n",
       "}\n",
       "#T_27fd9_row6_col1 {\n",
       "  background-color: #ead5c9;\n",
       "  color: #000000;\n",
       "}\n",
       "#T_27fd9_row6_col3, #T_27fd9_row9_col3 {\n",
       "  background-color: #5d7ce6;\n",
       "  color: #f1f1f1;\n",
       "}\n",
       "#T_27fd9_row6_col4 {\n",
       "  background-color: #8caffe;\n",
       "  color: #000000;\n",
       "}\n",
       "#T_27fd9_row6_col7 {\n",
       "  background-color: #f6a586;\n",
       "  color: #000000;\n",
       "}\n",
       "#T_27fd9_row6_col8 {\n",
       "  background-color: #f5c4ac;\n",
       "  color: #000000;\n",
       "}\n",
       "#T_27fd9_row6_col9, #T_27fd9_row9_col7 {\n",
       "  background-color: #f39475;\n",
       "  color: #000000;\n",
       "}\n",
       "#T_27fd9_row6_col10, #T_27fd9_row9_col10 {\n",
       "  background-color: #3d50c3;\n",
       "  color: #f1f1f1;\n",
       "}\n",
       "#T_27fd9_row6_col11 {\n",
       "  background-color: #e0dbd8;\n",
       "  color: #000000;\n",
       "}\n",
       "#T_27fd9_row7_col2, #T_27fd9_row9_col6 {\n",
       "  background-color: #f39778;\n",
       "  color: #000000;\n",
       "}\n",
       "#T_27fd9_row7_col6 {\n",
       "  background-color: #f7a688;\n",
       "  color: #000000;\n",
       "}\n",
       "#T_27fd9_row7_col9 {\n",
       "  background-color: #f29274;\n",
       "  color: #f1f1f1;\n",
       "}\n",
       "#T_27fd9_row7_col11 {\n",
       "  background-color: #dadce0;\n",
       "  color: #000000;\n",
       "}\n",
       "#T_27fd9_row8_col0 {\n",
       "  background-color: #afcafc;\n",
       "  color: #000000;\n",
       "}\n",
       "#T_27fd9_row8_col1 {\n",
       "  background-color: #d9dce1;\n",
       "  color: #000000;\n",
       "}\n",
       "#T_27fd9_row8_col2 {\n",
       "  background-color: #f7b79b;\n",
       "  color: #000000;\n",
       "}\n",
       "#T_27fd9_row8_col3 {\n",
       "  background-color: #7295f4;\n",
       "  color: #f1f1f1;\n",
       "}\n",
       "#T_27fd9_row8_col4, #T_27fd9_row10_col6 {\n",
       "  background-color: #82a6fb;\n",
       "  color: #f1f1f1;\n",
       "}\n",
       "#T_27fd9_row8_col5 {\n",
       "  background-color: #4961d2;\n",
       "  color: #f1f1f1;\n",
       "}\n",
       "#T_27fd9_row8_col6, #T_27fd9_row8_col7 {\n",
       "  background-color: #f5c1a9;\n",
       "  color: #000000;\n",
       "}\n",
       "#T_27fd9_row8_col9 {\n",
       "  background-color: #f7b093;\n",
       "  color: #000000;\n",
       "}\n",
       "#T_27fd9_row8_col10 {\n",
       "  background-color: #4358cb;\n",
       "  color: #f1f1f1;\n",
       "}\n",
       "#T_27fd9_row8_col11 {\n",
       "  background-color: #e9785d;\n",
       "  color: #f1f1f1;\n",
       "}\n",
       "#T_27fd9_row9_col0 {\n",
       "  background-color: #c4d5f3;\n",
       "  color: #000000;\n",
       "}\n",
       "#T_27fd9_row9_col4 {\n",
       "  background-color: #93b5fe;\n",
       "  color: #000000;\n",
       "}\n",
       "#T_27fd9_row9_col8 {\n",
       "  background-color: #f7b599;\n",
       "  color: #000000;\n",
       "}\n",
       "#T_27fd9_row9_col11 {\n",
       "  background-color: #ebd3c6;\n",
       "  color: #000000;\n",
       "}\n",
       "#T_27fd9_row10_col0 {\n",
       "  background-color: #7597f6;\n",
       "  color: #f1f1f1;\n",
       "}\n",
       "#T_27fd9_row10_col1, #T_27fd9_row11_col3 {\n",
       "  background-color: #6e90f2;\n",
       "  color: #f1f1f1;\n",
       "}\n",
       "#T_27fd9_row10_col2 {\n",
       "  background-color: #88abfd;\n",
       "  color: #000000;\n",
       "}\n",
       "#T_27fd9_row10_col3 {\n",
       "  background-color: #6687ed;\n",
       "  color: #f1f1f1;\n",
       "}\n",
       "#T_27fd9_row10_col4 {\n",
       "  background-color: #536edd;\n",
       "  color: #f1f1f1;\n",
       "}\n",
       "#T_27fd9_row10_col7 {\n",
       "  background-color: #85a8fc;\n",
       "  color: #f1f1f1;\n",
       "}\n",
       "#T_27fd9_row10_col8 {\n",
       "  background-color: #81a4fb;\n",
       "  color: #f1f1f1;\n",
       "}\n",
       "#T_27fd9_row11_col2 {\n",
       "  background-color: #eed0c0;\n",
       "  color: #000000;\n",
       "}\n",
       "#T_27fd9_row11_col4 {\n",
       "  background-color: #7093f3;\n",
       "  color: #f1f1f1;\n",
       "}\n",
       "#T_27fd9_row11_col6 {\n",
       "  background-color: #e8d6cc;\n",
       "  color: #000000;\n",
       "}\n",
       "#T_27fd9_row11_col7 {\n",
       "  background-color: #e5d8d1;\n",
       "  color: #000000;\n",
       "}\n",
       "#T_27fd9_row11_col8 {\n",
       "  background-color: #e7745b;\n",
       "  color: #f1f1f1;\n",
       "}\n",
       "#T_27fd9_row11_col9 {\n",
       "  background-color: #f1ccb8;\n",
       "  color: #000000;\n",
       "}\n",
       "#T_27fd9_row11_col10 {\n",
       "  background-color: #485fd1;\n",
       "  color: #f1f1f1;\n",
       "}\n",
       "</style>\n",
       "<table id=\"T_27fd9\">\n",
       "  <thead>\n",
       "    <tr>\n",
       "      <th class=\"blank level0\" >&nbsp;</th>\n",
       "      <th id=\"T_27fd9_level0_col0\" class=\"col_heading level0 col0\" >age</th>\n",
       "      <th id=\"T_27fd9_level0_col1\" class=\"col_heading level0 col1\" >default</th>\n",
       "      <th id=\"T_27fd9_level0_col2\" class=\"col_heading level0 col2\" >balance</th>\n",
       "      <th id=\"T_27fd9_level0_col3\" class=\"col_heading level0 col3\" >housing</th>\n",
       "      <th id=\"T_27fd9_level0_col4\" class=\"col_heading level0 col4\" >loan</th>\n",
       "      <th id=\"T_27fd9_level0_col5\" class=\"col_heading level0 col5\" >contact</th>\n",
       "      <th id=\"T_27fd9_level0_col6\" class=\"col_heading level0 col6\" >duration</th>\n",
       "      <th id=\"T_27fd9_level0_col7\" class=\"col_heading level0 col7\" >campaign</th>\n",
       "      <th id=\"T_27fd9_level0_col8\" class=\"col_heading level0 col8\" >pdays</th>\n",
       "      <th id=\"T_27fd9_level0_col9\" class=\"col_heading level0 col9\" >previous</th>\n",
       "      <th id=\"T_27fd9_level0_col10\" class=\"col_heading level0 col10\" >isSunday</th>\n",
       "      <th id=\"T_27fd9_level0_col11\" class=\"col_heading level0 col11\" >previously_contacted</th>\n",
       "    </tr>\n",
       "  </thead>\n",
       "  <tbody>\n",
       "    <tr>\n",
       "      <th id=\"T_27fd9_level0_row0\" class=\"row_heading level0 row0\" >age</th>\n",
       "      <td id=\"T_27fd9_row0_col0\" class=\"data row0 col0\" >1.000000</td>\n",
       "      <td id=\"T_27fd9_row0_col1\" class=\"data row0 col1\" >0.181131</td>\n",
       "      <td id=\"T_27fd9_row0_col2\" class=\"data row0 col2\" >0.289150</td>\n",
       "      <td id=\"T_27fd9_row0_col3\" class=\"data row0 col3\" >-0.154241</td>\n",
       "      <td id=\"T_27fd9_row0_col4\" class=\"data row0 col4\" >0.064136</td>\n",
       "      <td id=\"T_27fd9_row0_col5\" class=\"data row0 col5\" >-0.229445</td>\n",
       "      <td id=\"T_27fd9_row0_col6\" class=\"data row0 col6\" >0.255573</td>\n",
       "      <td id=\"T_27fd9_row0_col7\" class=\"data row0 col7\" >0.269439</td>\n",
       "      <td id=\"T_27fd9_row0_col8\" class=\"data row0 col8\" >0.199507</td>\n",
       "      <td id=\"T_27fd9_row0_col9\" class=\"data row0 col9\" >0.277487</td>\n",
       "      <td id=\"T_27fd9_row0_col10\" class=\"data row0 col10\" >-0.006852</td>\n",
       "      <td id=\"T_27fd9_row0_col11\" class=\"data row0 col11\" >0.166414</td>\n",
       "    </tr>\n",
       "    <tr>\n",
       "      <th id=\"T_27fd9_level0_row1\" class=\"row_heading level0 row1\" >default</th>\n",
       "      <td id=\"T_27fd9_row1_col0\" class=\"data row1 col0\" >0.181131</td>\n",
       "      <td id=\"T_27fd9_row1_col1\" class=\"data row1 col1\" >1.000000</td>\n",
       "      <td id=\"T_27fd9_row1_col2\" class=\"data row1 col2\" >0.475008</td>\n",
       "      <td id=\"T_27fd9_row1_col3\" class=\"data row1 col3\" >-0.019287</td>\n",
       "      <td id=\"T_27fd9_row1_col4\" class=\"data row1 col4\" >0.181860</td>\n",
       "      <td id=\"T_27fd9_row1_col5\" class=\"data row1 col5\" >-0.210486</td>\n",
       "      <td id=\"T_27fd9_row1_col6\" class=\"data row1 col6\" >0.458076</td>\n",
       "      <td id=\"T_27fd9_row1_col7\" class=\"data row1 col7\" >0.473876</td>\n",
       "      <td id=\"T_27fd9_row1_col8\" class=\"data row1 col8\" >0.376927</td>\n",
       "      <td id=\"T_27fd9_row1_col9\" class=\"data row1 col9\" >0.493975</td>\n",
       "      <td id=\"T_27fd9_row1_col10\" class=\"data row1 col10\" >-0.014106</td>\n",
       "      <td id=\"T_27fd9_row1_col11\" class=\"data row1 col11\" >0.279765</td>\n",
       "    </tr>\n",
       "    <tr>\n",
       "      <th id=\"T_27fd9_level0_row2\" class=\"row_heading level0 row2\" >balance</th>\n",
       "      <td id=\"T_27fd9_row2_col0\" class=\"data row2 col0\" >0.289150</td>\n",
       "      <td id=\"T_27fd9_row2_col1\" class=\"data row2 col1\" >0.475008</td>\n",
       "      <td id=\"T_27fd9_row2_col2\" class=\"data row2 col2\" >1.000000</td>\n",
       "      <td id=\"T_27fd9_row2_col3\" class=\"data row2 col3\" >-0.044313</td>\n",
       "      <td id=\"T_27fd9_row2_col4\" class=\"data row2 col4\" >0.193390</td>\n",
       "      <td id=\"T_27fd9_row2_col5\" class=\"data row2 col5\" >-0.329650</td>\n",
       "      <td id=\"T_27fd9_row2_col6\" class=\"data row2 col6\" >0.669737</td>\n",
       "      <td id=\"T_27fd9_row2_col7\" class=\"data row2 col7\" >0.674339</td>\n",
       "      <td id=\"T_27fd9_row2_col8\" class=\"data row2 col8\" >0.562097</td>\n",
       "      <td id=\"T_27fd9_row2_col9\" class=\"data row2 col9\" >0.716816</td>\n",
       "      <td id=\"T_27fd9_row2_col10\" class=\"data row2 col10\" >-0.013649</td>\n",
       "      <td id=\"T_27fd9_row2_col11\" class=\"data row2 col11\" >0.437320</td>\n",
       "    </tr>\n",
       "    <tr>\n",
       "      <th id=\"T_27fd9_level0_row3\" class=\"row_heading level0 row3\" >housing</th>\n",
       "      <td id=\"T_27fd9_row3_col0\" class=\"data row3 col0\" >-0.154241</td>\n",
       "      <td id=\"T_27fd9_row3_col1\" class=\"data row3 col1\" >-0.019287</td>\n",
       "      <td id=\"T_27fd9_row3_col2\" class=\"data row3 col2\" >-0.044313</td>\n",
       "      <td id=\"T_27fd9_row3_col3\" class=\"data row3 col3\" >1.000000</td>\n",
       "      <td id=\"T_27fd9_row3_col4\" class=\"data row3 col4\" >0.026333</td>\n",
       "      <td id=\"T_27fd9_row3_col5\" class=\"data row3 col5\" >0.071685</td>\n",
       "      <td id=\"T_27fd9_row3_col6\" class=\"data row3 col6\" >-0.026819</td>\n",
       "      <td id=\"T_27fd9_row3_col7\" class=\"data row3 col7\" >-0.038591</td>\n",
       "      <td id=\"T_27fd9_row3_col8\" class=\"data row3 col8\" >0.047196</td>\n",
       "      <td id=\"T_27fd9_row3_col9\" class=\"data row3 col9\" >-0.027160</td>\n",
       "      <td id=\"T_27fd9_row3_col10\" class=\"data row3 col10\" >0.004708</td>\n",
       "      <td id=\"T_27fd9_row3_col11\" class=\"data row3 col11\" >0.034108</td>\n",
       "    </tr>\n",
       "    <tr>\n",
       "      <th id=\"T_27fd9_level0_row4\" class=\"row_heading level0 row4\" >loan</th>\n",
       "      <td id=\"T_27fd9_row4_col0\" class=\"data row4 col0\" >0.064136</td>\n",
       "      <td id=\"T_27fd9_row4_col1\" class=\"data row4 col1\" >0.181860</td>\n",
       "      <td id=\"T_27fd9_row4_col2\" class=\"data row4 col2\" >0.193390</td>\n",
       "      <td id=\"T_27fd9_row4_col3\" class=\"data row4 col3\" >0.026333</td>\n",
       "      <td id=\"T_27fd9_row4_col4\" class=\"data row4 col4\" >1.000000</td>\n",
       "      <td id=\"T_27fd9_row4_col5\" class=\"data row4 col5\" >-0.082935</td>\n",
       "      <td id=\"T_27fd9_row4_col6\" class=\"data row4 col6\" >0.184147</td>\n",
       "      <td id=\"T_27fd9_row4_col7\" class=\"data row4 col7\" >0.192926</td>\n",
       "      <td id=\"T_27fd9_row4_col8\" class=\"data row4 col8\" >0.155936</td>\n",
       "      <td id=\"T_27fd9_row4_col9\" class=\"data row4 col9\" >0.206297</td>\n",
       "      <td id=\"T_27fd9_row4_col10\" class=\"data row4 col10\" >0.003285</td>\n",
       "      <td id=\"T_27fd9_row4_col11\" class=\"data row4 col11\" >0.100025</td>\n",
       "    </tr>\n",
       "    <tr>\n",
       "      <th id=\"T_27fd9_level0_row5\" class=\"row_heading level0 row5\" >contact</th>\n",
       "      <td id=\"T_27fd9_row5_col0\" class=\"data row5 col0\" >-0.229445</td>\n",
       "      <td id=\"T_27fd9_row5_col1\" class=\"data row5 col1\" >-0.210486</td>\n",
       "      <td id=\"T_27fd9_row5_col2\" class=\"data row5 col2\" >-0.329650</td>\n",
       "      <td id=\"T_27fd9_row5_col3\" class=\"data row5 col3\" >0.071685</td>\n",
       "      <td id=\"T_27fd9_row5_col4\" class=\"data row5 col4\" >-0.082935</td>\n",
       "      <td id=\"T_27fd9_row5_col5\" class=\"data row5 col5\" >1.000000</td>\n",
       "      <td id=\"T_27fd9_row5_col6\" class=\"data row5 col6\" >-0.294537</td>\n",
       "      <td id=\"T_27fd9_row5_col7\" class=\"data row5 col7\" >-0.321816</td>\n",
       "      <td id=\"T_27fd9_row5_col8\" class=\"data row5 col8\" >-0.263777</td>\n",
       "      <td id=\"T_27fd9_row5_col9\" class=\"data row5 col9\" >-0.327367</td>\n",
       "      <td id=\"T_27fd9_row5_col10\" class=\"data row5 col10\" >-0.006494</td>\n",
       "      <td id=\"T_27fd9_row5_col11\" class=\"data row5 col11\" >-0.212268</td>\n",
       "    </tr>\n",
       "    <tr>\n",
       "      <th id=\"T_27fd9_level0_row6\" class=\"row_heading level0 row6\" >duration</th>\n",
       "      <td id=\"T_27fd9_row6_col0\" class=\"data row6 col0\" >0.255573</td>\n",
       "      <td id=\"T_27fd9_row6_col1\" class=\"data row6 col1\" >0.458076</td>\n",
       "      <td id=\"T_27fd9_row6_col2\" class=\"data row6 col2\" >0.669737</td>\n",
       "      <td id=\"T_27fd9_row6_col3\" class=\"data row6 col3\" >-0.026819</td>\n",
       "      <td id=\"T_27fd9_row6_col4\" class=\"data row6 col4\" >0.184147</td>\n",
       "      <td id=\"T_27fd9_row6_col5\" class=\"data row6 col5\" >-0.294537</td>\n",
       "      <td id=\"T_27fd9_row6_col6\" class=\"data row6 col6\" >1.000000</td>\n",
       "      <td id=\"T_27fd9_row6_col7\" class=\"data row6 col7\" >0.630944</td>\n",
       "      <td id=\"T_27fd9_row6_col8\" class=\"data row6 col8\" >0.527020</td>\n",
       "      <td id=\"T_27fd9_row6_col9\" class=\"data row6 col9\" >0.683951</td>\n",
       "      <td id=\"T_27fd9_row6_col10\" class=\"data row6 col10\" >-0.007808</td>\n",
       "      <td id=\"T_27fd9_row6_col11\" class=\"data row6 col11\" >0.409098</td>\n",
       "    </tr>\n",
       "    <tr>\n",
       "      <th id=\"T_27fd9_level0_row7\" class=\"row_heading level0 row7\" >campaign</th>\n",
       "      <td id=\"T_27fd9_row7_col0\" class=\"data row7 col0\" >0.269439</td>\n",
       "      <td id=\"T_27fd9_row7_col1\" class=\"data row7 col1\" >0.473876</td>\n",
       "      <td id=\"T_27fd9_row7_col2\" class=\"data row7 col2\" >0.674339</td>\n",
       "      <td id=\"T_27fd9_row7_col3\" class=\"data row7 col3\" >-0.038591</td>\n",
       "      <td id=\"T_27fd9_row7_col4\" class=\"data row7 col4\" >0.192926</td>\n",
       "      <td id=\"T_27fd9_row7_col5\" class=\"data row7 col5\" >-0.321816</td>\n",
       "      <td id=\"T_27fd9_row7_col6\" class=\"data row7 col6\" >0.630944</td>\n",
       "      <td id=\"T_27fd9_row7_col7\" class=\"data row7 col7\" >1.000000</td>\n",
       "      <td id=\"T_27fd9_row7_col8\" class=\"data row7 col8\" >0.519469</td>\n",
       "      <td id=\"T_27fd9_row7_col9\" class=\"data row7 col9\" >0.689211</td>\n",
       "      <td id=\"T_27fd9_row7_col10\" class=\"data row7 col10\" >-0.019404</td>\n",
       "      <td id=\"T_27fd9_row7_col11\" class=\"data row7 col11\" >0.383583</td>\n",
       "    </tr>\n",
       "    <tr>\n",
       "      <th id=\"T_27fd9_level0_row8\" class=\"row_heading level0 row8\" >pdays</th>\n",
       "      <td id=\"T_27fd9_row8_col0\" class=\"data row8 col0\" >0.199507</td>\n",
       "      <td id=\"T_27fd9_row8_col1\" class=\"data row8 col1\" >0.376927</td>\n",
       "      <td id=\"T_27fd9_row8_col2\" class=\"data row8 col2\" >0.562097</td>\n",
       "      <td id=\"T_27fd9_row8_col3\" class=\"data row8 col3\" >0.047196</td>\n",
       "      <td id=\"T_27fd9_row8_col4\" class=\"data row8 col4\" >0.155936</td>\n",
       "      <td id=\"T_27fd9_row8_col5\" class=\"data row8 col5\" >-0.263777</td>\n",
       "      <td id=\"T_27fd9_row8_col6\" class=\"data row8 col6\" >0.527020</td>\n",
       "      <td id=\"T_27fd9_row8_col7\" class=\"data row8 col7\" >0.519469</td>\n",
       "      <td id=\"T_27fd9_row8_col8\" class=\"data row8 col8\" >1.000000</td>\n",
       "      <td id=\"T_27fd9_row8_col9\" class=\"data row8 col9\" >0.586175</td>\n",
       "      <td id=\"T_27fd9_row8_col10\" class=\"data row8 col10\" >0.011179</td>\n",
       "      <td id=\"T_27fd9_row8_col11\" class=\"data row8 col11\" >0.790415</td>\n",
       "    </tr>\n",
       "    <tr>\n",
       "      <th id=\"T_27fd9_level0_row9\" class=\"row_heading level0 row9\" >previous</th>\n",
       "      <td id=\"T_27fd9_row9_col0\" class=\"data row9 col0\" >0.277487</td>\n",
       "      <td id=\"T_27fd9_row9_col1\" class=\"data row9 col1\" >0.493975</td>\n",
       "      <td id=\"T_27fd9_row9_col2\" class=\"data row9 col2\" >0.716816</td>\n",
       "      <td id=\"T_27fd9_row9_col3\" class=\"data row9 col3\" >-0.027160</td>\n",
       "      <td id=\"T_27fd9_row9_col4\" class=\"data row9 col4\" >0.206297</td>\n",
       "      <td id=\"T_27fd9_row9_col5\" class=\"data row9 col5\" >-0.327367</td>\n",
       "      <td id=\"T_27fd9_row9_col6\" class=\"data row9 col6\" >0.683951</td>\n",
       "      <td id=\"T_27fd9_row9_col7\" class=\"data row9 col7\" >0.689211</td>\n",
       "      <td id=\"T_27fd9_row9_col8\" class=\"data row9 col8\" >0.586175</td>\n",
       "      <td id=\"T_27fd9_row9_col9\" class=\"data row9 col9\" >1.000000</td>\n",
       "      <td id=\"T_27fd9_row9_col10\" class=\"data row9 col10\" >-0.008936</td>\n",
       "      <td id=\"T_27fd9_row9_col11\" class=\"data row9 col11\" >0.465256</td>\n",
       "    </tr>\n",
       "    <tr>\n",
       "      <th id=\"T_27fd9_level0_row10\" class=\"row_heading level0 row10\" >isSunday</th>\n",
       "      <td id=\"T_27fd9_row10_col0\" class=\"data row10 col0\" >-0.006852</td>\n",
       "      <td id=\"T_27fd9_row10_col1\" class=\"data row10 col1\" >-0.014106</td>\n",
       "      <td id=\"T_27fd9_row10_col2\" class=\"data row10 col2\" >-0.013649</td>\n",
       "      <td id=\"T_27fd9_row10_col3\" class=\"data row10 col3\" >0.004708</td>\n",
       "      <td id=\"T_27fd9_row10_col4\" class=\"data row10 col4\" >0.003285</td>\n",
       "      <td id=\"T_27fd9_row10_col5\" class=\"data row10 col5\" >-0.006494</td>\n",
       "      <td id=\"T_27fd9_row10_col6\" class=\"data row10 col6\" >-0.007808</td>\n",
       "      <td id=\"T_27fd9_row10_col7\" class=\"data row10 col7\" >-0.019404</td>\n",
       "      <td id=\"T_27fd9_row10_col8\" class=\"data row10 col8\" >0.011179</td>\n",
       "      <td id=\"T_27fd9_row10_col9\" class=\"data row10 col9\" >-0.008936</td>\n",
       "      <td id=\"T_27fd9_row10_col10\" class=\"data row10 col10\" >1.000000</td>\n",
       "      <td id=\"T_27fd9_row10_col11\" class=\"data row10 col11\" >0.027176</td>\n",
       "    </tr>\n",
       "    <tr>\n",
       "      <th id=\"T_27fd9_level0_row11\" class=\"row_heading level0 row11\" >previously_contacted</th>\n",
       "      <td id=\"T_27fd9_row11_col0\" class=\"data row11 col0\" >0.166414</td>\n",
       "      <td id=\"T_27fd9_row11_col1\" class=\"data row11 col1\" >0.279765</td>\n",
       "      <td id=\"T_27fd9_row11_col2\" class=\"data row11 col2\" >0.437320</td>\n",
       "      <td id=\"T_27fd9_row11_col3\" class=\"data row11 col3\" >0.034108</td>\n",
       "      <td id=\"T_27fd9_row11_col4\" class=\"data row11 col4\" >0.100025</td>\n",
       "      <td id=\"T_27fd9_row11_col5\" class=\"data row11 col5\" >-0.212268</td>\n",
       "      <td id=\"T_27fd9_row11_col6\" class=\"data row11 col6\" >0.409098</td>\n",
       "      <td id=\"T_27fd9_row11_col7\" class=\"data row11 col7\" >0.383583</td>\n",
       "      <td id=\"T_27fd9_row11_col8\" class=\"data row11 col8\" >0.790415</td>\n",
       "      <td id=\"T_27fd9_row11_col9\" class=\"data row11 col9\" >0.465256</td>\n",
       "      <td id=\"T_27fd9_row11_col10\" class=\"data row11 col10\" >0.027176</td>\n",
       "      <td id=\"T_27fd9_row11_col11\" class=\"data row11 col11\" >1.000000</td>\n",
       "    </tr>\n",
       "  </tbody>\n",
       "</table>\n"
      ],
      "text/plain": [
       "<pandas.io.formats.style.Styler at 0x7daf248cc250>"
      ]
     },
     "execution_count": 30,
     "metadata": {},
     "output_type": "execute_result"
    }
   ],
   "source": [
    "corr = train.select_dtypes(include=['int64', 'float64']).corr()\n",
    "corr.style.background_gradient(cmap='coolwarm')"
   ]
  },
  {
   "cell_type": "markdown",
   "id": "9c456e18",
   "metadata": {
    "papermill": {
     "duration": 0.023724,
     "end_time": "2024-10-23T04:42:40.539046",
     "exception": false,
     "start_time": "2024-10-23T04:42:40.515322",
     "status": "completed"
    },
    "tags": []
   },
   "source": [
    "# Converted the (0,1) ===> (no,yes)\n",
    "# chose the features\n"
   ]
  },
  {
   "cell_type": "code",
   "execution_count": 31,
   "id": "9f070673",
   "metadata": {
    "execution": {
     "iopub.execute_input": "2024-10-23T04:42:40.588894Z",
     "iopub.status.busy": "2024-10-23T04:42:40.588334Z",
     "iopub.status.idle": "2024-10-23T04:42:40.628083Z",
     "shell.execute_reply": "2024-10-23T04:42:40.626988Z"
    },
    "papermill": {
     "duration": 0.06764,
     "end_time": "2024-10-23T04:42:40.630654",
     "exception": false,
     "start_time": "2024-10-23T04:42:40.563014",
     "status": "completed"
    },
    "tags": []
   },
   "outputs": [],
   "source": [
    "train_yes=train[train['target']=='no'].sample(15000 , random_state=42)\n",
    "train_no=train[train['target']=='yes']\n",
    "\n",
    "train= pd.concat([train_yes, train_no])"
   ]
  },
  {
   "cell_type": "code",
   "execution_count": 32,
   "id": "fa586436",
   "metadata": {
    "execution": {
     "iopub.execute_input": "2024-10-23T04:42:40.682751Z",
     "iopub.status.busy": "2024-10-23T04:42:40.682310Z",
     "iopub.status.idle": "2024-10-23T04:42:40.701893Z",
     "shell.execute_reply": "2024-10-23T04:42:40.700519Z"
    },
    "papermill": {
     "duration": 0.049813,
     "end_time": "2024-10-23T04:42:40.704991",
     "exception": false,
     "start_time": "2024-10-23T04:42:40.655178",
     "status": "completed"
    },
    "tags": []
   },
   "outputs": [],
   "source": [
    "train['target'] = train['target'].map({'yes': 1, 'no': 0})\n",
    "y=train['target']\n",
    "\n",
    "         \n",
    "# 'age','pdays','balance',duration,duration\n",
    "train=train[['age','pdays','balance','previous','campaign' ,'job','marital','poutcome' ,'education','previously_contacted','Age_Category' ,'default','loan','housing','contact','day','month','isSunday' ]]\n",
    "\n",
    "\n",
    "\n",
    "\n",
    "test=test[['age','pdays','balance','previous','campaign' ,'job','marital','poutcome' ,'education','previously_contacted','Age_Category' ,'default','loan','housing','contact','day' ,'month','isSunday']]\n"
   ]
  },
  {
   "cell_type": "code",
   "execution_count": 33,
   "id": "4c23eef6",
   "metadata": {
    "execution": {
     "iopub.execute_input": "2024-10-23T04:42:40.755597Z",
     "iopub.status.busy": "2024-10-23T04:42:40.755182Z",
     "iopub.status.idle": "2024-10-23T04:42:40.761786Z",
     "shell.execute_reply": "2024-10-23T04:42:40.760657Z"
    },
    "papermill": {
     "duration": 0.034719,
     "end_time": "2024-10-23T04:42:40.764379",
     "exception": false,
     "start_time": "2024-10-23T04:42:40.729660",
     "status": "completed"
    },
    "tags": []
   },
   "outputs": [
    {
     "name": "stdout",
     "output_type": "stream",
     "text": [
      "target\n",
      "0    15000\n",
      "1     5827\n",
      "Name: count, dtype: int64\n"
     ]
    }
   ],
   "source": [
    "print(y.value_counts())"
   ]
  },
  {
   "cell_type": "markdown",
   "id": "5f3b649d",
   "metadata": {
    "papermill": {
     "duration": 0.023788,
     "end_time": "2024-10-23T04:42:40.812135",
     "exception": false,
     "start_time": "2024-10-23T04:42:40.788347",
     "status": "completed"
    },
    "tags": []
   },
   "source": [
    "# train test split"
   ]
  },
  {
   "cell_type": "code",
   "execution_count": null,
   "id": "5f2a8bba",
   "metadata": {
    "papermill": {
     "duration": 0.023573,
     "end_time": "2024-10-23T04:42:40.860026",
     "exception": false,
     "start_time": "2024-10-23T04:42:40.836453",
     "status": "completed"
    },
    "tags": []
   },
   "outputs": [],
   "source": []
  },
  {
   "cell_type": "markdown",
   "id": "2f9801d5",
   "metadata": {
    "papermill": {
     "duration": 0.023981,
     "end_time": "2024-10-23T04:42:40.908854",
     "exception": false,
     "start_time": "2024-10-23T04:42:40.884873",
     "status": "completed"
    },
    "tags": []
   },
   "source": [
    "# Got the xtrain and xtemp .....xtemp will be used for furhter splitting into xval and xtest"
   ]
  },
  {
   "cell_type": "code",
   "execution_count": 34,
   "id": "2bd68508",
   "metadata": {
    "execution": {
     "iopub.execute_input": "2024-10-23T04:42:40.960390Z",
     "iopub.status.busy": "2024-10-23T04:42:40.959307Z",
     "iopub.status.idle": "2024-10-23T04:42:40.983111Z",
     "shell.execute_reply": "2024-10-23T04:42:40.981697Z"
    },
    "papermill": {
     "duration": 0.052432,
     "end_time": "2024-10-23T04:42:40.985711",
     "exception": false,
     "start_time": "2024-10-23T04:42:40.933279",
     "status": "completed"
    },
    "tags": []
   },
   "outputs": [
    {
     "name": "stdout",
     "output_type": "stream",
     "text": [
      "xtrain, ytrain shape ((16661, 18), (16661,))\n",
      "xtest, ytest shape ((4166, 18), (4166,))\n"
     ]
    }
   ],
   "source": [
    "from sklearn.model_selection import train_test_split\n",
    "\n",
    "from sklearn.pipeline import Pipeline\n",
    "from sklearn.metrics import f1_score\n",
    "\n",
    "\n",
    "xtrain , xtest , ytrain , ytest = train_test_split(train , y ,test_size=0.2, random_state=1 , shuffle=True , stratify=y)\n",
    "\n",
    "# xval , xtest , yval , ytest = train_test_split(xtemp , ytemp ,test_size=0.5, random_state=1 , shuffle=True , stratify=ytemp)\n",
    "\n",
    "\n",
    "print(\"xtrain, ytrain shape\" , (xtrain.shape , ytrain.shape))\n",
    "# print(\"xval, yval shape\" , (xval.shape, yval.shape))\n",
    "print(\"xtest, ytest shape\" , (xtest.shape , ytest.shape))\n",
    "\n"
   ]
  },
  {
   "cell_type": "code",
   "execution_count": 35,
   "id": "b3fa1b25",
   "metadata": {
    "execution": {
     "iopub.execute_input": "2024-10-23T04:42:41.036626Z",
     "iopub.status.busy": "2024-10-23T04:42:41.036212Z",
     "iopub.status.idle": "2024-10-23T04:42:41.042866Z",
     "shell.execute_reply": "2024-10-23T04:42:41.041696Z"
    },
    "papermill": {
     "duration": 0.034489,
     "end_time": "2024-10-23T04:42:41.045039",
     "exception": false,
     "start_time": "2024-10-23T04:42:41.010550",
     "status": "completed"
    },
    "tags": []
   },
   "outputs": [
    {
     "data": {
      "text/plain": [
       "(20827, 18)"
      ]
     },
     "execution_count": 35,
     "metadata": {},
     "output_type": "execute_result"
    }
   ],
   "source": [
    "train.shape\n"
   ]
  },
  {
   "cell_type": "code",
   "execution_count": 36,
   "id": "0a4d84c0",
   "metadata": {
    "execution": {
     "iopub.execute_input": "2024-10-23T04:42:41.095922Z",
     "iopub.status.busy": "2024-10-23T04:42:41.095508Z",
     "iopub.status.idle": "2024-10-23T04:42:41.103899Z",
     "shell.execute_reply": "2024-10-23T04:42:41.102903Z"
    },
    "papermill": {
     "duration": 0.036305,
     "end_time": "2024-10-23T04:42:41.106052",
     "exception": false,
     "start_time": "2024-10-23T04:42:41.069747",
     "status": "completed"
    },
    "tags": []
   },
   "outputs": [
    {
     "data": {
      "text/plain": [
       "target\n",
       "0    12000\n",
       "1     4661\n",
       "Name: count, dtype: int64"
      ]
     },
     "execution_count": 36,
     "metadata": {},
     "output_type": "execute_result"
    }
   ],
   "source": [
    "ytrain.value_counts()"
   ]
  },
  {
   "cell_type": "code",
   "execution_count": null,
   "id": "5320a8ae",
   "metadata": {
    "papermill": {
     "duration": 0.024583,
     "end_time": "2024-10-23T04:42:41.155308",
     "exception": false,
     "start_time": "2024-10-23T04:42:41.130725",
     "status": "completed"
    },
    "tags": []
   },
   "outputs": [],
   "source": []
  },
  {
   "cell_type": "code",
   "execution_count": 37,
   "id": "3a0cbbdc",
   "metadata": {
    "execution": {
     "iopub.execute_input": "2024-10-23T04:42:41.205800Z",
     "iopub.status.busy": "2024-10-23T04:42:41.205372Z",
     "iopub.status.idle": "2024-10-23T04:42:41.210406Z",
     "shell.execute_reply": "2024-10-23T04:42:41.209306Z"
    },
    "papermill": {
     "duration": 0.033363,
     "end_time": "2024-10-23T04:42:41.212878",
     "exception": false,
     "start_time": "2024-10-23T04:42:41.179515",
     "status": "completed"
    },
    "tags": []
   },
   "outputs": [],
   "source": [
    "# xtrain=col_transformer.fit_transform(xtrain)\n",
    "\n"
   ]
  },
  {
   "cell_type": "code",
   "execution_count": 38,
   "id": "9d7db5df",
   "metadata": {
    "execution": {
     "iopub.execute_input": "2024-10-23T04:42:41.264376Z",
     "iopub.status.busy": "2024-10-23T04:42:41.263964Z",
     "iopub.status.idle": "2024-10-23T04:42:41.721816Z",
     "shell.execute_reply": "2024-10-23T04:42:41.720682Z"
    },
    "papermill": {
     "duration": 0.486235,
     "end_time": "2024-10-23T04:42:41.724539",
     "exception": false,
     "start_time": "2024-10-23T04:42:41.238304",
     "status": "completed"
    },
    "tags": []
   },
   "outputs": [],
   "source": [
    "from imblearn.over_sampling import SMOTE\n",
    "from imblearn.combine import SMOTETomek\n",
    "# sampling_strategy=1.0,\n",
    "smote= SMOTE( random_state=42)\n",
    "\n"
   ]
  },
  {
   "cell_type": "code",
   "execution_count": null,
   "id": "86dab032",
   "metadata": {
    "papermill": {
     "duration": 0.026015,
     "end_time": "2024-10-23T04:42:41.775423",
     "exception": false,
     "start_time": "2024-10-23T04:42:41.749408",
     "status": "completed"
    },
    "tags": []
   },
   "outputs": [],
   "source": []
  },
  {
   "cell_type": "code",
   "execution_count": 39,
   "id": "84005ca0",
   "metadata": {
    "execution": {
     "iopub.execute_input": "2024-10-23T04:42:41.829018Z",
     "iopub.status.busy": "2024-10-23T04:42:41.828412Z",
     "iopub.status.idle": "2024-10-23T04:42:41.833654Z",
     "shell.execute_reply": "2024-10-23T04:42:41.832499Z"
    },
    "papermill": {
     "duration": 0.033518,
     "end_time": "2024-10-23T04:42:41.836016",
     "exception": false,
     "start_time": "2024-10-23T04:42:41.802498",
     "status": "completed"
    },
    "tags": []
   },
   "outputs": [],
   "source": [
    "# xtest=col_transformer.transform(xtest)\n"
   ]
  },
  {
   "cell_type": "code",
   "execution_count": 40,
   "id": "74bd8149",
   "metadata": {
    "execution": {
     "iopub.execute_input": "2024-10-23T04:42:41.888318Z",
     "iopub.status.busy": "2024-10-23T04:42:41.887887Z",
     "iopub.status.idle": "2024-10-23T04:42:41.892969Z",
     "shell.execute_reply": "2024-10-23T04:42:41.891772Z"
    },
    "papermill": {
     "duration": 0.033979,
     "end_time": "2024-10-23T04:42:41.895268",
     "exception": false,
     "start_time": "2024-10-23T04:42:41.861289",
     "status": "completed"
    },
    "tags": []
   },
   "outputs": [],
   "source": [
    "from sklearn.decomposition import PCA"
   ]
  },
  {
   "cell_type": "code",
   "execution_count": 41,
   "id": "1f470bee",
   "metadata": {
    "execution": {
     "iopub.execute_input": "2024-10-23T04:42:41.947875Z",
     "iopub.status.busy": "2024-10-23T04:42:41.947457Z",
     "iopub.status.idle": "2024-10-23T04:42:41.954357Z",
     "shell.execute_reply": "2024-10-23T04:42:41.953324Z"
    },
    "papermill": {
     "duration": 0.036125,
     "end_time": "2024-10-23T04:42:41.956517",
     "exception": false,
     "start_time": "2024-10-23T04:42:41.920392",
     "status": "completed"
    },
    "tags": []
   },
   "outputs": [
    {
     "data": {
      "text/plain": [
       "(16661, 18)"
      ]
     },
     "execution_count": 41,
     "metadata": {},
     "output_type": "execute_result"
    }
   ],
   "source": [
    "xtrain.shape"
   ]
  },
  {
   "cell_type": "code",
   "execution_count": 42,
   "id": "287e6fb3",
   "metadata": {
    "execution": {
     "iopub.execute_input": "2024-10-23T04:42:42.008145Z",
     "iopub.status.busy": "2024-10-23T04:42:42.007712Z",
     "iopub.status.idle": "2024-10-23T04:42:42.015660Z",
     "shell.execute_reply": "2024-10-23T04:42:42.014314Z"
    },
    "papermill": {
     "duration": 0.036843,
     "end_time": "2024-10-23T04:42:42.018152",
     "exception": false,
     "start_time": "2024-10-23T04:42:41.981309",
     "status": "completed"
    },
    "tags": []
   },
   "outputs": [
    {
     "data": {
      "text/plain": [
       "(16661,)"
      ]
     },
     "execution_count": 42,
     "metadata": {},
     "output_type": "execute_result"
    }
   ],
   "source": [
    "ytrain.shape"
   ]
  },
  {
   "cell_type": "code",
   "execution_count": 43,
   "id": "7958e62e",
   "metadata": {
    "execution": {
     "iopub.execute_input": "2024-10-23T04:42:42.074762Z",
     "iopub.status.busy": "2024-10-23T04:42:42.074315Z",
     "iopub.status.idle": "2024-10-23T04:42:42.079281Z",
     "shell.execute_reply": "2024-10-23T04:42:42.078097Z"
    },
    "papermill": {
     "duration": 0.03733,
     "end_time": "2024-10-23T04:42:42.082306",
     "exception": false,
     "start_time": "2024-10-23T04:42:42.044976",
     "status": "completed"
    },
    "tags": []
   },
   "outputs": [],
   "source": [
    "from sklearn.metrics import classification_report , confusion_matrix , ConfusionMatrixDisplay\n",
    "\n",
    "\n"
   ]
  },
  {
   "cell_type": "code",
   "execution_count": 44,
   "id": "92c085a4",
   "metadata": {
    "execution": {
     "iopub.execute_input": "2024-10-23T04:42:42.136582Z",
     "iopub.status.busy": "2024-10-23T04:42:42.136174Z",
     "iopub.status.idle": "2024-10-23T04:42:42.144705Z",
     "shell.execute_reply": "2024-10-23T04:42:42.143520Z"
    },
    "papermill": {
     "duration": 0.038649,
     "end_time": "2024-10-23T04:42:42.147228",
     "exception": false,
     "start_time": "2024-10-23T04:42:42.108579",
     "status": "completed"
    },
    "tags": []
   },
   "outputs": [
    {
     "data": {
      "text/plain": [
       "target\n",
       "0    12000\n",
       "1     4661\n",
       "Name: count, dtype: int64"
      ]
     },
     "execution_count": 44,
     "metadata": {},
     "output_type": "execute_result"
    }
   ],
   "source": [
    "ytrain.value_counts()"
   ]
  },
  {
   "cell_type": "code",
   "execution_count": 45,
   "id": "ddda3e2a",
   "metadata": {
    "execution": {
     "iopub.execute_input": "2024-10-23T04:42:42.198691Z",
     "iopub.status.busy": "2024-10-23T04:42:42.198264Z",
     "iopub.status.idle": "2024-10-23T04:42:47.963786Z",
     "shell.execute_reply": "2024-10-23T04:42:47.962471Z"
    },
    "papermill": {
     "duration": 5.794152,
     "end_time": "2024-10-23T04:42:47.966226",
     "exception": false,
     "start_time": "2024-10-23T04:42:42.172074",
     "status": "completed"
    },
    "tags": []
   },
   "outputs": [
    {
     "name": "stdout",
     "output_type": "stream",
     "text": [
      "randomForestClassifier f1_score  0.7072106345265303\n",
      "Classification Report\n",
      "              precision    recall  f1-score   support\n",
      "\n",
      "           0       0.82      0.90      0.86      3000\n",
      "           1       0.66      0.48      0.56      1166\n",
      "\n",
      "    accuracy                           0.78      4166\n",
      "   macro avg       0.74      0.69      0.71      4166\n",
      "weighted avg       0.77      0.78      0.77      4166\n",
      "\n",
      "Confusion Matrix\n"
     ]
    },
    {
     "data": {
      "text/plain": [
       "<sklearn.metrics._plot.confusion_matrix.ConfusionMatrixDisplay at 0x7daf248dc9d0>"
      ]
     },
     "execution_count": 45,
     "metadata": {},
     "output_type": "execute_result"
    },
    {
     "data": {
      "image/png": "[encoded data removed]",
      "text/plain": [
       "<Figure size 640x480 with 2 Axes>"
      ]
     },
     "metadata": {},
     "output_type": "display_data"
    }
   ],
   "source": [
    "from sklearn.ensemble import RandomForestClassifier\n",
    "from imblearn.pipeline import Pipeline \n",
    "\n",
    "rf=RandomForestClassifier(random_state=1 ,class_weight='balanced', n_jobs=-1)\n",
    "randomForestClassifier=Pipeline([('col_transformer',col_transformer),('pca',PCA())\n",
    "                                 ,('randomForest',rf)])\n",
    "\n",
    "randomForestClassifier.fit(xtrain, ytrain)\n",
    "\n",
    "ypredicted_rf=randomForestClassifier.predict(xtest)\n",
    "\n",
    "\n",
    "\n",
    "print(   'randomForestClassifier f1_score '  ,     f1_score(ytest, ypredicted_rf  , average='macro')    )\n",
    "\n",
    "print('Classification Report')\n",
    "\n",
    "print(classification_report(ytest ,ypredicted_rf))\n",
    "\n",
    "print('Confusion Matrix')\n",
    "\n",
    "ConfusionMatrixDisplay.from_estimator(randomForestClassifier,xtest,ytest)\n"
   ]
  },
  {
   "cell_type": "code",
   "execution_count": 46,
   "id": "758f8b21",
   "metadata": {
    "execution": {
     "iopub.execute_input": "2024-10-23T04:42:48.018400Z",
     "iopub.status.busy": "2024-10-23T04:42:48.018018Z",
     "iopub.status.idle": "2024-10-23T04:44:50.303643Z",
     "shell.execute_reply": "2024-10-23T04:44:50.302418Z"
    },
    "papermill": {
     "duration": 122.314259,
     "end_time": "2024-10-23T04:44:50.305935",
     "exception": false,
     "start_time": "2024-10-23T04:42:47.991676",
     "status": "completed"
    },
    "tags": []
   },
   "outputs": [
    {
     "name": "stdout",
     "output_type": "stream",
     "text": [
      "Best Params {'rf__max_depth': 10, 'rf__min_samples_leaf': 3, 'rf__min_samples_split': 3}\n",
      " rf_grid f1_score macro  0.7433821935778246\n",
      "Classification Report\n",
      "              precision    recall  f1-score   support\n",
      "\n",
      "           0       0.85      0.88      0.86      3000\n",
      "           1       0.66      0.60      0.62      1166\n",
      "\n",
      "    accuracy                           0.80      4166\n",
      "   macro avg       0.75      0.74      0.74      4166\n",
      "weighted avg       0.79      0.80      0.80      4166\n",
      "\n",
      "Confusion Matrix\n"
     ]
    },
    {
     "data": {
      "text/plain": [
       "<sklearn.metrics._plot.confusion_matrix.ConfusionMatrixDisplay at 0x7daf248cce20>"
      ]
     },
     "execution_count": 46,
     "metadata": {},
     "output_type": "execute_result"
    },
    {
     "data": {
      "image/png": "[encoded data removed]",
      "text/plain": [
       "<Figure size 640x480 with 2 Axes>"
      ]
     },
     "metadata": {},
     "output_type": "display_data"
    }
   ],
   "source": [
    "from sklearn.model_selection import GridSearchCV\n",
    "\n",
    "randomForestClassifier=RandomForestClassifier(random_state=1 ,n_estimators=100,class_weight='balanced', n_jobs=-1)\n",
    "\n",
    "rf=Pipeline([('col_transformer',col_transformer),('pca',PCA()),('rf',randomForestClassifier)])\n",
    "\n",
    "params={'rf__max_depth':[10,15],'rf__min_samples_split':[3,5],'rf__min_samples_leaf':[3,5]}\n",
    "\n",
    "rf_grid=GridSearchCV(rf,param_grid=params,n_jobs=-1,cv=5)\n",
    "\n",
    "rf_grid.fit(xtrain,ytrain)\n",
    "\n",
    "print(\"Best Params\",rf_grid.best_params_)\n",
    "\n",
    "rf_grid=rf_grid.best_estimator_\n",
    "\n",
    "ypred_rf_grid=rf_grid.predict(xtest)\n",
    "\n",
    "print(   ' rf_grid f1_score macro '  ,     f1_score(ytest, ypred_rf_grid  , average='macro')    )\n",
    "\n",
    "print('Classification Report')\n",
    "\n",
    "print(classification_report(ytest ,ypred_rf_grid))\n",
    "\n",
    "print('Confusion Matrix')\n",
    "\n",
    "ConfusionMatrixDisplay.from_estimator(rf_grid,xtest,ytest)\n"
   ]
  },
  {
   "cell_type": "code",
   "execution_count": 47,
   "id": "f06c7e4c",
   "metadata": {
    "execution": {
     "iopub.execute_input": "2024-10-23T04:44:50.359916Z",
     "iopub.status.busy": "2024-10-23T04:44:50.359499Z",
     "iopub.status.idle": "2024-10-23T04:44:50.364564Z",
     "shell.execute_reply": "2024-10-23T04:44:50.363601Z"
    },
    "papermill": {
     "duration": 0.035038,
     "end_time": "2024-10-23T04:44:50.366650",
     "exception": false,
     "start_time": "2024-10-23T04:44:50.331612",
     "status": "completed"
    },
    "tags": []
   },
   "outputs": [],
   "source": [
    "# from imblearn.ensemble import EasyEnsembleClassifier\n",
    "# eec = EasyEnsembleClassifier(estimator=rf ,random_state=1,n_jobs=-1)\n",
    "\n",
    "\n",
    "# from imblearn.over_sampling import ADASYN\n",
    "\n",
    "# adasyn = ADASYN(random_state=1)\n",
    "# # xtrain, ytrain = adasyn.fit_resample(xtrain, ytrain)\n",
    "\n",
    "# easy=Pipeline([('col_transformer',col_transformer)\n",
    "#                                  ,('eec',eec)])\n",
    "# easy.fit(xtrain, ytrain)\n",
    "# ypred_easy=easy.predict(xtest)\n",
    "\n",
    "\n",
    "# print('Classification Report')\n",
    "\n",
    "# print(classification_report(ytest ,ypred_easy))\n",
    "\n",
    "# print('Confusion Matrix')\n",
    "\n",
    "# ConfusionMatrixDisplay.from_estimator(easy,xtest,ytest)\n",
    "\n",
    "\n"
   ]
  },
  {
   "cell_type": "code",
   "execution_count": 48,
   "id": "e7ec2cf3",
   "metadata": {
    "execution": {
     "iopub.execute_input": "2024-10-23T04:44:50.419612Z",
     "iopub.status.busy": "2024-10-23T04:44:50.419166Z",
     "iopub.status.idle": "2024-10-23T04:44:50.424403Z",
     "shell.execute_reply": "2024-10-23T04:44:50.423206Z"
    },
    "papermill": {
     "duration": 0.034474,
     "end_time": "2024-10-23T04:44:50.426852",
     "exception": false,
     "start_time": "2024-10-23T04:44:50.392378",
     "status": "completed"
    },
    "tags": []
   },
   "outputs": [],
   "source": [
    "# from imblearn.ensemble import BalancedRandomForestClassifier\n",
    "# brf = BalancedRandomForestClassifier()\n",
    "\n",
    "# brf=Pipeline([('col_transformer',col_transformer),('smote',smote)\n",
    "#                                  ,('brf',brf)])\n",
    "# brf.fit(xtrain, ytrain)\n",
    "# ypred_brf=brf.predict(xtest)\n",
    "\n",
    "\n",
    "# print('Classification Report')\n",
    "\n",
    "# print(classification_report(ytest ,ypred_brf))\n",
    "\n",
    "# print('Confusion Matrix')\n",
    "\n",
    "# ConfusionMatrixDisplay.from_estimator(brf,xtest,ytest)\n",
    "\n"
   ]
  },
  {
   "cell_type": "code",
   "execution_count": 49,
   "id": "ffaa7dd1",
   "metadata": {
    "execution": {
     "iopub.execute_input": "2024-10-23T04:44:50.479972Z",
     "iopub.status.busy": "2024-10-23T04:44:50.479467Z",
     "iopub.status.idle": "2024-10-23T04:44:50.484356Z",
     "shell.execute_reply": "2024-10-23T04:44:50.483467Z"
    },
    "papermill": {
     "duration": 0.033834,
     "end_time": "2024-10-23T04:44:50.486467",
     "exception": false,
     "start_time": "2024-10-23T04:44:50.452633",
     "status": "completed"
    },
    "tags": []
   },
   "outputs": [],
   "source": [
    "# from imblearn.ensemble import BalancedRandomForestClassifier\n",
    "# brf = BalancedRandomForestClassifier()\n",
    "\n",
    "# brf=Pipeline([('col_transformer',col_transformer),('adasyn',adasyn)\n",
    "#                                  ,('brf',brf)])\n",
    "# brf.fit(xtrain, ytrain)\n",
    "# ypred_brf=brf.predict(xtest)\n",
    "\n",
    "\n",
    "# print('Classification Report')\n",
    "\n",
    "# print(classification_report(ytest ,ypred_brf))\n",
    "\n",
    "# print('Confusion Matrix')\n",
    "\n",
    "# ConfusionMatrixDisplay.from_estimator(brf,xtest,ytest)\n",
    "\n"
   ]
  },
  {
   "cell_type": "code",
   "execution_count": 50,
   "id": "71cba7e7",
   "metadata": {
    "execution": {
     "iopub.execute_input": "2024-10-23T04:44:50.539346Z",
     "iopub.status.busy": "2024-10-23T04:44:50.538932Z",
     "iopub.status.idle": "2024-10-23T04:44:50.544585Z",
     "shell.execute_reply": "2024-10-23T04:44:50.543412Z"
    },
    "papermill": {
     "duration": 0.034539,
     "end_time": "2024-10-23T04:44:50.546618",
     "exception": false,
     "start_time": "2024-10-23T04:44:50.512079",
     "status": "completed"
    },
    "tags": []
   },
   "outputs": [],
   "source": [
    "# from sklearn.model_selection import GridSearchCV \n",
    "# from sklearn.feature_selection import RFECV\n",
    "\n",
    "# rsKF=RepeatedStratifiedKFold(random_state=1)\n",
    "# rf=RandomForestClassifier(random_state=1 , n_estimators=200, max_depth=10,class_weight='balanced' , min_samples_split=3 , min_samples_leaf=3  , n_jobs=-1)\n",
    "\n",
    "# xtrain=col_transformer.fit_transform(xtrain)\n",
    "# xtest=col_transformer.transform(xtest)\n",
    "\n",
    "# randomForestClassifier=Pipeline([('col_transformer',col_transformer)\n",
    "#                                  ,('randomForest',rf)])\n",
    "\n",
    "\n",
    "# rFECV=RFECV(estimator=RandomForestClassifier(),cv=rsKF,n_jobs=-1)\n",
    "\n",
    "# rFECV.fit(xtrain, ytrain)\n",
    "\n",
    "# ypred_rFECV=rFECV.predict(xtest)\n",
    "\n",
    "# print(   'randomForestClassifier Score'   ,  rFECV.score(xtest,ytest)  )\n",
    "\n",
    "\n",
    "# print(   'randomForestClassifier f1_score '  ,     f1_score(ytest, ypred_rFECV  , average=\"weighted\")    )\n",
    "\n",
    "# print('Classification Report')\n",
    "\n",
    "# print(classification_report(ytest ,ypred_rFECV))\n",
    "\n",
    "# print('Confusion Matrix')\n",
    "\n",
    "# ConfusionMatrixDisplay.from_estimator(rFECV,xtest,ytest)\n"
   ]
  },
  {
   "cell_type": "code",
   "execution_count": 51,
   "id": "9e74c725",
   "metadata": {
    "execution": {
     "iopub.execute_input": "2024-10-23T04:44:50.599490Z",
     "iopub.status.busy": "2024-10-23T04:44:50.599045Z",
     "iopub.status.idle": "2024-10-23T04:44:50.604307Z",
     "shell.execute_reply": "2024-10-23T04:44:50.603266Z"
    },
    "papermill": {
     "duration": 0.034521,
     "end_time": "2024-10-23T04:44:50.606531",
     "exception": false,
     "start_time": "2024-10-23T04:44:50.572010",
     "status": "completed"
    },
    "tags": []
   },
   "outputs": [],
   "source": [
    "# from sklearn.linear_model import LogisticRegression\n",
    "# # selection=random\n",
    "# rsKF=RepeatedStratifiedKFold(random_state=1)\n",
    "# log = LogisticRegression(penalty='l1', solver='saga', class_weight='balanced', random_state=1, max_iter=3000,n_jobs=-1 , C=0.01 )\n",
    "\n",
    "# logistic=Pipeline([('col_transformer',col_transformer),('logistic',log)])\n",
    "\n",
    "# logistic.fit(xtrain, ytrain)\n",
    "\n",
    "# ypred_logistic=logistic.predict(xtest)\n",
    "\n",
    "\n",
    "\n",
    "# print(   'logistic Score'   ,  logistic.score(xtest,ytest)  )\n",
    "\n",
    "\n",
    "# print(   'logistic f1_score '  ,     f1_score(ytest, ypred_logistic  , average='weighted')    )\n",
    "\n",
    "# print('Classification Report')\n",
    "\n",
    "# print(classification_report(ytest ,ypred_logistic))\n",
    "\n",
    "# print('Confusion Matrix')\n",
    "\n",
    "# ConfusionMatrixDisplay.from_estimator(logistic,xtest,ytest)\n",
    "\n"
   ]
  },
  {
   "cell_type": "code",
   "execution_count": 52,
   "id": "5ab8154b",
   "metadata": {
    "execution": {
     "iopub.execute_input": "2024-10-23T04:44:50.660354Z",
     "iopub.status.busy": "2024-10-23T04:44:50.659970Z",
     "iopub.status.idle": "2024-10-23T04:44:52.409652Z",
     "shell.execute_reply": "2024-10-23T04:44:52.408451Z"
    },
    "papermill": {
     "duration": 1.779588,
     "end_time": "2024-10-23T04:44:52.412234",
     "exception": false,
     "start_time": "2024-10-23T04:44:50.632646",
     "status": "completed"
    },
    "tags": []
   },
   "outputs": [
    {
     "name": "stdout",
     "output_type": "stream",
     "text": [
      "knn Score 0.7926068170907346\n",
      "knn f1_score  0.7755761909916565\n",
      "Classification Report\n",
      "              precision    recall  f1-score   support\n",
      "\n",
      "           0       0.81      0.93      0.87      3000\n",
      "           1       0.71      0.44      0.54      1166\n",
      "\n",
      "    accuracy                           0.79      4166\n",
      "   macro avg       0.76      0.69      0.70      4166\n",
      "weighted avg       0.78      0.79      0.78      4166\n",
      "\n",
      "Confusion Matrix\n"
     ]
    },
    {
     "data": {
      "text/plain": [
       "<sklearn.metrics._plot.confusion_matrix.ConfusionMatrixDisplay at 0x7daf27541870>"
      ]
     },
     "execution_count": 52,
     "metadata": {},
     "output_type": "execute_result"
    },
    {
     "data": {
      "image/png": "[encoded data removed]",
      "text/plain": [
       "<Figure size 640x480 with 2 Axes>"
      ]
     },
     "metadata": {},
     "output_type": "display_data"
    }
   ],
   "source": [
    "from sklearn.neighbors import KNeighborsClassifier\n",
    "kneighborsClassifier=KNeighborsClassifier(n_jobs=-1 , n_neighbors=32)\n",
    "knn=Pipeline([('col_transformer',col_transformer),('kneighborsClassifier',kneighborsClassifier)])\n",
    "\n",
    "\n",
    "knn.fit(xtrain , ytrain)\n",
    "\n",
    "ypred_knn=knn.predict(xtest)\n",
    "\n",
    "\n",
    "print(   'knn Score'   ,  knn.score(xtest,ytest)  )\n",
    "\n",
    "\n",
    "print(   'knn f1_score '  ,     f1_score(ytest, ypred_knn  , average='weighted')    )\n",
    "\n",
    "print('Classification Report')\n",
    "\n",
    "print(classification_report(ytest ,ypred_knn))\n",
    "\n",
    "print('Confusion Matrix')\n",
    "\n",
    "ConfusionMatrixDisplay.from_estimator(knn,xtest,ytest)\n",
    "\n",
    "\n"
   ]
  },
  {
   "cell_type": "code",
   "execution_count": 53,
   "id": "e619c7aa",
   "metadata": {
    "execution": {
     "iopub.execute_input": "2024-10-23T04:44:52.466588Z",
     "iopub.status.busy": "2024-10-23T04:44:52.466176Z",
     "iopub.status.idle": "2024-10-23T04:44:52.471189Z",
     "shell.execute_reply": "2024-10-23T04:44:52.470057Z"
    },
    "papermill": {
     "duration": 0.034851,
     "end_time": "2024-10-23T04:44:52.473626",
     "exception": false,
     "start_time": "2024-10-23T04:44:52.438775",
     "status": "completed"
    },
    "tags": []
   },
   "outputs": [],
   "source": [
    "\n",
    "#  test=col_transformer.transform(test)"
   ]
  },
  {
   "cell_type": "code",
   "execution_count": 54,
   "id": "f21171db",
   "metadata": {
    "execution": {
     "iopub.execute_input": "2024-10-23T04:44:52.529115Z",
     "iopub.status.busy": "2024-10-23T04:44:52.528707Z",
     "iopub.status.idle": "2024-10-23T04:44:52.720940Z",
     "shell.execute_reply": "2024-10-23T04:44:52.719594Z"
    },
    "papermill": {
     "duration": 0.223296,
     "end_time": "2024-10-23T04:44:52.723798",
     "exception": false,
     "start_time": "2024-10-23T04:44:52.500502",
     "status": "completed"
    },
    "tags": []
   },
   "outputs": [],
   "source": [
    "y_pred_submission=rf_grid.predict(test)\n",
    "ypred_submission_final = pd.Series(y_pred_submission).replace({0: 'no', 1: 'yes'})\n",
    "\n",
    "submission=pd.DataFrame({'id': np.arange(0,len(test)), 'target': ypred_submission_final})\n",
    "\n",
    "submission.to_csv('submission.csv',index=False)"
   ]
  },
  {
   "cell_type": "code",
   "execution_count": null,
   "id": "4d800f17",
   "metadata": {
    "papermill": {
     "duration": 0.025985,
     "end_time": "2024-10-23T04:44:52.776774",
     "exception": false,
     "start_time": "2024-10-23T04:44:52.750789",
     "status": "completed"
    },
    "tags": []
   },
   "outputs": [],
   "source": []
  },
  {
   "cell_type": "code",
   "execution_count": null,
   "id": "5b0c4950",
   "metadata": {
    "papermill": {
     "duration": 0.026043,
     "end_time": "2024-10-23T04:44:52.829577",
     "exception": false,
     "start_time": "2024-10-23T04:44:52.803534",
     "status": "completed"
    },
    "tags": []
   },
   "outputs": [],
   "source": []
  },
  {
   "cell_type": "code",
   "execution_count": null,
   "id": "c1dc4243",
   "metadata": {
    "papermill": {
     "duration": 0.025699,
     "end_time": "2024-10-23T04:44:52.881567",
     "exception": false,
     "start_time": "2024-10-23T04:44:52.855868",
     "status": "completed"
    },
    "tags": []
   },
   "outputs": [],
   "source": []
  },
  {
   "cell_type": "code",
   "execution_count": null,
   "id": "ab6a0b62",
   "metadata": {
    "papermill": {
     "duration": 0.027546,
     "end_time": "2024-10-23T04:44:52.935375",
     "exception": false,
     "start_time": "2024-10-23T04:44:52.907829",
     "status": "completed"
    },
    "tags": []
   },
   "outputs": [],
   "source": []
  },
  {
   "cell_type": "code",
   "execution_count": null,
   "id": "1b6a76a8",
   "metadata": {
    "papermill": {
     "duration": 0.025777,
     "end_time": "2024-10-23T04:44:52.987359",
     "exception": false,
     "start_time": "2024-10-23T04:44:52.961582",
     "status": "completed"
    },
    "tags": []
   },
   "outputs": [],
   "source": []
  },
  {
   "cell_type": "code",
   "execution_count": null,
   "id": "6f8baf8e",
   "metadata": {
    "papermill": {
     "duration": 0.026321,
     "end_time": "2024-10-23T04:44:53.039859",
     "exception": false,
     "start_time": "2024-10-23T04:44:53.013538",
     "status": "completed"
    },
    "tags": []
   },
   "outputs": [],
   "source": []
  },
  {
   "cell_type": "code",
   "execution_count": null,
   "id": "82f4966e",
   "metadata": {
    "papermill": {
     "duration": 0.026317,
     "end_time": "2024-10-23T04:44:53.093663",
     "exception": false,
     "start_time": "2024-10-23T04:44:53.067346",
     "status": "completed"
    },
    "tags": []
   },
   "outputs": [],
   "source": []
  }
 ],
 "metadata": {
  "kaggle": {
   "accelerator": "none",
   "dataSources": [
    {
     "databundleVersionId": 9578279,
     "sourceId": 85062,
     "sourceType": "competition"
    }
   ],
   "dockerImageVersionId": 30761,
   "isGpuEnabled": false,
   "isInternetEnabled": true,
   "language": "python",
   "sourceType": "notebook"
  },
  "kernelspec": {
   "display_name": "Python 3",
   "language": "python",
   "name": "python3"
  },
  "language_info": {
   "codemirror_mode": {
    "name": "ipython",
    "version": 3
   },
   "file_extension": ".py",
   "mimetype": "text/x-python",
   "name": "python",
   "nbconvert_exporter": "python",
   "pygments_lexer": "ipython3",
   "version": "3.10.14"
  },
  "papermill": {
   "default_parameters": {},
   "duration": 147.246244,
   "end_time": "2024-10-23T04:44:55.743016",
   "environment_variables": {},
   "exception": null,
   "input_path": "__notebook__.ipynb",
   "output_path": "__notebook__.ipynb",
   "parameters": {},
   "start_time": "2024-10-23T04:42:28.496772",
   "version": "2.6.0"
  }
 },
 "nbformat": 4,
 "nbformat_minor": 5
}

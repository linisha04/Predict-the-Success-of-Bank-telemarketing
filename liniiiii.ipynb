{
 "cells": [
  {
   "cell_type": "code",
   "execution_count": 1,
   "id": "86ca347d",
   "metadata": {
    "_cell_guid": "b1076dfc-b9ad-4769-8c92-a6c4dae69d19",
    "_uuid": "8f2839f25d086af736a60e9eeb907d3b93b6e0e5",
    "execution": {
     "iopub.execute_input": "2024-10-27T14:04:48.109147Z",
     "iopub.status.busy": "2024-10-27T14:04:48.108719Z",
     "iopub.status.idle": "2024-10-27T14:04:49.122091Z",
     "shell.execute_reply": "2024-10-27T14:04:49.120797Z"
    },
    "papermill": {
     "duration": 1.033433,
     "end_time": "2024-10-27T14:04:49.124686",
     "exception": false,
     "start_time": "2024-10-27T14:04:48.091253",
     "status": "completed"
    },
    "tags": []
   },
   "outputs": [
    {
     "name": "stdout",
     "output_type": "stream",
     "text": [
      "/kaggle/input/predict-the-success-of-bank-telemarketing/sample_submission.csv\n",
      "/kaggle/input/predict-the-success-of-bank-telemarketing/train.csv\n",
      "/kaggle/input/predict-the-success-of-bank-telemarketing/test.csv\n"
     ]
    }
   ],
   "source": [
    "# This Python 3 environment comes with many helpful analytics libraries installed\n",
    "# It is defined by the kaggle/python Docker image: https://github.com/kaggle/docker-python\n",
    "# For example, here's several helpful packages to load\n",
    "\n",
    "import numpy as np # linear algebra\n",
    "import pandas as pd # data processing, CSV file I/O (e.g. pd.read_csv)\n",
    "\n",
    "# Input data files are available in the read-only \"../input/\" directory\n",
    "# For example, running this (by clicking run or pressing Shift+Enter) will list all files under the input directory\n",
    "\n",
    "import os\n",
    "for dirname, _, filenames in os.walk('/kaggle/input'):\n",
    "    for filename in filenames:\n",
    "        print(os.path.join(dirname, filename))\n",
    "\n",
    "# You can write up to 20GB to the current directory (/kaggle/working/) that gets preserved as output when you create a version using \"Save & Run All\" \n",
    "# You can also write temporary files to /kaggle/temp/, but they won't be saved outside of the current session"
   ]
  },
  {
   "cell_type": "markdown",
   "id": "3ba55954",
   "metadata": {
    "papermill": {
     "duration": 0.013565,
     "end_time": "2024-10-27T14:04:49.152199",
     "exception": false,
     "start_time": "2024-10-27T14:04:49.138634",
     "status": "completed"
    },
    "tags": []
   },
   "source": [
    "# Data Loading and Imports"
   ]
  },
  {
   "cell_type": "code",
   "execution_count": 2,
   "id": "95284620",
   "metadata": {
    "execution": {
     "iopub.execute_input": "2024-10-27T14:04:49.181741Z",
     "iopub.status.busy": "2024-10-27T14:04:49.181093Z",
     "iopub.status.idle": "2024-10-27T14:04:51.935796Z",
     "shell.execute_reply": "2024-10-27T14:04:51.934279Z"
    },
    "papermill": {
     "duration": 2.772576,
     "end_time": "2024-10-27T14:04:51.938501",
     "exception": false,
     "start_time": "2024-10-27T14:04:49.165925",
     "status": "completed"
    },
    "tags": []
   },
   "outputs": [],
   "source": [
    "# !pip install xgboost\n",
    "\n",
    "\n",
    "train=pd.read_csv('/kaggle/input/predict-the-success-of-bank-telemarketing/train.csv')\n",
    "test=pd.read_csv('/kaggle/input/predict-the-success-of-bank-telemarketing/test.csv')\n",
    "\n",
    "\n",
    "import matplotlib.pyplot as plt\n",
    "from sklearn.model_selection import GridSearchCV , RepeatedStratifiedKFold ,cross_val_score, StratifiedKFold ,train_test_split\n",
    "\n",
    "\n",
    "from sklearn.decomposition import PCA\n",
    "\n",
    "from imblearn.over_sampling import SMOTE\n",
    "from imblearn.combine import SMOTETomek,SMOTEENN\n",
    "\n",
    "from sklearn.pipeline import Pipeline\n",
    "\n",
    "from sklearn.metrics import classification_report , confusion_matrix , ConfusionMatrixDisplay ,f1_score\n",
    "\n",
    "from sklearn.ensemble import RandomForestClassifier\n",
    "\n",
    "from xgboost import XGBClassifier\n",
    "import xgboost \n",
    "import xgboost as xgb_import\n",
    "\n",
    "\n"
   ]
  },
  {
   "cell_type": "markdown",
   "id": "6fb301bb",
   "metadata": {
    "papermill": {
     "duration": 0.013436,
     "end_time": "2024-10-27T14:04:51.966763",
     "exception": false,
     "start_time": "2024-10-27T14:04:51.953327",
     "status": "completed"
    },
    "tags": []
   },
   "source": [
    "# Shape of train data and test data"
   ]
  },
  {
   "cell_type": "code",
   "execution_count": 3,
   "id": "86759b1e",
   "metadata": {
    "execution": {
     "iopub.execute_input": "2024-10-27T14:04:51.996621Z",
     "iopub.status.busy": "2024-10-27T14:04:51.996024Z",
     "iopub.status.idle": "2024-10-27T14:04:52.002676Z",
     "shell.execute_reply": "2024-10-27T14:04:52.001462Z"
    },
    "papermill": {
     "duration": 0.024094,
     "end_time": "2024-10-27T14:04:52.005110",
     "exception": false,
     "start_time": "2024-10-27T14:04:51.981016",
     "status": "completed"
    },
    "tags": []
   },
   "outputs": [
    {
     "name": "stdout",
     "output_type": "stream",
     "text": [
      "Shape of train data (39211, 16)\n",
      "----------------------------------------\n",
      "\n",
      "Shape of train data (10000, 15)\n",
      "----------------------------------------\n"
     ]
    }
   ],
   "source": [
    "print(\"Shape of train data\",train.shape)\n",
    "print(\"----------------------------------------\")\n",
    "print(\"\")\n",
    "print(\"Shape of train data\",test.shape)\n",
    "print(\"----------------------------------------\")\n",
    "\n"
   ]
  },
  {
   "cell_type": "code",
   "execution_count": 4,
   "id": "1c155345",
   "metadata": {
    "execution": {
     "iopub.execute_input": "2024-10-27T14:04:52.039012Z",
     "iopub.status.busy": "2024-10-27T14:04:52.038545Z",
     "iopub.status.idle": "2024-10-27T14:04:52.067131Z",
     "shell.execute_reply": "2024-10-27T14:04:52.066042Z"
    },
    "papermill": {
     "duration": 0.049449,
     "end_time": "2024-10-27T14:04:52.070284",
     "exception": false,
     "start_time": "2024-10-27T14:04:52.020835",
     "status": "completed"
    },
    "tags": []
   },
   "outputs": [
    {
     "name": "stdout",
     "output_type": "stream",
     "text": [
      "Traget Values of train\n",
      "----------------------------------------\n",
      "target\n",
      "no     33384\n",
      "yes     5827\n",
      "Name: count, dtype: int64\n",
      "----------------------------------------\n",
      "\n"
     ]
    }
   ],
   "source": [
    "print(\"Traget Values of train\")\n",
    "print(\"----------------------------------------\")\n",
    "\n",
    "\n",
    "print(train['target'].value_counts())\n",
    "\n",
    "print(\"----------------------------------------\")\n",
    "print(\"\")\n"
   ]
  },
  {
   "cell_type": "markdown",
   "id": "839d0bdf",
   "metadata": {
    "papermill": {
     "duration": 0.019754,
     "end_time": "2024-10-27T14:04:52.108540",
     "exception": false,
     "start_time": "2024-10-27T14:04:52.088786",
     "status": "completed"
    },
    "tags": []
   },
   "source": [
    "# Train data and Test data"
   ]
  },
  {
   "cell_type": "code",
   "execution_count": 5,
   "id": "7130a91e",
   "metadata": {
    "execution": {
     "iopub.execute_input": "2024-10-27T14:04:52.162563Z",
     "iopub.status.busy": "2024-10-27T14:04:52.161967Z",
     "iopub.status.idle": "2024-10-27T14:04:52.188730Z",
     "shell.execute_reply": "2024-10-27T14:04:52.187555Z"
    },
    "papermill": {
     "duration": 0.059732,
     "end_time": "2024-10-27T14:04:52.191502",
     "exception": false,
     "start_time": "2024-10-27T14:04:52.131770",
     "status": "completed"
    },
    "tags": []
   },
   "outputs": [
    {
     "data": {
      "text/html": [
       "<div>\n",
       "<style scoped>\n",
       "    .dataframe tbody tr th:only-of-type {\n",
       "        vertical-align: middle;\n",
       "    }\n",
       "\n",
       "    .dataframe tbody tr th {\n",
       "        vertical-align: top;\n",
       "    }\n",
       "\n",
       "    .dataframe thead th {\n",
       "        text-align: right;\n",
       "    }\n",
       "</style>\n",
       "<table border=\"1\" class=\"dataframe\">\n",
       "  <thead>\n",
       "    <tr style=\"text-align: right;\">\n",
       "      <th></th>\n",
       "      <th>last contact date</th>\n",
       "      <th>age</th>\n",
       "      <th>job</th>\n",
       "      <th>marital</th>\n",
       "      <th>education</th>\n",
       "      <th>default</th>\n",
       "      <th>balance</th>\n",
       "      <th>housing</th>\n",
       "      <th>loan</th>\n",
       "      <th>contact</th>\n",
       "      <th>duration</th>\n",
       "      <th>campaign</th>\n",
       "      <th>pdays</th>\n",
       "      <th>previous</th>\n",
       "      <th>poutcome</th>\n",
       "      <th>target</th>\n",
       "    </tr>\n",
       "  </thead>\n",
       "  <tbody>\n",
       "    <tr>\n",
       "      <th>0</th>\n",
       "      <td>2009-04-17</td>\n",
       "      <td>26</td>\n",
       "      <td>blue-collar</td>\n",
       "      <td>married</td>\n",
       "      <td>secondary</td>\n",
       "      <td>no</td>\n",
       "      <td>647</td>\n",
       "      <td>yes</td>\n",
       "      <td>no</td>\n",
       "      <td>cellular</td>\n",
       "      <td>357</td>\n",
       "      <td>2</td>\n",
       "      <td>331</td>\n",
       "      <td>1</td>\n",
       "      <td>other</td>\n",
       "      <td>no</td>\n",
       "    </tr>\n",
       "    <tr>\n",
       "      <th>1</th>\n",
       "      <td>2009-10-11</td>\n",
       "      <td>52</td>\n",
       "      <td>technician</td>\n",
       "      <td>married</td>\n",
       "      <td>secondary</td>\n",
       "      <td>no</td>\n",
       "      <td>553</td>\n",
       "      <td>yes</td>\n",
       "      <td>no</td>\n",
       "      <td>telephone</td>\n",
       "      <td>160</td>\n",
       "      <td>1</td>\n",
       "      <td>-1</td>\n",
       "      <td>0</td>\n",
       "      <td>NaN</td>\n",
       "      <td>no</td>\n",
       "    </tr>\n",
       "    <tr>\n",
       "      <th>2</th>\n",
       "      <td>2010-11-20</td>\n",
       "      <td>44</td>\n",
       "      <td>blue-collar</td>\n",
       "      <td>married</td>\n",
       "      <td>secondary</td>\n",
       "      <td>no</td>\n",
       "      <td>1397</td>\n",
       "      <td>no</td>\n",
       "      <td>no</td>\n",
       "      <td>cellular</td>\n",
       "      <td>326</td>\n",
       "      <td>1</td>\n",
       "      <td>-1</td>\n",
       "      <td>0</td>\n",
       "      <td>NaN</td>\n",
       "      <td>no</td>\n",
       "    </tr>\n",
       "    <tr>\n",
       "      <th>3</th>\n",
       "      <td>2009-09-01</td>\n",
       "      <td>33</td>\n",
       "      <td>admin.</td>\n",
       "      <td>married</td>\n",
       "      <td>secondary</td>\n",
       "      <td>no</td>\n",
       "      <td>394</td>\n",
       "      <td>yes</td>\n",
       "      <td>no</td>\n",
       "      <td>telephone</td>\n",
       "      <td>104</td>\n",
       "      <td>3</td>\n",
       "      <td>-1</td>\n",
       "      <td>0</td>\n",
       "      <td>NaN</td>\n",
       "      <td>no</td>\n",
       "    </tr>\n",
       "    <tr>\n",
       "      <th>4</th>\n",
       "      <td>2008-01-29</td>\n",
       "      <td>31</td>\n",
       "      <td>entrepreneur</td>\n",
       "      <td>single</td>\n",
       "      <td>tertiary</td>\n",
       "      <td>no</td>\n",
       "      <td>137</td>\n",
       "      <td>no</td>\n",
       "      <td>no</td>\n",
       "      <td>cellular</td>\n",
       "      <td>445</td>\n",
       "      <td>2</td>\n",
       "      <td>-1</td>\n",
       "      <td>0</td>\n",
       "      <td>NaN</td>\n",
       "      <td>no</td>\n",
       "    </tr>\n",
       "  </tbody>\n",
       "</table>\n",
       "</div>"
      ],
      "text/plain": [
       "  last contact date  age           job  marital  education default  balance  \\\n",
       "0        2009-04-17   26   blue-collar  married  secondary      no      647   \n",
       "1        2009-10-11   52    technician  married  secondary      no      553   \n",
       "2        2010-11-20   44   blue-collar  married  secondary      no     1397   \n",
       "3        2009-09-01   33        admin.  married  secondary      no      394   \n",
       "4        2008-01-29   31  entrepreneur   single   tertiary      no      137   \n",
       "\n",
       "  housing loan    contact  duration  campaign  pdays  previous poutcome target  \n",
       "0     yes   no   cellular       357         2    331         1    other     no  \n",
       "1     yes   no  telephone       160         1     -1         0      NaN     no  \n",
       "2      no   no   cellular       326         1     -1         0      NaN     no  \n",
       "3     yes   no  telephone       104         3     -1         0      NaN     no  \n",
       "4      no   no   cellular       445         2     -1         0      NaN     no  "
      ]
     },
     "execution_count": 5,
     "metadata": {},
     "output_type": "execute_result"
    }
   ],
   "source": [
    "train.head(5)\n"
   ]
  },
  {
   "cell_type": "code",
   "execution_count": 6,
   "id": "752df2d7",
   "metadata": {
    "execution": {
     "iopub.execute_input": "2024-10-27T14:04:52.224487Z",
     "iopub.status.busy": "2024-10-27T14:04:52.224040Z",
     "iopub.status.idle": "2024-10-27T14:04:52.242673Z",
     "shell.execute_reply": "2024-10-27T14:04:52.241262Z"
    },
    "papermill": {
     "duration": 0.038025,
     "end_time": "2024-10-27T14:04:52.245489",
     "exception": false,
     "start_time": "2024-10-27T14:04:52.207464",
     "status": "completed"
    },
    "tags": []
   },
   "outputs": [
    {
     "data": {
      "text/html": [
       "<div>\n",
       "<style scoped>\n",
       "    .dataframe tbody tr th:only-of-type {\n",
       "        vertical-align: middle;\n",
       "    }\n",
       "\n",
       "    .dataframe tbody tr th {\n",
       "        vertical-align: top;\n",
       "    }\n",
       "\n",
       "    .dataframe thead th {\n",
       "        text-align: right;\n",
       "    }\n",
       "</style>\n",
       "<table border=\"1\" class=\"dataframe\">\n",
       "  <thead>\n",
       "    <tr style=\"text-align: right;\">\n",
       "      <th></th>\n",
       "      <th>last contact date</th>\n",
       "      <th>age</th>\n",
       "      <th>job</th>\n",
       "      <th>marital</th>\n",
       "      <th>education</th>\n",
       "      <th>default</th>\n",
       "      <th>balance</th>\n",
       "      <th>housing</th>\n",
       "      <th>loan</th>\n",
       "      <th>contact</th>\n",
       "      <th>duration</th>\n",
       "      <th>campaign</th>\n",
       "      <th>pdays</th>\n",
       "      <th>previous</th>\n",
       "      <th>poutcome</th>\n",
       "    </tr>\n",
       "  </thead>\n",
       "  <tbody>\n",
       "    <tr>\n",
       "      <th>0</th>\n",
       "      <td>2009-11-21</td>\n",
       "      <td>36</td>\n",
       "      <td>management</td>\n",
       "      <td>single</td>\n",
       "      <td>tertiary</td>\n",
       "      <td>no</td>\n",
       "      <td>7</td>\n",
       "      <td>no</td>\n",
       "      <td>no</td>\n",
       "      <td>NaN</td>\n",
       "      <td>20</td>\n",
       "      <td>1</td>\n",
       "      <td>-1</td>\n",
       "      <td>0</td>\n",
       "      <td>NaN</td>\n",
       "    </tr>\n",
       "    <tr>\n",
       "      <th>1</th>\n",
       "      <td>2010-02-04</td>\n",
       "      <td>30</td>\n",
       "      <td>unemployed</td>\n",
       "      <td>married</td>\n",
       "      <td>tertiary</td>\n",
       "      <td>no</td>\n",
       "      <td>1067</td>\n",
       "      <td>no</td>\n",
       "      <td>no</td>\n",
       "      <td>cellular</td>\n",
       "      <td>78</td>\n",
       "      <td>2</td>\n",
       "      <td>-1</td>\n",
       "      <td>0</td>\n",
       "      <td>NaN</td>\n",
       "    </tr>\n",
       "    <tr>\n",
       "      <th>2</th>\n",
       "      <td>2010-07-28</td>\n",
       "      <td>32</td>\n",
       "      <td>blue-collar</td>\n",
       "      <td>single</td>\n",
       "      <td>secondary</td>\n",
       "      <td>no</td>\n",
       "      <td>82</td>\n",
       "      <td>yes</td>\n",
       "      <td>no</td>\n",
       "      <td>cellular</td>\n",
       "      <td>86</td>\n",
       "      <td>4</td>\n",
       "      <td>-1</td>\n",
       "      <td>0</td>\n",
       "      <td>NaN</td>\n",
       "    </tr>\n",
       "    <tr>\n",
       "      <th>3</th>\n",
       "      <td>2010-06-09</td>\n",
       "      <td>38</td>\n",
       "      <td>admin.</td>\n",
       "      <td>married</td>\n",
       "      <td>primary</td>\n",
       "      <td>no</td>\n",
       "      <td>1487</td>\n",
       "      <td>no</td>\n",
       "      <td>no</td>\n",
       "      <td>NaN</td>\n",
       "      <td>332</td>\n",
       "      <td>2</td>\n",
       "      <td>-1</td>\n",
       "      <td>0</td>\n",
       "      <td>NaN</td>\n",
       "    </tr>\n",
       "    <tr>\n",
       "      <th>4</th>\n",
       "      <td>2008-03-02</td>\n",
       "      <td>59</td>\n",
       "      <td>management</td>\n",
       "      <td>married</td>\n",
       "      <td>tertiary</td>\n",
       "      <td>no</td>\n",
       "      <td>315</td>\n",
       "      <td>no</td>\n",
       "      <td>no</td>\n",
       "      <td>cellular</td>\n",
       "      <td>591</td>\n",
       "      <td>1</td>\n",
       "      <td>176</td>\n",
       "      <td>2</td>\n",
       "      <td>failure</td>\n",
       "    </tr>\n",
       "  </tbody>\n",
       "</table>\n",
       "</div>"
      ],
      "text/plain": [
       "  last contact date  age          job  marital  education default  balance  \\\n",
       "0        2009-11-21   36   management   single   tertiary      no        7   \n",
       "1        2010-02-04   30   unemployed  married   tertiary      no     1067   \n",
       "2        2010-07-28   32  blue-collar   single  secondary      no       82   \n",
       "3        2010-06-09   38       admin.  married    primary      no     1487   \n",
       "4        2008-03-02   59   management  married   tertiary      no      315   \n",
       "\n",
       "  housing loan   contact  duration  campaign  pdays  previous poutcome  \n",
       "0      no   no       NaN        20         1     -1         0      NaN  \n",
       "1      no   no  cellular        78         2     -1         0      NaN  \n",
       "2     yes   no  cellular        86         4     -1         0      NaN  \n",
       "3      no   no       NaN       332         2     -1         0      NaN  \n",
       "4      no   no  cellular       591         1    176         2  failure  "
      ]
     },
     "execution_count": 6,
     "metadata": {},
     "output_type": "execute_result"
    }
   ],
   "source": [
    "test.head(5)\n"
   ]
  },
  {
   "cell_type": "markdown",
   "id": "975121db",
   "metadata": {
    "papermill": {
     "duration": 0.018361,
     "end_time": "2024-10-27T14:04:52.283376",
     "exception": false,
     "start_time": "2024-10-27T14:04:52.265015",
     "status": "completed"
    },
    "tags": []
   },
   "source": [
    "# Null values that each column is having"
   ]
  },
  {
   "cell_type": "code",
   "execution_count": 7,
   "id": "b00ee597",
   "metadata": {
    "execution": {
     "iopub.execute_input": "2024-10-27T14:04:52.321489Z",
     "iopub.status.busy": "2024-10-27T14:04:52.320974Z",
     "iopub.status.idle": "2024-10-27T14:04:52.356735Z",
     "shell.execute_reply": "2024-10-27T14:04:52.355339Z"
    },
    "papermill": {
     "duration": 0.05597,
     "end_time": "2024-10-27T14:04:52.359233",
     "exception": false,
     "start_time": "2024-10-27T14:04:52.303263",
     "status": "completed"
    },
    "tags": []
   },
   "outputs": [
    {
     "name": "stdout",
     "output_type": "stream",
     "text": [
      "Train Data\n",
      "-------------------------------------------\n",
      "last contact date        0\n",
      "age                      0\n",
      "job                    229\n",
      "marital                  0\n",
      "education             1467\n",
      "default                  0\n",
      "balance                  0\n",
      "housing                  0\n",
      "loan                     0\n",
      "contact              10336\n",
      "duration                 0\n",
      "campaign                 0\n",
      "pdays                    0\n",
      "previous                 0\n",
      "poutcome             29451\n",
      "target                   0\n",
      "dtype: int64\n",
      "\n",
      "-------------------------------------------\n",
      "-------------------------------------------\n",
      "\n",
      "Test Data\n",
      "-------------------------------------------\n",
      "last contact date       0\n",
      "age                     0\n",
      "job                    59\n",
      "marital                 0\n",
      "education             390\n",
      "default                 0\n",
      "balance                 0\n",
      "housing                 0\n",
      "loan                    0\n",
      "contact              2684\n",
      "duration                0\n",
      "campaign                0\n",
      "pdays                   0\n",
      "previous                0\n",
      "poutcome             7508\n",
      "dtype: int64\n"
     ]
    }
   ],
   "source": [
    "print(\"Train Data\")\n",
    "print(\"-------------------------------------------\")\n",
    "print(train.isnull().sum())\n",
    "print(\"\")\n",
    "print(\"-------------------------------------------\")\n",
    "print(\"-------------------------------------------\")\n",
    "print(\"\")\n",
    "print(\"Test Data\")\n",
    "print(\"-------------------------------------------\")\n",
    "print(test.isnull().sum())\n"
   ]
  },
  {
   "cell_type": "markdown",
   "id": "6862b4e7",
   "metadata": {
    "papermill": {
     "duration": 0.014154,
     "end_time": "2024-10-27T14:04:52.387932",
     "exception": false,
     "start_time": "2024-10-27T14:04:52.373778",
     "status": "completed"
    },
    "tags": []
   },
   "source": [
    "# Last Contact and Feature engineering\n"
   ]
  },
  {
   "cell_type": "code",
   "execution_count": 8,
   "id": "c0011fc5",
   "metadata": {
    "execution": {
     "iopub.execute_input": "2024-10-27T14:04:52.419066Z",
     "iopub.status.busy": "2024-10-27T14:04:52.418250Z",
     "iopub.status.idle": "2024-10-27T14:04:52.462743Z",
     "shell.execute_reply": "2024-10-27T14:04:52.461230Z"
    },
    "papermill": {
     "duration": 0.063239,
     "end_time": "2024-10-27T14:04:52.465490",
     "exception": false,
     "start_time": "2024-10-27T14:04:52.402251",
     "status": "completed"
    },
    "tags": []
   },
   "outputs": [
    {
     "name": "stdout",
     "output_type": "stream",
     "text": [
      "month\n",
      "5     11004\n",
      "7      5521\n",
      "8      4969\n",
      "6      4232\n",
      "11     3147\n",
      "4      2359\n",
      "2      2087\n",
      "1      1725\n",
      "10     1236\n",
      "9      1091\n",
      "3       997\n",
      "12      843\n",
      "Name: count, dtype: int64\n",
      "\n",
      "--------------------------\n",
      "day\n",
      "3    7428\n",
      "2    7292\n",
      "4    6762\n",
      "1    6184\n",
      "5    4496\n",
      "0    4033\n",
      "6    3016\n",
      "Name: count, dtype: int64\n"
     ]
    }
   ],
   "source": [
    "train['last contact date']=pd.to_datetime(train['last contact date'])\n",
    "\n",
    "train['day']= train['last contact date'].dt.dayofweek\n",
    "\n",
    "train['month'] = train['last contact date'].dt.month\n",
    "\n",
    "print(train['month'].value_counts())\n",
    "\n",
    "print('')\n",
    "print('--------------------------')\n",
    "\n",
    "print(train['day'].value_counts())\n",
    "\n",
    "\n",
    "\n",
    "\n",
    "test['last contact date']=pd.to_datetime(test['last contact date'])\n",
    "\n",
    "test['day']= test['last contact date'].dt.dayofweek\n",
    "\n",
    "test['month'] = test['last contact date'].dt.month\n",
    "\n"
   ]
  },
  {
   "cell_type": "markdown",
   "id": "deaf8f98",
   "metadata": {
    "papermill": {
     "duration": 0.014549,
     "end_time": "2024-10-27T14:04:52.494642",
     "exception": false,
     "start_time": "2024-10-27T14:04:52.480093",
     "status": "completed"
    },
    "tags": []
   },
   "source": [
    "# WeekDay or Sunday -Feature Engineering:that helps us to know if the day was sunday or week Day"
   ]
  },
  {
   "cell_type": "code",
   "execution_count": 9,
   "id": "0c14a665",
   "metadata": {
    "execution": {
     "iopub.execute_input": "2024-10-27T14:04:52.525095Z",
     "iopub.status.busy": "2024-10-27T14:04:52.524645Z",
     "iopub.status.idle": "2024-10-27T14:04:52.556232Z",
     "shell.execute_reply": "2024-10-27T14:04:52.554568Z"
    },
    "papermill": {
     "duration": 0.05035,
     "end_time": "2024-10-27T14:04:52.559255",
     "exception": false,
     "start_time": "2024-10-27T14:04:52.508905",
     "status": "completed"
    },
    "tags": []
   },
   "outputs": [],
   "source": [
    "def whichday(x):\n",
    "    if x==1:\n",
    "        return 1\n",
    "    return 0\n",
    "train['isSunday']=train['day'].apply(whichday)\n",
    "\n",
    "test['isSunday']=test['day'].apply(whichday)"
   ]
  },
  {
   "cell_type": "markdown",
   "id": "ca86cf53",
   "metadata": {
    "papermill": {
     "duration": 0.014835,
     "end_time": "2024-10-27T14:04:52.589379",
     "exception": false,
     "start_time": "2024-10-27T14:04:52.574544",
     "status": "completed"
    },
    "tags": []
   },
   "source": [
    "# Categorical Columns\n",
    "# job , martial , education , default , housing ,loan , contact , poutcome"
   ]
  },
  {
   "cell_type": "markdown",
   "id": "b6961ca4",
   "metadata": {
    "papermill": {
     "duration": 0.015278,
     "end_time": "2024-10-27T14:04:52.620179",
     "exception": false,
     "start_time": "2024-10-27T14:04:52.604901",
     "status": "completed"
    },
    "tags": []
   },
   "source": [
    "# Job\n"
   ]
  },
  {
   "cell_type": "code",
   "execution_count": 10,
   "id": "79941505",
   "metadata": {
    "execution": {
     "iopub.execute_input": "2024-10-27T14:04:52.652686Z",
     "iopub.status.busy": "2024-10-27T14:04:52.652257Z",
     "iopub.status.idle": "2024-10-27T14:04:53.008181Z",
     "shell.execute_reply": "2024-10-27T14:04:53.006815Z"
    },
    "papermill": {
     "duration": 0.376442,
     "end_time": "2024-10-27T14:04:53.012317",
     "exception": false,
     "start_time": "2024-10-27T14:04:52.635875",
     "status": "completed"
    },
    "tags": []
   },
   "outputs": [
    {
     "name": "stdout",
     "output_type": "stream",
     "text": [
      " Number of null values :  229\n",
      "\n",
      "---------------------------------------------------------------------------\n",
      "\n",
      "Unique job :  ['blue-collar' 'technician' 'admin.' 'entrepreneur' 'unemployed'\n",
      " 'management' 'services' 'student' 'self-employed' 'retired' 'housemaid'\n",
      " nan]\n",
      "\n",
      "---------------------------------------------------------------------------\n",
      "\n",
      "job value counts:  job\n",
      "blue-collar      7776\n",
      "management       7462\n",
      "technician       6078\n",
      "admin.           4116\n",
      "services         3325\n",
      "self-employed    1862\n",
      "retired          1824\n",
      "entrepreneur     1805\n",
      "unemployed       1685\n",
      "housemaid        1656\n",
      "student          1393\n",
      "Name: count, dtype: int64\n",
      "\n",
      "---------------------------------------------------------------------------\n",
      "\n"
     ]
    },
    {
     "data": {
      "image/png": "[encoded data removed]",
      "text/plain": [
       "<Figure size 640x480 with 1 Axes>"
      ]
     },
     "metadata": {},
     "output_type": "display_data"
    },
    {
     "name": "stdout",
     "output_type": "stream",
     "text": [
      "\n",
      "---------------------------------------------------------------------------\n",
      "\n"
     ]
    }
   ],
   "source": [
    "\n",
    "print(' Number of null values : ' , train['job'].isnull().sum())\n",
    "\n",
    "print('')\n",
    "print('---------------------------------------------------------------------------')\n",
    "print('')\n",
    "\n",
    "print('Unique job : ' , train['job'].unique())\n",
    "\n",
    "print('')\n",
    "print('---------------------------------------------------------------------------')\n",
    "print('')\n",
    "\n",
    "print('job value counts: ' , train['job'].value_counts())\n",
    "\n",
    "print('')\n",
    "print('---------------------------------------------------------------------------')\n",
    "print('')\n",
    "\n",
    "train['job'].value_counts().plot(kind='bar')\n",
    "plt.show()\n",
    "\n",
    "print('')\n",
    "print('---------------------------------------------------------------------------')\n",
    "print('')\n",
    "\n",
    "\n",
    "train['job'] = train['job'].replace(np.nan, 'blue-collar')\n",
    "test['job'] = test['job'].replace(np.nan , 'blue-collar')"
   ]
  },
  {
   "cell_type": "markdown",
   "id": "22f77b7a",
   "metadata": {
    "papermill": {
     "duration": 0.014955,
     "end_time": "2024-10-27T14:04:53.044368",
     "exception": false,
     "start_time": "2024-10-27T14:04:53.029413",
     "status": "completed"
    },
    "tags": []
   },
   "source": [
    "# martial"
   ]
  },
  {
   "cell_type": "code",
   "execution_count": 11,
   "id": "09c59d23",
   "metadata": {
    "execution": {
     "iopub.execute_input": "2024-10-27T14:04:53.077306Z",
     "iopub.status.busy": "2024-10-27T14:04:53.076857Z",
     "iopub.status.idle": "2024-10-27T14:04:53.277778Z",
     "shell.execute_reply": "2024-10-27T14:04:53.276523Z"
    },
    "papermill": {
     "duration": 0.220338,
     "end_time": "2024-10-27T14:04:53.280461",
     "exception": false,
     "start_time": "2024-10-27T14:04:53.060123",
     "status": "completed"
    },
    "tags": []
   },
   "outputs": [
    {
     "name": "stdout",
     "output_type": "stream",
     "text": [
      "marital has no null values :  0\n",
      "\n",
      "---------------------------------------------------------------------------\n",
      "\n",
      " Unique marital :  ['married' 'single' 'divorced']\n",
      "\n",
      "---------------------------------------------------------------------------\n",
      "\n",
      "marital value counts:  marital\n",
      "married     22691\n",
      "single      11250\n",
      "divorced     5270\n",
      "Name: count, dtype: int64\n",
      "\n",
      "---------------------------------------------------------------------------\n",
      "\n"
     ]
    },
    {
     "data": {
      "image/png": "[encoded data removed]",
      "text/plain": [
       "<Figure size 640x480 with 1 Axes>"
      ]
     },
     "metadata": {},
     "output_type": "display_data"
    }
   ],
   "source": [
    "print('marital has no null values : ' , train['marital'].isnull().sum())\n",
    "\n",
    "print('')\n",
    "print('---------------------------------------------------------------------------')\n",
    "print('')\n",
    "\n",
    "print(' Unique marital : ' , train['marital'].unique())\n",
    "\n",
    "print('')\n",
    "print('---------------------------------------------------------------------------')\n",
    "print('')\n",
    "\n",
    "print('marital value counts: ' , train['marital'].value_counts())\n",
    "\n",
    "print('')\n",
    "print('---------------------------------------------------------------------------')\n",
    "print('')\n",
    "\n",
    "train['marital'].value_counts().plot(kind='bar')\n",
    "plt.show()"
   ]
  },
  {
   "cell_type": "markdown",
   "id": "a60edfd6",
   "metadata": {
    "papermill": {
     "duration": 0.017517,
     "end_time": "2024-10-27T14:04:53.314175",
     "exception": false,
     "start_time": "2024-10-27T14:04:53.296658",
     "status": "completed"
    },
    "tags": []
   },
   "source": [
    "# education"
   ]
  },
  {
   "cell_type": "code",
   "execution_count": 12,
   "id": "38e2e542",
   "metadata": {
    "execution": {
     "iopub.execute_input": "2024-10-27T14:04:53.348359Z",
     "iopub.status.busy": "2024-10-27T14:04:53.347915Z",
     "iopub.status.idle": "2024-10-27T14:04:53.565918Z",
     "shell.execute_reply": "2024-10-27T14:04:53.564595Z"
    },
    "papermill": {
     "duration": 0.238104,
     "end_time": "2024-10-27T14:04:53.568626",
     "exception": false,
     "start_time": "2024-10-27T14:04:53.330522",
     "status": "completed"
    },
    "tags": []
   },
   "outputs": [
    {
     "name": "stdout",
     "output_type": "stream",
     "text": [
      "education has no null values :  1467\n",
      "\n",
      "---------------------------------------------------------------------------\n",
      "\n",
      " Unique education :  ['secondary' 'tertiary' 'primary' nan]\n",
      "\n",
      "---------------------------------------------------------------------------\n",
      "\n",
      "education value counts:  education\n",
      "secondary    19584\n",
      "tertiary     11615\n",
      "primary       6545\n",
      "Name: count, dtype: int64\n",
      "\n",
      "---------------------------------------------------------------------------\n",
      "\n"
     ]
    },
    {
     "data": {
      "image/png": "[encoded data removed]",
      "text/plain": [
       "<Figure size 640x480 with 1 Axes>"
      ]
     },
     "metadata": {},
     "output_type": "display_data"
    }
   ],
   "source": [
    "print('education has no null values : ' , train['education'].isnull().sum())\n",
    "\n",
    "print('')\n",
    "print('---------------------------------------------------------------------------')\n",
    "print('')\n",
    "\n",
    "print(' Unique education : ' , train['education'].unique())\n",
    "\n",
    "print('')\n",
    "print('---------------------------------------------------------------------------')\n",
    "print('')\n",
    "\n",
    "print('education value counts: ' , train['education'].value_counts())\n",
    "\n",
    "print('')\n",
    "print('---------------------------------------------------------------------------')\n",
    "print('')\n",
    "\n",
    "train['education'].value_counts().plot(kind='bar')\n",
    "\n",
    "\n",
    "train['education']=train['education'].replace(np.nan , 'secondary')\n",
    "\n",
    "test['education']=test['education'].replace(np.nan , 'secondary')"
   ]
  },
  {
   "cell_type": "markdown",
   "id": "3fe63bab",
   "metadata": {
    "papermill": {
     "duration": 0.01732,
     "end_time": "2024-10-27T14:04:53.604439",
     "exception": false,
     "start_time": "2024-10-27T14:04:53.587119",
     "status": "completed"
    },
    "tags": []
   },
   "source": [
    "# default\n"
   ]
  },
  {
   "cell_type": "code",
   "execution_count": 13,
   "id": "a2befb52",
   "metadata": {
    "execution": {
     "iopub.execute_input": "2024-10-27T14:04:53.640196Z",
     "iopub.status.busy": "2024-10-27T14:04:53.639762Z",
     "iopub.status.idle": "2024-10-27T14:04:53.823360Z",
     "shell.execute_reply": "2024-10-27T14:04:53.822047Z"
    },
    "papermill": {
     "duration": 0.205023,
     "end_time": "2024-10-27T14:04:53.826076",
     "exception": false,
     "start_time": "2024-10-27T14:04:53.621053",
     "status": "completed"
    },
    "tags": []
   },
   "outputs": [
    {
     "name": "stdout",
     "output_type": "stream",
     "text": [
      "default has no null values :  0\n",
      "\n",
      "---------------------------------------------------------------------------\n",
      "\n",
      " Unique default :  ['no' 'yes']\n",
      "\n",
      "---------------------------------------------------------------------------\n",
      "\n",
      "default value counts:  default\n",
      "no     36954\n",
      "yes     2257\n",
      "Name: count, dtype: int64\n",
      "\n",
      "---------------------------------------------------------------------------\n",
      "\n"
     ]
    },
    {
     "data": {
      "image/png": "[encoded data removed]",
      "text/plain": [
       "<Figure size 640x480 with 1 Axes>"
      ]
     },
     "metadata": {},
     "output_type": "display_data"
    }
   ],
   "source": [
    "print('default has no null values : ' , train['default'].isnull().sum())\n",
    "\n",
    "print('')\n",
    "print('---------------------------------------------------------------------------')\n",
    "print('')\n",
    "\n",
    "print(' Unique default : ' , train['default'].unique())\n",
    "\n",
    "print('')\n",
    "print('---------------------------------------------------------------------------')\n",
    "print('')\n",
    "\n",
    "print('default value counts: ' , train['default'].value_counts())\n",
    "\n",
    "print('')\n",
    "print('---------------------------------------------------------------------------')\n",
    "print('')\n",
    "\n",
    "train['default'].value_counts().plot(kind='bar')\n",
    "plt.show()\n",
    "\n",
    "\n",
    "train['default'] = train['default'].map({'no': 0, 'yes': 1})\n",
    "\n",
    "\n",
    "test['default'] = test['default'].map({'no': 0, 'yes': 1})\n"
   ]
  },
  {
   "cell_type": "markdown",
   "id": "147cafe2",
   "metadata": {
    "papermill": {
     "duration": 0.016604,
     "end_time": "2024-10-27T14:04:53.860121",
     "exception": false,
     "start_time": "2024-10-27T14:04:53.843517",
     "status": "completed"
    },
    "tags": []
   },
   "source": [
    "# housing"
   ]
  },
  {
   "cell_type": "code",
   "execution_count": 14,
   "id": "25b2b9ed",
   "metadata": {
    "execution": {
     "iopub.execute_input": "2024-10-27T14:04:53.896883Z",
     "iopub.status.busy": "2024-10-27T14:04:53.896449Z",
     "iopub.status.idle": "2024-10-27T14:04:54.067150Z",
     "shell.execute_reply": "2024-10-27T14:04:54.065655Z"
    },
    "papermill": {
     "duration": 0.193296,
     "end_time": "2024-10-27T14:04:54.070010",
     "exception": false,
     "start_time": "2024-10-27T14:04:53.876714",
     "status": "completed"
    },
    "tags": []
   },
   "outputs": [
    {
     "name": "stdout",
     "output_type": "stream",
     "text": [
      "housing has no null values :  0\n",
      "\n",
      "---------------------------------------------------------------------------\n",
      "\n",
      " Unique housing :  ['yes' 'no']\n",
      "\n",
      "---------------------------------------------------------------------------\n",
      "\n",
      "housing value counts:  housing\n",
      "yes    21657\n",
      "no     17554\n",
      "Name: count, dtype: int64\n",
      "\n",
      "---------------------------------------------------------------------------\n",
      "\n"
     ]
    },
    {
     "data": {
      "image/png": "[encoded data removed]",
      "text/plain": [
       "<Figure size 640x480 with 1 Axes>"
      ]
     },
     "metadata": {},
     "output_type": "display_data"
    }
   ],
   "source": [
    "print('housing has no null values : ' , train['housing'].isnull().sum())\n",
    "\n",
    "print('')\n",
    "print('---------------------------------------------------------------------------')\n",
    "print('')\n",
    "\n",
    "print(' Unique housing : ' , train['housing'].unique())\n",
    "\n",
    "print('')\n",
    "print('---------------------------------------------------------------------------')\n",
    "print('')\n",
    "\n",
    "print('housing value counts: ' , train['housing'].value_counts())\n",
    "\n",
    "print('')\n",
    "print('---------------------------------------------------------------------------')\n",
    "print('')\n",
    "\n",
    "train['housing'].value_counts().plot(kind='bar')\n",
    "plt.show()\n",
    "\n",
    "train['housing'] = train['housing'].map({'no': 0, 'yes': 1})\n",
    "\n",
    "\n",
    "\n",
    "test['housing'] = test['housing'].map({'no': 0, 'yes': 1})\n"
   ]
  },
  {
   "cell_type": "code",
   "execution_count": 15,
   "id": "7537c64d",
   "metadata": {
    "execution": {
     "iopub.execute_input": "2024-10-27T14:04:54.108723Z",
     "iopub.status.busy": "2024-10-27T14:04:54.108309Z",
     "iopub.status.idle": "2024-10-27T14:04:54.344865Z",
     "shell.execute_reply": "2024-10-27T14:04:54.343494Z"
    },
    "papermill": {
     "duration": 0.259381,
     "end_time": "2024-10-27T14:04:54.347727",
     "exception": false,
     "start_time": "2024-10-27T14:04:54.088346",
     "status": "completed"
    },
    "tags": []
   },
   "outputs": [
    {
     "name": "stdout",
     "output_type": "stream",
     "text": [
      "loan has no null values :  0\n",
      "\n",
      "---------------------------------------------------------------------------\n",
      "\n",
      " Unique loan :  ['no' 'yes']\n",
      "\n",
      "---------------------------------------------------------------------------\n",
      "\n",
      "loan value counts:  loan\n",
      "no     31820\n",
      "yes     7391\n",
      "Name: count, dtype: int64\n",
      "\n",
      "---------------------------------------------------------------------------\n",
      "\n"
     ]
    },
    {
     "data": {
      "image/png": "[encoded data removed]",
      "text/plain": [
       "<Figure size 640x480 with 1 Axes>"
      ]
     },
     "metadata": {},
     "output_type": "display_data"
    }
   ],
   "source": [
    "print('loan has no null values : ' , train['loan'].isnull().sum())\n",
    "\n",
    "print('')\n",
    "print('---------------------------------------------------------------------------')\n",
    "print('')\n",
    "\n",
    "print(' Unique loan : ' , train['loan'].unique())\n",
    "\n",
    "print('')\n",
    "print('---------------------------------------------------------------------------')\n",
    "print('')\n",
    "\n",
    "print('loan value counts: ' , train['loan'].value_counts())\n",
    "\n",
    "print('')\n",
    "print('---------------------------------------------------------------------------')\n",
    "print('')\n",
    "\n",
    "train['loan'].value_counts().plot(kind='bar')\n",
    "plt.show()\n",
    "\n",
    "\n",
    "\n",
    "\n",
    "train['loan'] = train['loan'].map({'no': 0, 'yes': 1})\n",
    "\n",
    "\n",
    "test['loan'] = test['loan'].map({'no': 0, 'yes': 1})\n",
    "\n"
   ]
  },
  {
   "cell_type": "code",
   "execution_count": 16,
   "id": "f6a37af5",
   "metadata": {
    "execution": {
     "iopub.execute_input": "2024-10-27T14:04:54.385008Z",
     "iopub.status.busy": "2024-10-27T14:04:54.384562Z",
     "iopub.status.idle": "2024-10-27T14:04:54.623825Z",
     "shell.execute_reply": "2024-10-27T14:04:54.622549Z"
    },
    "papermill": {
     "duration": 0.261048,
     "end_time": "2024-10-27T14:04:54.626802",
     "exception": false,
     "start_time": "2024-10-27T14:04:54.365754",
     "status": "completed"
    },
    "tags": []
   },
   "outputs": [
    {
     "name": "stdout",
     "output_type": "stream",
     "text": [
      "contact has null values :  10336\n",
      "\n",
      "---------------------------------------------------------------------------\n",
      "\n",
      " Unique contact :  ['cellular' 'telephone' nan]\n",
      "\n",
      "---------------------------------------------------------------------------\n",
      "\n",
      "contact value counts:  contact\n",
      "cellular     25030\n",
      "telephone     3845\n",
      "Name: count, dtype: int64\n",
      "\n",
      "---------------------------------------------------------------------------\n",
      "\n"
     ]
    },
    {
     "data": {
      "image/png": "[encoded data removed]",
      "text/plain": [
       "<Figure size 640x480 with 1 Axes>"
      ]
     },
     "metadata": {},
     "output_type": "display_data"
    }
   ],
   "source": [
    "print('contact has null values : ' , train['contact'].isnull().sum())\n",
    "\n",
    "print('')\n",
    "print('---------------------------------------------------------------------------')\n",
    "print('')\n",
    "\n",
    "print(' Unique contact : ' , train['contact'].unique())\n",
    "\n",
    "print('')\n",
    "print('---------------------------------------------------------------------------')\n",
    "print('')\n",
    "\n",
    "print('contact value counts: ' , train['contact'].value_counts())\n",
    "\n",
    "print('')\n",
    "print('---------------------------------------------------------------------------')\n",
    "print('')\n",
    "\n",
    "train['contact'].value_counts().plot(kind='bar')\n",
    "plt.show()\n",
    "\n",
    "\n",
    "train['contact']=train['contact'].replace(np.nan , 'cellular')\n",
    "\n",
    "train['contact'] = train['contact'].map({'cellular': 1, 'telephone': 0})\n",
    "\n",
    "\n",
    "\n",
    "test['contact']=test['contact'].replace(np.nan , 'cellular')\n",
    "test['contact'] = test['contact'].map({'cellular': 1, 'telephone': 0})\n",
    "\n"
   ]
  },
  {
   "cell_type": "code",
   "execution_count": 17,
   "id": "8e1f936b",
   "metadata": {
    "execution": {
     "iopub.execute_input": "2024-10-27T14:04:54.665315Z",
     "iopub.status.busy": "2024-10-27T14:04:54.664862Z",
     "iopub.status.idle": "2024-10-27T14:04:55.052271Z",
     "shell.execute_reply": "2024-10-27T14:04:55.051048Z"
    },
    "papermill": {
     "duration": 0.40927,
     "end_time": "2024-10-27T14:04:55.054883",
     "exception": false,
     "start_time": "2024-10-27T14:04:54.645613",
     "status": "completed"
    },
    "tags": []
   },
   "outputs": [
    {
     "name": "stdout",
     "output_type": "stream",
     "text": [
      "poutcome has  null values :  29451\n",
      "\n",
      "---------------------------------------------------------------------------\n",
      "\n",
      " Unique poutcome :  ['other' nan 'failure' 'success']\n",
      "\n",
      "---------------------------------------------------------------------------\n",
      "\n",
      "poutcome value counts:  poutcome\n",
      "failure    4949\n",
      "other      2560\n",
      "success    2251\n",
      "Name: count, dtype: int64\n",
      "\n",
      "---------------------------------------------------------------------------\n",
      "\n"
     ]
    },
    {
     "data": {
      "image/png": "[encoded data removed]",
      "text/plain": [
       "<Figure size 640x480 with 1 Axes>"
      ]
     },
     "metadata": {},
     "output_type": "display_data"
    },
    {
     "data": {
      "image/png": "[encoded data removed]",
      "text/plain": [
       "<Figure size 640x480 with 1 Axes>"
      ]
     },
     "metadata": {},
     "output_type": "display_data"
    }
   ],
   "source": [
    "print('poutcome has  null values : ' , train['poutcome'].isnull().sum())\n",
    "\n",
    "print('')\n",
    "print('---------------------------------------------------------------------------')\n",
    "print('')\n",
    "\n",
    "print(' Unique poutcome : ' , train['poutcome'].unique())\n",
    "\n",
    "print('')\n",
    "print('---------------------------------------------------------------------------')\n",
    "print('')\n",
    "\n",
    "print('poutcome value counts: ' , train['poutcome'].value_counts())\n",
    "\n",
    "print('')\n",
    "print('---------------------------------------------------------------------------')\n",
    "print('')\n",
    "\n",
    "\n",
    "train['poutcome'].value_counts().plot(kind='bar')\n",
    "plt.show()\n",
    "\n",
    "\n",
    "\n",
    "train['poutcome'] = train['poutcome'].replace(np.nan, 'failure')\n",
    "\n",
    "\n",
    "train['poutcome'].value_counts().plot(kind='bar')\n",
    "plt.show()\n",
    "\n",
    "\n",
    "\n",
    "test['poutcome'] = test['poutcome'].replace(np.nan, 'failure')\n"
   ]
  },
  {
   "cell_type": "code",
   "execution_count": 18,
   "id": "76b66a41",
   "metadata": {
    "execution": {
     "iopub.execute_input": "2024-10-27T14:04:55.093695Z",
     "iopub.status.busy": "2024-10-27T14:04:55.093216Z",
     "iopub.status.idle": "2024-10-27T14:04:55.121931Z",
     "shell.execute_reply": "2024-10-27T14:04:55.120275Z"
    },
    "papermill": {
     "duration": 0.051119,
     "end_time": "2024-10-27T14:04:55.124581",
     "exception": false,
     "start_time": "2024-10-27T14:04:55.073462",
     "status": "completed"
    },
    "tags": []
   },
   "outputs": [
    {
     "name": "stdout",
     "output_type": "stream",
     "text": [
      "<class 'pandas.core.frame.DataFrame'>\n",
      "RangeIndex: 39211 entries, 0 to 39210\n",
      "Data columns (total 19 columns):\n",
      " #   Column             Non-Null Count  Dtype         \n",
      "---  ------             --------------  -----         \n",
      " 0   last contact date  39211 non-null  datetime64[ns]\n",
      " 1   age                39211 non-null  int64         \n",
      " 2   job                39211 non-null  object        \n",
      " 3   marital            39211 non-null  object        \n",
      " 4   education          39211 non-null  object        \n",
      " 5   default            39211 non-null  int64         \n",
      " 6   balance            39211 non-null  int64         \n",
      " 7   housing            39211 non-null  int64         \n",
      " 8   loan               39211 non-null  int64         \n",
      " 9   contact            39211 non-null  int64         \n",
      " 10  duration           39211 non-null  int64         \n",
      " 11  campaign           39211 non-null  int64         \n",
      " 12  pdays              39211 non-null  int64         \n",
      " 13  previous           39211 non-null  int64         \n",
      " 14  poutcome           39211 non-null  object        \n",
      " 15  target             39211 non-null  object        \n",
      " 16  day                39211 non-null  int32         \n",
      " 17  month              39211 non-null  int32         \n",
      " 18  isSunday           39211 non-null  int64         \n",
      "dtypes: datetime64[ns](1), int32(2), int64(11), object(5)\n",
      "memory usage: 5.4+ MB\n"
     ]
    }
   ],
   "source": [
    "train.info()"
   ]
  },
  {
   "cell_type": "markdown",
   "id": "5c15447c",
   "metadata": {
    "papermill": {
     "duration": 0.018642,
     "end_time": "2024-10-27T14:04:55.161750",
     "exception": false,
     "start_time": "2024-10-27T14:04:55.143108",
     "status": "completed"
    },
    "tags": []
   },
   "source": [
    "# Numerical Columns\n",
    "# Age , Balance , campaign , pdays , previous"
   ]
  },
  {
   "cell_type": "code",
   "execution_count": 19,
   "id": "66e7f368",
   "metadata": {
    "execution": {
     "iopub.execute_input": "2024-10-27T14:04:55.202329Z",
     "iopub.status.busy": "2024-10-27T14:04:55.201885Z",
     "iopub.status.idle": "2024-10-27T14:04:55.432633Z",
     "shell.execute_reply": "2024-10-27T14:04:55.431094Z"
    },
    "papermill": {
     "duration": 0.254805,
     "end_time": "2024-10-27T14:04:55.435095",
     "exception": false,
     "start_time": "2024-10-27T14:04:55.180290",
     "status": "completed"
    },
    "tags": []
   },
   "outputs": [
    {
     "name": "stdout",
     "output_type": "stream",
     "text": [
      "Age has no null values :  0\n",
      "\n",
      "---------------------------------------------------------------------------\n",
      "\n",
      "no. of age less than zero is  0\n",
      "\n",
      "---------------------------------------------------------------------------\n",
      "\n",
      " Unique Ages :  [26 52 44 33 31 25 46 37 38 32 28 34 86 42 58 39 35 47 45 48 30 50 56 54\n",
      " 40 53 41 51 27 29 57 63 36 43 19 55 49 23 83 60 22 80 76 59 24 93 71 89\n",
      " 64 68 85 79 62 69 20 90 66 87 72 88 67 70 77 91 78 61 65 73 74 84 82 92\n",
      " 81 18 21 75 94 95]\n",
      "\n",
      "---------------------------------------------------------------------------\n",
      "\n",
      "Age value counts:  age\n",
      "32    1688\n",
      "31    1629\n",
      "33    1599\n",
      "35    1571\n",
      "34    1566\n",
      "      ... \n",
      "18      44\n",
      "92      41\n",
      "87      40\n",
      "85      39\n",
      "95       2\n",
      "Name: count, Length: 78, dtype: int64\n",
      "\n",
      "---------------------------------------------------------------------------\n",
      "\n"
     ]
    },
    {
     "data": {
      "image/png": "[encoded data removed]",
      "text/plain": [
       "<Figure size 640x480 with 1 Axes>"
      ]
     },
     "metadata": {},
     "output_type": "display_data"
    }
   ],
   "source": [
    "print('Age has no null values : ' , train['age'].isnull().sum())\n",
    "\n",
    "print('')\n",
    "print('---------------------------------------------------------------------------')\n",
    "print('')\n",
    "\n",
    "print('no. of age less than zero is ', train[train['age']<0]['age'].count())\n",
    "\n",
    "\n",
    "print('')\n",
    "print('---------------------------------------------------------------------------')\n",
    "print('')\n",
    "\n",
    "print(' Unique Ages : ' , train['age'].unique())\n",
    "\n",
    "print('')\n",
    "print('---------------------------------------------------------------------------')\n",
    "print('')\n",
    "\n",
    "print('Age value counts: ' , train['age'].value_counts())\n",
    "\n",
    "print('')\n",
    "print('---------------------------------------------------------------------------')\n",
    "print('')\n",
    "\n",
    "train['age'].value_counts().plot(kind='hist')\n",
    "plt.show()\n",
    "\n",
    "\n"
   ]
  },
  {
   "cell_type": "markdown",
   "id": "25940eb5",
   "metadata": {
    "papermill": {
     "duration": 0.01935,
     "end_time": "2024-10-27T14:04:55.474082",
     "exception": false,
     "start_time": "2024-10-27T14:04:55.454732",
     "status": "completed"
    },
    "tags": []
   },
   "source": [
    "# Feature Engineering Age Category"
   ]
  },
  {
   "cell_type": "code",
   "execution_count": 20,
   "id": "1b0600e5",
   "metadata": {
    "execution": {
     "iopub.execute_input": "2024-10-27T14:04:55.518971Z",
     "iopub.status.busy": "2024-10-27T14:04:55.518511Z",
     "iopub.status.idle": "2024-10-27T14:04:55.540710Z",
     "shell.execute_reply": "2024-10-27T14:04:55.539544Z"
    },
    "papermill": {
     "duration": 0.048885,
     "end_time": "2024-10-27T14:04:55.543550",
     "exception": false,
     "start_time": "2024-10-27T14:04:55.494665",
     "status": "completed"
    },
    "tags": []
   },
   "outputs": [],
   "source": [
    "def age_category(x):\n",
    "    if x<=39:\n",
    "        return 'young'\n",
    "    if 40<=x<=59:\n",
    "        return 'middle'\n",
    "    return 'old'\n",
    "\n",
    "\n",
    "train['Age_Category'] = train['age'].apply(age_category)\n",
    "\n",
    "test['Age_Category'] = test['age'].apply(age_category)\n",
    "\n"
   ]
  },
  {
   "cell_type": "code",
   "execution_count": 21,
   "id": "0437dc71",
   "metadata": {
    "execution": {
     "iopub.execute_input": "2024-10-27T14:04:55.646761Z",
     "iopub.status.busy": "2024-10-27T14:04:55.646294Z",
     "iopub.status.idle": "2024-10-27T14:04:55.979011Z",
     "shell.execute_reply": "2024-10-27T14:04:55.977747Z"
    },
    "papermill": {
     "duration": 0.4185,
     "end_time": "2024-10-27T14:04:55.982009",
     "exception": false,
     "start_time": "2024-10-27T14:04:55.563509",
     "status": "completed"
    },
    "tags": []
   },
   "outputs": [
    {
     "name": "stdout",
     "output_type": "stream",
     "text": [
      "campaign has no null values :  0\n",
      "\n",
      "---------------------------------------------------------------------------\n",
      "\n",
      "camaign less than zero is  0\n",
      "\n",
      "---------------------------------------------------------------------------\n",
      "\n",
      " Unique campaign  :  [ 2  1  3  4  6 45  5 44 12 61 58  7  8 20 43 17 13 15 48 34 11 54 22 26\n",
      " 29 21 10 49  9 52 53 57 16 50 46 47 23 37 18 38 32 36 39 56 14 30 41 63\n",
      " 51 28 25 62 55 42 35 31 59 19 40 33 24 27 60]\n",
      "\n",
      "---------------------------------------------------------------------------\n",
      "\n",
      "campaign value counts:  campaign\n",
      "1     14013\n",
      "2     10016\n",
      "3      4470\n",
      "4      2861\n",
      "5      1469\n",
      "      ...  \n",
      "48       44\n",
      "30       43\n",
      "40       43\n",
      "60       43\n",
      "53       38\n",
      "Name: count, Length: 63, dtype: int64\n",
      "\n",
      "---------------------------------------------------------------------------\n",
      "\n"
     ]
    },
    {
     "data": {
      "text/plain": [
       "<Axes: ylabel='Frequency'>"
      ]
     },
     "execution_count": 21,
     "metadata": {},
     "output_type": "execute_result"
    },
    {
     "data": {
      "image/png": "[encoded data removed]",
      "text/plain": [
       "<Figure size 640x480 with 1 Axes>"
      ]
     },
     "metadata": {},
     "output_type": "display_data"
    }
   ],
   "source": [
    "print('campaign has no null values : ' , train['campaign'].isnull().sum())\n",
    "\n",
    "print('')\n",
    "print('---------------------------------------------------------------------------')\n",
    "print('')\n",
    "\n",
    "\n",
    "print('camaign less than zero is ', train[train['campaign']<0]['campaign'].count())\n",
    "\n",
    "\n",
    "print('')\n",
    "print('---------------------------------------------------------------------------')\n",
    "print('')\n",
    "print(' Unique campaign  : ' , train['campaign'].unique())\n",
    "\n",
    "print('')\n",
    "print('---------------------------------------------------------------------------')\n",
    "print('')\n",
    "\n",
    "print('campaign value counts: ' , train['campaign'].value_counts())\n",
    "\n",
    "print('')\n",
    "print('---------------------------------------------------------------------------')\n",
    "print('')\n",
    "\n",
    "train['campaign'].value_counts().plot(kind='hist')\n",
    "\n"
   ]
  },
  {
   "cell_type": "code",
   "execution_count": 22,
   "id": "f2c779da",
   "metadata": {
    "execution": {
     "iopub.execute_input": "2024-10-27T14:04:56.026813Z",
     "iopub.status.busy": "2024-10-27T14:04:56.026383Z",
     "iopub.status.idle": "2024-10-27T14:04:56.305113Z",
     "shell.execute_reply": "2024-10-27T14:04:56.303898Z"
    },
    "papermill": {
     "duration": 0.303498,
     "end_time": "2024-10-27T14:04:56.307800",
     "exception": false,
     "start_time": "2024-10-27T14:04:56.004302",
     "status": "completed"
    },
    "tags": []
   },
   "outputs": [
    {
     "name": "stdout",
     "output_type": "stream",
     "text": [
      "balance has no null values :  0\n",
      "\n",
      "---------------------------------------------------------------------------\n",
      "\n",
      "checking if balance is negetive and how many rows have balance less than zero: 2971\n",
      "\n",
      "---------------------------------------------------------------------------\n",
      "\n",
      " Unique balance values :  [  647   553  1397 ...  4307  6187 38594]\n",
      "\n",
      "---------------------------------------------------------------------------\n",
      "\n",
      "balance value counts:  balance\n",
      "0        2799\n",
      "1         149\n",
      "2         122\n",
      "4         115\n",
      "3         104\n",
      "         ... \n",
      "95094       1\n",
      "81074       1\n",
      "31565       1\n",
      "5278        1\n",
      "38594       1\n",
      "Name: count, Length: 9535, dtype: int64\n",
      "\n",
      "---------------------------------------------------------------------------\n",
      "\n"
     ]
    },
    {
     "data": {
      "text/plain": [
       "<Axes: ylabel='Frequency'>"
      ]
     },
     "execution_count": 22,
     "metadata": {},
     "output_type": "execute_result"
    },
    {
     "data": {
      "image/png": "[encoded data removed]",
      "text/plain": [
       "<Figure size 640x480 with 1 Axes>"
      ]
     },
     "metadata": {},
     "output_type": "display_data"
    }
   ],
   "source": [
    "print('balance has no null values : ' , train['balance'].isnull().sum())\n",
    "\n",
    "print('')\n",
    "print('---------------------------------------------------------------------------')\n",
    "print('')\n",
    "\n",
    "print('checking if balance is negetive and how many rows have balance less than zero:'  , train[train['balance']<0]['balance'].count())\n",
    "\n",
    "print('')\n",
    "print('---------------------------------------------------------------------------')\n",
    "print('')\n",
    "\n",
    "print(' Unique balance values : ' , train['balance'].unique())\n",
    "\n",
    "print('')\n",
    "print('---------------------------------------------------------------------------')\n",
    "print('')\n",
    "\n",
    "print('balance value counts: ' , train['balance'].value_counts())\n",
    "\n",
    "print('')\n",
    "print('---------------------------------------------------------------------------')\n",
    "print('')\n",
    "\n",
    "train['balance'].value_counts().plot(kind='hist')\n",
    "\n",
    "\n",
    "\n",
    "\n",
    "\n"
   ]
  },
  {
   "cell_type": "code",
   "execution_count": 23,
   "id": "3db56308",
   "metadata": {
    "execution": {
     "iopub.execute_input": "2024-10-27T14:04:56.352272Z",
     "iopub.status.busy": "2024-10-27T14:04:56.351812Z",
     "iopub.status.idle": "2024-10-27T14:04:56.658327Z",
     "shell.execute_reply": "2024-10-27T14:04:56.656704Z"
    },
    "papermill": {
     "duration": 0.333155,
     "end_time": "2024-10-27T14:04:56.661523",
     "exception": false,
     "start_time": "2024-10-27T14:04:56.328368",
     "status": "completed"
    },
    "tags": []
   },
   "outputs": [
    {
     "name": "stdout",
     "output_type": "stream",
     "text": [
      "pdays has no null values :  0\n",
      "\n",
      "---------------------------------------------------------------------------\n",
      "\n",
      " Unique pdays values :  [331  -1 852 661 152 599 365 367 238 129 287 174 120 368 371 187 610 364\n",
      " 633  80 125 356 248 186 278 154  90  98 574 352 561 260 801  78 596 343\n",
      " 671 175 159  12 111  31 342 357  74 100 289  84 109 245 369  83 536 216\n",
      "  89  97 252 143 378 336 172 160 191  91 848 258 317  94 196 362 188 272\n",
      " 138 298 116 101 591 360 234 505 631  82   8 300 472 173 530 103 236 316\n",
      " 370 611 271 305  79 474 405 293 442 178 232 299 213 184 237  93  37 255\n",
      " 353 259 181 315 147 349 335 165 295 203 290   6 767 302 169 320 148  19\n",
      " 435 328 645 526 150 318 347  29  96 254  35 136 350 759 358 670 348 224\n",
      " 114 102 407 326 330 665 760 445 373 265 190 285 246 644 337 161 264 562\n",
      " 189 363 630 652  44 478 322 176 783 597 344 339 110 334 167 204 166 816\n",
      " 484 177 775 366  32 480 200 408 421 247 291 261 579 244 730 324 434 525\n",
      " 156 153 157  95 439 286 163 197 182 309 257 283 461 824  92 704 195 170\n",
      " 655 121  68 332 651 504 403 263 183 440 431 185 202 105 477 746 310 622\n",
      " 149 698 427 847 115 620 219 846 301  40 649 481 438 215  61 531  59 643\n",
      " 303 117  64 168 158 338 515 516  75 779 606 355 400 743 134  53 706 321\n",
      " 274 578 345 270 141   1 251 575 705  81 340 192 266 262 560 276 208 243\n",
      " 428 375  11 180 314  99 228 774  76 518 695 209 193 206 282 861 304 828\n",
      "  55 284  87 210 551 135 312 587 468 557  50 406 113 329 556 764 179 239\n",
      " 145 249 323  41 201  33 844 221 256 212 281 450  86 580 422 385 233 514\n",
      "  28 268  30 795 205  57 361 860   2 327 346 132 473  63 396 657  88 647\n",
      " 854  73 107 126 171 581 198  24 402 325 433 269  85 646  69 605 733 488\n",
      " 462 805 217 745 292 151 426 127 131 351 359 240 769 789 388 503 306 313\n",
      " 863 866 479 547 390   5 528 341 640 648 859 625 725 567 387 669 374 225\n",
      " 380 496 155 506 642 722 802  56 118 553 456 333 559 714 409 791 267 806\n",
      " 451 415 685 558 773 383 833 467 311 534   3 459 241 819 798  52 139 104\n",
      " 511 455 307 624 601 494 308 458 112 842 522 555 394 275 498 768 273 694\n",
      " 499 381 294 708 457 146 550 845 425 297   7 871 615 752 737 543 668  60\n",
      " 864 124 796 829 250 280  77 674 130 412 600 483 538 588 548 475  70 372\n",
      " 164 418 223 712 391 279 133 751 227 464 734 106 740 857 629 436 443 253\n",
      " 812 853 123 577 437 778 613 386  38 399 711 376 869 827 721  43 469 776\n",
      " 199 398 862 735 229 680 761 780 663 686  62 870 230  14 119  42  27  17\n",
      " 697 781 545 521 517 675 242 485 211 618 509 128 667  21 404 108 736 603\n",
      " 718 218 586 831 684 658 834 826 617 144  46 463 454 786  67  10 430 493\n",
      " 810 710 701 784 354 799 584 688  47 868 637 593 662 492 448 681 207 726\n",
      " 757 825 510 739 750 277 855 654 813 673 384 460 222 410 838 628 296 621\n",
      " 677 732   9 319 194 417 140 632 691 659 589 741 288 814 822  71 397 382\n",
      " 490 554 758 392 569  22 466 542 235 541 487 565 619 544 413 650 389 476\n",
      " 508 728 529 793 500 537 429 636 449 772 137 762 491 566 770 850  45 856\n",
      " 497 664 424 785 609 830 702  39 744 626 612 563 512 634 122 447 231 717\n",
      " 414 627 713 486 818 672 432 709 419 598  25 787 719 614  13 582 656 471\n",
      " 576 696 687 162 749 777 756 489 523 811 214 377 837  18 226 804 573 416\n",
      " 446 797  36 520   4  66 465 792 379 639 602 754 546 401 766 635  49 840\n",
      " 572 858  58 821 782 771 604 731  54 608 807  23 699 851 585 693 729 616\n",
      " 660 820 808 841  65 765 411 607 571 763 727  72 470 803 653  16 142 539\n",
      " 513 843  15 742 564 552 592 638 507 676 839 549 689 590  26 809 753 723\n",
      " 815 788 747 420 790 524 720 683 690 519 716 835 568 623 570 444 678  48\n",
      " 482 535 595 836 594 707 817 502 441  34 800 533 395  20 453 832 540 849\n",
      " 666 495 679 865 501 393 794  51 700 703 532 715 867 692 452 823 220   0\n",
      " 724]\n",
      "\n",
      "---------------------------------------------------------------------------\n",
      "\n",
      "pdays value counts:  pdays\n",
      "-1      29446\n",
      " 182      135\n",
      " 92       117\n",
      " 91       106\n",
      " 183      100\n",
      "        ...  \n",
      " 836        1\n",
      " 594        1\n",
      " 659        1\n",
      " 817        1\n",
      " 724        1\n",
      "Name: count, Length: 865, dtype: int64\n",
      "\n",
      "---------------------------------------------------------------------------\n",
      "\n"
     ]
    },
    {
     "data": {
      "image/png": "[encoded data removed]",
      "text/plain": [
       "<Figure size 640x480 with 1 Axes>"
      ]
     },
     "metadata": {},
     "output_type": "display_data"
    }
   ],
   "source": [
    "print('pdays has no null values : ' , train['pdays'].isnull().sum())\n",
    "\n",
    "print('')\n",
    "print('---------------------------------------------------------------------------')\n",
    "print('')\n",
    "\n",
    "print(' Unique pdays values : ' , train['pdays'].unique())\n",
    "\n",
    "print('')\n",
    "print('---------------------------------------------------------------------------')\n",
    "print('')\n",
    "\n",
    "print('pdays value counts: ' , train['pdays'].value_counts())\n",
    "\n",
    "print('')\n",
    "print('---------------------------------------------------------------------------')\n",
    "print('')\n",
    "\n",
    "train['pdays'].value_counts().plot(kind='hist')\n",
    "\n",
    "\n",
    "\n",
    "train['previously_contacted'] = train['pdays'].apply(lambda x: 1 if x != -1 else 0)\n",
    "\n",
    "test['previously_contacted'] = test['pdays'].apply(lambda x: 1 if x != -1 else 0)\n"
   ]
  },
  {
   "cell_type": "code",
   "execution_count": 24,
   "id": "8647399b",
   "metadata": {
    "execution": {
     "iopub.execute_input": "2024-10-27T14:04:56.707157Z",
     "iopub.status.busy": "2024-10-27T14:04:56.706695Z",
     "iopub.status.idle": "2024-10-27T14:04:57.087171Z",
     "shell.execute_reply": "2024-10-27T14:04:57.085726Z"
    },
    "papermill": {
     "duration": 0.407391,
     "end_time": "2024-10-27T14:04:57.089939",
     "exception": false,
     "start_time": "2024-10-27T14:04:56.682548",
     "status": "completed"
    },
    "tags": []
   },
   "outputs": [
    {
     "name": "stdout",
     "output_type": "stream",
     "text": [
      "previous has no null values :  0\n",
      "\n",
      "---------------------------------------------------------------------------\n",
      "\n",
      "checking if previous is negetive and how many rows have previous less than zero: 0\n",
      "\n",
      "---------------------------------------------------------------------------\n",
      "\n",
      " Unique previous  :  [  1   0   4 143 234   3  18   2 225 219   6  12  16 248 217 116   8 119\n",
      "  37  69 113  14 265 175 103  28  86   5 196 156 207 218 148 213  87 241\n",
      "  60 235 172 255 266  17 135  99  20   9 270 229 188 105 141 153 131 182\n",
      " 223 177  70  75   7  91 236  85 100 160  30  63 178 150  72 233  40 145\n",
      " 272  24 249  97 193 140 222 128  90  10 155 122 134 252 117 173 203 226\n",
      "  23 194 208  77 274  38 273 244  15 176  96  31 133 259 191 101 197 192\n",
      " 152 216 204 206  71 180 250 268 144  81 110 136  43  19  74 187 205  66\n",
      " 269  36 166  29  53 200 261  13  61 186  62 104 138 123  78 189 147 185\n",
      " 179 129 190 111 139 211 245  22  51 171  26 254  84 174  46  48  58  68\n",
      " 228  11  80  55 107 232 202 132 264  56 260 181  32 163  94  83  54 240\n",
      " 154 198  49 221 242  35 120 125 243 256 146  67 124 108 169  82  39 258\n",
      " 112 237 114  59  42 165 199 184  92 168  21  88  33 159 183 109  65 164\n",
      " 215  93 246 102  95 201 162 195  41  64 157 257 263 267 126  47 212 149\n",
      "  52  73 239  25 118 161  27  76 121 170 230 262  89 137 220 209  57 251\n",
      " 247 115  34 238 271 167  98  50 142  45 227 275 106  79 210 214  44 253\n",
      " 224 151 231 130 158 127]\n",
      "\n",
      "---------------------------------------------------------------------------\n",
      "\n",
      "previous value counts:  previous\n",
      "0      29456\n",
      "1       2226\n",
      "2       1708\n",
      "3        907\n",
      "4        590\n",
      "       ...  \n",
      "163        5\n",
      "76         5\n",
      "180        5\n",
      "137        5\n",
      "231        4\n",
      "Name: count, Length: 276, dtype: int64\n",
      "\n",
      "---------------------------------------------------------------------------\n",
      "\n"
     ]
    },
    {
     "data": {
      "text/plain": [
       "<Axes: ylabel='Frequency'>"
      ]
     },
     "execution_count": 24,
     "metadata": {},
     "output_type": "execute_result"
    },
    {
     "data": {
      "image/png": "[encoded data removed]",
      "text/plain": [
       "<Figure size 640x480 with 1 Axes>"
      ]
     },
     "metadata": {},
     "output_type": "display_data"
    }
   ],
   "source": [
    "print('previous has no null values : ' , train['previous'].isnull().sum())\n",
    "\n",
    "print('')\n",
    "print('---------------------------------------------------------------------------')\n",
    "print('')\n",
    "\n",
    "\n",
    "print('checking if previous is negetive and how many rows have previous less than zero:'  , train[train['previous']<0]['previous'].count())\n",
    "\n",
    "\n",
    "print('')\n",
    "print('---------------------------------------------------------------------------')\n",
    "print('')\n",
    "\n",
    "\n",
    "print(' Unique previous  : ' , train['previous'].unique())\n",
    "\n",
    "print('')\n",
    "print('---------------------------------------------------------------------------')\n",
    "print('')\n",
    "\n",
    "print('previous value counts: ' , train['previous'].value_counts())\n",
    "\n",
    "print('')\n",
    "print('---------------------------------------------------------------------------')\n",
    "print('')\n",
    "\n",
    "train['previous'].value_counts().plot(kind='hist')\n"
   ]
  },
  {
   "cell_type": "code",
   "execution_count": 25,
   "id": "315211cc",
   "metadata": {
    "execution": {
     "iopub.execute_input": "2024-10-27T14:04:57.135889Z",
     "iopub.status.busy": "2024-10-27T14:04:57.135450Z",
     "iopub.status.idle": "2024-10-27T14:04:57.239439Z",
     "shell.execute_reply": "2024-10-27T14:04:57.238150Z"
    },
    "papermill": {
     "duration": 0.129542,
     "end_time": "2024-10-27T14:04:57.241964",
     "exception": false,
     "start_time": "2024-10-27T14:04:57.112422",
     "status": "completed"
    },
    "tags": []
   },
   "outputs": [
    {
     "name": "stdout",
     "output_type": "stream",
     "text": [
      "Shape: (39211, 21)\n",
      "\n",
      "---------------------------------------------------------------------------\n",
      "\n",
      "<class 'pandas.core.frame.DataFrame'>\n",
      "RangeIndex: 39211 entries, 0 to 39210\n",
      "Data columns (total 21 columns):\n",
      " #   Column                Non-Null Count  Dtype         \n",
      "---  ------                --------------  -----         \n",
      " 0   last contact date     39211 non-null  datetime64[ns]\n",
      " 1   age                   39211 non-null  int64         \n",
      " 2   job                   39211 non-null  object        \n",
      " 3   marital               39211 non-null  object        \n",
      " 4   education             39211 non-null  object        \n",
      " 5   default               39211 non-null  int64         \n",
      " 6   balance               39211 non-null  int64         \n",
      " 7   housing               39211 non-null  int64         \n",
      " 8   loan                  39211 non-null  int64         \n",
      " 9   contact               39211 non-null  int64         \n",
      " 10  duration              39211 non-null  int64         \n",
      " 11  campaign              39211 non-null  int64         \n",
      " 12  pdays                 39211 non-null  int64         \n",
      " 13  previous              39211 non-null  int64         \n",
      " 14  poutcome              39211 non-null  object        \n",
      " 15  target                39211 non-null  object        \n",
      " 16  day                   39211 non-null  int32         \n",
      " 17  month                 39211 non-null  int32         \n",
      " 18  isSunday              39211 non-null  int64         \n",
      " 19  Age_Category          39211 non-null  object        \n",
      " 20  previously_contacted  39211 non-null  int64         \n",
      "dtypes: datetime64[ns](1), int32(2), int64(12), object(6)\n",
      "memory usage: 6.0+ MB\n",
      "None\n",
      "\n",
      "---------------------------------------------------------------------------\n",
      "\n"
     ]
    },
    {
     "data": {
      "text/html": [
       "<div>\n",
       "<style scoped>\n",
       "    .dataframe tbody tr th:only-of-type {\n",
       "        vertical-align: middle;\n",
       "    }\n",
       "\n",
       "    .dataframe tbody tr th {\n",
       "        vertical-align: top;\n",
       "    }\n",
       "\n",
       "    .dataframe thead th {\n",
       "        text-align: right;\n",
       "    }\n",
       "</style>\n",
       "<table border=\"1\" class=\"dataframe\">\n",
       "  <thead>\n",
       "    <tr style=\"text-align: right;\">\n",
       "      <th></th>\n",
       "      <th>last contact date</th>\n",
       "      <th>age</th>\n",
       "      <th>default</th>\n",
       "      <th>balance</th>\n",
       "      <th>housing</th>\n",
       "      <th>loan</th>\n",
       "      <th>contact</th>\n",
       "      <th>duration</th>\n",
       "      <th>campaign</th>\n",
       "      <th>pdays</th>\n",
       "      <th>previous</th>\n",
       "      <th>day</th>\n",
       "      <th>month</th>\n",
       "      <th>isSunday</th>\n",
       "      <th>previously_contacted</th>\n",
       "    </tr>\n",
       "  </thead>\n",
       "  <tbody>\n",
       "    <tr>\n",
       "      <th>count</th>\n",
       "      <td>39211</td>\n",
       "      <td>39211.000000</td>\n",
       "      <td>39211.000000</td>\n",
       "      <td>39211.000000</td>\n",
       "      <td>39211.000000</td>\n",
       "      <td>39211.000000</td>\n",
       "      <td>39211.000000</td>\n",
       "      <td>39211.000000</td>\n",
       "      <td>39211.000000</td>\n",
       "      <td>39211.000000</td>\n",
       "      <td>39211.000000</td>\n",
       "      <td>39211.000000</td>\n",
       "      <td>39211.000000</td>\n",
       "      <td>39211.000000</td>\n",
       "      <td>39211.000000</td>\n",
       "    </tr>\n",
       "    <tr>\n",
       "      <th>mean</th>\n",
       "      <td>2009-06-22 21:10:55.254902784</td>\n",
       "      <td>42.120247</td>\n",
       "      <td>0.057560</td>\n",
       "      <td>5441.781719</td>\n",
       "      <td>0.552320</td>\n",
       "      <td>0.188493</td>\n",
       "      <td>0.901941</td>\n",
       "      <td>439.062789</td>\n",
       "      <td>5.108770</td>\n",
       "      <td>72.256051</td>\n",
       "      <td>11.826171</td>\n",
       "      <td>2.822575</td>\n",
       "      <td>6.223993</td>\n",
       "      <td>0.157711</td>\n",
       "      <td>0.249037</td>\n",
       "    </tr>\n",
       "    <tr>\n",
       "      <th>min</th>\n",
       "      <td>2008-01-01 00:00:00</td>\n",
       "      <td>18.000000</td>\n",
       "      <td>0.000000</td>\n",
       "      <td>-8019.000000</td>\n",
       "      <td>0.000000</td>\n",
       "      <td>0.000000</td>\n",
       "      <td>0.000000</td>\n",
       "      <td>0.000000</td>\n",
       "      <td>1.000000</td>\n",
       "      <td>-1.000000</td>\n",
       "      <td>0.000000</td>\n",
       "      <td>0.000000</td>\n",
       "      <td>1.000000</td>\n",
       "      <td>0.000000</td>\n",
       "      <td>0.000000</td>\n",
       "    </tr>\n",
       "    <tr>\n",
       "      <th>25%</th>\n",
       "      <td>2008-08-11 00:00:00</td>\n",
       "      <td>33.000000</td>\n",
       "      <td>0.000000</td>\n",
       "      <td>98.000000</td>\n",
       "      <td>0.000000</td>\n",
       "      <td>0.000000</td>\n",
       "      <td>1.000000</td>\n",
       "      <td>109.000000</td>\n",
       "      <td>1.000000</td>\n",
       "      <td>-1.000000</td>\n",
       "      <td>0.000000</td>\n",
       "      <td>1.000000</td>\n",
       "      <td>5.000000</td>\n",
       "      <td>0.000000</td>\n",
       "      <td>0.000000</td>\n",
       "    </tr>\n",
       "    <tr>\n",
       "      <th>50%</th>\n",
       "      <td>2009-06-05 00:00:00</td>\n",
       "      <td>40.000000</td>\n",
       "      <td>0.000000</td>\n",
       "      <td>549.000000</td>\n",
       "      <td>1.000000</td>\n",
       "      <td>0.000000</td>\n",
       "      <td>1.000000</td>\n",
       "      <td>197.000000</td>\n",
       "      <td>2.000000</td>\n",
       "      <td>-1.000000</td>\n",
       "      <td>0.000000</td>\n",
       "      <td>3.000000</td>\n",
       "      <td>6.000000</td>\n",
       "      <td>0.000000</td>\n",
       "      <td>0.000000</td>\n",
       "    </tr>\n",
       "    <tr>\n",
       "      <th>75%</th>\n",
       "      <td>2010-05-08 00:00:00</td>\n",
       "      <td>50.000000</td>\n",
       "      <td>0.000000</td>\n",
       "      <td>2030.000000</td>\n",
       "      <td>1.000000</td>\n",
       "      <td>0.000000</td>\n",
       "      <td>1.000000</td>\n",
       "      <td>380.000000</td>\n",
       "      <td>4.000000</td>\n",
       "      <td>-1.000000</td>\n",
       "      <td>0.000000</td>\n",
       "      <td>4.000000</td>\n",
       "      <td>8.000000</td>\n",
       "      <td>0.000000</td>\n",
       "      <td>0.000000</td>\n",
       "    </tr>\n",
       "    <tr>\n",
       "      <th>max</th>\n",
       "      <td>2010-12-30 00:00:00</td>\n",
       "      <td>95.000000</td>\n",
       "      <td>1.000000</td>\n",
       "      <td>102127.000000</td>\n",
       "      <td>1.000000</td>\n",
       "      <td>1.000000</td>\n",
       "      <td>1.000000</td>\n",
       "      <td>4918.000000</td>\n",
       "      <td>63.000000</td>\n",
       "      <td>871.000000</td>\n",
       "      <td>275.000000</td>\n",
       "      <td>6.000000</td>\n",
       "      <td>12.000000</td>\n",
       "      <td>1.000000</td>\n",
       "      <td>1.000000</td>\n",
       "    </tr>\n",
       "    <tr>\n",
       "      <th>std</th>\n",
       "      <td>NaN</td>\n",
       "      <td>12.709352</td>\n",
       "      <td>0.232913</td>\n",
       "      <td>16365.292065</td>\n",
       "      <td>0.497261</td>\n",
       "      <td>0.391110</td>\n",
       "      <td>0.297398</td>\n",
       "      <td>769.096291</td>\n",
       "      <td>9.890153</td>\n",
       "      <td>160.942593</td>\n",
       "      <td>44.140259</td>\n",
       "      <td>1.741966</td>\n",
       "      <td>2.614273</td>\n",
       "      <td>0.364474</td>\n",
       "      <td>0.432461</td>\n",
       "    </tr>\n",
       "  </tbody>\n",
       "</table>\n",
       "</div>"
      ],
      "text/plain": [
       "                   last contact date           age       default  \\\n",
       "count                          39211  39211.000000  39211.000000   \n",
       "mean   2009-06-22 21:10:55.254902784     42.120247      0.057560   \n",
       "min              2008-01-01 00:00:00     18.000000      0.000000   \n",
       "25%              2008-08-11 00:00:00     33.000000      0.000000   \n",
       "50%              2009-06-05 00:00:00     40.000000      0.000000   \n",
       "75%              2010-05-08 00:00:00     50.000000      0.000000   \n",
       "max              2010-12-30 00:00:00     95.000000      1.000000   \n",
       "std                              NaN     12.709352      0.232913   \n",
       "\n",
       "             balance       housing          loan       contact      duration  \\\n",
       "count   39211.000000  39211.000000  39211.000000  39211.000000  39211.000000   \n",
       "mean     5441.781719      0.552320      0.188493      0.901941    439.062789   \n",
       "min     -8019.000000      0.000000      0.000000      0.000000      0.000000   \n",
       "25%        98.000000      0.000000      0.000000      1.000000    109.000000   \n",
       "50%       549.000000      1.000000      0.000000      1.000000    197.000000   \n",
       "75%      2030.000000      1.000000      0.000000      1.000000    380.000000   \n",
       "max    102127.000000      1.000000      1.000000      1.000000   4918.000000   \n",
       "std     16365.292065      0.497261      0.391110      0.297398    769.096291   \n",
       "\n",
       "           campaign         pdays      previous           day         month  \\\n",
       "count  39211.000000  39211.000000  39211.000000  39211.000000  39211.000000   \n",
       "mean       5.108770     72.256051     11.826171      2.822575      6.223993   \n",
       "min        1.000000     -1.000000      0.000000      0.000000      1.000000   \n",
       "25%        1.000000     -1.000000      0.000000      1.000000      5.000000   \n",
       "50%        2.000000     -1.000000      0.000000      3.000000      6.000000   \n",
       "75%        4.000000     -1.000000      0.000000      4.000000      8.000000   \n",
       "max       63.000000    871.000000    275.000000      6.000000     12.000000   \n",
       "std        9.890153    160.942593     44.140259      1.741966      2.614273   \n",
       "\n",
       "           isSunday  previously_contacted  \n",
       "count  39211.000000          39211.000000  \n",
       "mean       0.157711              0.249037  \n",
       "min        0.000000              0.000000  \n",
       "25%        0.000000              0.000000  \n",
       "50%        0.000000              0.000000  \n",
       "75%        0.000000              0.000000  \n",
       "max        1.000000              1.000000  \n",
       "std        0.364474              0.432461  "
      ]
     },
     "execution_count": 25,
     "metadata": {},
     "output_type": "execute_result"
    }
   ],
   "source": [
    "print('Shape:', train.shape)\n",
    "print('')\n",
    "print('---------------------------------------------------------------------------')\n",
    "print('')\n",
    "print(train.info())\n",
    "print('')\n",
    "print('---------------------------------------------------------------------------')\n",
    "print('')\n",
    "train.describe()"
   ]
  },
  {
   "cell_type": "markdown",
   "id": "c87ecafb",
   "metadata": {
    "papermill": {
     "duration": 0.020716,
     "end_time": "2024-10-27T14:04:57.284087",
     "exception": false,
     "start_time": "2024-10-27T14:04:57.263371",
     "status": "completed"
    },
    "tags": []
   },
   "source": [
    "# Column Transformer"
   ]
  },
  {
   "cell_type": "code",
   "execution_count": 26,
   "id": "3f1af6ef",
   "metadata": {
    "execution": {
     "iopub.execute_input": "2024-10-27T14:04:57.331874Z",
     "iopub.status.busy": "2024-10-27T14:04:57.331447Z",
     "iopub.status.idle": "2024-10-27T14:04:57.345574Z",
     "shell.execute_reply": "2024-10-27T14:04:57.343935Z"
    },
    "papermill": {
     "duration": 0.041919,
     "end_time": "2024-10-27T14:04:57.348592",
     "exception": false,
     "start_time": "2024-10-27T14:04:57.306673",
     "status": "completed"
    },
    "tags": []
   },
   "outputs": [],
   "source": [
    "from sklearn.compose import ColumnTransformer\n",
    "from sklearn.preprocessing import StandardScaler , OneHotEncoder  , LabelEncoder, RobustScaler , OrdinalEncoder\n",
    "# month\n",
    "\n",
    "col_transformer=ColumnTransformer(transformers=[\n",
    "    \n",
    "    ('numerical_cols' , RobustScaler(),['age','balance','campaign','previous', 'duration']), \n",
    "    ('categorical_cols' , OneHotEncoder(handle_unknown='ignore',sparse_output=False),['job','marital','poutcome','Age_Category','month' ,'day','education']),\n",
    "#     ('label_cols', OrdinalEncoder(),['education' , 'Age_Category'])\n",
    "   \n",
    "    \n",
    "])"
   ]
  },
  {
   "cell_type": "code",
   "execution_count": 27,
   "id": "ed15baf0",
   "metadata": {
    "execution": {
     "iopub.execute_input": "2024-10-27T14:04:57.394129Z",
     "iopub.status.busy": "2024-10-27T14:04:57.393697Z",
     "iopub.status.idle": "2024-10-27T14:04:57.539154Z",
     "shell.execute_reply": "2024-10-27T14:04:57.537753Z"
    },
    "papermill": {
     "duration": 0.172348,
     "end_time": "2024-10-27T14:04:57.542173",
     "exception": false,
     "start_time": "2024-10-27T14:04:57.369825",
     "status": "completed"
    },
    "tags": []
   },
   "outputs": [
    {
     "data": {
      "text/html": [
       "<style type=\"text/css\">\n",
       "#T_4ebe9_row0_col0, #T_4ebe9_row1_col1, #T_4ebe9_row2_col2, #T_4ebe9_row3_col3, #T_4ebe9_row4_col4, #T_4ebe9_row5_col5, #T_4ebe9_row6_col6, #T_4ebe9_row7_col7, #T_4ebe9_row8_col8, #T_4ebe9_row9_col9, #T_4ebe9_row10_col10, #T_4ebe9_row11_col11 {\n",
       "  background-color: #b40426;\n",
       "  color: #f1f1f1;\n",
       "}\n",
       "#T_4ebe9_row0_col1, #T_4ebe9_row4_col1, #T_4ebe9_row11_col0 {\n",
       "  background-color: #a6c4fe;\n",
       "  color: #000000;\n",
       "}\n",
       "#T_4ebe9_row0_col2 {\n",
       "  background-color: #d4dbe6;\n",
       "  color: #000000;\n",
       "}\n",
       "#T_4ebe9_row0_col3, #T_4ebe9_row2_col5, #T_4ebe9_row5_col0, #T_4ebe9_row5_col1, #T_4ebe9_row5_col2, #T_4ebe9_row5_col4, #T_4ebe9_row5_col6, #T_4ebe9_row5_col7, #T_4ebe9_row5_col8, #T_4ebe9_row5_col9, #T_4ebe9_row5_col11, #T_4ebe9_row7_col10, #T_4ebe9_row9_col5 {\n",
       "  background-color: #3b4cc0;\n",
       "  color: #f1f1f1;\n",
       "}\n",
       "#T_4ebe9_row0_col4 {\n",
       "  background-color: #6485ec;\n",
       "  color: #f1f1f1;\n",
       "}\n",
       "#T_4ebe9_row0_col5 {\n",
       "  background-color: #516ddb;\n",
       "  color: #f1f1f1;\n",
       "}\n",
       "#T_4ebe9_row0_col6 {\n",
       "  background-color: #c7d7f0;\n",
       "  color: #000000;\n",
       "}\n",
       "#T_4ebe9_row0_col7 {\n",
       "  background-color: #cedaeb;\n",
       "  color: #000000;\n",
       "}\n",
       "#T_4ebe9_row0_col8 {\n",
       "  background-color: #b5cdfa;\n",
       "  color: #000000;\n",
       "}\n",
       "#T_4ebe9_row0_col9 {\n",
       "  background-color: #d1dae9;\n",
       "  color: #000000;\n",
       "}\n",
       "#T_4ebe9_row0_col10, #T_4ebe9_row5_col10 {\n",
       "  background-color: #3e51c5;\n",
       "  color: #f1f1f1;\n",
       "}\n",
       "#T_4ebe9_row0_col11 {\n",
       "  background-color: #a2c1ff;\n",
       "  color: #000000;\n",
       "}\n",
       "#T_4ebe9_row1_col0, #T_4ebe9_row4_col8 {\n",
       "  background-color: #aac7fd;\n",
       "  color: #000000;\n",
       "}\n",
       "#T_4ebe9_row1_col2, #T_4ebe9_row1_col7 {\n",
       "  background-color: #f2cab5;\n",
       "  color: #000000;\n",
       "}\n",
       "#T_4ebe9_row1_col3 {\n",
       "  background-color: #5e7de7;\n",
       "  color: #f1f1f1;\n",
       "}\n",
       "#T_4ebe9_row1_col4, #T_4ebe9_row3_col8, #T_4ebe9_row10_col5 {\n",
       "  background-color: #8badfd;\n",
       "  color: #000000;\n",
       "}\n",
       "#T_4ebe9_row1_col5, #T_4ebe9_row11_col5 {\n",
       "  background-color: #5572df;\n",
       "  color: #f1f1f1;\n",
       "}\n",
       "#T_4ebe9_row1_col6, #T_4ebe9_row9_col1 {\n",
       "  background-color: #efcfbf;\n",
       "  color: #000000;\n",
       "}\n",
       "#T_4ebe9_row1_col8 {\n",
       "  background-color: #dedcdb;\n",
       "  color: #000000;\n",
       "}\n",
       "#T_4ebe9_row1_col9, #T_4ebe9_row7_col8 {\n",
       "  background-color: #f4c6af;\n",
       "  color: #000000;\n",
       "}\n",
       "#T_4ebe9_row1_col10, #T_4ebe9_row2_col10, #T_4ebe9_row7_col5 {\n",
       "  background-color: #3c4ec2;\n",
       "  color: #f1f1f1;\n",
       "}\n",
       "#T_4ebe9_row1_col11, #T_4ebe9_row7_col0, #T_4ebe9_row11_col1 {\n",
       "  background-color: #c1d4f4;\n",
       "  color: #000000;\n",
       "}\n",
       "#T_4ebe9_row2_col0 {\n",
       "  background-color: #c6d6f1;\n",
       "  color: #000000;\n",
       "}\n",
       "#T_4ebe9_row2_col1, #T_4ebe9_row7_col1 {\n",
       "  background-color: #ecd3c5;\n",
       "  color: #000000;\n",
       "}\n",
       "#T_4ebe9_row2_col3 {\n",
       "  background-color: #5875e1;\n",
       "  color: #f1f1f1;\n",
       "}\n",
       "#T_4ebe9_row2_col4, #T_4ebe9_row4_col11, #T_4ebe9_row7_col4 {\n",
       "  background-color: #8fb1fe;\n",
       "  color: #000000;\n",
       "}\n",
       "#T_4ebe9_row2_col6 {\n",
       "  background-color: #f59c7d;\n",
       "  color: #000000;\n",
       "}\n",
       "#T_4ebe9_row2_col7, #T_4ebe9_row6_col2 {\n",
       "  background-color: #f4987a;\n",
       "  color: #000000;\n",
       "}\n",
       "#T_4ebe9_row2_col8 {\n",
       "  background-color: #f7bca1;\n",
       "  color: #000000;\n",
       "}\n",
       "#T_4ebe9_row2_col9, #T_4ebe9_row9_col2 {\n",
       "  background-color: #f08a6c;\n",
       "  color: #f1f1f1;\n",
       "}\n",
       "#T_4ebe9_row2_col11 {\n",
       "  background-color: #e6d7cf;\n",
       "  color: #000000;\n",
       "}\n",
       "#T_4ebe9_row3_col0 {\n",
       "  background-color: #4c66d6;\n",
       "  color: #f1f1f1;\n",
       "}\n",
       "#T_4ebe9_row3_col1, #T_4ebe9_row4_col3 {\n",
       "  background-color: #6c8ff1;\n",
       "  color: #f1f1f1;\n",
       "}\n",
       "#T_4ebe9_row3_col2, #T_4ebe9_row3_col7 {\n",
       "  background-color: #80a3fa;\n",
       "  color: #f1f1f1;\n",
       "}\n",
       "#T_4ebe9_row3_col4, #T_4ebe9_row7_col3 {\n",
       "  background-color: #5977e3;\n",
       "  color: #f1f1f1;\n",
       "}\n",
       "#T_4ebe9_row3_col5 {\n",
       "  background-color: #9fbfff;\n",
       "  color: #000000;\n",
       "}\n",
       "#T_4ebe9_row3_col6, #T_4ebe9_row3_col11 {\n",
       "  background-color: #7da0f9;\n",
       "  color: #f1f1f1;\n",
       "}\n",
       "#T_4ebe9_row3_col9 {\n",
       "  background-color: #84a7fc;\n",
       "  color: #f1f1f1;\n",
       "}\n",
       "#T_4ebe9_row3_col10, #T_4ebe9_row6_col5 {\n",
       "  background-color: #4257c9;\n",
       "  color: #f1f1f1;\n",
       "}\n",
       "#T_4ebe9_row4_col0, #T_4ebe9_row10_col9 {\n",
       "  background-color: #89acfd;\n",
       "  color: #000000;\n",
       "}\n",
       "#T_4ebe9_row4_col2, #T_4ebe9_row6_col0 {\n",
       "  background-color: #bed2f6;\n",
       "  color: #000000;\n",
       "}\n",
       "#T_4ebe9_row4_col5 {\n",
       "  background-color: #7699f6;\n",
       "  color: #f1f1f1;\n",
       "}\n",
       "#T_4ebe9_row4_col6 {\n",
       "  background-color: #b6cefa;\n",
       "  color: #000000;\n",
       "}\n",
       "#T_4ebe9_row4_col7 {\n",
       "  background-color: #bcd2f7;\n",
       "  color: #000000;\n",
       "}\n",
       "#T_4ebe9_row4_col9 {\n",
       "  background-color: #c0d4f5;\n",
       "  color: #000000;\n",
       "}\n",
       "#T_4ebe9_row4_col10 {\n",
       "  background-color: #4055c8;\n",
       "  color: #f1f1f1;\n",
       "}\n",
       "#T_4ebe9_row5_col3, #T_4ebe9_row10_col11 {\n",
       "  background-color: #7a9df8;\n",
       "  color: #f1f1f1;\n",
       "}\n",
       "#T_4ebe9_row6_col1 {\n",
       "  background-color: #ead5c9;\n",
       "  color: #000000;\n",
       "}\n",
       "#T_4ebe9_row6_col3, #T_4ebe9_row9_col3 {\n",
       "  background-color: #5d7ce6;\n",
       "  color: #f1f1f1;\n",
       "}\n",
       "#T_4ebe9_row6_col4 {\n",
       "  background-color: #8caffe;\n",
       "  color: #000000;\n",
       "}\n",
       "#T_4ebe9_row6_col7 {\n",
       "  background-color: #f6a586;\n",
       "  color: #000000;\n",
       "}\n",
       "#T_4ebe9_row6_col8 {\n",
       "  background-color: #f5c4ac;\n",
       "  color: #000000;\n",
       "}\n",
       "#T_4ebe9_row6_col9, #T_4ebe9_row9_col7 {\n",
       "  background-color: #f39475;\n",
       "  color: #000000;\n",
       "}\n",
       "#T_4ebe9_row6_col10, #T_4ebe9_row9_col10 {\n",
       "  background-color: #3d50c3;\n",
       "  color: #f1f1f1;\n",
       "}\n",
       "#T_4ebe9_row6_col11 {\n",
       "  background-color: #e0dbd8;\n",
       "  color: #000000;\n",
       "}\n",
       "#T_4ebe9_row7_col2, #T_4ebe9_row9_col6 {\n",
       "  background-color: #f39778;\n",
       "  color: #000000;\n",
       "}\n",
       "#T_4ebe9_row7_col6 {\n",
       "  background-color: #f7a688;\n",
       "  color: #000000;\n",
       "}\n",
       "#T_4ebe9_row7_col9 {\n",
       "  background-color: #f29274;\n",
       "  color: #f1f1f1;\n",
       "}\n",
       "#T_4ebe9_row7_col11 {\n",
       "  background-color: #dadce0;\n",
       "  color: #000000;\n",
       "}\n",
       "#T_4ebe9_row8_col0 {\n",
       "  background-color: #afcafc;\n",
       "  color: #000000;\n",
       "}\n",
       "#T_4ebe9_row8_col1 {\n",
       "  background-color: #d9dce1;\n",
       "  color: #000000;\n",
       "}\n",
       "#T_4ebe9_row8_col2 {\n",
       "  background-color: #f7b79b;\n",
       "  color: #000000;\n",
       "}\n",
       "#T_4ebe9_row8_col3 {\n",
       "  background-color: #7295f4;\n",
       "  color: #f1f1f1;\n",
       "}\n",
       "#T_4ebe9_row8_col4, #T_4ebe9_row10_col6 {\n",
       "  background-color: #82a6fb;\n",
       "  color: #f1f1f1;\n",
       "}\n",
       "#T_4ebe9_row8_col5 {\n",
       "  background-color: #4961d2;\n",
       "  color: #f1f1f1;\n",
       "}\n",
       "#T_4ebe9_row8_col6, #T_4ebe9_row8_col7 {\n",
       "  background-color: #f5c1a9;\n",
       "  color: #000000;\n",
       "}\n",
       "#T_4ebe9_row8_col9 {\n",
       "  background-color: #f7b093;\n",
       "  color: #000000;\n",
       "}\n",
       "#T_4ebe9_row8_col10 {\n",
       "  background-color: #4358cb;\n",
       "  color: #f1f1f1;\n",
       "}\n",
       "#T_4ebe9_row8_col11 {\n",
       "  background-color: #e9785d;\n",
       "  color: #f1f1f1;\n",
       "}\n",
       "#T_4ebe9_row9_col0 {\n",
       "  background-color: #c4d5f3;\n",
       "  color: #000000;\n",
       "}\n",
       "#T_4ebe9_row9_col4 {\n",
       "  background-color: #93b5fe;\n",
       "  color: #000000;\n",
       "}\n",
       "#T_4ebe9_row9_col8 {\n",
       "  background-color: #f7b599;\n",
       "  color: #000000;\n",
       "}\n",
       "#T_4ebe9_row9_col11 {\n",
       "  background-color: #ebd3c6;\n",
       "  color: #000000;\n",
       "}\n",
       "#T_4ebe9_row10_col0 {\n",
       "  background-color: #7597f6;\n",
       "  color: #f1f1f1;\n",
       "}\n",
       "#T_4ebe9_row10_col1, #T_4ebe9_row11_col3 {\n",
       "  background-color: #6e90f2;\n",
       "  color: #f1f1f1;\n",
       "}\n",
       "#T_4ebe9_row10_col2 {\n",
       "  background-color: #88abfd;\n",
       "  color: #000000;\n",
       "}\n",
       "#T_4ebe9_row10_col3 {\n",
       "  background-color: #6687ed;\n",
       "  color: #f1f1f1;\n",
       "}\n",
       "#T_4ebe9_row10_col4 {\n",
       "  background-color: #536edd;\n",
       "  color: #f1f1f1;\n",
       "}\n",
       "#T_4ebe9_row10_col7 {\n",
       "  background-color: #85a8fc;\n",
       "  color: #f1f1f1;\n",
       "}\n",
       "#T_4ebe9_row10_col8 {\n",
       "  background-color: #81a4fb;\n",
       "  color: #f1f1f1;\n",
       "}\n",
       "#T_4ebe9_row11_col2 {\n",
       "  background-color: #eed0c0;\n",
       "  color: #000000;\n",
       "}\n",
       "#T_4ebe9_row11_col4 {\n",
       "  background-color: #7093f3;\n",
       "  color: #f1f1f1;\n",
       "}\n",
       "#T_4ebe9_row11_col6 {\n",
       "  background-color: #e8d6cc;\n",
       "  color: #000000;\n",
       "}\n",
       "#T_4ebe9_row11_col7 {\n",
       "  background-color: #e5d8d1;\n",
       "  color: #000000;\n",
       "}\n",
       "#T_4ebe9_row11_col8 {\n",
       "  background-color: #e7745b;\n",
       "  color: #f1f1f1;\n",
       "}\n",
       "#T_4ebe9_row11_col9 {\n",
       "  background-color: #f1ccb8;\n",
       "  color: #000000;\n",
       "}\n",
       "#T_4ebe9_row11_col10 {\n",
       "  background-color: #485fd1;\n",
       "  color: #f1f1f1;\n",
       "}\n",
       "</style>\n",
       "<table id=\"T_4ebe9\">\n",
       "  <thead>\n",
       "    <tr>\n",
       "      <th class=\"blank level0\" >&nbsp;</th>\n",
       "      <th id=\"T_4ebe9_level0_col0\" class=\"col_heading level0 col0\" >age</th>\n",
       "      <th id=\"T_4ebe9_level0_col1\" class=\"col_heading level0 col1\" >default</th>\n",
       "      <th id=\"T_4ebe9_level0_col2\" class=\"col_heading level0 col2\" >balance</th>\n",
       "      <th id=\"T_4ebe9_level0_col3\" class=\"col_heading level0 col3\" >housing</th>\n",
       "      <th id=\"T_4ebe9_level0_col4\" class=\"col_heading level0 col4\" >loan</th>\n",
       "      <th id=\"T_4ebe9_level0_col5\" class=\"col_heading level0 col5\" >contact</th>\n",
       "      <th id=\"T_4ebe9_level0_col6\" class=\"col_heading level0 col6\" >duration</th>\n",
       "      <th id=\"T_4ebe9_level0_col7\" class=\"col_heading level0 col7\" >campaign</th>\n",
       "      <th id=\"T_4ebe9_level0_col8\" class=\"col_heading level0 col8\" >pdays</th>\n",
       "      <th id=\"T_4ebe9_level0_col9\" class=\"col_heading level0 col9\" >previous</th>\n",
       "      <th id=\"T_4ebe9_level0_col10\" class=\"col_heading level0 col10\" >isSunday</th>\n",
       "      <th id=\"T_4ebe9_level0_col11\" class=\"col_heading level0 col11\" >previously_contacted</th>\n",
       "    </tr>\n",
       "  </thead>\n",
       "  <tbody>\n",
       "    <tr>\n",
       "      <th id=\"T_4ebe9_level0_row0\" class=\"row_heading level0 row0\" >age</th>\n",
       "      <td id=\"T_4ebe9_row0_col0\" class=\"data row0 col0\" >1.000000</td>\n",
       "      <td id=\"T_4ebe9_row0_col1\" class=\"data row0 col1\" >0.181131</td>\n",
       "      <td id=\"T_4ebe9_row0_col2\" class=\"data row0 col2\" >0.289150</td>\n",
       "      <td id=\"T_4ebe9_row0_col3\" class=\"data row0 col3\" >-0.154241</td>\n",
       "      <td id=\"T_4ebe9_row0_col4\" class=\"data row0 col4\" >0.064136</td>\n",
       "      <td id=\"T_4ebe9_row0_col5\" class=\"data row0 col5\" >-0.229445</td>\n",
       "      <td id=\"T_4ebe9_row0_col6\" class=\"data row0 col6\" >0.255573</td>\n",
       "      <td id=\"T_4ebe9_row0_col7\" class=\"data row0 col7\" >0.269439</td>\n",
       "      <td id=\"T_4ebe9_row0_col8\" class=\"data row0 col8\" >0.199507</td>\n",
       "      <td id=\"T_4ebe9_row0_col9\" class=\"data row0 col9\" >0.277487</td>\n",
       "      <td id=\"T_4ebe9_row0_col10\" class=\"data row0 col10\" >-0.006852</td>\n",
       "      <td id=\"T_4ebe9_row0_col11\" class=\"data row0 col11\" >0.166414</td>\n",
       "    </tr>\n",
       "    <tr>\n",
       "      <th id=\"T_4ebe9_level0_row1\" class=\"row_heading level0 row1\" >default</th>\n",
       "      <td id=\"T_4ebe9_row1_col0\" class=\"data row1 col0\" >0.181131</td>\n",
       "      <td id=\"T_4ebe9_row1_col1\" class=\"data row1 col1\" >1.000000</td>\n",
       "      <td id=\"T_4ebe9_row1_col2\" class=\"data row1 col2\" >0.475008</td>\n",
       "      <td id=\"T_4ebe9_row1_col3\" class=\"data row1 col3\" >-0.019287</td>\n",
       "      <td id=\"T_4ebe9_row1_col4\" class=\"data row1 col4\" >0.181860</td>\n",
       "      <td id=\"T_4ebe9_row1_col5\" class=\"data row1 col5\" >-0.210486</td>\n",
       "      <td id=\"T_4ebe9_row1_col6\" class=\"data row1 col6\" >0.458076</td>\n",
       "      <td id=\"T_4ebe9_row1_col7\" class=\"data row1 col7\" >0.473876</td>\n",
       "      <td id=\"T_4ebe9_row1_col8\" class=\"data row1 col8\" >0.376927</td>\n",
       "      <td id=\"T_4ebe9_row1_col9\" class=\"data row1 col9\" >0.493975</td>\n",
       "      <td id=\"T_4ebe9_row1_col10\" class=\"data row1 col10\" >-0.014106</td>\n",
       "      <td id=\"T_4ebe9_row1_col11\" class=\"data row1 col11\" >0.279765</td>\n",
       "    </tr>\n",
       "    <tr>\n",
       "      <th id=\"T_4ebe9_level0_row2\" class=\"row_heading level0 row2\" >balance</th>\n",
       "      <td id=\"T_4ebe9_row2_col0\" class=\"data row2 col0\" >0.289150</td>\n",
       "      <td id=\"T_4ebe9_row2_col1\" class=\"data row2 col1\" >0.475008</td>\n",
       "      <td id=\"T_4ebe9_row2_col2\" class=\"data row2 col2\" >1.000000</td>\n",
       "      <td id=\"T_4ebe9_row2_col3\" class=\"data row2 col3\" >-0.044313</td>\n",
       "      <td id=\"T_4ebe9_row2_col4\" class=\"data row2 col4\" >0.193390</td>\n",
       "      <td id=\"T_4ebe9_row2_col5\" class=\"data row2 col5\" >-0.329650</td>\n",
       "      <td id=\"T_4ebe9_row2_col6\" class=\"data row2 col6\" >0.669737</td>\n",
       "      <td id=\"T_4ebe9_row2_col7\" class=\"data row2 col7\" >0.674339</td>\n",
       "      <td id=\"T_4ebe9_row2_col8\" class=\"data row2 col8\" >0.562097</td>\n",
       "      <td id=\"T_4ebe9_row2_col9\" class=\"data row2 col9\" >0.716816</td>\n",
       "      <td id=\"T_4ebe9_row2_col10\" class=\"data row2 col10\" >-0.013649</td>\n",
       "      <td id=\"T_4ebe9_row2_col11\" class=\"data row2 col11\" >0.437320</td>\n",
       "    </tr>\n",
       "    <tr>\n",
       "      <th id=\"T_4ebe9_level0_row3\" class=\"row_heading level0 row3\" >housing</th>\n",
       "      <td id=\"T_4ebe9_row3_col0\" class=\"data row3 col0\" >-0.154241</td>\n",
       "      <td id=\"T_4ebe9_row3_col1\" class=\"data row3 col1\" >-0.019287</td>\n",
       "      <td id=\"T_4ebe9_row3_col2\" class=\"data row3 col2\" >-0.044313</td>\n",
       "      <td id=\"T_4ebe9_row3_col3\" class=\"data row3 col3\" >1.000000</td>\n",
       "      <td id=\"T_4ebe9_row3_col4\" class=\"data row3 col4\" >0.026333</td>\n",
       "      <td id=\"T_4ebe9_row3_col5\" class=\"data row3 col5\" >0.071685</td>\n",
       "      <td id=\"T_4ebe9_row3_col6\" class=\"data row3 col6\" >-0.026819</td>\n",
       "      <td id=\"T_4ebe9_row3_col7\" class=\"data row3 col7\" >-0.038591</td>\n",
       "      <td id=\"T_4ebe9_row3_col8\" class=\"data row3 col8\" >0.047196</td>\n",
       "      <td id=\"T_4ebe9_row3_col9\" class=\"data row3 col9\" >-0.027160</td>\n",
       "      <td id=\"T_4ebe9_row3_col10\" class=\"data row3 col10\" >0.004708</td>\n",
       "      <td id=\"T_4ebe9_row3_col11\" class=\"data row3 col11\" >0.034108</td>\n",
       "    </tr>\n",
       "    <tr>\n",
       "      <th id=\"T_4ebe9_level0_row4\" class=\"row_heading level0 row4\" >loan</th>\n",
       "      <td id=\"T_4ebe9_row4_col0\" class=\"data row4 col0\" >0.064136</td>\n",
       "      <td id=\"T_4ebe9_row4_col1\" class=\"data row4 col1\" >0.181860</td>\n",
       "      <td id=\"T_4ebe9_row4_col2\" class=\"data row4 col2\" >0.193390</td>\n",
       "      <td id=\"T_4ebe9_row4_col3\" class=\"data row4 col3\" >0.026333</td>\n",
       "      <td id=\"T_4ebe9_row4_col4\" class=\"data row4 col4\" >1.000000</td>\n",
       "      <td id=\"T_4ebe9_row4_col5\" class=\"data row4 col5\" >-0.082935</td>\n",
       "      <td id=\"T_4ebe9_row4_col6\" class=\"data row4 col6\" >0.184147</td>\n",
       "      <td id=\"T_4ebe9_row4_col7\" class=\"data row4 col7\" >0.192926</td>\n",
       "      <td id=\"T_4ebe9_row4_col8\" class=\"data row4 col8\" >0.155936</td>\n",
       "      <td id=\"T_4ebe9_row4_col9\" class=\"data row4 col9\" >0.206297</td>\n",
       "      <td id=\"T_4ebe9_row4_col10\" class=\"data row4 col10\" >0.003285</td>\n",
       "      <td id=\"T_4ebe9_row4_col11\" class=\"data row4 col11\" >0.100025</td>\n",
       "    </tr>\n",
       "    <tr>\n",
       "      <th id=\"T_4ebe9_level0_row5\" class=\"row_heading level0 row5\" >contact</th>\n",
       "      <td id=\"T_4ebe9_row5_col0\" class=\"data row5 col0\" >-0.229445</td>\n",
       "      <td id=\"T_4ebe9_row5_col1\" class=\"data row5 col1\" >-0.210486</td>\n",
       "      <td id=\"T_4ebe9_row5_col2\" class=\"data row5 col2\" >-0.329650</td>\n",
       "      <td id=\"T_4ebe9_row5_col3\" class=\"data row5 col3\" >0.071685</td>\n",
       "      <td id=\"T_4ebe9_row5_col4\" class=\"data row5 col4\" >-0.082935</td>\n",
       "      <td id=\"T_4ebe9_row5_col5\" class=\"data row5 col5\" >1.000000</td>\n",
       "      <td id=\"T_4ebe9_row5_col6\" class=\"data row5 col6\" >-0.294537</td>\n",
       "      <td id=\"T_4ebe9_row5_col7\" class=\"data row5 col7\" >-0.321816</td>\n",
       "      <td id=\"T_4ebe9_row5_col8\" class=\"data row5 col8\" >-0.263777</td>\n",
       "      <td id=\"T_4ebe9_row5_col9\" class=\"data row5 col9\" >-0.327367</td>\n",
       "      <td id=\"T_4ebe9_row5_col10\" class=\"data row5 col10\" >-0.006494</td>\n",
       "      <td id=\"T_4ebe9_row5_col11\" class=\"data row5 col11\" >-0.212268</td>\n",
       "    </tr>\n",
       "    <tr>\n",
       "      <th id=\"T_4ebe9_level0_row6\" class=\"row_heading level0 row6\" >duration</th>\n",
       "      <td id=\"T_4ebe9_row6_col0\" class=\"data row6 col0\" >0.255573</td>\n",
       "      <td id=\"T_4ebe9_row6_col1\" class=\"data row6 col1\" >0.458076</td>\n",
       "      <td id=\"T_4ebe9_row6_col2\" class=\"data row6 col2\" >0.669737</td>\n",
       "      <td id=\"T_4ebe9_row6_col3\" class=\"data row6 col3\" >-0.026819</td>\n",
       "      <td id=\"T_4ebe9_row6_col4\" class=\"data row6 col4\" >0.184147</td>\n",
       "      <td id=\"T_4ebe9_row6_col5\" class=\"data row6 col5\" >-0.294537</td>\n",
       "      <td id=\"T_4ebe9_row6_col6\" class=\"data row6 col6\" >1.000000</td>\n",
       "      <td id=\"T_4ebe9_row6_col7\" class=\"data row6 col7\" >0.630944</td>\n",
       "      <td id=\"T_4ebe9_row6_col8\" class=\"data row6 col8\" >0.527020</td>\n",
       "      <td id=\"T_4ebe9_row6_col9\" class=\"data row6 col9\" >0.683951</td>\n",
       "      <td id=\"T_4ebe9_row6_col10\" class=\"data row6 col10\" >-0.007808</td>\n",
       "      <td id=\"T_4ebe9_row6_col11\" class=\"data row6 col11\" >0.409098</td>\n",
       "    </tr>\n",
       "    <tr>\n",
       "      <th id=\"T_4ebe9_level0_row7\" class=\"row_heading level0 row7\" >campaign</th>\n",
       "      <td id=\"T_4ebe9_row7_col0\" class=\"data row7 col0\" >0.269439</td>\n",
       "      <td id=\"T_4ebe9_row7_col1\" class=\"data row7 col1\" >0.473876</td>\n",
       "      <td id=\"T_4ebe9_row7_col2\" class=\"data row7 col2\" >0.674339</td>\n",
       "      <td id=\"T_4ebe9_row7_col3\" class=\"data row7 col3\" >-0.038591</td>\n",
       "      <td id=\"T_4ebe9_row7_col4\" class=\"data row7 col4\" >0.192926</td>\n",
       "      <td id=\"T_4ebe9_row7_col5\" class=\"data row7 col5\" >-0.321816</td>\n",
       "      <td id=\"T_4ebe9_row7_col6\" class=\"data row7 col6\" >0.630944</td>\n",
       "      <td id=\"T_4ebe9_row7_col7\" class=\"data row7 col7\" >1.000000</td>\n",
       "      <td id=\"T_4ebe9_row7_col8\" class=\"data row7 col8\" >0.519469</td>\n",
       "      <td id=\"T_4ebe9_row7_col9\" class=\"data row7 col9\" >0.689211</td>\n",
       "      <td id=\"T_4ebe9_row7_col10\" class=\"data row7 col10\" >-0.019404</td>\n",
       "      <td id=\"T_4ebe9_row7_col11\" class=\"data row7 col11\" >0.383583</td>\n",
       "    </tr>\n",
       "    <tr>\n",
       "      <th id=\"T_4ebe9_level0_row8\" class=\"row_heading level0 row8\" >pdays</th>\n",
       "      <td id=\"T_4ebe9_row8_col0\" class=\"data row8 col0\" >0.199507</td>\n",
       "      <td id=\"T_4ebe9_row8_col1\" class=\"data row8 col1\" >0.376927</td>\n",
       "      <td id=\"T_4ebe9_row8_col2\" class=\"data row8 col2\" >0.562097</td>\n",
       "      <td id=\"T_4ebe9_row8_col3\" class=\"data row8 col3\" >0.047196</td>\n",
       "      <td id=\"T_4ebe9_row8_col4\" class=\"data row8 col4\" >0.155936</td>\n",
       "      <td id=\"T_4ebe9_row8_col5\" class=\"data row8 col5\" >-0.263777</td>\n",
       "      <td id=\"T_4ebe9_row8_col6\" class=\"data row8 col6\" >0.527020</td>\n",
       "      <td id=\"T_4ebe9_row8_col7\" class=\"data row8 col7\" >0.519469</td>\n",
       "      <td id=\"T_4ebe9_row8_col8\" class=\"data row8 col8\" >1.000000</td>\n",
       "      <td id=\"T_4ebe9_row8_col9\" class=\"data row8 col9\" >0.586175</td>\n",
       "      <td id=\"T_4ebe9_row8_col10\" class=\"data row8 col10\" >0.011179</td>\n",
       "      <td id=\"T_4ebe9_row8_col11\" class=\"data row8 col11\" >0.790415</td>\n",
       "    </tr>\n",
       "    <tr>\n",
       "      <th id=\"T_4ebe9_level0_row9\" class=\"row_heading level0 row9\" >previous</th>\n",
       "      <td id=\"T_4ebe9_row9_col0\" class=\"data row9 col0\" >0.277487</td>\n",
       "      <td id=\"T_4ebe9_row9_col1\" class=\"data row9 col1\" >0.493975</td>\n",
       "      <td id=\"T_4ebe9_row9_col2\" class=\"data row9 col2\" >0.716816</td>\n",
       "      <td id=\"T_4ebe9_row9_col3\" class=\"data row9 col3\" >-0.027160</td>\n",
       "      <td id=\"T_4ebe9_row9_col4\" class=\"data row9 col4\" >0.206297</td>\n",
       "      <td id=\"T_4ebe9_row9_col5\" class=\"data row9 col5\" >-0.327367</td>\n",
       "      <td id=\"T_4ebe9_row9_col6\" class=\"data row9 col6\" >0.683951</td>\n",
       "      <td id=\"T_4ebe9_row9_col7\" class=\"data row9 col7\" >0.689211</td>\n",
       "      <td id=\"T_4ebe9_row9_col8\" class=\"data row9 col8\" >0.586175</td>\n",
       "      <td id=\"T_4ebe9_row9_col9\" class=\"data row9 col9\" >1.000000</td>\n",
       "      <td id=\"T_4ebe9_row9_col10\" class=\"data row9 col10\" >-0.008936</td>\n",
       "      <td id=\"T_4ebe9_row9_col11\" class=\"data row9 col11\" >0.465256</td>\n",
       "    </tr>\n",
       "    <tr>\n",
       "      <th id=\"T_4ebe9_level0_row10\" class=\"row_heading level0 row10\" >isSunday</th>\n",
       "      <td id=\"T_4ebe9_row10_col0\" class=\"data row10 col0\" >-0.006852</td>\n",
       "      <td id=\"T_4ebe9_row10_col1\" class=\"data row10 col1\" >-0.014106</td>\n",
       "      <td id=\"T_4ebe9_row10_col2\" class=\"data row10 col2\" >-0.013649</td>\n",
       "      <td id=\"T_4ebe9_row10_col3\" class=\"data row10 col3\" >0.004708</td>\n",
       "      <td id=\"T_4ebe9_row10_col4\" class=\"data row10 col4\" >0.003285</td>\n",
       "      <td id=\"T_4ebe9_row10_col5\" class=\"data row10 col5\" >-0.006494</td>\n",
       "      <td id=\"T_4ebe9_row10_col6\" class=\"data row10 col6\" >-0.007808</td>\n",
       "      <td id=\"T_4ebe9_row10_col7\" class=\"data row10 col7\" >-0.019404</td>\n",
       "      <td id=\"T_4ebe9_row10_col8\" class=\"data row10 col8\" >0.011179</td>\n",
       "      <td id=\"T_4ebe9_row10_col9\" class=\"data row10 col9\" >-0.008936</td>\n",
       "      <td id=\"T_4ebe9_row10_col10\" class=\"data row10 col10\" >1.000000</td>\n",
       "      <td id=\"T_4ebe9_row10_col11\" class=\"data row10 col11\" >0.027176</td>\n",
       "    </tr>\n",
       "    <tr>\n",
       "      <th id=\"T_4ebe9_level0_row11\" class=\"row_heading level0 row11\" >previously_contacted</th>\n",
       "      <td id=\"T_4ebe9_row11_col0\" class=\"data row11 col0\" >0.166414</td>\n",
       "      <td id=\"T_4ebe9_row11_col1\" class=\"data row11 col1\" >0.279765</td>\n",
       "      <td id=\"T_4ebe9_row11_col2\" class=\"data row11 col2\" >0.437320</td>\n",
       "      <td id=\"T_4ebe9_row11_col3\" class=\"data row11 col3\" >0.034108</td>\n",
       "      <td id=\"T_4ebe9_row11_col4\" class=\"data row11 col4\" >0.100025</td>\n",
       "      <td id=\"T_4ebe9_row11_col5\" class=\"data row11 col5\" >-0.212268</td>\n",
       "      <td id=\"T_4ebe9_row11_col6\" class=\"data row11 col6\" >0.409098</td>\n",
       "      <td id=\"T_4ebe9_row11_col7\" class=\"data row11 col7\" >0.383583</td>\n",
       "      <td id=\"T_4ebe9_row11_col8\" class=\"data row11 col8\" >0.790415</td>\n",
       "      <td id=\"T_4ebe9_row11_col9\" class=\"data row11 col9\" >0.465256</td>\n",
       "      <td id=\"T_4ebe9_row11_col10\" class=\"data row11 col10\" >0.027176</td>\n",
       "      <td id=\"T_4ebe9_row11_col11\" class=\"data row11 col11\" >1.000000</td>\n",
       "    </tr>\n",
       "  </tbody>\n",
       "</table>\n"
      ],
      "text/plain": [
       "<pandas.io.formats.style.Styler at 0x7cad8a53d1b0>"
      ]
     },
     "execution_count": 27,
     "metadata": {},
     "output_type": "execute_result"
    }
   ],
   "source": [
    "corr = train.select_dtypes(include=['int64', 'float64']).corr()\n",
    "corr.style.background_gradient(cmap='coolwarm')"
   ]
  },
  {
   "cell_type": "markdown",
   "id": "1910fb80",
   "metadata": {
    "papermill": {
     "duration": 0.022805,
     "end_time": "2024-10-27T14:04:57.587382",
     "exception": false,
     "start_time": "2024-10-27T14:04:57.564577",
     "status": "completed"
    },
    "tags": []
   },
   "source": [
    "# Converted the (0,1) ===> (no,yes)\n",
    "# chose the features\n"
   ]
  },
  {
   "cell_type": "code",
   "execution_count": 28,
   "id": "0c84038a",
   "metadata": {
    "execution": {
     "iopub.execute_input": "2024-10-27T14:04:57.634776Z",
     "iopub.status.busy": "2024-10-27T14:04:57.634245Z",
     "iopub.status.idle": "2024-10-27T14:04:57.640677Z",
     "shell.execute_reply": "2024-10-27T14:04:57.639190Z"
    },
    "papermill": {
     "duration": 0.032832,
     "end_time": "2024-10-27T14:04:57.643615",
     "exception": false,
     "start_time": "2024-10-27T14:04:57.610783",
     "status": "completed"
    },
    "tags": []
   },
   "outputs": [],
   "source": [
    "# train_yes=train[train['target']=='no'].sample(15000 , random_state=42)\n",
    "# train_no=train[train['target']=='yes']\n",
    "\n",
    "# train= pd.concat([train_yes, train_no])"
   ]
  },
  {
   "cell_type": "code",
   "execution_count": 29,
   "id": "dee40205",
   "metadata": {
    "execution": {
     "iopub.execute_input": "2024-10-27T14:04:57.692769Z",
     "iopub.status.busy": "2024-10-27T14:04:57.692337Z",
     "iopub.status.idle": "2024-10-27T14:04:57.717232Z",
     "shell.execute_reply": "2024-10-27T14:04:57.714915Z"
    },
    "papermill": {
     "duration": 0.053171,
     "end_time": "2024-10-27T14:04:57.720469",
     "exception": false,
     "start_time": "2024-10-27T14:04:57.667298",
     "status": "completed"
    },
    "tags": []
   },
   "outputs": [],
   "source": [
    "train['target'] = train['target'].map({'yes': 1, 'no': 0})\n",
    "y=train['target']\n",
    "\n",
    "         \n",
    "\n",
    " \n",
    "   \n",
    "train=train[['age','balance','campaign','previous','duration' ,'job','marital','poutcome' ,'education','previously_contacted' ,'default','housing','loan','contact' ,'Age_Category','day', 'month','isSunday']]\n",
    "\n",
    "\n",
    "\n",
    "test=test[['age','balance','campaign','previous','duration' ,'job','marital','poutcome' ,'education','previously_contacted' ,'default','housing','loan','contact' ,'Age_Category','day', 'month','isSunday']]\n"
   ]
  },
  {
   "cell_type": "code",
   "execution_count": 30,
   "id": "aaaaeb46",
   "metadata": {
    "execution": {
     "iopub.execute_input": "2024-10-27T14:04:57.769313Z",
     "iopub.status.busy": "2024-10-27T14:04:57.768876Z",
     "iopub.status.idle": "2024-10-27T14:04:57.776339Z",
     "shell.execute_reply": "2024-10-27T14:04:57.775033Z"
    },
    "papermill": {
     "duration": 0.034666,
     "end_time": "2024-10-27T14:04:57.778735",
     "exception": false,
     "start_time": "2024-10-27T14:04:57.744069",
     "status": "completed"
    },
    "tags": []
   },
   "outputs": [
    {
     "name": "stdout",
     "output_type": "stream",
     "text": [
      "target\n",
      "0    33384\n",
      "1     5827\n",
      "Name: count, dtype: int64\n"
     ]
    }
   ],
   "source": [
    "print(y.value_counts())"
   ]
  },
  {
   "cell_type": "markdown",
   "id": "8b54e655",
   "metadata": {
    "papermill": {
     "duration": 0.022232,
     "end_time": "2024-10-27T14:04:57.823986",
     "exception": false,
     "start_time": "2024-10-27T14:04:57.801754",
     "status": "completed"
    },
    "tags": []
   },
   "source": [
    "# train test split\n",
    "xtrain , xtest , ytrain , ytest"
   ]
  },
  {
   "cell_type": "code",
   "execution_count": 31,
   "id": "832541fb",
   "metadata": {
    "execution": {
     "iopub.execute_input": "2024-10-27T14:04:57.870563Z",
     "iopub.status.busy": "2024-10-27T14:04:57.870117Z",
     "iopub.status.idle": "2024-10-27T14:04:57.911178Z",
     "shell.execute_reply": "2024-10-27T14:04:57.909828Z"
    },
    "papermill": {
     "duration": 0.067578,
     "end_time": "2024-10-27T14:04:57.913738",
     "exception": false,
     "start_time": "2024-10-27T14:04:57.846160",
     "status": "completed"
    },
    "tags": []
   },
   "outputs": [
    {
     "name": "stdout",
     "output_type": "stream",
     "text": [
      "Train\n",
      "--------------------------------------------------\n",
      "xtrain, ytrain shape ((31368, 18), (31368,))\n",
      "\n",
      "Test\n",
      "--------------------------------------------------\n",
      "xtest, ytest shape ((7843, 18), (7843,))\n"
     ]
    }
   ],
   "source": [
    "\n",
    "\n",
    "xtrain , xtest , ytrain , ytest = train_test_split(train , y ,test_size=0.2, random_state=1 , shuffle=True , stratify=y)\n",
    "\n",
    "\n",
    "print(\"Train\")\n",
    "print(\"--------------------------------------------------\")\n",
    "print(\"xtrain, ytrain shape\" , (xtrain.shape , ytrain.shape))\n",
    "print(\"\")\n",
    "print(\"Test\")\n",
    "print(\"--------------------------------------------------\")\n",
    "print(\"xtest, ytest shape\" , (xtest.shape , ytest.shape))\n",
    "\n"
   ]
  },
  {
   "cell_type": "code",
   "execution_count": 32,
   "id": "50a04b06",
   "metadata": {
    "execution": {
     "iopub.execute_input": "2024-10-27T14:04:57.961905Z",
     "iopub.status.busy": "2024-10-27T14:04:57.961496Z",
     "iopub.status.idle": "2024-10-27T14:04:57.967365Z",
     "shell.execute_reply": "2024-10-27T14:04:57.965941Z"
    },
    "papermill": {
     "duration": 0.031931,
     "end_time": "2024-10-27T14:04:57.969749",
     "exception": false,
     "start_time": "2024-10-27T14:04:57.937818",
     "status": "completed"
    },
    "tags": []
   },
   "outputs": [],
   "source": [
    "\n",
    "smote= SMOTETomek( random_state=42,sampling_strategy='minority')\n",
    "\n"
   ]
  },
  {
   "cell_type": "code",
   "execution_count": 33,
   "id": "765af9da",
   "metadata": {
    "execution": {
     "iopub.execute_input": "2024-10-27T14:04:58.017031Z",
     "iopub.status.busy": "2024-10-27T14:04:58.016607Z",
     "iopub.status.idle": "2024-10-27T14:05:01.841530Z",
     "shell.execute_reply": "2024-10-27T14:05:01.840140Z"
    },
    "papermill": {
     "duration": 3.852392,
     "end_time": "2024-10-27T14:05:01.844901",
     "exception": false,
     "start_time": "2024-10-27T14:04:57.992509",
     "status": "completed"
    },
    "tags": []
   },
   "outputs": [
    {
     "name": "stdout",
     "output_type": "stream",
     "text": [
      "randomForestClassifier f1_score  0.7566385242002078\n",
      "Classification Report\n",
      "              precision    recall  f1-score   support\n",
      "\n",
      "           0       0.97      0.84      0.90      6677\n",
      "           1       0.48      0.83      0.61      1166\n",
      "\n",
      "    accuracy                           0.84      7843\n",
      "   macro avg       0.73      0.84      0.76      7843\n",
      "weighted avg       0.89      0.84      0.86      7843\n",
      "\n",
      "Confusion Matrix\n"
     ]
    },
    {
     "data": {
      "text/plain": [
       "<sklearn.metrics._plot.confusion_matrix.ConfusionMatrixDisplay at 0x7cad8a60d150>"
      ]
     },
     "execution_count": 33,
     "metadata": {},
     "output_type": "execute_result"
    },
    {
     "data": {
      "image/png": "[encoded data removed]",
      "text/plain": [
       "<Figure size 640x480 with 2 Axes>"
      ]
     },
     "metadata": {},
     "output_type": "display_data"
    }
   ],
   "source": [
    "\n",
    "rf=RandomForestClassifier(random_state=1 , n_estimators=100, max_depth=10 , min_samples_split=3 , min_samples_leaf=3 , class_weight='balanced')\n",
    "randomForestClassifier=Pipeline([('col_transformer',col_transformer),('randomForest',rf)])\n",
    "\n",
    "randomForestClassifier.fit(xtrain, ytrain)\n",
    "\n",
    "ypredicted_rf=randomForestClassifier.predict(xtest)\n",
    "\n",
    "\n",
    "\n",
    "print(   'randomForestClassifier f1_score '  ,     f1_score(ytest, ypredicted_rf  , average='macro')    )\n",
    "\n",
    "print('Classification Report')\n",
    "\n",
    "print(classification_report(ytest ,ypredicted_rf))\n",
    "\n",
    "print('Confusion Matrix')\n",
    "\n",
    "ConfusionMatrixDisplay.from_estimator(randomForestClassifier,xtest,ytest)\n"
   ]
  },
  {
   "cell_type": "code",
   "execution_count": 34,
   "id": "0b0082fd",
   "metadata": {
    "execution": {
     "iopub.execute_input": "2024-10-27T14:05:01.899553Z",
     "iopub.status.busy": "2024-10-27T14:05:01.898976Z",
     "iopub.status.idle": "2024-10-27T14:05:01.906826Z",
     "shell.execute_reply": "2024-10-27T14:05:01.905268Z"
    },
    "papermill": {
     "duration": 0.039026,
     "end_time": "2024-10-27T14:05:01.909944",
     "exception": false,
     "start_time": "2024-10-27T14:05:01.870918",
     "status": "completed"
    },
    "tags": []
   },
   "outputs": [],
   "source": [
    "# from imblearn.pipeline import Pipeline \n",
    "\n",
    "\n",
    "# stratifiedKFold=StratifiedKFold(random_state=1 , shuffle=True)\n",
    "\n",
    "# randomForestClassifier=RandomForestClassifier(random_state=1 ,n_estimators=100,class_weight='balanced', n_jobs=-1)\n",
    "\n",
    "# rf=Pipeline([('col_transformer',col_transformer),('smote',smote),('rf',randomForestClassifier)])\n",
    "\n",
    "# params={'rf__max_depth':[10,15],'rf__min_samples_split':[3,5],'rf__min_samples_leaf':[3,5]}\n",
    "\n",
    "# rf_grid=GridSearchCV(rf,param_grid=params,n_jobs=-1,cv=stratifiedKFold)\n",
    "\n",
    "# rf_grid.fit(xtrain,ytrain)\n",
    "\n",
    "# print(\"Best Params\",rf_grid.best_params_)\n",
    "\n",
    "# rf_grid=rf_grid.best_estimator_\n",
    "\n",
    "# ypred_rf_grid=rf_grid.predict(xtest)\n",
    "\n",
    "# print(   ' rf_grid f1_score macro '  ,     f1_score(ytest, ypred_rf_grid  , average='macro')    )\n",
    "\n",
    "# print('Classification Report')\n",
    "\n",
    "# print(classification_report(ytest ,ypred_rf_grid))\n",
    "\n",
    "# print('Confusion Matrix')\n",
    "\n",
    "# ConfusionMatrixDisplay.from_estimator(rf_grid,xtest,ytest)\n",
    "\n",
    "\n",
    "\n",
    "\n",
    "\n",
    "\n",
    "\n",
    "# Best Params {'rf__max_depth': 15, 'rf__min_samples_leaf': 5, 'rf__min_samples_split': 3}\n",
    "#  rf_grid f1_score macro  0.7654329463215757\n",
    "# Classification Report\n",
    "#               precision    recall  f1-score   support\n",
    "\n",
    "#            0       0.95      0.89      0.92      6677\n",
    "#            1       0.54      0.72      0.61      1166\n",
    "\n",
    "#     accuracy                           0.87      7843\n",
    "#    macro avg       0.74      0.80      0.77      7843\n",
    "# weighted avg       0.89      0.87      0.87      7843\n",
    "\n"
   ]
  },
  {
   "cell_type": "code",
   "execution_count": 35,
   "id": "fe876604",
   "metadata": {
    "execution": {
     "iopub.execute_input": "2024-10-27T14:05:01.962350Z",
     "iopub.status.busy": "2024-10-27T14:05:01.961909Z",
     "iopub.status.idle": "2024-10-27T14:05:03.090456Z",
     "shell.execute_reply": "2024-10-27T14:05:03.088717Z"
    },
    "papermill": {
     "duration": 1.159072,
     "end_time": "2024-10-27T14:05:03.093523",
     "exception": false,
     "start_time": "2024-10-27T14:05:01.934451",
     "status": "completed"
    },
    "tags": []
   },
   "outputs": [
    {
     "name": "stdout",
     "output_type": "stream",
     "text": [
      "f1_Score xgb 0.7604463778020902\n",
      "Classification Report\n",
      "              precision    recall  f1-score   support\n",
      "\n",
      "           0       0.94      0.89      0.92      6677\n",
      "           1       0.53      0.69      0.60      1166\n",
      "\n",
      "    accuracy                           0.86      7843\n",
      "   macro avg       0.74      0.79      0.76      7843\n",
      "weighted avg       0.88      0.86      0.87      7843\n",
      "\n",
      "Confusion Matrix\n"
     ]
    },
    {
     "data": {
      "text/plain": [
       "<sklearn.metrics._plot.confusion_matrix.ConfusionMatrixDisplay at 0x7cad8a430d00>"
      ]
     },
     "execution_count": 35,
     "metadata": {},
     "output_type": "execute_result"
    },
    {
     "data": {
      "image/png": "[encoded data removed]",
      "text/plain": [
       "<Figure size 640x480 with 2 Axes>"
      ]
     },
     "metadata": {},
     "output_type": "display_data"
    }
   ],
   "source": [
    "\n",
    " \n",
    "xgb=Pipeline([('col_transformer',col_transformer),('xgbb',XGBClassifier(scale_pos_weight=3))])\n",
    "xgb.fit(xtrain , ytrain)\n",
    "ypred_xgb=xgb.predict(xtest)\n",
    "\n",
    "print('f1_Score xgb',f1_score(ytest , ypred_xgb , average='macro'))\n",
    "\n",
    "\n",
    "\n",
    "\n",
    "print('Classification Report')\n",
    "\n",
    "print(classification_report(ytest ,ypred_xgb))\n",
    "\n",
    "print('Confusion Matrix')\n",
    "\n",
    "ConfusionMatrixDisplay.from_estimator(xgb,xtest,ytest)\n",
    "\n"
   ]
  },
  {
   "cell_type": "code",
   "execution_count": 36,
   "id": "2f8c9704",
   "metadata": {
    "execution": {
     "iopub.execute_input": "2024-10-27T14:05:03.141786Z",
     "iopub.status.busy": "2024-10-27T14:05:03.141288Z",
     "iopub.status.idle": "2024-10-27T14:05:03.147396Z",
     "shell.execute_reply": "2024-10-27T14:05:03.145944Z"
    },
    "papermill": {
     "duration": 0.033017,
     "end_time": "2024-10-27T14:05:03.149924",
     "exception": false,
     "start_time": "2024-10-27T14:05:03.116907",
     "status": "completed"
    },
    "tags": []
   },
   "outputs": [],
   "source": [
    "# param_grid = {\n",
    "#     'xgbb__max_depth': [3, 5, 7],'xgbb__min_child_weight': [1, 3, 5],'xgbb__gamma': [ 0.2,0.3],'xgbb__learning_rate': [0.01, 0.1, 0.2],\n",
    "    \n",
    "# }\n",
    "\n",
    "# cv_strat = StratifiedKFold(n_splits=10, shuffle=True, random_state=1)\n",
    "\n",
    "# xgb=Pipeline([('col_transformer',col_transformer),('xgbb',XGBClassifier(scale_pos_weight=3))])\n",
    "\n",
    "# grid_xgb = GridSearchCV(xgb,param_grid=param_grid,scoring='f1_macro',cv=cv_strat,verbose=1,n_jobs=-1)\n",
    "\n",
    "# grid_xgb.fit(xtrain,ytrain)\n",
    "\n",
    "# print(\"Best Params\",grid_xgb.best_params_)\n",
    "\n",
    "# grid_xgb=grid_xgb.best_estimator_\n",
    "\n",
    "# ypred_grid_xgb=grid_xgb.predict(xtest)\n",
    "\n",
    "# print(   ' grid_xgb f1_score macro '  ,     f1_score(ytest, ypred_grid_xgb , average='macro')    )\n",
    "\n",
    "# print('Classification Report')\n",
    "\n",
    "# print(classification_report(ytest ,ypred_grid_xgb))\n",
    "\n",
    "# print('Confusion Matrix')\n",
    "\n",
    "# ConfusionMatrixDisplay.from_estimator(grid_xgb,xtest,ytest)\n",
    "\n"
   ]
  },
  {
   "cell_type": "code",
   "execution_count": 37,
   "id": "e5023dad",
   "metadata": {
    "execution": {
     "iopub.execute_input": "2024-10-27T14:05:03.200443Z",
     "iopub.status.busy": "2024-10-27T14:05:03.199969Z",
     "iopub.status.idle": "2024-10-27T14:05:04.038754Z",
     "shell.execute_reply": "2024-10-27T14:05:04.037474Z"
    },
    "papermill": {
     "duration": 0.867196,
     "end_time": "2024-10-27T14:05:04.041450",
     "exception": false,
     "start_time": "2024-10-27T14:05:03.174254",
     "status": "completed"
    },
    "tags": []
   },
   "outputs": [
    {
     "name": "stdout",
     "output_type": "stream",
     "text": [
      "\n",
      "DecisionTreeClassifier f1_score macro 0.7170722811039821\n",
      "------------------------------------------------------------------------------------\n",
      "\n",
      "Classification Report\n",
      "              precision    recall  f1-score   support\n",
      "\n",
      "           0       0.95      0.83      0.88      6677\n",
      "           1       0.43      0.75      0.55      1166\n",
      "\n",
      "    accuracy                           0.82      7843\n",
      "   macro avg       0.69      0.79      0.72      7843\n",
      "weighted avg       0.87      0.82      0.83      7843\n",
      "\n",
      "\n",
      "------------------------------------------------------------------------------------\n",
      "Confusion Matrix\n",
      "\n"
     ]
    },
    {
     "data": {
      "text/plain": [
       "<sklearn.metrics._plot.confusion_matrix.ConfusionMatrixDisplay at 0x7cad8a60f2e0>"
      ]
     },
     "execution_count": 37,
     "metadata": {},
     "output_type": "execute_result"
    },
    {
     "data": {
      "image/png": "[encoded data removed]",
      "text/plain": [
       "<Figure size 640x480 with 2 Axes>"
      ]
     },
     "metadata": {},
     "output_type": "display_data"
    }
   ],
   "source": [
    "from sklearn.tree import DecisionTreeClassifier\n",
    "dt=DecisionTreeClassifier(random_state=1 ,max_depth=15 , min_samples_split=4 , min_samples_leaf=5 , class_weight='balanced' )\n",
    "dtc=Pipeline([('col_transformer',col_transformer),('dt',dt)])\n",
    "dtc.fit(xtrain , ytrain)\n",
    "ypred_dtc=dtc.predict(xtest)\n",
    "print('')\n",
    "\n",
    "print('DecisionTreeClassifier f1_score macro',f1_score(ytest, ypred_dtc , average='macro'))\n",
    "print('------------------------------------------------------------------------------------')\n",
    "print('')\n",
    "\n",
    "print('Classification Report')\n",
    "print(classification_report(ytest ,ypred_dtc))\n",
    "print('')\n",
    "print('------------------------------------------------------------------------------------')\n",
    "print('Confusion Matrix')\n",
    "print('')\n",
    "ConfusionMatrixDisplay.from_estimator(dtc,xtest,ytest)\n",
    "\n",
    "\n"
   ]
  },
  {
   "cell_type": "code",
   "execution_count": 38,
   "id": "4a280fe6",
   "metadata": {
    "execution": {
     "iopub.execute_input": "2024-10-27T14:05:04.093108Z",
     "iopub.status.busy": "2024-10-27T14:05:04.092674Z",
     "iopub.status.idle": "2024-10-27T14:05:21.213122Z",
     "shell.execute_reply": "2024-10-27T14:05:21.211771Z"
    },
    "papermill": {
     "duration": 17.14882,
     "end_time": "2024-10-27T14:05:21.215669",
     "exception": false,
     "start_time": "2024-10-27T14:05:04.066849",
     "status": "completed"
    },
    "tags": []
   },
   "outputs": [
    {
     "name": "stdout",
     "output_type": "stream",
     "text": [
      "\n",
      "RUSBoostClassifier f1_score macro 0.7726970750847155\n",
      "------------------------------------------------------------------------------------\n",
      "\n",
      "Classification Report\n",
      "              precision    recall  f1-score   support\n",
      "\n",
      "           0       0.96      0.88      0.92      6677\n",
      "           1       0.53      0.77      0.63      1166\n",
      "\n",
      "    accuracy                           0.86      7843\n",
      "   macro avg       0.74      0.83      0.77      7843\n",
      "weighted avg       0.89      0.86      0.87      7843\n",
      "\n",
      "\n",
      "------------------------------------------------------------------------------------\n",
      "Confusion Matrix\n",
      "\n"
     ]
    },
    {
     "data": {
      "text/plain": [
       "<sklearn.metrics._plot.confusion_matrix.ConfusionMatrixDisplay at 0x7cad8a4b43a0>"
      ]
     },
     "execution_count": 38,
     "metadata": {},
     "output_type": "execute_result"
    },
    {
     "data": {
      "image/png": "[encoded data removed]",
      "text/plain": [
       "<Figure size 640x480 with 2 Axes>"
      ]
     },
     "metadata": {},
     "output_type": "display_data"
    }
   ],
   "source": [
    "from imblearn.ensemble import RUSBoostClassifier\n",
    "rus=RUSBoostClassifier(estimator=dt , n_estimators=150,learning_rate=1,sampling_strategy='auto' , random_state=1)\n",
    "rus_clf=Pipeline([('col_transformer',col_transformer),('rus',rus)])\n",
    "\n",
    "rus_clf.fit(xtrain , ytrain)\n",
    "ypred_rus=rus_clf.predict(xtest)\n",
    "print('')\n",
    "\n",
    "print('RUSBoostClassifier f1_score macro',f1_score(ytest, ypred_rus , average='macro'))\n",
    "print('------------------------------------------------------------------------------------')\n",
    "print('')\n",
    "print('Classification Report')\n",
    "print(classification_report(ytest ,ypred_rus))\n",
    "print('')\n",
    "print('------------------------------------------------------------------------------------')\n",
    "print('Confusion Matrix')\n",
    "print('')\n",
    "ConfusionMatrixDisplay.from_estimator(rus_clf,xtest,ytest)\n",
    "\n",
    "\n"
   ]
  },
  {
   "cell_type": "code",
   "execution_count": 39,
   "id": "43cf0d98",
   "metadata": {
    "execution": {
     "iopub.execute_input": "2024-10-27T14:05:21.266531Z",
     "iopub.status.busy": "2024-10-27T14:05:21.266091Z",
     "iopub.status.idle": "2024-10-27T14:05:21.272397Z",
     "shell.execute_reply": "2024-10-27T14:05:21.271336Z"
    },
    "papermill": {
     "duration": 0.034292,
     "end_time": "2024-10-27T14:05:21.274757",
     "exception": false,
     "start_time": "2024-10-27T14:05:21.240465",
     "status": "completed"
    },
    "tags": []
   },
   "outputs": [],
   "source": [
    "# param={'rus__n_estimators':[100,150,200],'rus__replacement': [True, False]}\n",
    "# cv_strat = StratifiedKFold(n_splits=10, shuffle=True, random_state=1)\n",
    "# rus_clf=Pipeline([('col_transformer',col_transformer),('rus',RUSBoostClassifier(estimator=dt,learning_rate=1,sampling_strategy='auto' , random_state=1))])\n",
    "# grid_rus = GridSearchCV(rus_clf,param_grid=param,scoring='f1_macro',cv=cv_strat,verbose=1,n_jobs=-1)\n",
    "# grid_rus.fit(xtrain,ytrain)\n",
    "\n",
    "# print(\"Best Params\",grid_rus.best_params_)\n",
    "\n",
    "# grid_rus=grid_rus.best_estimator_\n",
    "\n",
    "# ypred_grid_rus=grid_rus.predict(xtest)\n",
    "\n",
    "# print(' grid_xgb f1_score macro ',f1_score(ytest, ypred_grid_rus , average='macro')    )\n",
    "# print('Classification Report')\n",
    "# print(classification_report(ytest ,ypred_grid_rus))\n",
    "# print('Confusion Matrix')\n",
    "# ConfusionMatrixDisplay.from_estimator(grid_rus,xtest,ytest)\n",
    "\n",
    "\n",
    "\n",
    "\n",
    "\n",
    "\n",
    "\n",
    "\n",
    "# Fitting 10 folds for each of 6 candidates, totalling 60 fits\n",
    "# Best Params {'rus__n_estimators': 200, 'rus__replacement': False}\n",
    "#  grid_xgb f1_score macro  0.7725800616817236\n",
    "# Classification Report\n",
    "#               precision    recall  f1-score   support\n",
    "\n",
    "#            0       0.96      0.88      0.92      6677\n",
    "#            1       0.53      0.76      0.63      1166\n",
    "\n",
    "#     accuracy                           0.87      7843\n",
    "#    macro avg       0.74      0.82      0.77      7843\n",
    "# weighted avg       0.89      0.87      0.87      7843\n"
   ]
  },
  {
   "cell_type": "code",
   "execution_count": 40,
   "id": "921586b5",
   "metadata": {
    "execution": {
     "iopub.execute_input": "2024-10-27T14:05:21.325784Z",
     "iopub.status.busy": "2024-10-27T14:05:21.324793Z",
     "iopub.status.idle": "2024-10-27T14:07:01.013997Z",
     "shell.execute_reply": "2024-10-27T14:07:01.012616Z"
    },
    "papermill": {
     "duration": 99.717255,
     "end_time": "2024-10-27T14:07:01.016500",
     "exception": false,
     "start_time": "2024-10-27T14:05:21.299245",
     "status": "completed"
    },
    "tags": []
   },
   "outputs": [
    {
     "name": "stdout",
     "output_type": "stream",
     "text": [
      "SVC f1_score macro 0.7422090174290883\n",
      "\n",
      "------------------------------------------------------------------\n",
      "\n",
      "Classification Report SVC\n",
      "\n",
      "              precision    recall  f1-score   support\n",
      "\n",
      "           0       0.96      0.85      0.90      6677\n",
      "           1       0.47      0.78      0.59      1166\n",
      "\n",
      "    accuracy                           0.84      7843\n",
      "   macro avg       0.71      0.81      0.74      7843\n",
      "weighted avg       0.88      0.84      0.85      7843\n",
      "\n",
      "------------------------------------------------------------------\n",
      "\n",
      "Confusion Matrix SVC\n"
     ]
    },
    {
     "data": {
      "text/plain": [
       "<sklearn.metrics._plot.confusion_matrix.ConfusionMatrixDisplay at 0x7cad8a53eec0>"
      ]
     },
     "execution_count": 40,
     "metadata": {},
     "output_type": "execute_result"
    },
    {
     "data": {
      "image/png": "[encoded data removed]",
      "text/plain": [
       "<Figure size 640x480 with 2 Axes>"
      ]
     },
     "metadata": {},
     "output_type": "display_data"
    }
   ],
   "source": [
    "from sklearn.svm import SVC\n",
    "svc=SVC(random_state=1 ,class_weight='balanced')\n",
    "svc=Pipeline([('col_transformer',col_transformer),('svc',svc)])\n",
    "svc.fit(xtrain , ytrain)\n",
    "ypred_svc=svc.predict(xtest)\n",
    "print(\"SVC f1_score macro\" , f1_score(ytest , ypred_svc ,average='macro'))\n",
    "print('')\n",
    "print('------------------------------------------------------------------')\n",
    "print('')\n",
    "print('Classification Report SVC')\n",
    "print('')\n",
    "print(classification_report(ytest , ypred_svc))\n",
    "print('------------------------------------------------------------------')\n",
    "print('')\n",
    "print('Confusion Matrix SVC')\n",
    "ConfusionMatrixDisplay.from_estimator(svc,xtest,ytest)"
   ]
  },
  {
   "cell_type": "markdown",
   "id": "739b1a3f",
   "metadata": {
    "papermill": {
     "duration": 0.024199,
     "end_time": "2024-10-27T14:07:01.065432",
     "exception": false,
     "start_time": "2024-10-27T14:07:01.041233",
     "status": "completed"
    },
    "tags": []
   },
   "source": [
    "# Light gbm\n"
   ]
  },
  {
   "cell_type": "code",
   "execution_count": 41,
   "id": "faa1af47",
   "metadata": {
    "execution": {
     "iopub.execute_input": "2024-10-27T14:07:01.116659Z",
     "iopub.status.busy": "2024-10-27T14:07:01.116216Z",
     "iopub.status.idle": "2024-10-27T14:07:04.105705Z",
     "shell.execute_reply": "2024-10-27T14:07:04.103738Z"
    },
    "papermill": {
     "duration": 3.018727,
     "end_time": "2024-10-27T14:07:04.108834",
     "exception": false,
     "start_time": "2024-10-27T14:07:01.090107",
     "status": "completed"
    },
    "tags": []
   },
   "outputs": [
    {
     "name": "stdout",
     "output_type": "stream",
     "text": [
      "[LightGBM] [Info] Number of positive: 4661, number of negative: 26707\n",
      "[LightGBM] [Info] Auto-choosing row-wise multi-threading, the overhead of testing was 0.005737 seconds.\n",
      "You can set `force_row_wise=true` to remove the overhead.\n",
      "And if memory is not enough, you can set `force_col_wise=true`.\n",
      "[LightGBM] [Info] Total Bins 953\n",
      "[LightGBM] [Info] Number of data points in the train set: 31368, number of used features: 47\n",
      "[LightGBM] [Info] [binary:BoostFromScore]: pavg=0.148591 -> initscore=-1.745696\n",
      "[LightGBM] [Info] Start training from score -1.745696\n",
      "lgm f1_score macro 0.7712869063049196\n",
      "\n",
      "------------------------------------------------------------------\n",
      "\n",
      "Classification Report lgm\n",
      "\n",
      "              precision    recall  f1-score   support\n",
      "\n",
      "           0       0.96      0.88      0.92      6677\n",
      "           1       0.52      0.78      0.63      1166\n",
      "\n",
      "    accuracy                           0.86      7843\n",
      "   macro avg       0.74      0.83      0.77      7843\n",
      "weighted avg       0.89      0.86      0.87      7843\n",
      "\n",
      "------------------------------------------------------------------\n",
      "\n",
      "Confusion Matrix SVC\n"
     ]
    },
    {
     "data": {
      "text/plain": [
       "<sklearn.metrics._plot.confusion_matrix.ConfusionMatrixDisplay at 0x7cad8a432fe0>"
      ]
     },
     "execution_count": 41,
     "metadata": {},
     "output_type": "execute_result"
    },
    {
     "data": {
      "image/png": "[encoded data removed]",
      "text/plain": [
       "<Figure size 640x480 with 2 Axes>"
      ]
     },
     "metadata": {},
     "output_type": "display_data"
    }
   ],
   "source": [
    "from lightgbm import LGBMClassifier\n",
    "lgm=LGBMClassifier(random_state=42,n_jobs=-1,objective='binary',scale_pos_weight=3,colsample_bytree=1,n_estimators=100)\n",
    "lgm=Pipeline([('col_transformer',col_transformer),('lgm',lgm)])\n",
    "lgm.fit(xtrain , ytrain)\n",
    "ypred_lgm=lgm.predict(xtest)\n",
    "print(\"lgm f1_score macro\" , f1_score(ytest , ypred_lgm ,average='macro'))\n",
    "print('')\n",
    "print('------------------------------------------------------------------')\n",
    "print('')\n",
    "print('Classification Report lgm')\n",
    "print('')\n",
    "print(classification_report(ytest , ypred_lgm))\n",
    "print('------------------------------------------------------------------')\n",
    "print('')\n",
    "print('Confusion Matrix SVC')\n",
    "ConfusionMatrixDisplay.from_estimator(lgm,xtest,ytest)"
   ]
  },
  {
   "cell_type": "code",
   "execution_count": 42,
   "id": "cf67159f",
   "metadata": {
    "execution": {
     "iopub.execute_input": "2024-10-27T14:07:04.172300Z",
     "iopub.status.busy": "2024-10-27T14:07:04.171620Z",
     "iopub.status.idle": "2024-10-27T14:09:42.315501Z",
     "shell.execute_reply": "2024-10-27T14:09:42.314194Z"
    },
    "papermill": {
     "duration": 158.179327,
     "end_time": "2024-10-27T14:09:42.318123",
     "exception": false,
     "start_time": "2024-10-27T14:07:04.138796",
     "status": "completed"
    },
    "tags": []
   },
   "outputs": [
    {
     "name": "stdout",
     "output_type": "stream",
     "text": [
      "Best Params {'lgm__learning_rate': 0.05, 'lgm__num_leaves': 31, 'lgm__subsample': 0.7}\n",
      " grid_lgm f1_score macro  0.7724981379575366\n",
      "Classification Report\n",
      "              precision    recall  f1-score   support\n",
      "\n",
      "           0       0.96      0.88      0.92      6677\n",
      "           1       0.52      0.79      0.63      1166\n",
      "\n",
      "    accuracy                           0.86      7843\n",
      "   macro avg       0.74      0.83      0.77      7843\n",
      "weighted avg       0.89      0.86      0.87      7843\n",
      "\n",
      "Confusion Matrix\n"
     ]
    },
    {
     "data": {
      "text/plain": [
       "<sklearn.metrics._plot.confusion_matrix.ConfusionMatrixDisplay at 0x7cad8a64f400>"
      ]
     },
     "execution_count": 42,
     "metadata": {},
     "output_type": "execute_result"
    },
    {
     "data": {
      "image/png": "[encoded data removed]",
      "text/plain": [
       "<Figure size 640x480 with 2 Axes>"
      ]
     },
     "metadata": {},
     "output_type": "display_data"
    }
   ],
   "source": [
    "params = {\n",
    "    'lgm__num_leaves': [31, 50, 70, 100],'lgm__learning_rate': [0.01, 0.05, 0.1],'lgm__subsample': [0.7, 0.8, 0.9]}\n",
    "\n",
    "lgm=LGBMClassifier(random_state=42,n_jobs=-1,objective='binary',scale_pos_weight=3,verbose=0)\n",
    "lgm=Pipeline([('col_transformer',col_transformer),('lgm',lgm)])\n",
    "cv_strat = StratifiedKFold(n_splits=5, shuffle=True, random_state=1)\n",
    "grid_lgm = GridSearchCV(lgm,param_grid=params,scoring='f1_macro',cv=cv_strat,verbose=0,n_jobs=-1)\n",
    "grid_lgm.fit(xtrain,ytrain)\n",
    "\n",
    "print(\"Best Params\",grid_lgm.best_params_)\n",
    "\n",
    "grid_lgm=grid_lgm.best_estimator_\n",
    "\n",
    "ypred_grid_lgm=grid_lgm.predict(xtest)\n",
    "\n",
    "print(' grid_lgm f1_score macro ',f1_score(ytest, ypred_grid_lgm , average='macro')    )\n",
    "print('Classification Report')\n",
    "print(classification_report(ytest ,ypred_grid_lgm))\n",
    "print('Confusion Matrix')\n",
    "ConfusionMatrixDisplay.from_estimator(grid_lgm,xtest,ytest)\n",
    "\n"
   ]
  },
  {
   "cell_type": "code",
   "execution_count": 43,
   "id": "2b67e882",
   "metadata": {
    "execution": {
     "iopub.execute_input": "2024-10-27T14:09:42.373301Z",
     "iopub.status.busy": "2024-10-27T14:09:42.372822Z",
     "iopub.status.idle": "2024-10-27T14:09:42.378483Z",
     "shell.execute_reply": "2024-10-27T14:09:42.377328Z"
    },
    "papermill": {
     "duration": 0.035799,
     "end_time": "2024-10-27T14:09:42.380877",
     "exception": false,
     "start_time": "2024-10-27T14:09:42.345078",
     "status": "completed"
    },
    "tags": []
   },
   "outputs": [],
   "source": [
    "# selection=random\n",
    "# from sklearn.linear_model import LogisticRegression\n",
    "# rsKF=RepeatedStratifiedKFold(random_state=1)\n",
    "# log = LogisticRegression(penalty='l1', solver='saga', class_weight='balanced', random_state=1, max_iter=3000,n_jobs=-1 , C=0.01 )\n",
    "\n",
    "# logistic=Pipeline([('col_transformer',col_transformer),('logistic',log)])\n",
    "\n",
    "# logistic.fit(xtrain, ytrain)\n",
    "\n",
    "# ypred_logistic=logistic.predict(xtest)\n",
    "\n",
    "# print(   'logistic f1_score '  ,     f1_score(ytest, ypred_logistic  , average='macro')    )\n",
    "\n",
    "# print('Classification Report')\n",
    "\n",
    "# print(classification_report(ytest ,ypred_logistic))\n",
    "\n",
    "# print('Confusion Matrix')\n",
    "\n",
    "# ConfusionMatrixDisplay.from_estimator(logistic,xtest,ytest)\n",
    "\n"
   ]
  },
  {
   "cell_type": "code",
   "execution_count": 44,
   "id": "72d24f96",
   "metadata": {
    "execution": {
     "iopub.execute_input": "2024-10-27T14:09:42.435045Z",
     "iopub.status.busy": "2024-10-27T14:09:42.434597Z",
     "iopub.status.idle": "2024-10-27T14:09:42.440474Z",
     "shell.execute_reply": "2024-10-27T14:09:42.439120Z"
    },
    "papermill": {
     "duration": 0.035718,
     "end_time": "2024-10-27T14:09:42.443037",
     "exception": false,
     "start_time": "2024-10-27T14:09:42.407319",
     "status": "completed"
    },
    "tags": []
   },
   "outputs": [],
   "source": [
    "# from sklearn.neighbors import KNeighborsClassifier\n",
    "# kneighborsClassifier=KNeighborsClassifier(n_jobs=-1 , n_neighbors=5)\n",
    "# knn=Pipeline([('col_transformer',col_transformer),('kneighborsClassifier',kneighborsClassifier)])\n",
    "\n",
    "\n",
    "# knn.fit(xtrain , ytrain)\n",
    "\n",
    "# ypred_knn=knn.predict(xtest)\n",
    "\n",
    "\n",
    "# print(   'knn f1_score '  ,     f1_score(ytest, ypred_knn  , average='macro')    )\n",
    "\n",
    "# print('Classification Report')\n",
    "\n",
    "# print(classification_report(ytest ,ypred_knn))\n",
    "\n",
    "# print('Confusion Matrix')\n",
    "\n",
    "# ConfusionMatrixDisplay.from_estimator(knn,xtest,ytest)\n",
    "\n",
    "\n"
   ]
  },
  {
   "cell_type": "code",
   "execution_count": 45,
   "id": "070a48a8",
   "metadata": {
    "execution": {
     "iopub.execute_input": "2024-10-27T14:09:42.498015Z",
     "iopub.status.busy": "2024-10-27T14:09:42.496777Z",
     "iopub.status.idle": "2024-10-27T14:09:42.613566Z",
     "shell.execute_reply": "2024-10-27T14:09:42.611903Z"
    },
    "papermill": {
     "duration": 0.148126,
     "end_time": "2024-10-27T14:09:42.617127",
     "exception": false,
     "start_time": "2024-10-27T14:09:42.469001",
     "status": "completed"
    },
    "tags": []
   },
   "outputs": [],
   "source": [
    "y_pred_submission=grid_lgm.predict(test)\n",
    "ypred_submission_final = pd.Series(y_pred_submission).replace({0: 'no', 1: 'yes'})\n",
    "\n",
    "submission=pd.DataFrame({'id': np.arange(0,len(test)), 'target': ypred_submission_final})\n",
    "\n",
    "submission.to_csv('submission.csv',index=False)"
   ]
  },
  {
   "cell_type": "code",
   "execution_count": null,
   "id": "25c93b45",
   "metadata": {
    "papermill": {
     "duration": 0.02612,
     "end_time": "2024-10-27T14:09:42.669670",
     "exception": false,
     "start_time": "2024-10-27T14:09:42.643550",
     "status": "completed"
    },
    "tags": []
   },
   "outputs": [],
   "source": []
  },
  {
   "cell_type": "code",
   "execution_count": null,
   "id": "ee45289c",
   "metadata": {
    "papermill": {
     "duration": 0.025825,
     "end_time": "2024-10-27T14:09:42.721538",
     "exception": false,
     "start_time": "2024-10-27T14:09:42.695713",
     "status": "completed"
    },
    "tags": []
   },
   "outputs": [],
   "source": []
  },
  {
   "cell_type": "code",
   "execution_count": null,
   "id": "0e42142b",
   "metadata": {
    "papermill": {
     "duration": 0.026266,
     "end_time": "2024-10-27T14:09:42.774277",
     "exception": false,
     "start_time": "2024-10-27T14:09:42.748011",
     "status": "completed"
    },
    "tags": []
   },
   "outputs": [],
   "source": []
  },
  {
   "cell_type": "code",
   "execution_count": null,
   "id": "3b5f973a",
   "metadata": {
    "papermill": {
     "duration": 0.026617,
     "end_time": "2024-10-27T14:09:42.828608",
     "exception": false,
     "start_time": "2024-10-27T14:09:42.801991",
     "status": "completed"
    },
    "tags": []
   },
   "outputs": [],
   "source": []
  },
  {
   "cell_type": "code",
   "execution_count": null,
   "id": "22d81032",
   "metadata": {
    "papermill": {
     "duration": 0.025781,
     "end_time": "2024-10-27T14:09:42.880830",
     "exception": false,
     "start_time": "2024-10-27T14:09:42.855049",
     "status": "completed"
    },
    "tags": []
   },
   "outputs": [],
   "source": []
  },
  {
   "cell_type": "code",
   "execution_count": null,
   "id": "47cde3bf",
   "metadata": {
    "papermill": {
     "duration": 0.025595,
     "end_time": "2024-10-27T14:09:42.932347",
     "exception": false,
     "start_time": "2024-10-27T14:09:42.906752",
     "status": "completed"
    },
    "tags": []
   },
   "outputs": [],
   "source": []
  },
  {
   "cell_type": "code",
   "execution_count": null,
   "id": "104a1d09",
   "metadata": {
    "papermill": {
     "duration": 0.025556,
     "end_time": "2024-10-27T14:09:42.983850",
     "exception": false,
     "start_time": "2024-10-27T14:09:42.958294",
     "status": "completed"
    },
    "tags": []
   },
   "outputs": [],
   "source": []
  }
 ],
 "metadata": {
  "kaggle": {
   "accelerator": "none",
   "dataSources": [
    {
     "databundleVersionId": 9578279,
     "sourceId": 85062,
     "sourceType": "competition"
    }
   ],
   "dockerImageVersionId": 30761,
   "isGpuEnabled": false,
   "isInternetEnabled": true,
   "language": "python",
   "sourceType": "notebook"
  },
  "kernelspec": {
   "display_name": "Python 3",
   "language": "python",
   "name": "python3"
  },
  "language_info": {
   "codemirror_mode": {
    "name": "ipython",
    "version": 3
   },
   "file_extension": ".py",
   "mimetype": "text/x-python",
   "name": "python",
   "nbconvert_exporter": "python",
   "pygments_lexer": "ipython3",
   "version": "3.10.14"
  },
  "papermill": {
   "default_parameters": {},
   "duration": 298.917608,
   "end_time": "2024-10-27T14:09:43.933170",
   "environment_variables": {},
   "exception": null,
   "input_path": "__notebook__.ipynb",
   "output_path": "__notebook__.ipynb",
   "parameters": {},
   "start_time": "2024-10-27T14:04:45.015562",
   "version": "2.6.0"
  }
 },
 "nbformat": 4,
 "nbformat_minor": 5
}

{
 "cells": [
  {
   "cell_type": "code",
   "execution_count": 1,
   "id": "9632828b",
   "metadata": {
    "_cell_guid": "b1076dfc-b9ad-4769-8c92-a6c4dae69d19",
    "_uuid": "8f2839f25d086af736a60e9eeb907d3b93b6e0e5",
    "execution": {
     "iopub.execute_input": "2024-10-09T08:07:47.783579Z",
     "iopub.status.busy": "2024-10-09T08:07:47.783107Z",
     "iopub.status.idle": "2024-10-09T08:07:48.673068Z",
     "shell.execute_reply": "2024-10-09T08:07:48.671839Z"
    },
    "papermill": {
     "duration": 0.909856,
     "end_time": "2024-10-09T08:07:48.675378",
     "exception": false,
     "start_time": "2024-10-09T08:07:47.765522",
     "status": "completed"
    },
    "tags": []
   },
   "outputs": [
    {
     "name": "stdout",
     "output_type": "stream",
     "text": [
      "/kaggle/input/predict-the-success-of-bank-telemarketing/sample_submission.csv\n",
      "/kaggle/input/predict-the-success-of-bank-telemarketing/train.csv\n",
      "/kaggle/input/predict-the-success-of-bank-telemarketing/test.csv\n"
     ]
    }
   ],
   "source": [
    "# This Python 3 environment comes with many helpful analytics libraries installed\n",
    "# It is defined by the kaggle/python Docker image: https://github.com/kaggle/docker-python\n",
    "# For example, here's several helpful packages to load\n",
    "\n",
    "import numpy as np # linear algebra\n",
    "import pandas as pd # data processing, CSV file I/O (e.g. pd.read_csv)\n",
    "\n",
    "# Input data files are available in the read-only \"../input/\" directory\n",
    "# For example, running this (by clicking run or pressing Shift+Enter) will list all files under the input directory\n",
    "\n",
    "import os\n",
    "for dirname, _, filenames in os.walk('/kaggle/input'):\n",
    "    for filename in filenames:\n",
    "        print(os.path.join(dirname, filename))\n",
    "\n",
    "# You can write up to 20GB to the current directory (/kaggle/working/) that gets preserved as output when you create a version using \"Save & Run All\" \n",
    "# You can also write temporary files to /kaggle/temp/, but they won't be saved outside of the current session"
   ]
  },
  {
   "cell_type": "code",
   "execution_count": 2,
   "id": "0a924317",
   "metadata": {
    "execution": {
     "iopub.execute_input": "2024-10-09T08:07:48.708342Z",
     "iopub.status.busy": "2024-10-09T08:07:48.707471Z",
     "iopub.status.idle": "2024-10-09T08:07:50.268713Z",
     "shell.execute_reply": "2024-10-09T08:07:50.267516Z"
    },
    "papermill": {
     "duration": 1.579982,
     "end_time": "2024-10-09T08:07:50.271284",
     "exception": false,
     "start_time": "2024-10-09T08:07:48.691302",
     "status": "completed"
    },
    "tags": []
   },
   "outputs": [],
   "source": [
    "# !pip install xgboost\n",
    "\n",
    "import matplotlib.pyplot as plt\n",
    "from sklearn.model_selection import GridSearchCV\n",
    "from sklearn.decomposition import PCA\n",
    "\n"
   ]
  },
  {
   "cell_type": "code",
   "execution_count": 3,
   "id": "5eafd65c",
   "metadata": {
    "execution": {
     "iopub.execute_input": "2024-10-09T08:07:50.303143Z",
     "iopub.status.busy": "2024-10-09T08:07:50.302187Z",
     "iopub.status.idle": "2024-10-09T08:07:50.484219Z",
     "shell.execute_reply": "2024-10-09T08:07:50.483229Z"
    },
    "papermill": {
     "duration": 0.200487,
     "end_time": "2024-10-09T08:07:50.486731",
     "exception": false,
     "start_time": "2024-10-09T08:07:50.286244",
     "status": "completed"
    },
    "tags": []
   },
   "outputs": [],
   "source": [
    "train=pd.read_csv('/kaggle/input/predict-the-success-of-bank-telemarketing/train.csv')\n",
    "test=pd.read_csv('/kaggle/input/predict-the-success-of-bank-telemarketing/test.csv')\n"
   ]
  },
  {
   "cell_type": "code",
   "execution_count": 4,
   "id": "0bea64b9",
   "metadata": {
    "execution": {
     "iopub.execute_input": "2024-10-09T08:07:50.518555Z",
     "iopub.status.busy": "2024-10-09T08:07:50.517621Z",
     "iopub.status.idle": "2024-10-09T08:07:50.539247Z",
     "shell.execute_reply": "2024-10-09T08:07:50.538195Z"
    },
    "papermill": {
     "duration": 0.039851,
     "end_time": "2024-10-09T08:07:50.541377",
     "exception": false,
     "start_time": "2024-10-09T08:07:50.501526",
     "status": "completed"
    },
    "tags": []
   },
   "outputs": [
    {
     "data": {
      "text/plain": [
       "target\n",
       "no     33384\n",
       "yes     5827\n",
       "Name: count, dtype: int64"
      ]
     },
     "execution_count": 4,
     "metadata": {},
     "output_type": "execute_result"
    }
   ],
   "source": [
    "train['target'].value_counts()"
   ]
  },
  {
   "cell_type": "code",
   "execution_count": 5,
   "id": "9273c251",
   "metadata": {
    "execution": {
     "iopub.execute_input": "2024-10-09T08:07:50.572993Z",
     "iopub.status.busy": "2024-10-09T08:07:50.572508Z",
     "iopub.status.idle": "2024-10-09T08:07:50.600229Z",
     "shell.execute_reply": "2024-10-09T08:07:50.599146Z"
    },
    "papermill": {
     "duration": 0.045826,
     "end_time": "2024-10-09T08:07:50.602420",
     "exception": false,
     "start_time": "2024-10-09T08:07:50.556594",
     "status": "completed"
    },
    "tags": []
   },
   "outputs": [
    {
     "data": {
      "text/plain": [
       "last contact date        0\n",
       "age                      0\n",
       "job                    229\n",
       "marital                  0\n",
       "education             1467\n",
       "default                  0\n",
       "balance                  0\n",
       "housing                  0\n",
       "loan                     0\n",
       "contact              10336\n",
       "duration                 0\n",
       "campaign                 0\n",
       "pdays                    0\n",
       "previous                 0\n",
       "poutcome             29451\n",
       "target                   0\n",
       "dtype: int64"
      ]
     },
     "execution_count": 5,
     "metadata": {},
     "output_type": "execute_result"
    }
   ],
   "source": [
    "train.isnull().sum()"
   ]
  },
  {
   "cell_type": "code",
   "execution_count": 6,
   "id": "396a7f3f",
   "metadata": {
    "execution": {
     "iopub.execute_input": "2024-10-09T08:07:50.634154Z",
     "iopub.status.busy": "2024-10-09T08:07:50.633734Z",
     "iopub.status.idle": "2024-10-09T08:07:50.646917Z",
     "shell.execute_reply": "2024-10-09T08:07:50.645852Z"
    },
    "papermill": {
     "duration": 0.031643,
     "end_time": "2024-10-09T08:07:50.649144",
     "exception": false,
     "start_time": "2024-10-09T08:07:50.617501",
     "status": "completed"
    },
    "tags": []
   },
   "outputs": [
    {
     "data": {
      "text/plain": [
       "last contact date       0\n",
       "age                     0\n",
       "job                    59\n",
       "marital                 0\n",
       "education             390\n",
       "default                 0\n",
       "balance                 0\n",
       "housing                 0\n",
       "loan                    0\n",
       "contact              2684\n",
       "duration                0\n",
       "campaign                0\n",
       "pdays                   0\n",
       "previous                0\n",
       "poutcome             7508\n",
       "dtype: int64"
      ]
     },
     "execution_count": 6,
     "metadata": {},
     "output_type": "execute_result"
    }
   ],
   "source": [
    "test.isnull().sum()"
   ]
  },
  {
   "cell_type": "markdown",
   "id": "2d7784d9",
   "metadata": {
    "papermill": {
     "duration": 0.014623,
     "end_time": "2024-10-09T08:07:50.678817",
     "exception": false,
     "start_time": "2024-10-09T08:07:50.664194",
     "status": "completed"
    },
    "tags": []
   },
   "source": [
    "# Last Contact and Feature engineering\n"
   ]
  },
  {
   "cell_type": "code",
   "execution_count": 7,
   "id": "6c6ee062",
   "metadata": {
    "execution": {
     "iopub.execute_input": "2024-10-09T08:07:50.710501Z",
     "iopub.status.busy": "2024-10-09T08:07:50.709623Z",
     "iopub.status.idle": "2024-10-09T08:07:50.749025Z",
     "shell.execute_reply": "2024-10-09T08:07:50.748018Z"
    },
    "papermill": {
     "duration": 0.057713,
     "end_time": "2024-10-09T08:07:50.751400",
     "exception": false,
     "start_time": "2024-10-09T08:07:50.693687",
     "status": "completed"
    },
    "tags": []
   },
   "outputs": [
    {
     "name": "stdout",
     "output_type": "stream",
     "text": [
      "month\n",
      "5     11004\n",
      "7      5521\n",
      "8      4969\n",
      "6      4232\n",
      "11     3147\n",
      "4      2359\n",
      "2      2087\n",
      "1      1725\n",
      "10     1236\n",
      "9      1091\n",
      "3       997\n",
      "12      843\n",
      "Name: count, dtype: int64\n",
      "\n",
      "--------------------------\n",
      "day\n",
      "3    7428\n",
      "2    7292\n",
      "4    6762\n",
      "1    6184\n",
      "5    4496\n",
      "0    4033\n",
      "6    3016\n",
      "Name: count, dtype: int64\n"
     ]
    }
   ],
   "source": [
    "train['last contact date']=pd.to_datetime(train['last contact date'])\n",
    "\n",
    "train['day']= train['last contact date'].dt.dayofweek\n",
    "\n",
    "train['month'] = train['last contact date'].dt.month\n",
    "\n",
    "print(train['month'].value_counts())\n",
    "\n",
    "print('')\n",
    "print('--------------------------')\n",
    "\n",
    "print(train['day'].value_counts())\n",
    "\n",
    "\n",
    "\n",
    "\n",
    "test['last contact date']=pd.to_datetime(test['last contact date'])\n",
    "\n",
    "test['day']= test['last contact date'].dt.dayofweek\n",
    "\n",
    "test['month'] = test['last contact date'].dt.month\n",
    "\n"
   ]
  },
  {
   "cell_type": "markdown",
   "id": "062b2c3e",
   "metadata": {
    "papermill": {
     "duration": 0.014745,
     "end_time": "2024-10-09T08:07:50.781973",
     "exception": false,
     "start_time": "2024-10-09T08:07:50.767228",
     "status": "completed"
    },
    "tags": []
   },
   "source": [
    "# #WeekDay or Sunday "
   ]
  },
  {
   "cell_type": "code",
   "execution_count": 8,
   "id": "ec088c2d",
   "metadata": {
    "execution": {
     "iopub.execute_input": "2024-10-09T08:07:50.814267Z",
     "iopub.status.busy": "2024-10-09T08:07:50.813305Z",
     "iopub.status.idle": "2024-10-09T08:07:50.840754Z",
     "shell.execute_reply": "2024-10-09T08:07:50.839682Z"
    },
    "papermill": {
     "duration": 0.04577,
     "end_time": "2024-10-09T08:07:50.842882",
     "exception": false,
     "start_time": "2024-10-09T08:07:50.797112",
     "status": "completed"
    },
    "tags": []
   },
   "outputs": [],
   "source": [
    "def whichday(x):\n",
    "    if x==1:\n",
    "        return 1\n",
    "    return 0\n",
    "train['isSunday']=train['day'].apply(whichday)\n",
    "\n",
    "test['isSunday']=test['day'].apply(whichday)"
   ]
  },
  {
   "cell_type": "markdown",
   "id": "71e88a43",
   "metadata": {
    "papermill": {
     "duration": 0.014754,
     "end_time": "2024-10-09T08:07:50.873225",
     "exception": false,
     "start_time": "2024-10-09T08:07:50.858471",
     "status": "completed"
    },
    "tags": []
   },
   "source": []
  },
  {
   "cell_type": "markdown",
   "id": "659bf2e1",
   "metadata": {
    "papermill": {
     "duration": 0.014618,
     "end_time": "2024-10-09T08:07:50.902990",
     "exception": false,
     "start_time": "2024-10-09T08:07:50.888372",
     "status": "completed"
    },
    "tags": []
   },
   "source": [
    "# Categorical Columns\n",
    "# job , martial , education , default , housing ,loan , contact , poutcome"
   ]
  },
  {
   "cell_type": "markdown",
   "id": "451d6dbb",
   "metadata": {
    "papermill": {
     "duration": 0.014822,
     "end_time": "2024-10-09T08:07:50.933340",
     "exception": false,
     "start_time": "2024-10-09T08:07:50.918518",
     "status": "completed"
    },
    "tags": []
   },
   "source": [
    "# Job"
   ]
  },
  {
   "cell_type": "code",
   "execution_count": 9,
   "id": "438026c0",
   "metadata": {
    "execution": {
     "iopub.execute_input": "2024-10-09T08:07:50.966184Z",
     "iopub.status.busy": "2024-10-09T08:07:50.965224Z",
     "iopub.status.idle": "2024-10-09T08:07:51.285475Z",
     "shell.execute_reply": "2024-10-09T08:07:51.284249Z"
    },
    "papermill": {
     "duration": 0.339212,
     "end_time": "2024-10-09T08:07:51.287741",
     "exception": false,
     "start_time": "2024-10-09T08:07:50.948529",
     "status": "completed"
    },
    "tags": []
   },
   "outputs": [
    {
     "name": "stdout",
     "output_type": "stream",
     "text": [
      " Number of null values :  229\n",
      "\n",
      "---------------------------------------------------------------------------\n",
      "\n",
      "Unique job :  ['blue-collar' 'technician' 'admin.' 'entrepreneur' 'unemployed'\n",
      " 'management' 'services' 'student' 'self-employed' 'retired' 'housemaid'\n",
      " nan]\n",
      "\n",
      "---------------------------------------------------------------------------\n",
      "\n",
      "job value counts:  job\n",
      "blue-collar      7776\n",
      "management       7462\n",
      "technician       6078\n",
      "admin.           4116\n",
      "services         3325\n",
      "self-employed    1862\n",
      "retired          1824\n",
      "entrepreneur     1805\n",
      "unemployed       1685\n",
      "housemaid        1656\n",
      "student          1393\n",
      "Name: count, dtype: int64\n",
      "\n",
      "---------------------------------------------------------------------------\n",
      "\n"
     ]
    },
    {
     "data": {
      "image/png": "[encoded data removed]",
      "text/plain": [
       "<Figure size 640x480 with 1 Axes>"
      ]
     },
     "metadata": {},
     "output_type": "display_data"
    },
    {
     "name": "stdout",
     "output_type": "stream",
     "text": [
      "\n",
      "---------------------------------------------------------------------------\n",
      "\n"
     ]
    }
   ],
   "source": [
    "\n",
    "print(' Number of null values : ' , train['job'].isnull().sum())\n",
    "\n",
    "print('')\n",
    "print('---------------------------------------------------------------------------')\n",
    "print('')\n",
    "\n",
    "print('Unique job : ' , train['job'].unique())\n",
    "\n",
    "print('')\n",
    "print('---------------------------------------------------------------------------')\n",
    "print('')\n",
    "\n",
    "print('job value counts: ' , train['job'].value_counts())\n",
    "\n",
    "print('')\n",
    "print('---------------------------------------------------------------------------')\n",
    "print('')\n",
    "\n",
    "train['job'].value_counts().plot(kind='bar')\n",
    "plt.show()\n",
    "\n",
    "print('')\n",
    "print('---------------------------------------------------------------------------')\n",
    "print('')\n",
    "\n",
    "\n",
    "train['job'] = train['job'].replace(np.nan, 'blue-collar')\n",
    "\n",
    "\n",
    "\n",
    "\n",
    "\n",
    "\n",
    "\n",
    "\n",
    "\n",
    "test['job'] = test['job'].replace(np.nan , 'blue-collar')"
   ]
  },
  {
   "cell_type": "markdown",
   "id": "38eea68f",
   "metadata": {
    "papermill": {
     "duration": 0.015251,
     "end_time": "2024-10-09T08:07:51.318858",
     "exception": false,
     "start_time": "2024-10-09T08:07:51.303607",
     "status": "completed"
    },
    "tags": []
   },
   "source": [
    "# martial"
   ]
  },
  {
   "cell_type": "code",
   "execution_count": 10,
   "id": "de65db50",
   "metadata": {
    "execution": {
     "iopub.execute_input": "2024-10-09T08:07:51.352025Z",
     "iopub.status.busy": "2024-10-09T08:07:51.351114Z",
     "iopub.status.idle": "2024-10-09T08:07:51.545357Z",
     "shell.execute_reply": "2024-10-09T08:07:51.544276Z"
    },
    "papermill": {
     "duration": 0.213415,
     "end_time": "2024-10-09T08:07:51.547772",
     "exception": false,
     "start_time": "2024-10-09T08:07:51.334357",
     "status": "completed"
    },
    "tags": []
   },
   "outputs": [
    {
     "name": "stdout",
     "output_type": "stream",
     "text": [
      "marital has no null values :  0\n",
      "\n",
      "---------------------------------------------------------------------------\n",
      "\n",
      " Unique marital :  ['married' 'single' 'divorced']\n",
      "\n",
      "---------------------------------------------------------------------------\n",
      "\n",
      "marital value counts:  marital\n",
      "married     22691\n",
      "single      11250\n",
      "divorced     5270\n",
      "Name: count, dtype: int64\n",
      "\n",
      "---------------------------------------------------------------------------\n",
      "\n"
     ]
    },
    {
     "data": {
      "image/png": "[encoded data removed]",
      "text/plain": [
       "<Figure size 640x480 with 1 Axes>"
      ]
     },
     "metadata": {},
     "output_type": "display_data"
    }
   ],
   "source": [
    "print('marital has no null values : ' , train['marital'].isnull().sum())\n",
    "\n",
    "print('')\n",
    "print('---------------------------------------------------------------------------')\n",
    "print('')\n",
    "\n",
    "print(' Unique marital : ' , train['marital'].unique())\n",
    "\n",
    "print('')\n",
    "print('---------------------------------------------------------------------------')\n",
    "print('')\n",
    "\n",
    "print('marital value counts: ' , train['marital'].value_counts())\n",
    "\n",
    "print('')\n",
    "print('---------------------------------------------------------------------------')\n",
    "print('')\n",
    "\n",
    "train['marital'].value_counts().plot(kind='bar')\n",
    "plt.show()"
   ]
  },
  {
   "cell_type": "markdown",
   "id": "7e4e2154",
   "metadata": {
    "papermill": {
     "duration": 0.01622,
     "end_time": "2024-10-09T08:07:51.580181",
     "exception": false,
     "start_time": "2024-10-09T08:07:51.563961",
     "status": "completed"
    },
    "tags": []
   },
   "source": [
    "# education"
   ]
  },
  {
   "cell_type": "code",
   "execution_count": 11,
   "id": "9a33101f",
   "metadata": {
    "execution": {
     "iopub.execute_input": "2024-10-09T08:07:51.614003Z",
     "iopub.status.busy": "2024-10-09T08:07:51.613592Z",
     "iopub.status.idle": "2024-10-09T08:07:51.821078Z",
     "shell.execute_reply": "2024-10-09T08:07:51.820043Z"
    },
    "papermill": {
     "duration": 0.226974,
     "end_time": "2024-10-09T08:07:51.823279",
     "exception": false,
     "start_time": "2024-10-09T08:07:51.596305",
     "status": "completed"
    },
    "tags": []
   },
   "outputs": [
    {
     "name": "stdout",
     "output_type": "stream",
     "text": [
      "education has no null values :  1467\n",
      "\n",
      "---------------------------------------------------------------------------\n",
      "\n",
      " Unique education :  ['secondary' 'tertiary' 'primary' nan]\n",
      "\n",
      "---------------------------------------------------------------------------\n",
      "\n",
      "education value counts:  education\n",
      "secondary    19584\n",
      "tertiary     11615\n",
      "primary       6545\n",
      "Name: count, dtype: int64\n",
      "\n",
      "---------------------------------------------------------------------------\n",
      "\n"
     ]
    },
    {
     "data": {
      "image/png": "[encoded data removed]",
      "text/plain": [
       "<Figure size 640x480 with 1 Axes>"
      ]
     },
     "metadata": {},
     "output_type": "display_data"
    }
   ],
   "source": [
    "print('education has no null values : ' , train['education'].isnull().sum())\n",
    "\n",
    "print('')\n",
    "print('---------------------------------------------------------------------------')\n",
    "print('')\n",
    "\n",
    "print(' Unique education : ' , train['education'].unique())\n",
    "\n",
    "print('')\n",
    "print('---------------------------------------------------------------------------')\n",
    "print('')\n",
    "\n",
    "print('education value counts: ' , train['education'].value_counts())\n",
    "\n",
    "print('')\n",
    "print('---------------------------------------------------------------------------')\n",
    "print('')\n",
    "\n",
    "train['education'].value_counts().plot(kind='bar')\n",
    "\n",
    "\n",
    "train['education']=train['education'].replace(np.nan , 'secondary')\n",
    "\n",
    "test['education']=test['education'].replace(np.nan , 'secondary')"
   ]
  },
  {
   "cell_type": "markdown",
   "id": "9d1074b2",
   "metadata": {
    "papermill": {
     "duration": 0.016341,
     "end_time": "2024-10-09T08:07:51.856234",
     "exception": false,
     "start_time": "2024-10-09T08:07:51.839893",
     "status": "completed"
    },
    "tags": []
   },
   "source": [
    "# default\n"
   ]
  },
  {
   "cell_type": "code",
   "execution_count": 12,
   "id": "6315d626",
   "metadata": {
    "execution": {
     "iopub.execute_input": "2024-10-09T08:07:51.890837Z",
     "iopub.status.busy": "2024-10-09T08:07:51.890415Z",
     "iopub.status.idle": "2024-10-09T08:07:52.061022Z",
     "shell.execute_reply": "2024-10-09T08:07:52.060155Z"
    },
    "papermill": {
     "duration": 0.190543,
     "end_time": "2024-10-09T08:07:52.063380",
     "exception": false,
     "start_time": "2024-10-09T08:07:51.872837",
     "status": "completed"
    },
    "tags": []
   },
   "outputs": [
    {
     "name": "stdout",
     "output_type": "stream",
     "text": [
      "default has no null values :  0\n",
      "\n",
      "---------------------------------------------------------------------------\n",
      "\n",
      " Unique default :  ['no' 'yes']\n",
      "\n",
      "---------------------------------------------------------------------------\n",
      "\n",
      "default value counts:  default\n",
      "no     36954\n",
      "yes     2257\n",
      "Name: count, dtype: int64\n",
      "\n",
      "---------------------------------------------------------------------------\n",
      "\n"
     ]
    },
    {
     "data": {
      "image/png": "[encoded data removed]",
      "text/plain": [
       "<Figure size 640x480 with 1 Axes>"
      ]
     },
     "metadata": {},
     "output_type": "display_data"
    }
   ],
   "source": [
    "print('default has no null values : ' , train['default'].isnull().sum())\n",
    "\n",
    "print('')\n",
    "print('---------------------------------------------------------------------------')\n",
    "print('')\n",
    "\n",
    "print(' Unique default : ' , train['default'].unique())\n",
    "\n",
    "print('')\n",
    "print('---------------------------------------------------------------------------')\n",
    "print('')\n",
    "\n",
    "print('default value counts: ' , train['default'].value_counts())\n",
    "\n",
    "print('')\n",
    "print('---------------------------------------------------------------------------')\n",
    "print('')\n",
    "\n",
    "train['default'].value_counts().plot(kind='bar')\n",
    "plt.show()\n",
    "\n",
    "\n",
    "train['default'] = train['default'].map({'no': 0, 'yes': 1})\n",
    "\n",
    "\n",
    "test['default'] = test['default'].map({'no': 0, 'yes': 1})\n"
   ]
  },
  {
   "cell_type": "markdown",
   "id": "9b50cbb2",
   "metadata": {
    "papermill": {
     "duration": 0.016501,
     "end_time": "2024-10-09T08:07:52.096771",
     "exception": false,
     "start_time": "2024-10-09T08:07:52.080270",
     "status": "completed"
    },
    "tags": []
   },
   "source": [
    "# housing"
   ]
  },
  {
   "cell_type": "code",
   "execution_count": 13,
   "id": "bab7c4f3",
   "metadata": {
    "execution": {
     "iopub.execute_input": "2024-10-09T08:07:52.132423Z",
     "iopub.status.busy": "2024-10-09T08:07:52.131660Z",
     "iopub.status.idle": "2024-10-09T08:07:52.290387Z",
     "shell.execute_reply": "2024-10-09T08:07:52.288847Z"
    },
    "papermill": {
     "duration": 0.180659,
     "end_time": "2024-10-09T08:07:52.294293",
     "exception": false,
     "start_time": "2024-10-09T08:07:52.113634",
     "status": "completed"
    },
    "tags": []
   },
   "outputs": [
    {
     "name": "stdout",
     "output_type": "stream",
     "text": [
      "housing has no null values :  0\n",
      "\n",
      "---------------------------------------------------------------------------\n",
      "\n",
      " Unique housing :  ['yes' 'no']\n",
      "\n",
      "---------------------------------------------------------------------------\n",
      "\n",
      "housing value counts:  housing\n",
      "yes    21657\n",
      "no     17554\n",
      "Name: count, dtype: int64\n",
      "\n",
      "---------------------------------------------------------------------------\n",
      "\n"
     ]
    },
    {
     "data": {
      "image/png": "[encoded data removed]",
      "text/plain": [
       "<Figure size 640x480 with 1 Axes>"
      ]
     },
     "metadata": {},
     "output_type": "display_data"
    }
   ],
   "source": [
    "print('housing has no null values : ' , train['housing'].isnull().sum())\n",
    "\n",
    "print('')\n",
    "print('---------------------------------------------------------------------------')\n",
    "print('')\n",
    "\n",
    "print(' Unique housing : ' , train['housing'].unique())\n",
    "\n",
    "print('')\n",
    "print('---------------------------------------------------------------------------')\n",
    "print('')\n",
    "\n",
    "print('housing value counts: ' , train['housing'].value_counts())\n",
    "\n",
    "print('')\n",
    "print('---------------------------------------------------------------------------')\n",
    "print('')\n",
    "\n",
    "train['housing'].value_counts().plot(kind='bar')\n",
    "plt.show()\n",
    "\n",
    "train['housing'] = train['housing'].map({'no': 0, 'yes': 1})\n",
    "\n",
    "\n",
    "\n",
    "test['housing'] = test['housing'].map({'no': 0, 'yes': 1})\n"
   ]
  },
  {
   "cell_type": "code",
   "execution_count": 14,
   "id": "dc081d1a",
   "metadata": {
    "execution": {
     "iopub.execute_input": "2024-10-09T08:07:52.331142Z",
     "iopub.status.busy": "2024-10-09T08:07:52.330427Z",
     "iopub.status.idle": "2024-10-09T08:07:52.541193Z",
     "shell.execute_reply": "2024-10-09T08:07:52.540265Z"
    },
    "papermill": {
     "duration": 0.231583,
     "end_time": "2024-10-09T08:07:52.543629",
     "exception": false,
     "start_time": "2024-10-09T08:07:52.312046",
     "status": "completed"
    },
    "tags": []
   },
   "outputs": [
    {
     "name": "stdout",
     "output_type": "stream",
     "text": [
      "loan has no null values :  0\n",
      "\n",
      "---------------------------------------------------------------------------\n",
      "\n",
      " Unique loan :  ['no' 'yes']\n",
      "\n",
      "---------------------------------------------------------------------------\n",
      "\n",
      "loan value counts:  loan\n",
      "no     31820\n",
      "yes     7391\n",
      "Name: count, dtype: int64\n",
      "\n",
      "---------------------------------------------------------------------------\n",
      "\n"
     ]
    },
    {
     "data": {
      "image/png": "[encoded data removed]",
      "text/plain": [
       "<Figure size 640x480 with 1 Axes>"
      ]
     },
     "metadata": {},
     "output_type": "display_data"
    }
   ],
   "source": [
    "print('loan has no null values : ' , train['loan'].isnull().sum())\n",
    "\n",
    "print('')\n",
    "print('---------------------------------------------------------------------------')\n",
    "print('')\n",
    "\n",
    "print(' Unique loan : ' , train['loan'].unique())\n",
    "\n",
    "print('')\n",
    "print('---------------------------------------------------------------------------')\n",
    "print('')\n",
    "\n",
    "print('loan value counts: ' , train['loan'].value_counts())\n",
    "\n",
    "print('')\n",
    "print('---------------------------------------------------------------------------')\n",
    "print('')\n",
    "\n",
    "train['loan'].value_counts().plot(kind='bar')\n",
    "plt.show()\n",
    "\n",
    "\n",
    "\n",
    "\n",
    "train['loan'] = train['loan'].map({'no': 0, 'yes': 1})\n",
    "\n",
    "\n",
    "test['loan'] = test['loan'].map({'no': 0, 'yes': 1})\n",
    "\n"
   ]
  },
  {
   "cell_type": "code",
   "execution_count": 15,
   "id": "3a0853c4",
   "metadata": {
    "execution": {
     "iopub.execute_input": "2024-10-09T08:07:52.580954Z",
     "iopub.status.busy": "2024-10-09T08:07:52.580226Z",
     "iopub.status.idle": "2024-10-09T08:07:52.794545Z",
     "shell.execute_reply": "2024-10-09T08:07:52.793506Z"
    },
    "papermill": {
     "duration": 0.235588,
     "end_time": "2024-10-09T08:07:52.796873",
     "exception": false,
     "start_time": "2024-10-09T08:07:52.561285",
     "status": "completed"
    },
    "tags": []
   },
   "outputs": [
    {
     "name": "stdout",
     "output_type": "stream",
     "text": [
      "contact has null values :  10336\n",
      "\n",
      "---------------------------------------------------------------------------\n",
      "\n",
      " Unique contact :  ['cellular' 'telephone' nan]\n",
      "\n",
      "---------------------------------------------------------------------------\n",
      "\n",
      "contact value counts:  contact\n",
      "cellular     25030\n",
      "telephone     3845\n",
      "Name: count, dtype: int64\n",
      "\n",
      "---------------------------------------------------------------------------\n",
      "\n"
     ]
    },
    {
     "data": {
      "image/png": "[encoded data removed]",
      "text/plain": [
       "<Figure size 640x480 with 1 Axes>"
      ]
     },
     "metadata": {},
     "output_type": "display_data"
    }
   ],
   "source": [
    "print('contact has null values : ' , train['contact'].isnull().sum())\n",
    "\n",
    "print('')\n",
    "print('---------------------------------------------------------------------------')\n",
    "print('')\n",
    "\n",
    "print(' Unique contact : ' , train['contact'].unique())\n",
    "\n",
    "print('')\n",
    "print('---------------------------------------------------------------------------')\n",
    "print('')\n",
    "\n",
    "print('contact value counts: ' , train['contact'].value_counts())\n",
    "\n",
    "print('')\n",
    "print('---------------------------------------------------------------------------')\n",
    "print('')\n",
    "\n",
    "train['contact'].value_counts().plot(kind='bar')\n",
    "plt.show()\n",
    "\n",
    "\n",
    "train['contact']=train['contact'].replace(np.nan , 'cellular')\n",
    "\n",
    "train['contact'] = train['contact'].map({'cellular': 1, 'telephone': 0})\n",
    "\n",
    "\n",
    "\n",
    "test['contact']=test['contact'].replace(np.nan , 'cellular')\n",
    "test['contact'] = test['contact'].map({'cellular': 1, 'telephone': 0})\n",
    "\n"
   ]
  },
  {
   "cell_type": "code",
   "execution_count": 16,
   "id": "f1c1b10a",
   "metadata": {
    "execution": {
     "iopub.execute_input": "2024-10-09T08:07:52.836485Z",
     "iopub.status.busy": "2024-10-09T08:07:52.836076Z",
     "iopub.status.idle": "2024-10-09T08:07:53.240048Z",
     "shell.execute_reply": "2024-10-09T08:07:53.239001Z"
    },
    "papermill": {
     "duration": 0.426808,
     "end_time": "2024-10-09T08:07:53.242579",
     "exception": false,
     "start_time": "2024-10-09T08:07:52.815771",
     "status": "completed"
    },
    "tags": []
   },
   "outputs": [
    {
     "name": "stdout",
     "output_type": "stream",
     "text": [
      "poutcome has  null values :  29451\n",
      "\n",
      "---------------------------------------------------------------------------\n",
      "\n",
      " Unique poutcome :  ['other' nan 'failure' 'success']\n",
      "\n",
      "---------------------------------------------------------------------------\n",
      "\n",
      "poutcome value counts:  poutcome\n",
      "failure    4949\n",
      "other      2560\n",
      "success    2251\n",
      "Name: count, dtype: int64\n",
      "\n",
      "---------------------------------------------------------------------------\n",
      "\n"
     ]
    },
    {
     "data": {
      "image/png": "[encoded data removed]",
      "text/plain": [
       "<Figure size 640x480 with 1 Axes>"
      ]
     },
     "metadata": {},
     "output_type": "display_data"
    },
    {
     "data": {
      "image/png": "[encoded data removed]",
      "text/plain": [
       "<Figure size 640x480 with 1 Axes>"
      ]
     },
     "metadata": {},
     "output_type": "display_data"
    }
   ],
   "source": [
    "print('poutcome has  null values : ' , train['poutcome'].isnull().sum())\n",
    "\n",
    "print('')\n",
    "print('---------------------------------------------------------------------------')\n",
    "print('')\n",
    "\n",
    "print(' Unique poutcome : ' , train['poutcome'].unique())\n",
    "\n",
    "print('')\n",
    "print('---------------------------------------------------------------------------')\n",
    "print('')\n",
    "\n",
    "print('poutcome value counts: ' , train['poutcome'].value_counts())\n",
    "\n",
    "print('')\n",
    "print('---------------------------------------------------------------------------')\n",
    "print('')\n",
    "\n",
    "\n",
    "train['poutcome'].value_counts().plot(kind='bar')\n",
    "plt.show()\n",
    "\n",
    "\n",
    "\n",
    "train['poutcome'] = train['poutcome'].replace(np.nan, 'failure')\n",
    "\n",
    "\n",
    "train['poutcome'].value_counts().plot(kind='bar')\n",
    "plt.show()\n",
    "\n",
    "\n",
    "\n",
    "test['poutcome'] = test['poutcome'].replace(np.nan, 'failure')\n"
   ]
  },
  {
   "cell_type": "code",
   "execution_count": 17,
   "id": "af6d0ff8",
   "metadata": {
    "execution": {
     "iopub.execute_input": "2024-10-09T08:07:53.282575Z",
     "iopub.status.busy": "2024-10-09T08:07:53.281454Z",
     "iopub.status.idle": "2024-10-09T08:07:53.308513Z",
     "shell.execute_reply": "2024-10-09T08:07:53.307236Z"
    },
    "papermill": {
     "duration": 0.049476,
     "end_time": "2024-10-09T08:07:53.310949",
     "exception": false,
     "start_time": "2024-10-09T08:07:53.261473",
     "status": "completed"
    },
    "tags": []
   },
   "outputs": [
    {
     "name": "stdout",
     "output_type": "stream",
     "text": [
      "<class 'pandas.core.frame.DataFrame'>\n",
      "RangeIndex: 39211 entries, 0 to 39210\n",
      "Data columns (total 19 columns):\n",
      " #   Column             Non-Null Count  Dtype         \n",
      "---  ------             --------------  -----         \n",
      " 0   last contact date  39211 non-null  datetime64[ns]\n",
      " 1   age                39211 non-null  int64         \n",
      " 2   job                39211 non-null  object        \n",
      " 3   marital            39211 non-null  object        \n",
      " 4   education          39211 non-null  object        \n",
      " 5   default            39211 non-null  int64         \n",
      " 6   balance            39211 non-null  int64         \n",
      " 7   housing            39211 non-null  int64         \n",
      " 8   loan               39211 non-null  int64         \n",
      " 9   contact            39211 non-null  int64         \n",
      " 10  duration           39211 non-null  int64         \n",
      " 11  campaign           39211 non-null  int64         \n",
      " 12  pdays              39211 non-null  int64         \n",
      " 13  previous           39211 non-null  int64         \n",
      " 14  poutcome           39211 non-null  object        \n",
      " 15  target             39211 non-null  object        \n",
      " 16  day                39211 non-null  int32         \n",
      " 17  month              39211 non-null  int32         \n",
      " 18  isSunday           39211 non-null  int64         \n",
      "dtypes: datetime64[ns](1), int32(2), int64(11), object(5)\n",
      "memory usage: 5.4+ MB\n"
     ]
    }
   ],
   "source": [
    "train.info()"
   ]
  },
  {
   "cell_type": "markdown",
   "id": "c6aee284",
   "metadata": {
    "papermill": {
     "duration": 0.018768,
     "end_time": "2024-10-09T08:07:53.348662",
     "exception": false,
     "start_time": "2024-10-09T08:07:53.329894",
     "status": "completed"
    },
    "tags": []
   },
   "source": [
    "# Numerical Columns\n",
    "# Age , Balance , campaign , pdays , previous"
   ]
  },
  {
   "cell_type": "code",
   "execution_count": 18,
   "id": "393e7420",
   "metadata": {
    "execution": {
     "iopub.execute_input": "2024-10-09T08:07:53.388151Z",
     "iopub.status.busy": "2024-10-09T08:07:53.387320Z",
     "iopub.status.idle": "2024-10-09T08:07:53.663306Z",
     "shell.execute_reply": "2024-10-09T08:07:53.662314Z"
    },
    "papermill": {
     "duration": 0.298309,
     "end_time": "2024-10-09T08:07:53.665598",
     "exception": false,
     "start_time": "2024-10-09T08:07:53.367289",
     "status": "completed"
    },
    "tags": []
   },
   "outputs": [
    {
     "name": "stdout",
     "output_type": "stream",
     "text": [
      "Age has no null values :  0\n",
      "\n",
      "---------------------------------------------------------------------------\n",
      "\n",
      "no. of age less than zero is  0\n",
      "\n",
      "---------------------------------------------------------------------------\n",
      "\n",
      " Unique Ages :  [26 52 44 33 31 25 46 37 38 32 28 34 86 42 58 39 35 47 45 48 30 50 56 54\n",
      " 40 53 41 51 27 29 57 63 36 43 19 55 49 23 83 60 22 80 76 59 24 93 71 89\n",
      " 64 68 85 79 62 69 20 90 66 87 72 88 67 70 77 91 78 61 65 73 74 84 82 92\n",
      " 81 18 21 75 94 95]\n",
      "\n",
      "---------------------------------------------------------------------------\n",
      "\n",
      "Age value counts:  age\n",
      "32    1688\n",
      "31    1629\n",
      "33    1599\n",
      "35    1571\n",
      "34    1566\n",
      "      ... \n",
      "18      44\n",
      "92      41\n",
      "87      40\n",
      "85      39\n",
      "95       2\n",
      "Name: count, Length: 78, dtype: int64\n",
      "\n",
      "---------------------------------------------------------------------------\n",
      "\n"
     ]
    },
    {
     "data": {
      "image/png": "[encoded data removed]",
      "text/plain": [
       "<Figure size 640x480 with 1 Axes>"
      ]
     },
     "metadata": {},
     "output_type": "display_data"
    }
   ],
   "source": [
    "print('Age has no null values : ' , train['age'].isnull().sum())\n",
    "\n",
    "print('')\n",
    "print('---------------------------------------------------------------------------')\n",
    "print('')\n",
    "\n",
    "print('no. of age less than zero is ', train[train['age']<0]['age'].count())\n",
    "\n",
    "\n",
    "print('')\n",
    "print('---------------------------------------------------------------------------')\n",
    "print('')\n",
    "\n",
    "print(' Unique Ages : ' , train['age'].unique())\n",
    "\n",
    "print('')\n",
    "print('---------------------------------------------------------------------------')\n",
    "print('')\n",
    "\n",
    "print('Age value counts: ' , train['age'].value_counts())\n",
    "\n",
    "print('')\n",
    "print('---------------------------------------------------------------------------')\n",
    "print('')\n",
    "\n",
    "train['age'].value_counts().plot(kind='hist')\n",
    "plt.show()\n",
    "\n",
    "\n"
   ]
  },
  {
   "cell_type": "markdown",
   "id": "519e30d5",
   "metadata": {
    "papermill": {
     "duration": 0.018793,
     "end_time": "2024-10-09T08:07:53.703738",
     "exception": false,
     "start_time": "2024-10-09T08:07:53.684945",
     "status": "completed"
    },
    "tags": []
   },
   "source": [
    "# Feature Engineering Age Category"
   ]
  },
  {
   "cell_type": "code",
   "execution_count": 19,
   "id": "33f507f6",
   "metadata": {
    "execution": {
     "iopub.execute_input": "2024-10-09T08:07:53.751001Z",
     "iopub.status.busy": "2024-10-09T08:07:53.750154Z",
     "iopub.status.idle": "2024-10-09T08:07:53.775391Z",
     "shell.execute_reply": "2024-10-09T08:07:53.774375Z"
    },
    "papermill": {
     "duration": 0.050157,
     "end_time": "2024-10-09T08:07:53.778097",
     "exception": false,
     "start_time": "2024-10-09T08:07:53.727940",
     "status": "completed"
    },
    "tags": []
   },
   "outputs": [],
   "source": [
    "def age_category(x):\n",
    "    if x<=39:\n",
    "        return 'young'\n",
    "    if 40<=x<=59:\n",
    "        return 'middle'\n",
    "    return 'old'\n",
    "\n",
    "\n",
    "train['Age_Category'] = train['age'].apply(age_category)\n",
    "\n",
    "test['Age_Category'] = test['age'].apply(age_category)\n",
    "\n"
   ]
  },
  {
   "cell_type": "code",
   "execution_count": 20,
   "id": "ae109bbc",
   "metadata": {
    "execution": {
     "iopub.execute_input": "2024-10-09T08:07:53.821328Z",
     "iopub.status.busy": "2024-10-09T08:07:53.820930Z",
     "iopub.status.idle": "2024-10-09T08:07:54.060057Z",
     "shell.execute_reply": "2024-10-09T08:07:54.058968Z"
    },
    "papermill": {
     "duration": 0.264455,
     "end_time": "2024-10-09T08:07:54.062282",
     "exception": false,
     "start_time": "2024-10-09T08:07:53.797827",
     "status": "completed"
    },
    "tags": []
   },
   "outputs": [
    {
     "name": "stdout",
     "output_type": "stream",
     "text": [
      "campaign has no null values :  0\n",
      "\n",
      "---------------------------------------------------------------------------\n",
      "\n",
      "camaign less than zero is  0\n",
      "\n",
      "---------------------------------------------------------------------------\n",
      "\n",
      " Unique campaign  :  [ 2  1  3  4  6 45  5 44 12 61 58  7  8 20 43 17 13 15 48 34 11 54 22 26\n",
      " 29 21 10 49  9 52 53 57 16 50 46 47 23 37 18 38 32 36 39 56 14 30 41 63\n",
      " 51 28 25 62 55 42 35 31 59 19 40 33 24 27 60]\n",
      "\n",
      "---------------------------------------------------------------------------\n",
      "\n",
      "campaign value counts:  campaign\n",
      "1     14013\n",
      "2     10016\n",
      "3      4470\n",
      "4      2861\n",
      "5      1469\n",
      "      ...  \n",
      "48       44\n",
      "30       43\n",
      "40       43\n",
      "60       43\n",
      "53       38\n",
      "Name: count, Length: 63, dtype: int64\n",
      "\n",
      "---------------------------------------------------------------------------\n",
      "\n"
     ]
    },
    {
     "data": {
      "text/plain": [
       "<Axes: ylabel='Frequency'>"
      ]
     },
     "execution_count": 20,
     "metadata": {},
     "output_type": "execute_result"
    },
    {
     "data": {
      "image/png": "[encoded data removed]",
      "text/plain": [
       "<Figure size 640x480 with 1 Axes>"
      ]
     },
     "metadata": {},
     "output_type": "display_data"
    }
   ],
   "source": [
    "print('campaign has no null values : ' , train['campaign'].isnull().sum())\n",
    "\n",
    "print('')\n",
    "print('---------------------------------------------------------------------------')\n",
    "print('')\n",
    "\n",
    "\n",
    "print('camaign less than zero is ', train[train['campaign']<0]['campaign'].count())\n",
    "\n",
    "\n",
    "print('')\n",
    "print('---------------------------------------------------------------------------')\n",
    "print('')\n",
    "print(' Unique campaign  : ' , train['campaign'].unique())\n",
    "\n",
    "print('')\n",
    "print('---------------------------------------------------------------------------')\n",
    "print('')\n",
    "\n",
    "print('campaign value counts: ' , train['campaign'].value_counts())\n",
    "\n",
    "print('')\n",
    "print('---------------------------------------------------------------------------')\n",
    "print('')\n",
    "\n",
    "train['campaign'].value_counts().plot(kind='hist')\n",
    "\n"
   ]
  },
  {
   "cell_type": "code",
   "execution_count": 21,
   "id": "1b6e307f",
   "metadata": {
    "execution": {
     "iopub.execute_input": "2024-10-09T08:07:54.111448Z",
     "iopub.status.busy": "2024-10-09T08:07:54.110903Z",
     "iopub.status.idle": "2024-10-09T08:07:54.336120Z",
     "shell.execute_reply": "2024-10-09T08:07:54.335069Z"
    },
    "papermill": {
     "duration": 0.255736,
     "end_time": "2024-10-09T08:07:54.338439",
     "exception": false,
     "start_time": "2024-10-09T08:07:54.082703",
     "status": "completed"
    },
    "tags": []
   },
   "outputs": [
    {
     "name": "stdout",
     "output_type": "stream",
     "text": [
      "balance has no null values :  0\n",
      "\n",
      "---------------------------------------------------------------------------\n",
      "\n",
      "checking if balance is negetive and how many rows have balance less than zero: 2971\n",
      "\n",
      "---------------------------------------------------------------------------\n",
      "\n",
      " Unique balance values :  [  647   553  1397 ...  4307  6187 38594]\n",
      "\n",
      "---------------------------------------------------------------------------\n",
      "\n",
      "balance value counts:  balance\n",
      "0        2799\n",
      "1         149\n",
      "2         122\n",
      "4         115\n",
      "3         104\n",
      "         ... \n",
      "95094       1\n",
      "81074       1\n",
      "31565       1\n",
      "5278        1\n",
      "38594       1\n",
      "Name: count, Length: 9535, dtype: int64\n",
      "\n",
      "---------------------------------------------------------------------------\n",
      "\n"
     ]
    },
    {
     "data": {
      "text/plain": [
       "<Axes: ylabel='Frequency'>"
      ]
     },
     "execution_count": 21,
     "metadata": {},
     "output_type": "execute_result"
    },
    {
     "data": {
      "image/png": "[encoded data removed]",
      "text/plain": [
       "<Figure size 640x480 with 1 Axes>"
      ]
     },
     "metadata": {},
     "output_type": "display_data"
    }
   ],
   "source": [
    "print('balance has no null values : ' , train['balance'].isnull().sum())\n",
    "\n",
    "print('')\n",
    "print('---------------------------------------------------------------------------')\n",
    "print('')\n",
    "\n",
    "print('checking if balance is negetive and how many rows have balance less than zero:'  , train[train['balance']<0]['balance'].count())\n",
    "\n",
    "print('')\n",
    "print('---------------------------------------------------------------------------')\n",
    "print('')\n",
    "\n",
    "print(' Unique balance values : ' , train['balance'].unique())\n",
    "\n",
    "print('')\n",
    "print('---------------------------------------------------------------------------')\n",
    "print('')\n",
    "\n",
    "print('balance value counts: ' , train['balance'].value_counts())\n",
    "\n",
    "print('')\n",
    "print('---------------------------------------------------------------------------')\n",
    "print('')\n",
    "\n",
    "train['balance'].value_counts().plot(kind='hist')\n",
    "\n",
    "\n",
    "\n",
    "\n",
    "\n"
   ]
  },
  {
   "cell_type": "code",
   "execution_count": 22,
   "id": "00124f60",
   "metadata": {
    "execution": {
     "iopub.execute_input": "2024-10-09T08:07:54.380666Z",
     "iopub.status.busy": "2024-10-09T08:07:54.379935Z",
     "iopub.status.idle": "2024-10-09T08:07:54.617662Z",
     "shell.execute_reply": "2024-10-09T08:07:54.616543Z"
    },
    "papermill": {
     "duration": 0.261391,
     "end_time": "2024-10-09T08:07:54.620066",
     "exception": false,
     "start_time": "2024-10-09T08:07:54.358675",
     "status": "completed"
    },
    "tags": []
   },
   "outputs": [
    {
     "name": "stdout",
     "output_type": "stream",
     "text": [
      "pdays has no null values :  0\n",
      "\n",
      "---------------------------------------------------------------------------\n",
      "\n",
      " Unique pdays values :  [331  -1 852 661 152 599 365 367 238 129 287 174 120 368 371 187 610 364\n",
      " 633  80 125 356 248 186 278 154  90  98 574 352 561 260 801  78 596 343\n",
      " 671 175 159  12 111  31 342 357  74 100 289  84 109 245 369  83 536 216\n",
      "  89  97 252 143 378 336 172 160 191  91 848 258 317  94 196 362 188 272\n",
      " 138 298 116 101 591 360 234 505 631  82   8 300 472 173 530 103 236 316\n",
      " 370 611 271 305  79 474 405 293 442 178 232 299 213 184 237  93  37 255\n",
      " 353 259 181 315 147 349 335 165 295 203 290   6 767 302 169 320 148  19\n",
      " 435 328 645 526 150 318 347  29  96 254  35 136 350 759 358 670 348 224\n",
      " 114 102 407 326 330 665 760 445 373 265 190 285 246 644 337 161 264 562\n",
      " 189 363 630 652  44 478 322 176 783 597 344 339 110 334 167 204 166 816\n",
      " 484 177 775 366  32 480 200 408 421 247 291 261 579 244 730 324 434 525\n",
      " 156 153 157  95 439 286 163 197 182 309 257 283 461 824  92 704 195 170\n",
      " 655 121  68 332 651 504 403 263 183 440 431 185 202 105 477 746 310 622\n",
      " 149 698 427 847 115 620 219 846 301  40 649 481 438 215  61 531  59 643\n",
      " 303 117  64 168 158 338 515 516  75 779 606 355 400 743 134  53 706 321\n",
      " 274 578 345 270 141   1 251 575 705  81 340 192 266 262 560 276 208 243\n",
      " 428 375  11 180 314  99 228 774  76 518 695 209 193 206 282 861 304 828\n",
      "  55 284  87 210 551 135 312 587 468 557  50 406 113 329 556 764 179 239\n",
      " 145 249 323  41 201  33 844 221 256 212 281 450  86 580 422 385 233 514\n",
      "  28 268  30 795 205  57 361 860   2 327 346 132 473  63 396 657  88 647\n",
      " 854  73 107 126 171 581 198  24 402 325 433 269  85 646  69 605 733 488\n",
      " 462 805 217 745 292 151 426 127 131 351 359 240 769 789 388 503 306 313\n",
      " 863 866 479 547 390   5 528 341 640 648 859 625 725 567 387 669 374 225\n",
      " 380 496 155 506 642 722 802  56 118 553 456 333 559 714 409 791 267 806\n",
      " 451 415 685 558 773 383 833 467 311 534   3 459 241 819 798  52 139 104\n",
      " 511 455 307 624 601 494 308 458 112 842 522 555 394 275 498 768 273 694\n",
      " 499 381 294 708 457 146 550 845 425 297   7 871 615 752 737 543 668  60\n",
      " 864 124 796 829 250 280  77 674 130 412 600 483 538 588 548 475  70 372\n",
      " 164 418 223 712 391 279 133 751 227 464 734 106 740 857 629 436 443 253\n",
      " 812 853 123 577 437 778 613 386  38 399 711 376 869 827 721  43 469 776\n",
      " 199 398 862 735 229 680 761 780 663 686  62 870 230  14 119  42  27  17\n",
      " 697 781 545 521 517 675 242 485 211 618 509 128 667  21 404 108 736 603\n",
      " 718 218 586 831 684 658 834 826 617 144  46 463 454 786  67  10 430 493\n",
      " 810 710 701 784 354 799 584 688  47 868 637 593 662 492 448 681 207 726\n",
      " 757 825 510 739 750 277 855 654 813 673 384 460 222 410 838 628 296 621\n",
      " 677 732   9 319 194 417 140 632 691 659 589 741 288 814 822  71 397 382\n",
      " 490 554 758 392 569  22 466 542 235 541 487 565 619 544 413 650 389 476\n",
      " 508 728 529 793 500 537 429 636 449 772 137 762 491 566 770 850  45 856\n",
      " 497 664 424 785 609 830 702  39 744 626 612 563 512 634 122 447 231 717\n",
      " 414 627 713 486 818 672 432 709 419 598  25 787 719 614  13 582 656 471\n",
      " 576 696 687 162 749 777 756 489 523 811 214 377 837  18 226 804 573 416\n",
      " 446 797  36 520   4  66 465 792 379 639 602 754 546 401 766 635  49 840\n",
      " 572 858  58 821 782 771 604 731  54 608 807  23 699 851 585 693 729 616\n",
      " 660 820 808 841  65 765 411 607 571 763 727  72 470 803 653  16 142 539\n",
      " 513 843  15 742 564 552 592 638 507 676 839 549 689 590  26 809 753 723\n",
      " 815 788 747 420 790 524 720 683 690 519 716 835 568 623 570 444 678  48\n",
      " 482 535 595 836 594 707 817 502 441  34 800 533 395  20 453 832 540 849\n",
      " 666 495 679 865 501 393 794  51 700 703 532 715 867 692 452 823 220   0\n",
      " 724]\n",
      "\n",
      "---------------------------------------------------------------------------\n",
      "\n",
      "pdays value counts:  pdays\n",
      "-1      29446\n",
      " 182      135\n",
      " 92       117\n",
      " 91       106\n",
      " 183      100\n",
      "        ...  \n",
      " 836        1\n",
      " 594        1\n",
      " 659        1\n",
      " 817        1\n",
      " 724        1\n",
      "Name: count, Length: 865, dtype: int64\n",
      "\n",
      "---------------------------------------------------------------------------\n",
      "\n"
     ]
    },
    {
     "data": {
      "image/png": "[encoded data removed]",
      "text/plain": [
       "<Figure size 640x480 with 1 Axes>"
      ]
     },
     "metadata": {},
     "output_type": "display_data"
    }
   ],
   "source": [
    "print('pdays has no null values : ' , train['pdays'].isnull().sum())\n",
    "\n",
    "print('')\n",
    "print('---------------------------------------------------------------------------')\n",
    "print('')\n",
    "\n",
    "print(' Unique pdays values : ' , train['pdays'].unique())\n",
    "\n",
    "print('')\n",
    "print('---------------------------------------------------------------------------')\n",
    "print('')\n",
    "\n",
    "print('pdays value counts: ' , train['pdays'].value_counts())\n",
    "\n",
    "print('')\n",
    "print('---------------------------------------------------------------------------')\n",
    "print('')\n",
    "\n",
    "train['pdays'].value_counts().plot(kind='hist')\n",
    "\n",
    "\n",
    "\n",
    "train['previously_contacted'] = train['pdays'].apply(lambda x: 1 if x != -1 else 0)\n",
    "\n",
    "test['previously_contacted'] = test['pdays'].apply(lambda x: 1 if x != -1 else 0)\n"
   ]
  },
  {
   "cell_type": "code",
   "execution_count": 23,
   "id": "888f9351",
   "metadata": {
    "execution": {
     "iopub.execute_input": "2024-10-09T08:07:54.663427Z",
     "iopub.status.busy": "2024-10-09T08:07:54.662635Z",
     "iopub.status.idle": "2024-10-09T08:07:54.916629Z",
     "shell.execute_reply": "2024-10-09T08:07:54.915573Z"
    },
    "papermill": {
     "duration": 0.278182,
     "end_time": "2024-10-09T08:07:54.918870",
     "exception": false,
     "start_time": "2024-10-09T08:07:54.640688",
     "status": "completed"
    },
    "tags": []
   },
   "outputs": [
    {
     "name": "stdout",
     "output_type": "stream",
     "text": [
      "previous has no null values :  0\n",
      "\n",
      "---------------------------------------------------------------------------\n",
      "\n",
      "checking if previous is negetive and how many rows have previous less than zero: 0\n",
      "\n",
      "---------------------------------------------------------------------------\n",
      "\n",
      " Unique previous  :  [  1   0   4 143 234   3  18   2 225 219   6  12  16 248 217 116   8 119\n",
      "  37  69 113  14 265 175 103  28  86   5 196 156 207 218 148 213  87 241\n",
      "  60 235 172 255 266  17 135  99  20   9 270 229 188 105 141 153 131 182\n",
      " 223 177  70  75   7  91 236  85 100 160  30  63 178 150  72 233  40 145\n",
      " 272  24 249  97 193 140 222 128  90  10 155 122 134 252 117 173 203 226\n",
      "  23 194 208  77 274  38 273 244  15 176  96  31 133 259 191 101 197 192\n",
      " 152 216 204 206  71 180 250 268 144  81 110 136  43  19  74 187 205  66\n",
      " 269  36 166  29  53 200 261  13  61 186  62 104 138 123  78 189 147 185\n",
      " 179 129 190 111 139 211 245  22  51 171  26 254  84 174  46  48  58  68\n",
      " 228  11  80  55 107 232 202 132 264  56 260 181  32 163  94  83  54 240\n",
      " 154 198  49 221 242  35 120 125 243 256 146  67 124 108 169  82  39 258\n",
      " 112 237 114  59  42 165 199 184  92 168  21  88  33 159 183 109  65 164\n",
      " 215  93 246 102  95 201 162 195  41  64 157 257 263 267 126  47 212 149\n",
      "  52  73 239  25 118 161  27  76 121 170 230 262  89 137 220 209  57 251\n",
      " 247 115  34 238 271 167  98  50 142  45 227 275 106  79 210 214  44 253\n",
      " 224 151 231 130 158 127]\n",
      "\n",
      "---------------------------------------------------------------------------\n",
      "\n",
      "previous value counts:  previous\n",
      "0      29456\n",
      "1       2226\n",
      "2       1708\n",
      "3        907\n",
      "4        590\n",
      "       ...  \n",
      "163        5\n",
      "76         5\n",
      "180        5\n",
      "137        5\n",
      "231        4\n",
      "Name: count, Length: 276, dtype: int64\n",
      "\n",
      "---------------------------------------------------------------------------\n",
      "\n"
     ]
    },
    {
     "data": {
      "text/plain": [
       "<Axes: ylabel='Frequency'>"
      ]
     },
     "execution_count": 23,
     "metadata": {},
     "output_type": "execute_result"
    },
    {
     "data": {
      "image/png": "[encoded data removed]",
      "text/plain": [
       "<Figure size 640x480 with 1 Axes>"
      ]
     },
     "metadata": {},
     "output_type": "display_data"
    }
   ],
   "source": [
    "print('previous has no null values : ' , train['previous'].isnull().sum())\n",
    "\n",
    "print('')\n",
    "print('---------------------------------------------------------------------------')\n",
    "print('')\n",
    "\n",
    "\n",
    "print('checking if previous is negetive and how many rows have previous less than zero:'  , train[train['previous']<0]['previous'].count())\n",
    "\n",
    "\n",
    "print('')\n",
    "print('---------------------------------------------------------------------------')\n",
    "print('')\n",
    "\n",
    "\n",
    "print(' Unique previous  : ' , train['previous'].unique())\n",
    "\n",
    "print('')\n",
    "print('---------------------------------------------------------------------------')\n",
    "print('')\n",
    "\n",
    "print('previous value counts: ' , train['previous'].value_counts())\n",
    "\n",
    "print('')\n",
    "print('---------------------------------------------------------------------------')\n",
    "print('')\n",
    "\n",
    "train['previous'].value_counts().plot(kind='hist')\n"
   ]
  },
  {
   "cell_type": "code",
   "execution_count": 24,
   "id": "bb437de6",
   "metadata": {
    "execution": {
     "iopub.execute_input": "2024-10-09T08:07:55.015961Z",
     "iopub.status.busy": "2024-10-09T08:07:55.015012Z",
     "iopub.status.idle": "2024-10-09T08:07:55.116127Z",
     "shell.execute_reply": "2024-10-09T08:07:55.114910Z"
    },
    "papermill": {
     "duration": 0.125975,
     "end_time": "2024-10-09T08:07:55.118583",
     "exception": false,
     "start_time": "2024-10-09T08:07:54.992608",
     "status": "completed"
    },
    "tags": []
   },
   "outputs": [
    {
     "name": "stdout",
     "output_type": "stream",
     "text": [
      "Shape: (39211, 21)\n",
      "\n",
      "---------------------------------------------------------------------------\n",
      "\n",
      "<class 'pandas.core.frame.DataFrame'>\n",
      "RangeIndex: 39211 entries, 0 to 39210\n",
      "Data columns (total 21 columns):\n",
      " #   Column                Non-Null Count  Dtype         \n",
      "---  ------                --------------  -----         \n",
      " 0   last contact date     39211 non-null  datetime64[ns]\n",
      " 1   age                   39211 non-null  int64         \n",
      " 2   job                   39211 non-null  object        \n",
      " 3   marital               39211 non-null  object        \n",
      " 4   education             39211 non-null  object        \n",
      " 5   default               39211 non-null  int64         \n",
      " 6   balance               39211 non-null  int64         \n",
      " 7   housing               39211 non-null  int64         \n",
      " 8   loan                  39211 non-null  int64         \n",
      " 9   contact               39211 non-null  int64         \n",
      " 10  duration              39211 non-null  int64         \n",
      " 11  campaign              39211 non-null  int64         \n",
      " 12  pdays                 39211 non-null  int64         \n",
      " 13  previous              39211 non-null  int64         \n",
      " 14  poutcome              39211 non-null  object        \n",
      " 15  target                39211 non-null  object        \n",
      " 16  day                   39211 non-null  int32         \n",
      " 17  month                 39211 non-null  int32         \n",
      " 18  isSunday              39211 non-null  int64         \n",
      " 19  Age_Category          39211 non-null  object        \n",
      " 20  previously_contacted  39211 non-null  int64         \n",
      "dtypes: datetime64[ns](1), int32(2), int64(12), object(6)\n",
      "memory usage: 6.0+ MB\n",
      "None\n",
      "\n",
      "---------------------------------------------------------------------------\n",
      "\n"
     ]
    },
    {
     "data": {
      "text/html": [
       "<div>\n",
       "<style scoped>\n",
       "    .dataframe tbody tr th:only-of-type {\n",
       "        vertical-align: middle;\n",
       "    }\n",
       "\n",
       "    .dataframe tbody tr th {\n",
       "        vertical-align: top;\n",
       "    }\n",
       "\n",
       "    .dataframe thead th {\n",
       "        text-align: right;\n",
       "    }\n",
       "</style>\n",
       "<table border=\"1\" class=\"dataframe\">\n",
       "  <thead>\n",
       "    <tr style=\"text-align: right;\">\n",
       "      <th></th>\n",
       "      <th>last contact date</th>\n",
       "      <th>age</th>\n",
       "      <th>default</th>\n",
       "      <th>balance</th>\n",
       "      <th>housing</th>\n",
       "      <th>loan</th>\n",
       "      <th>contact</th>\n",
       "      <th>duration</th>\n",
       "      <th>campaign</th>\n",
       "      <th>pdays</th>\n",
       "      <th>previous</th>\n",
       "      <th>day</th>\n",
       "      <th>month</th>\n",
       "      <th>isSunday</th>\n",
       "      <th>previously_contacted</th>\n",
       "    </tr>\n",
       "  </thead>\n",
       "  <tbody>\n",
       "    <tr>\n",
       "      <th>count</th>\n",
       "      <td>39211</td>\n",
       "      <td>39211.000000</td>\n",
       "      <td>39211.000000</td>\n",
       "      <td>39211.000000</td>\n",
       "      <td>39211.000000</td>\n",
       "      <td>39211.000000</td>\n",
       "      <td>39211.000000</td>\n",
       "      <td>39211.000000</td>\n",
       "      <td>39211.000000</td>\n",
       "      <td>39211.000000</td>\n",
       "      <td>39211.000000</td>\n",
       "      <td>39211.000000</td>\n",
       "      <td>39211.000000</td>\n",
       "      <td>39211.000000</td>\n",
       "      <td>39211.000000</td>\n",
       "    </tr>\n",
       "    <tr>\n",
       "      <th>mean</th>\n",
       "      <td>2009-06-22 21:10:55.254902784</td>\n",
       "      <td>42.120247</td>\n",
       "      <td>0.057560</td>\n",
       "      <td>5441.781719</td>\n",
       "      <td>0.552320</td>\n",
       "      <td>0.188493</td>\n",
       "      <td>0.901941</td>\n",
       "      <td>439.062789</td>\n",
       "      <td>5.108770</td>\n",
       "      <td>72.256051</td>\n",
       "      <td>11.826171</td>\n",
       "      <td>2.822575</td>\n",
       "      <td>6.223993</td>\n",
       "      <td>0.157711</td>\n",
       "      <td>0.249037</td>\n",
       "    </tr>\n",
       "    <tr>\n",
       "      <th>min</th>\n",
       "      <td>2008-01-01 00:00:00</td>\n",
       "      <td>18.000000</td>\n",
       "      <td>0.000000</td>\n",
       "      <td>-8019.000000</td>\n",
       "      <td>0.000000</td>\n",
       "      <td>0.000000</td>\n",
       "      <td>0.000000</td>\n",
       "      <td>0.000000</td>\n",
       "      <td>1.000000</td>\n",
       "      <td>-1.000000</td>\n",
       "      <td>0.000000</td>\n",
       "      <td>0.000000</td>\n",
       "      <td>1.000000</td>\n",
       "      <td>0.000000</td>\n",
       "      <td>0.000000</td>\n",
       "    </tr>\n",
       "    <tr>\n",
       "      <th>25%</th>\n",
       "      <td>2008-08-11 00:00:00</td>\n",
       "      <td>33.000000</td>\n",
       "      <td>0.000000</td>\n",
       "      <td>98.000000</td>\n",
       "      <td>0.000000</td>\n",
       "      <td>0.000000</td>\n",
       "      <td>1.000000</td>\n",
       "      <td>109.000000</td>\n",
       "      <td>1.000000</td>\n",
       "      <td>-1.000000</td>\n",
       "      <td>0.000000</td>\n",
       "      <td>1.000000</td>\n",
       "      <td>5.000000</td>\n",
       "      <td>0.000000</td>\n",
       "      <td>0.000000</td>\n",
       "    </tr>\n",
       "    <tr>\n",
       "      <th>50%</th>\n",
       "      <td>2009-06-05 00:00:00</td>\n",
       "      <td>40.000000</td>\n",
       "      <td>0.000000</td>\n",
       "      <td>549.000000</td>\n",
       "      <td>1.000000</td>\n",
       "      <td>0.000000</td>\n",
       "      <td>1.000000</td>\n",
       "      <td>197.000000</td>\n",
       "      <td>2.000000</td>\n",
       "      <td>-1.000000</td>\n",
       "      <td>0.000000</td>\n",
       "      <td>3.000000</td>\n",
       "      <td>6.000000</td>\n",
       "      <td>0.000000</td>\n",
       "      <td>0.000000</td>\n",
       "    </tr>\n",
       "    <tr>\n",
       "      <th>75%</th>\n",
       "      <td>2010-05-08 00:00:00</td>\n",
       "      <td>50.000000</td>\n",
       "      <td>0.000000</td>\n",
       "      <td>2030.000000</td>\n",
       "      <td>1.000000</td>\n",
       "      <td>0.000000</td>\n",
       "      <td>1.000000</td>\n",
       "      <td>380.000000</td>\n",
       "      <td>4.000000</td>\n",
       "      <td>-1.000000</td>\n",
       "      <td>0.000000</td>\n",
       "      <td>4.000000</td>\n",
       "      <td>8.000000</td>\n",
       "      <td>0.000000</td>\n",
       "      <td>0.000000</td>\n",
       "    </tr>\n",
       "    <tr>\n",
       "      <th>max</th>\n",
       "      <td>2010-12-30 00:00:00</td>\n",
       "      <td>95.000000</td>\n",
       "      <td>1.000000</td>\n",
       "      <td>102127.000000</td>\n",
       "      <td>1.000000</td>\n",
       "      <td>1.000000</td>\n",
       "      <td>1.000000</td>\n",
       "      <td>4918.000000</td>\n",
       "      <td>63.000000</td>\n",
       "      <td>871.000000</td>\n",
       "      <td>275.000000</td>\n",
       "      <td>6.000000</td>\n",
       "      <td>12.000000</td>\n",
       "      <td>1.000000</td>\n",
       "      <td>1.000000</td>\n",
       "    </tr>\n",
       "    <tr>\n",
       "      <th>std</th>\n",
       "      <td>NaN</td>\n",
       "      <td>12.709352</td>\n",
       "      <td>0.232913</td>\n",
       "      <td>16365.292065</td>\n",
       "      <td>0.497261</td>\n",
       "      <td>0.391110</td>\n",
       "      <td>0.297398</td>\n",
       "      <td>769.096291</td>\n",
       "      <td>9.890153</td>\n",
       "      <td>160.942593</td>\n",
       "      <td>44.140259</td>\n",
       "      <td>1.741966</td>\n",
       "      <td>2.614273</td>\n",
       "      <td>0.364474</td>\n",
       "      <td>0.432461</td>\n",
       "    </tr>\n",
       "  </tbody>\n",
       "</table>\n",
       "</div>"
      ],
      "text/plain": [
       "                   last contact date           age       default  \\\n",
       "count                          39211  39211.000000  39211.000000   \n",
       "mean   2009-06-22 21:10:55.254902784     42.120247      0.057560   \n",
       "min              2008-01-01 00:00:00     18.000000      0.000000   \n",
       "25%              2008-08-11 00:00:00     33.000000      0.000000   \n",
       "50%              2009-06-05 00:00:00     40.000000      0.000000   \n",
       "75%              2010-05-08 00:00:00     50.000000      0.000000   \n",
       "max              2010-12-30 00:00:00     95.000000      1.000000   \n",
       "std                              NaN     12.709352      0.232913   \n",
       "\n",
       "             balance       housing          loan       contact      duration  \\\n",
       "count   39211.000000  39211.000000  39211.000000  39211.000000  39211.000000   \n",
       "mean     5441.781719      0.552320      0.188493      0.901941    439.062789   \n",
       "min     -8019.000000      0.000000      0.000000      0.000000      0.000000   \n",
       "25%        98.000000      0.000000      0.000000      1.000000    109.000000   \n",
       "50%       549.000000      1.000000      0.000000      1.000000    197.000000   \n",
       "75%      2030.000000      1.000000      0.000000      1.000000    380.000000   \n",
       "max    102127.000000      1.000000      1.000000      1.000000   4918.000000   \n",
       "std     16365.292065      0.497261      0.391110      0.297398    769.096291   \n",
       "\n",
       "           campaign         pdays      previous           day         month  \\\n",
       "count  39211.000000  39211.000000  39211.000000  39211.000000  39211.000000   \n",
       "mean       5.108770     72.256051     11.826171      2.822575      6.223993   \n",
       "min        1.000000     -1.000000      0.000000      0.000000      1.000000   \n",
       "25%        1.000000     -1.000000      0.000000      1.000000      5.000000   \n",
       "50%        2.000000     -1.000000      0.000000      3.000000      6.000000   \n",
       "75%        4.000000     -1.000000      0.000000      4.000000      8.000000   \n",
       "max       63.000000    871.000000    275.000000      6.000000     12.000000   \n",
       "std        9.890153    160.942593     44.140259      1.741966      2.614273   \n",
       "\n",
       "           isSunday  previously_contacted  \n",
       "count  39211.000000          39211.000000  \n",
       "mean       0.157711              0.249037  \n",
       "min        0.000000              0.000000  \n",
       "25%        0.000000              0.000000  \n",
       "50%        0.000000              0.000000  \n",
       "75%        0.000000              0.000000  \n",
       "max        1.000000              1.000000  \n",
       "std        0.364474              0.432461  "
      ]
     },
     "execution_count": 24,
     "metadata": {},
     "output_type": "execute_result"
    }
   ],
   "source": [
    "print('Shape:', train.shape)\n",
    "print('')\n",
    "print('---------------------------------------------------------------------------')\n",
    "print('')\n",
    "print(train.info())\n",
    "print('')\n",
    "print('---------------------------------------------------------------------------')\n",
    "print('')\n",
    "train.describe()"
   ]
  },
  {
   "cell_type": "markdown",
   "id": "e0f76464",
   "metadata": {
    "papermill": {
     "duration": 0.021528,
     "end_time": "2024-10-09T08:07:55.162137",
     "exception": false,
     "start_time": "2024-10-09T08:07:55.140609",
     "status": "completed"
    },
    "tags": []
   },
   "source": [
    "# Column Transformer"
   ]
  },
  {
   "cell_type": "code",
   "execution_count": 25,
   "id": "cbaf150f",
   "metadata": {
    "execution": {
     "iopub.execute_input": "2024-10-09T08:07:55.207881Z",
     "iopub.status.busy": "2024-10-09T08:07:55.207062Z",
     "iopub.status.idle": "2024-10-09T08:07:55.231028Z",
     "shell.execute_reply": "2024-10-09T08:07:55.229864Z"
    },
    "papermill": {
     "duration": 0.049816,
     "end_time": "2024-10-09T08:07:55.233595",
     "exception": false,
     "start_time": "2024-10-09T08:07:55.183779",
     "status": "completed"
    },
    "tags": []
   },
   "outputs": [
    {
     "name": "stdout",
     "output_type": "stream",
     "text": [
      "<class 'pandas.core.frame.DataFrame'>\n",
      "RangeIndex: 39211 entries, 0 to 39210\n",
      "Data columns (total 21 columns):\n",
      " #   Column                Non-Null Count  Dtype         \n",
      "---  ------                --------------  -----         \n",
      " 0   last contact date     39211 non-null  datetime64[ns]\n",
      " 1   age                   39211 non-null  int64         \n",
      " 2   job                   39211 non-null  object        \n",
      " 3   marital               39211 non-null  object        \n",
      " 4   education             39211 non-null  object        \n",
      " 5   default               39211 non-null  int64         \n",
      " 6   balance               39211 non-null  int64         \n",
      " 7   housing               39211 non-null  int64         \n",
      " 8   loan                  39211 non-null  int64         \n",
      " 9   contact               39211 non-null  int64         \n",
      " 10  duration              39211 non-null  int64         \n",
      " 11  campaign              39211 non-null  int64         \n",
      " 12  pdays                 39211 non-null  int64         \n",
      " 13  previous              39211 non-null  int64         \n",
      " 14  poutcome              39211 non-null  object        \n",
      " 15  target                39211 non-null  object        \n",
      " 16  day                   39211 non-null  int32         \n",
      " 17  month                 39211 non-null  int32         \n",
      " 18  isSunday              39211 non-null  int64         \n",
      " 19  Age_Category          39211 non-null  object        \n",
      " 20  previously_contacted  39211 non-null  int64         \n",
      "dtypes: datetime64[ns](1), int32(2), int64(12), object(6)\n",
      "memory usage: 6.0+ MB\n"
     ]
    }
   ],
   "source": [
    "train.info()"
   ]
  },
  {
   "cell_type": "code",
   "execution_count": 26,
   "id": "9a222452",
   "metadata": {
    "execution": {
     "iopub.execute_input": "2024-10-09T08:07:55.279338Z",
     "iopub.status.busy": "2024-10-09T08:07:55.278599Z",
     "iopub.status.idle": "2024-10-09T08:07:55.291702Z",
     "shell.execute_reply": "2024-10-09T08:07:55.290803Z"
    },
    "papermill": {
     "duration": 0.038687,
     "end_time": "2024-10-09T08:07:55.294203",
     "exception": false,
     "start_time": "2024-10-09T08:07:55.255516",
     "status": "completed"
    },
    "tags": []
   },
   "outputs": [],
   "source": [
    "from sklearn.compose import ColumnTransformer\n",
    "from sklearn.preprocessing import StandardScaler , OneHotEncoder  , LabelEncoder, RobustScaler , OrdinalEncoder\n",
    "\n",
    "col_transformer=ColumnTransformer(transformers=[\n",
    "    \n",
    "    ('numerical_cols' , RobustScaler(),['age','balance','campaign','previous', 'duration']), \n",
    "    ('categorical_cols' , OneHotEncoder(handle_unknown='ignore',sparse_output=False),['job','marital','poutcome','education','Age_Category' ,'day','month','Age_Category','education']),\n",
    "#     ('label_cols', OrdinalEncoder(),['education' , 'Age_Category'])\n",
    "   \n",
    "    \n",
    "])"
   ]
  },
  {
   "cell_type": "code",
   "execution_count": 27,
   "id": "0b430fcf",
   "metadata": {
    "execution": {
     "iopub.execute_input": "2024-10-09T08:07:55.340460Z",
     "iopub.status.busy": "2024-10-09T08:07:55.339493Z",
     "iopub.status.idle": "2024-10-09T08:07:55.411154Z",
     "shell.execute_reply": "2024-10-09T08:07:55.410113Z"
    },
    "papermill": {
     "duration": 0.097227,
     "end_time": "2024-10-09T08:07:55.413488",
     "exception": false,
     "start_time": "2024-10-09T08:07:55.316261",
     "status": "completed"
    },
    "tags": []
   },
   "outputs": [
    {
     "data": {
      "text/html": [
       "<div>\n",
       "<style scoped>\n",
       "    .dataframe tbody tr th:only-of-type {\n",
       "        vertical-align: middle;\n",
       "    }\n",
       "\n",
       "    .dataframe tbody tr th {\n",
       "        vertical-align: top;\n",
       "    }\n",
       "\n",
       "    .dataframe thead th {\n",
       "        text-align: right;\n",
       "    }\n",
       "</style>\n",
       "<table border=\"1\" class=\"dataframe\">\n",
       "  <thead>\n",
       "    <tr style=\"text-align: right;\">\n",
       "      <th></th>\n",
       "      <th>last contact date</th>\n",
       "      <th>age</th>\n",
       "      <th>job</th>\n",
       "      <th>marital</th>\n",
       "      <th>education</th>\n",
       "      <th>default</th>\n",
       "      <th>balance</th>\n",
       "      <th>housing</th>\n",
       "      <th>loan</th>\n",
       "      <th>contact</th>\n",
       "      <th>...</th>\n",
       "      <th>campaign</th>\n",
       "      <th>pdays</th>\n",
       "      <th>previous</th>\n",
       "      <th>poutcome</th>\n",
       "      <th>target</th>\n",
       "      <th>day</th>\n",
       "      <th>month</th>\n",
       "      <th>isSunday</th>\n",
       "      <th>Age_Category</th>\n",
       "      <th>previously_contacted</th>\n",
       "    </tr>\n",
       "  </thead>\n",
       "  <tbody>\n",
       "    <tr>\n",
       "      <th>0</th>\n",
       "      <td>2009-04-17</td>\n",
       "      <td>26</td>\n",
       "      <td>blue-collar</td>\n",
       "      <td>married</td>\n",
       "      <td>secondary</td>\n",
       "      <td>0</td>\n",
       "      <td>647</td>\n",
       "      <td>1</td>\n",
       "      <td>0</td>\n",
       "      <td>1</td>\n",
       "      <td>...</td>\n",
       "      <td>2</td>\n",
       "      <td>331</td>\n",
       "      <td>1</td>\n",
       "      <td>other</td>\n",
       "      <td>no</td>\n",
       "      <td>4</td>\n",
       "      <td>4</td>\n",
       "      <td>0</td>\n",
       "      <td>young</td>\n",
       "      <td>1</td>\n",
       "    </tr>\n",
       "    <tr>\n",
       "      <th>1</th>\n",
       "      <td>2009-10-11</td>\n",
       "      <td>52</td>\n",
       "      <td>technician</td>\n",
       "      <td>married</td>\n",
       "      <td>secondary</td>\n",
       "      <td>0</td>\n",
       "      <td>553</td>\n",
       "      <td>1</td>\n",
       "      <td>0</td>\n",
       "      <td>0</td>\n",
       "      <td>...</td>\n",
       "      <td>1</td>\n",
       "      <td>-1</td>\n",
       "      <td>0</td>\n",
       "      <td>failure</td>\n",
       "      <td>no</td>\n",
       "      <td>6</td>\n",
       "      <td>10</td>\n",
       "      <td>0</td>\n",
       "      <td>middle</td>\n",
       "      <td>0</td>\n",
       "    </tr>\n",
       "    <tr>\n",
       "      <th>2</th>\n",
       "      <td>2010-11-20</td>\n",
       "      <td>44</td>\n",
       "      <td>blue-collar</td>\n",
       "      <td>married</td>\n",
       "      <td>secondary</td>\n",
       "      <td>0</td>\n",
       "      <td>1397</td>\n",
       "      <td>0</td>\n",
       "      <td>0</td>\n",
       "      <td>1</td>\n",
       "      <td>...</td>\n",
       "      <td>1</td>\n",
       "      <td>-1</td>\n",
       "      <td>0</td>\n",
       "      <td>failure</td>\n",
       "      <td>no</td>\n",
       "      <td>5</td>\n",
       "      <td>11</td>\n",
       "      <td>0</td>\n",
       "      <td>middle</td>\n",
       "      <td>0</td>\n",
       "    </tr>\n",
       "    <tr>\n",
       "      <th>3</th>\n",
       "      <td>2009-09-01</td>\n",
       "      <td>33</td>\n",
       "      <td>admin.</td>\n",
       "      <td>married</td>\n",
       "      <td>secondary</td>\n",
       "      <td>0</td>\n",
       "      <td>394</td>\n",
       "      <td>1</td>\n",
       "      <td>0</td>\n",
       "      <td>0</td>\n",
       "      <td>...</td>\n",
       "      <td>3</td>\n",
       "      <td>-1</td>\n",
       "      <td>0</td>\n",
       "      <td>failure</td>\n",
       "      <td>no</td>\n",
       "      <td>1</td>\n",
       "      <td>9</td>\n",
       "      <td>1</td>\n",
       "      <td>young</td>\n",
       "      <td>0</td>\n",
       "    </tr>\n",
       "    <tr>\n",
       "      <th>4</th>\n",
       "      <td>2008-01-29</td>\n",
       "      <td>31</td>\n",
       "      <td>entrepreneur</td>\n",
       "      <td>single</td>\n",
       "      <td>tertiary</td>\n",
       "      <td>0</td>\n",
       "      <td>137</td>\n",
       "      <td>0</td>\n",
       "      <td>0</td>\n",
       "      <td>1</td>\n",
       "      <td>...</td>\n",
       "      <td>2</td>\n",
       "      <td>-1</td>\n",
       "      <td>0</td>\n",
       "      <td>failure</td>\n",
       "      <td>no</td>\n",
       "      <td>1</td>\n",
       "      <td>1</td>\n",
       "      <td>1</td>\n",
       "      <td>young</td>\n",
       "      <td>0</td>\n",
       "    </tr>\n",
       "    <tr>\n",
       "      <th>...</th>\n",
       "      <td>...</td>\n",
       "      <td>...</td>\n",
       "      <td>...</td>\n",
       "      <td>...</td>\n",
       "      <td>...</td>\n",
       "      <td>...</td>\n",
       "      <td>...</td>\n",
       "      <td>...</td>\n",
       "      <td>...</td>\n",
       "      <td>...</td>\n",
       "      <td>...</td>\n",
       "      <td>...</td>\n",
       "      <td>...</td>\n",
       "      <td>...</td>\n",
       "      <td>...</td>\n",
       "      <td>...</td>\n",
       "      <td>...</td>\n",
       "      <td>...</td>\n",
       "      <td>...</td>\n",
       "      <td>...</td>\n",
       "      <td>...</td>\n",
       "    </tr>\n",
       "    <tr>\n",
       "      <th>39206</th>\n",
       "      <td>2008-07-31</td>\n",
       "      <td>31</td>\n",
       "      <td>technician</td>\n",
       "      <td>single</td>\n",
       "      <td>secondary</td>\n",
       "      <td>0</td>\n",
       "      <td>0</td>\n",
       "      <td>1</td>\n",
       "      <td>0</td>\n",
       "      <td>1</td>\n",
       "      <td>...</td>\n",
       "      <td>34</td>\n",
       "      <td>-1</td>\n",
       "      <td>0</td>\n",
       "      <td>failure</td>\n",
       "      <td>no</td>\n",
       "      <td>3</td>\n",
       "      <td>7</td>\n",
       "      <td>0</td>\n",
       "      <td>young</td>\n",
       "      <td>0</td>\n",
       "    </tr>\n",
       "    <tr>\n",
       "      <th>39207</th>\n",
       "      <td>2009-07-31</td>\n",
       "      <td>59</td>\n",
       "      <td>admin.</td>\n",
       "      <td>married</td>\n",
       "      <td>primary</td>\n",
       "      <td>0</td>\n",
       "      <td>6187</td>\n",
       "      <td>0</td>\n",
       "      <td>0</td>\n",
       "      <td>1</td>\n",
       "      <td>...</td>\n",
       "      <td>4</td>\n",
       "      <td>-1</td>\n",
       "      <td>0</td>\n",
       "      <td>failure</td>\n",
       "      <td>no</td>\n",
       "      <td>4</td>\n",
       "      <td>7</td>\n",
       "      <td>0</td>\n",
       "      <td>middle</td>\n",
       "      <td>0</td>\n",
       "    </tr>\n",
       "    <tr>\n",
       "      <th>39208</th>\n",
       "      <td>2008-06-02</td>\n",
       "      <td>36</td>\n",
       "      <td>blue-collar</td>\n",
       "      <td>married</td>\n",
       "      <td>secondary</td>\n",
       "      <td>0</td>\n",
       "      <td>63</td>\n",
       "      <td>1</td>\n",
       "      <td>0</td>\n",
       "      <td>1</td>\n",
       "      <td>...</td>\n",
       "      <td>8</td>\n",
       "      <td>-1</td>\n",
       "      <td>0</td>\n",
       "      <td>failure</td>\n",
       "      <td>no</td>\n",
       "      <td>0</td>\n",
       "      <td>6</td>\n",
       "      <td>0</td>\n",
       "      <td>young</td>\n",
       "      <td>0</td>\n",
       "    </tr>\n",
       "    <tr>\n",
       "      <th>39209</th>\n",
       "      <td>2010-03-20</td>\n",
       "      <td>28</td>\n",
       "      <td>student</td>\n",
       "      <td>single</td>\n",
       "      <td>secondary</td>\n",
       "      <td>0</td>\n",
       "      <td>5916</td>\n",
       "      <td>0</td>\n",
       "      <td>0</td>\n",
       "      <td>1</td>\n",
       "      <td>...</td>\n",
       "      <td>5</td>\n",
       "      <td>-1</td>\n",
       "      <td>0</td>\n",
       "      <td>failure</td>\n",
       "      <td>no</td>\n",
       "      <td>5</td>\n",
       "      <td>3</td>\n",
       "      <td>0</td>\n",
       "      <td>young</td>\n",
       "      <td>0</td>\n",
       "    </tr>\n",
       "    <tr>\n",
       "      <th>39210</th>\n",
       "      <td>2010-03-16</td>\n",
       "      <td>51</td>\n",
       "      <td>student</td>\n",
       "      <td>divorced</td>\n",
       "      <td>tertiary</td>\n",
       "      <td>1</td>\n",
       "      <td>38594</td>\n",
       "      <td>1</td>\n",
       "      <td>0</td>\n",
       "      <td>1</td>\n",
       "      <td>...</td>\n",
       "      <td>19</td>\n",
       "      <td>780</td>\n",
       "      <td>148</td>\n",
       "      <td>success</td>\n",
       "      <td>yes</td>\n",
       "      <td>1</td>\n",
       "      <td>3</td>\n",
       "      <td>1</td>\n",
       "      <td>middle</td>\n",
       "      <td>1</td>\n",
       "    </tr>\n",
       "  </tbody>\n",
       "</table>\n",
       "<p>39211 rows × 21 columns</p>\n",
       "</div>"
      ],
      "text/plain": [
       "      last contact date  age           job   marital  education  default  \\\n",
       "0            2009-04-17   26   blue-collar   married  secondary        0   \n",
       "1            2009-10-11   52    technician   married  secondary        0   \n",
       "2            2010-11-20   44   blue-collar   married  secondary        0   \n",
       "3            2009-09-01   33        admin.   married  secondary        0   \n",
       "4            2008-01-29   31  entrepreneur    single   tertiary        0   \n",
       "...                 ...  ...           ...       ...        ...      ...   \n",
       "39206        2008-07-31   31    technician    single  secondary        0   \n",
       "39207        2009-07-31   59        admin.   married    primary        0   \n",
       "39208        2008-06-02   36   blue-collar   married  secondary        0   \n",
       "39209        2010-03-20   28       student    single  secondary        0   \n",
       "39210        2010-03-16   51       student  divorced   tertiary        1   \n",
       "\n",
       "       balance  housing  loan  contact  ...  campaign  pdays  previous  \\\n",
       "0          647        1     0        1  ...         2    331         1   \n",
       "1          553        1     0        0  ...         1     -1         0   \n",
       "2         1397        0     0        1  ...         1     -1         0   \n",
       "3          394        1     0        0  ...         3     -1         0   \n",
       "4          137        0     0        1  ...         2     -1         0   \n",
       "...        ...      ...   ...      ...  ...       ...    ...       ...   \n",
       "39206        0        1     0        1  ...        34     -1         0   \n",
       "39207     6187        0     0        1  ...         4     -1         0   \n",
       "39208       63        1     0        1  ...         8     -1         0   \n",
       "39209     5916        0     0        1  ...         5     -1         0   \n",
       "39210    38594        1     0        1  ...        19    780       148   \n",
       "\n",
       "       poutcome target day  month  isSunday  Age_Category previously_contacted  \n",
       "0         other     no   4      4         0         young                    1  \n",
       "1       failure     no   6     10         0        middle                    0  \n",
       "2       failure     no   5     11         0        middle                    0  \n",
       "3       failure     no   1      9         1         young                    0  \n",
       "4       failure     no   1      1         1         young                    0  \n",
       "...         ...    ...  ..    ...       ...           ...                  ...  \n",
       "39206   failure     no   3      7         0         young                    0  \n",
       "39207   failure     no   4      7         0        middle                    0  \n",
       "39208   failure     no   0      6         0         young                    0  \n",
       "39209   failure     no   5      3         0         young                    0  \n",
       "39210   success    yes   1      3         1        middle                    1  \n",
       "\n",
       "[39211 rows x 21 columns]"
      ]
     },
     "execution_count": 27,
     "metadata": {},
     "output_type": "execute_result"
    }
   ],
   "source": [
    "train"
   ]
  },
  {
   "cell_type": "code",
   "execution_count": 28,
   "id": "77146a8d",
   "metadata": {
    "execution": {
     "iopub.execute_input": "2024-10-09T08:07:55.462467Z",
     "iopub.status.busy": "2024-10-09T08:07:55.461478Z",
     "iopub.status.idle": "2024-10-09T08:07:55.468160Z",
     "shell.execute_reply": "2024-10-09T08:07:55.467170Z"
    },
    "papermill": {
     "duration": 0.033971,
     "end_time": "2024-10-09T08:07:55.470266",
     "exception": false,
     "start_time": "2024-10-09T08:07:55.436295",
     "status": "completed"
    },
    "tags": []
   },
   "outputs": [
    {
     "data": {
      "text/plain": [
       "(39211, 21)"
      ]
     },
     "execution_count": 28,
     "metadata": {},
     "output_type": "execute_result"
    }
   ],
   "source": [
    "train.shape"
   ]
  },
  {
   "cell_type": "code",
   "execution_count": 29,
   "id": "05591a85",
   "metadata": {
    "execution": {
     "iopub.execute_input": "2024-10-09T08:07:55.517448Z",
     "iopub.status.busy": "2024-10-09T08:07:55.517048Z",
     "iopub.status.idle": "2024-10-09T08:07:55.548350Z",
     "shell.execute_reply": "2024-10-09T08:07:55.547422Z"
    },
    "papermill": {
     "duration": 0.057538,
     "end_time": "2024-10-09T08:07:55.550723",
     "exception": false,
     "start_time": "2024-10-09T08:07:55.493185",
     "status": "completed"
    },
    "tags": []
   },
   "outputs": [],
   "source": [
    "\n",
    "train_yes=train[train['target']=='no'].sample(5827 , random_state=42)\n",
    "train_no=train[train['target']=='yes']\n",
    "\n",
    "train= pd.concat([train_yes, train_no])\n"
   ]
  },
  {
   "cell_type": "code",
   "execution_count": 30,
   "id": "b593194f",
   "metadata": {
    "execution": {
     "iopub.execute_input": "2024-10-09T08:07:55.598555Z",
     "iopub.status.busy": "2024-10-09T08:07:55.598129Z",
     "iopub.status.idle": "2024-10-09T08:07:55.604849Z",
     "shell.execute_reply": "2024-10-09T08:07:55.603789Z"
    },
    "papermill": {
     "duration": 0.033646,
     "end_time": "2024-10-09T08:07:55.607093",
     "exception": false,
     "start_time": "2024-10-09T08:07:55.573447",
     "status": "completed"
    },
    "tags": []
   },
   "outputs": [
    {
     "data": {
      "text/plain": [
       "(11654, 21)"
      ]
     },
     "execution_count": 30,
     "metadata": {},
     "output_type": "execute_result"
    }
   ],
   "source": [
    "train.shape"
   ]
  },
  {
   "cell_type": "code",
   "execution_count": 31,
   "id": "d4e2905e",
   "metadata": {
    "execution": {
     "iopub.execute_input": "2024-10-09T08:07:55.655152Z",
     "iopub.status.busy": "2024-10-09T08:07:55.654091Z",
     "iopub.status.idle": "2024-10-09T08:07:55.667378Z",
     "shell.execute_reply": "2024-10-09T08:07:55.666139Z"
    },
    "papermill": {
     "duration": 0.040073,
     "end_time": "2024-10-09T08:07:55.669931",
     "exception": false,
     "start_time": "2024-10-09T08:07:55.629858",
     "status": "completed"
    },
    "tags": []
   },
   "outputs": [],
   "source": [
    "y=train['target']\n",
    "\n",
    "# duration\n",
    "train=train[['age','balance','campaign','previous','duration' ,'job','marital','poutcome' ,'education','previously_contacted' ,'default','housing','loan','contact' ,'Age_Category','day','month','isSunday']]\n",
    "\n",
    "\n",
    "\n",
    "# duration\n",
    "test=test[['age','balance','campaign','previous','duration' ,'job','marital','poutcome' ,'education','previously_contacted' ,'default','housing','loan','contact' ,'Age_Category','day','month','isSunday']]\n"
   ]
  },
  {
   "cell_type": "code",
   "execution_count": 32,
   "id": "f2cd5b39",
   "metadata": {
    "execution": {
     "iopub.execute_input": "2024-10-09T08:07:55.717168Z",
     "iopub.status.busy": "2024-10-09T08:07:55.716764Z",
     "iopub.status.idle": "2024-10-09T08:07:55.724133Z",
     "shell.execute_reply": "2024-10-09T08:07:55.723049Z"
    },
    "papermill": {
     "duration": 0.033938,
     "end_time": "2024-10-09T08:07:55.726683",
     "exception": false,
     "start_time": "2024-10-09T08:07:55.692745",
     "status": "completed"
    },
    "tags": []
   },
   "outputs": [
    {
     "name": "stdout",
     "output_type": "stream",
     "text": [
      "target\n",
      "no     5827\n",
      "yes    5827\n",
      "Name: count, dtype: int64\n"
     ]
    }
   ],
   "source": [
    "print(y.value_counts())"
   ]
  },
  {
   "cell_type": "code",
   "execution_count": 33,
   "id": "7299e8f8",
   "metadata": {
    "execution": {
     "iopub.execute_input": "2024-10-09T08:07:55.774121Z",
     "iopub.status.busy": "2024-10-09T08:07:55.773709Z",
     "iopub.status.idle": "2024-10-09T08:07:55.795358Z",
     "shell.execute_reply": "2024-10-09T08:07:55.794264Z"
    },
    "papermill": {
     "duration": 0.048268,
     "end_time": "2024-10-09T08:07:55.797747",
     "exception": false,
     "start_time": "2024-10-09T08:07:55.749479",
     "status": "completed"
    },
    "tags": []
   },
   "outputs": [
    {
     "data": {
      "text/html": [
       "<div>\n",
       "<style scoped>\n",
       "    .dataframe tbody tr th:only-of-type {\n",
       "        vertical-align: middle;\n",
       "    }\n",
       "\n",
       "    .dataframe tbody tr th {\n",
       "        vertical-align: top;\n",
       "    }\n",
       "\n",
       "    .dataframe thead th {\n",
       "        text-align: right;\n",
       "    }\n",
       "</style>\n",
       "<table border=\"1\" class=\"dataframe\">\n",
       "  <thead>\n",
       "    <tr style=\"text-align: right;\">\n",
       "      <th></th>\n",
       "      <th>age</th>\n",
       "      <th>balance</th>\n",
       "      <th>campaign</th>\n",
       "      <th>previous</th>\n",
       "      <th>duration</th>\n",
       "      <th>job</th>\n",
       "      <th>marital</th>\n",
       "      <th>poutcome</th>\n",
       "      <th>education</th>\n",
       "      <th>previously_contacted</th>\n",
       "      <th>default</th>\n",
       "      <th>housing</th>\n",
       "      <th>loan</th>\n",
       "      <th>contact</th>\n",
       "      <th>Age_Category</th>\n",
       "      <th>day</th>\n",
       "      <th>month</th>\n",
       "      <th>isSunday</th>\n",
       "    </tr>\n",
       "  </thead>\n",
       "  <tbody>\n",
       "    <tr>\n",
       "      <th>228</th>\n",
       "      <td>27</td>\n",
       "      <td>3096</td>\n",
       "      <td>4</td>\n",
       "      <td>1</td>\n",
       "      <td>62</td>\n",
       "      <td>student</td>\n",
       "      <td>single</td>\n",
       "      <td>failure</td>\n",
       "      <td>secondary</td>\n",
       "      <td>1</td>\n",
       "      <td>0</td>\n",
       "      <td>1</td>\n",
       "      <td>0</td>\n",
       "      <td>0</td>\n",
       "      <td>young</td>\n",
       "      <td>3</td>\n",
       "      <td>5</td>\n",
       "      <td>0</td>\n",
       "    </tr>\n",
       "    <tr>\n",
       "      <th>13212</th>\n",
       "      <td>38</td>\n",
       "      <td>207</td>\n",
       "      <td>2</td>\n",
       "      <td>0</td>\n",
       "      <td>76</td>\n",
       "      <td>technician</td>\n",
       "      <td>single</td>\n",
       "      <td>failure</td>\n",
       "      <td>secondary</td>\n",
       "      <td>0</td>\n",
       "      <td>0</td>\n",
       "      <td>0</td>\n",
       "      <td>0</td>\n",
       "      <td>1</td>\n",
       "      <td>young</td>\n",
       "      <td>4</td>\n",
       "      <td>6</td>\n",
       "      <td>0</td>\n",
       "    </tr>\n",
       "    <tr>\n",
       "      <th>9207</th>\n",
       "      <td>33</td>\n",
       "      <td>2548</td>\n",
       "      <td>2</td>\n",
       "      <td>0</td>\n",
       "      <td>179</td>\n",
       "      <td>admin.</td>\n",
       "      <td>single</td>\n",
       "      <td>failure</td>\n",
       "      <td>secondary</td>\n",
       "      <td>0</td>\n",
       "      <td>0</td>\n",
       "      <td>1</td>\n",
       "      <td>0</td>\n",
       "      <td>1</td>\n",
       "      <td>young</td>\n",
       "      <td>3</td>\n",
       "      <td>11</td>\n",
       "      <td>0</td>\n",
       "    </tr>\n",
       "    <tr>\n",
       "      <th>20235</th>\n",
       "      <td>49</td>\n",
       "      <td>687</td>\n",
       "      <td>6</td>\n",
       "      <td>0</td>\n",
       "      <td>65</td>\n",
       "      <td>entrepreneur</td>\n",
       "      <td>married</td>\n",
       "      <td>failure</td>\n",
       "      <td>secondary</td>\n",
       "      <td>0</td>\n",
       "      <td>0</td>\n",
       "      <td>0</td>\n",
       "      <td>0</td>\n",
       "      <td>1</td>\n",
       "      <td>middle</td>\n",
       "      <td>0</td>\n",
       "      <td>8</td>\n",
       "      <td>0</td>\n",
       "    </tr>\n",
       "    <tr>\n",
       "      <th>24063</th>\n",
       "      <td>43</td>\n",
       "      <td>0</td>\n",
       "      <td>3</td>\n",
       "      <td>0</td>\n",
       "      <td>75</td>\n",
       "      <td>management</td>\n",
       "      <td>divorced</td>\n",
       "      <td>failure</td>\n",
       "      <td>secondary</td>\n",
       "      <td>0</td>\n",
       "      <td>0</td>\n",
       "      <td>0</td>\n",
       "      <td>0</td>\n",
       "      <td>1</td>\n",
       "      <td>middle</td>\n",
       "      <td>2</td>\n",
       "      <td>7</td>\n",
       "      <td>0</td>\n",
       "    </tr>\n",
       "    <tr>\n",
       "      <th>...</th>\n",
       "      <td>...</td>\n",
       "      <td>...</td>\n",
       "      <td>...</td>\n",
       "      <td>...</td>\n",
       "      <td>...</td>\n",
       "      <td>...</td>\n",
       "      <td>...</td>\n",
       "      <td>...</td>\n",
       "      <td>...</td>\n",
       "      <td>...</td>\n",
       "      <td>...</td>\n",
       "      <td>...</td>\n",
       "      <td>...</td>\n",
       "      <td>...</td>\n",
       "      <td>...</td>\n",
       "      <td>...</td>\n",
       "      <td>...</td>\n",
       "      <td>...</td>\n",
       "    </tr>\n",
       "    <tr>\n",
       "      <th>39169</th>\n",
       "      <td>45</td>\n",
       "      <td>4831</td>\n",
       "      <td>11</td>\n",
       "      <td>0</td>\n",
       "      <td>479</td>\n",
       "      <td>management</td>\n",
       "      <td>single</td>\n",
       "      <td>failure</td>\n",
       "      <td>tertiary</td>\n",
       "      <td>0</td>\n",
       "      <td>0</td>\n",
       "      <td>0</td>\n",
       "      <td>0</td>\n",
       "      <td>1</td>\n",
       "      <td>middle</td>\n",
       "      <td>4</td>\n",
       "      <td>1</td>\n",
       "      <td>0</td>\n",
       "    </tr>\n",
       "    <tr>\n",
       "      <th>39181</th>\n",
       "      <td>34</td>\n",
       "      <td>4499</td>\n",
       "      <td>1</td>\n",
       "      <td>0</td>\n",
       "      <td>1681</td>\n",
       "      <td>retired</td>\n",
       "      <td>married</td>\n",
       "      <td>failure</td>\n",
       "      <td>primary</td>\n",
       "      <td>0</td>\n",
       "      <td>0</td>\n",
       "      <td>0</td>\n",
       "      <td>0</td>\n",
       "      <td>1</td>\n",
       "      <td>young</td>\n",
       "      <td>2</td>\n",
       "      <td>5</td>\n",
       "      <td>0</td>\n",
       "    </tr>\n",
       "    <tr>\n",
       "      <th>39201</th>\n",
       "      <td>26</td>\n",
       "      <td>81</td>\n",
       "      <td>2</td>\n",
       "      <td>0</td>\n",
       "      <td>803</td>\n",
       "      <td>blue-collar</td>\n",
       "      <td>single</td>\n",
       "      <td>failure</td>\n",
       "      <td>secondary</td>\n",
       "      <td>0</td>\n",
       "      <td>1</td>\n",
       "      <td>0</td>\n",
       "      <td>1</td>\n",
       "      <td>1</td>\n",
       "      <td>young</td>\n",
       "      <td>1</td>\n",
       "      <td>7</td>\n",
       "      <td>1</td>\n",
       "    </tr>\n",
       "    <tr>\n",
       "      <th>39205</th>\n",
       "      <td>34</td>\n",
       "      <td>899</td>\n",
       "      <td>1</td>\n",
       "      <td>3</td>\n",
       "      <td>114</td>\n",
       "      <td>admin.</td>\n",
       "      <td>married</td>\n",
       "      <td>failure</td>\n",
       "      <td>tertiary</td>\n",
       "      <td>1</td>\n",
       "      <td>0</td>\n",
       "      <td>1</td>\n",
       "      <td>0</td>\n",
       "      <td>1</td>\n",
       "      <td>young</td>\n",
       "      <td>3</td>\n",
       "      <td>11</td>\n",
       "      <td>0</td>\n",
       "    </tr>\n",
       "    <tr>\n",
       "      <th>39210</th>\n",
       "      <td>51</td>\n",
       "      <td>38594</td>\n",
       "      <td>19</td>\n",
       "      <td>148</td>\n",
       "      <td>1877</td>\n",
       "      <td>student</td>\n",
       "      <td>divorced</td>\n",
       "      <td>success</td>\n",
       "      <td>tertiary</td>\n",
       "      <td>1</td>\n",
       "      <td>1</td>\n",
       "      <td>1</td>\n",
       "      <td>0</td>\n",
       "      <td>1</td>\n",
       "      <td>middle</td>\n",
       "      <td>1</td>\n",
       "      <td>3</td>\n",
       "      <td>1</td>\n",
       "    </tr>\n",
       "  </tbody>\n",
       "</table>\n",
       "<p>11654 rows × 18 columns</p>\n",
       "</div>"
      ],
      "text/plain": [
       "       age  balance  campaign  previous  duration           job   marital  \\\n",
       "228     27     3096         4         1        62       student    single   \n",
       "13212   38      207         2         0        76    technician    single   \n",
       "9207    33     2548         2         0       179        admin.    single   \n",
       "20235   49      687         6         0        65  entrepreneur   married   \n",
       "24063   43        0         3         0        75    management  divorced   \n",
       "...    ...      ...       ...       ...       ...           ...       ...   \n",
       "39169   45     4831        11         0       479    management    single   \n",
       "39181   34     4499         1         0      1681       retired   married   \n",
       "39201   26       81         2         0       803   blue-collar    single   \n",
       "39205   34      899         1         3       114        admin.   married   \n",
       "39210   51    38594        19       148      1877       student  divorced   \n",
       "\n",
       "      poutcome  education  previously_contacted  default  housing  loan  \\\n",
       "228    failure  secondary                     1        0        1     0   \n",
       "13212  failure  secondary                     0        0        0     0   \n",
       "9207   failure  secondary                     0        0        1     0   \n",
       "20235  failure  secondary                     0        0        0     0   \n",
       "24063  failure  secondary                     0        0        0     0   \n",
       "...        ...        ...                   ...      ...      ...   ...   \n",
       "39169  failure   tertiary                     0        0        0     0   \n",
       "39181  failure    primary                     0        0        0     0   \n",
       "39201  failure  secondary                     0        1        0     1   \n",
       "39205  failure   tertiary                     1        0        1     0   \n",
       "39210  success   tertiary                     1        1        1     0   \n",
       "\n",
       "       contact Age_Category  day  month  isSunday  \n",
       "228          0        young    3      5         0  \n",
       "13212        1        young    4      6         0  \n",
       "9207         1        young    3     11         0  \n",
       "20235        1       middle    0      8         0  \n",
       "24063        1       middle    2      7         0  \n",
       "...        ...          ...  ...    ...       ...  \n",
       "39169        1       middle    4      1         0  \n",
       "39181        1        young    2      5         0  \n",
       "39201        1        young    1      7         1  \n",
       "39205        1        young    3     11         0  \n",
       "39210        1       middle    1      3         1  \n",
       "\n",
       "[11654 rows x 18 columns]"
      ]
     },
     "execution_count": 33,
     "metadata": {},
     "output_type": "execute_result"
    }
   ],
   "source": [
    "train"
   ]
  },
  {
   "cell_type": "code",
   "execution_count": null,
   "id": "8c87a58f",
   "metadata": {
    "papermill": {
     "duration": 0.02294,
     "end_time": "2024-10-09T08:07:55.844052",
     "exception": false,
     "start_time": "2024-10-09T08:07:55.821112",
     "status": "completed"
    },
    "tags": []
   },
   "outputs": [],
   "source": []
  },
  {
   "cell_type": "code",
   "execution_count": 34,
   "id": "34f8c442",
   "metadata": {
    "execution": {
     "iopub.execute_input": "2024-10-09T08:07:55.893118Z",
     "iopub.status.busy": "2024-10-09T08:07:55.892692Z",
     "iopub.status.idle": "2024-10-09T08:07:55.898299Z",
     "shell.execute_reply": "2024-10-09T08:07:55.897275Z"
    },
    "papermill": {
     "duration": 0.033286,
     "end_time": "2024-10-09T08:07:55.900781",
     "exception": false,
     "start_time": "2024-10-09T08:07:55.867495",
     "status": "completed"
    },
    "tags": []
   },
   "outputs": [
    {
     "name": "stdout",
     "output_type": "stream",
     "text": [
      "train shape :  (11654, 18)\n",
      "test shape :  (10000, 18)\n"
     ]
    }
   ],
   "source": [
    "print('train shape : ',train.shape)\n",
    "\n",
    "print('test shape : ',test.shape) "
   ]
  },
  {
   "cell_type": "code",
   "execution_count": 35,
   "id": "8efc8b44",
   "metadata": {
    "execution": {
     "iopub.execute_input": "2024-10-09T08:07:55.949117Z",
     "iopub.status.busy": "2024-10-09T08:07:55.948689Z",
     "iopub.status.idle": "2024-10-09T08:07:55.953305Z",
     "shell.execute_reply": "2024-10-09T08:07:55.952224Z"
    },
    "papermill": {
     "duration": 0.031632,
     "end_time": "2024-10-09T08:07:55.955669",
     "exception": false,
     "start_time": "2024-10-09T08:07:55.924037",
     "status": "completed"
    },
    "tags": []
   },
   "outputs": [],
   "source": [
    "# train=col_transformer.fit_transform(train)\n",
    "# test=col_transformer.transform(test)\n",
    "\n",
    "\n",
    "# print('train shape : ', train.shape)\n",
    "\n",
    "# print('test shape : ' ,test.shape)"
   ]
  },
  {
   "cell_type": "markdown",
   "id": "e99f80ca",
   "metadata": {
    "papermill": {
     "duration": 0.022967,
     "end_time": "2024-10-09T08:07:56.001953",
     "exception": false,
     "start_time": "2024-10-09T08:07:55.978986",
     "status": "completed"
    },
    "tags": []
   },
   "source": [
    "# train test split"
   ]
  },
  {
   "cell_type": "code",
   "execution_count": null,
   "id": "e53fe2d5",
   "metadata": {
    "papermill": {
     "duration": 0.022955,
     "end_time": "2024-10-09T08:07:56.048142",
     "exception": false,
     "start_time": "2024-10-09T08:07:56.025187",
     "status": "completed"
    },
    "tags": []
   },
   "outputs": [],
   "source": []
  },
  {
   "cell_type": "code",
   "execution_count": 36,
   "id": "40d5ef6b",
   "metadata": {
    "execution": {
     "iopub.execute_input": "2024-10-09T08:07:56.096371Z",
     "iopub.status.busy": "2024-10-09T08:07:56.095564Z",
     "iopub.status.idle": "2024-10-09T08:07:56.117243Z",
     "shell.execute_reply": "2024-10-09T08:07:56.116301Z"
    },
    "papermill": {
     "duration": 0.048734,
     "end_time": "2024-10-09T08:07:56.119907",
     "exception": false,
     "start_time": "2024-10-09T08:07:56.071173",
     "status": "completed"
    },
    "tags": []
   },
   "outputs": [],
   "source": [
    "from sklearn.model_selection import train_test_split\n",
    "\n",
    "from sklearn.pipeline import Pipeline\n",
    "from sklearn.metrics import f1_score\n",
    "\n",
    "\n",
    "xtrain , xtest , ytrain , ytest = train_test_split(train , y ,test_size=0.2, random_state=1 , shuffle=True , stratify=y)"
   ]
  },
  {
   "cell_type": "code",
   "execution_count": null,
   "id": "d412fd73",
   "metadata": {
    "papermill": {
     "duration": 0.02311,
     "end_time": "2024-10-09T08:07:56.167052",
     "exception": false,
     "start_time": "2024-10-09T08:07:56.143942",
     "status": "completed"
    },
    "tags": []
   },
   "outputs": [],
   "source": [
    "\n"
   ]
  },
  {
   "cell_type": "code",
   "execution_count": 37,
   "id": "044cd3f6",
   "metadata": {
    "execution": {
     "iopub.execute_input": "2024-10-09T08:07:56.215671Z",
     "iopub.status.busy": "2024-10-09T08:07:56.215212Z",
     "iopub.status.idle": "2024-10-09T08:07:56.220019Z",
     "shell.execute_reply": "2024-10-09T08:07:56.218903Z"
    },
    "papermill": {
     "duration": 0.031757,
     "end_time": "2024-10-09T08:07:56.222384",
     "exception": false,
     "start_time": "2024-10-09T08:07:56.190627",
     "status": "completed"
    },
    "tags": []
   },
   "outputs": [],
   "source": [
    "# from imblearn.over_sampling import SMOTE\n",
    "\n",
    "# smote= SMOTE(sampling_strategy='minority', random_state=42)\n",
    "\n",
    "# xtrain , ytrain = smote.fit_resample(xtrain , ytrain)\n"
   ]
  },
  {
   "cell_type": "code",
   "execution_count": 38,
   "id": "a1a756df",
   "metadata": {
    "execution": {
     "iopub.execute_input": "2024-10-09T08:07:56.270968Z",
     "iopub.status.busy": "2024-10-09T08:07:56.270552Z",
     "iopub.status.idle": "2024-10-09T08:07:56.275438Z",
     "shell.execute_reply": "2024-10-09T08:07:56.274393Z"
    },
    "papermill": {
     "duration": 0.032007,
     "end_time": "2024-10-09T08:07:56.277716",
     "exception": false,
     "start_time": "2024-10-09T08:07:56.245709",
     "status": "completed"
    },
    "tags": []
   },
   "outputs": [],
   "source": [
    "from sklearn.decomposition import PCA"
   ]
  },
  {
   "cell_type": "code",
   "execution_count": 39,
   "id": "c2d16be2",
   "metadata": {
    "execution": {
     "iopub.execute_input": "2024-10-09T08:07:56.326181Z",
     "iopub.status.busy": "2024-10-09T08:07:56.325179Z",
     "iopub.status.idle": "2024-10-09T08:07:56.332033Z",
     "shell.execute_reply": "2024-10-09T08:07:56.330931Z"
    },
    "papermill": {
     "duration": 0.033548,
     "end_time": "2024-10-09T08:07:56.334410",
     "exception": false,
     "start_time": "2024-10-09T08:07:56.300862",
     "status": "completed"
    },
    "tags": []
   },
   "outputs": [
    {
     "data": {
      "text/plain": [
       "(9323, 18)"
      ]
     },
     "execution_count": 39,
     "metadata": {},
     "output_type": "execute_result"
    }
   ],
   "source": [
    "xtrain.shape"
   ]
  },
  {
   "cell_type": "code",
   "execution_count": 40,
   "id": "fe3052ef",
   "metadata": {
    "execution": {
     "iopub.execute_input": "2024-10-09T08:07:56.383206Z",
     "iopub.status.busy": "2024-10-09T08:07:56.382434Z",
     "iopub.status.idle": "2024-10-09T08:07:56.388985Z",
     "shell.execute_reply": "2024-10-09T08:07:56.387979Z"
    },
    "papermill": {
     "duration": 0.033266,
     "end_time": "2024-10-09T08:07:56.391118",
     "exception": false,
     "start_time": "2024-10-09T08:07:56.357852",
     "status": "completed"
    },
    "tags": []
   },
   "outputs": [
    {
     "data": {
      "text/plain": [
       "(9323,)"
      ]
     },
     "execution_count": 40,
     "metadata": {},
     "output_type": "execute_result"
    }
   ],
   "source": [
    "ytrain.shape"
   ]
  },
  {
   "cell_type": "code",
   "execution_count": 41,
   "id": "b41fd174",
   "metadata": {
    "execution": {
     "iopub.execute_input": "2024-10-09T08:07:56.439547Z",
     "iopub.status.busy": "2024-10-09T08:07:56.439088Z",
     "iopub.status.idle": "2024-10-09T08:07:56.444837Z",
     "shell.execute_reply": "2024-10-09T08:07:56.443783Z"
    },
    "papermill": {
     "duration": 0.032687,
     "end_time": "2024-10-09T08:07:56.447254",
     "exception": false,
     "start_time": "2024-10-09T08:07:56.414567",
     "status": "completed"
    },
    "tags": []
   },
   "outputs": [],
   "source": [
    "# plt.figure(figsize=(8,6))\n",
    "\n",
    "\n",
    "\n",
    "# colors={   'yes':'red' ,  'no' : 'black'}\n",
    "\n",
    "# plt.scatter(xtrain[:,0],xtrain[:,1],c=ytrain.map(colors))\n",
    "\n",
    "# plt.title('Scatter Plot of Classes: Yes vs No')\n",
    "\n",
    "\n",
    "# plt.xlabel('yes')\n",
    "# plt.ylabel(' no')\n",
    "# plt.show()\n"
   ]
  },
  {
   "cell_type": "code",
   "execution_count": 42,
   "id": "d49e62ee",
   "metadata": {
    "execution": {
     "iopub.execute_input": "2024-10-09T08:07:56.496668Z",
     "iopub.status.busy": "2024-10-09T08:07:56.495640Z",
     "iopub.status.idle": "2024-10-09T08:07:59.074459Z",
     "shell.execute_reply": "2024-10-09T08:07:59.073153Z"
    },
    "papermill": {
     "duration": 2.605928,
     "end_time": "2024-10-09T08:07:59.076766",
     "exception": false,
     "start_time": "2024-10-09T08:07:56.470838",
     "status": "completed"
    },
    "tags": []
   },
   "outputs": [
    {
     "name": "stdout",
     "output_type": "stream",
     "text": [
      "logisticRegressionCV Score 0.7837837837837838\n",
      "logisticRegressionCV f1_score  0.782494056727976\n",
      "Classification Report               precision    recall  f1-score   support\n",
      "\n",
      "          no       0.75      0.86      0.80      1165\n",
      "         yes       0.84      0.71      0.77      1166\n",
      "\n",
      "    accuracy                           0.78      2331\n",
      "   macro avg       0.79      0.78      0.78      2331\n",
      "weighted avg       0.79      0.78      0.78      2331\n",
      "\n"
     ]
    }
   ],
   "source": [
    "from sklearn.linear_model import LogisticRegressionCV\n",
    "\n",
    "from imblearn.pipeline import Pipeline \n",
    "\n",
    "from sklearn.metrics import classification_report , confusion_matrix , ConfusionMatrixDisplay\n",
    "\n",
    "logCV = LogisticRegressionCV(cv=5, random_state=1 ,solver='liblinear' , class_weight='balanced' , max_iter=1000 , penalty='l2' ,Cs=[0.0001, 0.001, 0.01, 0.1, 1, 10, 100] )\n",
    "\n",
    "logistic=Pipeline(steps=[('col_transformer',col_transformer),('logCV',logCV)])\n",
    "\n",
    "\n",
    "logistic.fit(xtrain, ytrain)\n",
    "ypredicted_logistic=logistic.predict(xtest)\n",
    "\n",
    "print(   'logisticRegressionCV Score'   ,  logistic.score(xtest,ytest)  )\n",
    "\n",
    "\n",
    "print(   'logisticRegressionCV f1_score '  ,     f1_score(ytest, ypredicted_logistic  , average='weighted')    )\n",
    "\n",
    "print('Classification Report' ,classification_report(ytest ,ypredicted_logistic ) )"
   ]
  },
  {
   "cell_type": "code",
   "execution_count": 43,
   "id": "431555f8",
   "metadata": {
    "execution": {
     "iopub.execute_input": "2024-10-09T08:07:59.125636Z",
     "iopub.status.busy": "2024-10-09T08:07:59.125029Z",
     "iopub.status.idle": "2024-10-09T08:07:59.134308Z",
     "shell.execute_reply": "2024-10-09T08:07:59.133277Z"
    },
    "papermill": {
     "duration": 0.036241,
     "end_time": "2024-10-09T08:07:59.136485",
     "exception": false,
     "start_time": "2024-10-09T08:07:59.100244",
     "status": "completed"
    },
    "tags": []
   },
   "outputs": [
    {
     "data": {
      "text/plain": [
       "target\n",
       "no     4662\n",
       "yes    4661\n",
       "Name: count, dtype: int64"
      ]
     },
     "execution_count": 43,
     "metadata": {},
     "output_type": "execute_result"
    }
   ],
   "source": [
    "ytrain.value_counts()"
   ]
  },
  {
   "cell_type": "code",
   "execution_count": 44,
   "id": "c8ce0494",
   "metadata": {
    "execution": {
     "iopub.execute_input": "2024-10-09T08:07:59.185274Z",
     "iopub.status.busy": "2024-10-09T08:07:59.184870Z",
     "iopub.status.idle": "2024-10-09T08:07:59.190038Z",
     "shell.execute_reply": "2024-10-09T08:07:59.188861Z"
    },
    "papermill": {
     "duration": 0.032021,
     "end_time": "2024-10-09T08:07:59.192234",
     "exception": false,
     "start_time": "2024-10-09T08:07:59.160213",
     "status": "completed"
    },
    "tags": []
   },
   "outputs": [],
   "source": [
    "# from sklearn.decomposition import PCA\n",
    "# from sklearn.ensemble import BaggingClassifier\n",
    "# ytrain_numeric = ytrain.map({'yes': 1, 'no': 0})\n",
    "# ytest_numeric = ytest.map({'yes': 1, 'no': 0})\n",
    "# from sklearn.svm import SVC \n",
    "\n",
    "\n",
    "# models = BaggingClassifier(estimator=SVC(random_state=1 , class_weight='balanced' ,C=10), n_estimators=10, random_state=42)\n",
    "# model=Pipeline(steps=[('col_transformer',col_transformer),('pca',PCA()),('models',models)])\n",
    "\n",
    "# model.fit(xtrain, ytrain_numeric)\n",
    "# ypred = model.predict(xtest)\n",
    "\n",
    "\n",
    "\n",
    "# print(   ' Score'   ,  model.score(xtest,ytest_numeric)  )\n",
    "\n",
    "# print(   'xbst f1_score '  ,     f1_score(ytest_numeric, ypred  , average='weighted')    )\n",
    "\n",
    "# print('Classification Report' )\n",
    "\n",
    "# print(classification_report(ytest_numeric ,ypred ))\n",
    "\n",
    "# print('Confusion Matrix')\n",
    "# ConfusionMatrixDisplay.from_estimator(model,xtest,ytest_numeric)"
   ]
  },
  {
   "cell_type": "code",
   "execution_count": 45,
   "id": "aec95ac1",
   "metadata": {
    "execution": {
     "iopub.execute_input": "2024-10-09T08:07:59.241240Z",
     "iopub.status.busy": "2024-10-09T08:07:59.240842Z",
     "iopub.status.idle": "2024-10-09T08:07:59.245910Z",
     "shell.execute_reply": "2024-10-09T08:07:59.244860Z"
    },
    "papermill": {
     "duration": 0.032142,
     "end_time": "2024-10-09T08:07:59.248106",
     "exception": false,
     "start_time": "2024-10-09T08:07:59.215964",
     "status": "completed"
    },
    "tags": []
   },
   "outputs": [],
   "source": [
    "# from xgboost import XGBClassifier\n",
    "\n",
    "# from sklearn.svm import SVC \n",
    "\n",
    "\n",
    "# bst = XGBClassifier(use_label_encoder=False, eval_metric='logloss' , subsample=1 ,learning_rate=0.1)\n",
    "\n",
    "# ytrain_numeric = ytrain.map({'yes': 1, 'no': 0})\n",
    "# ytest_numeric = ytest.map({'yes': 1, 'no': 0})\n",
    "\n",
    "# xbst=Pipeline(steps=[('col_transformer',col_transformer),('bst',bst)])\n",
    "\n",
    "# xbst.fit(xtrain, ytrain_numeric)\n",
    "\n",
    "# ypredicted_xbst=xbst.predict(xtest)\n",
    "\n",
    "# print(   'xbst Score'   ,  xbst.score(xtest,ytest_numeric)  )\n",
    "\n",
    "# print(   'xbst f1_score '  ,     f1_score(ytest_numeric, ypredicted_xbst  , average='weighted')    )\n",
    "\n",
    "# print('Classification Report' )\n",
    "\n",
    "# print(classification_report(ytest_numeric ,ypredicted_xbst ))\n",
    "\n",
    "# print('Confusion Matrix')\n",
    "# ConfusionMatrixDisplay.from_estimator(xbst,xtest,ytest_numeric)"
   ]
  },
  {
   "cell_type": "code",
   "execution_count": 46,
   "id": "5ece010d",
   "metadata": {
    "execution": {
     "iopub.execute_input": "2024-10-09T08:07:59.297202Z",
     "iopub.status.busy": "2024-10-09T08:07:59.296789Z",
     "iopub.status.idle": "2024-10-09T08:08:06.244884Z",
     "shell.execute_reply": "2024-10-09T08:08:06.243656Z"
    },
    "papermill": {
     "duration": 6.975363,
     "end_time": "2024-10-09T08:08:06.247235",
     "exception": false,
     "start_time": "2024-10-09T08:07:59.271872",
     "status": "completed"
    },
    "tags": []
   },
   "outputs": [
    {
     "name": "stdout",
     "output_type": "stream",
     "text": [
      "svc Score 0.8374088374088374\n",
      "svc f1_score  0.837406144244272\n",
      "Classification Report               precision    recall  f1-score   support\n",
      "\n",
      "          no       0.84      0.83      0.84      1165\n",
      "         yes       0.83      0.84      0.84      1166\n",
      "\n",
      "    accuracy                           0.84      2331\n",
      "   macro avg       0.84      0.84      0.84      2331\n",
      "weighted avg       0.84      0.84      0.84      2331\n",
      "\n",
      "Confusion Matrix\n"
     ]
    },
    {
     "data": {
      "text/plain": [
       "<sklearn.metrics._plot.confusion_matrix.ConfusionMatrixDisplay at 0x7d5028255900>"
      ]
     },
     "execution_count": 46,
     "metadata": {},
     "output_type": "execute_result"
    },
    {
     "data": {
      "image/png": "[encoded data removed]",
      "text/plain": [
       "<Figure size 640x480 with 2 Axes>"
      ]
     },
     "metadata": {},
     "output_type": "display_data"
    }
   ],
   "source": [
    "from sklearn.svm import SVC \n",
    "\n",
    "# svc=SVC(random_state=1 , class_weight='balanced' , C=10 )\n",
    "\n",
    "svc=Pipeline(steps=[('col_transformer',col_transformer),('pca',PCA()),('svc',SVC(random_state=1 , class_weight='balanced' ,C=10))])\n",
    "\n",
    "svc.fit(xtrain, ytrain)\n",
    "\n",
    "ypredicted_svc=svc.predict(xtest)\n",
    "\n",
    "print(   'svc Score'   ,  svc.score(xtest,ytest)  )\n",
    "\n",
    "print(   'svc f1_score '  ,     f1_score(ytest, ypredicted_svc  , average='weighted')    )\n",
    "\n",
    "\n",
    "print('Classification Report' ,classification_report(ytest ,ypredicted_svc ) )\n",
    "\n",
    "print('Confusion Matrix')\n",
    "ConfusionMatrixDisplay.from_estimator(svc,xtest,ytest)"
   ]
  },
  {
   "cell_type": "code",
   "execution_count": 47,
   "id": "59cdbe3b",
   "metadata": {
    "execution": {
     "iopub.execute_input": "2024-10-09T08:08:06.297383Z",
     "iopub.status.busy": "2024-10-09T08:08:06.296966Z",
     "iopub.status.idle": "2024-10-09T08:08:06.302318Z",
     "shell.execute_reply": "2024-10-09T08:08:06.301199Z"
    },
    "papermill": {
     "duration": 0.032867,
     "end_time": "2024-10-09T08:08:06.304489",
     "exception": false,
     "start_time": "2024-10-09T08:08:06.271622",
     "status": "completed"
    },
    "tags": []
   },
   "outputs": [],
   "source": [
    "# from sklearn.model_selection import GridSearchCV\n",
    "\n",
    "# svc=Pipeline(steps=[('col_transformer',col_transformer),('svc',SVC(random_state=1 , class_weight='balanced'))])\n",
    "# param_grid = {'svc__C': [0.1, 1, 10] }\n",
    "\n",
    "# cv = StratifiedKFold(n_splits=5, shuffle=True, random_state=42)\n",
    "\n",
    "# svc_grid = GridSearchCV(svc, param_grid, scoring='f1_weighted', cv=cv)\n",
    "\n",
    "# svc_grid.fit(xtrain, ytrain)\n",
    "\n",
    "# ypred_svc_grid=svc_grid.predict(xtest)\n",
    "\n",
    "\n",
    "\n",
    "# print(   'svc_grid Score'   ,  svc_grid.score(xtest,ytest)  )\n",
    "\n",
    "\n",
    "# print(   'svc_grid f1_score '  ,     f1_score(ytest, ypred_svc_grid  , average='weighted')    )\n",
    "\n",
    "\n",
    "\n",
    "# print('Classification Report' )\n",
    "# print(classification_report(ytest ,ypred_svc_grid ) )\n",
    "\n",
    "# print('Confusion Matrix')\n",
    "# ConfusionMatrixDisplay.from_estimator(svc_grid,xtest,ytest)"
   ]
  },
  {
   "cell_type": "code",
   "execution_count": 48,
   "id": "f8843933",
   "metadata": {
    "execution": {
     "iopub.execute_input": "2024-10-09T08:08:06.354513Z",
     "iopub.status.busy": "2024-10-09T08:08:06.354104Z",
     "iopub.status.idle": "2024-10-09T08:08:06.526371Z",
     "shell.execute_reply": "2024-10-09T08:08:06.525425Z"
    },
    "papermill": {
     "duration": 0.200283,
     "end_time": "2024-10-09T08:08:06.529044",
     "exception": false,
     "start_time": "2024-10-09T08:08:06.328761",
     "status": "completed"
    },
    "tags": []
   },
   "outputs": [],
   "source": [
    "from xgboost import XGBClassifier\n",
    "\n"
   ]
  },
  {
   "cell_type": "code",
   "execution_count": 49,
   "id": "948ac7f4",
   "metadata": {
    "execution": {
     "iopub.execute_input": "2024-10-09T08:08:06.579391Z",
     "iopub.status.busy": "2024-10-09T08:08:06.578411Z",
     "iopub.status.idle": "2024-10-09T08:08:06.583591Z",
     "shell.execute_reply": "2024-10-09T08:08:06.582595Z"
    },
    "papermill": {
     "duration": 0.032481,
     "end_time": "2024-10-09T08:08:06.585699",
     "exception": false,
     "start_time": "2024-10-09T08:08:06.553218",
     "status": "completed"
    },
    "tags": []
   },
   "outputs": [],
   "source": [
    "# from sklearn.ensemble import GradientBoostingClassifier\n",
    "\n",
    "# gradientBoostingClassifier=Pipeline([('col_transformer',col_transformer),('GradientBoostingClassifier',GradientBoostingClassifier(random_state=1))])\n",
    "# gradientBoostingClassifier.fit(xtrain, ytrain)\n",
    "\n",
    "# ypredicted_gb=gradientBoostingClassifier.predict(xtest)\n",
    "\n",
    "# print(   'gradientBoostingClassifier Score'   ,  gradientBoostingClassifier.score(xtest,ytest)  )\n",
    "\n",
    "\n",
    "# print(   'gradientBoostingClassifier f1_score '  ,     f1_score(ytest, ypredicted_gb  , average='weighted')    )\n",
    "\n",
    "\n",
    "# print('Classification Report')\n",
    "\n",
    "# print(classification_report(ytest ,ypredicted_gb))\n",
    "\n",
    "# print('Confusion Matrix')\n",
    "\n",
    "# ConfusionMatrixDisplay.from_estimator(gradientBoostingClassifier,xtest,ytest)\n",
    "\n"
   ]
  },
  {
   "cell_type": "code",
   "execution_count": 50,
   "id": "5362686e",
   "metadata": {
    "execution": {
     "iopub.execute_input": "2024-10-09T08:08:06.636638Z",
     "iopub.status.busy": "2024-10-09T08:08:06.636230Z",
     "iopub.status.idle": "2024-10-09T08:08:11.990727Z",
     "shell.execute_reply": "2024-10-09T08:08:11.989620Z"
    },
    "papermill": {
     "duration": 5.382487,
     "end_time": "2024-10-09T08:08:11.993106",
     "exception": false,
     "start_time": "2024-10-09T08:08:06.610619",
     "status": "completed"
    },
    "tags": []
   },
   "outputs": [
    {
     "name": "stdout",
     "output_type": "stream",
     "text": [
      "randomForestClassifier Score 0.8352638352638353\n",
      "randomForestClassifier f1_score  0.835129657024817\n",
      "Classification Report\n",
      "              precision    recall  f1-score   support\n",
      "\n",
      "          no       0.86      0.81      0.83      1165\n",
      "         yes       0.82      0.86      0.84      1166\n",
      "\n",
      "    accuracy                           0.84      2331\n",
      "   macro avg       0.84      0.84      0.84      2331\n",
      "weighted avg       0.84      0.84      0.84      2331\n",
      "\n",
      "Confusion Matrix\n"
     ]
    },
    {
     "data": {
      "text/plain": [
       "<sklearn.metrics._plot.confusion_matrix.ConfusionMatrixDisplay at 0x7d5028215b40>"
      ]
     },
     "execution_count": 50,
     "metadata": {},
     "output_type": "execute_result"
    },
    {
     "data": {
      "image/png": "[encoded data removed]",
      "text/plain": [
       "<Figure size 640x480 with 2 Axes>"
      ]
     },
     "metadata": {},
     "output_type": "display_data"
    }
   ],
   "source": [
    "from sklearn.ensemble import RandomForestClassifier\n",
    "\n",
    "# randomForestClassifier=Pipeline([('col_transformer',col_transformer),('randomForest',RandomForestClassifier(random_state=1))])\n",
    "rf=RandomForestClassifier(random_state=1 , n_estimators=250, max_depth=10 , min_samples_split=3 , min_samples_leaf=3 , class_weight='balanced' , n_jobs=-1)\n",
    "randomForestClassifier=Pipeline([('col_transformer',col_transformer),('pca' ,PCA()),('randomForest',rf)])\n",
    "\n",
    "randomForestClassifier.fit(xtrain, ytrain)\n",
    "\n",
    "ypredicted_rf=randomForestClassifier.predict(xtest)\n",
    "\n",
    "print(   'randomForestClassifier Score'   ,  randomForestClassifier.score(xtest,ytest)  )\n",
    "\n",
    "\n",
    "print(   'randomForestClassifier f1_score '  ,     f1_score(ytest, ypredicted_rf  , average='weighted')    )\n",
    "\n",
    "print('Classification Report')\n",
    "\n",
    "print(classification_report(ytest ,ypredicted_rf))\n",
    "\n",
    "print('Confusion Matrix')\n",
    "\n",
    "ConfusionMatrixDisplay.from_estimator(randomForestClassifier,xtest,ytest)\n"
   ]
  },
  {
   "cell_type": "code",
   "execution_count": 51,
   "id": "de71e97f",
   "metadata": {
    "execution": {
     "iopub.execute_input": "2024-10-09T08:08:12.051161Z",
     "iopub.status.busy": "2024-10-09T08:08:12.050752Z",
     "iopub.status.idle": "2024-10-09T08:08:12.055756Z",
     "shell.execute_reply": "2024-10-09T08:08:12.054615Z"
    },
    "papermill": {
     "duration": 0.039019,
     "end_time": "2024-10-09T08:08:12.057842",
     "exception": false,
     "start_time": "2024-10-09T08:08:12.018823",
     "status": "completed"
    },
    "tags": []
   },
   "outputs": [],
   "source": [
    "# from sklearn.model_selection import cross_val_score\n",
    "# from sklearn.model_selection import StratifiedKFold\n",
    "# from sklearn.metrics import make_scorer, f1_score\n",
    "\n",
    "# f1_scorer = make_scorer(f1_score, pos_label='yes')\n",
    "\n",
    "\n",
    "# cv = StratifiedKFold(n_splits=5)\n",
    "# scores = cross_val_score(randomForestClassifier, xtrain, ytrain, cv=cv, scoring=f1_scorer)\n",
    "# scores\n"
   ]
  },
  {
   "cell_type": "code",
   "execution_count": 52,
   "id": "2097f620",
   "metadata": {
    "execution": {
     "iopub.execute_input": "2024-10-09T08:08:12.112005Z",
     "iopub.status.busy": "2024-10-09T08:08:12.110892Z",
     "iopub.status.idle": "2024-10-09T08:08:12.117626Z",
     "shell.execute_reply": "2024-10-09T08:08:12.116594Z"
    },
    "papermill": {
     "duration": 0.036386,
     "end_time": "2024-10-09T08:08:12.120063",
     "exception": false,
     "start_time": "2024-10-09T08:08:12.083677",
     "status": "completed"
    },
    "tags": []
   },
   "outputs": [],
   "source": [
    "# from sklearn.ensemble import VotingClassifier\n",
    "# from sklearn.svm import SVC\n",
    "# from sklearn.ensemble import RandomForestClassifier\n",
    "# from sklearn.linear_model import LogisticRegression\n",
    "# from sklearn.preprocessing import FunctionTransformer\n",
    "\n",
    "# msvc_model = SVC(probability=True, random_state=1, class_weight='balanced',C=10)\n",
    "# rf_model = RandomForestClassifier(n_estimators=100, random_state=42)\n",
    "# lr_model = LogisticRegression(max_iter=1000)\n",
    "\n",
    "\n",
    "\n",
    "# def to_dataframe(X):\n",
    "#     return pd.DataFrame(X)\n",
    "\n",
    "# voting = VotingClassifier(estimators=[\n",
    "#     ('svc', msvc_model), \n",
    "#     ('rf', rf_model), \n",
    "#     ('lr_model', lr_model)\n",
    "# ], voting='soft') \n",
    "\n",
    "\n",
    "\n",
    "\n",
    "# voting_clf=Pipeline([('col_transformer',col_transformer), ('to_dataframe', FunctionTransformer(to_dataframe, validate=False)),('pca' , PCA()),('voting',voting)])\n",
    "\n",
    "\n",
    "\n",
    "# voting_clf.fit(xtrain, ytrain)\n",
    "\n",
    "# ypredicted_voting=voting_clf.predict(xtest)\n",
    "\n",
    "# print(   'VotingClassifier Score'   ,  voting_clf.score(xtest,ytest)  )\n",
    "\n",
    "\n",
    "# print(   'VotingClassifier f1_score '  ,     f1_score(ytest, ypredicted_voting  , average='weighted')    )\n",
    "\n",
    "# print('Classification Report')\n",
    "\n",
    "# print(classification_report(ytest ,ypredicted_rf))\n",
    "\n",
    "# print('Confusion Matrix')\n",
    "\n",
    "# ConfusionMatrixDisplay.from_estimator(voting_clf,xtest,ytest)\n",
    "\n"
   ]
  },
  {
   "cell_type": "code",
   "execution_count": 53,
   "id": "b9b69b14",
   "metadata": {
    "execution": {
     "iopub.execute_input": "2024-10-09T08:08:12.171336Z",
     "iopub.status.busy": "2024-10-09T08:08:12.170934Z",
     "iopub.status.idle": "2024-10-09T08:08:12.196460Z",
     "shell.execute_reply": "2024-10-09T08:08:12.195187Z"
    },
    "papermill": {
     "duration": 0.054147,
     "end_time": "2024-10-09T08:08:12.198982",
     "exception": false,
     "start_time": "2024-10-09T08:08:12.144835",
     "status": "completed"
    },
    "tags": []
   },
   "outputs": [
    {
     "data": {
      "text/html": [
       "<div>\n",
       "<style scoped>\n",
       "    .dataframe tbody tr th:only-of-type {\n",
       "        vertical-align: middle;\n",
       "    }\n",
       "\n",
       "    .dataframe tbody tr th {\n",
       "        vertical-align: top;\n",
       "    }\n",
       "\n",
       "    .dataframe thead th {\n",
       "        text-align: right;\n",
       "    }\n",
       "</style>\n",
       "<table border=\"1\" class=\"dataframe\">\n",
       "  <thead>\n",
       "    <tr style=\"text-align: right;\">\n",
       "      <th></th>\n",
       "      <th>age</th>\n",
       "      <th>balance</th>\n",
       "      <th>campaign</th>\n",
       "      <th>previous</th>\n",
       "      <th>duration</th>\n",
       "      <th>job</th>\n",
       "      <th>marital</th>\n",
       "      <th>poutcome</th>\n",
       "      <th>education</th>\n",
       "      <th>previously_contacted</th>\n",
       "      <th>default</th>\n",
       "      <th>housing</th>\n",
       "      <th>loan</th>\n",
       "      <th>contact</th>\n",
       "      <th>Age_Category</th>\n",
       "      <th>day</th>\n",
       "      <th>month</th>\n",
       "      <th>isSunday</th>\n",
       "    </tr>\n",
       "  </thead>\n",
       "  <tbody>\n",
       "    <tr>\n",
       "      <th>0</th>\n",
       "      <td>36</td>\n",
       "      <td>7</td>\n",
       "      <td>1</td>\n",
       "      <td>0</td>\n",
       "      <td>20</td>\n",
       "      <td>management</td>\n",
       "      <td>single</td>\n",
       "      <td>failure</td>\n",
       "      <td>tertiary</td>\n",
       "      <td>0</td>\n",
       "      <td>0</td>\n",
       "      <td>0</td>\n",
       "      <td>0</td>\n",
       "      <td>1</td>\n",
       "      <td>young</td>\n",
       "      <td>5</td>\n",
       "      <td>11</td>\n",
       "      <td>0</td>\n",
       "    </tr>\n",
       "    <tr>\n",
       "      <th>1</th>\n",
       "      <td>30</td>\n",
       "      <td>1067</td>\n",
       "      <td>2</td>\n",
       "      <td>0</td>\n",
       "      <td>78</td>\n",
       "      <td>unemployed</td>\n",
       "      <td>married</td>\n",
       "      <td>failure</td>\n",
       "      <td>tertiary</td>\n",
       "      <td>0</td>\n",
       "      <td>0</td>\n",
       "      <td>0</td>\n",
       "      <td>0</td>\n",
       "      <td>1</td>\n",
       "      <td>young</td>\n",
       "      <td>3</td>\n",
       "      <td>2</td>\n",
       "      <td>0</td>\n",
       "    </tr>\n",
       "    <tr>\n",
       "      <th>2</th>\n",
       "      <td>32</td>\n",
       "      <td>82</td>\n",
       "      <td>4</td>\n",
       "      <td>0</td>\n",
       "      <td>86</td>\n",
       "      <td>blue-collar</td>\n",
       "      <td>single</td>\n",
       "      <td>failure</td>\n",
       "      <td>secondary</td>\n",
       "      <td>0</td>\n",
       "      <td>0</td>\n",
       "      <td>1</td>\n",
       "      <td>0</td>\n",
       "      <td>1</td>\n",
       "      <td>young</td>\n",
       "      <td>2</td>\n",
       "      <td>7</td>\n",
       "      <td>0</td>\n",
       "    </tr>\n",
       "    <tr>\n",
       "      <th>3</th>\n",
       "      <td>38</td>\n",
       "      <td>1487</td>\n",
       "      <td>2</td>\n",
       "      <td>0</td>\n",
       "      <td>332</td>\n",
       "      <td>admin.</td>\n",
       "      <td>married</td>\n",
       "      <td>failure</td>\n",
       "      <td>primary</td>\n",
       "      <td>0</td>\n",
       "      <td>0</td>\n",
       "      <td>0</td>\n",
       "      <td>0</td>\n",
       "      <td>1</td>\n",
       "      <td>young</td>\n",
       "      <td>2</td>\n",
       "      <td>6</td>\n",
       "      <td>0</td>\n",
       "    </tr>\n",
       "    <tr>\n",
       "      <th>4</th>\n",
       "      <td>59</td>\n",
       "      <td>315</td>\n",
       "      <td>1</td>\n",
       "      <td>2</td>\n",
       "      <td>591</td>\n",
       "      <td>management</td>\n",
       "      <td>married</td>\n",
       "      <td>failure</td>\n",
       "      <td>tertiary</td>\n",
       "      <td>1</td>\n",
       "      <td>0</td>\n",
       "      <td>0</td>\n",
       "      <td>0</td>\n",
       "      <td>1</td>\n",
       "      <td>middle</td>\n",
       "      <td>6</td>\n",
       "      <td>3</td>\n",
       "      <td>0</td>\n",
       "    </tr>\n",
       "    <tr>\n",
       "      <th>...</th>\n",
       "      <td>...</td>\n",
       "      <td>...</td>\n",
       "      <td>...</td>\n",
       "      <td>...</td>\n",
       "      <td>...</td>\n",
       "      <td>...</td>\n",
       "      <td>...</td>\n",
       "      <td>...</td>\n",
       "      <td>...</td>\n",
       "      <td>...</td>\n",
       "      <td>...</td>\n",
       "      <td>...</td>\n",
       "      <td>...</td>\n",
       "      <td>...</td>\n",
       "      <td>...</td>\n",
       "      <td>...</td>\n",
       "      <td>...</td>\n",
       "      <td>...</td>\n",
       "    </tr>\n",
       "    <tr>\n",
       "      <th>9995</th>\n",
       "      <td>38</td>\n",
       "      <td>8953</td>\n",
       "      <td>1</td>\n",
       "      <td>0</td>\n",
       "      <td>301</td>\n",
       "      <td>management</td>\n",
       "      <td>single</td>\n",
       "      <td>failure</td>\n",
       "      <td>tertiary</td>\n",
       "      <td>0</td>\n",
       "      <td>0</td>\n",
       "      <td>0</td>\n",
       "      <td>1</td>\n",
       "      <td>1</td>\n",
       "      <td>young</td>\n",
       "      <td>5</td>\n",
       "      <td>11</td>\n",
       "      <td>0</td>\n",
       "    </tr>\n",
       "    <tr>\n",
       "      <th>9996</th>\n",
       "      <td>26</td>\n",
       "      <td>317</td>\n",
       "      <td>1</td>\n",
       "      <td>0</td>\n",
       "      <td>953</td>\n",
       "      <td>admin.</td>\n",
       "      <td>single</td>\n",
       "      <td>failure</td>\n",
       "      <td>secondary</td>\n",
       "      <td>0</td>\n",
       "      <td>0</td>\n",
       "      <td>1</td>\n",
       "      <td>0</td>\n",
       "      <td>1</td>\n",
       "      <td>young</td>\n",
       "      <td>2</td>\n",
       "      <td>6</td>\n",
       "      <td>0</td>\n",
       "    </tr>\n",
       "    <tr>\n",
       "      <th>9997</th>\n",
       "      <td>26</td>\n",
       "      <td>181</td>\n",
       "      <td>2</td>\n",
       "      <td>0</td>\n",
       "      <td>158</td>\n",
       "      <td>technician</td>\n",
       "      <td>single</td>\n",
       "      <td>failure</td>\n",
       "      <td>secondary</td>\n",
       "      <td>0</td>\n",
       "      <td>0</td>\n",
       "      <td>0</td>\n",
       "      <td>0</td>\n",
       "      <td>1</td>\n",
       "      <td>young</td>\n",
       "      <td>1</td>\n",
       "      <td>4</td>\n",
       "      <td>1</td>\n",
       "    </tr>\n",
       "    <tr>\n",
       "      <th>9998</th>\n",
       "      <td>32</td>\n",
       "      <td>312</td>\n",
       "      <td>2</td>\n",
       "      <td>0</td>\n",
       "      <td>232</td>\n",
       "      <td>management</td>\n",
       "      <td>single</td>\n",
       "      <td>failure</td>\n",
       "      <td>tertiary</td>\n",
       "      <td>0</td>\n",
       "      <td>0</td>\n",
       "      <td>0</td>\n",
       "      <td>0</td>\n",
       "      <td>1</td>\n",
       "      <td>young</td>\n",
       "      <td>2</td>\n",
       "      <td>2</td>\n",
       "      <td>0</td>\n",
       "    </tr>\n",
       "    <tr>\n",
       "      <th>9999</th>\n",
       "      <td>38</td>\n",
       "      <td>823</td>\n",
       "      <td>5</td>\n",
       "      <td>0</td>\n",
       "      <td>132</td>\n",
       "      <td>services</td>\n",
       "      <td>married</td>\n",
       "      <td>failure</td>\n",
       "      <td>secondary</td>\n",
       "      <td>0</td>\n",
       "      <td>0</td>\n",
       "      <td>1</td>\n",
       "      <td>0</td>\n",
       "      <td>1</td>\n",
       "      <td>young</td>\n",
       "      <td>2</td>\n",
       "      <td>6</td>\n",
       "      <td>0</td>\n",
       "    </tr>\n",
       "  </tbody>\n",
       "</table>\n",
       "<p>10000 rows × 18 columns</p>\n",
       "</div>"
      ],
      "text/plain": [
       "      age  balance  campaign  previous  duration          job  marital  \\\n",
       "0      36        7         1         0        20   management   single   \n",
       "1      30     1067         2         0        78   unemployed  married   \n",
       "2      32       82         4         0        86  blue-collar   single   \n",
       "3      38     1487         2         0       332       admin.  married   \n",
       "4      59      315         1         2       591   management  married   \n",
       "...   ...      ...       ...       ...       ...          ...      ...   \n",
       "9995   38     8953         1         0       301   management   single   \n",
       "9996   26      317         1         0       953       admin.   single   \n",
       "9997   26      181         2         0       158   technician   single   \n",
       "9998   32      312         2         0       232   management   single   \n",
       "9999   38      823         5         0       132     services  married   \n",
       "\n",
       "     poutcome  education  previously_contacted  default  housing  loan  \\\n",
       "0     failure   tertiary                     0        0        0     0   \n",
       "1     failure   tertiary                     0        0        0     0   \n",
       "2     failure  secondary                     0        0        1     0   \n",
       "3     failure    primary                     0        0        0     0   \n",
       "4     failure   tertiary                     1        0        0     0   \n",
       "...       ...        ...                   ...      ...      ...   ...   \n",
       "9995  failure   tertiary                     0        0        0     1   \n",
       "9996  failure  secondary                     0        0        1     0   \n",
       "9997  failure  secondary                     0        0        0     0   \n",
       "9998  failure   tertiary                     0        0        0     0   \n",
       "9999  failure  secondary                     0        0        1     0   \n",
       "\n",
       "      contact Age_Category  day  month  isSunday  \n",
       "0           1        young    5     11         0  \n",
       "1           1        young    3      2         0  \n",
       "2           1        young    2      7         0  \n",
       "3           1        young    2      6         0  \n",
       "4           1       middle    6      3         0  \n",
       "...       ...          ...  ...    ...       ...  \n",
       "9995        1        young    5     11         0  \n",
       "9996        1        young    2      6         0  \n",
       "9997        1        young    1      4         1  \n",
       "9998        1        young    2      2         0  \n",
       "9999        1        young    2      6         0  \n",
       "\n",
       "[10000 rows x 18 columns]"
      ]
     },
     "execution_count": 53,
     "metadata": {},
     "output_type": "execute_result"
    }
   ],
   "source": [
    "test"
   ]
  },
  {
   "cell_type": "code",
   "execution_count": 54,
   "id": "2e915694",
   "metadata": {
    "execution": {
     "iopub.execute_input": "2024-10-09T08:08:12.252914Z",
     "iopub.status.busy": "2024-10-09T08:08:12.252362Z",
     "iopub.status.idle": "2024-10-09T08:08:12.570666Z",
     "shell.execute_reply": "2024-10-09T08:08:12.569596Z"
    },
    "papermill": {
     "duration": 0.349014,
     "end_time": "2024-10-09T08:08:12.573325",
     "exception": false,
     "start_time": "2024-10-09T08:08:12.224311",
     "status": "completed"
    },
    "tags": []
   },
   "outputs": [],
   "source": [
    "y_pred_submission=randomForestClassifier.predict(test)\n",
    "# ypred_submission_final = pd.Series(y_pred_submission).replace({0: 'no', 1: 'yes'})\n",
    "\n",
    "submission=pd.DataFrame({'id': np.arange(0,len(test)), 'target': y_pred_submission})\n",
    "\n",
    "submission.to_csv('submission.csv',index=False)"
   ]
  },
  {
   "cell_type": "code",
   "execution_count": null,
   "id": "8f7206b6",
   "metadata": {
    "papermill": {
     "duration": 0.026234,
     "end_time": "2024-10-09T08:08:12.625349",
     "exception": false,
     "start_time": "2024-10-09T08:08:12.599115",
     "status": "completed"
    },
    "tags": []
   },
   "outputs": [],
   "source": []
  },
  {
   "cell_type": "code",
   "execution_count": null,
   "id": "e604bc24",
   "metadata": {
    "papermill": {
     "duration": 0.025031,
     "end_time": "2024-10-09T08:08:12.676451",
     "exception": false,
     "start_time": "2024-10-09T08:08:12.651420",
     "status": "completed"
    },
    "tags": []
   },
   "outputs": [],
   "source": []
  },
  {
   "cell_type": "code",
   "execution_count": null,
   "id": "888be419",
   "metadata": {
    "papermill": {
     "duration": 0.025265,
     "end_time": "2024-10-09T08:08:12.727140",
     "exception": false,
     "start_time": "2024-10-09T08:08:12.701875",
     "status": "completed"
    },
    "tags": []
   },
   "outputs": [],
   "source": []
  },
  {
   "cell_type": "code",
   "execution_count": null,
   "id": "93686bfe",
   "metadata": {
    "papermill": {
     "duration": 0.02523,
     "end_time": "2024-10-09T08:08:12.777916",
     "exception": false,
     "start_time": "2024-10-09T08:08:12.752686",
     "status": "completed"
    },
    "tags": []
   },
   "outputs": [],
   "source": []
  },
  {
   "cell_type": "code",
   "execution_count": null,
   "id": "d806a462",
   "metadata": {
    "papermill": {
     "duration": 0.025244,
     "end_time": "2024-10-09T08:08:12.828910",
     "exception": false,
     "start_time": "2024-10-09T08:08:12.803666",
     "status": "completed"
    },
    "tags": []
   },
   "outputs": [],
   "source": []
  },
  {
   "cell_type": "code",
   "execution_count": null,
   "id": "3b767398",
   "metadata": {
    "papermill": {
     "duration": 0.027256,
     "end_time": "2024-10-09T08:08:12.881953",
     "exception": false,
     "start_time": "2024-10-09T08:08:12.854697",
     "status": "completed"
    },
    "tags": []
   },
   "outputs": [],
   "source": []
  },
  {
   "cell_type": "code",
   "execution_count": null,
   "id": "2b615311",
   "metadata": {
    "papermill": {
     "duration": 0.025067,
     "end_time": "2024-10-09T08:08:12.933054",
     "exception": false,
     "start_time": "2024-10-09T08:08:12.907987",
     "status": "completed"
    },
    "tags": []
   },
   "outputs": [],
   "source": []
  }
 ],
 "metadata": {
  "kaggle": {
   "accelerator": "none",
   "dataSources": [
    {
     "databundleVersionId": 9578279,
     "sourceId": 85062,
     "sourceType": "competition"
    }
   ],
   "dockerImageVersionId": 30761,
   "isGpuEnabled": false,
   "isInternetEnabled": true,
   "language": "python",
   "sourceType": "notebook"
  },
  "kernelspec": {
   "display_name": "Python 3",
   "language": "python",
   "name": "python3"
  },
  "language_info": {
   "codemirror_mode": {
    "name": "ipython",
    "version": 3
   },
   "file_extension": ".py",
   "mimetype": "text/x-python",
   "name": "python",
   "nbconvert_exporter": "python",
   "pygments_lexer": "ipython3",
   "version": "3.10.14"
  },
  "papermill": {
   "default_parameters": {},
   "duration": 28.610849,
   "end_time": "2024-10-09T08:08:13.680048",
   "environment_variables": {},
   "exception": null,
   "input_path": "__notebook__.ipynb",
   "output_path": "__notebook__.ipynb",
   "parameters": {},
   "start_time": "2024-10-09T08:07:45.069199",
   "version": "2.6.0"
  }
 },
 "nbformat": 4,
 "nbformat_minor": 5
}

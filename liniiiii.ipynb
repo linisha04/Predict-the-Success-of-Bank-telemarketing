{
 "cells": [
  {
   "cell_type": "code",
   "execution_count": 1,
   "id": "a4bedb64",
   "metadata": {
    "_cell_guid": "b1076dfc-b9ad-4769-8c92-a6c4dae69d19",
    "_uuid": "8f2839f25d086af736a60e9eeb907d3b93b6e0e5",
    "execution": {
     "iopub.execute_input": "2024-10-14T17:30:29.958698Z",
     "iopub.status.busy": "2024-10-14T17:30:29.958145Z",
     "iopub.status.idle": "2024-10-14T17:30:31.158440Z",
     "shell.execute_reply": "2024-10-14T17:30:31.156593Z"
    },
    "papermill": {
     "duration": 1.226297,
     "end_time": "2024-10-14T17:30:31.161742",
     "exception": false,
     "start_time": "2024-10-14T17:30:29.935445",
     "status": "completed"
    },
    "tags": []
   },
   "outputs": [
    {
     "name": "stdout",
     "output_type": "stream",
     "text": [
      "/kaggle/input/predict-the-success-of-bank-telemarketing/sample_submission.csv\n",
      "/kaggle/input/predict-the-success-of-bank-telemarketing/train.csv\n",
      "/kaggle/input/predict-the-success-of-bank-telemarketing/test.csv\n"
     ]
    }
   ],
   "source": [
    "# This Python 3 environment comes with many helpful analytics libraries installed\n",
    "# It is defined by the kaggle/python Docker image: https://github.com/kaggle/docker-python\n",
    "# For example, here's several helpful packages to load\n",
    "\n",
    "import numpy as np # linear algebra\n",
    "import pandas as pd # data processing, CSV file I/O (e.g. pd.read_csv)\n",
    "\n",
    "# Input data files are available in the read-only \"../input/\" directory\n",
    "# For example, running this (by clicking run or pressing Shift+Enter) will list all files under the input directory\n",
    "\n",
    "import os\n",
    "for dirname, _, filenames in os.walk('/kaggle/input'):\n",
    "    for filename in filenames:\n",
    "        print(os.path.join(dirname, filename))\n",
    "\n",
    "# You can write up to 20GB to the current directory (/kaggle/working/) that gets preserved as output when you create a version using \"Save & Run All\" \n",
    "# You can also write temporary files to /kaggle/temp/, but they won't be saved outside of the current session"
   ]
  },
  {
   "cell_type": "code",
   "execution_count": 2,
   "id": "9003071b",
   "metadata": {
    "execution": {
     "iopub.execute_input": "2024-10-14T17:30:31.204989Z",
     "iopub.status.busy": "2024-10-14T17:30:31.204415Z",
     "iopub.status.idle": "2024-10-14T17:30:33.212752Z",
     "shell.execute_reply": "2024-10-14T17:30:33.210766Z"
    },
    "papermill": {
     "duration": 2.032998,
     "end_time": "2024-10-14T17:30:33.215609",
     "exception": false,
     "start_time": "2024-10-14T17:30:31.182611",
     "status": "completed"
    },
    "tags": []
   },
   "outputs": [],
   "source": [
    "# !pip install xgboost\n",
    "\n",
    "import matplotlib.pyplot as plt\n",
    "from sklearn.model_selection import GridSearchCV\n",
    "from sklearn.decomposition import PCA\n",
    "\n"
   ]
  },
  {
   "cell_type": "code",
   "execution_count": 3,
   "id": "e51e6e72",
   "metadata": {
    "execution": {
     "iopub.execute_input": "2024-10-14T17:30:33.261983Z",
     "iopub.status.busy": "2024-10-14T17:30:33.261341Z",
     "iopub.status.idle": "2024-10-14T17:30:33.472246Z",
     "shell.execute_reply": "2024-10-14T17:30:33.470930Z"
    },
    "papermill": {
     "duration": 0.237784,
     "end_time": "2024-10-14T17:30:33.475218",
     "exception": false,
     "start_time": "2024-10-14T17:30:33.237434",
     "status": "completed"
    },
    "tags": []
   },
   "outputs": [],
   "source": [
    "train=pd.read_csv('/kaggle/input/predict-the-success-of-bank-telemarketing/train.csv')\n",
    "test=pd.read_csv('/kaggle/input/predict-the-success-of-bank-telemarketing/test.csv')\n"
   ]
  },
  {
   "cell_type": "code",
   "execution_count": 4,
   "id": "dfb4f86e",
   "metadata": {
    "execution": {
     "iopub.execute_input": "2024-10-14T17:30:33.521048Z",
     "iopub.status.busy": "2024-10-14T17:30:33.520587Z",
     "iopub.status.idle": "2024-10-14T17:30:33.529781Z",
     "shell.execute_reply": "2024-10-14T17:30:33.528501Z"
    },
    "papermill": {
     "duration": 0.034347,
     "end_time": "2024-10-14T17:30:33.532347",
     "exception": false,
     "start_time": "2024-10-14T17:30:33.498000",
     "status": "completed"
    },
    "tags": []
   },
   "outputs": [
    {
     "data": {
      "text/plain": [
       "(39211, 16)"
      ]
     },
     "execution_count": 4,
     "metadata": {},
     "output_type": "execute_result"
    }
   ],
   "source": [
    "train.shape"
   ]
  },
  {
   "cell_type": "code",
   "execution_count": 5,
   "id": "0c772a59",
   "metadata": {
    "execution": {
     "iopub.execute_input": "2024-10-14T17:30:33.576754Z",
     "iopub.status.busy": "2024-10-14T17:30:33.576298Z",
     "iopub.status.idle": "2024-10-14T17:30:33.605877Z",
     "shell.execute_reply": "2024-10-14T17:30:33.604745Z"
    },
    "papermill": {
     "duration": 0.055737,
     "end_time": "2024-10-14T17:30:33.608361",
     "exception": false,
     "start_time": "2024-10-14T17:30:33.552624",
     "status": "completed"
    },
    "tags": []
   },
   "outputs": [
    {
     "data": {
      "text/plain": [
       "target\n",
       "no     33384\n",
       "yes     5827\n",
       "Name: count, dtype: int64"
      ]
     },
     "execution_count": 5,
     "metadata": {},
     "output_type": "execute_result"
    }
   ],
   "source": [
    "train['target'].value_counts()"
   ]
  },
  {
   "cell_type": "code",
   "execution_count": 6,
   "id": "05a9820c",
   "metadata": {
    "execution": {
     "iopub.execute_input": "2024-10-14T17:30:33.651851Z",
     "iopub.status.busy": "2024-10-14T17:30:33.651397Z",
     "iopub.status.idle": "2024-10-14T17:30:33.702942Z",
     "shell.execute_reply": "2024-10-14T17:30:33.701621Z"
    },
    "papermill": {
     "duration": 0.076765,
     "end_time": "2024-10-14T17:30:33.705640",
     "exception": false,
     "start_time": "2024-10-14T17:30:33.628875",
     "status": "completed"
    },
    "tags": []
   },
   "outputs": [
    {
     "data": {
      "text/plain": [
       "last contact date        0\n",
       "age                      0\n",
       "job                    229\n",
       "marital                  0\n",
       "education             1467\n",
       "default                  0\n",
       "balance                  0\n",
       "housing                  0\n",
       "loan                     0\n",
       "contact              10336\n",
       "duration                 0\n",
       "campaign                 0\n",
       "pdays                    0\n",
       "previous                 0\n",
       "poutcome             29451\n",
       "target                   0\n",
       "dtype: int64"
      ]
     },
     "execution_count": 6,
     "metadata": {},
     "output_type": "execute_result"
    }
   ],
   "source": [
    "train.isnull().sum()"
   ]
  },
  {
   "cell_type": "code",
   "execution_count": 7,
   "id": "49f8e141",
   "metadata": {
    "execution": {
     "iopub.execute_input": "2024-10-14T17:30:33.749361Z",
     "iopub.status.busy": "2024-10-14T17:30:33.748953Z",
     "iopub.status.idle": "2024-10-14T17:30:33.768718Z",
     "shell.execute_reply": "2024-10-14T17:30:33.767442Z"
    },
    "papermill": {
     "duration": 0.044291,
     "end_time": "2024-10-14T17:30:33.771651",
     "exception": false,
     "start_time": "2024-10-14T17:30:33.727360",
     "status": "completed"
    },
    "tags": []
   },
   "outputs": [
    {
     "data": {
      "text/plain": [
       "last contact date       0\n",
       "age                     0\n",
       "job                    59\n",
       "marital                 0\n",
       "education             390\n",
       "default                 0\n",
       "balance                 0\n",
       "housing                 0\n",
       "loan                    0\n",
       "contact              2684\n",
       "duration                0\n",
       "campaign                0\n",
       "pdays                   0\n",
       "previous                0\n",
       "poutcome             7508\n",
       "dtype: int64"
      ]
     },
     "execution_count": 7,
     "metadata": {},
     "output_type": "execute_result"
    }
   ],
   "source": [
    "test.isnull().sum()"
   ]
  },
  {
   "cell_type": "markdown",
   "id": "7e963e90",
   "metadata": {
    "papermill": {
     "duration": 0.020697,
     "end_time": "2024-10-14T17:30:33.812956",
     "exception": false,
     "start_time": "2024-10-14T17:30:33.792259",
     "status": "completed"
    },
    "tags": []
   },
   "source": [
    "# Last Contact and Feature engineering\n"
   ]
  },
  {
   "cell_type": "code",
   "execution_count": 8,
   "id": "428a9ea4",
   "metadata": {
    "execution": {
     "iopub.execute_input": "2024-10-14T17:30:33.856568Z",
     "iopub.status.busy": "2024-10-14T17:30:33.856107Z",
     "iopub.status.idle": "2024-10-14T17:30:33.904022Z",
     "shell.execute_reply": "2024-10-14T17:30:33.902522Z"
    },
    "papermill": {
     "duration": 0.07244,
     "end_time": "2024-10-14T17:30:33.906732",
     "exception": false,
     "start_time": "2024-10-14T17:30:33.834292",
     "status": "completed"
    },
    "tags": []
   },
   "outputs": [
    {
     "name": "stdout",
     "output_type": "stream",
     "text": [
      "month\n",
      "5     11004\n",
      "7      5521\n",
      "8      4969\n",
      "6      4232\n",
      "11     3147\n",
      "4      2359\n",
      "2      2087\n",
      "1      1725\n",
      "10     1236\n",
      "9      1091\n",
      "3       997\n",
      "12      843\n",
      "Name: count, dtype: int64\n",
      "\n",
      "--------------------------\n",
      "day\n",
      "3    7428\n",
      "2    7292\n",
      "4    6762\n",
      "1    6184\n",
      "5    4496\n",
      "0    4033\n",
      "6    3016\n",
      "Name: count, dtype: int64\n"
     ]
    }
   ],
   "source": [
    "train['last contact date']=pd.to_datetime(train['last contact date'])\n",
    "\n",
    "train['day']= train['last contact date'].dt.dayofweek\n",
    "\n",
    "train['month'] = train['last contact date'].dt.month\n",
    "\n",
    "print(train['month'].value_counts())\n",
    "\n",
    "print('')\n",
    "print('--------------------------')\n",
    "\n",
    "print(train['day'].value_counts())\n",
    "\n",
    "\n",
    "\n",
    "\n",
    "test['last contact date']=pd.to_datetime(test['last contact date'])\n",
    "\n",
    "test['day']= test['last contact date'].dt.dayofweek\n",
    "\n",
    "test['month'] = test['last contact date'].dt.month\n",
    "\n"
   ]
  },
  {
   "cell_type": "markdown",
   "id": "8c621cc3",
   "metadata": {
    "papermill": {
     "duration": 0.021859,
     "end_time": "2024-10-14T17:30:33.950577",
     "exception": false,
     "start_time": "2024-10-14T17:30:33.928718",
     "status": "completed"
    },
    "tags": []
   },
   "source": [
    "# #WeekDay or Sunday "
   ]
  },
  {
   "cell_type": "code",
   "execution_count": 9,
   "id": "2f7f329d",
   "metadata": {
    "execution": {
     "iopub.execute_input": "2024-10-14T17:30:33.997065Z",
     "iopub.status.busy": "2024-10-14T17:30:33.996603Z",
     "iopub.status.idle": "2024-10-14T17:30:34.049613Z",
     "shell.execute_reply": "2024-10-14T17:30:34.048350Z"
    },
    "papermill": {
     "duration": 0.080786,
     "end_time": "2024-10-14T17:30:34.053863",
     "exception": false,
     "start_time": "2024-10-14T17:30:33.973077",
     "status": "completed"
    },
    "tags": []
   },
   "outputs": [],
   "source": [
    "def whichday(x):\n",
    "    if x==1:\n",
    "        return 1\n",
    "    return 0\n",
    "train['isSunday']=train['day'].apply(whichday)\n",
    "\n",
    "test['isSunday']=test['day'].apply(whichday)"
   ]
  },
  {
   "cell_type": "markdown",
   "id": "03c57cb1",
   "metadata": {
    "papermill": {
     "duration": 0.032724,
     "end_time": "2024-10-14T17:30:34.118705",
     "exception": false,
     "start_time": "2024-10-14T17:30:34.085981",
     "status": "completed"
    },
    "tags": []
   },
   "source": []
  },
  {
   "cell_type": "markdown",
   "id": "52d15c93",
   "metadata": {
    "papermill": {
     "duration": 0.02438,
     "end_time": "2024-10-14T17:30:34.164966",
     "exception": false,
     "start_time": "2024-10-14T17:30:34.140586",
     "status": "completed"
    },
    "tags": []
   },
   "source": [
    "# Categorical Columns\n",
    "# job , martial , education , default , housing ,loan , contact , poutcome"
   ]
  },
  {
   "cell_type": "markdown",
   "id": "53f137aa",
   "metadata": {
    "papermill": {
     "duration": 0.028223,
     "end_time": "2024-10-14T17:30:34.226208",
     "exception": false,
     "start_time": "2024-10-14T17:30:34.197985",
     "status": "completed"
    },
    "tags": []
   },
   "source": [
    "# Job"
   ]
  },
  {
   "cell_type": "code",
   "execution_count": 10,
   "id": "1614b202",
   "metadata": {
    "execution": {
     "iopub.execute_input": "2024-10-14T17:30:34.275105Z",
     "iopub.status.busy": "2024-10-14T17:30:34.274608Z",
     "iopub.status.idle": "2024-10-14T17:30:34.722699Z",
     "shell.execute_reply": "2024-10-14T17:30:34.721126Z"
    },
    "papermill": {
     "duration": 0.473747,
     "end_time": "2024-10-14T17:30:34.725429",
     "exception": false,
     "start_time": "2024-10-14T17:30:34.251682",
     "status": "completed"
    },
    "tags": []
   },
   "outputs": [
    {
     "name": "stdout",
     "output_type": "stream",
     "text": [
      " Number of null values :  229\n",
      "\n",
      "---------------------------------------------------------------------------\n",
      "\n",
      "Unique job :  ['blue-collar' 'technician' 'admin.' 'entrepreneur' 'unemployed'\n",
      " 'management' 'services' 'student' 'self-employed' 'retired' 'housemaid'\n",
      " nan]\n",
      "\n",
      "---------------------------------------------------------------------------\n",
      "\n",
      "job value counts:  job\n",
      "blue-collar      7776\n",
      "management       7462\n",
      "technician       6078\n",
      "admin.           4116\n",
      "services         3325\n",
      "self-employed    1862\n",
      "retired          1824\n",
      "entrepreneur     1805\n",
      "unemployed       1685\n",
      "housemaid        1656\n",
      "student          1393\n",
      "Name: count, dtype: int64\n",
      "\n",
      "---------------------------------------------------------------------------\n",
      "\n"
     ]
    },
    {
     "data": {
      "image/png": "[encoded data removed]",
      "text/plain": [
       "<Figure size 640x480 with 1 Axes>"
      ]
     },
     "metadata": {},
     "output_type": "display_data"
    },
    {
     "name": "stdout",
     "output_type": "stream",
     "text": [
      "\n",
      "---------------------------------------------------------------------------\n",
      "\n"
     ]
    }
   ],
   "source": [
    "\n",
    "print(' Number of null values : ' , train['job'].isnull().sum())\n",
    "\n",
    "print('')\n",
    "print('---------------------------------------------------------------------------')\n",
    "print('')\n",
    "\n",
    "print('Unique job : ' , train['job'].unique())\n",
    "\n",
    "print('')\n",
    "print('---------------------------------------------------------------------------')\n",
    "print('')\n",
    "\n",
    "print('job value counts: ' , train['job'].value_counts())\n",
    "\n",
    "print('')\n",
    "print('---------------------------------------------------------------------------')\n",
    "print('')\n",
    "\n",
    "train['job'].value_counts().plot(kind='bar')\n",
    "plt.show()\n",
    "\n",
    "print('')\n",
    "print('---------------------------------------------------------------------------')\n",
    "print('')\n",
    "\n",
    "\n",
    "train['job'] = train['job'].replace(np.nan, 'blue-collar')\n",
    "\n",
    "\n",
    "\n",
    "\n",
    "\n",
    "\n",
    "\n",
    "\n",
    "\n",
    "test['job'] = test['job'].replace(np.nan , 'blue-collar')"
   ]
  },
  {
   "cell_type": "markdown",
   "id": "9fd5a34a",
   "metadata": {
    "papermill": {
     "duration": 0.028031,
     "end_time": "2024-10-14T17:30:34.778997",
     "exception": false,
     "start_time": "2024-10-14T17:30:34.750966",
     "status": "completed"
    },
    "tags": []
   },
   "source": [
    "# martial"
   ]
  },
  {
   "cell_type": "code",
   "execution_count": 11,
   "id": "59018a0f",
   "metadata": {
    "execution": {
     "iopub.execute_input": "2024-10-14T17:30:34.831683Z",
     "iopub.status.busy": "2024-10-14T17:30:34.831209Z",
     "iopub.status.idle": "2024-10-14T17:30:35.093193Z",
     "shell.execute_reply": "2024-10-14T17:30:35.091898Z"
    },
    "papermill": {
     "duration": 0.292652,
     "end_time": "2024-10-14T17:30:35.096142",
     "exception": false,
     "start_time": "2024-10-14T17:30:34.803490",
     "status": "completed"
    },
    "tags": []
   },
   "outputs": [
    {
     "name": "stdout",
     "output_type": "stream",
     "text": [
      "marital has no null values :  0\n",
      "\n",
      "---------------------------------------------------------------------------\n",
      "\n",
      " Unique marital :  ['married' 'single' 'divorced']\n",
      "\n",
      "---------------------------------------------------------------------------\n",
      "\n",
      "marital value counts:  marital\n",
      "married     22691\n",
      "single      11250\n",
      "divorced     5270\n",
      "Name: count, dtype: int64\n",
      "\n",
      "---------------------------------------------------------------------------\n",
      "\n"
     ]
    },
    {
     "data": {
      "image/png": "[encoded data removed]",
      "text/plain": [
       "<Figure size 640x480 with 1 Axes>"
      ]
     },
     "metadata": {},
     "output_type": "display_data"
    }
   ],
   "source": [
    "print('marital has no null values : ' , train['marital'].isnull().sum())\n",
    "\n",
    "print('')\n",
    "print('---------------------------------------------------------------------------')\n",
    "print('')\n",
    "\n",
    "print(' Unique marital : ' , train['marital'].unique())\n",
    "\n",
    "print('')\n",
    "print('---------------------------------------------------------------------------')\n",
    "print('')\n",
    "\n",
    "print('marital value counts: ' , train['marital'].value_counts())\n",
    "\n",
    "print('')\n",
    "print('---------------------------------------------------------------------------')\n",
    "print('')\n",
    "\n",
    "train['marital'].value_counts().plot(kind='bar')\n",
    "plt.show()"
   ]
  },
  {
   "cell_type": "markdown",
   "id": "ff332a49",
   "metadata": {
    "papermill": {
     "duration": 0.023552,
     "end_time": "2024-10-14T17:30:35.144295",
     "exception": false,
     "start_time": "2024-10-14T17:30:35.120743",
     "status": "completed"
    },
    "tags": []
   },
   "source": [
    "# education"
   ]
  },
  {
   "cell_type": "code",
   "execution_count": 12,
   "id": "f4a3997a",
   "metadata": {
    "execution": {
     "iopub.execute_input": "2024-10-14T17:30:35.193673Z",
     "iopub.status.busy": "2024-10-14T17:30:35.193231Z",
     "iopub.status.idle": "2024-10-14T17:30:35.516862Z",
     "shell.execute_reply": "2024-10-14T17:30:35.515437Z"
    },
    "papermill": {
     "duration": 0.352051,
     "end_time": "2024-10-14T17:30:35.519767",
     "exception": false,
     "start_time": "2024-10-14T17:30:35.167716",
     "status": "completed"
    },
    "tags": []
   },
   "outputs": [
    {
     "name": "stdout",
     "output_type": "stream",
     "text": [
      "education has no null values :  1467\n",
      "\n",
      "---------------------------------------------------------------------------\n",
      "\n",
      " Unique education :  ['secondary' 'tertiary' 'primary' nan]\n",
      "\n",
      "---------------------------------------------------------------------------\n",
      "\n",
      "education value counts:  education\n",
      "secondary    19584\n",
      "tertiary     11615\n",
      "primary       6545\n",
      "Name: count, dtype: int64\n",
      "\n",
      "---------------------------------------------------------------------------\n",
      "\n"
     ]
    },
    {
     "data": {
      "image/png": "[encoded data removed]",
      "text/plain": [
       "<Figure size 640x480 with 1 Axes>"
      ]
     },
     "metadata": {},
     "output_type": "display_data"
    }
   ],
   "source": [
    "print('education has no null values : ' , train['education'].isnull().sum())\n",
    "\n",
    "print('')\n",
    "print('---------------------------------------------------------------------------')\n",
    "print('')\n",
    "\n",
    "print(' Unique education : ' , train['education'].unique())\n",
    "\n",
    "print('')\n",
    "print('---------------------------------------------------------------------------')\n",
    "print('')\n",
    "\n",
    "print('education value counts: ' , train['education'].value_counts())\n",
    "\n",
    "print('')\n",
    "print('---------------------------------------------------------------------------')\n",
    "print('')\n",
    "\n",
    "train['education'].value_counts().plot(kind='bar')\n",
    "\n",
    "\n",
    "train['education']=train['education'].replace(np.nan , 'secondary')\n",
    "\n",
    "test['education']=test['education'].replace(np.nan , 'secondary')"
   ]
  },
  {
   "cell_type": "markdown",
   "id": "5c5d3301",
   "metadata": {
    "papermill": {
     "duration": 0.023715,
     "end_time": "2024-10-14T17:30:35.567212",
     "exception": false,
     "start_time": "2024-10-14T17:30:35.543497",
     "status": "completed"
    },
    "tags": []
   },
   "source": [
    "# default\n"
   ]
  },
  {
   "cell_type": "code",
   "execution_count": 13,
   "id": "1809dc18",
   "metadata": {
    "execution": {
     "iopub.execute_input": "2024-10-14T17:30:35.616487Z",
     "iopub.status.busy": "2024-10-14T17:30:35.616051Z",
     "iopub.status.idle": "2024-10-14T17:30:35.848176Z",
     "shell.execute_reply": "2024-10-14T17:30:35.846487Z"
    },
    "papermill": {
     "duration": 0.259085,
     "end_time": "2024-10-14T17:30:35.851230",
     "exception": false,
     "start_time": "2024-10-14T17:30:35.592145",
     "status": "completed"
    },
    "tags": []
   },
   "outputs": [
    {
     "name": "stdout",
     "output_type": "stream",
     "text": [
      "default has no null values :  0\n",
      "\n",
      "---------------------------------------------------------------------------\n",
      "\n",
      " Unique default :  ['no' 'yes']\n",
      "\n",
      "---------------------------------------------------------------------------\n",
      "\n",
      "default value counts:  default\n",
      "no     36954\n",
      "yes     2257\n",
      "Name: count, dtype: int64\n",
      "\n",
      "---------------------------------------------------------------------------\n",
      "\n"
     ]
    },
    {
     "data": {
      "image/png": "[encoded data removed]",
      "text/plain": [
       "<Figure size 640x480 with 1 Axes>"
      ]
     },
     "metadata": {},
     "output_type": "display_data"
    }
   ],
   "source": [
    "print('default has no null values : ' , train['default'].isnull().sum())\n",
    "\n",
    "print('')\n",
    "print('---------------------------------------------------------------------------')\n",
    "print('')\n",
    "\n",
    "print(' Unique default : ' , train['default'].unique())\n",
    "\n",
    "print('')\n",
    "print('---------------------------------------------------------------------------')\n",
    "print('')\n",
    "\n",
    "print('default value counts: ' , train['default'].value_counts())\n",
    "\n",
    "print('')\n",
    "print('---------------------------------------------------------------------------')\n",
    "print('')\n",
    "\n",
    "train['default'].value_counts().plot(kind='bar')\n",
    "plt.show()\n",
    "\n",
    "\n",
    "train['default'] = train['default'].map({'no': 0, 'yes': 1})\n",
    "\n",
    "\n",
    "test['default'] = test['default'].map({'no': 0, 'yes': 1})\n"
   ]
  },
  {
   "cell_type": "markdown",
   "id": "3bfee792",
   "metadata": {
    "papermill": {
     "duration": 0.023525,
     "end_time": "2024-10-14T17:30:35.897421",
     "exception": false,
     "start_time": "2024-10-14T17:30:35.873896",
     "status": "completed"
    },
    "tags": []
   },
   "source": [
    "# housing"
   ]
  },
  {
   "cell_type": "code",
   "execution_count": 14,
   "id": "ba2fc2ac",
   "metadata": {
    "execution": {
     "iopub.execute_input": "2024-10-14T17:30:35.946075Z",
     "iopub.status.busy": "2024-10-14T17:30:35.945594Z",
     "iopub.status.idle": "2024-10-14T17:30:36.163117Z",
     "shell.execute_reply": "2024-10-14T17:30:36.161515Z"
    },
    "papermill": {
     "duration": 0.245918,
     "end_time": "2024-10-14T17:30:36.167091",
     "exception": false,
     "start_time": "2024-10-14T17:30:35.921173",
     "status": "completed"
    },
    "tags": []
   },
   "outputs": [
    {
     "name": "stdout",
     "output_type": "stream",
     "text": [
      "housing has no null values :  0\n",
      "\n",
      "---------------------------------------------------------------------------\n",
      "\n",
      " Unique housing :  ['yes' 'no']\n",
      "\n",
      "---------------------------------------------------------------------------\n",
      "\n",
      "housing value counts:  housing\n",
      "yes    21657\n",
      "no     17554\n",
      "Name: count, dtype: int64\n",
      "\n",
      "---------------------------------------------------------------------------\n",
      "\n"
     ]
    },
    {
     "data": {
      "image/png": "[encoded data removed]",
      "text/plain": [
       "<Figure size 640x480 with 1 Axes>"
      ]
     },
     "metadata": {},
     "output_type": "display_data"
    }
   ],
   "source": [
    "print('housing has no null values : ' , train['housing'].isnull().sum())\n",
    "\n",
    "print('')\n",
    "print('---------------------------------------------------------------------------')\n",
    "print('')\n",
    "\n",
    "print(' Unique housing : ' , train['housing'].unique())\n",
    "\n",
    "print('')\n",
    "print('---------------------------------------------------------------------------')\n",
    "print('')\n",
    "\n",
    "print('housing value counts: ' , train['housing'].value_counts())\n",
    "\n",
    "print('')\n",
    "print('---------------------------------------------------------------------------')\n",
    "print('')\n",
    "\n",
    "train['housing'].value_counts().plot(kind='bar')\n",
    "plt.show()\n",
    "\n",
    "train['housing'] = train['housing'].map({'no': 0, 'yes': 1})\n",
    "\n",
    "\n",
    "\n",
    "test['housing'] = test['housing'].map({'no': 0, 'yes': 1})\n"
   ]
  },
  {
   "cell_type": "code",
   "execution_count": 15,
   "id": "f30be779",
   "metadata": {
    "execution": {
     "iopub.execute_input": "2024-10-14T17:30:36.220200Z",
     "iopub.status.busy": "2024-10-14T17:30:36.219761Z",
     "iopub.status.idle": "2024-10-14T17:30:36.491744Z",
     "shell.execute_reply": "2024-10-14T17:30:36.489801Z"
    },
    "papermill": {
     "duration": 0.302672,
     "end_time": "2024-10-14T17:30:36.495075",
     "exception": false,
     "start_time": "2024-10-14T17:30:36.192403",
     "status": "completed"
    },
    "tags": []
   },
   "outputs": [
    {
     "name": "stdout",
     "output_type": "stream",
     "text": [
      "loan has no null values :  0\n",
      "\n",
      "---------------------------------------------------------------------------\n",
      "\n",
      " Unique loan :  ['no' 'yes']\n",
      "\n",
      "---------------------------------------------------------------------------\n",
      "\n",
      "loan value counts:  loan\n",
      "no     31820\n",
      "yes     7391\n",
      "Name: count, dtype: int64\n",
      "\n",
      "---------------------------------------------------------------------------\n",
      "\n"
     ]
    },
    {
     "data": {
      "image/png": "[encoded data removed]",
      "text/plain": [
       "<Figure size 640x480 with 1 Axes>"
      ]
     },
     "metadata": {},
     "output_type": "display_data"
    }
   ],
   "source": [
    "print('loan has no null values : ' , train['loan'].isnull().sum())\n",
    "\n",
    "print('')\n",
    "print('---------------------------------------------------------------------------')\n",
    "print('')\n",
    "\n",
    "print(' Unique loan : ' , train['loan'].unique())\n",
    "\n",
    "print('')\n",
    "print('---------------------------------------------------------------------------')\n",
    "print('')\n",
    "\n",
    "print('loan value counts: ' , train['loan'].value_counts())\n",
    "\n",
    "print('')\n",
    "print('---------------------------------------------------------------------------')\n",
    "print('')\n",
    "\n",
    "train['loan'].value_counts().plot(kind='bar')\n",
    "plt.show()\n",
    "\n",
    "\n",
    "\n",
    "\n",
    "train['loan'] = train['loan'].map({'no': 0, 'yes': 1})\n",
    "\n",
    "\n",
    "test['loan'] = test['loan'].map({'no': 0, 'yes': 1})\n",
    "\n"
   ]
  },
  {
   "cell_type": "code",
   "execution_count": 16,
   "id": "b90a401b",
   "metadata": {
    "execution": {
     "iopub.execute_input": "2024-10-14T17:30:36.548023Z",
     "iopub.status.busy": "2024-10-14T17:30:36.547498Z",
     "iopub.status.idle": "2024-10-14T17:30:36.847757Z",
     "shell.execute_reply": "2024-10-14T17:30:36.845700Z"
    },
    "papermill": {
     "duration": 0.331426,
     "end_time": "2024-10-14T17:30:36.851697",
     "exception": false,
     "start_time": "2024-10-14T17:30:36.520271",
     "status": "completed"
    },
    "tags": []
   },
   "outputs": [
    {
     "name": "stdout",
     "output_type": "stream",
     "text": [
      "contact has null values :  10336\n",
      "\n",
      "---------------------------------------------------------------------------\n",
      "\n",
      " Unique contact :  ['cellular' 'telephone' nan]\n",
      "\n",
      "---------------------------------------------------------------------------\n",
      "\n",
      "contact value counts:  contact\n",
      "cellular     25030\n",
      "telephone     3845\n",
      "Name: count, dtype: int64\n",
      "\n",
      "---------------------------------------------------------------------------\n",
      "\n"
     ]
    },
    {
     "data": {
      "image/png": "[encoded data removed]",
      "text/plain": [
       "<Figure size 640x480 with 1 Axes>"
      ]
     },
     "metadata": {},
     "output_type": "display_data"
    }
   ],
   "source": [
    "print('contact has null values : ' , train['contact'].isnull().sum())\n",
    "\n",
    "print('')\n",
    "print('---------------------------------------------------------------------------')\n",
    "print('')\n",
    "\n",
    "print(' Unique contact : ' , train['contact'].unique())\n",
    "\n",
    "print('')\n",
    "print('---------------------------------------------------------------------------')\n",
    "print('')\n",
    "\n",
    "print('contact value counts: ' , train['contact'].value_counts())\n",
    "\n",
    "print('')\n",
    "print('---------------------------------------------------------------------------')\n",
    "print('')\n",
    "\n",
    "train['contact'].value_counts().plot(kind='bar')\n",
    "plt.show()\n",
    "\n",
    "\n",
    "train['contact']=train['contact'].replace(np.nan , 'cellular')\n",
    "\n",
    "train['contact'] = train['contact'].map({'cellular': 1, 'telephone': 0})\n",
    "\n",
    "\n",
    "\n",
    "test['contact']=test['contact'].replace(np.nan , 'cellular')\n",
    "test['contact'] = test['contact'].map({'cellular': 1, 'telephone': 0})\n",
    "\n"
   ]
  },
  {
   "cell_type": "code",
   "execution_count": 17,
   "id": "b7c42f5b",
   "metadata": {
    "execution": {
     "iopub.execute_input": "2024-10-14T17:30:36.908490Z",
     "iopub.status.busy": "2024-10-14T17:30:36.907612Z",
     "iopub.status.idle": "2024-10-14T17:30:37.446497Z",
     "shell.execute_reply": "2024-10-14T17:30:37.444553Z"
    },
    "papermill": {
     "duration": 0.570464,
     "end_time": "2024-10-14T17:30:37.449529",
     "exception": false,
     "start_time": "2024-10-14T17:30:36.879065",
     "status": "completed"
    },
    "tags": []
   },
   "outputs": [
    {
     "name": "stdout",
     "output_type": "stream",
     "text": [
      "poutcome has  null values :  29451\n",
      "\n",
      "---------------------------------------------------------------------------\n",
      "\n",
      " Unique poutcome :  ['other' nan 'failure' 'success']\n",
      "\n",
      "---------------------------------------------------------------------------\n",
      "\n",
      "poutcome value counts:  poutcome\n",
      "failure    4949\n",
      "other      2560\n",
      "success    2251\n",
      "Name: count, dtype: int64\n",
      "\n",
      "---------------------------------------------------------------------------\n",
      "\n"
     ]
    },
    {
     "data": {
      "image/png": "[encoded data removed]",
      "text/plain": [
       "<Figure size 640x480 with 1 Axes>"
      ]
     },
     "metadata": {},
     "output_type": "display_data"
    },
    {
     "data": {
      "image/png": "[encoded data removed]",
      "text/plain": [
       "<Figure size 640x480 with 1 Axes>"
      ]
     },
     "metadata": {},
     "output_type": "display_data"
    }
   ],
   "source": [
    "print('poutcome has  null values : ' , train['poutcome'].isnull().sum())\n",
    "\n",
    "print('')\n",
    "print('---------------------------------------------------------------------------')\n",
    "print('')\n",
    "\n",
    "print(' Unique poutcome : ' , train['poutcome'].unique())\n",
    "\n",
    "print('')\n",
    "print('---------------------------------------------------------------------------')\n",
    "print('')\n",
    "\n",
    "print('poutcome value counts: ' , train['poutcome'].value_counts())\n",
    "\n",
    "print('')\n",
    "print('---------------------------------------------------------------------------')\n",
    "print('')\n",
    "\n",
    "\n",
    "train['poutcome'].value_counts().plot(kind='bar')\n",
    "plt.show()\n",
    "\n",
    "\n",
    "\n",
    "train['poutcome'] = train['poutcome'].replace(np.nan, 'failure')\n",
    "\n",
    "\n",
    "train['poutcome'].value_counts().plot(kind='bar')\n",
    "plt.show()\n",
    "\n",
    "\n",
    "\n",
    "test['poutcome'] = test['poutcome'].replace(np.nan, 'failure')\n"
   ]
  },
  {
   "cell_type": "code",
   "execution_count": 18,
   "id": "cadcd17e",
   "metadata": {
    "execution": {
     "iopub.execute_input": "2024-10-14T17:30:37.509147Z",
     "iopub.status.busy": "2024-10-14T17:30:37.508577Z",
     "iopub.status.idle": "2024-10-14T17:30:37.557294Z",
     "shell.execute_reply": "2024-10-14T17:30:37.555108Z"
    },
    "papermill": {
     "duration": 0.083169,
     "end_time": "2024-10-14T17:30:37.562251",
     "exception": false,
     "start_time": "2024-10-14T17:30:37.479082",
     "status": "completed"
    },
    "tags": []
   },
   "outputs": [
    {
     "name": "stdout",
     "output_type": "stream",
     "text": [
      "<class 'pandas.core.frame.DataFrame'>\n",
      "RangeIndex: 39211 entries, 0 to 39210\n",
      "Data columns (total 19 columns):\n",
      " #   Column             Non-Null Count  Dtype         \n",
      "---  ------             --------------  -----         \n",
      " 0   last contact date  39211 non-null  datetime64[ns]\n",
      " 1   age                39211 non-null  int64         \n",
      " 2   job                39211 non-null  object        \n",
      " 3   marital            39211 non-null  object        \n",
      " 4   education          39211 non-null  object        \n",
      " 5   default            39211 non-null  int64         \n",
      " 6   balance            39211 non-null  int64         \n",
      " 7   housing            39211 non-null  int64         \n",
      " 8   loan               39211 non-null  int64         \n",
      " 9   contact            39211 non-null  int64         \n",
      " 10  duration           39211 non-null  int64         \n",
      " 11  campaign           39211 non-null  int64         \n",
      " 12  pdays              39211 non-null  int64         \n",
      " 13  previous           39211 non-null  int64         \n",
      " 14  poutcome           39211 non-null  object        \n",
      " 15  target             39211 non-null  object        \n",
      " 16  day                39211 non-null  int32         \n",
      " 17  month              39211 non-null  int32         \n",
      " 18  isSunday           39211 non-null  int64         \n",
      "dtypes: datetime64[ns](1), int32(2), int64(11), object(5)\n",
      "memory usage: 5.4+ MB\n"
     ]
    }
   ],
   "source": [
    "train.info()"
   ]
  },
  {
   "cell_type": "markdown",
   "id": "c922b826",
   "metadata": {
    "papermill": {
     "duration": 0.026858,
     "end_time": "2024-10-14T17:30:37.616180",
     "exception": false,
     "start_time": "2024-10-14T17:30:37.589322",
     "status": "completed"
    },
    "tags": []
   },
   "source": [
    "# Numerical Columns\n",
    "# Age , Balance , campaign , pdays , previous"
   ]
  },
  {
   "cell_type": "code",
   "execution_count": 19,
   "id": "c029f823",
   "metadata": {
    "execution": {
     "iopub.execute_input": "2024-10-14T17:30:37.672169Z",
     "iopub.status.busy": "2024-10-14T17:30:37.671490Z",
     "iopub.status.idle": "2024-10-14T17:30:38.015536Z",
     "shell.execute_reply": "2024-10-14T17:30:38.013961Z"
    },
    "papermill": {
     "duration": 0.375888,
     "end_time": "2024-10-14T17:30:38.019143",
     "exception": false,
     "start_time": "2024-10-14T17:30:37.643255",
     "status": "completed"
    },
    "tags": []
   },
   "outputs": [
    {
     "name": "stdout",
     "output_type": "stream",
     "text": [
      "Age has no null values :  0\n",
      "\n",
      "---------------------------------------------------------------------------\n",
      "\n",
      "no. of age less than zero is  0\n",
      "\n",
      "---------------------------------------------------------------------------\n",
      "\n",
      " Unique Ages :  [26 52 44 33 31 25 46 37 38 32 28 34 86 42 58 39 35 47 45 48 30 50 56 54\n",
      " 40 53 41 51 27 29 57 63 36 43 19 55 49 23 83 60 22 80 76 59 24 93 71 89\n",
      " 64 68 85 79 62 69 20 90 66 87 72 88 67 70 77 91 78 61 65 73 74 84 82 92\n",
      " 81 18 21 75 94 95]\n",
      "\n",
      "---------------------------------------------------------------------------\n",
      "\n",
      "Age value counts:  age\n",
      "32    1688\n",
      "31    1629\n",
      "33    1599\n",
      "35    1571\n",
      "34    1566\n",
      "      ... \n",
      "18      44\n",
      "92      41\n",
      "87      40\n",
      "85      39\n",
      "95       2\n",
      "Name: count, Length: 78, dtype: int64\n",
      "\n",
      "---------------------------------------------------------------------------\n",
      "\n"
     ]
    },
    {
     "data": {
      "image/png": "[encoded data removed]",
      "text/plain": [
       "<Figure size 640x480 with 1 Axes>"
      ]
     },
     "metadata": {},
     "output_type": "display_data"
    }
   ],
   "source": [
    "print('Age has no null values : ' , train['age'].isnull().sum())\n",
    "\n",
    "print('')\n",
    "print('---------------------------------------------------------------------------')\n",
    "print('')\n",
    "\n",
    "print('no. of age less than zero is ', train[train['age']<0]['age'].count())\n",
    "\n",
    "\n",
    "print('')\n",
    "print('---------------------------------------------------------------------------')\n",
    "print('')\n",
    "\n",
    "print(' Unique Ages : ' , train['age'].unique())\n",
    "\n",
    "print('')\n",
    "print('---------------------------------------------------------------------------')\n",
    "print('')\n",
    "\n",
    "print('Age value counts: ' , train['age'].value_counts())\n",
    "\n",
    "print('')\n",
    "print('---------------------------------------------------------------------------')\n",
    "print('')\n",
    "\n",
    "train['age'].value_counts().plot(kind='hist')\n",
    "plt.show()\n",
    "\n",
    "\n"
   ]
  },
  {
   "cell_type": "markdown",
   "id": "db40caf6",
   "metadata": {
    "papermill": {
     "duration": 0.02867,
     "end_time": "2024-10-14T17:30:38.079361",
     "exception": false,
     "start_time": "2024-10-14T17:30:38.050691",
     "status": "completed"
    },
    "tags": []
   },
   "source": [
    "# Feature Engineering Age Category"
   ]
  },
  {
   "cell_type": "code",
   "execution_count": 20,
   "id": "9a8b30b4",
   "metadata": {
    "execution": {
     "iopub.execute_input": "2024-10-14T17:30:38.139745Z",
     "iopub.status.busy": "2024-10-14T17:30:38.139251Z",
     "iopub.status.idle": "2024-10-14T17:30:38.169588Z",
     "shell.execute_reply": "2024-10-14T17:30:38.168320Z"
    },
    "papermill": {
     "duration": 0.06341,
     "end_time": "2024-10-14T17:30:38.172534",
     "exception": false,
     "start_time": "2024-10-14T17:30:38.109124",
     "status": "completed"
    },
    "tags": []
   },
   "outputs": [],
   "source": [
    "def age_category(x):\n",
    "    if x<=39:\n",
    "        return 'young'\n",
    "    if 40<=x<=59:\n",
    "        return 'middle'\n",
    "    return 'old'\n",
    "\n",
    "\n",
    "train['Age_Category'] = train['age'].apply(age_category)\n",
    "\n",
    "test['Age_Category'] = test['age'].apply(age_category)\n",
    "\n"
   ]
  },
  {
   "cell_type": "code",
   "execution_count": 21,
   "id": "7cf68a72",
   "metadata": {
    "execution": {
     "iopub.execute_input": "2024-10-14T17:30:38.232553Z",
     "iopub.status.busy": "2024-10-14T17:30:38.232097Z",
     "iopub.status.idle": "2024-10-14T17:30:38.536694Z",
     "shell.execute_reply": "2024-10-14T17:30:38.534541Z"
    },
    "papermill": {
     "duration": 0.337654,
     "end_time": "2024-10-14T17:30:38.539651",
     "exception": false,
     "start_time": "2024-10-14T17:30:38.201997",
     "status": "completed"
    },
    "tags": []
   },
   "outputs": [
    {
     "name": "stdout",
     "output_type": "stream",
     "text": [
      "campaign has no null values :  0\n",
      "\n",
      "---------------------------------------------------------------------------\n",
      "\n",
      "camaign less than zero is  0\n",
      "\n",
      "---------------------------------------------------------------------------\n",
      "\n",
      " Unique campaign  :  [ 2  1  3  4  6 45  5 44 12 61 58  7  8 20 43 17 13 15 48 34 11 54 22 26\n",
      " 29 21 10 49  9 52 53 57 16 50 46 47 23 37 18 38 32 36 39 56 14 30 41 63\n",
      " 51 28 25 62 55 42 35 31 59 19 40 33 24 27 60]\n",
      "\n",
      "---------------------------------------------------------------------------\n",
      "\n",
      "campaign value counts:  campaign\n",
      "1     14013\n",
      "2     10016\n",
      "3      4470\n",
      "4      2861\n",
      "5      1469\n",
      "      ...  \n",
      "48       44\n",
      "30       43\n",
      "40       43\n",
      "60       43\n",
      "53       38\n",
      "Name: count, Length: 63, dtype: int64\n",
      "\n",
      "---------------------------------------------------------------------------\n",
      "\n"
     ]
    },
    {
     "data": {
      "text/plain": [
       "<Axes: ylabel='Frequency'>"
      ]
     },
     "execution_count": 21,
     "metadata": {},
     "output_type": "execute_result"
    },
    {
     "data": {
      "image/png": "[encoded data removed]",
      "text/plain": [
       "<Figure size 640x480 with 1 Axes>"
      ]
     },
     "metadata": {},
     "output_type": "display_data"
    }
   ],
   "source": [
    "print('campaign has no null values : ' , train['campaign'].isnull().sum())\n",
    "\n",
    "print('')\n",
    "print('---------------------------------------------------------------------------')\n",
    "print('')\n",
    "\n",
    "\n",
    "print('camaign less than zero is ', train[train['campaign']<0]['campaign'].count())\n",
    "\n",
    "\n",
    "print('')\n",
    "print('---------------------------------------------------------------------------')\n",
    "print('')\n",
    "print(' Unique campaign  : ' , train['campaign'].unique())\n",
    "\n",
    "print('')\n",
    "print('---------------------------------------------------------------------------')\n",
    "print('')\n",
    "\n",
    "print('campaign value counts: ' , train['campaign'].value_counts())\n",
    "\n",
    "print('')\n",
    "print('---------------------------------------------------------------------------')\n",
    "print('')\n",
    "\n",
    "train['campaign'].value_counts().plot(kind='hist')\n",
    "\n"
   ]
  },
  {
   "cell_type": "code",
   "execution_count": 22,
   "id": "d41a605f",
   "metadata": {
    "execution": {
     "iopub.execute_input": "2024-10-14T17:30:38.599716Z",
     "iopub.status.busy": "2024-10-14T17:30:38.599204Z",
     "iopub.status.idle": "2024-10-14T17:30:38.894722Z",
     "shell.execute_reply": "2024-10-14T17:30:38.893035Z"
    },
    "papermill": {
     "duration": 0.329735,
     "end_time": "2024-10-14T17:30:38.897779",
     "exception": false,
     "start_time": "2024-10-14T17:30:38.568044",
     "status": "completed"
    },
    "tags": []
   },
   "outputs": [
    {
     "name": "stdout",
     "output_type": "stream",
     "text": [
      "balance has no null values :  0\n",
      "\n",
      "---------------------------------------------------------------------------\n",
      "\n",
      "checking if balance is negetive and how many rows have balance less than zero: 2971\n",
      "\n",
      "---------------------------------------------------------------------------\n",
      "\n",
      " Unique balance values :  [  647   553  1397 ...  4307  6187 38594]\n",
      "\n",
      "---------------------------------------------------------------------------\n",
      "\n",
      "balance value counts:  balance\n",
      "0        2799\n",
      "1         149\n",
      "2         122\n",
      "4         115\n",
      "3         104\n",
      "         ... \n",
      "95094       1\n",
      "81074       1\n",
      "31565       1\n",
      "5278        1\n",
      "38594       1\n",
      "Name: count, Length: 9535, dtype: int64\n",
      "\n",
      "---------------------------------------------------------------------------\n",
      "\n"
     ]
    },
    {
     "data": {
      "text/plain": [
       "<Axes: ylabel='Frequency'>"
      ]
     },
     "execution_count": 22,
     "metadata": {},
     "output_type": "execute_result"
    },
    {
     "data": {
      "image/png": "[encoded data removed]",
      "text/plain": [
       "<Figure size 640x480 with 1 Axes>"
      ]
     },
     "metadata": {},
     "output_type": "display_data"
    }
   ],
   "source": [
    "print('balance has no null values : ' , train['balance'].isnull().sum())\n",
    "\n",
    "print('')\n",
    "print('---------------------------------------------------------------------------')\n",
    "print('')\n",
    "\n",
    "print('checking if balance is negetive and how many rows have balance less than zero:'  , train[train['balance']<0]['balance'].count())\n",
    "\n",
    "print('')\n",
    "print('---------------------------------------------------------------------------')\n",
    "print('')\n",
    "\n",
    "print(' Unique balance values : ' , train['balance'].unique())\n",
    "\n",
    "print('')\n",
    "print('---------------------------------------------------------------------------')\n",
    "print('')\n",
    "\n",
    "print('balance value counts: ' , train['balance'].value_counts())\n",
    "\n",
    "print('')\n",
    "print('---------------------------------------------------------------------------')\n",
    "print('')\n",
    "\n",
    "train['balance'].value_counts().plot(kind='hist')\n",
    "\n",
    "\n",
    "\n",
    "\n",
    "\n"
   ]
  },
  {
   "cell_type": "code",
   "execution_count": 23,
   "id": "1a3213ca",
   "metadata": {
    "execution": {
     "iopub.execute_input": "2024-10-14T17:30:38.954417Z",
     "iopub.status.busy": "2024-10-14T17:30:38.953990Z",
     "iopub.status.idle": "2024-10-14T17:30:39.278355Z",
     "shell.execute_reply": "2024-10-14T17:30:39.276691Z"
    },
    "papermill": {
     "duration": 0.357593,
     "end_time": "2024-10-14T17:30:39.282091",
     "exception": false,
     "start_time": "2024-10-14T17:30:38.924498",
     "status": "completed"
    },
    "tags": []
   },
   "outputs": [
    {
     "name": "stdout",
     "output_type": "stream",
     "text": [
      "pdays has no null values :  0\n",
      "\n",
      "---------------------------------------------------------------------------\n",
      "\n",
      " Unique pdays values :  [331  -1 852 661 152 599 365 367 238 129 287 174 120 368 371 187 610 364\n",
      " 633  80 125 356 248 186 278 154  90  98 574 352 561 260 801  78 596 343\n",
      " 671 175 159  12 111  31 342 357  74 100 289  84 109 245 369  83 536 216\n",
      "  89  97 252 143 378 336 172 160 191  91 848 258 317  94 196 362 188 272\n",
      " 138 298 116 101 591 360 234 505 631  82   8 300 472 173 530 103 236 316\n",
      " 370 611 271 305  79 474 405 293 442 178 232 299 213 184 237  93  37 255\n",
      " 353 259 181 315 147 349 335 165 295 203 290   6 767 302 169 320 148  19\n",
      " 435 328 645 526 150 318 347  29  96 254  35 136 350 759 358 670 348 224\n",
      " 114 102 407 326 330 665 760 445 373 265 190 285 246 644 337 161 264 562\n",
      " 189 363 630 652  44 478 322 176 783 597 344 339 110 334 167 204 166 816\n",
      " 484 177 775 366  32 480 200 408 421 247 291 261 579 244 730 324 434 525\n",
      " 156 153 157  95 439 286 163 197 182 309 257 283 461 824  92 704 195 170\n",
      " 655 121  68 332 651 504 403 263 183 440 431 185 202 105 477 746 310 622\n",
      " 149 698 427 847 115 620 219 846 301  40 649 481 438 215  61 531  59 643\n",
      " 303 117  64 168 158 338 515 516  75 779 606 355 400 743 134  53 706 321\n",
      " 274 578 345 270 141   1 251 575 705  81 340 192 266 262 560 276 208 243\n",
      " 428 375  11 180 314  99 228 774  76 518 695 209 193 206 282 861 304 828\n",
      "  55 284  87 210 551 135 312 587 468 557  50 406 113 329 556 764 179 239\n",
      " 145 249 323  41 201  33 844 221 256 212 281 450  86 580 422 385 233 514\n",
      "  28 268  30 795 205  57 361 860   2 327 346 132 473  63 396 657  88 647\n",
      " 854  73 107 126 171 581 198  24 402 325 433 269  85 646  69 605 733 488\n",
      " 462 805 217 745 292 151 426 127 131 351 359 240 769 789 388 503 306 313\n",
      " 863 866 479 547 390   5 528 341 640 648 859 625 725 567 387 669 374 225\n",
      " 380 496 155 506 642 722 802  56 118 553 456 333 559 714 409 791 267 806\n",
      " 451 415 685 558 773 383 833 467 311 534   3 459 241 819 798  52 139 104\n",
      " 511 455 307 624 601 494 308 458 112 842 522 555 394 275 498 768 273 694\n",
      " 499 381 294 708 457 146 550 845 425 297   7 871 615 752 737 543 668  60\n",
      " 864 124 796 829 250 280  77 674 130 412 600 483 538 588 548 475  70 372\n",
      " 164 418 223 712 391 279 133 751 227 464 734 106 740 857 629 436 443 253\n",
      " 812 853 123 577 437 778 613 386  38 399 711 376 869 827 721  43 469 776\n",
      " 199 398 862 735 229 680 761 780 663 686  62 870 230  14 119  42  27  17\n",
      " 697 781 545 521 517 675 242 485 211 618 509 128 667  21 404 108 736 603\n",
      " 718 218 586 831 684 658 834 826 617 144  46 463 454 786  67  10 430 493\n",
      " 810 710 701 784 354 799 584 688  47 868 637 593 662 492 448 681 207 726\n",
      " 757 825 510 739 750 277 855 654 813 673 384 460 222 410 838 628 296 621\n",
      " 677 732   9 319 194 417 140 632 691 659 589 741 288 814 822  71 397 382\n",
      " 490 554 758 392 569  22 466 542 235 541 487 565 619 544 413 650 389 476\n",
      " 508 728 529 793 500 537 429 636 449 772 137 762 491 566 770 850  45 856\n",
      " 497 664 424 785 609 830 702  39 744 626 612 563 512 634 122 447 231 717\n",
      " 414 627 713 486 818 672 432 709 419 598  25 787 719 614  13 582 656 471\n",
      " 576 696 687 162 749 777 756 489 523 811 214 377 837  18 226 804 573 416\n",
      " 446 797  36 520   4  66 465 792 379 639 602 754 546 401 766 635  49 840\n",
      " 572 858  58 821 782 771 604 731  54 608 807  23 699 851 585 693 729 616\n",
      " 660 820 808 841  65 765 411 607 571 763 727  72 470 803 653  16 142 539\n",
      " 513 843  15 742 564 552 592 638 507 676 839 549 689 590  26 809 753 723\n",
      " 815 788 747 420 790 524 720 683 690 519 716 835 568 623 570 444 678  48\n",
      " 482 535 595 836 594 707 817 502 441  34 800 533 395  20 453 832 540 849\n",
      " 666 495 679 865 501 393 794  51 700 703 532 715 867 692 452 823 220   0\n",
      " 724]\n",
      "\n",
      "---------------------------------------------------------------------------\n",
      "\n",
      "pdays value counts:  pdays\n",
      "-1      29446\n",
      " 182      135\n",
      " 92       117\n",
      " 91       106\n",
      " 183      100\n",
      "        ...  \n",
      " 836        1\n",
      " 594        1\n",
      " 659        1\n",
      " 817        1\n",
      " 724        1\n",
      "Name: count, Length: 865, dtype: int64\n",
      "\n",
      "---------------------------------------------------------------------------\n",
      "\n"
     ]
    },
    {
     "data": {
      "image/png": "[encoded data removed]",
      "text/plain": [
       "<Figure size 640x480 with 1 Axes>"
      ]
     },
     "metadata": {},
     "output_type": "display_data"
    }
   ],
   "source": [
    "print('pdays has no null values : ' , train['pdays'].isnull().sum())\n",
    "\n",
    "print('')\n",
    "print('---------------------------------------------------------------------------')\n",
    "print('')\n",
    "\n",
    "print(' Unique pdays values : ' , train['pdays'].unique())\n",
    "\n",
    "print('')\n",
    "print('---------------------------------------------------------------------------')\n",
    "print('')\n",
    "\n",
    "print('pdays value counts: ' , train['pdays'].value_counts())\n",
    "\n",
    "print('')\n",
    "print('---------------------------------------------------------------------------')\n",
    "print('')\n",
    "\n",
    "train['pdays'].value_counts().plot(kind='hist')\n",
    "\n",
    "\n",
    "\n",
    "train['previously_contacted'] = train['pdays'].apply(lambda x: 1 if x != -1 else 0)\n",
    "\n",
    "test['previously_contacted'] = test['pdays'].apply(lambda x: 1 if x != -1 else 0)\n"
   ]
  },
  {
   "cell_type": "code",
   "execution_count": 24,
   "id": "11be2abf",
   "metadata": {
    "execution": {
     "iopub.execute_input": "2024-10-14T17:30:39.411409Z",
     "iopub.status.busy": "2024-10-14T17:30:39.410964Z",
     "iopub.status.idle": "2024-10-14T17:30:39.717459Z",
     "shell.execute_reply": "2024-10-14T17:30:39.715985Z"
    },
    "papermill": {
     "duration": 0.409216,
     "end_time": "2024-10-14T17:30:39.720652",
     "exception": false,
     "start_time": "2024-10-14T17:30:39.311436",
     "status": "completed"
    },
    "tags": []
   },
   "outputs": [
    {
     "name": "stdout",
     "output_type": "stream",
     "text": [
      "previous has no null values :  0\n",
      "\n",
      "---------------------------------------------------------------------------\n",
      "\n",
      "checking if previous is negetive and how many rows have previous less than zero: 0\n",
      "\n",
      "---------------------------------------------------------------------------\n",
      "\n",
      " Unique previous  :  [  1   0   4 143 234   3  18   2 225 219   6  12  16 248 217 116   8 119\n",
      "  37  69 113  14 265 175 103  28  86   5 196 156 207 218 148 213  87 241\n",
      "  60 235 172 255 266  17 135  99  20   9 270 229 188 105 141 153 131 182\n",
      " 223 177  70  75   7  91 236  85 100 160  30  63 178 150  72 233  40 145\n",
      " 272  24 249  97 193 140 222 128  90  10 155 122 134 252 117 173 203 226\n",
      "  23 194 208  77 274  38 273 244  15 176  96  31 133 259 191 101 197 192\n",
      " 152 216 204 206  71 180 250 268 144  81 110 136  43  19  74 187 205  66\n",
      " 269  36 166  29  53 200 261  13  61 186  62 104 138 123  78 189 147 185\n",
      " 179 129 190 111 139 211 245  22  51 171  26 254  84 174  46  48  58  68\n",
      " 228  11  80  55 107 232 202 132 264  56 260 181  32 163  94  83  54 240\n",
      " 154 198  49 221 242  35 120 125 243 256 146  67 124 108 169  82  39 258\n",
      " 112 237 114  59  42 165 199 184  92 168  21  88  33 159 183 109  65 164\n",
      " 215  93 246 102  95 201 162 195  41  64 157 257 263 267 126  47 212 149\n",
      "  52  73 239  25 118 161  27  76 121 170 230 262  89 137 220 209  57 251\n",
      " 247 115  34 238 271 167  98  50 142  45 227 275 106  79 210 214  44 253\n",
      " 224 151 231 130 158 127]\n",
      "\n",
      "---------------------------------------------------------------------------\n",
      "\n",
      "previous value counts:  previous\n",
      "0      29456\n",
      "1       2226\n",
      "2       1708\n",
      "3        907\n",
      "4        590\n",
      "       ...  \n",
      "163        5\n",
      "76         5\n",
      "180        5\n",
      "137        5\n",
      "231        4\n",
      "Name: count, Length: 276, dtype: int64\n",
      "\n",
      "---------------------------------------------------------------------------\n",
      "\n"
     ]
    },
    {
     "data": {
      "text/plain": [
       "<Axes: ylabel='Frequency'>"
      ]
     },
     "execution_count": 24,
     "metadata": {},
     "output_type": "execute_result"
    },
    {
     "data": {
      "image/png": "[encoded data removed]",
      "text/plain": [
       "<Figure size 640x480 with 1 Axes>"
      ]
     },
     "metadata": {},
     "output_type": "display_data"
    }
   ],
   "source": [
    "print('previous has no null values : ' , train['previous'].isnull().sum())\n",
    "\n",
    "print('')\n",
    "print('---------------------------------------------------------------------------')\n",
    "print('')\n",
    "\n",
    "\n",
    "print('checking if previous is negetive and how many rows have previous less than zero:'  , train[train['previous']<0]['previous'].count())\n",
    "\n",
    "\n",
    "print('')\n",
    "print('---------------------------------------------------------------------------')\n",
    "print('')\n",
    "\n",
    "\n",
    "print(' Unique previous  : ' , train['previous'].unique())\n",
    "\n",
    "print('')\n",
    "print('---------------------------------------------------------------------------')\n",
    "print('')\n",
    "\n",
    "print('previous value counts: ' , train['previous'].value_counts())\n",
    "\n",
    "print('')\n",
    "print('---------------------------------------------------------------------------')\n",
    "print('')\n",
    "\n",
    "train['previous'].value_counts().plot(kind='hist')\n"
   ]
  },
  {
   "cell_type": "code",
   "execution_count": 25,
   "id": "41c8d196",
   "metadata": {
    "execution": {
     "iopub.execute_input": "2024-10-14T17:30:39.788578Z",
     "iopub.status.busy": "2024-10-14T17:30:39.787931Z",
     "iopub.status.idle": "2024-10-14T17:30:39.931411Z",
     "shell.execute_reply": "2024-10-14T17:30:39.930009Z"
    },
    "papermill": {
     "duration": 0.182165,
     "end_time": "2024-10-14T17:30:39.934776",
     "exception": false,
     "start_time": "2024-10-14T17:30:39.752611",
     "status": "completed"
    },
    "tags": []
   },
   "outputs": [
    {
     "name": "stdout",
     "output_type": "stream",
     "text": [
      "Shape: (39211, 21)\n",
      "\n",
      "---------------------------------------------------------------------------\n",
      "\n",
      "<class 'pandas.core.frame.DataFrame'>\n",
      "RangeIndex: 39211 entries, 0 to 39210\n",
      "Data columns (total 21 columns):\n",
      " #   Column                Non-Null Count  Dtype         \n",
      "---  ------                --------------  -----         \n",
      " 0   last contact date     39211 non-null  datetime64[ns]\n",
      " 1   age                   39211 non-null  int64         \n",
      " 2   job                   39211 non-null  object        \n",
      " 3   marital               39211 non-null  object        \n",
      " 4   education             39211 non-null  object        \n",
      " 5   default               39211 non-null  int64         \n",
      " 6   balance               39211 non-null  int64         \n",
      " 7   housing               39211 non-null  int64         \n",
      " 8   loan                  39211 non-null  int64         \n",
      " 9   contact               39211 non-null  int64         \n",
      " 10  duration              39211 non-null  int64         \n",
      " 11  campaign              39211 non-null  int64         \n",
      " 12  pdays                 39211 non-null  int64         \n",
      " 13  previous              39211 non-null  int64         \n",
      " 14  poutcome              39211 non-null  object        \n",
      " 15  target                39211 non-null  object        \n",
      " 16  day                   39211 non-null  int32         \n",
      " 17  month                 39211 non-null  int32         \n",
      " 18  isSunday              39211 non-null  int64         \n",
      " 19  Age_Category          39211 non-null  object        \n",
      " 20  previously_contacted  39211 non-null  int64         \n",
      "dtypes: datetime64[ns](1), int32(2), int64(12), object(6)\n",
      "memory usage: 6.0+ MB\n",
      "None\n",
      "\n",
      "---------------------------------------------------------------------------\n",
      "\n"
     ]
    },
    {
     "data": {
      "text/html": [
       "<div>\n",
       "<style scoped>\n",
       "    .dataframe tbody tr th:only-of-type {\n",
       "        vertical-align: middle;\n",
       "    }\n",
       "\n",
       "    .dataframe tbody tr th {\n",
       "        vertical-align: top;\n",
       "    }\n",
       "\n",
       "    .dataframe thead th {\n",
       "        text-align: right;\n",
       "    }\n",
       "</style>\n",
       "<table border=\"1\" class=\"dataframe\">\n",
       "  <thead>\n",
       "    <tr style=\"text-align: right;\">\n",
       "      <th></th>\n",
       "      <th>last contact date</th>\n",
       "      <th>age</th>\n",
       "      <th>default</th>\n",
       "      <th>balance</th>\n",
       "      <th>housing</th>\n",
       "      <th>loan</th>\n",
       "      <th>contact</th>\n",
       "      <th>duration</th>\n",
       "      <th>campaign</th>\n",
       "      <th>pdays</th>\n",
       "      <th>previous</th>\n",
       "      <th>day</th>\n",
       "      <th>month</th>\n",
       "      <th>isSunday</th>\n",
       "      <th>previously_contacted</th>\n",
       "    </tr>\n",
       "  </thead>\n",
       "  <tbody>\n",
       "    <tr>\n",
       "      <th>count</th>\n",
       "      <td>39211</td>\n",
       "      <td>39211.000000</td>\n",
       "      <td>39211.000000</td>\n",
       "      <td>39211.000000</td>\n",
       "      <td>39211.000000</td>\n",
       "      <td>39211.000000</td>\n",
       "      <td>39211.000000</td>\n",
       "      <td>39211.000000</td>\n",
       "      <td>39211.000000</td>\n",
       "      <td>39211.000000</td>\n",
       "      <td>39211.000000</td>\n",
       "      <td>39211.000000</td>\n",
       "      <td>39211.000000</td>\n",
       "      <td>39211.000000</td>\n",
       "      <td>39211.000000</td>\n",
       "    </tr>\n",
       "    <tr>\n",
       "      <th>mean</th>\n",
       "      <td>2009-06-22 21:10:55.254902784</td>\n",
       "      <td>42.120247</td>\n",
       "      <td>0.057560</td>\n",
       "      <td>5441.781719</td>\n",
       "      <td>0.552320</td>\n",
       "      <td>0.188493</td>\n",
       "      <td>0.901941</td>\n",
       "      <td>439.062789</td>\n",
       "      <td>5.108770</td>\n",
       "      <td>72.256051</td>\n",
       "      <td>11.826171</td>\n",
       "      <td>2.822575</td>\n",
       "      <td>6.223993</td>\n",
       "      <td>0.157711</td>\n",
       "      <td>0.249037</td>\n",
       "    </tr>\n",
       "    <tr>\n",
       "      <th>min</th>\n",
       "      <td>2008-01-01 00:00:00</td>\n",
       "      <td>18.000000</td>\n",
       "      <td>0.000000</td>\n",
       "      <td>-8019.000000</td>\n",
       "      <td>0.000000</td>\n",
       "      <td>0.000000</td>\n",
       "      <td>0.000000</td>\n",
       "      <td>0.000000</td>\n",
       "      <td>1.000000</td>\n",
       "      <td>-1.000000</td>\n",
       "      <td>0.000000</td>\n",
       "      <td>0.000000</td>\n",
       "      <td>1.000000</td>\n",
       "      <td>0.000000</td>\n",
       "      <td>0.000000</td>\n",
       "    </tr>\n",
       "    <tr>\n",
       "      <th>25%</th>\n",
       "      <td>2008-08-11 00:00:00</td>\n",
       "      <td>33.000000</td>\n",
       "      <td>0.000000</td>\n",
       "      <td>98.000000</td>\n",
       "      <td>0.000000</td>\n",
       "      <td>0.000000</td>\n",
       "      <td>1.000000</td>\n",
       "      <td>109.000000</td>\n",
       "      <td>1.000000</td>\n",
       "      <td>-1.000000</td>\n",
       "      <td>0.000000</td>\n",
       "      <td>1.000000</td>\n",
       "      <td>5.000000</td>\n",
       "      <td>0.000000</td>\n",
       "      <td>0.000000</td>\n",
       "    </tr>\n",
       "    <tr>\n",
       "      <th>50%</th>\n",
       "      <td>2009-06-05 00:00:00</td>\n",
       "      <td>40.000000</td>\n",
       "      <td>0.000000</td>\n",
       "      <td>549.000000</td>\n",
       "      <td>1.000000</td>\n",
       "      <td>0.000000</td>\n",
       "      <td>1.000000</td>\n",
       "      <td>197.000000</td>\n",
       "      <td>2.000000</td>\n",
       "      <td>-1.000000</td>\n",
       "      <td>0.000000</td>\n",
       "      <td>3.000000</td>\n",
       "      <td>6.000000</td>\n",
       "      <td>0.000000</td>\n",
       "      <td>0.000000</td>\n",
       "    </tr>\n",
       "    <tr>\n",
       "      <th>75%</th>\n",
       "      <td>2010-05-08 00:00:00</td>\n",
       "      <td>50.000000</td>\n",
       "      <td>0.000000</td>\n",
       "      <td>2030.000000</td>\n",
       "      <td>1.000000</td>\n",
       "      <td>0.000000</td>\n",
       "      <td>1.000000</td>\n",
       "      <td>380.000000</td>\n",
       "      <td>4.000000</td>\n",
       "      <td>-1.000000</td>\n",
       "      <td>0.000000</td>\n",
       "      <td>4.000000</td>\n",
       "      <td>8.000000</td>\n",
       "      <td>0.000000</td>\n",
       "      <td>0.000000</td>\n",
       "    </tr>\n",
       "    <tr>\n",
       "      <th>max</th>\n",
       "      <td>2010-12-30 00:00:00</td>\n",
       "      <td>95.000000</td>\n",
       "      <td>1.000000</td>\n",
       "      <td>102127.000000</td>\n",
       "      <td>1.000000</td>\n",
       "      <td>1.000000</td>\n",
       "      <td>1.000000</td>\n",
       "      <td>4918.000000</td>\n",
       "      <td>63.000000</td>\n",
       "      <td>871.000000</td>\n",
       "      <td>275.000000</td>\n",
       "      <td>6.000000</td>\n",
       "      <td>12.000000</td>\n",
       "      <td>1.000000</td>\n",
       "      <td>1.000000</td>\n",
       "    </tr>\n",
       "    <tr>\n",
       "      <th>std</th>\n",
       "      <td>NaN</td>\n",
       "      <td>12.709352</td>\n",
       "      <td>0.232913</td>\n",
       "      <td>16365.292065</td>\n",
       "      <td>0.497261</td>\n",
       "      <td>0.391110</td>\n",
       "      <td>0.297398</td>\n",
       "      <td>769.096291</td>\n",
       "      <td>9.890153</td>\n",
       "      <td>160.942593</td>\n",
       "      <td>44.140259</td>\n",
       "      <td>1.741966</td>\n",
       "      <td>2.614273</td>\n",
       "      <td>0.364474</td>\n",
       "      <td>0.432461</td>\n",
       "    </tr>\n",
       "  </tbody>\n",
       "</table>\n",
       "</div>"
      ],
      "text/plain": [
       "                   last contact date           age       default  \\\n",
       "count                          39211  39211.000000  39211.000000   \n",
       "mean   2009-06-22 21:10:55.254902784     42.120247      0.057560   \n",
       "min              2008-01-01 00:00:00     18.000000      0.000000   \n",
       "25%              2008-08-11 00:00:00     33.000000      0.000000   \n",
       "50%              2009-06-05 00:00:00     40.000000      0.000000   \n",
       "75%              2010-05-08 00:00:00     50.000000      0.000000   \n",
       "max              2010-12-30 00:00:00     95.000000      1.000000   \n",
       "std                              NaN     12.709352      0.232913   \n",
       "\n",
       "             balance       housing          loan       contact      duration  \\\n",
       "count   39211.000000  39211.000000  39211.000000  39211.000000  39211.000000   \n",
       "mean     5441.781719      0.552320      0.188493      0.901941    439.062789   \n",
       "min     -8019.000000      0.000000      0.000000      0.000000      0.000000   \n",
       "25%        98.000000      0.000000      0.000000      1.000000    109.000000   \n",
       "50%       549.000000      1.000000      0.000000      1.000000    197.000000   \n",
       "75%      2030.000000      1.000000      0.000000      1.000000    380.000000   \n",
       "max    102127.000000      1.000000      1.000000      1.000000   4918.000000   \n",
       "std     16365.292065      0.497261      0.391110      0.297398    769.096291   \n",
       "\n",
       "           campaign         pdays      previous           day         month  \\\n",
       "count  39211.000000  39211.000000  39211.000000  39211.000000  39211.000000   \n",
       "mean       5.108770     72.256051     11.826171      2.822575      6.223993   \n",
       "min        1.000000     -1.000000      0.000000      0.000000      1.000000   \n",
       "25%        1.000000     -1.000000      0.000000      1.000000      5.000000   \n",
       "50%        2.000000     -1.000000      0.000000      3.000000      6.000000   \n",
       "75%        4.000000     -1.000000      0.000000      4.000000      8.000000   \n",
       "max       63.000000    871.000000    275.000000      6.000000     12.000000   \n",
       "std        9.890153    160.942593     44.140259      1.741966      2.614273   \n",
       "\n",
       "           isSunday  previously_contacted  \n",
       "count  39211.000000          39211.000000  \n",
       "mean       0.157711              0.249037  \n",
       "min        0.000000              0.000000  \n",
       "25%        0.000000              0.000000  \n",
       "50%        0.000000              0.000000  \n",
       "75%        0.000000              0.000000  \n",
       "max        1.000000              1.000000  \n",
       "std        0.364474              0.432461  "
      ]
     },
     "execution_count": 25,
     "metadata": {},
     "output_type": "execute_result"
    }
   ],
   "source": [
    "print('Shape:', train.shape)\n",
    "print('')\n",
    "print('---------------------------------------------------------------------------')\n",
    "print('')\n",
    "print(train.info())\n",
    "print('')\n",
    "print('---------------------------------------------------------------------------')\n",
    "print('')\n",
    "train.describe()"
   ]
  },
  {
   "cell_type": "markdown",
   "id": "f4e990fe",
   "metadata": {
    "papermill": {
     "duration": 0.034609,
     "end_time": "2024-10-14T17:30:39.998751",
     "exception": false,
     "start_time": "2024-10-14T17:30:39.964142",
     "status": "completed"
    },
    "tags": []
   },
   "source": [
    "# Column Transformer"
   ]
  },
  {
   "cell_type": "code",
   "execution_count": 26,
   "id": "6571e83b",
   "metadata": {
    "execution": {
     "iopub.execute_input": "2024-10-14T17:30:40.068777Z",
     "iopub.status.busy": "2024-10-14T17:30:40.067736Z",
     "iopub.status.idle": "2024-10-14T17:30:40.122930Z",
     "shell.execute_reply": "2024-10-14T17:30:40.121168Z"
    },
    "papermill": {
     "duration": 0.091058,
     "end_time": "2024-10-14T17:30:40.126396",
     "exception": false,
     "start_time": "2024-10-14T17:30:40.035338",
     "status": "completed"
    },
    "tags": []
   },
   "outputs": [
    {
     "name": "stdout",
     "output_type": "stream",
     "text": [
      "<class 'pandas.core.frame.DataFrame'>\n",
      "RangeIndex: 39211 entries, 0 to 39210\n",
      "Data columns (total 21 columns):\n",
      " #   Column                Non-Null Count  Dtype         \n",
      "---  ------                --------------  -----         \n",
      " 0   last contact date     39211 non-null  datetime64[ns]\n",
      " 1   age                   39211 non-null  int64         \n",
      " 2   job                   39211 non-null  object        \n",
      " 3   marital               39211 non-null  object        \n",
      " 4   education             39211 non-null  object        \n",
      " 5   default               39211 non-null  int64         \n",
      " 6   balance               39211 non-null  int64         \n",
      " 7   housing               39211 non-null  int64         \n",
      " 8   loan                  39211 non-null  int64         \n",
      " 9   contact               39211 non-null  int64         \n",
      " 10  duration              39211 non-null  int64         \n",
      " 11  campaign              39211 non-null  int64         \n",
      " 12  pdays                 39211 non-null  int64         \n",
      " 13  previous              39211 non-null  int64         \n",
      " 14  poutcome              39211 non-null  object        \n",
      " 15  target                39211 non-null  object        \n",
      " 16  day                   39211 non-null  int32         \n",
      " 17  month                 39211 non-null  int32         \n",
      " 18  isSunday              39211 non-null  int64         \n",
      " 19  Age_Category          39211 non-null  object        \n",
      " 20  previously_contacted  39211 non-null  int64         \n",
      "dtypes: datetime64[ns](1), int32(2), int64(12), object(6)\n",
      "memory usage: 6.0+ MB\n"
     ]
    }
   ],
   "source": [
    "train.info()"
   ]
  },
  {
   "cell_type": "code",
   "execution_count": 27,
   "id": "910b7f99",
   "metadata": {
    "execution": {
     "iopub.execute_input": "2024-10-14T17:30:40.195807Z",
     "iopub.status.busy": "2024-10-14T17:30:40.195031Z",
     "iopub.status.idle": "2024-10-14T17:30:40.214053Z",
     "shell.execute_reply": "2024-10-14T17:30:40.212694Z"
    },
    "papermill": {
     "duration": 0.059796,
     "end_time": "2024-10-14T17:30:40.217644",
     "exception": false,
     "start_time": "2024-10-14T17:30:40.157848",
     "status": "completed"
    },
    "tags": []
   },
   "outputs": [],
   "source": [
    "from sklearn.compose import ColumnTransformer\n",
    "from sklearn.preprocessing import StandardScaler , OneHotEncoder  , LabelEncoder, RobustScaler , OrdinalEncoder\n",
    "# 'day','month',,'Age_Category','',balance,duration\n",
    "\n",
    "col_transformer=ColumnTransformer(transformers=[\n",
    "    \n",
    "    ('numerical_cols' , RobustScaler(),['age','previous','campaign','balance','duration','pdays']), \n",
    "    ('categorical_cols' , OneHotEncoder(handle_unknown='ignore',sparse_output=False),['job','marital','poutcome','education','day','month','Age_Category']),\n",
    "#     ('label_cols', OrdinalEncoder(),['education' , 'Age_Category'])\n",
    "])\n",
    "\n"
   ]
  },
  {
   "cell_type": "code",
   "execution_count": 28,
   "id": "38df7e44",
   "metadata": {
    "execution": {
     "iopub.execute_input": "2024-10-14T17:30:40.284720Z",
     "iopub.status.busy": "2024-10-14T17:30:40.283792Z",
     "iopub.status.idle": "2024-10-14T17:30:40.366455Z",
     "shell.execute_reply": "2024-10-14T17:30:40.365039Z"
    },
    "papermill": {
     "duration": 0.119686,
     "end_time": "2024-10-14T17:30:40.370441",
     "exception": false,
     "start_time": "2024-10-14T17:30:40.250755",
     "status": "completed"
    },
    "tags": []
   },
   "outputs": [
    {
     "data": {
      "text/html": [
       "<div>\n",
       "<style scoped>\n",
       "    .dataframe tbody tr th:only-of-type {\n",
       "        vertical-align: middle;\n",
       "    }\n",
       "\n",
       "    .dataframe tbody tr th {\n",
       "        vertical-align: top;\n",
       "    }\n",
       "\n",
       "    .dataframe thead th {\n",
       "        text-align: right;\n",
       "    }\n",
       "</style>\n",
       "<table border=\"1\" class=\"dataframe\">\n",
       "  <thead>\n",
       "    <tr style=\"text-align: right;\">\n",
       "      <th></th>\n",
       "      <th>last contact date</th>\n",
       "      <th>age</th>\n",
       "      <th>job</th>\n",
       "      <th>marital</th>\n",
       "      <th>education</th>\n",
       "      <th>default</th>\n",
       "      <th>balance</th>\n",
       "      <th>housing</th>\n",
       "      <th>loan</th>\n",
       "      <th>contact</th>\n",
       "      <th>...</th>\n",
       "      <th>campaign</th>\n",
       "      <th>pdays</th>\n",
       "      <th>previous</th>\n",
       "      <th>poutcome</th>\n",
       "      <th>target</th>\n",
       "      <th>day</th>\n",
       "      <th>month</th>\n",
       "      <th>isSunday</th>\n",
       "      <th>Age_Category</th>\n",
       "      <th>previously_contacted</th>\n",
       "    </tr>\n",
       "  </thead>\n",
       "  <tbody>\n",
       "    <tr>\n",
       "      <th>0</th>\n",
       "      <td>2009-04-17</td>\n",
       "      <td>26</td>\n",
       "      <td>blue-collar</td>\n",
       "      <td>married</td>\n",
       "      <td>secondary</td>\n",
       "      <td>0</td>\n",
       "      <td>647</td>\n",
       "      <td>1</td>\n",
       "      <td>0</td>\n",
       "      <td>1</td>\n",
       "      <td>...</td>\n",
       "      <td>2</td>\n",
       "      <td>331</td>\n",
       "      <td>1</td>\n",
       "      <td>other</td>\n",
       "      <td>no</td>\n",
       "      <td>4</td>\n",
       "      <td>4</td>\n",
       "      <td>0</td>\n",
       "      <td>young</td>\n",
       "      <td>1</td>\n",
       "    </tr>\n",
       "    <tr>\n",
       "      <th>1</th>\n",
       "      <td>2009-10-11</td>\n",
       "      <td>52</td>\n",
       "      <td>technician</td>\n",
       "      <td>married</td>\n",
       "      <td>secondary</td>\n",
       "      <td>0</td>\n",
       "      <td>553</td>\n",
       "      <td>1</td>\n",
       "      <td>0</td>\n",
       "      <td>0</td>\n",
       "      <td>...</td>\n",
       "      <td>1</td>\n",
       "      <td>-1</td>\n",
       "      <td>0</td>\n",
       "      <td>failure</td>\n",
       "      <td>no</td>\n",
       "      <td>6</td>\n",
       "      <td>10</td>\n",
       "      <td>0</td>\n",
       "      <td>middle</td>\n",
       "      <td>0</td>\n",
       "    </tr>\n",
       "    <tr>\n",
       "      <th>2</th>\n",
       "      <td>2010-11-20</td>\n",
       "      <td>44</td>\n",
       "      <td>blue-collar</td>\n",
       "      <td>married</td>\n",
       "      <td>secondary</td>\n",
       "      <td>0</td>\n",
       "      <td>1397</td>\n",
       "      <td>0</td>\n",
       "      <td>0</td>\n",
       "      <td>1</td>\n",
       "      <td>...</td>\n",
       "      <td>1</td>\n",
       "      <td>-1</td>\n",
       "      <td>0</td>\n",
       "      <td>failure</td>\n",
       "      <td>no</td>\n",
       "      <td>5</td>\n",
       "      <td>11</td>\n",
       "      <td>0</td>\n",
       "      <td>middle</td>\n",
       "      <td>0</td>\n",
       "    </tr>\n",
       "    <tr>\n",
       "      <th>3</th>\n",
       "      <td>2009-09-01</td>\n",
       "      <td>33</td>\n",
       "      <td>admin.</td>\n",
       "      <td>married</td>\n",
       "      <td>secondary</td>\n",
       "      <td>0</td>\n",
       "      <td>394</td>\n",
       "      <td>1</td>\n",
       "      <td>0</td>\n",
       "      <td>0</td>\n",
       "      <td>...</td>\n",
       "      <td>3</td>\n",
       "      <td>-1</td>\n",
       "      <td>0</td>\n",
       "      <td>failure</td>\n",
       "      <td>no</td>\n",
       "      <td>1</td>\n",
       "      <td>9</td>\n",
       "      <td>1</td>\n",
       "      <td>young</td>\n",
       "      <td>0</td>\n",
       "    </tr>\n",
       "    <tr>\n",
       "      <th>4</th>\n",
       "      <td>2008-01-29</td>\n",
       "      <td>31</td>\n",
       "      <td>entrepreneur</td>\n",
       "      <td>single</td>\n",
       "      <td>tertiary</td>\n",
       "      <td>0</td>\n",
       "      <td>137</td>\n",
       "      <td>0</td>\n",
       "      <td>0</td>\n",
       "      <td>1</td>\n",
       "      <td>...</td>\n",
       "      <td>2</td>\n",
       "      <td>-1</td>\n",
       "      <td>0</td>\n",
       "      <td>failure</td>\n",
       "      <td>no</td>\n",
       "      <td>1</td>\n",
       "      <td>1</td>\n",
       "      <td>1</td>\n",
       "      <td>young</td>\n",
       "      <td>0</td>\n",
       "    </tr>\n",
       "    <tr>\n",
       "      <th>...</th>\n",
       "      <td>...</td>\n",
       "      <td>...</td>\n",
       "      <td>...</td>\n",
       "      <td>...</td>\n",
       "      <td>...</td>\n",
       "      <td>...</td>\n",
       "      <td>...</td>\n",
       "      <td>...</td>\n",
       "      <td>...</td>\n",
       "      <td>...</td>\n",
       "      <td>...</td>\n",
       "      <td>...</td>\n",
       "      <td>...</td>\n",
       "      <td>...</td>\n",
       "      <td>...</td>\n",
       "      <td>...</td>\n",
       "      <td>...</td>\n",
       "      <td>...</td>\n",
       "      <td>...</td>\n",
       "      <td>...</td>\n",
       "      <td>...</td>\n",
       "    </tr>\n",
       "    <tr>\n",
       "      <th>39206</th>\n",
       "      <td>2008-07-31</td>\n",
       "      <td>31</td>\n",
       "      <td>technician</td>\n",
       "      <td>single</td>\n",
       "      <td>secondary</td>\n",
       "      <td>0</td>\n",
       "      <td>0</td>\n",
       "      <td>1</td>\n",
       "      <td>0</td>\n",
       "      <td>1</td>\n",
       "      <td>...</td>\n",
       "      <td>34</td>\n",
       "      <td>-1</td>\n",
       "      <td>0</td>\n",
       "      <td>failure</td>\n",
       "      <td>no</td>\n",
       "      <td>3</td>\n",
       "      <td>7</td>\n",
       "      <td>0</td>\n",
       "      <td>young</td>\n",
       "      <td>0</td>\n",
       "    </tr>\n",
       "    <tr>\n",
       "      <th>39207</th>\n",
       "      <td>2009-07-31</td>\n",
       "      <td>59</td>\n",
       "      <td>admin.</td>\n",
       "      <td>married</td>\n",
       "      <td>primary</td>\n",
       "      <td>0</td>\n",
       "      <td>6187</td>\n",
       "      <td>0</td>\n",
       "      <td>0</td>\n",
       "      <td>1</td>\n",
       "      <td>...</td>\n",
       "      <td>4</td>\n",
       "      <td>-1</td>\n",
       "      <td>0</td>\n",
       "      <td>failure</td>\n",
       "      <td>no</td>\n",
       "      <td>4</td>\n",
       "      <td>7</td>\n",
       "      <td>0</td>\n",
       "      <td>middle</td>\n",
       "      <td>0</td>\n",
       "    </tr>\n",
       "    <tr>\n",
       "      <th>39208</th>\n",
       "      <td>2008-06-02</td>\n",
       "      <td>36</td>\n",
       "      <td>blue-collar</td>\n",
       "      <td>married</td>\n",
       "      <td>secondary</td>\n",
       "      <td>0</td>\n",
       "      <td>63</td>\n",
       "      <td>1</td>\n",
       "      <td>0</td>\n",
       "      <td>1</td>\n",
       "      <td>...</td>\n",
       "      <td>8</td>\n",
       "      <td>-1</td>\n",
       "      <td>0</td>\n",
       "      <td>failure</td>\n",
       "      <td>no</td>\n",
       "      <td>0</td>\n",
       "      <td>6</td>\n",
       "      <td>0</td>\n",
       "      <td>young</td>\n",
       "      <td>0</td>\n",
       "    </tr>\n",
       "    <tr>\n",
       "      <th>39209</th>\n",
       "      <td>2010-03-20</td>\n",
       "      <td>28</td>\n",
       "      <td>student</td>\n",
       "      <td>single</td>\n",
       "      <td>secondary</td>\n",
       "      <td>0</td>\n",
       "      <td>5916</td>\n",
       "      <td>0</td>\n",
       "      <td>0</td>\n",
       "      <td>1</td>\n",
       "      <td>...</td>\n",
       "      <td>5</td>\n",
       "      <td>-1</td>\n",
       "      <td>0</td>\n",
       "      <td>failure</td>\n",
       "      <td>no</td>\n",
       "      <td>5</td>\n",
       "      <td>3</td>\n",
       "      <td>0</td>\n",
       "      <td>young</td>\n",
       "      <td>0</td>\n",
       "    </tr>\n",
       "    <tr>\n",
       "      <th>39210</th>\n",
       "      <td>2010-03-16</td>\n",
       "      <td>51</td>\n",
       "      <td>student</td>\n",
       "      <td>divorced</td>\n",
       "      <td>tertiary</td>\n",
       "      <td>1</td>\n",
       "      <td>38594</td>\n",
       "      <td>1</td>\n",
       "      <td>0</td>\n",
       "      <td>1</td>\n",
       "      <td>...</td>\n",
       "      <td>19</td>\n",
       "      <td>780</td>\n",
       "      <td>148</td>\n",
       "      <td>success</td>\n",
       "      <td>yes</td>\n",
       "      <td>1</td>\n",
       "      <td>3</td>\n",
       "      <td>1</td>\n",
       "      <td>middle</td>\n",
       "      <td>1</td>\n",
       "    </tr>\n",
       "  </tbody>\n",
       "</table>\n",
       "<p>39211 rows × 21 columns</p>\n",
       "</div>"
      ],
      "text/plain": [
       "      last contact date  age           job   marital  education  default  \\\n",
       "0            2009-04-17   26   blue-collar   married  secondary        0   \n",
       "1            2009-10-11   52    technician   married  secondary        0   \n",
       "2            2010-11-20   44   blue-collar   married  secondary        0   \n",
       "3            2009-09-01   33        admin.   married  secondary        0   \n",
       "4            2008-01-29   31  entrepreneur    single   tertiary        0   \n",
       "...                 ...  ...           ...       ...        ...      ...   \n",
       "39206        2008-07-31   31    technician    single  secondary        0   \n",
       "39207        2009-07-31   59        admin.   married    primary        0   \n",
       "39208        2008-06-02   36   blue-collar   married  secondary        0   \n",
       "39209        2010-03-20   28       student    single  secondary        0   \n",
       "39210        2010-03-16   51       student  divorced   tertiary        1   \n",
       "\n",
       "       balance  housing  loan  contact  ...  campaign  pdays  previous  \\\n",
       "0          647        1     0        1  ...         2    331         1   \n",
       "1          553        1     0        0  ...         1     -1         0   \n",
       "2         1397        0     0        1  ...         1     -1         0   \n",
       "3          394        1     0        0  ...         3     -1         0   \n",
       "4          137        0     0        1  ...         2     -1         0   \n",
       "...        ...      ...   ...      ...  ...       ...    ...       ...   \n",
       "39206        0        1     0        1  ...        34     -1         0   \n",
       "39207     6187        0     0        1  ...         4     -1         0   \n",
       "39208       63        1     0        1  ...         8     -1         0   \n",
       "39209     5916        0     0        1  ...         5     -1         0   \n",
       "39210    38594        1     0        1  ...        19    780       148   \n",
       "\n",
       "       poutcome target day  month  isSunday  Age_Category previously_contacted  \n",
       "0         other     no   4      4         0         young                    1  \n",
       "1       failure     no   6     10         0        middle                    0  \n",
       "2       failure     no   5     11         0        middle                    0  \n",
       "3       failure     no   1      9         1         young                    0  \n",
       "4       failure     no   1      1         1         young                    0  \n",
       "...         ...    ...  ..    ...       ...           ...                  ...  \n",
       "39206   failure     no   3      7         0         young                    0  \n",
       "39207   failure     no   4      7         0        middle                    0  \n",
       "39208   failure     no   0      6         0         young                    0  \n",
       "39209   failure     no   5      3         0         young                    0  \n",
       "39210   success    yes   1      3         1        middle                    1  \n",
       "\n",
       "[39211 rows x 21 columns]"
      ]
     },
     "execution_count": 28,
     "metadata": {},
     "output_type": "execute_result"
    }
   ],
   "source": [
    "train"
   ]
  },
  {
   "cell_type": "code",
   "execution_count": 29,
   "id": "960d33d6",
   "metadata": {
    "execution": {
     "iopub.execute_input": "2024-10-14T17:30:40.441491Z",
     "iopub.status.busy": "2024-10-14T17:30:40.441030Z",
     "iopub.status.idle": "2024-10-14T17:30:40.448863Z",
     "shell.execute_reply": "2024-10-14T17:30:40.447233Z"
    },
    "papermill": {
     "duration": 0.044322,
     "end_time": "2024-10-14T17:30:40.451612",
     "exception": false,
     "start_time": "2024-10-14T17:30:40.407290",
     "status": "completed"
    },
    "tags": []
   },
   "outputs": [
    {
     "data": {
      "text/plain": [
       "(39211, 21)"
      ]
     },
     "execution_count": 29,
     "metadata": {},
     "output_type": "execute_result"
    }
   ],
   "source": [
    "train.shape"
   ]
  },
  {
   "cell_type": "code",
   "execution_count": 30,
   "id": "49465100",
   "metadata": {
    "execution": {
     "iopub.execute_input": "2024-10-14T17:30:40.515568Z",
     "iopub.status.busy": "2024-10-14T17:30:40.514446Z",
     "iopub.status.idle": "2024-10-14T17:30:40.520289Z",
     "shell.execute_reply": "2024-10-14T17:30:40.518994Z"
    },
    "papermill": {
     "duration": 0.040295,
     "end_time": "2024-10-14T17:30:40.522926",
     "exception": false,
     "start_time": "2024-10-14T17:30:40.482631",
     "status": "completed"
    },
    "tags": []
   },
   "outputs": [],
   "source": [
    "\n",
    "# train_yes=train[train['target']=='no'].sample(25000 , random_state=42)\n",
    "# train_no=train[train['target']=='yes']\n",
    "\n",
    "# train= pd.concat([train_yes, train_no])\n"
   ]
  },
  {
   "cell_type": "code",
   "execution_count": 31,
   "id": "5cf43735",
   "metadata": {
    "execution": {
     "iopub.execute_input": "2024-10-14T17:30:40.591952Z",
     "iopub.status.busy": "2024-10-14T17:30:40.591378Z",
     "iopub.status.idle": "2024-10-14T17:30:40.774268Z",
     "shell.execute_reply": "2024-10-14T17:30:40.772758Z"
    },
    "papermill": {
     "duration": 0.222249,
     "end_time": "2024-10-14T17:30:40.777355",
     "exception": false,
     "start_time": "2024-10-14T17:30:40.555106",
     "status": "completed"
    },
    "tags": []
   },
   "outputs": [
    {
     "data": {
      "text/html": [
       "<style type=\"text/css\">\n",
       "#T_ab756_row0_col0, #T_ab756_row1_col1, #T_ab756_row2_col2, #T_ab756_row3_col3, #T_ab756_row4_col4, #T_ab756_row5_col5, #T_ab756_row6_col6, #T_ab756_row7_col7, #T_ab756_row8_col8, #T_ab756_row9_col9, #T_ab756_row10_col10, #T_ab756_row11_col11 {\n",
       "  background-color: #b40426;\n",
       "  color: #f1f1f1;\n",
       "}\n",
       "#T_ab756_row0_col1, #T_ab756_row4_col1, #T_ab756_row11_col0 {\n",
       "  background-color: #a6c4fe;\n",
       "  color: #000000;\n",
       "}\n",
       "#T_ab756_row0_col2 {\n",
       "  background-color: #d4dbe6;\n",
       "  color: #000000;\n",
       "}\n",
       "#T_ab756_row0_col3, #T_ab756_row2_col5, #T_ab756_row5_col0, #T_ab756_row5_col1, #T_ab756_row5_col2, #T_ab756_row5_col4, #T_ab756_row5_col6, #T_ab756_row5_col7, #T_ab756_row5_col8, #T_ab756_row5_col9, #T_ab756_row5_col11, #T_ab756_row7_col10, #T_ab756_row9_col5 {\n",
       "  background-color: #3b4cc0;\n",
       "  color: #f1f1f1;\n",
       "}\n",
       "#T_ab756_row0_col4 {\n",
       "  background-color: #6485ec;\n",
       "  color: #f1f1f1;\n",
       "}\n",
       "#T_ab756_row0_col5 {\n",
       "  background-color: #516ddb;\n",
       "  color: #f1f1f1;\n",
       "}\n",
       "#T_ab756_row0_col6 {\n",
       "  background-color: #c7d7f0;\n",
       "  color: #000000;\n",
       "}\n",
       "#T_ab756_row0_col7 {\n",
       "  background-color: #cedaeb;\n",
       "  color: #000000;\n",
       "}\n",
       "#T_ab756_row0_col8 {\n",
       "  background-color: #b5cdfa;\n",
       "  color: #000000;\n",
       "}\n",
       "#T_ab756_row0_col9 {\n",
       "  background-color: #d1dae9;\n",
       "  color: #000000;\n",
       "}\n",
       "#T_ab756_row0_col10, #T_ab756_row5_col10 {\n",
       "  background-color: #3e51c5;\n",
       "  color: #f1f1f1;\n",
       "}\n",
       "#T_ab756_row0_col11 {\n",
       "  background-color: #a2c1ff;\n",
       "  color: #000000;\n",
       "}\n",
       "#T_ab756_row1_col0, #T_ab756_row4_col8 {\n",
       "  background-color: #aac7fd;\n",
       "  color: #000000;\n",
       "}\n",
       "#T_ab756_row1_col2, #T_ab756_row1_col7 {\n",
       "  background-color: #f2cab5;\n",
       "  color: #000000;\n",
       "}\n",
       "#T_ab756_row1_col3 {\n",
       "  background-color: #5e7de7;\n",
       "  color: #f1f1f1;\n",
       "}\n",
       "#T_ab756_row1_col4, #T_ab756_row3_col8, #T_ab756_row10_col5 {\n",
       "  background-color: #8badfd;\n",
       "  color: #000000;\n",
       "}\n",
       "#T_ab756_row1_col5, #T_ab756_row11_col5 {\n",
       "  background-color: #5572df;\n",
       "  color: #f1f1f1;\n",
       "}\n",
       "#T_ab756_row1_col6, #T_ab756_row9_col1 {\n",
       "  background-color: #efcfbf;\n",
       "  color: #000000;\n",
       "}\n",
       "#T_ab756_row1_col8 {\n",
       "  background-color: #dedcdb;\n",
       "  color: #000000;\n",
       "}\n",
       "#T_ab756_row1_col9, #T_ab756_row7_col8 {\n",
       "  background-color: #f4c6af;\n",
       "  color: #000000;\n",
       "}\n",
       "#T_ab756_row1_col10, #T_ab756_row2_col10, #T_ab756_row7_col5 {\n",
       "  background-color: #3c4ec2;\n",
       "  color: #f1f1f1;\n",
       "}\n",
       "#T_ab756_row1_col11, #T_ab756_row7_col0, #T_ab756_row11_col1 {\n",
       "  background-color: #c1d4f4;\n",
       "  color: #000000;\n",
       "}\n",
       "#T_ab756_row2_col0 {\n",
       "  background-color: #c6d6f1;\n",
       "  color: #000000;\n",
       "}\n",
       "#T_ab756_row2_col1, #T_ab756_row7_col1 {\n",
       "  background-color: #ecd3c5;\n",
       "  color: #000000;\n",
       "}\n",
       "#T_ab756_row2_col3 {\n",
       "  background-color: #5875e1;\n",
       "  color: #f1f1f1;\n",
       "}\n",
       "#T_ab756_row2_col4, #T_ab756_row4_col11, #T_ab756_row7_col4 {\n",
       "  background-color: #8fb1fe;\n",
       "  color: #000000;\n",
       "}\n",
       "#T_ab756_row2_col6 {\n",
       "  background-color: #f59c7d;\n",
       "  color: #000000;\n",
       "}\n",
       "#T_ab756_row2_col7, #T_ab756_row6_col2 {\n",
       "  background-color: #f4987a;\n",
       "  color: #000000;\n",
       "}\n",
       "#T_ab756_row2_col8 {\n",
       "  background-color: #f7bca1;\n",
       "  color: #000000;\n",
       "}\n",
       "#T_ab756_row2_col9, #T_ab756_row9_col2 {\n",
       "  background-color: #f08a6c;\n",
       "  color: #f1f1f1;\n",
       "}\n",
       "#T_ab756_row2_col11 {\n",
       "  background-color: #e6d7cf;\n",
       "  color: #000000;\n",
       "}\n",
       "#T_ab756_row3_col0 {\n",
       "  background-color: #4c66d6;\n",
       "  color: #f1f1f1;\n",
       "}\n",
       "#T_ab756_row3_col1, #T_ab756_row4_col3 {\n",
       "  background-color: #6c8ff1;\n",
       "  color: #f1f1f1;\n",
       "}\n",
       "#T_ab756_row3_col2, #T_ab756_row3_col7 {\n",
       "  background-color: #80a3fa;\n",
       "  color: #f1f1f1;\n",
       "}\n",
       "#T_ab756_row3_col4, #T_ab756_row7_col3 {\n",
       "  background-color: #5977e3;\n",
       "  color: #f1f1f1;\n",
       "}\n",
       "#T_ab756_row3_col5 {\n",
       "  background-color: #9fbfff;\n",
       "  color: #000000;\n",
       "}\n",
       "#T_ab756_row3_col6, #T_ab756_row3_col11 {\n",
       "  background-color: #7da0f9;\n",
       "  color: #f1f1f1;\n",
       "}\n",
       "#T_ab756_row3_col9 {\n",
       "  background-color: #84a7fc;\n",
       "  color: #f1f1f1;\n",
       "}\n",
       "#T_ab756_row3_col10, #T_ab756_row6_col5 {\n",
       "  background-color: #4257c9;\n",
       "  color: #f1f1f1;\n",
       "}\n",
       "#T_ab756_row4_col0, #T_ab756_row10_col9 {\n",
       "  background-color: #89acfd;\n",
       "  color: #000000;\n",
       "}\n",
       "#T_ab756_row4_col2, #T_ab756_row6_col0 {\n",
       "  background-color: #bed2f6;\n",
       "  color: #000000;\n",
       "}\n",
       "#T_ab756_row4_col5 {\n",
       "  background-color: #7699f6;\n",
       "  color: #f1f1f1;\n",
       "}\n",
       "#T_ab756_row4_col6 {\n",
       "  background-color: #b6cefa;\n",
       "  color: #000000;\n",
       "}\n",
       "#T_ab756_row4_col7 {\n",
       "  background-color: #bcd2f7;\n",
       "  color: #000000;\n",
       "}\n",
       "#T_ab756_row4_col9 {\n",
       "  background-color: #c0d4f5;\n",
       "  color: #000000;\n",
       "}\n",
       "#T_ab756_row4_col10 {\n",
       "  background-color: #4055c8;\n",
       "  color: #f1f1f1;\n",
       "}\n",
       "#T_ab756_row5_col3, #T_ab756_row10_col11 {\n",
       "  background-color: #7a9df8;\n",
       "  color: #f1f1f1;\n",
       "}\n",
       "#T_ab756_row6_col1 {\n",
       "  background-color: #ead5c9;\n",
       "  color: #000000;\n",
       "}\n",
       "#T_ab756_row6_col3, #T_ab756_row9_col3 {\n",
       "  background-color: #5d7ce6;\n",
       "  color: #f1f1f1;\n",
       "}\n",
       "#T_ab756_row6_col4 {\n",
       "  background-color: #8caffe;\n",
       "  color: #000000;\n",
       "}\n",
       "#T_ab756_row6_col7 {\n",
       "  background-color: #f6a586;\n",
       "  color: #000000;\n",
       "}\n",
       "#T_ab756_row6_col8 {\n",
       "  background-color: #f5c4ac;\n",
       "  color: #000000;\n",
       "}\n",
       "#T_ab756_row6_col9, #T_ab756_row9_col7 {\n",
       "  background-color: #f39475;\n",
       "  color: #000000;\n",
       "}\n",
       "#T_ab756_row6_col10, #T_ab756_row9_col10 {\n",
       "  background-color: #3d50c3;\n",
       "  color: #f1f1f1;\n",
       "}\n",
       "#T_ab756_row6_col11 {\n",
       "  background-color: #e0dbd8;\n",
       "  color: #000000;\n",
       "}\n",
       "#T_ab756_row7_col2, #T_ab756_row9_col6 {\n",
       "  background-color: #f39778;\n",
       "  color: #000000;\n",
       "}\n",
       "#T_ab756_row7_col6 {\n",
       "  background-color: #f7a688;\n",
       "  color: #000000;\n",
       "}\n",
       "#T_ab756_row7_col9 {\n",
       "  background-color: #f29274;\n",
       "  color: #f1f1f1;\n",
       "}\n",
       "#T_ab756_row7_col11 {\n",
       "  background-color: #dadce0;\n",
       "  color: #000000;\n",
       "}\n",
       "#T_ab756_row8_col0 {\n",
       "  background-color: #afcafc;\n",
       "  color: #000000;\n",
       "}\n",
       "#T_ab756_row8_col1 {\n",
       "  background-color: #d9dce1;\n",
       "  color: #000000;\n",
       "}\n",
       "#T_ab756_row8_col2 {\n",
       "  background-color: #f7b79b;\n",
       "  color: #000000;\n",
       "}\n",
       "#T_ab756_row8_col3 {\n",
       "  background-color: #7295f4;\n",
       "  color: #f1f1f1;\n",
       "}\n",
       "#T_ab756_row8_col4, #T_ab756_row10_col6 {\n",
       "  background-color: #82a6fb;\n",
       "  color: #f1f1f1;\n",
       "}\n",
       "#T_ab756_row8_col5 {\n",
       "  background-color: #4961d2;\n",
       "  color: #f1f1f1;\n",
       "}\n",
       "#T_ab756_row8_col6, #T_ab756_row8_col7 {\n",
       "  background-color: #f5c1a9;\n",
       "  color: #000000;\n",
       "}\n",
       "#T_ab756_row8_col9 {\n",
       "  background-color: #f7b093;\n",
       "  color: #000000;\n",
       "}\n",
       "#T_ab756_row8_col10 {\n",
       "  background-color: #4358cb;\n",
       "  color: #f1f1f1;\n",
       "}\n",
       "#T_ab756_row8_col11 {\n",
       "  background-color: #e9785d;\n",
       "  color: #f1f1f1;\n",
       "}\n",
       "#T_ab756_row9_col0 {\n",
       "  background-color: #c4d5f3;\n",
       "  color: #000000;\n",
       "}\n",
       "#T_ab756_row9_col4 {\n",
       "  background-color: #93b5fe;\n",
       "  color: #000000;\n",
       "}\n",
       "#T_ab756_row9_col8 {\n",
       "  background-color: #f7b599;\n",
       "  color: #000000;\n",
       "}\n",
       "#T_ab756_row9_col11 {\n",
       "  background-color: #ebd3c6;\n",
       "  color: #000000;\n",
       "}\n",
       "#T_ab756_row10_col0 {\n",
       "  background-color: #7597f6;\n",
       "  color: #f1f1f1;\n",
       "}\n",
       "#T_ab756_row10_col1, #T_ab756_row11_col3 {\n",
       "  background-color: #6e90f2;\n",
       "  color: #f1f1f1;\n",
       "}\n",
       "#T_ab756_row10_col2 {\n",
       "  background-color: #88abfd;\n",
       "  color: #000000;\n",
       "}\n",
       "#T_ab756_row10_col3 {\n",
       "  background-color: #6687ed;\n",
       "  color: #f1f1f1;\n",
       "}\n",
       "#T_ab756_row10_col4 {\n",
       "  background-color: #536edd;\n",
       "  color: #f1f1f1;\n",
       "}\n",
       "#T_ab756_row10_col7 {\n",
       "  background-color: #85a8fc;\n",
       "  color: #f1f1f1;\n",
       "}\n",
       "#T_ab756_row10_col8 {\n",
       "  background-color: #81a4fb;\n",
       "  color: #f1f1f1;\n",
       "}\n",
       "#T_ab756_row11_col2 {\n",
       "  background-color: #eed0c0;\n",
       "  color: #000000;\n",
       "}\n",
       "#T_ab756_row11_col4 {\n",
       "  background-color: #7093f3;\n",
       "  color: #f1f1f1;\n",
       "}\n",
       "#T_ab756_row11_col6 {\n",
       "  background-color: #e8d6cc;\n",
       "  color: #000000;\n",
       "}\n",
       "#T_ab756_row11_col7 {\n",
       "  background-color: #e5d8d1;\n",
       "  color: #000000;\n",
       "}\n",
       "#T_ab756_row11_col8 {\n",
       "  background-color: #e7745b;\n",
       "  color: #f1f1f1;\n",
       "}\n",
       "#T_ab756_row11_col9 {\n",
       "  background-color: #f1ccb8;\n",
       "  color: #000000;\n",
       "}\n",
       "#T_ab756_row11_col10 {\n",
       "  background-color: #485fd1;\n",
       "  color: #f1f1f1;\n",
       "}\n",
       "</style>\n",
       "<table id=\"T_ab756\">\n",
       "  <thead>\n",
       "    <tr>\n",
       "      <th class=\"blank level0\" >&nbsp;</th>\n",
       "      <th id=\"T_ab756_level0_col0\" class=\"col_heading level0 col0\" >age</th>\n",
       "      <th id=\"T_ab756_level0_col1\" class=\"col_heading level0 col1\" >default</th>\n",
       "      <th id=\"T_ab756_level0_col2\" class=\"col_heading level0 col2\" >balance</th>\n",
       "      <th id=\"T_ab756_level0_col3\" class=\"col_heading level0 col3\" >housing</th>\n",
       "      <th id=\"T_ab756_level0_col4\" class=\"col_heading level0 col4\" >loan</th>\n",
       "      <th id=\"T_ab756_level0_col5\" class=\"col_heading level0 col5\" >contact</th>\n",
       "      <th id=\"T_ab756_level0_col6\" class=\"col_heading level0 col6\" >duration</th>\n",
       "      <th id=\"T_ab756_level0_col7\" class=\"col_heading level0 col7\" >campaign</th>\n",
       "      <th id=\"T_ab756_level0_col8\" class=\"col_heading level0 col8\" >pdays</th>\n",
       "      <th id=\"T_ab756_level0_col9\" class=\"col_heading level0 col9\" >previous</th>\n",
       "      <th id=\"T_ab756_level0_col10\" class=\"col_heading level0 col10\" >isSunday</th>\n",
       "      <th id=\"T_ab756_level0_col11\" class=\"col_heading level0 col11\" >previously_contacted</th>\n",
       "    </tr>\n",
       "  </thead>\n",
       "  <tbody>\n",
       "    <tr>\n",
       "      <th id=\"T_ab756_level0_row0\" class=\"row_heading level0 row0\" >age</th>\n",
       "      <td id=\"T_ab756_row0_col0\" class=\"data row0 col0\" >1.000000</td>\n",
       "      <td id=\"T_ab756_row0_col1\" class=\"data row0 col1\" >0.181131</td>\n",
       "      <td id=\"T_ab756_row0_col2\" class=\"data row0 col2\" >0.289150</td>\n",
       "      <td id=\"T_ab756_row0_col3\" class=\"data row0 col3\" >-0.154241</td>\n",
       "      <td id=\"T_ab756_row0_col4\" class=\"data row0 col4\" >0.064136</td>\n",
       "      <td id=\"T_ab756_row0_col5\" class=\"data row0 col5\" >-0.229445</td>\n",
       "      <td id=\"T_ab756_row0_col6\" class=\"data row0 col6\" >0.255573</td>\n",
       "      <td id=\"T_ab756_row0_col7\" class=\"data row0 col7\" >0.269439</td>\n",
       "      <td id=\"T_ab756_row0_col8\" class=\"data row0 col8\" >0.199507</td>\n",
       "      <td id=\"T_ab756_row0_col9\" class=\"data row0 col9\" >0.277487</td>\n",
       "      <td id=\"T_ab756_row0_col10\" class=\"data row0 col10\" >-0.006852</td>\n",
       "      <td id=\"T_ab756_row0_col11\" class=\"data row0 col11\" >0.166414</td>\n",
       "    </tr>\n",
       "    <tr>\n",
       "      <th id=\"T_ab756_level0_row1\" class=\"row_heading level0 row1\" >default</th>\n",
       "      <td id=\"T_ab756_row1_col0\" class=\"data row1 col0\" >0.181131</td>\n",
       "      <td id=\"T_ab756_row1_col1\" class=\"data row1 col1\" >1.000000</td>\n",
       "      <td id=\"T_ab756_row1_col2\" class=\"data row1 col2\" >0.475008</td>\n",
       "      <td id=\"T_ab756_row1_col3\" class=\"data row1 col3\" >-0.019287</td>\n",
       "      <td id=\"T_ab756_row1_col4\" class=\"data row1 col4\" >0.181860</td>\n",
       "      <td id=\"T_ab756_row1_col5\" class=\"data row1 col5\" >-0.210486</td>\n",
       "      <td id=\"T_ab756_row1_col6\" class=\"data row1 col6\" >0.458076</td>\n",
       "      <td id=\"T_ab756_row1_col7\" class=\"data row1 col7\" >0.473876</td>\n",
       "      <td id=\"T_ab756_row1_col8\" class=\"data row1 col8\" >0.376927</td>\n",
       "      <td id=\"T_ab756_row1_col9\" class=\"data row1 col9\" >0.493975</td>\n",
       "      <td id=\"T_ab756_row1_col10\" class=\"data row1 col10\" >-0.014106</td>\n",
       "      <td id=\"T_ab756_row1_col11\" class=\"data row1 col11\" >0.279765</td>\n",
       "    </tr>\n",
       "    <tr>\n",
       "      <th id=\"T_ab756_level0_row2\" class=\"row_heading level0 row2\" >balance</th>\n",
       "      <td id=\"T_ab756_row2_col0\" class=\"data row2 col0\" >0.289150</td>\n",
       "      <td id=\"T_ab756_row2_col1\" class=\"data row2 col1\" >0.475008</td>\n",
       "      <td id=\"T_ab756_row2_col2\" class=\"data row2 col2\" >1.000000</td>\n",
       "      <td id=\"T_ab756_row2_col3\" class=\"data row2 col3\" >-0.044313</td>\n",
       "      <td id=\"T_ab756_row2_col4\" class=\"data row2 col4\" >0.193390</td>\n",
       "      <td id=\"T_ab756_row2_col5\" class=\"data row2 col5\" >-0.329650</td>\n",
       "      <td id=\"T_ab756_row2_col6\" class=\"data row2 col6\" >0.669737</td>\n",
       "      <td id=\"T_ab756_row2_col7\" class=\"data row2 col7\" >0.674339</td>\n",
       "      <td id=\"T_ab756_row2_col8\" class=\"data row2 col8\" >0.562097</td>\n",
       "      <td id=\"T_ab756_row2_col9\" class=\"data row2 col9\" >0.716816</td>\n",
       "      <td id=\"T_ab756_row2_col10\" class=\"data row2 col10\" >-0.013649</td>\n",
       "      <td id=\"T_ab756_row2_col11\" class=\"data row2 col11\" >0.437320</td>\n",
       "    </tr>\n",
       "    <tr>\n",
       "      <th id=\"T_ab756_level0_row3\" class=\"row_heading level0 row3\" >housing</th>\n",
       "      <td id=\"T_ab756_row3_col0\" class=\"data row3 col0\" >-0.154241</td>\n",
       "      <td id=\"T_ab756_row3_col1\" class=\"data row3 col1\" >-0.019287</td>\n",
       "      <td id=\"T_ab756_row3_col2\" class=\"data row3 col2\" >-0.044313</td>\n",
       "      <td id=\"T_ab756_row3_col3\" class=\"data row3 col3\" >1.000000</td>\n",
       "      <td id=\"T_ab756_row3_col4\" class=\"data row3 col4\" >0.026333</td>\n",
       "      <td id=\"T_ab756_row3_col5\" class=\"data row3 col5\" >0.071685</td>\n",
       "      <td id=\"T_ab756_row3_col6\" class=\"data row3 col6\" >-0.026819</td>\n",
       "      <td id=\"T_ab756_row3_col7\" class=\"data row3 col7\" >-0.038591</td>\n",
       "      <td id=\"T_ab756_row3_col8\" class=\"data row3 col8\" >0.047196</td>\n",
       "      <td id=\"T_ab756_row3_col9\" class=\"data row3 col9\" >-0.027160</td>\n",
       "      <td id=\"T_ab756_row3_col10\" class=\"data row3 col10\" >0.004708</td>\n",
       "      <td id=\"T_ab756_row3_col11\" class=\"data row3 col11\" >0.034108</td>\n",
       "    </tr>\n",
       "    <tr>\n",
       "      <th id=\"T_ab756_level0_row4\" class=\"row_heading level0 row4\" >loan</th>\n",
       "      <td id=\"T_ab756_row4_col0\" class=\"data row4 col0\" >0.064136</td>\n",
       "      <td id=\"T_ab756_row4_col1\" class=\"data row4 col1\" >0.181860</td>\n",
       "      <td id=\"T_ab756_row4_col2\" class=\"data row4 col2\" >0.193390</td>\n",
       "      <td id=\"T_ab756_row4_col3\" class=\"data row4 col3\" >0.026333</td>\n",
       "      <td id=\"T_ab756_row4_col4\" class=\"data row4 col4\" >1.000000</td>\n",
       "      <td id=\"T_ab756_row4_col5\" class=\"data row4 col5\" >-0.082935</td>\n",
       "      <td id=\"T_ab756_row4_col6\" class=\"data row4 col6\" >0.184147</td>\n",
       "      <td id=\"T_ab756_row4_col7\" class=\"data row4 col7\" >0.192926</td>\n",
       "      <td id=\"T_ab756_row4_col8\" class=\"data row4 col8\" >0.155936</td>\n",
       "      <td id=\"T_ab756_row4_col9\" class=\"data row4 col9\" >0.206297</td>\n",
       "      <td id=\"T_ab756_row4_col10\" class=\"data row4 col10\" >0.003285</td>\n",
       "      <td id=\"T_ab756_row4_col11\" class=\"data row4 col11\" >0.100025</td>\n",
       "    </tr>\n",
       "    <tr>\n",
       "      <th id=\"T_ab756_level0_row5\" class=\"row_heading level0 row5\" >contact</th>\n",
       "      <td id=\"T_ab756_row5_col0\" class=\"data row5 col0\" >-0.229445</td>\n",
       "      <td id=\"T_ab756_row5_col1\" class=\"data row5 col1\" >-0.210486</td>\n",
       "      <td id=\"T_ab756_row5_col2\" class=\"data row5 col2\" >-0.329650</td>\n",
       "      <td id=\"T_ab756_row5_col3\" class=\"data row5 col3\" >0.071685</td>\n",
       "      <td id=\"T_ab756_row5_col4\" class=\"data row5 col4\" >-0.082935</td>\n",
       "      <td id=\"T_ab756_row5_col5\" class=\"data row5 col5\" >1.000000</td>\n",
       "      <td id=\"T_ab756_row5_col6\" class=\"data row5 col6\" >-0.294537</td>\n",
       "      <td id=\"T_ab756_row5_col7\" class=\"data row5 col7\" >-0.321816</td>\n",
       "      <td id=\"T_ab756_row5_col8\" class=\"data row5 col8\" >-0.263777</td>\n",
       "      <td id=\"T_ab756_row5_col9\" class=\"data row5 col9\" >-0.327367</td>\n",
       "      <td id=\"T_ab756_row5_col10\" class=\"data row5 col10\" >-0.006494</td>\n",
       "      <td id=\"T_ab756_row5_col11\" class=\"data row5 col11\" >-0.212268</td>\n",
       "    </tr>\n",
       "    <tr>\n",
       "      <th id=\"T_ab756_level0_row6\" class=\"row_heading level0 row6\" >duration</th>\n",
       "      <td id=\"T_ab756_row6_col0\" class=\"data row6 col0\" >0.255573</td>\n",
       "      <td id=\"T_ab756_row6_col1\" class=\"data row6 col1\" >0.458076</td>\n",
       "      <td id=\"T_ab756_row6_col2\" class=\"data row6 col2\" >0.669737</td>\n",
       "      <td id=\"T_ab756_row6_col3\" class=\"data row6 col3\" >-0.026819</td>\n",
       "      <td id=\"T_ab756_row6_col4\" class=\"data row6 col4\" >0.184147</td>\n",
       "      <td id=\"T_ab756_row6_col5\" class=\"data row6 col5\" >-0.294537</td>\n",
       "      <td id=\"T_ab756_row6_col6\" class=\"data row6 col6\" >1.000000</td>\n",
       "      <td id=\"T_ab756_row6_col7\" class=\"data row6 col7\" >0.630944</td>\n",
       "      <td id=\"T_ab756_row6_col8\" class=\"data row6 col8\" >0.527020</td>\n",
       "      <td id=\"T_ab756_row6_col9\" class=\"data row6 col9\" >0.683951</td>\n",
       "      <td id=\"T_ab756_row6_col10\" class=\"data row6 col10\" >-0.007808</td>\n",
       "      <td id=\"T_ab756_row6_col11\" class=\"data row6 col11\" >0.409098</td>\n",
       "    </tr>\n",
       "    <tr>\n",
       "      <th id=\"T_ab756_level0_row7\" class=\"row_heading level0 row7\" >campaign</th>\n",
       "      <td id=\"T_ab756_row7_col0\" class=\"data row7 col0\" >0.269439</td>\n",
       "      <td id=\"T_ab756_row7_col1\" class=\"data row7 col1\" >0.473876</td>\n",
       "      <td id=\"T_ab756_row7_col2\" class=\"data row7 col2\" >0.674339</td>\n",
       "      <td id=\"T_ab756_row7_col3\" class=\"data row7 col3\" >-0.038591</td>\n",
       "      <td id=\"T_ab756_row7_col4\" class=\"data row7 col4\" >0.192926</td>\n",
       "      <td id=\"T_ab756_row7_col5\" class=\"data row7 col5\" >-0.321816</td>\n",
       "      <td id=\"T_ab756_row7_col6\" class=\"data row7 col6\" >0.630944</td>\n",
       "      <td id=\"T_ab756_row7_col7\" class=\"data row7 col7\" >1.000000</td>\n",
       "      <td id=\"T_ab756_row7_col8\" class=\"data row7 col8\" >0.519469</td>\n",
       "      <td id=\"T_ab756_row7_col9\" class=\"data row7 col9\" >0.689211</td>\n",
       "      <td id=\"T_ab756_row7_col10\" class=\"data row7 col10\" >-0.019404</td>\n",
       "      <td id=\"T_ab756_row7_col11\" class=\"data row7 col11\" >0.383583</td>\n",
       "    </tr>\n",
       "    <tr>\n",
       "      <th id=\"T_ab756_level0_row8\" class=\"row_heading level0 row8\" >pdays</th>\n",
       "      <td id=\"T_ab756_row8_col0\" class=\"data row8 col0\" >0.199507</td>\n",
       "      <td id=\"T_ab756_row8_col1\" class=\"data row8 col1\" >0.376927</td>\n",
       "      <td id=\"T_ab756_row8_col2\" class=\"data row8 col2\" >0.562097</td>\n",
       "      <td id=\"T_ab756_row8_col3\" class=\"data row8 col3\" >0.047196</td>\n",
       "      <td id=\"T_ab756_row8_col4\" class=\"data row8 col4\" >0.155936</td>\n",
       "      <td id=\"T_ab756_row8_col5\" class=\"data row8 col5\" >-0.263777</td>\n",
       "      <td id=\"T_ab756_row8_col6\" class=\"data row8 col6\" >0.527020</td>\n",
       "      <td id=\"T_ab756_row8_col7\" class=\"data row8 col7\" >0.519469</td>\n",
       "      <td id=\"T_ab756_row8_col8\" class=\"data row8 col8\" >1.000000</td>\n",
       "      <td id=\"T_ab756_row8_col9\" class=\"data row8 col9\" >0.586175</td>\n",
       "      <td id=\"T_ab756_row8_col10\" class=\"data row8 col10\" >0.011179</td>\n",
       "      <td id=\"T_ab756_row8_col11\" class=\"data row8 col11\" >0.790415</td>\n",
       "    </tr>\n",
       "    <tr>\n",
       "      <th id=\"T_ab756_level0_row9\" class=\"row_heading level0 row9\" >previous</th>\n",
       "      <td id=\"T_ab756_row9_col0\" class=\"data row9 col0\" >0.277487</td>\n",
       "      <td id=\"T_ab756_row9_col1\" class=\"data row9 col1\" >0.493975</td>\n",
       "      <td id=\"T_ab756_row9_col2\" class=\"data row9 col2\" >0.716816</td>\n",
       "      <td id=\"T_ab756_row9_col3\" class=\"data row9 col3\" >-0.027160</td>\n",
       "      <td id=\"T_ab756_row9_col4\" class=\"data row9 col4\" >0.206297</td>\n",
       "      <td id=\"T_ab756_row9_col5\" class=\"data row9 col5\" >-0.327367</td>\n",
       "      <td id=\"T_ab756_row9_col6\" class=\"data row9 col6\" >0.683951</td>\n",
       "      <td id=\"T_ab756_row9_col7\" class=\"data row9 col7\" >0.689211</td>\n",
       "      <td id=\"T_ab756_row9_col8\" class=\"data row9 col8\" >0.586175</td>\n",
       "      <td id=\"T_ab756_row9_col9\" class=\"data row9 col9\" >1.000000</td>\n",
       "      <td id=\"T_ab756_row9_col10\" class=\"data row9 col10\" >-0.008936</td>\n",
       "      <td id=\"T_ab756_row9_col11\" class=\"data row9 col11\" >0.465256</td>\n",
       "    </tr>\n",
       "    <tr>\n",
       "      <th id=\"T_ab756_level0_row10\" class=\"row_heading level0 row10\" >isSunday</th>\n",
       "      <td id=\"T_ab756_row10_col0\" class=\"data row10 col0\" >-0.006852</td>\n",
       "      <td id=\"T_ab756_row10_col1\" class=\"data row10 col1\" >-0.014106</td>\n",
       "      <td id=\"T_ab756_row10_col2\" class=\"data row10 col2\" >-0.013649</td>\n",
       "      <td id=\"T_ab756_row10_col3\" class=\"data row10 col3\" >0.004708</td>\n",
       "      <td id=\"T_ab756_row10_col4\" class=\"data row10 col4\" >0.003285</td>\n",
       "      <td id=\"T_ab756_row10_col5\" class=\"data row10 col5\" >-0.006494</td>\n",
       "      <td id=\"T_ab756_row10_col6\" class=\"data row10 col6\" >-0.007808</td>\n",
       "      <td id=\"T_ab756_row10_col7\" class=\"data row10 col7\" >-0.019404</td>\n",
       "      <td id=\"T_ab756_row10_col8\" class=\"data row10 col8\" >0.011179</td>\n",
       "      <td id=\"T_ab756_row10_col9\" class=\"data row10 col9\" >-0.008936</td>\n",
       "      <td id=\"T_ab756_row10_col10\" class=\"data row10 col10\" >1.000000</td>\n",
       "      <td id=\"T_ab756_row10_col11\" class=\"data row10 col11\" >0.027176</td>\n",
       "    </tr>\n",
       "    <tr>\n",
       "      <th id=\"T_ab756_level0_row11\" class=\"row_heading level0 row11\" >previously_contacted</th>\n",
       "      <td id=\"T_ab756_row11_col0\" class=\"data row11 col0\" >0.166414</td>\n",
       "      <td id=\"T_ab756_row11_col1\" class=\"data row11 col1\" >0.279765</td>\n",
       "      <td id=\"T_ab756_row11_col2\" class=\"data row11 col2\" >0.437320</td>\n",
       "      <td id=\"T_ab756_row11_col3\" class=\"data row11 col3\" >0.034108</td>\n",
       "      <td id=\"T_ab756_row11_col4\" class=\"data row11 col4\" >0.100025</td>\n",
       "      <td id=\"T_ab756_row11_col5\" class=\"data row11 col5\" >-0.212268</td>\n",
       "      <td id=\"T_ab756_row11_col6\" class=\"data row11 col6\" >0.409098</td>\n",
       "      <td id=\"T_ab756_row11_col7\" class=\"data row11 col7\" >0.383583</td>\n",
       "      <td id=\"T_ab756_row11_col8\" class=\"data row11 col8\" >0.790415</td>\n",
       "      <td id=\"T_ab756_row11_col9\" class=\"data row11 col9\" >0.465256</td>\n",
       "      <td id=\"T_ab756_row11_col10\" class=\"data row11 col10\" >0.027176</td>\n",
       "      <td id=\"T_ab756_row11_col11\" class=\"data row11 col11\" >1.000000</td>\n",
       "    </tr>\n",
       "  </tbody>\n",
       "</table>\n"
      ],
      "text/plain": [
       "<pandas.io.formats.style.Styler at 0x79767643d7b0>"
      ]
     },
     "execution_count": 31,
     "metadata": {},
     "output_type": "execute_result"
    }
   ],
   "source": [
    "corr = train.select_dtypes(include=['int64', 'float64']).corr()\n",
    "corr.style.background_gradient(cmap='coolwarm')"
   ]
  },
  {
   "cell_type": "markdown",
   "id": "4d2b3fe4",
   "metadata": {
    "papermill": {
     "duration": 0.03328,
     "end_time": "2024-10-14T17:30:40.850515",
     "exception": false,
     "start_time": "2024-10-14T17:30:40.817235",
     "status": "completed"
    },
    "tags": []
   },
   "source": [
    "# Converted the (0,1) ===> (no,yes)\n",
    "# chose the features\n"
   ]
  },
  {
   "cell_type": "code",
   "execution_count": 32,
   "id": "09f2243c",
   "metadata": {
    "execution": {
     "iopub.execute_input": "2024-10-14T17:30:40.923088Z",
     "iopub.status.busy": "2024-10-14T17:30:40.922326Z",
     "iopub.status.idle": "2024-10-14T17:30:40.956594Z",
     "shell.execute_reply": "2024-10-14T17:30:40.955253Z"
    },
    "papermill": {
     "duration": 0.074336,
     "end_time": "2024-10-14T17:30:40.959721",
     "exception": false,
     "start_time": "2024-10-14T17:30:40.885385",
     "status": "completed"
    },
    "tags": []
   },
   "outputs": [],
   "source": [
    "train['target'] = train['target'].map({'yes': 1, 'no': 0})\n",
    "y=train['target']\n",
    "\n",
    "         \n",
    "\n",
    "train=train[['age','pdays','previous','campaign' ,'job','marital','poutcome' ,'education','previously_contacted','Age_Category' ,'default','loan','balance','housing','contact','duration','day','month','isSunday' ]]\n",
    "\n",
    "\n",
    "\n",
    "\n",
    "test=test[['age','pdays','previous','campaign' ,'job','marital','poutcome' ,'education','previously_contacted','Age_Category' ,'default','loan','balance','housing','contact','duration','day' ,'month','isSunday']]\n"
   ]
  },
  {
   "cell_type": "code",
   "execution_count": null,
   "id": "1d5df086",
   "metadata": {
    "papermill": {
     "duration": 0.035123,
     "end_time": "2024-10-14T17:30:41.029182",
     "exception": false,
     "start_time": "2024-10-14T17:30:40.994059",
     "status": "completed"
    },
    "tags": []
   },
   "outputs": [],
   "source": []
  },
  {
   "cell_type": "code",
   "execution_count": 33,
   "id": "8fc1ecbc",
   "metadata": {
    "execution": {
     "iopub.execute_input": "2024-10-14T17:30:41.099638Z",
     "iopub.status.busy": "2024-10-14T17:30:41.099066Z",
     "iopub.status.idle": "2024-10-14T17:30:41.109459Z",
     "shell.execute_reply": "2024-10-14T17:30:41.107476Z"
    },
    "papermill": {
     "duration": 0.049185,
     "end_time": "2024-10-14T17:30:41.112775",
     "exception": false,
     "start_time": "2024-10-14T17:30:41.063590",
     "status": "completed"
    },
    "tags": []
   },
   "outputs": [
    {
     "name": "stdout",
     "output_type": "stream",
     "text": [
      "target\n",
      "0    33384\n",
      "1     5827\n",
      "Name: count, dtype: int64\n"
     ]
    }
   ],
   "source": [
    "print(y.value_counts())"
   ]
  },
  {
   "cell_type": "markdown",
   "id": "0da92830",
   "metadata": {
    "papermill": {
     "duration": 0.032995,
     "end_time": "2024-10-14T17:30:41.182393",
     "exception": false,
     "start_time": "2024-10-14T17:30:41.149398",
     "status": "completed"
    },
    "tags": []
   },
   "source": [
    "# train test split"
   ]
  },
  {
   "cell_type": "markdown",
   "id": "db3ad2bf",
   "metadata": {
    "papermill": {
     "duration": 0.032742,
     "end_time": "2024-10-14T17:30:41.246741",
     "exception": false,
     "start_time": "2024-10-14T17:30:41.213999",
     "status": "completed"
    },
    "tags": []
   },
   "source": [
    "# Got the xtrain and xtemp .....xtemp will be used for furhter splitting into xval and xtest"
   ]
  },
  {
   "cell_type": "code",
   "execution_count": 34,
   "id": "51415717",
   "metadata": {
    "execution": {
     "iopub.execute_input": "2024-10-14T17:30:41.313050Z",
     "iopub.status.busy": "2024-10-14T17:30:41.312612Z",
     "iopub.status.idle": "2024-10-14T17:30:41.368116Z",
     "shell.execute_reply": "2024-10-14T17:30:41.366311Z"
    },
    "papermill": {
     "duration": 0.092559,
     "end_time": "2024-10-14T17:30:41.371060",
     "exception": false,
     "start_time": "2024-10-14T17:30:41.278501",
     "status": "completed"
    },
    "tags": []
   },
   "outputs": [
    {
     "name": "stdout",
     "output_type": "stream",
     "text": [
      "xtrain, ytrain shape ((23526, 19), (23526,))\n",
      "xtest, ytest shape ((15685, 19), (15685,))\n"
     ]
    }
   ],
   "source": [
    "from sklearn.model_selection import train_test_split\n",
    "\n",
    "from sklearn.pipeline import Pipeline\n",
    "from sklearn.metrics import f1_score\n",
    "\n",
    "\n",
    "xtrain , xtest , ytrain , ytest = train_test_split(train , y ,test_size=0.4, random_state=1 , shuffle=True , stratify=y)\n",
    "\n",
    "# xval , xtest , yval , ytest = train_test_split(xtemp , ytemp ,test_size=0.5, random_state=1 , shuffle=True , stratify=ytemp)\n",
    "\n",
    "\n",
    "print(\"xtrain, ytrain shape\" , (xtrain.shape , ytrain.shape))\n",
    "# print(\"xval, yval shape\" , (xval.shape, yval.shape))\n",
    "print(\"xtest, ytest shape\" , (xtest.shape , ytest.shape))\n",
    "\n"
   ]
  },
  {
   "cell_type": "code",
   "execution_count": 35,
   "id": "8ea10a20",
   "metadata": {
    "execution": {
     "iopub.execute_input": "2024-10-14T17:30:41.436062Z",
     "iopub.status.busy": "2024-10-14T17:30:41.435615Z",
     "iopub.status.idle": "2024-10-14T17:30:41.443535Z",
     "shell.execute_reply": "2024-10-14T17:30:41.442368Z"
    },
    "papermill": {
     "duration": 0.043202,
     "end_time": "2024-10-14T17:30:41.446109",
     "exception": false,
     "start_time": "2024-10-14T17:30:41.402907",
     "status": "completed"
    },
    "tags": []
   },
   "outputs": [
    {
     "data": {
      "text/plain": [
       "(39211, 19)"
      ]
     },
     "execution_count": 35,
     "metadata": {},
     "output_type": "execute_result"
    }
   ],
   "source": [
    "train.shape\n"
   ]
  },
  {
   "cell_type": "code",
   "execution_count": 36,
   "id": "46c847fc",
   "metadata": {
    "execution": {
     "iopub.execute_input": "2024-10-14T17:30:41.510225Z",
     "iopub.status.busy": "2024-10-14T17:30:41.509803Z",
     "iopub.status.idle": "2024-10-14T17:30:41.519968Z",
     "shell.execute_reply": "2024-10-14T17:30:41.518744Z"
    },
    "papermill": {
     "duration": 0.045462,
     "end_time": "2024-10-14T17:30:41.522831",
     "exception": false,
     "start_time": "2024-10-14T17:30:41.477369",
     "status": "completed"
    },
    "tags": []
   },
   "outputs": [
    {
     "data": {
      "text/plain": [
       "target\n",
       "0    20030\n",
       "1     3496\n",
       "Name: count, dtype: int64"
      ]
     },
     "execution_count": 36,
     "metadata": {},
     "output_type": "execute_result"
    }
   ],
   "source": [
    "ytrain.value_counts()"
   ]
  },
  {
   "cell_type": "code",
   "execution_count": 37,
   "id": "f06dc370",
   "metadata": {
    "execution": {
     "iopub.execute_input": "2024-10-14T17:30:41.591765Z",
     "iopub.status.busy": "2024-10-14T17:30:41.591303Z",
     "iopub.status.idle": "2024-10-14T17:30:41.693331Z",
     "shell.execute_reply": "2024-10-14T17:30:41.692030Z"
    },
    "papermill": {
     "duration": 0.139813,
     "end_time": "2024-10-14T17:30:41.697160",
     "exception": false,
     "start_time": "2024-10-14T17:30:41.557347",
     "status": "completed"
    },
    "tags": []
   },
   "outputs": [],
   "source": [
    "xtrain=col_transformer.fit_transform(xtrain)\n",
    "\n"
   ]
  },
  {
   "cell_type": "code",
   "execution_count": 38,
   "id": "0e2896ca",
   "metadata": {
    "execution": {
     "iopub.execute_input": "2024-10-14T17:30:41.764171Z",
     "iopub.status.busy": "2024-10-14T17:30:41.763714Z",
     "iopub.status.idle": "2024-10-14T17:30:47.808953Z",
     "shell.execute_reply": "2024-10-14T17:30:47.807623Z"
    },
    "papermill": {
     "duration": 6.08317,
     "end_time": "2024-10-14T17:30:47.811691",
     "exception": false,
     "start_time": "2024-10-14T17:30:41.728521",
     "status": "completed"
    },
    "tags": []
   },
   "outputs": [
    {
     "name": "stdout",
     "output_type": "stream",
     "text": [
      "After SMOTE: target\n",
      "0    19944\n",
      "1    19944\n",
      "Name: count, dtype: int64\n"
     ]
    }
   ],
   "source": [
    "from imblearn.over_sampling import SMOTE\n",
    "from imblearn.combine import SMOTETomek\n",
    "# sampling_strategy=1.0,\n",
    "smote= SMOTETomek( random_state=42)\n",
    "\n",
    "xtrain, ytrain = smote.fit_resample(xtrain, ytrain)\n",
    "\n",
    "print(\"After SMOTE:\", ytrain.value_counts())"
   ]
  },
  {
   "cell_type": "code",
   "execution_count": 39,
   "id": "c50026d2",
   "metadata": {
    "execution": {
     "iopub.execute_input": "2024-10-14T17:30:47.879973Z",
     "iopub.status.busy": "2024-10-14T17:30:47.878594Z",
     "iopub.status.idle": "2024-10-14T17:30:47.935068Z",
     "shell.execute_reply": "2024-10-14T17:30:47.933748Z"
    },
    "papermill": {
     "duration": 0.09372,
     "end_time": "2024-10-14T17:30:47.937926",
     "exception": false,
     "start_time": "2024-10-14T17:30:47.844206",
     "status": "completed"
    },
    "tags": []
   },
   "outputs": [],
   "source": [
    "xtest=col_transformer.transform(xtest)\n"
   ]
  },
  {
   "cell_type": "code",
   "execution_count": 40,
   "id": "96d68e02",
   "metadata": {
    "execution": {
     "iopub.execute_input": "2024-10-14T17:30:48.003759Z",
     "iopub.status.busy": "2024-10-14T17:30:48.003034Z",
     "iopub.status.idle": "2024-10-14T17:30:48.010125Z",
     "shell.execute_reply": "2024-10-14T17:30:48.008739Z"
    },
    "papermill": {
     "duration": 0.044448,
     "end_time": "2024-10-14T17:30:48.013224",
     "exception": false,
     "start_time": "2024-10-14T17:30:47.968776",
     "status": "completed"
    },
    "tags": []
   },
   "outputs": [],
   "source": [
    "from sklearn.decomposition import PCA"
   ]
  },
  {
   "cell_type": "code",
   "execution_count": 41,
   "id": "dbb49d84",
   "metadata": {
    "execution": {
     "iopub.execute_input": "2024-10-14T17:30:48.080304Z",
     "iopub.status.busy": "2024-10-14T17:30:48.079838Z",
     "iopub.status.idle": "2024-10-14T17:30:48.090218Z",
     "shell.execute_reply": "2024-10-14T17:30:48.088837Z"
    },
    "papermill": {
     "duration": 0.047855,
     "end_time": "2024-10-14T17:30:48.093632",
     "exception": false,
     "start_time": "2024-10-14T17:30:48.045777",
     "status": "completed"
    },
    "tags": []
   },
   "outputs": [
    {
     "data": {
      "text/plain": [
       "(39888, 48)"
      ]
     },
     "execution_count": 41,
     "metadata": {},
     "output_type": "execute_result"
    }
   ],
   "source": [
    "xtrain.shape"
   ]
  },
  {
   "cell_type": "code",
   "execution_count": 42,
   "id": "5546df2c",
   "metadata": {
    "execution": {
     "iopub.execute_input": "2024-10-14T17:30:48.164551Z",
     "iopub.status.busy": "2024-10-14T17:30:48.164071Z",
     "iopub.status.idle": "2024-10-14T17:30:48.172576Z",
     "shell.execute_reply": "2024-10-14T17:30:48.171156Z"
    },
    "papermill": {
     "duration": 0.047446,
     "end_time": "2024-10-14T17:30:48.175250",
     "exception": false,
     "start_time": "2024-10-14T17:30:48.127804",
     "status": "completed"
    },
    "tags": []
   },
   "outputs": [
    {
     "data": {
      "text/plain": [
       "(39888,)"
      ]
     },
     "execution_count": 42,
     "metadata": {},
     "output_type": "execute_result"
    }
   ],
   "source": [
    "ytrain.shape"
   ]
  },
  {
   "cell_type": "code",
   "execution_count": 43,
   "id": "557a0665",
   "metadata": {
    "execution": {
     "iopub.execute_input": "2024-10-14T17:30:48.240973Z",
     "iopub.status.busy": "2024-10-14T17:30:48.240523Z",
     "iopub.status.idle": "2024-10-14T17:30:48.246043Z",
     "shell.execute_reply": "2024-10-14T17:30:48.244751Z"
    },
    "papermill": {
     "duration": 0.041554,
     "end_time": "2024-10-14T17:30:48.248516",
     "exception": false,
     "start_time": "2024-10-14T17:30:48.206962",
     "status": "completed"
    },
    "tags": []
   },
   "outputs": [],
   "source": [
    "from sklearn.metrics import classification_report , confusion_matrix , ConfusionMatrixDisplay\n",
    "\n",
    "\n"
   ]
  },
  {
   "cell_type": "code",
   "execution_count": 44,
   "id": "01dae80d",
   "metadata": {
    "execution": {
     "iopub.execute_input": "2024-10-14T17:30:48.314161Z",
     "iopub.status.busy": "2024-10-14T17:30:48.313724Z",
     "iopub.status.idle": "2024-10-14T17:30:48.324089Z",
     "shell.execute_reply": "2024-10-14T17:30:48.322861Z"
    },
    "papermill": {
     "duration": 0.046312,
     "end_time": "2024-10-14T17:30:48.326717",
     "exception": false,
     "start_time": "2024-10-14T17:30:48.280405",
     "status": "completed"
    },
    "tags": []
   },
   "outputs": [
    {
     "data": {
      "text/plain": [
       "target\n",
       "0    19944\n",
       "1    19944\n",
       "Name: count, dtype: int64"
      ]
     },
     "execution_count": 44,
     "metadata": {},
     "output_type": "execute_result"
    }
   ],
   "source": [
    "ytrain.value_counts()"
   ]
  },
  {
   "cell_type": "code",
   "execution_count": 45,
   "id": "d4efefd2",
   "metadata": {
    "execution": {
     "iopub.execute_input": "2024-10-14T17:30:48.392358Z",
     "iopub.status.busy": "2024-10-14T17:30:48.391958Z",
     "iopub.status.idle": "2024-10-14T17:30:53.420779Z",
     "shell.execute_reply": "2024-10-14T17:30:53.419341Z"
    },
    "papermill": {
     "duration": 5.064871,
     "end_time": "2024-10-14T17:30:53.423392",
     "exception": false,
     "start_time": "2024-10-14T17:30:48.358521",
     "status": "completed"
    },
    "tags": []
   },
   "outputs": [
    {
     "name": "stdout",
     "output_type": "stream",
     "text": [
      "randomForestClassifier Score 0.8587185208798215\n",
      "randomForestClassifier f1_score  0.8682377741179595\n",
      "Classification Report\n",
      "              precision    recall  f1-score   support\n",
      "\n",
      "           0       0.95      0.88      0.91     13354\n",
      "           1       0.52      0.73      0.61      2331\n",
      "\n",
      "    accuracy                           0.86     15685\n",
      "   macro avg       0.73      0.81      0.76     15685\n",
      "weighted avg       0.89      0.86      0.87     15685\n",
      "\n",
      "Confusion Matrix\n"
     ]
    },
    {
     "data": {
      "text/plain": [
       "<sklearn.metrics._plot.confusion_matrix.ConfusionMatrixDisplay at 0x79767790e950>"
      ]
     },
     "execution_count": 45,
     "metadata": {},
     "output_type": "execute_result"
    },
    {
     "data": {
      "image/png": "[encoded data removed]",
      "text/plain": [
       "<Figure size 640x480 with 2 Axes>"
      ]
     },
     "metadata": {},
     "output_type": "display_data"
    }
   ],
   "source": [
    "from sklearn.ensemble import RandomForestClassifier\n",
    "\n",
    "# randomForestClassifier=Pipeline([('col_transformer',col_transformer),('randomForest',RandomForestClassifier(random_state=1))])\n",
    "randomForestClassifier=RandomForestClassifier(random_state=1 , n_estimators=200, max_depth=10,class_weight='balanced' , min_samples_split=3 , min_samples_leaf=3  , n_jobs=-1)\n",
    "# randomForestClassifier=Pipeline([('col_transformer',col_transformer),('randomForest',rf)])\n",
    "\n",
    "randomForestClassifier.fit(xtrain, ytrain)\n",
    "\n",
    "ypredicted_rf=randomForestClassifier.predict(xtest)\n",
    "\n",
    "print(   'randomForestClassifier Score'   ,  randomForestClassifier.score(xtest,ytest)  )\n",
    "\n",
    "\n",
    "print(   'randomForestClassifier f1_score '  ,     f1_score(ytest, ypredicted_rf  , average='weighted')    )\n",
    "\n",
    "print('Classification Report')\n",
    "\n",
    "print(classification_report(ytest ,ypredicted_rf))\n",
    "\n",
    "print('Confusion Matrix')\n",
    "\n",
    "ConfusionMatrixDisplay.from_estimator(randomForestClassifier,xtest,ytest)\n"
   ]
  },
  {
   "cell_type": "code",
   "execution_count": 46,
   "id": "890d6b7d",
   "metadata": {
    "execution": {
     "iopub.execute_input": "2024-10-14T17:30:53.494998Z",
     "iopub.status.busy": "2024-10-14T17:30:53.494530Z",
     "iopub.status.idle": "2024-10-14T17:30:53.528959Z",
     "shell.execute_reply": "2024-10-14T17:30:53.527731Z"
    },
    "papermill": {
     "duration": 0.07386,
     "end_time": "2024-10-14T17:30:53.531925",
     "exception": false,
     "start_time": "2024-10-14T17:30:53.458065",
     "status": "completed"
    },
    "tags": []
   },
   "outputs": [],
   "source": [
    "\n",
    "test=col_transformer.transform(test)"
   ]
  },
  {
   "cell_type": "code",
   "execution_count": 47,
   "id": "421e9534",
   "metadata": {
    "execution": {
     "iopub.execute_input": "2024-10-14T17:30:53.600940Z",
     "iopub.status.busy": "2024-10-14T17:30:53.600468Z",
     "iopub.status.idle": "2024-10-14T17:30:53.757232Z",
     "shell.execute_reply": "2024-10-14T17:30:53.756138Z"
    },
    "papermill": {
     "duration": 0.194166,
     "end_time": "2024-10-14T17:30:53.760316",
     "exception": false,
     "start_time": "2024-10-14T17:30:53.566150",
     "status": "completed"
    },
    "tags": []
   },
   "outputs": [],
   "source": [
    "y_pred_submission=randomForestClassifier.predict(test)\n",
    "ypred_submission_final = pd.Series(y_pred_submission).replace({0: 'no', 1: 'yes'})\n",
    "\n",
    "submission=pd.DataFrame({'id': np.arange(0,len(test)), 'target': ypred_submission_final})\n",
    "\n",
    "submission.to_csv('submission.csv',index=False)"
   ]
  },
  {
   "cell_type": "code",
   "execution_count": null,
   "id": "118134ae",
   "metadata": {
    "papermill": {
     "duration": 0.032741,
     "end_time": "2024-10-14T17:30:53.827319",
     "exception": false,
     "start_time": "2024-10-14T17:30:53.794578",
     "status": "completed"
    },
    "tags": []
   },
   "outputs": [],
   "source": []
  },
  {
   "cell_type": "code",
   "execution_count": null,
   "id": "33b3cca4",
   "metadata": {
    "papermill": {
     "duration": 0.032706,
     "end_time": "2024-10-14T17:30:53.892690",
     "exception": false,
     "start_time": "2024-10-14T17:30:53.859984",
     "status": "completed"
    },
    "tags": []
   },
   "outputs": [],
   "source": []
  },
  {
   "cell_type": "code",
   "execution_count": null,
   "id": "ce52dd55",
   "metadata": {
    "papermill": {
     "duration": 0.032158,
     "end_time": "2024-10-14T17:30:53.956952",
     "exception": false,
     "start_time": "2024-10-14T17:30:53.924794",
     "status": "completed"
    },
    "tags": []
   },
   "outputs": [],
   "source": []
  },
  {
   "cell_type": "code",
   "execution_count": null,
   "id": "0d6f1fcf",
   "metadata": {
    "papermill": {
     "duration": 0.031756,
     "end_time": "2024-10-14T17:30:54.021574",
     "exception": false,
     "start_time": "2024-10-14T17:30:53.989818",
     "status": "completed"
    },
    "tags": []
   },
   "outputs": [],
   "source": []
  },
  {
   "cell_type": "code",
   "execution_count": null,
   "id": "573b65eb",
   "metadata": {
    "papermill": {
     "duration": 0.032869,
     "end_time": "2024-10-14T17:30:54.092982",
     "exception": false,
     "start_time": "2024-10-14T17:30:54.060113",
     "status": "completed"
    },
    "tags": []
   },
   "outputs": [],
   "source": []
  },
  {
   "cell_type": "code",
   "execution_count": null,
   "id": "d6838b27",
   "metadata": {
    "papermill": {
     "duration": 0.037286,
     "end_time": "2024-10-14T17:30:54.163493",
     "exception": false,
     "start_time": "2024-10-14T17:30:54.126207",
     "status": "completed"
    },
    "tags": []
   },
   "outputs": [],
   "source": []
  },
  {
   "cell_type": "code",
   "execution_count": null,
   "id": "3cd54bd1",
   "metadata": {
    "papermill": {
     "duration": 0.041384,
     "end_time": "2024-10-14T17:30:54.251267",
     "exception": false,
     "start_time": "2024-10-14T17:30:54.209883",
     "status": "completed"
    },
    "tags": []
   },
   "outputs": [],
   "source": []
  }
 ],
 "metadata": {
  "kaggle": {
   "accelerator": "none",
   "dataSources": [
    {
     "databundleVersionId": 9578279,
     "sourceId": 85062,
     "sourceType": "competition"
    }
   ],
   "dockerImageVersionId": 30761,
   "isGpuEnabled": false,
   "isInternetEnabled": true,
   "language": "python",
   "sourceType": "notebook"
  },
  "kernelspec": {
   "display_name": "Python 3",
   "language": "python",
   "name": "python3"
  },
  "language_info": {
   "codemirror_mode": {
    "name": "ipython",
    "version": 3
   },
   "file_extension": ".py",
   "mimetype": "text/x-python",
   "name": "python",
   "nbconvert_exporter": "python",
   "pygments_lexer": "ipython3",
   "version": "3.10.14"
  },
  "papermill": {
   "default_parameters": {},
   "duration": 28.526022,
   "end_time": "2024-10-14T17:30:55.007061",
   "environment_variables": {},
   "exception": null,
   "input_path": "__notebook__.ipynb",
   "output_path": "__notebook__.ipynb",
   "parameters": {},
   "start_time": "2024-10-14T17:30:26.481039",
   "version": "2.6.0"
  }
 },
 "nbformat": 4,
 "nbformat_minor": 5
}
